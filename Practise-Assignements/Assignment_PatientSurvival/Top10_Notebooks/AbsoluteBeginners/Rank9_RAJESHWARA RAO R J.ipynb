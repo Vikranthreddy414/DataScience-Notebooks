{
  "nbformat": 4,
  "nbformat_minor": 0,
  "metadata": {
    "colab": {
      "name": "survival.ipynb",
      "provenance": [],
      "collapsed_sections": []
    },
    "kernelspec": {
      "name": "python3",
      "display_name": "Python 3"
    }
  },
  "cells": [
    {
      "cell_type": "code",
      "metadata": {
        "id": "CLaGX-nMPbmI",
        "colab_type": "code",
        "colab": {
          "base_uri": "https://localhost:8080/",
          "height": 74
        },
        "outputId": "c36a16db-a36d-4758-abed-5a542d49476f"
      },
      "source": [
        "import numpy as np\n",
        "import pandas as pd\n",
        "import matplotlib.pyplot as plt\n",
        "import seaborn as sns\n",
        "import warnings\n",
        "warnings.filterwarnings('ignore')"
      ],
      "execution_count": null,
      "outputs": [
        {
          "output_type": "stream",
          "text": [
            "/usr/local/lib/python3.6/dist-packages/statsmodels/tools/_testing.py:19: FutureWarning: pandas.util.testing is deprecated. Use the functions in the public API at pandas.testing instead.\n",
            "  import pandas.util.testing as tm\n"
          ],
          "name": "stderr"
        }
      ]
    },
    {
      "cell_type": "code",
      "metadata": {
        "id": "zS8GodZCPrPP",
        "colab_type": "code",
        "colab": {}
      },
      "source": [
        "pharma_data = pd.read_csv('https://raw.githubusercontent.com/dphi-official/Datasets/master/pharma_data/Training_set_begs.csv')"
      ],
      "execution_count": null,
      "outputs": []
    },
    {
      "cell_type": "code",
      "metadata": {
        "id": "YolwMfJiQDaL",
        "colab_type": "code",
        "colab": {
          "base_uri": "https://localhost:8080/",
          "height": 226
        },
        "outputId": "b99bafad-fc42-4eb7-a518-f9e06411f214"
      },
      "source": [
        "pharma_data.head()"
      ],
      "execution_count": null,
      "outputs": [
        {
          "output_type": "execute_result",
          "data": {
            "text/html": [
              "<div>\n",
              "<style scoped>\n",
              "    .dataframe tbody tr th:only-of-type {\n",
              "        vertical-align: middle;\n",
              "    }\n",
              "\n",
              "    .dataframe tbody tr th {\n",
              "        vertical-align: top;\n",
              "    }\n",
              "\n",
              "    .dataframe thead th {\n",
              "        text-align: right;\n",
              "    }\n",
              "</style>\n",
              "<table border=\"1\" class=\"dataframe\">\n",
              "  <thead>\n",
              "    <tr style=\"text-align: right;\">\n",
              "      <th></th>\n",
              "      <th>ID_Patient_Care_Situation</th>\n",
              "      <th>Diagnosed_Condition</th>\n",
              "      <th>Patient_ID</th>\n",
              "      <th>Treated_with_drugs</th>\n",
              "      <th>Patient_Age</th>\n",
              "      <th>Patient_Body_Mass_Index</th>\n",
              "      <th>Patient_Smoker</th>\n",
              "      <th>Patient_Rural_Urban</th>\n",
              "      <th>Patient_mental_condition</th>\n",
              "      <th>A</th>\n",
              "      <th>B</th>\n",
              "      <th>C</th>\n",
              "      <th>D</th>\n",
              "      <th>E</th>\n",
              "      <th>F</th>\n",
              "      <th>Z</th>\n",
              "      <th>Number_of_prev_cond</th>\n",
              "      <th>Survived_1_year</th>\n",
              "    </tr>\n",
              "  </thead>\n",
              "  <tbody>\n",
              "    <tr>\n",
              "      <th>0</th>\n",
              "      <td>22374</td>\n",
              "      <td>8</td>\n",
              "      <td>3333</td>\n",
              "      <td>DX6</td>\n",
              "      <td>56</td>\n",
              "      <td>18.479385</td>\n",
              "      <td>YES</td>\n",
              "      <td>URBAN</td>\n",
              "      <td>Stable</td>\n",
              "      <td>1.0</td>\n",
              "      <td>0.0</td>\n",
              "      <td>0.0</td>\n",
              "      <td>0.0</td>\n",
              "      <td>1.0</td>\n",
              "      <td>0.0</td>\n",
              "      <td>0.0</td>\n",
              "      <td>2.0</td>\n",
              "      <td>0</td>\n",
              "    </tr>\n",
              "    <tr>\n",
              "      <th>1</th>\n",
              "      <td>18164</td>\n",
              "      <td>5</td>\n",
              "      <td>5740</td>\n",
              "      <td>DX2</td>\n",
              "      <td>36</td>\n",
              "      <td>22.945566</td>\n",
              "      <td>YES</td>\n",
              "      <td>RURAL</td>\n",
              "      <td>Stable</td>\n",
              "      <td>1.0</td>\n",
              "      <td>0.0</td>\n",
              "      <td>0.0</td>\n",
              "      <td>0.0</td>\n",
              "      <td>0.0</td>\n",
              "      <td>0.0</td>\n",
              "      <td>0.0</td>\n",
              "      <td>1.0</td>\n",
              "      <td>1</td>\n",
              "    </tr>\n",
              "    <tr>\n",
              "      <th>2</th>\n",
              "      <td>6283</td>\n",
              "      <td>23</td>\n",
              "      <td>10446</td>\n",
              "      <td>DX6</td>\n",
              "      <td>48</td>\n",
              "      <td>27.510027</td>\n",
              "      <td>YES</td>\n",
              "      <td>RURAL</td>\n",
              "      <td>Stable</td>\n",
              "      <td>1.0</td>\n",
              "      <td>0.0</td>\n",
              "      <td>0.0</td>\n",
              "      <td>0.0</td>\n",
              "      <td>0.0</td>\n",
              "      <td>0.0</td>\n",
              "      <td>0.0</td>\n",
              "      <td>1.0</td>\n",
              "      <td>0</td>\n",
              "    </tr>\n",
              "    <tr>\n",
              "      <th>3</th>\n",
              "      <td>5339</td>\n",
              "      <td>51</td>\n",
              "      <td>12011</td>\n",
              "      <td>DX1</td>\n",
              "      <td>5</td>\n",
              "      <td>19.130976</td>\n",
              "      <td>NO</td>\n",
              "      <td>URBAN</td>\n",
              "      <td>Stable</td>\n",
              "      <td>1.0</td>\n",
              "      <td>0.0</td>\n",
              "      <td>0.0</td>\n",
              "      <td>0.0</td>\n",
              "      <td>0.0</td>\n",
              "      <td>0.0</td>\n",
              "      <td>0.0</td>\n",
              "      <td>1.0</td>\n",
              "      <td>1</td>\n",
              "    </tr>\n",
              "    <tr>\n",
              "      <th>4</th>\n",
              "      <td>33012</td>\n",
              "      <td>0</td>\n",
              "      <td>12513</td>\n",
              "      <td>NaN</td>\n",
              "      <td>128</td>\n",
              "      <td>1.348400</td>\n",
              "      <td>Cannot say</td>\n",
              "      <td>RURAL</td>\n",
              "      <td>Stable</td>\n",
              "      <td>0.0</td>\n",
              "      <td>0.0</td>\n",
              "      <td>0.0</td>\n",
              "      <td>0.0</td>\n",
              "      <td>0.0</td>\n",
              "      <td>0.0</td>\n",
              "      <td>1.0</td>\n",
              "      <td>1.0</td>\n",
              "      <td>1</td>\n",
              "    </tr>\n",
              "  </tbody>\n",
              "</table>\n",
              "</div>"
            ],
            "text/plain": [
              "   ID_Patient_Care_Situation  ...  Survived_1_year\n",
              "0                      22374  ...                0\n",
              "1                      18164  ...                1\n",
              "2                       6283  ...                0\n",
              "3                       5339  ...                1\n",
              "4                      33012  ...                1\n",
              "\n",
              "[5 rows x 18 columns]"
            ]
          },
          "metadata": {
            "tags": []
          },
          "execution_count": 5
        }
      ]
    },
    {
      "cell_type": "markdown",
      "metadata": {
        "id": "hqDTBI18QoT6",
        "colab_type": "text"
      },
      "source": [
        "**Data pre processing**\n",
        "1)checking null values and imputing them"
      ]
    },
    {
      "cell_type": "code",
      "metadata": {
        "id": "Lu_I3GJXQay5",
        "colab_type": "code",
        "colab": {
          "base_uri": "https://localhost:8080/",
          "height": 373
        },
        "outputId": "4c50fe0f-b07e-4a8f-8f5c-ebd02d353d19"
      },
      "source": [
        "pharma_data.isnull().sum()"
      ],
      "execution_count": null,
      "outputs": [
        {
          "output_type": "execute_result",
          "data": {
            "text/plain": [
              "ID_Patient_Care_Situation       0\n",
              "Diagnosed_Condition             0\n",
              "Patient_ID                      0\n",
              "Treated_with_drugs             13\n",
              "Patient_Age                     0\n",
              "Patient_Body_Mass_Index         0\n",
              "Patient_Smoker                  0\n",
              "Patient_Rural_Urban             0\n",
              "Patient_mental_condition        0\n",
              "A                            1235\n",
              "B                            1235\n",
              "C                            1235\n",
              "D                            1235\n",
              "E                            1235\n",
              "F                            1235\n",
              "Z                            1235\n",
              "Number_of_prev_cond          1235\n",
              "Survived_1_year                 0\n",
              "dtype: int64"
            ]
          },
          "metadata": {
            "tags": []
          },
          "execution_count": 6
        }
      ]
    },
    {
      "cell_type": "code",
      "metadata": {
        "id": "AynPY5x4S-mv",
        "colab_type": "code",
        "colab": {
          "base_uri": "https://localhost:8080/",
          "height": 320
        },
        "outputId": "477eb932-b05e-4e7c-bb6c-2b75ec2f51ab"
      },
      "source": [
        "pharma_data.describe()"
      ],
      "execution_count": null,
      "outputs": [
        {
          "output_type": "execute_result",
          "data": {
            "text/html": [
              "<div>\n",
              "<style scoped>\n",
              "    .dataframe tbody tr th:only-of-type {\n",
              "        vertical-align: middle;\n",
              "    }\n",
              "\n",
              "    .dataframe tbody tr th {\n",
              "        vertical-align: top;\n",
              "    }\n",
              "\n",
              "    .dataframe thead th {\n",
              "        text-align: right;\n",
              "    }\n",
              "</style>\n",
              "<table border=\"1\" class=\"dataframe\">\n",
              "  <thead>\n",
              "    <tr style=\"text-align: right;\">\n",
              "      <th></th>\n",
              "      <th>ID_Patient_Care_Situation</th>\n",
              "      <th>Diagnosed_Condition</th>\n",
              "      <th>Patient_ID</th>\n",
              "      <th>Patient_Age</th>\n",
              "      <th>Patient_Body_Mass_Index</th>\n",
              "      <th>A</th>\n",
              "      <th>B</th>\n",
              "      <th>C</th>\n",
              "      <th>D</th>\n",
              "      <th>E</th>\n",
              "      <th>F</th>\n",
              "      <th>Z</th>\n",
              "      <th>Number_of_prev_cond</th>\n",
              "      <th>Survived_1_year</th>\n",
              "    </tr>\n",
              "  </thead>\n",
              "  <tbody>\n",
              "    <tr>\n",
              "      <th>count</th>\n",
              "      <td>23097.000000</td>\n",
              "      <td>23097.000000</td>\n",
              "      <td>23097.000000</td>\n",
              "      <td>23097.000000</td>\n",
              "      <td>23097.000000</td>\n",
              "      <td>21862.000000</td>\n",
              "      <td>21862.000000</td>\n",
              "      <td>21862.000000</td>\n",
              "      <td>21862.000000</td>\n",
              "      <td>21862.000000</td>\n",
              "      <td>21862.000000</td>\n",
              "      <td>21862.000000</td>\n",
              "      <td>21862.000000</td>\n",
              "      <td>23097.000000</td>\n",
              "    </tr>\n",
              "    <tr>\n",
              "      <th>mean</th>\n",
              "      <td>16545.712041</td>\n",
              "      <td>26.413127</td>\n",
              "      <td>6261.280772</td>\n",
              "      <td>33.209768</td>\n",
              "      <td>23.454820</td>\n",
              "      <td>0.897905</td>\n",
              "      <td>0.136355</td>\n",
              "      <td>0.185070</td>\n",
              "      <td>0.083615</td>\n",
              "      <td>0.393239</td>\n",
              "      <td>0.053700</td>\n",
              "      <td>0.000595</td>\n",
              "      <td>1.750480</td>\n",
              "      <td>0.632247</td>\n",
              "    </tr>\n",
              "    <tr>\n",
              "      <th>std</th>\n",
              "      <td>9532.263503</td>\n",
              "      <td>15.030865</td>\n",
              "      <td>3595.990620</td>\n",
              "      <td>19.549882</td>\n",
              "      <td>3.807661</td>\n",
              "      <td>0.302780</td>\n",
              "      <td>0.343173</td>\n",
              "      <td>0.388363</td>\n",
              "      <td>0.276817</td>\n",
              "      <td>0.488480</td>\n",
              "      <td>0.225431</td>\n",
              "      <td>0.024379</td>\n",
              "      <td>0.770311</td>\n",
              "      <td>0.482204</td>\n",
              "    </tr>\n",
              "    <tr>\n",
              "      <th>min</th>\n",
              "      <td>2.000000</td>\n",
              "      <td>0.000000</td>\n",
              "      <td>1.000000</td>\n",
              "      <td>0.000000</td>\n",
              "      <td>1.089300</td>\n",
              "      <td>0.000000</td>\n",
              "      <td>0.000000</td>\n",
              "      <td>0.000000</td>\n",
              "      <td>0.000000</td>\n",
              "      <td>0.000000</td>\n",
              "      <td>0.000000</td>\n",
              "      <td>0.000000</td>\n",
              "      <td>1.000000</td>\n",
              "      <td>0.000000</td>\n",
              "    </tr>\n",
              "    <tr>\n",
              "      <th>25%</th>\n",
              "      <td>8280.000000</td>\n",
              "      <td>13.000000</td>\n",
              "      <td>3181.000000</td>\n",
              "      <td>16.000000</td>\n",
              "      <td>20.205550</td>\n",
              "      <td>1.000000</td>\n",
              "      <td>0.000000</td>\n",
              "      <td>0.000000</td>\n",
              "      <td>0.000000</td>\n",
              "      <td>0.000000</td>\n",
              "      <td>0.000000</td>\n",
              "      <td>0.000000</td>\n",
              "      <td>1.000000</td>\n",
              "      <td>0.000000</td>\n",
              "    </tr>\n",
              "    <tr>\n",
              "      <th>50%</th>\n",
              "      <td>16597.000000</td>\n",
              "      <td>26.000000</td>\n",
              "      <td>6242.000000</td>\n",
              "      <td>33.000000</td>\n",
              "      <td>23.386199</td>\n",
              "      <td>1.000000</td>\n",
              "      <td>0.000000</td>\n",
              "      <td>0.000000</td>\n",
              "      <td>0.000000</td>\n",
              "      <td>0.000000</td>\n",
              "      <td>0.000000</td>\n",
              "      <td>0.000000</td>\n",
              "      <td>2.000000</td>\n",
              "      <td>1.000000</td>\n",
              "    </tr>\n",
              "    <tr>\n",
              "      <th>75%</th>\n",
              "      <td>24825.000000</td>\n",
              "      <td>39.000000</td>\n",
              "      <td>9363.000000</td>\n",
              "      <td>50.000000</td>\n",
              "      <td>26.788154</td>\n",
              "      <td>1.000000</td>\n",
              "      <td>0.000000</td>\n",
              "      <td>0.000000</td>\n",
              "      <td>0.000000</td>\n",
              "      <td>1.000000</td>\n",
              "      <td>0.000000</td>\n",
              "      <td>0.000000</td>\n",
              "      <td>2.000000</td>\n",
              "      <td>1.000000</td>\n",
              "    </tr>\n",
              "    <tr>\n",
              "      <th>max</th>\n",
              "      <td>33014.000000</td>\n",
              "      <td>52.000000</td>\n",
              "      <td>12515.000000</td>\n",
              "      <td>149.000000</td>\n",
              "      <td>29.999579</td>\n",
              "      <td>1.000000</td>\n",
              "      <td>1.000000</td>\n",
              "      <td>1.000000</td>\n",
              "      <td>1.000000</td>\n",
              "      <td>1.000000</td>\n",
              "      <td>1.000000</td>\n",
              "      <td>1.000000</td>\n",
              "      <td>5.000000</td>\n",
              "      <td>1.000000</td>\n",
              "    </tr>\n",
              "  </tbody>\n",
              "</table>\n",
              "</div>"
            ],
            "text/plain": [
              "       ID_Patient_Care_Situation  ...  Survived_1_year\n",
              "count               23097.000000  ...     23097.000000\n",
              "mean                16545.712041  ...         0.632247\n",
              "std                  9532.263503  ...         0.482204\n",
              "min                     2.000000  ...         0.000000\n",
              "25%                  8280.000000  ...         0.000000\n",
              "50%                 16597.000000  ...         1.000000\n",
              "75%                 24825.000000  ...         1.000000\n",
              "max                 33014.000000  ...         1.000000\n",
              "\n",
              "[8 rows x 14 columns]"
            ]
          },
          "metadata": {
            "tags": []
          },
          "execution_count": 7
        }
      ]
    },
    {
      "cell_type": "markdown",
      "metadata": {
        "id": "lBQ13qbKQsQC",
        "colab_type": "text"
      },
      "source": [
        "imputing null values of 'Treated with Drugs' column with mode"
      ]
    },
    {
      "cell_type": "code",
      "metadata": {
        "id": "dMenFWNtSySS",
        "colab_type": "code",
        "colab": {
          "base_uri": "https://localhost:8080/",
          "height": 623
        },
        "outputId": "9a0db6db-91de-46db-8749-9c302ab8983a"
      },
      "source": [
        "pharma_data['Treated_with_drugs'].value_counts()"
      ],
      "execution_count": null,
      "outputs": [
        {
          "output_type": "execute_result",
          "data": {
            "text/plain": [
              "DX6                     8606\n",
              "DX5                     1909\n",
              "DX2                     1904\n",
              "DX1                     1835\n",
              "DX3                     1830\n",
              "DX4                     1792\n",
              "DX1 DX2                  448\n",
              "DX3 DX4                  448\n",
              "DX1 DX3                  424\n",
              "DX4 DX5                  423\n",
              "DX2 DX4                  419\n",
              "DX1 DX4                  408\n",
              "DX3 DX5                  407\n",
              "DX1 DX5                  402\n",
              "DX2 DX5                  400\n",
              "DX2 DX3                  398\n",
              "DX1 DX2 DX5              103\n",
              "DX1 DX3 DX5              101\n",
              "DX1 DX2 DX4               99\n",
              "DX3 DX4 DX5               96\n",
              "DX1 DX2 DX3               95\n",
              "DX2 DX3 DX5               91\n",
              "DX1 DX3 DX4               90\n",
              "DX2 DX3 DX4               87\n",
              "DX2 DX4 DX5               84\n",
              "DX1 DX4 DX5               80\n",
              "DX1 DX2 DX3 DX4           24\n",
              "DX1 DX3 DX4 DX5           24\n",
              "DX2 DX3 DX4 DX5           22\n",
              "DX1 DX2 DX4 DX5           18\n",
              "DX1 DX2 DX3 DX5           14\n",
              "DX1 DX2 DX3 DX4 DX5        3\n",
              "Name: Treated_with_drugs, dtype: int64"
            ]
          },
          "metadata": {
            "tags": []
          },
          "execution_count": 7
        }
      ]
    },
    {
      "cell_type": "code",
      "metadata": {
        "id": "yZgOtm08VBqs",
        "colab_type": "code",
        "colab": {}
      },
      "source": [
        "pharma_data['Treated_with_drugs'].fillna(\"DX6\",inplace=True)"
      ],
      "execution_count": null,
      "outputs": []
    },
    {
      "cell_type": "code",
      "metadata": {
        "id": "q0IFShJOVOAY",
        "colab_type": "code",
        "colab": {
          "base_uri": "https://localhost:8080/",
          "height": 542
        },
        "outputId": "a20e8f19-b2c7-4f43-ea10-5e2fe649ca01"
      },
      "source": [
        "for i in pharma_data.columns[9:16]:\n",
        "    v = pharma_data[i].value_counts()\n",
        "    print(\"Column name is:\",i,\"and it value is:\",v)\n",
        "    print()"
      ],
      "execution_count": null,
      "outputs": [
        {
          "output_type": "stream",
          "text": [
            "Column name is: A and it value is: 1.0    19630\n",
            "0.0     2232\n",
            "Name: A, dtype: int64\n",
            "\n",
            "Column name is: B and it value is: 0.0    18881\n",
            "1.0     2981\n",
            "Name: B, dtype: int64\n",
            "\n",
            "Column name is: C and it value is: 0.0    17816\n",
            "1.0     4046\n",
            "Name: C, dtype: int64\n",
            "\n",
            "Column name is: D and it value is: 0.0    20034\n",
            "1.0     1828\n",
            "Name: D, dtype: int64\n",
            "\n",
            "Column name is: E and it value is: 0.0    13265\n",
            "1.0     8597\n",
            "Name: E, dtype: int64\n",
            "\n",
            "Column name is: F and it value is: 0.0    20688\n",
            "1.0     1174\n",
            "Name: F, dtype: int64\n",
            "\n",
            "Column name is: Z and it value is: 0.0    21849\n",
            "1.0       13\n",
            "Name: Z, dtype: int64\n",
            "\n"
          ],
          "name": "stdout"
        }
      ]
    },
    {
      "cell_type": "code",
      "metadata": {
        "id": "h1SfhfbvWvU9",
        "colab_type": "code",
        "colab": {
          "base_uri": "https://localhost:8080/",
          "height": 148
        },
        "outputId": "0903d865-647f-471e-92d9-5ccd8ca4d98f"
      },
      "source": [
        "import statistics\n",
        "for i in pharma_data.columns[9:16]:\n",
        "    mod = statistics.mode(pharma_data[i])\n",
        "    pharma_data[i].fillna(mod,inplace=True)\n",
        "    print(\"Column name is:\",i,\"and it value is:\",mod)"
      ],
      "execution_count": null,
      "outputs": [
        {
          "output_type": "stream",
          "text": [
            "Column name is: A and it value is: 1.0\n",
            "Column name is: B and it value is: 0.0\n",
            "Column name is: C and it value is: 0.0\n",
            "Column name is: D and it value is: 0.0\n",
            "Column name is: E and it value is: 0.0\n",
            "Column name is: F and it value is: 0.0\n",
            "Column name is: Z and it value is: 0.0\n"
          ],
          "name": "stdout"
        }
      ]
    },
    {
      "cell_type": "code",
      "metadata": {
        "id": "pXrD7jfLXlLZ",
        "colab_type": "code",
        "colab": {
          "base_uri": "https://localhost:8080/",
          "height": 373
        },
        "outputId": "e689e5e5-7a97-4064-fb79-c6466d327d87"
      },
      "source": [
        "pharma_data.isnull().sum()"
      ],
      "execution_count": null,
      "outputs": [
        {
          "output_type": "execute_result",
          "data": {
            "text/plain": [
              "ID_Patient_Care_Situation       0\n",
              "Diagnosed_Condition             0\n",
              "Patient_ID                      0\n",
              "Treated_with_drugs              0\n",
              "Patient_Age                     0\n",
              "Patient_Body_Mass_Index         0\n",
              "Patient_Smoker                  0\n",
              "Patient_Rural_Urban             0\n",
              "Patient_mental_condition        0\n",
              "A                               0\n",
              "B                               0\n",
              "C                               0\n",
              "D                               0\n",
              "E                               0\n",
              "F                               0\n",
              "Z                               0\n",
              "Number_of_prev_cond          1235\n",
              "Survived_1_year                 0\n",
              "dtype: int64"
            ]
          },
          "metadata": {
            "tags": []
          },
          "execution_count": 11
        }
      ]
    },
    {
      "cell_type": "code",
      "metadata": {
        "id": "IjnD5i22YlYj",
        "colab_type": "code",
        "colab": {}
      },
      "source": [
        "pharma_data['Number_of_prev_cond']=pharma_data[['A','B','C','D','E','F','Z']].sum(axis=1)"
      ],
      "execution_count": null,
      "outputs": []
    },
    {
      "cell_type": "code",
      "metadata": {
        "id": "bk0qScAlY7sI",
        "colab_type": "code",
        "colab": {
          "base_uri": "https://localhost:8080/",
          "height": 373
        },
        "outputId": "d6240de9-e288-44b2-de5b-b79a72770b42"
      },
      "source": [
        "pharma_data.isnull().sum()"
      ],
      "execution_count": null,
      "outputs": [
        {
          "output_type": "execute_result",
          "data": {
            "text/plain": [
              "ID_Patient_Care_Situation    0\n",
              "Diagnosed_Condition          0\n",
              "Patient_ID                   0\n",
              "Treated_with_drugs           0\n",
              "Patient_Age                  0\n",
              "Patient_Body_Mass_Index      0\n",
              "Patient_Smoker               0\n",
              "Patient_Rural_Urban          0\n",
              "Patient_mental_condition     0\n",
              "A                            0\n",
              "B                            0\n",
              "C                            0\n",
              "D                            0\n",
              "E                            0\n",
              "F                            0\n",
              "Z                            0\n",
              "Number_of_prev_cond          0\n",
              "Survived_1_year              0\n",
              "dtype: int64"
            ]
          },
          "metadata": {
            "tags": []
          },
          "execution_count": 13
        }
      ]
    },
    {
      "cell_type": "code",
      "metadata": {
        "id": "hee-7JqVY-jG",
        "colab_type": "code",
        "colab": {
          "base_uri": "https://localhost:8080/",
          "height": 226
        },
        "outputId": "da111bca-9dce-4d40-a6bb-092ac6ee3f01"
      },
      "source": [
        "pharma_data.head()"
      ],
      "execution_count": null,
      "outputs": [
        {
          "output_type": "execute_result",
          "data": {
            "text/html": [
              "<div>\n",
              "<style scoped>\n",
              "    .dataframe tbody tr th:only-of-type {\n",
              "        vertical-align: middle;\n",
              "    }\n",
              "\n",
              "    .dataframe tbody tr th {\n",
              "        vertical-align: top;\n",
              "    }\n",
              "\n",
              "    .dataframe thead th {\n",
              "        text-align: right;\n",
              "    }\n",
              "</style>\n",
              "<table border=\"1\" class=\"dataframe\">\n",
              "  <thead>\n",
              "    <tr style=\"text-align: right;\">\n",
              "      <th></th>\n",
              "      <th>ID_Patient_Care_Situation</th>\n",
              "      <th>Diagnosed_Condition</th>\n",
              "      <th>Patient_ID</th>\n",
              "      <th>Treated_with_drugs</th>\n",
              "      <th>Patient_Age</th>\n",
              "      <th>Patient_Body_Mass_Index</th>\n",
              "      <th>Patient_Smoker</th>\n",
              "      <th>Patient_Rural_Urban</th>\n",
              "      <th>Patient_mental_condition</th>\n",
              "      <th>A</th>\n",
              "      <th>B</th>\n",
              "      <th>C</th>\n",
              "      <th>D</th>\n",
              "      <th>E</th>\n",
              "      <th>F</th>\n",
              "      <th>Z</th>\n",
              "      <th>Number_of_prev_cond</th>\n",
              "      <th>Survived_1_year</th>\n",
              "    </tr>\n",
              "  </thead>\n",
              "  <tbody>\n",
              "    <tr>\n",
              "      <th>0</th>\n",
              "      <td>22374</td>\n",
              "      <td>8</td>\n",
              "      <td>3333</td>\n",
              "      <td>DX6</td>\n",
              "      <td>56</td>\n",
              "      <td>18.479385</td>\n",
              "      <td>YES</td>\n",
              "      <td>URBAN</td>\n",
              "      <td>Stable</td>\n",
              "      <td>1.0</td>\n",
              "      <td>0.0</td>\n",
              "      <td>0.0</td>\n",
              "      <td>0.0</td>\n",
              "      <td>1.0</td>\n",
              "      <td>0.0</td>\n",
              "      <td>0.0</td>\n",
              "      <td>2.0</td>\n",
              "      <td>0</td>\n",
              "    </tr>\n",
              "    <tr>\n",
              "      <th>1</th>\n",
              "      <td>18164</td>\n",
              "      <td>5</td>\n",
              "      <td>5740</td>\n",
              "      <td>DX2</td>\n",
              "      <td>36</td>\n",
              "      <td>22.945566</td>\n",
              "      <td>YES</td>\n",
              "      <td>RURAL</td>\n",
              "      <td>Stable</td>\n",
              "      <td>1.0</td>\n",
              "      <td>0.0</td>\n",
              "      <td>0.0</td>\n",
              "      <td>0.0</td>\n",
              "      <td>0.0</td>\n",
              "      <td>0.0</td>\n",
              "      <td>0.0</td>\n",
              "      <td>1.0</td>\n",
              "      <td>1</td>\n",
              "    </tr>\n",
              "    <tr>\n",
              "      <th>2</th>\n",
              "      <td>6283</td>\n",
              "      <td>23</td>\n",
              "      <td>10446</td>\n",
              "      <td>DX6</td>\n",
              "      <td>48</td>\n",
              "      <td>27.510027</td>\n",
              "      <td>YES</td>\n",
              "      <td>RURAL</td>\n",
              "      <td>Stable</td>\n",
              "      <td>1.0</td>\n",
              "      <td>0.0</td>\n",
              "      <td>0.0</td>\n",
              "      <td>0.0</td>\n",
              "      <td>0.0</td>\n",
              "      <td>0.0</td>\n",
              "      <td>0.0</td>\n",
              "      <td>1.0</td>\n",
              "      <td>0</td>\n",
              "    </tr>\n",
              "    <tr>\n",
              "      <th>3</th>\n",
              "      <td>5339</td>\n",
              "      <td>51</td>\n",
              "      <td>12011</td>\n",
              "      <td>DX1</td>\n",
              "      <td>5</td>\n",
              "      <td>19.130976</td>\n",
              "      <td>NO</td>\n",
              "      <td>URBAN</td>\n",
              "      <td>Stable</td>\n",
              "      <td>1.0</td>\n",
              "      <td>0.0</td>\n",
              "      <td>0.0</td>\n",
              "      <td>0.0</td>\n",
              "      <td>0.0</td>\n",
              "      <td>0.0</td>\n",
              "      <td>0.0</td>\n",
              "      <td>1.0</td>\n",
              "      <td>1</td>\n",
              "    </tr>\n",
              "    <tr>\n",
              "      <th>4</th>\n",
              "      <td>33012</td>\n",
              "      <td>0</td>\n",
              "      <td>12513</td>\n",
              "      <td>DX6</td>\n",
              "      <td>128</td>\n",
              "      <td>1.348400</td>\n",
              "      <td>Cannot say</td>\n",
              "      <td>RURAL</td>\n",
              "      <td>Stable</td>\n",
              "      <td>0.0</td>\n",
              "      <td>0.0</td>\n",
              "      <td>0.0</td>\n",
              "      <td>0.0</td>\n",
              "      <td>0.0</td>\n",
              "      <td>0.0</td>\n",
              "      <td>1.0</td>\n",
              "      <td>1.0</td>\n",
              "      <td>1</td>\n",
              "    </tr>\n",
              "  </tbody>\n",
              "</table>\n",
              "</div>"
            ],
            "text/plain": [
              "   ID_Patient_Care_Situation  ...  Survived_1_year\n",
              "0                      22374  ...                0\n",
              "1                      18164  ...                1\n",
              "2                       6283  ...                0\n",
              "3                       5339  ...                1\n",
              "4                      33012  ...                1\n",
              "\n",
              "[5 rows x 18 columns]"
            ]
          },
          "metadata": {
            "tags": []
          },
          "execution_count": 14
        }
      ]
    },
    {
      "cell_type": "markdown",
      "metadata": {
        "id": "83Wy0X87Zjh2",
        "colab_type": "text"
      },
      "source": [
        "using label encoding for object datatypes"
      ]
    },
    {
      "cell_type": "code",
      "metadata": {
        "id": "AYpRziMeZdp0",
        "colab_type": "code",
        "colab": {}
      },
      "source": [
        "from sklearn.preprocessing import LabelEncoder \n",
        "  \n",
        "le = LabelEncoder() \n",
        "  \n",
        "pharma_data['Treated_with_drugs']= le.fit_transform(pharma_data['Treated_with_drugs']) \n",
        "pharma_data['Patient_Smoker']= le.fit_transform(pharma_data['Patient_Smoker']) \n",
        "pharma_data['Patient_Rural_Urban']= le.fit_transform(pharma_data['Patient_Rural_Urban']) \n",
        "pharma_data['Patient_mental_condition']= le.fit_transform(pharma_data['Patient_mental_condition'])"
      ],
      "execution_count": null,
      "outputs": []
    },
    {
      "cell_type": "code",
      "metadata": {
        "id": "nRMNNEHtZ3ep",
        "colab_type": "code",
        "colab": {
          "base_uri": "https://localhost:8080/",
          "height": 485
        },
        "outputId": "d167a4cf-8e3c-404d-a4ff-04d898b0f569"
      },
      "source": [
        "pharma_data.info()"
      ],
      "execution_count": null,
      "outputs": [
        {
          "output_type": "stream",
          "text": [
            "<class 'pandas.core.frame.DataFrame'>\n",
            "RangeIndex: 23097 entries, 0 to 23096\n",
            "Data columns (total 18 columns):\n",
            " #   Column                     Non-Null Count  Dtype  \n",
            "---  ------                     --------------  -----  \n",
            " 0   ID_Patient_Care_Situation  23097 non-null  int64  \n",
            " 1   Diagnosed_Condition        23097 non-null  int64  \n",
            " 2   Patient_ID                 23097 non-null  int64  \n",
            " 3   Treated_with_drugs         23097 non-null  int64  \n",
            " 4   Patient_Age                23097 non-null  int64  \n",
            " 5   Patient_Body_Mass_Index    23097 non-null  float64\n",
            " 6   Patient_Smoker             23097 non-null  int64  \n",
            " 7   Patient_Rural_Urban        23097 non-null  int64  \n",
            " 8   Patient_mental_condition   23097 non-null  int64  \n",
            " 9   A                          23097 non-null  float64\n",
            " 10  B                          23097 non-null  float64\n",
            " 11  C                          23097 non-null  float64\n",
            " 12  D                          23097 non-null  float64\n",
            " 13  E                          23097 non-null  float64\n",
            " 14  F                          23097 non-null  float64\n",
            " 15  Z                          23097 non-null  float64\n",
            " 16  Number_of_prev_cond        23097 non-null  float64\n",
            " 17  Survived_1_year            23097 non-null  int64  \n",
            "dtypes: float64(9), int64(9)\n",
            "memory usage: 3.2 MB\n"
          ],
          "name": "stdout"
        }
      ]
    },
    {
      "cell_type": "markdown",
      "metadata": {
        "id": "aIk8bl_aaWiF",
        "colab_type": "text"
      },
      "source": [
        "EXPLORATORY DATA ANALYSIS"
      ]
    },
    {
      "cell_type": "code",
      "metadata": {
        "id": "4WJfeBfzev5b",
        "colab_type": "code",
        "colab": {}
      },
      "source": [
        ""
      ],
      "execution_count": null,
      "outputs": []
    },
    {
      "cell_type": "code",
      "metadata": {
        "id": "gS1oilXHafG-",
        "colab_type": "code",
        "colab": {
          "base_uri": "https://localhost:8080/",
          "height": 72
        },
        "outputId": "bf332b9a-a15b-40c0-ca80-4800669d11c1"
      },
      "source": [
        "#patients survived 1 year\n",
        "surv=pharma_data['Survived_1_year'].value_counts()\n",
        "print('number of patients who survived 1 year',surv)"
      ],
      "execution_count": null,
      "outputs": [
        {
          "output_type": "stream",
          "text": [
            "number of patients who survived 1 year 1    14603\n",
            "0     8494\n",
            "Name: Survived_1_year, dtype: int64\n"
          ],
          "name": "stdout"
        }
      ]
    },
    {
      "cell_type": "code",
      "metadata": {
        "id": "wWckX5Atdc9f",
        "colab_type": "code",
        "colab": {
          "base_uri": "https://localhost:8080/",
          "height": 498
        },
        "outputId": "56312644-1fc2-4b89-cdf3-b030e9126f3d"
      },
      "source": [
        "#num of rural & urban\n",
        "plt.figure(figsize=(12,8))\n",
        "ax=sns.countplot(x=pharma_data.Patient_Rural_Urban,hue=pharma_data.Survived_1_year)"
      ],
      "execution_count": null,
      "outputs": [
        {
          "output_type": "display_data",
          "data": {
            "image/png": "[encoded data removed]",
            "text/plain": [
              "<Figure size 864x576 with 1 Axes>"
            ]
          },
          "metadata": {
            "tags": [],
            "needs_background": "light"
          }
        }
      ]
    },
    {
      "cell_type": "code",
      "metadata": {
        "id": "E365t0VJ1Huz",
        "colab_type": "code",
        "colab": {
          "base_uri": "https://localhost:8080/",
          "height": 517
        },
        "outputId": "3a6ba2c2-aefd-42a2-b363-4ec1722fce9b"
      },
      "source": [
        "#num of smoking,non-smoking ppl who survived\n",
        "plt.figure(figsize=(12,8))\n",
        "sns.countplot(pharma_data.Patient_Smoker, hue=pharma_data.Survived_1_year,palette='CMRmap')"
      ],
      "execution_count": null,
      "outputs": [
        {
          "output_type": "execute_result",
          "data": {
            "text/plain": [
              "<matplotlib.axes._subplots.AxesSubplot at 0x7f00170e5240>"
            ]
          },
          "metadata": {
            "tags": []
          },
          "execution_count": 55
        },
        {
          "output_type": "display_data",
          "data": {
            "image/png": "[encoded data removed]",
            "text/plain": [
              "<Figure size 864x576 with 1 Axes>"
            ]
          },
          "metadata": {
            "tags": [],
            "needs_background": "light"
          }
        }
      ]
    },
    {
      "cell_type": "markdown",
      "metadata": {
        "id": "TPLmMRbe5-Fv",
        "colab_type": "text"
      },
      "source": [
        "plot reveals how non-smokers have survived more than smokers."
      ]
    },
    {
      "cell_type": "code",
      "metadata": {
        "id": "aVVL2qUX6K_e",
        "colab_type": "code",
        "colab": {
          "base_uri": "https://localhost:8080/",
          "height": 557
        },
        "outputId": "020803d4-af16-4125-95ef-c8ca0d3fa9d3"
      },
      "source": [
        "plt.figure(figsize=(30,10))\n",
        "g = sns.catplot(x=\"Treated_with_drugs\", hue=\"Survived_1_year\",data=pharma_data, kind=\"count\",height=10,aspect=2)\n",
        "plt.show()"
      ],
      "execution_count": null,
      "outputs": [
        {
          "output_type": "display_data",
          "data": {
            "text/plain": [
              "<Figure size 2160x720 with 0 Axes>"
            ]
          },
          "metadata": {
            "tags": []
          }
        },
        {
          "output_type": "display_data",
          "data": {
            "image/png": "[encoded data removed]",
            "text/plain": [
              "<Figure size 1530.5x720 with 1 Axes>"
            ]
          },
          "metadata": {
            "tags": [],
            "needs_background": "light"
          }
        }
      ]
    },
    {
      "cell_type": "code",
      "metadata": {
        "id": "b80bZ6eq-iUV",
        "colab_type": "code",
        "colab": {
          "base_uri": "https://localhost:8080/",
          "height": 557
        },
        "outputId": "04064ea2-ef76-4bb3-bf39-6d9861fb74ea"
      },
      "source": [
        "plt.figure(figsize=(30,10))\n",
        "g = sns.catplot(x=\"Number_of_prev_cond\", hue=\"Survived_1_year\",data=pharma_data, kind=\"count\",height=10,aspect=2)\n",
        "plt.show()"
      ],
      "execution_count": null,
      "outputs": [
        {
          "output_type": "display_data",
          "data": {
            "text/plain": [
              "<Figure size 2160x720 with 0 Axes>"
            ]
          },
          "metadata": {
            "tags": []
          }
        },
        {
          "output_type": "display_data",
          "data": {
            "image/png": "[encoded data removed]",
            "text/plain": [
              "<Figure size 1530.5x720 with 1 Axes>"
            ]
          },
          "metadata": {
            "tags": [],
            "needs_background": "light"
          }
        }
      ]
    },
    {
      "cell_type": "code",
      "metadata": {
        "id": "eyONs04_Arsq",
        "colab_type": "code",
        "colab": {
          "base_uri": "https://localhost:8080/",
          "height": 1000
        },
        "outputId": "080ddc4c-1818-4f6a-956f-4bf3a85aefa1"
      },
      "source": [
        "plt.figure(figsize=(25,25))\n",
        "sns.heatmap(data=pharma_data.corr(),cmap='Blues_r',fmt='.1g',annot=True)"
      ],
      "execution_count": null,
      "outputs": [
        {
          "output_type": "execute_result",
          "data": {
            "text/plain": [
              "<matplotlib.axes._subplots.AxesSubplot at 0x7f0014bd14e0>"
            ]
          },
          "metadata": {
            "tags": []
          },
          "execution_count": 68
        },
        {
          "output_type": "display_data",
          "data": {
            "image/png": "[encoded data removed]",
            "text/plain": [
              "<Figure size 1800x1800 with 2 Axes>"
            ]
          },
          "metadata": {
            "tags": [],
            "needs_background": "light"
          }
        }
      ]
    },
    {
      "cell_type": "markdown",
      "metadata": {
        "id": "qmVO9L4BjCAt",
        "colab_type": "text"
      },
      "source": [
        "model building"
      ]
    },
    {
      "cell_type": "code",
      "metadata": {
        "id": "kxmabwdxh435",
        "colab_type": "code",
        "colab": {}
      },
      "source": [
        "#machine learning\n",
        "from sklearn.model_selection import train_test_split \n",
        "from sklearn.linear_model import LogisticRegression\n",
        "from sklearn.metrics import f1_score\n",
        "from sklearn import metrics"
      ],
      "execution_count": null,
      "outputs": []
    },
    {
      "cell_type": "markdown",
      "metadata": {
        "id": "BWQgIHXsk8Q0",
        "colab_type": "text"
      },
      "source": [
        ""
      ]
    },
    {
      "cell_type": "code",
      "metadata": {
        "id": "hgvTVOhWjLQt",
        "colab_type": "code",
        "colab": {}
      },
      "source": [
        "x=pharma_data.drop('Survived_1_year',axis=1)\n",
        "y=pharma_data[['Survived_1_year']]"
      ],
      "execution_count": null,
      "outputs": []
    },
    {
      "cell_type": "markdown",
      "metadata": {
        "id": "lNz9587ek_E2",
        "colab_type": "text"
      },
      "source": [
        "LOGISTIC REGRESSION"
      ]
    },
    {
      "cell_type": "code",
      "metadata": {
        "id": "Gro57PRWjkG2",
        "colab_type": "code",
        "colab": {
          "base_uri": "https://localhost:8080/",
          "height": 111
        },
        "outputId": "9a664f95-ad07-44a8-b921-229472e993e6"
      },
      "source": [
        "x_train,x_test,y_train,y_test=train_test_split(x,y,test_size=0.3,random_state=42)\n",
        "lr=LogisticRegression()\n",
        "lr.fit(x_train,y_train)"
      ],
      "execution_count": null,
      "outputs": [
        {
          "output_type": "execute_result",
          "data": {
            "text/plain": [
              "LogisticRegression(C=1.0, class_weight=None, dual=False, fit_intercept=True,\n",
              "                   intercept_scaling=1, l1_ratio=None, max_iter=100,\n",
              "                   multi_class='auto', n_jobs=None, penalty='l2',\n",
              "                   random_state=None, solver='lbfgs', tol=0.0001, verbose=0,\n",
              "                   warm_start=False)"
            ]
          },
          "metadata": {
            "tags": []
          },
          "execution_count": 150
        }
      ]
    },
    {
      "cell_type": "code",
      "metadata": {
        "id": "_gSRMtekj3Mv",
        "colab_type": "code",
        "colab": {
          "base_uri": "https://localhost:8080/",
          "height": 54
        },
        "outputId": "a51f6614-15f3-4809-d71c-9e6e80b4ab94"
      },
      "source": [
        "y_pred=lr.predict(x_test)\n",
        "print('Training accuracy...', f1_score(y_train, lr.predict(x_train)))\n",
        "f1_lr=f1_score(y_test,y_pred)\n",
        "print('F1 score is',f1_lr)"
      ],
      "execution_count": null,
      "outputs": [
        {
          "output_type": "stream",
          "text": [
            "Training accuracy... 0.7693975530432089\n",
            "F1 score is 0.7654142145767315\n"
          ],
          "name": "stdout"
        }
      ]
    },
    {
      "cell_type": "markdown",
      "metadata": {
        "id": "SfGR2KXmlC1d",
        "colab_type": "text"
      },
      "source": [
        "DECISION TREE CLASSIFIER"
      ]
    },
    {
      "cell_type": "code",
      "metadata": {
        "id": "1_9ex1UFkGN3",
        "colab_type": "code",
        "colab": {
          "base_uri": "https://localhost:8080/",
          "height": 129
        },
        "outputId": "a2b64e60-7f6e-4569-aea1-fc18824fbdd1"
      },
      "source": [
        "from sklearn.tree import DecisionTreeClassifier\n",
        "dt=DecisionTreeClassifier()\n",
        "dt.fit(x_train,y_train)"
      ],
      "execution_count": null,
      "outputs": [
        {
          "output_type": "execute_result",
          "data": {
            "text/plain": [
              "DecisionTreeClassifier(ccp_alpha=0.0, class_weight=None, criterion='gini',\n",
              "                       max_depth=None, max_features=None, max_leaf_nodes=None,\n",
              "                       min_impurity_decrease=0.0, min_impurity_split=None,\n",
              "                       min_samples_leaf=1, min_samples_split=2,\n",
              "                       min_weight_fraction_leaf=0.0, presort='deprecated',\n",
              "                       random_state=None, splitter='best')"
            ]
          },
          "metadata": {
            "tags": []
          },
          "execution_count": 152
        }
      ]
    },
    {
      "cell_type": "code",
      "metadata": {
        "id": "wRoVoP46koCR",
        "colab_type": "code",
        "colab": {
          "base_uri": "https://localhost:8080/",
          "height": 54
        },
        "outputId": "b98442e1-8713-4100-c56e-df323428134c"
      },
      "source": [
        "y_pred_dt=dt.predict(x_test)\n",
        "f1_dt=f1_score(y_test,y_pred_dt)\n",
        "print('Training accuracy...', f1_score(y_train, dt.predict(x_train)))\n",
        "print('F1 is',f1_dt)"
      ],
      "execution_count": null,
      "outputs": [
        {
          "output_type": "stream",
          "text": [
            "Training accuracy... 1.0\n",
            "F1 is 0.8068234209313048\n"
          ],
          "name": "stdout"
        }
      ]
    },
    {
      "cell_type": "code",
      "metadata": {
        "id": "-t_DXAwbmaVp",
        "colab_type": "code",
        "colab": {}
      },
      "source": [
        "from sklearn.tree import export_graphviz\n",
        "import graphviz\n",
        "dot_data= export_graphviz(dt, out_file=None, \n",
        "                    feature_names=x_test.columns,  \n",
        "                      class_names=['0', '1'],  \n",
        "                      filled=True, rounded=True,  \n",
        "                      special_characters=True)\n",
        "\n",
        "\n",
        "graph1=graphviz.Source(dot_data)\n"
      ],
      "execution_count": null,
      "outputs": []
    },
    {
      "cell_type": "code",
      "metadata": {
        "id": "5y29lOTFnYW1",
        "colab_type": "code",
        "colab": {
          "base_uri": "https://localhost:8080/",
          "height": 129
        },
        "outputId": "f4f7bce3-7eba-41a7-e314-122fb7ca75bf"
      },
      "source": [
        "dt_d=DecisionTreeClassifier(max_depth=9,criterion='entropy',max_leaf_nodes=100)\n",
        "dt_d.fit(x_train,y_train)"
      ],
      "execution_count": null,
      "outputs": [
        {
          "output_type": "execute_result",
          "data": {
            "text/plain": [
              "DecisionTreeClassifier(ccp_alpha=0.0, class_weight=None, criterion='entropy',\n",
              "                       max_depth=9, max_features=None, max_leaf_nodes=100,\n",
              "                       min_impurity_decrease=0.0, min_impurity_split=None,\n",
              "                       min_samples_leaf=1, min_samples_split=2,\n",
              "                       min_weight_fraction_leaf=0.0, presort='deprecated',\n",
              "                       random_state=None, splitter='best')"
            ]
          },
          "metadata": {
            "tags": []
          },
          "execution_count": 155
        }
      ]
    },
    {
      "cell_type": "code",
      "metadata": {
        "id": "nv3hNJ9Wnkcy",
        "colab_type": "code",
        "colab": {
          "base_uri": "https://localhost:8080/",
          "height": 54
        },
        "outputId": "9dfdcefa-fdd5-40c4-a96b-f765571fc901"
      },
      "source": [
        "y_pred_d=dt_d.predict(x_test)\n",
        "print('Training accuracy...', f1_score(y_train, dt_d.predict(x_train)))\n",
        "print('Test accuracy...', f1_score(y_test, dt_d.predict(x_test)))"
      ],
      "execution_count": null,
      "outputs": [
        {
          "output_type": "stream",
          "text": [
            "Training accuracy... 0.8481585832159388\n",
            "Test accuracy... 0.8447131341868185\n"
          ],
          "name": "stdout"
        }
      ]
    },
    {
      "cell_type": "code",
      "metadata": {
        "id": "ogAtURxXr7nw",
        "colab_type": "code",
        "colab": {
          "base_uri": "https://localhost:8080/",
          "height": 54
        },
        "outputId": "8c33f60c-e7c6-4c86-b9c6-37809bf16fb9"
      },
      "source": [
        "from sklearn.model_selection import cross_val_score\n",
        "cv_score = cross_val_score(dt_d, x_train, y_train, cv=10, scoring='accuracy')\n",
        "print('Avarage train score...' , cv_score.mean())\n",
        "print('Std train score...' , cv_score.std())"
      ],
      "execution_count": null,
      "outputs": [
        {
          "output_type": "stream",
          "text": [
            "Avarage train score... 0.8080303674848883\n",
            "Std train score... 0.00829388784403771\n"
          ],
          "name": "stdout"
        }
      ]
    },
    {
      "cell_type": "code",
      "metadata": {
        "id": "XNCUMucrsNTk",
        "colab_type": "code",
        "colab": {
          "base_uri": "https://localhost:8080/",
          "height": 733
        },
        "outputId": "651752d8-b493-4d81-ec59-9ea01f590214"
      },
      "source": [
        "from sklearn.model_selection import cross_val_score\n",
        "for depth in range(2, 15):\n",
        "    print('With depth:',depth)\n",
        "    cv_score = cross_val_score(DecisionTreeClassifier(max_depth = depth, max_features = None,max_leaf_nodes=100), \n",
        "                               x_train, y_train, cv=10, scoring='accuracy')\n",
        "    print('  Avarage train score...' , cv_score.mean())\n",
        "    print('  Std train score...' , cv_score.std())"
      ],
      "execution_count": null,
      "outputs": [
        {
          "output_type": "stream",
          "text": [
            "With depth: 2\n",
            "  Avarage train score... 0.6915074052459002\n",
            "  Std train score... 0.013795792248823598\n",
            "With depth: 3\n",
            "  Avarage train score... 0.748011019390283\n",
            "  Std train score... 0.015882600346871518\n",
            "With depth: 4\n",
            "  Avarage train score... 0.7571030417876655\n",
            "  Std train score... 0.015275833968510635\n",
            "With depth: 5\n",
            "  Avarage train score... 0.7631102677326284\n",
            "  Std train score... 0.009910576262531747\n",
            "With depth: 6\n",
            "  Avarage train score... 0.7767489458745549\n",
            "  Std train score... 0.007604151821309055\n",
            "With depth: 7\n",
            "  Avarage train score... 0.7921193136406997\n",
            "  Std train score... 0.008852120399513531\n",
            "With depth: 8\n",
            "  Avarage train score... 0.7978018056659095\n",
            "  Std train score... 0.008587110103346004\n",
            "With depth: 9\n",
            "  Avarage train score... 0.8094920802893191\n",
            "  Std train score... 0.007845923807680587\n",
            "With depth: 10\n",
            "  Avarage train score... 0.8099792690615646\n",
            "  Std train score... 0.007833795992968242\n",
            "With depth: 11\n",
            "  Avarage train score... 0.8100874941697898\n",
            "  Std train score... 0.007893807910913084\n",
            "With depth: 12\n",
            "  Avarage train score... 0.8100874355747122\n",
            "  Std train score... 0.008272243633287513\n",
            "With depth: 13\n",
            "  Avarage train score... 0.8100874355747122\n",
            "  Std train score... 0.008272243633287513\n",
            "With depth: 14\n",
            "  Avarage train score... 0.8100333230205996\n",
            "  Std train score... 0.008202898022049966\n"
          ],
          "name": "stdout"
        }
      ]
    },
    {
      "cell_type": "markdown",
      "metadata": {
        "id": "MCDxVDRCr4vj",
        "colab_type": "text"
      },
      "source": [
        "TEST DATASET"
      ]
    },
    {
      "cell_type": "code",
      "metadata": {
        "id": "omoHNrs6pYBe",
        "colab_type": "code",
        "colab": {}
      },
      "source": [
        "test_new = pd.read_csv('https://raw.githubusercontent.com/dphi-official/Datasets/master/pharma_data/Testing_set_begs.csv')\n"
      ],
      "execution_count": null,
      "outputs": []
    },
    {
      "cell_type": "code",
      "metadata": {
        "id": "aVHpFKjeSxEF",
        "colab_type": "code",
        "colab": {
          "base_uri": "https://localhost:8080/",
          "height": 467
        },
        "outputId": "e66db269-60b7-4b93-ac97-c7298f7567fb"
      },
      "source": [
        "test_new['Treated_with_drugs']= le.fit_transform(test_new['Treated_with_drugs']) \n",
        "test_new['Patient_Smoker']= test_new['Patient_Smoker'].apply(lambda x:2 if x == 'YES' else(1 if x == 'NO' else 0))\n",
        "test_new['Patient_Rural_Urban']= test_new['Patient_Rural_Urban'].apply(lambda x:1 if x == 'URBAN' else 0)  \n",
        "test_new['Patient_mental_condition']= test_new['Patient_mental_condition'].apply(lambda x:1 if x == 'Stable' else 0) \n",
        "test_new.info()"
      ],
      "execution_count": null,
      "outputs": [
        {
          "output_type": "stream",
          "text": [
            "<class 'pandas.core.frame.DataFrame'>\n",
            "RangeIndex: 9303 entries, 0 to 9302\n",
            "Data columns (total 17 columns):\n",
            " #   Column                     Non-Null Count  Dtype  \n",
            "---  ------                     --------------  -----  \n",
            " 0   ID_Patient_Care_Situation  9303 non-null   int64  \n",
            " 1   Diagnosed_Condition        9303 non-null   int64  \n",
            " 2   Patient_ID                 9303 non-null   int64  \n",
            " 3   Treated_with_drugs         9303 non-null   int64  \n",
            " 4   Patient_Age                9303 non-null   int64  \n",
            " 5   Patient_Body_Mass_Index    9303 non-null   float64\n",
            " 6   Patient_Smoker             9303 non-null   int64  \n",
            " 7   Patient_Rural_Urban        9303 non-null   int64  \n",
            " 8   Patient_mental_condition   9303 non-null   int64  \n",
            " 9   A                          9303 non-null   float64\n",
            " 10  B                          9303 non-null   float64\n",
            " 11  C                          9303 non-null   float64\n",
            " 12  D                          9303 non-null   float64\n",
            " 13  E                          9303 non-null   float64\n",
            " 14  F                          9303 non-null   float64\n",
            " 15  Z                          9303 non-null   float64\n",
            " 16  Number_of_prev_cond        9303 non-null   float64\n",
            "dtypes: float64(9), int64(8)\n",
            "memory usage: 1.2 MB\n"
          ],
          "name": "stdout"
        }
      ]
    },
    {
      "cell_type": "code",
      "metadata": {
        "id": "KyA87PiXp7wJ",
        "colab_type": "code",
        "colab": {
          "base_uri": "https://localhost:8080/",
          "height": 17
        },
        "outputId": "4b7c2731-5c34-4577-dd6c-58d645692c96"
      },
      "source": [
        "survival=xgb_model.predict(test_new)\n",
        "res=pd.DataFrame(survival)\n",
        "res.index=test_new.index\n",
        "res.columns=[['Survived']]\n",
        "\n",
        "from google.colab import files\n",
        "res.to_csv('survival_rf.csv')\n",
        "files.download('survival_rf.csv')"
      ],
      "execution_count": null,
      "outputs": [
        {
          "output_type": "display_data",
          "data": {
            "application/javascript": [
              "\n",
              "    async function download(id, filename, size) {\n",
              "      if (!google.colab.kernel.accessAllowed) {\n",
              "        return;\n",
              "      }\n",
              "      const div = document.createElement('div');\n",
              "      const label = document.createElement('label');\n",
              "      label.textContent = `Downloading \"${filename}\": `;\n",
              "      div.appendChild(label);\n",
              "      const progress = document.createElement('progress');\n",
              "      progress.max = size;\n",
              "      div.appendChild(progress);\n",
              "      document.body.appendChild(div);\n",
              "\n",
              "      const buffers = [];\n",
              "      let downloaded = 0;\n",
              "\n",
              "      const channel = await google.colab.kernel.comms.open(id);\n",
              "      // Send a message to notify the kernel that we're ready.\n",
              "      channel.send({})\n",
              "\n",
              "      for await (const message of channel.messages) {\n",
              "        // Send a message to notify the kernel that we're ready.\n",
              "        channel.send({})\n",
              "        if (message.buffers) {\n",
              "          for (const buffer of message.buffers) {\n",
              "            buffers.push(buffer);\n",
              "            downloaded += buffer.byteLength;\n",
              "            progress.value = downloaded;\n",
              "          }\n",
              "        }\n",
              "      }\n",
              "      const blob = new Blob(buffers, {type: 'application/binary'});\n",
              "      const a = document.createElement('a');\n",
              "      a.href = window.URL.createObjectURL(blob);\n",
              "      a.download = filename;\n",
              "      div.appendChild(a);\n",
              "      a.click();\n",
              "      div.remove();\n",
              "    }\n",
              "  "
            ],
            "text/plain": [
              "<IPython.core.display.Javascript object>"
            ]
          },
          "metadata": {
            "tags": []
          }
        },
        {
          "output_type": "display_data",
          "data": {
            "application/javascript": [
              "download(\"download_10b898b1-5160-41bc-a843-28b571cc053e\", \"survival_rf.csv\", 64021)"
            ],
            "text/plain": [
              "<IPython.core.display.Javascript object>"
            ]
          },
          "metadata": {
            "tags": []
          }
        }
      ]
    },
    {
      "cell_type": "markdown",
      "metadata": {
        "id": "zEX0Z1lnlI5I",
        "colab_type": "text"
      },
      "source": [
        "USING GRID SEARCH CV FOR DECISION TREE CLASSIFIER"
      ]
    },
    {
      "cell_type": "code",
      "metadata": {
        "id": "EY_xQEWdk4oo",
        "colab_type": "code",
        "colab": {
          "base_uri": "https://localhost:8080/",
          "height": 1000
        },
        "outputId": "f6678f9f-c574-4870-a2f7-2e2cb6ab036d"
      },
      "source": [
        "from sklearn.model_selection import GridSearchCV\n",
        "\n",
        "param_grid = {'max_depth':[i for i in range(7, 15)], \n",
        "              'criterion':['gini', 'entropy'],\n",
        "              'max_features':['auto', 'sqrt', 'log2', None]}\n",
        "\n",
        "clf = GridSearchCV(DecisionTreeClassifier(max_leaf_nodes=100), param_grid, cv=10, verbose=2, scoring='accuracy')\n",
        "clf.fit(x_train, y_train)"
      ],
      "execution_count": null,
      "outputs": [
        {
          "output_type": "stream",
          "text": [
            "Fitting 10 folds for each of 64 candidates, totalling 640 fits\n",
            "[CV] criterion=gini, max_depth=7, max_features=auto ..................\n",
            "[CV] ... criterion=gini, max_depth=7, max_features=auto, total=   0.0s\n",
            "[CV] criterion=gini, max_depth=7, max_features=auto ..................\n",
            "[CV] ... criterion=gini, max_depth=7, max_features=auto, total=   0.0s\n",
            "[CV] criterion=gini, max_depth=7, max_features=auto ..................\n",
            "[CV] ... criterion=gini, max_depth=7, max_features=auto, total=   0.0s\n",
            "[CV] criterion=gini, max_depth=7, max_features=auto ..................\n",
            "[CV] ... criterion=gini, max_depth=7, max_features=auto, total=   0.0s\n",
            "[CV] criterion=gini, max_depth=7, max_features=auto ..................\n",
            "[CV] ... criterion=gini, max_depth=7, max_features=auto, total=   0.0s\n",
            "[CV] criterion=gini, max_depth=7, max_features=auto ..................\n",
            "[CV] ... criterion=gini, max_depth=7, max_features=auto, total=   0.0s\n",
            "[CV] criterion=gini, max_depth=7, max_features=auto ..................\n"
          ],
          "name": "stdout"
        },
        {
          "output_type": "stream",
          "text": [
            "[Parallel(n_jobs=1)]: Using backend SequentialBackend with 1 concurrent workers.\n",
            "[Parallel(n_jobs=1)]: Done   1 out of   1 | elapsed:    0.0s remaining:    0.0s\n"
          ],
          "name": "stderr"
        },
        {
          "output_type": "stream",
          "text": [
            "[CV] ... criterion=gini, max_depth=7, max_features=auto, total=   0.0s\n",
            "[CV] criterion=gini, max_depth=7, max_features=auto ..................\n",
            "[CV] ... criterion=gini, max_depth=7, max_features=auto, total=   0.0s\n",
            "[CV] criterion=gini, max_depth=7, max_features=auto ..................\n",
            "[CV] ... criterion=gini, max_depth=7, max_features=auto, total=   0.0s\n",
            "[CV] criterion=gini, max_depth=7, max_features=auto ..................\n",
            "[CV] ... criterion=gini, max_depth=7, max_features=auto, total=   0.0s\n",
            "[CV] criterion=gini, max_depth=7, max_features=sqrt ..................\n",
            "[CV] ... criterion=gini, max_depth=7, max_features=sqrt, total=   0.0s\n",
            "[CV] criterion=gini, max_depth=7, max_features=sqrt ..................\n",
            "[CV] ... criterion=gini, max_depth=7, max_features=sqrt, total=   0.0s\n",
            "[CV] criterion=gini, max_depth=7, max_features=sqrt ..................\n",
            "[CV] ... criterion=gini, max_depth=7, max_features=sqrt, total=   0.0s\n",
            "[CV] criterion=gini, max_depth=7, max_features=sqrt ..................\n",
            "[CV] ... criterion=gini, max_depth=7, max_features=sqrt, total=   0.0s\n",
            "[CV] criterion=gini, max_depth=7, max_features=sqrt ..................\n",
            "[CV] ... criterion=gini, max_depth=7, max_features=sqrt, total=   0.0s\n",
            "[CV] criterion=gini, max_depth=7, max_features=sqrt ..................\n",
            "[CV] ... criterion=gini, max_depth=7, max_features=sqrt, total=   0.0s\n",
            "[CV] criterion=gini, max_depth=7, max_features=sqrt ..................\n",
            "[CV] ... criterion=gini, max_depth=7, max_features=sqrt, total=   0.0s\n",
            "[CV] criterion=gini, max_depth=7, max_features=sqrt ..................\n",
            "[CV] ... criterion=gini, max_depth=7, max_features=sqrt, total=   0.0s\n",
            "[CV] criterion=gini, max_depth=7, max_features=sqrt ..................\n",
            "[CV] ... criterion=gini, max_depth=7, max_features=sqrt, total=   0.0s\n",
            "[CV] criterion=gini, max_depth=7, max_features=sqrt ..................\n",
            "[CV] ... criterion=gini, max_depth=7, max_features=sqrt, total=   0.0s\n",
            "[CV] criterion=gini, max_depth=7, max_features=log2 ..................\n",
            "[CV] ... criterion=gini, max_depth=7, max_features=log2, total=   0.0s\n",
            "[CV] criterion=gini, max_depth=7, max_features=log2 ..................\n",
            "[CV] ... criterion=gini, max_depth=7, max_features=log2, total=   0.0s\n",
            "[CV] criterion=gini, max_depth=7, max_features=log2 ..................\n",
            "[CV] ... criterion=gini, max_depth=7, max_features=log2, total=   0.0s\n",
            "[CV] criterion=gini, max_depth=7, max_features=log2 ..................\n",
            "[CV] ... criterion=gini, max_depth=7, max_features=log2, total=   0.0s\n",
            "[CV] criterion=gini, max_depth=7, max_features=log2 ..................\n",
            "[CV] ... criterion=gini, max_depth=7, max_features=log2, total=   0.0s\n",
            "[CV] criterion=gini, max_depth=7, max_features=log2 ..................\n",
            "[CV] ... criterion=gini, max_depth=7, max_features=log2, total=   0.0s\n",
            "[CV] criterion=gini, max_depth=7, max_features=log2 ..................\n",
            "[CV] ... criterion=gini, max_depth=7, max_features=log2, total=   0.0s\n",
            "[CV] criterion=gini, max_depth=7, max_features=log2 ..................\n",
            "[CV] ... criterion=gini, max_depth=7, max_features=log2, total=   0.0s\n",
            "[CV] criterion=gini, max_depth=7, max_features=log2 ..................\n",
            "[CV] ... criterion=gini, max_depth=7, max_features=log2, total=   0.0s\n",
            "[CV] criterion=gini, max_depth=7, max_features=log2 ..................\n",
            "[CV] ... criterion=gini, max_depth=7, max_features=log2, total=   0.0s\n",
            "[CV] criterion=gini, max_depth=7, max_features=None ..................\n",
            "[CV] ... criterion=gini, max_depth=7, max_features=None, total=   0.1s\n",
            "[CV] criterion=gini, max_depth=7, max_features=None ..................\n",
            "[CV] ... criterion=gini, max_depth=7, max_features=None, total=   0.1s\n",
            "[CV] criterion=gini, max_depth=7, max_features=None ..................\n",
            "[CV] ... criterion=gini, max_depth=7, max_features=None, total=   0.1s\n",
            "[CV] criterion=gini, max_depth=7, max_features=None ..................\n",
            "[CV] ... criterion=gini, max_depth=7, max_features=None, total=   0.1s\n",
            "[CV] criterion=gini, max_depth=7, max_features=None ..................\n",
            "[CV] ... criterion=gini, max_depth=7, max_features=None, total=   0.1s\n",
            "[CV] criterion=gini, max_depth=7, max_features=None ..................\n",
            "[CV] ... criterion=gini, max_depth=7, max_features=None, total=   0.1s\n",
            "[CV] criterion=gini, max_depth=7, max_features=None ..................\n",
            "[CV] ... criterion=gini, max_depth=7, max_features=None, total=   0.1s\n",
            "[CV] criterion=gini, max_depth=7, max_features=None ..................\n",
            "[CV] ... criterion=gini, max_depth=7, max_features=None, total=   0.1s\n",
            "[CV] criterion=gini, max_depth=7, max_features=None ..................\n",
            "[CV] ... criterion=gini, max_depth=7, max_features=None, total=   0.1s\n",
            "[CV] criterion=gini, max_depth=7, max_features=None ..................\n",
            "[CV] ... criterion=gini, max_depth=7, max_features=None, total=   0.1s\n",
            "[CV] criterion=gini, max_depth=8, max_features=auto ..................\n",
            "[CV] ... criterion=gini, max_depth=8, max_features=auto, total=   0.0s\n",
            "[CV] criterion=gini, max_depth=8, max_features=auto ..................\n",
            "[CV] ... criterion=gini, max_depth=8, max_features=auto, total=   0.0s\n",
            "[CV] criterion=gini, max_depth=8, max_features=auto ..................\n",
            "[CV] ... criterion=gini, max_depth=8, max_features=auto, total=   0.0s\n",
            "[CV] criterion=gini, max_depth=8, max_features=auto ..................\n",
            "[CV] ... criterion=gini, max_depth=8, max_features=auto, total=   0.0s\n",
            "[CV] criterion=gini, max_depth=8, max_features=auto ..................\n",
            "[CV] ... criterion=gini, max_depth=8, max_features=auto, total=   0.0s\n",
            "[CV] criterion=gini, max_depth=8, max_features=auto ..................\n",
            "[CV] ... criterion=gini, max_depth=8, max_features=auto, total=   0.0s\n",
            "[CV] criterion=gini, max_depth=8, max_features=auto ..................\n",
            "[CV] ... criterion=gini, max_depth=8, max_features=auto, total=   0.0s\n",
            "[CV] criterion=gini, max_depth=8, max_features=auto ..................\n",
            "[CV] ... criterion=gini, max_depth=8, max_features=auto, total=   0.0s\n",
            "[CV] criterion=gini, max_depth=8, max_features=auto ..................\n",
            "[CV] ... criterion=gini, max_depth=8, max_features=auto, total=   0.0s\n",
            "[CV] criterion=gini, max_depth=8, max_features=auto ..................\n",
            "[CV] ... criterion=gini, max_depth=8, max_features=auto, total=   0.0s\n",
            "[CV] criterion=gini, max_depth=8, max_features=sqrt ..................\n",
            "[CV] ... criterion=gini, max_depth=8, max_features=sqrt, total=   0.0s\n",
            "[CV] criterion=gini, max_depth=8, max_features=sqrt ..................\n",
            "[CV] ... criterion=gini, max_depth=8, max_features=sqrt, total=   0.0s\n",
            "[CV] criterion=gini, max_depth=8, max_features=sqrt ..................\n",
            "[CV] ... criterion=gini, max_depth=8, max_features=sqrt, total=   0.0s\n",
            "[CV] criterion=gini, max_depth=8, max_features=sqrt ..................\n",
            "[CV] ... criterion=gini, max_depth=8, max_features=sqrt, total=   0.0s\n",
            "[CV] criterion=gini, max_depth=8, max_features=sqrt ..................\n",
            "[CV] ... criterion=gini, max_depth=8, max_features=sqrt, total=   0.0s\n",
            "[CV] criterion=gini, max_depth=8, max_features=sqrt ..................\n",
            "[CV] ... criterion=gini, max_depth=8, max_features=sqrt, total=   0.0s\n",
            "[CV] criterion=gini, max_depth=8, max_features=sqrt ..................\n",
            "[CV] ... criterion=gini, max_depth=8, max_features=sqrt, total=   0.0s\n",
            "[CV] criterion=gini, max_depth=8, max_features=sqrt ..................\n",
            "[CV] ... criterion=gini, max_depth=8, max_features=sqrt, total=   0.0s\n",
            "[CV] criterion=gini, max_depth=8, max_features=sqrt ..................\n",
            "[CV] ... criterion=gini, max_depth=8, max_features=sqrt, total=   0.0s\n",
            "[CV] criterion=gini, max_depth=8, max_features=sqrt ..................\n",
            "[CV] ... criterion=gini, max_depth=8, max_features=sqrt, total=   0.0s\n",
            "[CV] criterion=gini, max_depth=8, max_features=log2 ..................\n",
            "[CV] ... criterion=gini, max_depth=8, max_features=log2, total=   0.0s\n",
            "[CV] criterion=gini, max_depth=8, max_features=log2 ..................\n",
            "[CV] ... criterion=gini, max_depth=8, max_features=log2, total=   0.0s\n",
            "[CV] criterion=gini, max_depth=8, max_features=log2 ..................\n",
            "[CV] ... criterion=gini, max_depth=8, max_features=log2, total=   0.0s\n",
            "[CV] criterion=gini, max_depth=8, max_features=log2 ..................\n",
            "[CV] ... criterion=gini, max_depth=8, max_features=log2, total=   0.0s\n",
            "[CV] criterion=gini, max_depth=8, max_features=log2 ..................\n",
            "[CV] ... criterion=gini, max_depth=8, max_features=log2, total=   0.0s\n",
            "[CV] criterion=gini, max_depth=8, max_features=log2 ..................\n",
            "[CV] ... criterion=gini, max_depth=8, max_features=log2, total=   0.0s\n",
            "[CV] criterion=gini, max_depth=8, max_features=log2 ..................\n",
            "[CV] ... criterion=gini, max_depth=8, max_features=log2, total=   0.0s\n",
            "[CV] criterion=gini, max_depth=8, max_features=log2 ..................\n",
            "[CV] ... criterion=gini, max_depth=8, max_features=log2, total=   0.0s\n",
            "[CV] criterion=gini, max_depth=8, max_features=log2 ..................\n",
            "[CV] ... criterion=gini, max_depth=8, max_features=log2, total=   0.0s\n",
            "[CV] criterion=gini, max_depth=8, max_features=log2 ..................\n",
            "[CV] ... criterion=gini, max_depth=8, max_features=log2, total=   0.0s\n",
            "[CV] criterion=gini, max_depth=8, max_features=None ..................\n",
            "[CV] ... criterion=gini, max_depth=8, max_features=None, total=   0.1s\n",
            "[CV] criterion=gini, max_depth=8, max_features=None ..................\n",
            "[CV] ... criterion=gini, max_depth=8, max_features=None, total=   0.1s\n",
            "[CV] criterion=gini, max_depth=8, max_features=None ..................\n",
            "[CV] ... criterion=gini, max_depth=8, max_features=None, total=   0.1s\n",
            "[CV] criterion=gini, max_depth=8, max_features=None ..................\n",
            "[CV] ... criterion=gini, max_depth=8, max_features=None, total=   0.1s\n",
            "[CV] criterion=gini, max_depth=8, max_features=None ..................\n",
            "[CV] ... criterion=gini, max_depth=8, max_features=None, total=   0.1s\n",
            "[CV] criterion=gini, max_depth=8, max_features=None ..................\n",
            "[CV] ... criterion=gini, max_depth=8, max_features=None, total=   0.1s\n",
            "[CV] criterion=gini, max_depth=8, max_features=None ..................\n",
            "[CV] ... criterion=gini, max_depth=8, max_features=None, total=   0.1s\n",
            "[CV] criterion=gini, max_depth=8, max_features=None ..................\n",
            "[CV] ... criterion=gini, max_depth=8, max_features=None, total=   0.1s\n",
            "[CV] criterion=gini, max_depth=8, max_features=None ..................\n",
            "[CV] ... criterion=gini, max_depth=8, max_features=None, total=   0.1s\n",
            "[CV] criterion=gini, max_depth=8, max_features=None ..................\n",
            "[CV] ... criterion=gini, max_depth=8, max_features=None, total=   0.1s\n",
            "[CV] criterion=gini, max_depth=9, max_features=auto ..................\n",
            "[CV] ... criterion=gini, max_depth=9, max_features=auto, total=   0.0s\n",
            "[CV] criterion=gini, max_depth=9, max_features=auto ..................\n",
            "[CV] ... criterion=gini, max_depth=9, max_features=auto, total=   0.0s\n",
            "[CV] criterion=gini, max_depth=9, max_features=auto ..................\n",
            "[CV] ... criterion=gini, max_depth=9, max_features=auto, total=   0.0s\n",
            "[CV] criterion=gini, max_depth=9, max_features=auto ..................\n",
            "[CV] ... criterion=gini, max_depth=9, max_features=auto, total=   0.0s\n",
            "[CV] criterion=gini, max_depth=9, max_features=auto ..................\n",
            "[CV] ... criterion=gini, max_depth=9, max_features=auto, total=   0.0s\n",
            "[CV] criterion=gini, max_depth=9, max_features=auto ..................\n",
            "[CV] ... criterion=gini, max_depth=9, max_features=auto, total=   0.0s\n",
            "[CV] criterion=gini, max_depth=9, max_features=auto ..................\n",
            "[CV] ... criterion=gini, max_depth=9, max_features=auto, total=   0.0s\n",
            "[CV] criterion=gini, max_depth=9, max_features=auto ..................\n",
            "[CV] ... criterion=gini, max_depth=9, max_features=auto, total=   0.0s\n",
            "[CV] criterion=gini, max_depth=9, max_features=auto ..................\n",
            "[CV] ... criterion=gini, max_depth=9, max_features=auto, total=   0.0s\n",
            "[CV] criterion=gini, max_depth=9, max_features=auto ..................\n",
            "[CV] ... criterion=gini, max_depth=9, max_features=auto, total=   0.0s\n",
            "[CV] criterion=gini, max_depth=9, max_features=sqrt ..................\n",
            "[CV] ... criterion=gini, max_depth=9, max_features=sqrt, total=   0.0s\n",
            "[CV] criterion=gini, max_depth=9, max_features=sqrt ..................\n",
            "[CV] ... criterion=gini, max_depth=9, max_features=sqrt, total=   0.0s\n",
            "[CV] criterion=gini, max_depth=9, max_features=sqrt ..................\n",
            "[CV] ... criterion=gini, max_depth=9, max_features=sqrt, total=   0.0s\n",
            "[CV] criterion=gini, max_depth=9, max_features=sqrt ..................\n",
            "[CV] ... criterion=gini, max_depth=9, max_features=sqrt, total=   0.0s\n",
            "[CV] criterion=gini, max_depth=9, max_features=sqrt ..................\n",
            "[CV] ... criterion=gini, max_depth=9, max_features=sqrt, total=   0.0s\n",
            "[CV] criterion=gini, max_depth=9, max_features=sqrt ..................\n",
            "[CV] ... criterion=gini, max_depth=9, max_features=sqrt, total=   0.0s\n",
            "[CV] criterion=gini, max_depth=9, max_features=sqrt ..................\n",
            "[CV] ... criterion=gini, max_depth=9, max_features=sqrt, total=   0.0s\n",
            "[CV] criterion=gini, max_depth=9, max_features=sqrt ..................\n",
            "[CV] ... criterion=gini, max_depth=9, max_features=sqrt, total=   0.0s\n",
            "[CV] criterion=gini, max_depth=9, max_features=sqrt ..................\n",
            "[CV] ... criterion=gini, max_depth=9, max_features=sqrt, total=   0.0s\n",
            "[CV] criterion=gini, max_depth=9, max_features=sqrt ..................\n",
            "[CV] ... criterion=gini, max_depth=9, max_features=sqrt, total=   0.0s\n",
            "[CV] criterion=gini, max_depth=9, max_features=log2 ..................\n",
            "[CV] ... criterion=gini, max_depth=9, max_features=log2, total=   0.0s\n",
            "[CV] criterion=gini, max_depth=9, max_features=log2 ..................\n",
            "[CV] ... criterion=gini, max_depth=9, max_features=log2, total=   0.0s\n",
            "[CV] criterion=gini, max_depth=9, max_features=log2 ..................\n",
            "[CV] ... criterion=gini, max_depth=9, max_features=log2, total=   0.0s\n",
            "[CV] criterion=gini, max_depth=9, max_features=log2 ..................\n",
            "[CV] ... criterion=gini, max_depth=9, max_features=log2, total=   0.0s\n",
            "[CV] criterion=gini, max_depth=9, max_features=log2 ..................\n",
            "[CV] ... criterion=gini, max_depth=9, max_features=log2, total=   0.0s\n",
            "[CV] criterion=gini, max_depth=9, max_features=log2 ..................\n",
            "[CV] ... criterion=gini, max_depth=9, max_features=log2, total=   0.0s\n",
            "[CV] criterion=gini, max_depth=9, max_features=log2 ..................\n",
            "[CV] ... criterion=gini, max_depth=9, max_features=log2, total=   0.0s\n",
            "[CV] criterion=gini, max_depth=9, max_features=log2 ..................\n",
            "[CV] ... criterion=gini, max_depth=9, max_features=log2, total=   0.0s\n",
            "[CV] criterion=gini, max_depth=9, max_features=log2 ..................\n",
            "[CV] ... criterion=gini, max_depth=9, max_features=log2, total=   0.0s\n",
            "[CV] criterion=gini, max_depth=9, max_features=log2 ..................\n",
            "[CV] ... criterion=gini, max_depth=9, max_features=log2, total=   0.0s\n",
            "[CV] criterion=gini, max_depth=9, max_features=None ..................\n",
            "[CV] ... criterion=gini, max_depth=9, max_features=None, total=   0.1s\n",
            "[CV] criterion=gini, max_depth=9, max_features=None ..................\n",
            "[CV] ... criterion=gini, max_depth=9, max_features=None, total=   0.1s\n",
            "[CV] criterion=gini, max_depth=9, max_features=None ..................\n",
            "[CV] ... criterion=gini, max_depth=9, max_features=None, total=   0.1s\n",
            "[CV] criterion=gini, max_depth=9, max_features=None ..................\n",
            "[CV] ... criterion=gini, max_depth=9, max_features=None, total=   0.1s\n",
            "[CV] criterion=gini, max_depth=9, max_features=None ..................\n",
            "[CV] ... criterion=gini, max_depth=9, max_features=None, total=   0.1s\n",
            "[CV] criterion=gini, max_depth=9, max_features=None ..................\n",
            "[CV] ... criterion=gini, max_depth=9, max_features=None, total=   0.1s\n",
            "[CV] criterion=gini, max_depth=9, max_features=None ..................\n",
            "[CV] ... criterion=gini, max_depth=9, max_features=None, total=   0.1s\n",
            "[CV] criterion=gini, max_depth=9, max_features=None ..................\n",
            "[CV] ... criterion=gini, max_depth=9, max_features=None, total=   0.1s\n",
            "[CV] criterion=gini, max_depth=9, max_features=None ..................\n",
            "[CV] ... criterion=gini, max_depth=9, max_features=None, total=   0.1s\n",
            "[CV] criterion=gini, max_depth=9, max_features=None ..................\n",
            "[CV] ... criterion=gini, max_depth=9, max_features=None, total=   0.1s\n",
            "[CV] criterion=gini, max_depth=10, max_features=auto .................\n",
            "[CV] .. criterion=gini, max_depth=10, max_features=auto, total=   0.0s\n",
            "[CV] criterion=gini, max_depth=10, max_features=auto .................\n",
            "[CV] .. criterion=gini, max_depth=10, max_features=auto, total=   0.0s\n",
            "[CV] criterion=gini, max_depth=10, max_features=auto .................\n",
            "[CV] .. criterion=gini, max_depth=10, max_features=auto, total=   0.0s\n",
            "[CV] criterion=gini, max_depth=10, max_features=auto .................\n",
            "[CV] .. criterion=gini, max_depth=10, max_features=auto, total=   0.0s\n",
            "[CV] criterion=gini, max_depth=10, max_features=auto .................\n",
            "[CV] .. criterion=gini, max_depth=10, max_features=auto, total=   0.0s\n",
            "[CV] criterion=gini, max_depth=10, max_features=auto .................\n",
            "[CV] .. criterion=gini, max_depth=10, max_features=auto, total=   0.0s\n",
            "[CV] criterion=gini, max_depth=10, max_features=auto .................\n",
            "[CV] .. criterion=gini, max_depth=10, max_features=auto, total=   0.0s\n",
            "[CV] criterion=gini, max_depth=10, max_features=auto .................\n",
            "[CV] .. criterion=gini, max_depth=10, max_features=auto, total=   0.0s\n",
            "[CV] criterion=gini, max_depth=10, max_features=auto .................\n",
            "[CV] .. criterion=gini, max_depth=10, max_features=auto, total=   0.0s\n",
            "[CV] criterion=gini, max_depth=10, max_features=auto .................\n",
            "[CV] .. criterion=gini, max_depth=10, max_features=auto, total=   0.0s\n",
            "[CV] criterion=gini, max_depth=10, max_features=sqrt .................\n",
            "[CV] .. criterion=gini, max_depth=10, max_features=sqrt, total=   0.0s\n",
            "[CV] criterion=gini, max_depth=10, max_features=sqrt .................\n",
            "[CV] .. criterion=gini, max_depth=10, max_features=sqrt, total=   0.0s\n",
            "[CV] criterion=gini, max_depth=10, max_features=sqrt .................\n",
            "[CV] .. criterion=gini, max_depth=10, max_features=sqrt, total=   0.0s\n",
            "[CV] criterion=gini, max_depth=10, max_features=sqrt .................\n",
            "[CV] .. criterion=gini, max_depth=10, max_features=sqrt, total=   0.0s\n",
            "[CV] criterion=gini, max_depth=10, max_features=sqrt .................\n",
            "[CV] .. criterion=gini, max_depth=10, max_features=sqrt, total=   0.0s\n",
            "[CV] criterion=gini, max_depth=10, max_features=sqrt .................\n",
            "[CV] .. criterion=gini, max_depth=10, max_features=sqrt, total=   0.0s\n",
            "[CV] criterion=gini, max_depth=10, max_features=sqrt .................\n",
            "[CV] .. criterion=gini, max_depth=10, max_features=sqrt, total=   0.0s\n",
            "[CV] criterion=gini, max_depth=10, max_features=sqrt .................\n",
            "[CV] .. criterion=gini, max_depth=10, max_features=sqrt, total=   0.0s\n",
            "[CV] criterion=gini, max_depth=10, max_features=sqrt .................\n",
            "[CV] .. criterion=gini, max_depth=10, max_features=sqrt, total=   0.0s\n",
            "[CV] criterion=gini, max_depth=10, max_features=sqrt .................\n",
            "[CV] .. criterion=gini, max_depth=10, max_features=sqrt, total=   0.0s\n",
            "[CV] criterion=gini, max_depth=10, max_features=log2 .................\n",
            "[CV] .. criterion=gini, max_depth=10, max_features=log2, total=   0.0s\n",
            "[CV] criterion=gini, max_depth=10, max_features=log2 .................\n",
            "[CV] .. criterion=gini, max_depth=10, max_features=log2, total=   0.0s\n",
            "[CV] criterion=gini, max_depth=10, max_features=log2 .................\n",
            "[CV] .. criterion=gini, max_depth=10, max_features=log2, total=   0.0s\n",
            "[CV] criterion=gini, max_depth=10, max_features=log2 .................\n",
            "[CV] .. criterion=gini, max_depth=10, max_features=log2, total=   0.0s\n",
            "[CV] criterion=gini, max_depth=10, max_features=log2 .................\n",
            "[CV] .. criterion=gini, max_depth=10, max_features=log2, total=   0.0s\n",
            "[CV] criterion=gini, max_depth=10, max_features=log2 .................\n",
            "[CV] .. criterion=gini, max_depth=10, max_features=log2, total=   0.0s\n",
            "[CV] criterion=gini, max_depth=10, max_features=log2 .................\n",
            "[CV] .. criterion=gini, max_depth=10, max_features=log2, total=   0.0s\n",
            "[CV] criterion=gini, max_depth=10, max_features=log2 .................\n",
            "[CV] .. criterion=gini, max_depth=10, max_features=log2, total=   0.0s\n",
            "[CV] criterion=gini, max_depth=10, max_features=log2 .................\n",
            "[CV] .. criterion=gini, max_depth=10, max_features=log2, total=   0.0s\n",
            "[CV] criterion=gini, max_depth=10, max_features=log2 .................\n",
            "[CV] .. criterion=gini, max_depth=10, max_features=log2, total=   0.0s\n",
            "[CV] criterion=gini, max_depth=10, max_features=None .................\n",
            "[CV] .. criterion=gini, max_depth=10, max_features=None, total=   0.1s\n",
            "[CV] criterion=gini, max_depth=10, max_features=None .................\n",
            "[CV] .. criterion=gini, max_depth=10, max_features=None, total=   0.1s\n",
            "[CV] criterion=gini, max_depth=10, max_features=None .................\n",
            "[CV] .. criterion=gini, max_depth=10, max_features=None, total=   0.1s\n",
            "[CV] criterion=gini, max_depth=10, max_features=None .................\n",
            "[CV] .. criterion=gini, max_depth=10, max_features=None, total=   0.1s\n",
            "[CV] criterion=gini, max_depth=10, max_features=None .................\n",
            "[CV] .. criterion=gini, max_depth=10, max_features=None, total=   0.1s\n",
            "[CV] criterion=gini, max_depth=10, max_features=None .................\n",
            "[CV] .. criterion=gini, max_depth=10, max_features=None, total=   0.1s\n",
            "[CV] criterion=gini, max_depth=10, max_features=None .................\n",
            "[CV] .. criterion=gini, max_depth=10, max_features=None, total=   0.1s\n",
            "[CV] criterion=gini, max_depth=10, max_features=None .................\n",
            "[CV] .. criterion=gini, max_depth=10, max_features=None, total=   0.1s\n",
            "[CV] criterion=gini, max_depth=10, max_features=None .................\n",
            "[CV] .. criterion=gini, max_depth=10, max_features=None, total=   0.1s\n",
            "[CV] criterion=gini, max_depth=10, max_features=None .................\n",
            "[CV] .. criterion=gini, max_depth=10, max_features=None, total=   0.1s\n",
            "[CV] criterion=gini, max_depth=11, max_features=auto .................\n",
            "[CV] .. criterion=gini, max_depth=11, max_features=auto, total=   0.0s\n",
            "[CV] criterion=gini, max_depth=11, max_features=auto .................\n",
            "[CV] .. criterion=gini, max_depth=11, max_features=auto, total=   0.0s\n",
            "[CV] criterion=gini, max_depth=11, max_features=auto .................\n",
            "[CV] .. criterion=gini, max_depth=11, max_features=auto, total=   0.0s\n",
            "[CV] criterion=gini, max_depth=11, max_features=auto .................\n",
            "[CV] .. criterion=gini, max_depth=11, max_features=auto, total=   0.0s\n",
            "[CV] criterion=gini, max_depth=11, max_features=auto .................\n",
            "[CV] .. criterion=gini, max_depth=11, max_features=auto, total=   0.0s\n",
            "[CV] criterion=gini, max_depth=11, max_features=auto .................\n",
            "[CV] .. criterion=gini, max_depth=11, max_features=auto, total=   0.0s\n",
            "[CV] criterion=gini, max_depth=11, max_features=auto .................\n",
            "[CV] .. criterion=gini, max_depth=11, max_features=auto, total=   0.0s\n",
            "[CV] criterion=gini, max_depth=11, max_features=auto .................\n",
            "[CV] .. criterion=gini, max_depth=11, max_features=auto, total=   0.0s\n",
            "[CV] criterion=gini, max_depth=11, max_features=auto .................\n",
            "[CV] .. criterion=gini, max_depth=11, max_features=auto, total=   0.0s\n",
            "[CV] criterion=gini, max_depth=11, max_features=auto .................\n",
            "[CV] .. criterion=gini, max_depth=11, max_features=auto, total=   0.0s\n",
            "[CV] criterion=gini, max_depth=11, max_features=sqrt .................\n",
            "[CV] .. criterion=gini, max_depth=11, max_features=sqrt, total=   0.0s\n",
            "[CV] criterion=gini, max_depth=11, max_features=sqrt .................\n",
            "[CV] .. criterion=gini, max_depth=11, max_features=sqrt, total=   0.0s\n",
            "[CV] criterion=gini, max_depth=11, max_features=sqrt .................\n",
            "[CV] .. criterion=gini, max_depth=11, max_features=sqrt, total=   0.0s\n",
            "[CV] criterion=gini, max_depth=11, max_features=sqrt .................\n",
            "[CV] .. criterion=gini, max_depth=11, max_features=sqrt, total=   0.0s\n",
            "[CV] criterion=gini, max_depth=11, max_features=sqrt .................\n",
            "[CV] .. criterion=gini, max_depth=11, max_features=sqrt, total=   0.0s\n",
            "[CV] criterion=gini, max_depth=11, max_features=sqrt .................\n",
            "[CV] .. criterion=gini, max_depth=11, max_features=sqrt, total=   0.0s\n",
            "[CV] criterion=gini, max_depth=11, max_features=sqrt .................\n",
            "[CV] .. criterion=gini, max_depth=11, max_features=sqrt, total=   0.0s\n",
            "[CV] criterion=gini, max_depth=11, max_features=sqrt .................\n",
            "[CV] .. criterion=gini, max_depth=11, max_features=sqrt, total=   0.0s\n",
            "[CV] criterion=gini, max_depth=11, max_features=sqrt .................\n",
            "[CV] .. criterion=gini, max_depth=11, max_features=sqrt, total=   0.0s\n",
            "[CV] criterion=gini, max_depth=11, max_features=sqrt .................\n",
            "[CV] .. criterion=gini, max_depth=11, max_features=sqrt, total=   0.0s\n",
            "[CV] criterion=gini, max_depth=11, max_features=log2 .................\n",
            "[CV] .. criterion=gini, max_depth=11, max_features=log2, total=   0.0s\n",
            "[CV] criterion=gini, max_depth=11, max_features=log2 .................\n",
            "[CV] .. criterion=gini, max_depth=11, max_features=log2, total=   0.0s\n",
            "[CV] criterion=gini, max_depth=11, max_features=log2 .................\n",
            "[CV] .. criterion=gini, max_depth=11, max_features=log2, total=   0.0s\n",
            "[CV] criterion=gini, max_depth=11, max_features=log2 .................\n",
            "[CV] .. criterion=gini, max_depth=11, max_features=log2, total=   0.0s\n",
            "[CV] criterion=gini, max_depth=11, max_features=log2 .................\n",
            "[CV] .. criterion=gini, max_depth=11, max_features=log2, total=   0.0s\n",
            "[CV] criterion=gini, max_depth=11, max_features=log2 .................\n",
            "[CV] .. criterion=gini, max_depth=11, max_features=log2, total=   0.0s\n",
            "[CV] criterion=gini, max_depth=11, max_features=log2 .................\n",
            "[CV] .. criterion=gini, max_depth=11, max_features=log2, total=   0.0s\n",
            "[CV] criterion=gini, max_depth=11, max_features=log2 .................\n",
            "[CV] .. criterion=gini, max_depth=11, max_features=log2, total=   0.0s\n",
            "[CV] criterion=gini, max_depth=11, max_features=log2 .................\n",
            "[CV] .. criterion=gini, max_depth=11, max_features=log2, total=   0.0s\n",
            "[CV] criterion=gini, max_depth=11, max_features=log2 .................\n",
            "[CV] .. criterion=gini, max_depth=11, max_features=log2, total=   0.0s\n",
            "[CV] criterion=gini, max_depth=11, max_features=None .................\n",
            "[CV] .. criterion=gini, max_depth=11, max_features=None, total=   0.1s\n",
            "[CV] criterion=gini, max_depth=11, max_features=None .................\n",
            "[CV] .. criterion=gini, max_depth=11, max_features=None, total=   0.1s\n",
            "[CV] criterion=gini, max_depth=11, max_features=None .................\n",
            "[CV] .. criterion=gini, max_depth=11, max_features=None, total=   0.1s\n",
            "[CV] criterion=gini, max_depth=11, max_features=None .................\n",
            "[CV] .. criterion=gini, max_depth=11, max_features=None, total=   0.1s\n",
            "[CV] criterion=gini, max_depth=11, max_features=None .................\n",
            "[CV] .. criterion=gini, max_depth=11, max_features=None, total=   0.1s\n",
            "[CV] criterion=gini, max_depth=11, max_features=None .................\n",
            "[CV] .. criterion=gini, max_depth=11, max_features=None, total=   0.1s\n",
            "[CV] criterion=gini, max_depth=11, max_features=None .................\n",
            "[CV] .. criterion=gini, max_depth=11, max_features=None, total=   0.1s\n",
            "[CV] criterion=gini, max_depth=11, max_features=None .................\n",
            "[CV] .. criterion=gini, max_depth=11, max_features=None, total=   0.1s\n",
            "[CV] criterion=gini, max_depth=11, max_features=None .................\n",
            "[CV] .. criterion=gini, max_depth=11, max_features=None, total=   0.1s\n",
            "[CV] criterion=gini, max_depth=11, max_features=None .................\n",
            "[CV] .. criterion=gini, max_depth=11, max_features=None, total=   0.1s\n",
            "[CV] criterion=gini, max_depth=12, max_features=auto .................\n",
            "[CV] .. criterion=gini, max_depth=12, max_features=auto, total=   0.0s\n",
            "[CV] criterion=gini, max_depth=12, max_features=auto .................\n",
            "[CV] .. criterion=gini, max_depth=12, max_features=auto, total=   0.0s\n",
            "[CV] criterion=gini, max_depth=12, max_features=auto .................\n",
            "[CV] .. criterion=gini, max_depth=12, max_features=auto, total=   0.0s\n",
            "[CV] criterion=gini, max_depth=12, max_features=auto .................\n",
            "[CV] .. criterion=gini, max_depth=12, max_features=auto, total=   0.0s\n",
            "[CV] criterion=gini, max_depth=12, max_features=auto .................\n",
            "[CV] .. criterion=gini, max_depth=12, max_features=auto, total=   0.0s\n",
            "[CV] criterion=gini, max_depth=12, max_features=auto .................\n",
            "[CV] .. criterion=gini, max_depth=12, max_features=auto, total=   0.0s\n",
            "[CV] criterion=gini, max_depth=12, max_features=auto .................\n",
            "[CV] .. criterion=gini, max_depth=12, max_features=auto, total=   0.0s\n",
            "[CV] criterion=gini, max_depth=12, max_features=auto .................\n",
            "[CV] .. criterion=gini, max_depth=12, max_features=auto, total=   0.0s\n",
            "[CV] criterion=gini, max_depth=12, max_features=auto .................\n",
            "[CV] .. criterion=gini, max_depth=12, max_features=auto, total=   0.0s\n",
            "[CV] criterion=gini, max_depth=12, max_features=auto .................\n",
            "[CV] .. criterion=gini, max_depth=12, max_features=auto, total=   0.0s\n",
            "[CV] criterion=gini, max_depth=12, max_features=sqrt .................\n",
            "[CV] .. criterion=gini, max_depth=12, max_features=sqrt, total=   0.0s\n",
            "[CV] criterion=gini, max_depth=12, max_features=sqrt .................\n",
            "[CV] .. criterion=gini, max_depth=12, max_features=sqrt, total=   0.0s\n",
            "[CV] criterion=gini, max_depth=12, max_features=sqrt .................\n",
            "[CV] .. criterion=gini, max_depth=12, max_features=sqrt, total=   0.0s\n",
            "[CV] criterion=gini, max_depth=12, max_features=sqrt .................\n",
            "[CV] .. criterion=gini, max_depth=12, max_features=sqrt, total=   0.0s\n",
            "[CV] criterion=gini, max_depth=12, max_features=sqrt .................\n",
            "[CV] .. criterion=gini, max_depth=12, max_features=sqrt, total=   0.0s\n",
            "[CV] criterion=gini, max_depth=12, max_features=sqrt .................\n",
            "[CV] .. criterion=gini, max_depth=12, max_features=sqrt, total=   0.0s\n",
            "[CV] criterion=gini, max_depth=12, max_features=sqrt .................\n",
            "[CV] .. criterion=gini, max_depth=12, max_features=sqrt, total=   0.0s\n",
            "[CV] criterion=gini, max_depth=12, max_features=sqrt .................\n",
            "[CV] .. criterion=gini, max_depth=12, max_features=sqrt, total=   0.0s\n",
            "[CV] criterion=gini, max_depth=12, max_features=sqrt .................\n",
            "[CV] .. criterion=gini, max_depth=12, max_features=sqrt, total=   0.0s\n",
            "[CV] criterion=gini, max_depth=12, max_features=sqrt .................\n",
            "[CV] .. criterion=gini, max_depth=12, max_features=sqrt, total=   0.0s\n",
            "[CV] criterion=gini, max_depth=12, max_features=log2 .................\n",
            "[CV] .. criterion=gini, max_depth=12, max_features=log2, total=   0.0s\n",
            "[CV] criterion=gini, max_depth=12, max_features=log2 .................\n",
            "[CV] .. criterion=gini, max_depth=12, max_features=log2, total=   0.0s\n",
            "[CV] criterion=gini, max_depth=12, max_features=log2 .................\n",
            "[CV] .. criterion=gini, max_depth=12, max_features=log2, total=   0.0s\n",
            "[CV] criterion=gini, max_depth=12, max_features=log2 .................\n",
            "[CV] .. criterion=gini, max_depth=12, max_features=log2, total=   0.0s\n",
            "[CV] criterion=gini, max_depth=12, max_features=log2 .................\n",
            "[CV] .. criterion=gini, max_depth=12, max_features=log2, total=   0.0s\n",
            "[CV] criterion=gini, max_depth=12, max_features=log2 .................\n",
            "[CV] .. criterion=gini, max_depth=12, max_features=log2, total=   0.0s\n",
            "[CV] criterion=gini, max_depth=12, max_features=log2 .................\n",
            "[CV] .. criterion=gini, max_depth=12, max_features=log2, total=   0.0s\n",
            "[CV] criterion=gini, max_depth=12, max_features=log2 .................\n",
            "[CV] .. criterion=gini, max_depth=12, max_features=log2, total=   0.0s\n",
            "[CV] criterion=gini, max_depth=12, max_features=log2 .................\n",
            "[CV] .. criterion=gini, max_depth=12, max_features=log2, total=   0.0s\n",
            "[CV] criterion=gini, max_depth=12, max_features=log2 .................\n",
            "[CV] .. criterion=gini, max_depth=12, max_features=log2, total=   0.0s\n",
            "[CV] criterion=gini, max_depth=12, max_features=None .................\n",
            "[CV] .. criterion=gini, max_depth=12, max_features=None, total=   0.1s\n",
            "[CV] criterion=gini, max_depth=12, max_features=None .................\n",
            "[CV] .. criterion=gini, max_depth=12, max_features=None, total=   0.1s\n",
            "[CV] criterion=gini, max_depth=12, max_features=None .................\n",
            "[CV] .. criterion=gini, max_depth=12, max_features=None, total=   0.1s\n",
            "[CV] criterion=gini, max_depth=12, max_features=None .................\n",
            "[CV] .. criterion=gini, max_depth=12, max_features=None, total=   0.1s\n",
            "[CV] criterion=gini, max_depth=12, max_features=None .................\n",
            "[CV] .. criterion=gini, max_depth=12, max_features=None, total=   0.1s\n",
            "[CV] criterion=gini, max_depth=12, max_features=None .................\n",
            "[CV] .. criterion=gini, max_depth=12, max_features=None, total=   0.1s\n",
            "[CV] criterion=gini, max_depth=12, max_features=None .................\n",
            "[CV] .. criterion=gini, max_depth=12, max_features=None, total=   0.1s\n",
            "[CV] criterion=gini, max_depth=12, max_features=None .................\n",
            "[CV] .. criterion=gini, max_depth=12, max_features=None, total=   0.1s\n",
            "[CV] criterion=gini, max_depth=12, max_features=None .................\n",
            "[CV] .. criterion=gini, max_depth=12, max_features=None, total=   0.1s\n",
            "[CV] criterion=gini, max_depth=12, max_features=None .................\n",
            "[CV] .. criterion=gini, max_depth=12, max_features=None, total=   0.1s\n",
            "[CV] criterion=gini, max_depth=13, max_features=auto .................\n",
            "[CV] .. criterion=gini, max_depth=13, max_features=auto, total=   0.0s\n",
            "[CV] criterion=gini, max_depth=13, max_features=auto .................\n",
            "[CV] .. criterion=gini, max_depth=13, max_features=auto, total=   0.0s\n",
            "[CV] criterion=gini, max_depth=13, max_features=auto .................\n",
            "[CV] .. criterion=gini, max_depth=13, max_features=auto, total=   0.0s\n",
            "[CV] criterion=gini, max_depth=13, max_features=auto .................\n",
            "[CV] .. criterion=gini, max_depth=13, max_features=auto, total=   0.0s\n",
            "[CV] criterion=gini, max_depth=13, max_features=auto .................\n",
            "[CV] .. criterion=gini, max_depth=13, max_features=auto, total=   0.0s\n",
            "[CV] criterion=gini, max_depth=13, max_features=auto .................\n",
            "[CV] .. criterion=gini, max_depth=13, max_features=auto, total=   0.0s\n",
            "[CV] criterion=gini, max_depth=13, max_features=auto .................\n",
            "[CV] .. criterion=gini, max_depth=13, max_features=auto, total=   0.0s\n",
            "[CV] criterion=gini, max_depth=13, max_features=auto .................\n",
            "[CV] .. criterion=gini, max_depth=13, max_features=auto, total=   0.0s\n",
            "[CV] criterion=gini, max_depth=13, max_features=auto .................\n",
            "[CV] .. criterion=gini, max_depth=13, max_features=auto, total=   0.0s\n",
            "[CV] criterion=gini, max_depth=13, max_features=auto .................\n",
            "[CV] .. criterion=gini, max_depth=13, max_features=auto, total=   0.0s\n",
            "[CV] criterion=gini, max_depth=13, max_features=sqrt .................\n",
            "[CV] .. criterion=gini, max_depth=13, max_features=sqrt, total=   0.0s\n",
            "[CV] criterion=gini, max_depth=13, max_features=sqrt .................\n",
            "[CV] .. criterion=gini, max_depth=13, max_features=sqrt, total=   0.0s\n",
            "[CV] criterion=gini, max_depth=13, max_features=sqrt .................\n",
            "[CV] .. criterion=gini, max_depth=13, max_features=sqrt, total=   0.0s\n",
            "[CV] criterion=gini, max_depth=13, max_features=sqrt .................\n",
            "[CV] .. criterion=gini, max_depth=13, max_features=sqrt, total=   0.0s\n",
            "[CV] criterion=gini, max_depth=13, max_features=sqrt .................\n",
            "[CV] .. criterion=gini, max_depth=13, max_features=sqrt, total=   0.0s\n",
            "[CV] criterion=gini, max_depth=13, max_features=sqrt .................\n",
            "[CV] .. criterion=gini, max_depth=13, max_features=sqrt, total=   0.0s\n",
            "[CV] criterion=gini, max_depth=13, max_features=sqrt .................\n",
            "[CV] .. criterion=gini, max_depth=13, max_features=sqrt, total=   0.0s\n",
            "[CV] criterion=gini, max_depth=13, max_features=sqrt .................\n",
            "[CV] .. criterion=gini, max_depth=13, max_features=sqrt, total=   0.0s\n",
            "[CV] criterion=gini, max_depth=13, max_features=sqrt .................\n",
            "[CV] .. criterion=gini, max_depth=13, max_features=sqrt, total=   0.0s\n",
            "[CV] criterion=gini, max_depth=13, max_features=sqrt .................\n",
            "[CV] .. criterion=gini, max_depth=13, max_features=sqrt, total=   0.0s\n",
            "[CV] criterion=gini, max_depth=13, max_features=log2 .................\n",
            "[CV] .. criterion=gini, max_depth=13, max_features=log2, total=   0.0s\n",
            "[CV] criterion=gini, max_depth=13, max_features=log2 .................\n",
            "[CV] .. criterion=gini, max_depth=13, max_features=log2, total=   0.0s\n",
            "[CV] criterion=gini, max_depth=13, max_features=log2 .................\n",
            "[CV] .. criterion=gini, max_depth=13, max_features=log2, total=   0.0s\n",
            "[CV] criterion=gini, max_depth=13, max_features=log2 .................\n",
            "[CV] .. criterion=gini, max_depth=13, max_features=log2, total=   0.0s\n",
            "[CV] criterion=gini, max_depth=13, max_features=log2 .................\n",
            "[CV] .. criterion=gini, max_depth=13, max_features=log2, total=   0.0s\n",
            "[CV] criterion=gini, max_depth=13, max_features=log2 .................\n",
            "[CV] .. criterion=gini, max_depth=13, max_features=log2, total=   0.0s\n",
            "[CV] criterion=gini, max_depth=13, max_features=log2 .................\n",
            "[CV] .. criterion=gini, max_depth=13, max_features=log2, total=   0.0s\n",
            "[CV] criterion=gini, max_depth=13, max_features=log2 .................\n",
            "[CV] .. criterion=gini, max_depth=13, max_features=log2, total=   0.0s\n",
            "[CV] criterion=gini, max_depth=13, max_features=log2 .................\n",
            "[CV] .. criterion=gini, max_depth=13, max_features=log2, total=   0.0s\n",
            "[CV] criterion=gini, max_depth=13, max_features=log2 .................\n",
            "[CV] .. criterion=gini, max_depth=13, max_features=log2, total=   0.0s\n",
            "[CV] criterion=gini, max_depth=13, max_features=None .................\n",
            "[CV] .. criterion=gini, max_depth=13, max_features=None, total=   0.1s\n",
            "[CV] criterion=gini, max_depth=13, max_features=None .................\n",
            "[CV] .. criterion=gini, max_depth=13, max_features=None, total=   0.1s\n",
            "[CV] criterion=gini, max_depth=13, max_features=None .................\n",
            "[CV] .. criterion=gini, max_depth=13, max_features=None, total=   0.1s\n",
            "[CV] criterion=gini, max_depth=13, max_features=None .................\n",
            "[CV] .. criterion=gini, max_depth=13, max_features=None, total=   0.1s\n",
            "[CV] criterion=gini, max_depth=13, max_features=None .................\n",
            "[CV] .. criterion=gini, max_depth=13, max_features=None, total=   0.1s\n",
            "[CV] criterion=gini, max_depth=13, max_features=None .................\n",
            "[CV] .. criterion=gini, max_depth=13, max_features=None, total=   0.1s\n",
            "[CV] criterion=gini, max_depth=13, max_features=None .................\n",
            "[CV] .. criterion=gini, max_depth=13, max_features=None, total=   0.1s\n",
            "[CV] criterion=gini, max_depth=13, max_features=None .................\n",
            "[CV] .. criterion=gini, max_depth=13, max_features=None, total=   0.1s\n",
            "[CV] criterion=gini, max_depth=13, max_features=None .................\n",
            "[CV] .. criterion=gini, max_depth=13, max_features=None, total=   0.1s\n",
            "[CV] criterion=gini, max_depth=13, max_features=None .................\n",
            "[CV] .. criterion=gini, max_depth=13, max_features=None, total=   0.1s\n",
            "[CV] criterion=gini, max_depth=14, max_features=auto .................\n",
            "[CV] .. criterion=gini, max_depth=14, max_features=auto, total=   0.0s\n",
            "[CV] criterion=gini, max_depth=14, max_features=auto .................\n",
            "[CV] .. criterion=gini, max_depth=14, max_features=auto, total=   0.0s\n",
            "[CV] criterion=gini, max_depth=14, max_features=auto .................\n",
            "[CV] .. criterion=gini, max_depth=14, max_features=auto, total=   0.0s\n",
            "[CV] criterion=gini, max_depth=14, max_features=auto .................\n",
            "[CV] .. criterion=gini, max_depth=14, max_features=auto, total=   0.0s\n",
            "[CV] criterion=gini, max_depth=14, max_features=auto .................\n",
            "[CV] .. criterion=gini, max_depth=14, max_features=auto, total=   0.0s\n",
            "[CV] criterion=gini, max_depth=14, max_features=auto .................\n",
            "[CV] .. criterion=gini, max_depth=14, max_features=auto, total=   0.0s\n",
            "[CV] criterion=gini, max_depth=14, max_features=auto .................\n",
            "[CV] .. criterion=gini, max_depth=14, max_features=auto, total=   0.0s\n",
            "[CV] criterion=gini, max_depth=14, max_features=auto .................\n",
            "[CV] .. criterion=gini, max_depth=14, max_features=auto, total=   0.0s\n",
            "[CV] criterion=gini, max_depth=14, max_features=auto .................\n",
            "[CV] .. criterion=gini, max_depth=14, max_features=auto, total=   0.0s\n",
            "[CV] criterion=gini, max_depth=14, max_features=auto .................\n",
            "[CV] .. criterion=gini, max_depth=14, max_features=auto, total=   0.0s\n",
            "[CV] criterion=gini, max_depth=14, max_features=sqrt .................\n",
            "[CV] .. criterion=gini, max_depth=14, max_features=sqrt, total=   0.0s\n",
            "[CV] criterion=gini, max_depth=14, max_features=sqrt .................\n",
            "[CV] .. criterion=gini, max_depth=14, max_features=sqrt, total=   0.0s\n",
            "[CV] criterion=gini, max_depth=14, max_features=sqrt .................\n",
            "[CV] .. criterion=gini, max_depth=14, max_features=sqrt, total=   0.0s\n",
            "[CV] criterion=gini, max_depth=14, max_features=sqrt .................\n",
            "[CV] .. criterion=gini, max_depth=14, max_features=sqrt, total=   0.0s\n",
            "[CV] criterion=gini, max_depth=14, max_features=sqrt .................\n",
            "[CV] .. criterion=gini, max_depth=14, max_features=sqrt, total=   0.0s\n",
            "[CV] criterion=gini, max_depth=14, max_features=sqrt .................\n",
            "[CV] .. criterion=gini, max_depth=14, max_features=sqrt, total=   0.0s\n",
            "[CV] criterion=gini, max_depth=14, max_features=sqrt .................\n",
            "[CV] .. criterion=gini, max_depth=14, max_features=sqrt, total=   0.0s\n",
            "[CV] criterion=gini, max_depth=14, max_features=sqrt .................\n",
            "[CV] .. criterion=gini, max_depth=14, max_features=sqrt, total=   0.0s\n",
            "[CV] criterion=gini, max_depth=14, max_features=sqrt .................\n",
            "[CV] .. criterion=gini, max_depth=14, max_features=sqrt, total=   0.0s\n",
            "[CV] criterion=gini, max_depth=14, max_features=sqrt .................\n",
            "[CV] .. criterion=gini, max_depth=14, max_features=sqrt, total=   0.0s\n",
            "[CV] criterion=gini, max_depth=14, max_features=log2 .................\n",
            "[CV] .. criterion=gini, max_depth=14, max_features=log2, total=   0.0s\n",
            "[CV] criterion=gini, max_depth=14, max_features=log2 .................\n",
            "[CV] .. criterion=gini, max_depth=14, max_features=log2, total=   0.0s\n",
            "[CV] criterion=gini, max_depth=14, max_features=log2 .................\n",
            "[CV] .. criterion=gini, max_depth=14, max_features=log2, total=   0.0s\n",
            "[CV] criterion=gini, max_depth=14, max_features=log2 .................\n",
            "[CV] .. criterion=gini, max_depth=14, max_features=log2, total=   0.0s\n",
            "[CV] criterion=gini, max_depth=14, max_features=log2 .................\n",
            "[CV] .. criterion=gini, max_depth=14, max_features=log2, total=   0.0s\n",
            "[CV] criterion=gini, max_depth=14, max_features=log2 .................\n",
            "[CV] .. criterion=gini, max_depth=14, max_features=log2, total=   0.0s\n",
            "[CV] criterion=gini, max_depth=14, max_features=log2 .................\n",
            "[CV] .. criterion=gini, max_depth=14, max_features=log2, total=   0.0s\n",
            "[CV] criterion=gini, max_depth=14, max_features=log2 .................\n",
            "[CV] .. criterion=gini, max_depth=14, max_features=log2, total=   0.0s\n",
            "[CV] criterion=gini, max_depth=14, max_features=log2 .................\n",
            "[CV] .. criterion=gini, max_depth=14, max_features=log2, total=   0.0s\n",
            "[CV] criterion=gini, max_depth=14, max_features=log2 .................\n",
            "[CV] .. criterion=gini, max_depth=14, max_features=log2, total=   0.0s\n",
            "[CV] criterion=gini, max_depth=14, max_features=None .................\n",
            "[CV] .. criterion=gini, max_depth=14, max_features=None, total=   0.1s\n",
            "[CV] criterion=gini, max_depth=14, max_features=None .................\n",
            "[CV] .. criterion=gini, max_depth=14, max_features=None, total=   0.1s\n",
            "[CV] criterion=gini, max_depth=14, max_features=None .................\n",
            "[CV] .. criterion=gini, max_depth=14, max_features=None, total=   0.1s\n",
            "[CV] criterion=gini, max_depth=14, max_features=None .................\n",
            "[CV] .. criterion=gini, max_depth=14, max_features=None, total=   0.1s\n",
            "[CV] criterion=gini, max_depth=14, max_features=None .................\n",
            "[CV] .. criterion=gini, max_depth=14, max_features=None, total=   0.1s\n",
            "[CV] criterion=gini, max_depth=14, max_features=None .................\n",
            "[CV] .. criterion=gini, max_depth=14, max_features=None, total=   0.1s\n",
            "[CV] criterion=gini, max_depth=14, max_features=None .................\n",
            "[CV] .. criterion=gini, max_depth=14, max_features=None, total=   0.1s\n",
            "[CV] criterion=gini, max_depth=14, max_features=None .................\n",
            "[CV] .. criterion=gini, max_depth=14, max_features=None, total=   0.1s\n",
            "[CV] criterion=gini, max_depth=14, max_features=None .................\n",
            "[CV] .. criterion=gini, max_depth=14, max_features=None, total=   0.1s\n",
            "[CV] criterion=gini, max_depth=14, max_features=None .................\n",
            "[CV] .. criterion=gini, max_depth=14, max_features=None, total=   0.1s\n",
            "[CV] criterion=entropy, max_depth=7, max_features=auto ...............\n",
            "[CV]  criterion=entropy, max_depth=7, max_features=auto, total=   0.0s\n",
            "[CV] criterion=entropy, max_depth=7, max_features=auto ...............\n",
            "[CV]  criterion=entropy, max_depth=7, max_features=auto, total=   0.0s\n",
            "[CV] criterion=entropy, max_depth=7, max_features=auto ...............\n",
            "[CV]  criterion=entropy, max_depth=7, max_features=auto, total=   0.0s\n",
            "[CV] criterion=entropy, max_depth=7, max_features=auto ...............\n",
            "[CV]  criterion=entropy, max_depth=7, max_features=auto, total=   0.0s\n",
            "[CV] criterion=entropy, max_depth=7, max_features=auto ...............\n",
            "[CV]  criterion=entropy, max_depth=7, max_features=auto, total=   0.0s\n",
            "[CV] criterion=entropy, max_depth=7, max_features=auto ...............\n",
            "[CV]  criterion=entropy, max_depth=7, max_features=auto, total=   0.0s\n",
            "[CV] criterion=entropy, max_depth=7, max_features=auto ...............\n",
            "[CV]  criterion=entropy, max_depth=7, max_features=auto, total=   0.0s\n",
            "[CV] criterion=entropy, max_depth=7, max_features=auto ...............\n",
            "[CV]  criterion=entropy, max_depth=7, max_features=auto, total=   0.0s\n",
            "[CV] criterion=entropy, max_depth=7, max_features=auto ...............\n",
            "[CV]  criterion=entropy, max_depth=7, max_features=auto, total=   0.0s\n",
            "[CV] criterion=entropy, max_depth=7, max_features=auto ...............\n",
            "[CV]  criterion=entropy, max_depth=7, max_features=auto, total=   0.0s\n",
            "[CV] criterion=entropy, max_depth=7, max_features=sqrt ...............\n",
            "[CV]  criterion=entropy, max_depth=7, max_features=sqrt, total=   0.0s\n",
            "[CV] criterion=entropy, max_depth=7, max_features=sqrt ...............\n",
            "[CV]  criterion=entropy, max_depth=7, max_features=sqrt, total=   0.0s\n",
            "[CV] criterion=entropy, max_depth=7, max_features=sqrt ...............\n",
            "[CV]  criterion=entropy, max_depth=7, max_features=sqrt, total=   0.0s\n",
            "[CV] criterion=entropy, max_depth=7, max_features=sqrt ...............\n",
            "[CV]  criterion=entropy, max_depth=7, max_features=sqrt, total=   0.0s\n",
            "[CV] criterion=entropy, max_depth=7, max_features=sqrt ...............\n",
            "[CV]  criterion=entropy, max_depth=7, max_features=sqrt, total=   0.0s\n",
            "[CV] criterion=entropy, max_depth=7, max_features=sqrt ...............\n",
            "[CV]  criterion=entropy, max_depth=7, max_features=sqrt, total=   0.0s\n",
            "[CV] criterion=entropy, max_depth=7, max_features=sqrt ...............\n",
            "[CV]  criterion=entropy, max_depth=7, max_features=sqrt, total=   0.0s\n",
            "[CV] criterion=entropy, max_depth=7, max_features=sqrt ...............\n",
            "[CV]  criterion=entropy, max_depth=7, max_features=sqrt, total=   0.0s\n",
            "[CV] criterion=entropy, max_depth=7, max_features=sqrt ...............\n",
            "[CV]  criterion=entropy, max_depth=7, max_features=sqrt, total=   0.0s\n",
            "[CV] criterion=entropy, max_depth=7, max_features=sqrt ...............\n",
            "[CV]  criterion=entropy, max_depth=7, max_features=sqrt, total=   0.0s\n",
            "[CV] criterion=entropy, max_depth=7, max_features=log2 ...............\n",
            "[CV]  criterion=entropy, max_depth=7, max_features=log2, total=   0.0s\n",
            "[CV] criterion=entropy, max_depth=7, max_features=log2 ...............\n",
            "[CV]  criterion=entropy, max_depth=7, max_features=log2, total=   0.0s\n",
            "[CV] criterion=entropy, max_depth=7, max_features=log2 ...............\n",
            "[CV]  criterion=entropy, max_depth=7, max_features=log2, total=   0.0s\n",
            "[CV] criterion=entropy, max_depth=7, max_features=log2 ...............\n",
            "[CV]  criterion=entropy, max_depth=7, max_features=log2, total=   0.0s\n",
            "[CV] criterion=entropy, max_depth=7, max_features=log2 ...............\n",
            "[CV]  criterion=entropy, max_depth=7, max_features=log2, total=   0.0s\n",
            "[CV] criterion=entropy, max_depth=7, max_features=log2 ...............\n",
            "[CV]  criterion=entropy, max_depth=7, max_features=log2, total=   0.0s\n",
            "[CV] criterion=entropy, max_depth=7, max_features=log2 ...............\n",
            "[CV]  criterion=entropy, max_depth=7, max_features=log2, total=   0.0s\n",
            "[CV] criterion=entropy, max_depth=7, max_features=log2 ...............\n",
            "[CV]  criterion=entropy, max_depth=7, max_features=log2, total=   0.0s\n",
            "[CV] criterion=entropy, max_depth=7, max_features=log2 ...............\n",
            "[CV]  criterion=entropy, max_depth=7, max_features=log2, total=   0.0s\n",
            "[CV] criterion=entropy, max_depth=7, max_features=log2 ...............\n",
            "[CV]  criterion=entropy, max_depth=7, max_features=log2, total=   0.0s\n",
            "[CV] criterion=entropy, max_depth=7, max_features=None ...............\n",
            "[CV]  criterion=entropy, max_depth=7, max_features=None, total=   0.1s\n",
            "[CV] criterion=entropy, max_depth=7, max_features=None ...............\n",
            "[CV]  criterion=entropy, max_depth=7, max_features=None, total=   0.1s\n",
            "[CV] criterion=entropy, max_depth=7, max_features=None ...............\n",
            "[CV]  criterion=entropy, max_depth=7, max_features=None, total=   0.1s\n",
            "[CV] criterion=entropy, max_depth=7, max_features=None ...............\n",
            "[CV]  criterion=entropy, max_depth=7, max_features=None, total=   0.1s\n",
            "[CV] criterion=entropy, max_depth=7, max_features=None ...............\n",
            "[CV]  criterion=entropy, max_depth=7, max_features=None, total=   0.1s\n",
            "[CV] criterion=entropy, max_depth=7, max_features=None ...............\n",
            "[CV]  criterion=entropy, max_depth=7, max_features=None, total=   0.1s\n",
            "[CV] criterion=entropy, max_depth=7, max_features=None ...............\n",
            "[CV]  criterion=entropy, max_depth=7, max_features=None, total=   0.1s\n",
            "[CV] criterion=entropy, max_depth=7, max_features=None ...............\n",
            "[CV]  criterion=entropy, max_depth=7, max_features=None, total=   0.1s\n",
            "[CV] criterion=entropy, max_depth=7, max_features=None ...............\n",
            "[CV]  criterion=entropy, max_depth=7, max_features=None, total=   0.1s\n",
            "[CV] criterion=entropy, max_depth=7, max_features=None ...............\n",
            "[CV]  criterion=entropy, max_depth=7, max_features=None, total=   0.1s\n",
            "[CV] criterion=entropy, max_depth=8, max_features=auto ...............\n",
            "[CV]  criterion=entropy, max_depth=8, max_features=auto, total=   0.0s\n",
            "[CV] criterion=entropy, max_depth=8, max_features=auto ...............\n",
            "[CV]  criterion=entropy, max_depth=8, max_features=auto, total=   0.0s\n",
            "[CV] criterion=entropy, max_depth=8, max_features=auto ...............\n",
            "[CV]  criterion=entropy, max_depth=8, max_features=auto, total=   0.0s\n",
            "[CV] criterion=entropy, max_depth=8, max_features=auto ...............\n",
            "[CV]  criterion=entropy, max_depth=8, max_features=auto, total=   0.0s\n",
            "[CV] criterion=entropy, max_depth=8, max_features=auto ...............\n",
            "[CV]  criterion=entropy, max_depth=8, max_features=auto, total=   0.0s\n",
            "[CV] criterion=entropy, max_depth=8, max_features=auto ...............\n",
            "[CV]  criterion=entropy, max_depth=8, max_features=auto, total=   0.0s\n",
            "[CV] criterion=entropy, max_depth=8, max_features=auto ...............\n",
            "[CV]  criterion=entropy, max_depth=8, max_features=auto, total=   0.0s\n",
            "[CV] criterion=entropy, max_depth=8, max_features=auto ...............\n",
            "[CV]  criterion=entropy, max_depth=8, max_features=auto, total=   0.0s\n",
            "[CV] criterion=entropy, max_depth=8, max_features=auto ...............\n",
            "[CV]  criterion=entropy, max_depth=8, max_features=auto, total=   0.0s\n",
            "[CV] criterion=entropy, max_depth=8, max_features=auto ...............\n",
            "[CV]  criterion=entropy, max_depth=8, max_features=auto, total=   0.0s\n",
            "[CV] criterion=entropy, max_depth=8, max_features=sqrt ...............\n",
            "[CV]  criterion=entropy, max_depth=8, max_features=sqrt, total=   0.0s\n",
            "[CV] criterion=entropy, max_depth=8, max_features=sqrt ...............\n",
            "[CV]  criterion=entropy, max_depth=8, max_features=sqrt, total=   0.0s\n",
            "[CV] criterion=entropy, max_depth=8, max_features=sqrt ...............\n",
            "[CV]  criterion=entropy, max_depth=8, max_features=sqrt, total=   0.0s\n",
            "[CV] criterion=entropy, max_depth=8, max_features=sqrt ...............\n",
            "[CV]  criterion=entropy, max_depth=8, max_features=sqrt, total=   0.0s\n",
            "[CV] criterion=entropy, max_depth=8, max_features=sqrt ...............\n",
            "[CV]  criterion=entropy, max_depth=8, max_features=sqrt, total=   0.0s\n",
            "[CV] criterion=entropy, max_depth=8, max_features=sqrt ...............\n",
            "[CV]  criterion=entropy, max_depth=8, max_features=sqrt, total=   0.0s\n",
            "[CV] criterion=entropy, max_depth=8, max_features=sqrt ...............\n",
            "[CV]  criterion=entropy, max_depth=8, max_features=sqrt, total=   0.0s\n",
            "[CV] criterion=entropy, max_depth=8, max_features=sqrt ...............\n",
            "[CV]  criterion=entropy, max_depth=8, max_features=sqrt, total=   0.0s\n",
            "[CV] criterion=entropy, max_depth=8, max_features=sqrt ...............\n",
            "[CV]  criterion=entropy, max_depth=8, max_features=sqrt, total=   0.0s\n",
            "[CV] criterion=entropy, max_depth=8, max_features=sqrt ...............\n",
            "[CV]  criterion=entropy, max_depth=8, max_features=sqrt, total=   0.0s\n",
            "[CV] criterion=entropy, max_depth=8, max_features=log2 ...............\n",
            "[CV]  criterion=entropy, max_depth=8, max_features=log2, total=   0.0s\n",
            "[CV] criterion=entropy, max_depth=8, max_features=log2 ...............\n",
            "[CV]  criterion=entropy, max_depth=8, max_features=log2, total=   0.0s\n",
            "[CV] criterion=entropy, max_depth=8, max_features=log2 ...............\n",
            "[CV]  criterion=entropy, max_depth=8, max_features=log2, total=   0.0s\n",
            "[CV] criterion=entropy, max_depth=8, max_features=log2 ...............\n",
            "[CV]  criterion=entropy, max_depth=8, max_features=log2, total=   0.0s\n",
            "[CV] criterion=entropy, max_depth=8, max_features=log2 ...............\n",
            "[CV]  criterion=entropy, max_depth=8, max_features=log2, total=   0.0s\n",
            "[CV] criterion=entropy, max_depth=8, max_features=log2 ...............\n",
            "[CV]  criterion=entropy, max_depth=8, max_features=log2, total=   0.0s\n",
            "[CV] criterion=entropy, max_depth=8, max_features=log2 ...............\n",
            "[CV]  criterion=entropy, max_depth=8, max_features=log2, total=   0.0s\n",
            "[CV] criterion=entropy, max_depth=8, max_features=log2 ...............\n",
            "[CV]  criterion=entropy, max_depth=8, max_features=log2, total=   0.0s\n",
            "[CV] criterion=entropy, max_depth=8, max_features=log2 ...............\n",
            "[CV]  criterion=entropy, max_depth=8, max_features=log2, total=   0.0s\n",
            "[CV] criterion=entropy, max_depth=8, max_features=log2 ...............\n",
            "[CV]  criterion=entropy, max_depth=8, max_features=log2, total=   0.0s\n",
            "[CV] criterion=entropy, max_depth=8, max_features=None ...............\n",
            "[CV]  criterion=entropy, max_depth=8, max_features=None, total=   0.1s\n",
            "[CV] criterion=entropy, max_depth=8, max_features=None ...............\n",
            "[CV]  criterion=entropy, max_depth=8, max_features=None, total=   0.1s\n",
            "[CV] criterion=entropy, max_depth=8, max_features=None ...............\n",
            "[CV]  criterion=entropy, max_depth=8, max_features=None, total=   0.1s\n",
            "[CV] criterion=entropy, max_depth=8, max_features=None ...............\n",
            "[CV]  criterion=entropy, max_depth=8, max_features=None, total=   0.1s\n",
            "[CV] criterion=entropy, max_depth=8, max_features=None ...............\n",
            "[CV]  criterion=entropy, max_depth=8, max_features=None, total=   0.1s\n",
            "[CV] criterion=entropy, max_depth=8, max_features=None ...............\n",
            "[CV]  criterion=entropy, max_depth=8, max_features=None, total=   0.1s\n",
            "[CV] criterion=entropy, max_depth=8, max_features=None ...............\n",
            "[CV]  criterion=entropy, max_depth=8, max_features=None, total=   0.1s\n",
            "[CV] criterion=entropy, max_depth=8, max_features=None ...............\n",
            "[CV]  criterion=entropy, max_depth=8, max_features=None, total=   0.1s\n",
            "[CV] criterion=entropy, max_depth=8, max_features=None ...............\n",
            "[CV]  criterion=entropy, max_depth=8, max_features=None, total=   0.1s\n",
            "[CV] criterion=entropy, max_depth=8, max_features=None ...............\n",
            "[CV]  criterion=entropy, max_depth=8, max_features=None, total=   0.1s\n",
            "[CV] criterion=entropy, max_depth=9, max_features=auto ...............\n",
            "[CV]  criterion=entropy, max_depth=9, max_features=auto, total=   0.0s\n",
            "[CV] criterion=entropy, max_depth=9, max_features=auto ...............\n",
            "[CV]  criterion=entropy, max_depth=9, max_features=auto, total=   0.0s\n",
            "[CV] criterion=entropy, max_depth=9, max_features=auto ...............\n",
            "[CV]  criterion=entropy, max_depth=9, max_features=auto, total=   0.0s\n",
            "[CV] criterion=entropy, max_depth=9, max_features=auto ...............\n",
            "[CV]  criterion=entropy, max_depth=9, max_features=auto, total=   0.0s\n",
            "[CV] criterion=entropy, max_depth=9, max_features=auto ...............\n",
            "[CV]  criterion=entropy, max_depth=9, max_features=auto, total=   0.0s\n",
            "[CV] criterion=entropy, max_depth=9, max_features=auto ...............\n",
            "[CV]  criterion=entropy, max_depth=9, max_features=auto, total=   0.0s\n",
            "[CV] criterion=entropy, max_depth=9, max_features=auto ...............\n",
            "[CV]  criterion=entropy, max_depth=9, max_features=auto, total=   0.0s\n",
            "[CV] criterion=entropy, max_depth=9, max_features=auto ...............\n",
            "[CV]  criterion=entropy, max_depth=9, max_features=auto, total=   0.0s\n",
            "[CV] criterion=entropy, max_depth=9, max_features=auto ...............\n",
            "[CV]  criterion=entropy, max_depth=9, max_features=auto, total=   0.0s\n",
            "[CV] criterion=entropy, max_depth=9, max_features=auto ...............\n",
            "[CV]  criterion=entropy, max_depth=9, max_features=auto, total=   0.0s\n",
            "[CV] criterion=entropy, max_depth=9, max_features=sqrt ...............\n",
            "[CV]  criterion=entropy, max_depth=9, max_features=sqrt, total=   0.0s\n",
            "[CV] criterion=entropy, max_depth=9, max_features=sqrt ...............\n",
            "[CV]  criterion=entropy, max_depth=9, max_features=sqrt, total=   0.0s\n",
            "[CV] criterion=entropy, max_depth=9, max_features=sqrt ...............\n",
            "[CV]  criterion=entropy, max_depth=9, max_features=sqrt, total=   0.0s\n",
            "[CV] criterion=entropy, max_depth=9, max_features=sqrt ...............\n",
            "[CV]  criterion=entropy, max_depth=9, max_features=sqrt, total=   0.0s\n",
            "[CV] criterion=entropy, max_depth=9, max_features=sqrt ...............\n",
            "[CV]  criterion=entropy, max_depth=9, max_features=sqrt, total=   0.0s\n",
            "[CV] criterion=entropy, max_depth=9, max_features=sqrt ...............\n",
            "[CV]  criterion=entropy, max_depth=9, max_features=sqrt, total=   0.0s\n",
            "[CV] criterion=entropy, max_depth=9, max_features=sqrt ...............\n",
            "[CV]  criterion=entropy, max_depth=9, max_features=sqrt, total=   0.0s\n",
            "[CV] criterion=entropy, max_depth=9, max_features=sqrt ...............\n",
            "[CV]  criterion=entropy, max_depth=9, max_features=sqrt, total=   0.0s\n",
            "[CV] criterion=entropy, max_depth=9, max_features=sqrt ...............\n",
            "[CV]  criterion=entropy, max_depth=9, max_features=sqrt, total=   0.0s\n",
            "[CV] criterion=entropy, max_depth=9, max_features=sqrt ...............\n",
            "[CV]  criterion=entropy, max_depth=9, max_features=sqrt, total=   0.0s\n",
            "[CV] criterion=entropy, max_depth=9, max_features=log2 ...............\n",
            "[CV]  criterion=entropy, max_depth=9, max_features=log2, total=   0.0s\n",
            "[CV] criterion=entropy, max_depth=9, max_features=log2 ...............\n",
            "[CV]  criterion=entropy, max_depth=9, max_features=log2, total=   0.0s\n",
            "[CV] criterion=entropy, max_depth=9, max_features=log2 ...............\n",
            "[CV]  criterion=entropy, max_depth=9, max_features=log2, total=   0.0s\n",
            "[CV] criterion=entropy, max_depth=9, max_features=log2 ...............\n",
            "[CV]  criterion=entropy, max_depth=9, max_features=log2, total=   0.0s\n",
            "[CV] criterion=entropy, max_depth=9, max_features=log2 ...............\n",
            "[CV]  criterion=entropy, max_depth=9, max_features=log2, total=   0.0s\n",
            "[CV] criterion=entropy, max_depth=9, max_features=log2 ...............\n",
            "[CV]  criterion=entropy, max_depth=9, max_features=log2, total=   0.0s\n",
            "[CV] criterion=entropy, max_depth=9, max_features=log2 ...............\n",
            "[CV]  criterion=entropy, max_depth=9, max_features=log2, total=   0.0s\n",
            "[CV] criterion=entropy, max_depth=9, max_features=log2 ...............\n",
            "[CV]  criterion=entropy, max_depth=9, max_features=log2, total=   0.0s\n",
            "[CV] criterion=entropy, max_depth=9, max_features=log2 ...............\n",
            "[CV]  criterion=entropy, max_depth=9, max_features=log2, total=   0.0s\n",
            "[CV] criterion=entropy, max_depth=9, max_features=log2 ...............\n",
            "[CV]  criterion=entropy, max_depth=9, max_features=log2, total=   0.0s\n",
            "[CV] criterion=entropy, max_depth=9, max_features=None ...............\n",
            "[CV]  criterion=entropy, max_depth=9, max_features=None, total=   0.1s\n",
            "[CV] criterion=entropy, max_depth=9, max_features=None ...............\n",
            "[CV]  criterion=entropy, max_depth=9, max_features=None, total=   0.1s\n",
            "[CV] criterion=entropy, max_depth=9, max_features=None ...............\n",
            "[CV]  criterion=entropy, max_depth=9, max_features=None, total=   0.1s\n",
            "[CV] criterion=entropy, max_depth=9, max_features=None ...............\n",
            "[CV]  criterion=entropy, max_depth=9, max_features=None, total=   0.1s\n",
            "[CV] criterion=entropy, max_depth=9, max_features=None ...............\n",
            "[CV]  criterion=entropy, max_depth=9, max_features=None, total=   0.1s\n",
            "[CV] criterion=entropy, max_depth=9, max_features=None ...............\n",
            "[CV]  criterion=entropy, max_depth=9, max_features=None, total=   0.1s\n",
            "[CV] criterion=entropy, max_depth=9, max_features=None ...............\n",
            "[CV]  criterion=entropy, max_depth=9, max_features=None, total=   0.1s\n",
            "[CV] criterion=entropy, max_depth=9, max_features=None ...............\n",
            "[CV]  criterion=entropy, max_depth=9, max_features=None, total=   0.1s\n",
            "[CV] criterion=entropy, max_depth=9, max_features=None ...............\n",
            "[CV]  criterion=entropy, max_depth=9, max_features=None, total=   0.1s\n",
            "[CV] criterion=entropy, max_depth=9, max_features=None ...............\n",
            "[CV]  criterion=entropy, max_depth=9, max_features=None, total=   0.1s\n",
            "[CV] criterion=entropy, max_depth=10, max_features=auto ..............\n",
            "[CV]  criterion=entropy, max_depth=10, max_features=auto, total=   0.0s\n",
            "[CV] criterion=entropy, max_depth=10, max_features=auto ..............\n",
            "[CV]  criterion=entropy, max_depth=10, max_features=auto, total=   0.0s\n",
            "[CV] criterion=entropy, max_depth=10, max_features=auto ..............\n",
            "[CV]  criterion=entropy, max_depth=10, max_features=auto, total=   0.0s\n",
            "[CV] criterion=entropy, max_depth=10, max_features=auto ..............\n",
            "[CV]  criterion=entropy, max_depth=10, max_features=auto, total=   0.0s\n",
            "[CV] criterion=entropy, max_depth=10, max_features=auto ..............\n",
            "[CV]  criterion=entropy, max_depth=10, max_features=auto, total=   0.0s\n",
            "[CV] criterion=entropy, max_depth=10, max_features=auto ..............\n",
            "[CV]  criterion=entropy, max_depth=10, max_features=auto, total=   0.0s\n",
            "[CV] criterion=entropy, max_depth=10, max_features=auto ..............\n",
            "[CV]  criterion=entropy, max_depth=10, max_features=auto, total=   0.0s\n",
            "[CV] criterion=entropy, max_depth=10, max_features=auto ..............\n",
            "[CV]  criterion=entropy, max_depth=10, max_features=auto, total=   0.0s\n",
            "[CV] criterion=entropy, max_depth=10, max_features=auto ..............\n",
            "[CV]  criterion=entropy, max_depth=10, max_features=auto, total=   0.0s\n",
            "[CV] criterion=entropy, max_depth=10, max_features=auto ..............\n",
            "[CV]  criterion=entropy, max_depth=10, max_features=auto, total=   0.0s\n",
            "[CV] criterion=entropy, max_depth=10, max_features=sqrt ..............\n",
            "[CV]  criterion=entropy, max_depth=10, max_features=sqrt, total=   0.0s\n",
            "[CV] criterion=entropy, max_depth=10, max_features=sqrt ..............\n",
            "[CV]  criterion=entropy, max_depth=10, max_features=sqrt, total=   0.0s\n",
            "[CV] criterion=entropy, max_depth=10, max_features=sqrt ..............\n",
            "[CV]  criterion=entropy, max_depth=10, max_features=sqrt, total=   0.0s\n",
            "[CV] criterion=entropy, max_depth=10, max_features=sqrt ..............\n",
            "[CV]  criterion=entropy, max_depth=10, max_features=sqrt, total=   0.0s\n",
            "[CV] criterion=entropy, max_depth=10, max_features=sqrt ..............\n",
            "[CV]  criterion=entropy, max_depth=10, max_features=sqrt, total=   0.0s\n",
            "[CV] criterion=entropy, max_depth=10, max_features=sqrt ..............\n",
            "[CV]  criterion=entropy, max_depth=10, max_features=sqrt, total=   0.0s\n",
            "[CV] criterion=entropy, max_depth=10, max_features=sqrt ..............\n",
            "[CV]  criterion=entropy, max_depth=10, max_features=sqrt, total=   0.0s\n",
            "[CV] criterion=entropy, max_depth=10, max_features=sqrt ..............\n",
            "[CV]  criterion=entropy, max_depth=10, max_features=sqrt, total=   0.0s\n",
            "[CV] criterion=entropy, max_depth=10, max_features=sqrt ..............\n",
            "[CV]  criterion=entropy, max_depth=10, max_features=sqrt, total=   0.0s\n",
            "[CV] criterion=entropy, max_depth=10, max_features=sqrt ..............\n",
            "[CV]  criterion=entropy, max_depth=10, max_features=sqrt, total=   0.0s\n",
            "[CV] criterion=entropy, max_depth=10, max_features=log2 ..............\n",
            "[CV]  criterion=entropy, max_depth=10, max_features=log2, total=   0.0s\n",
            "[CV] criterion=entropy, max_depth=10, max_features=log2 ..............\n",
            "[CV]  criterion=entropy, max_depth=10, max_features=log2, total=   0.0s\n",
            "[CV] criterion=entropy, max_depth=10, max_features=log2 ..............\n",
            "[CV]  criterion=entropy, max_depth=10, max_features=log2, total=   0.0s\n",
            "[CV] criterion=entropy, max_depth=10, max_features=log2 ..............\n",
            "[CV]  criterion=entropy, max_depth=10, max_features=log2, total=   0.0s\n",
            "[CV] criterion=entropy, max_depth=10, max_features=log2 ..............\n",
            "[CV]  criterion=entropy, max_depth=10, max_features=log2, total=   0.0s\n",
            "[CV] criterion=entropy, max_depth=10, max_features=log2 ..............\n",
            "[CV]  criterion=entropy, max_depth=10, max_features=log2, total=   0.0s\n",
            "[CV] criterion=entropy, max_depth=10, max_features=log2 ..............\n",
            "[CV]  criterion=entropy, max_depth=10, max_features=log2, total=   0.0s\n",
            "[CV] criterion=entropy, max_depth=10, max_features=log2 ..............\n",
            "[CV]  criterion=entropy, max_depth=10, max_features=log2, total=   0.0s\n",
            "[CV] criterion=entropy, max_depth=10, max_features=log2 ..............\n",
            "[CV]  criterion=entropy, max_depth=10, max_features=log2, total=   0.0s\n",
            "[CV] criterion=entropy, max_depth=10, max_features=log2 ..............\n",
            "[CV]  criterion=entropy, max_depth=10, max_features=log2, total=   0.0s\n",
            "[CV] criterion=entropy, max_depth=10, max_features=None ..............\n",
            "[CV]  criterion=entropy, max_depth=10, max_features=None, total=   0.1s\n",
            "[CV] criterion=entropy, max_depth=10, max_features=None ..............\n",
            "[CV]  criterion=entropy, max_depth=10, max_features=None, total=   0.1s\n",
            "[CV] criterion=entropy, max_depth=10, max_features=None ..............\n",
            "[CV]  criterion=entropy, max_depth=10, max_features=None, total=   0.1s\n",
            "[CV] criterion=entropy, max_depth=10, max_features=None ..............\n",
            "[CV]  criterion=entropy, max_depth=10, max_features=None, total=   0.1s\n",
            "[CV] criterion=entropy, max_depth=10, max_features=None ..............\n",
            "[CV]  criterion=entropy, max_depth=10, max_features=None, total=   0.1s\n",
            "[CV] criterion=entropy, max_depth=10, max_features=None ..............\n",
            "[CV]  criterion=entropy, max_depth=10, max_features=None, total=   0.1s\n",
            "[CV] criterion=entropy, max_depth=10, max_features=None ..............\n",
            "[CV]  criterion=entropy, max_depth=10, max_features=None, total=   0.1s\n",
            "[CV] criterion=entropy, max_depth=10, max_features=None ..............\n",
            "[CV]  criterion=entropy, max_depth=10, max_features=None, total=   0.1s\n",
            "[CV] criterion=entropy, max_depth=10, max_features=None ..............\n",
            "[CV]  criterion=entropy, max_depth=10, max_features=None, total=   0.1s\n",
            "[CV] criterion=entropy, max_depth=10, max_features=None ..............\n",
            "[CV]  criterion=entropy, max_depth=10, max_features=None, total=   0.1s\n",
            "[CV] criterion=entropy, max_depth=11, max_features=auto ..............\n",
            "[CV]  criterion=entropy, max_depth=11, max_features=auto, total=   0.0s\n",
            "[CV] criterion=entropy, max_depth=11, max_features=auto ..............\n",
            "[CV]  criterion=entropy, max_depth=11, max_features=auto, total=   0.0s\n",
            "[CV] criterion=entropy, max_depth=11, max_features=auto ..............\n",
            "[CV]  criterion=entropy, max_depth=11, max_features=auto, total=   0.0s\n",
            "[CV] criterion=entropy, max_depth=11, max_features=auto ..............\n",
            "[CV]  criterion=entropy, max_depth=11, max_features=auto, total=   0.0s\n",
            "[CV] criterion=entropy, max_depth=11, max_features=auto ..............\n",
            "[CV]  criterion=entropy, max_depth=11, max_features=auto, total=   0.0s\n",
            "[CV] criterion=entropy, max_depth=11, max_features=auto ..............\n",
            "[CV]  criterion=entropy, max_depth=11, max_features=auto, total=   0.0s\n",
            "[CV] criterion=entropy, max_depth=11, max_features=auto ..............\n",
            "[CV]  criterion=entropy, max_depth=11, max_features=auto, total=   0.0s\n",
            "[CV] criterion=entropy, max_depth=11, max_features=auto ..............\n",
            "[CV]  criterion=entropy, max_depth=11, max_features=auto, total=   0.0s\n",
            "[CV] criterion=entropy, max_depth=11, max_features=auto ..............\n",
            "[CV]  criterion=entropy, max_depth=11, max_features=auto, total=   0.0s\n",
            "[CV] criterion=entropy, max_depth=11, max_features=auto ..............\n",
            "[CV]  criterion=entropy, max_depth=11, max_features=auto, total=   0.0s\n",
            "[CV] criterion=entropy, max_depth=11, max_features=sqrt ..............\n",
            "[CV]  criterion=entropy, max_depth=11, max_features=sqrt, total=   0.0s\n",
            "[CV] criterion=entropy, max_depth=11, max_features=sqrt ..............\n",
            "[CV]  criterion=entropy, max_depth=11, max_features=sqrt, total=   0.0s\n",
            "[CV] criterion=entropy, max_depth=11, max_features=sqrt ..............\n",
            "[CV]  criterion=entropy, max_depth=11, max_features=sqrt, total=   0.0s\n",
            "[CV] criterion=entropy, max_depth=11, max_features=sqrt ..............\n",
            "[CV]  criterion=entropy, max_depth=11, max_features=sqrt, total=   0.0s\n",
            "[CV] criterion=entropy, max_depth=11, max_features=sqrt ..............\n",
            "[CV]  criterion=entropy, max_depth=11, max_features=sqrt, total=   0.0s\n",
            "[CV] criterion=entropy, max_depth=11, max_features=sqrt ..............\n",
            "[CV]  criterion=entropy, max_depth=11, max_features=sqrt, total=   0.0s\n",
            "[CV] criterion=entropy, max_depth=11, max_features=sqrt ..............\n",
            "[CV]  criterion=entropy, max_depth=11, max_features=sqrt, total=   0.0s\n",
            "[CV] criterion=entropy, max_depth=11, max_features=sqrt ..............\n",
            "[CV]  criterion=entropy, max_depth=11, max_features=sqrt, total=   0.0s\n",
            "[CV] criterion=entropy, max_depth=11, max_features=sqrt ..............\n",
            "[CV]  criterion=entropy, max_depth=11, max_features=sqrt, total=   0.0s\n",
            "[CV] criterion=entropy, max_depth=11, max_features=sqrt ..............\n",
            "[CV]  criterion=entropy, max_depth=11, max_features=sqrt, total=   0.0s\n",
            "[CV] criterion=entropy, max_depth=11, max_features=log2 ..............\n",
            "[CV]  criterion=entropy, max_depth=11, max_features=log2, total=   0.0s\n",
            "[CV] criterion=entropy, max_depth=11, max_features=log2 ..............\n",
            "[CV]  criterion=entropy, max_depth=11, max_features=log2, total=   0.0s\n",
            "[CV] criterion=entropy, max_depth=11, max_features=log2 ..............\n",
            "[CV]  criterion=entropy, max_depth=11, max_features=log2, total=   0.0s\n",
            "[CV] criterion=entropy, max_depth=11, max_features=log2 ..............\n",
            "[CV]  criterion=entropy, max_depth=11, max_features=log2, total=   0.0s\n",
            "[CV] criterion=entropy, max_depth=11, max_features=log2 ..............\n",
            "[CV]  criterion=entropy, max_depth=11, max_features=log2, total=   0.0s\n",
            "[CV] criterion=entropy, max_depth=11, max_features=log2 ..............\n",
            "[CV]  criterion=entropy, max_depth=11, max_features=log2, total=   0.0s\n",
            "[CV] criterion=entropy, max_depth=11, max_features=log2 ..............\n",
            "[CV]  criterion=entropy, max_depth=11, max_features=log2, total=   0.0s\n",
            "[CV] criterion=entropy, max_depth=11, max_features=log2 ..............\n",
            "[CV]  criterion=entropy, max_depth=11, max_features=log2, total=   0.0s\n",
            "[CV] criterion=entropy, max_depth=11, max_features=log2 ..............\n",
            "[CV]  criterion=entropy, max_depth=11, max_features=log2, total=   0.0s\n",
            "[CV] criterion=entropy, max_depth=11, max_features=log2 ..............\n",
            "[CV]  criterion=entropy, max_depth=11, max_features=log2, total=   0.0s\n",
            "[CV] criterion=entropy, max_depth=11, max_features=None ..............\n",
            "[CV]  criterion=entropy, max_depth=11, max_features=None, total=   0.1s\n",
            "[CV] criterion=entropy, max_depth=11, max_features=None ..............\n",
            "[CV]  criterion=entropy, max_depth=11, max_features=None, total=   0.1s\n",
            "[CV] criterion=entropy, max_depth=11, max_features=None ..............\n",
            "[CV]  criterion=entropy, max_depth=11, max_features=None, total=   0.1s\n",
            "[CV] criterion=entropy, max_depth=11, max_features=None ..............\n",
            "[CV]  criterion=entropy, max_depth=11, max_features=None, total=   0.1s\n",
            "[CV] criterion=entropy, max_depth=11, max_features=None ..............\n",
            "[CV]  criterion=entropy, max_depth=11, max_features=None, total=   0.1s\n",
            "[CV] criterion=entropy, max_depth=11, max_features=None ..............\n",
            "[CV]  criterion=entropy, max_depth=11, max_features=None, total=   0.1s\n",
            "[CV] criterion=entropy, max_depth=11, max_features=None ..............\n",
            "[CV]  criterion=entropy, max_depth=11, max_features=None, total=   0.1s\n",
            "[CV] criterion=entropy, max_depth=11, max_features=None ..............\n",
            "[CV]  criterion=entropy, max_depth=11, max_features=None, total=   0.1s\n",
            "[CV] criterion=entropy, max_depth=11, max_features=None ..............\n",
            "[CV]  criterion=entropy, max_depth=11, max_features=None, total=   0.1s\n",
            "[CV] criterion=entropy, max_depth=11, max_features=None ..............\n",
            "[CV]  criterion=entropy, max_depth=11, max_features=None, total=   0.1s\n",
            "[CV] criterion=entropy, max_depth=12, max_features=auto ..............\n",
            "[CV]  criterion=entropy, max_depth=12, max_features=auto, total=   0.0s\n",
            "[CV] criterion=entropy, max_depth=12, max_features=auto ..............\n",
            "[CV]  criterion=entropy, max_depth=12, max_features=auto, total=   0.0s\n",
            "[CV] criterion=entropy, max_depth=12, max_features=auto ..............\n",
            "[CV]  criterion=entropy, max_depth=12, max_features=auto, total=   0.0s\n",
            "[CV] criterion=entropy, max_depth=12, max_features=auto ..............\n",
            "[CV]  criterion=entropy, max_depth=12, max_features=auto, total=   0.0s\n",
            "[CV] criterion=entropy, max_depth=12, max_features=auto ..............\n",
            "[CV]  criterion=entropy, max_depth=12, max_features=auto, total=   0.0s\n",
            "[CV] criterion=entropy, max_depth=12, max_features=auto ..............\n",
            "[CV]  criterion=entropy, max_depth=12, max_features=auto, total=   0.0s\n",
            "[CV] criterion=entropy, max_depth=12, max_features=auto ..............\n",
            "[CV]  criterion=entropy, max_depth=12, max_features=auto, total=   0.0s\n",
            "[CV] criterion=entropy, max_depth=12, max_features=auto ..............\n",
            "[CV]  criterion=entropy, max_depth=12, max_features=auto, total=   0.0s\n",
            "[CV] criterion=entropy, max_depth=12, max_features=auto ..............\n",
            "[CV]  criterion=entropy, max_depth=12, max_features=auto, total=   0.0s\n",
            "[CV] criterion=entropy, max_depth=12, max_features=auto ..............\n",
            "[CV]  criterion=entropy, max_depth=12, max_features=auto, total=   0.0s\n",
            "[CV] criterion=entropy, max_depth=12, max_features=sqrt ..............\n",
            "[CV]  criterion=entropy, max_depth=12, max_features=sqrt, total=   0.0s\n",
            "[CV] criterion=entropy, max_depth=12, max_features=sqrt ..............\n",
            "[CV]  criterion=entropy, max_depth=12, max_features=sqrt, total=   0.0s\n",
            "[CV] criterion=entropy, max_depth=12, max_features=sqrt ..............\n",
            "[CV]  criterion=entropy, max_depth=12, max_features=sqrt, total=   0.0s\n",
            "[CV] criterion=entropy, max_depth=12, max_features=sqrt ..............\n",
            "[CV]  criterion=entropy, max_depth=12, max_features=sqrt, total=   0.0s\n",
            "[CV] criterion=entropy, max_depth=12, max_features=sqrt ..............\n",
            "[CV]  criterion=entropy, max_depth=12, max_features=sqrt, total=   0.0s\n",
            "[CV] criterion=entropy, max_depth=12, max_features=sqrt ..............\n",
            "[CV]  criterion=entropy, max_depth=12, max_features=sqrt, total=   0.0s\n",
            "[CV] criterion=entropy, max_depth=12, max_features=sqrt ..............\n",
            "[CV]  criterion=entropy, max_depth=12, max_features=sqrt, total=   0.0s\n",
            "[CV] criterion=entropy, max_depth=12, max_features=sqrt ..............\n",
            "[CV]  criterion=entropy, max_depth=12, max_features=sqrt, total=   0.0s\n",
            "[CV] criterion=entropy, max_depth=12, max_features=sqrt ..............\n",
            "[CV]  criterion=entropy, max_depth=12, max_features=sqrt, total=   0.0s\n",
            "[CV] criterion=entropy, max_depth=12, max_features=sqrt ..............\n",
            "[CV]  criterion=entropy, max_depth=12, max_features=sqrt, total=   0.0s\n",
            "[CV] criterion=entropy, max_depth=12, max_features=log2 ..............\n",
            "[CV]  criterion=entropy, max_depth=12, max_features=log2, total=   0.0s\n",
            "[CV] criterion=entropy, max_depth=12, max_features=log2 ..............\n",
            "[CV]  criterion=entropy, max_depth=12, max_features=log2, total=   0.0s\n",
            "[CV] criterion=entropy, max_depth=12, max_features=log2 ..............\n",
            "[CV]  criterion=entropy, max_depth=12, max_features=log2, total=   0.0s\n",
            "[CV] criterion=entropy, max_depth=12, max_features=log2 ..............\n",
            "[CV]  criterion=entropy, max_depth=12, max_features=log2, total=   0.0s\n",
            "[CV] criterion=entropy, max_depth=12, max_features=log2 ..............\n",
            "[CV]  criterion=entropy, max_depth=12, max_features=log2, total=   0.0s\n",
            "[CV] criterion=entropy, max_depth=12, max_features=log2 ..............\n",
            "[CV]  criterion=entropy, max_depth=12, max_features=log2, total=   0.0s\n",
            "[CV] criterion=entropy, max_depth=12, max_features=log2 ..............\n",
            "[CV]  criterion=entropy, max_depth=12, max_features=log2, total=   0.0s\n",
            "[CV] criterion=entropy, max_depth=12, max_features=log2 ..............\n",
            "[CV]  criterion=entropy, max_depth=12, max_features=log2, total=   0.0s\n",
            "[CV] criterion=entropy, max_depth=12, max_features=log2 ..............\n",
            "[CV]  criterion=entropy, max_depth=12, max_features=log2, total=   0.0s\n",
            "[CV] criterion=entropy, max_depth=12, max_features=log2 ..............\n",
            "[CV]  criterion=entropy, max_depth=12, max_features=log2, total=   0.0s\n",
            "[CV] criterion=entropy, max_depth=12, max_features=None ..............\n",
            "[CV]  criterion=entropy, max_depth=12, max_features=None, total=   0.1s\n",
            "[CV] criterion=entropy, max_depth=12, max_features=None ..............\n",
            "[CV]  criterion=entropy, max_depth=12, max_features=None, total=   0.1s\n",
            "[CV] criterion=entropy, max_depth=12, max_features=None ..............\n",
            "[CV]  criterion=entropy, max_depth=12, max_features=None, total=   0.1s\n",
            "[CV] criterion=entropy, max_depth=12, max_features=None ..............\n",
            "[CV]  criterion=entropy, max_depth=12, max_features=None, total=   0.1s\n",
            "[CV] criterion=entropy, max_depth=12, max_features=None ..............\n",
            "[CV]  criterion=entropy, max_depth=12, max_features=None, total=   0.1s\n",
            "[CV] criterion=entropy, max_depth=12, max_features=None ..............\n",
            "[CV]  criterion=entropy, max_depth=12, max_features=None, total=   0.1s\n",
            "[CV] criterion=entropy, max_depth=12, max_features=None ..............\n",
            "[CV]  criterion=entropy, max_depth=12, max_features=None, total=   0.1s\n",
            "[CV] criterion=entropy, max_depth=12, max_features=None ..............\n",
            "[CV]  criterion=entropy, max_depth=12, max_features=None, total=   0.1s\n",
            "[CV] criterion=entropy, max_depth=12, max_features=None ..............\n",
            "[CV]  criterion=entropy, max_depth=12, max_features=None, total=   0.1s\n",
            "[CV] criterion=entropy, max_depth=12, max_features=None ..............\n",
            "[CV]  criterion=entropy, max_depth=12, max_features=None, total=   0.1s\n",
            "[CV] criterion=entropy, max_depth=13, max_features=auto ..............\n",
            "[CV]  criterion=entropy, max_depth=13, max_features=auto, total=   0.0s\n",
            "[CV] criterion=entropy, max_depth=13, max_features=auto ..............\n",
            "[CV]  criterion=entropy, max_depth=13, max_features=auto, total=   0.0s\n",
            "[CV] criterion=entropy, max_depth=13, max_features=auto ..............\n",
            "[CV]  criterion=entropy, max_depth=13, max_features=auto, total=   0.0s\n",
            "[CV] criterion=entropy, max_depth=13, max_features=auto ..............\n",
            "[CV]  criterion=entropy, max_depth=13, max_features=auto, total=   0.0s\n",
            "[CV] criterion=entropy, max_depth=13, max_features=auto ..............\n",
            "[CV]  criterion=entropy, max_depth=13, max_features=auto, total=   0.0s\n",
            "[CV] criterion=entropy, max_depth=13, max_features=auto ..............\n",
            "[CV]  criterion=entropy, max_depth=13, max_features=auto, total=   0.0s\n",
            "[CV] criterion=entropy, max_depth=13, max_features=auto ..............\n",
            "[CV]  criterion=entropy, max_depth=13, max_features=auto, total=   0.0s\n",
            "[CV] criterion=entropy, max_depth=13, max_features=auto ..............\n",
            "[CV]  criterion=entropy, max_depth=13, max_features=auto, total=   0.0s\n",
            "[CV] criterion=entropy, max_depth=13, max_features=auto ..............\n",
            "[CV]  criterion=entropy, max_depth=13, max_features=auto, total=   0.0s\n",
            "[CV] criterion=entropy, max_depth=13, max_features=auto ..............\n",
            "[CV]  criterion=entropy, max_depth=13, max_features=auto, total=   0.0s\n",
            "[CV] criterion=entropy, max_depth=13, max_features=sqrt ..............\n",
            "[CV]  criterion=entropy, max_depth=13, max_features=sqrt, total=   0.0s\n",
            "[CV] criterion=entropy, max_depth=13, max_features=sqrt ..............\n",
            "[CV]  criterion=entropy, max_depth=13, max_features=sqrt, total=   0.0s\n",
            "[CV] criterion=entropy, max_depth=13, max_features=sqrt ..............\n",
            "[CV]  criterion=entropy, max_depth=13, max_features=sqrt, total=   0.0s\n",
            "[CV] criterion=entropy, max_depth=13, max_features=sqrt ..............\n",
            "[CV]  criterion=entropy, max_depth=13, max_features=sqrt, total=   0.1s\n",
            "[CV] criterion=entropy, max_depth=13, max_features=sqrt ..............\n",
            "[CV]  criterion=entropy, max_depth=13, max_features=sqrt, total=   0.0s\n",
            "[CV] criterion=entropy, max_depth=13, max_features=sqrt ..............\n",
            "[CV]  criterion=entropy, max_depth=13, max_features=sqrt, total=   0.0s\n",
            "[CV] criterion=entropy, max_depth=13, max_features=sqrt ..............\n",
            "[CV]  criterion=entropy, max_depth=13, max_features=sqrt, total=   0.0s\n",
            "[CV] criterion=entropy, max_depth=13, max_features=sqrt ..............\n",
            "[CV]  criterion=entropy, max_depth=13, max_features=sqrt, total=   0.0s\n",
            "[CV] criterion=entropy, max_depth=13, max_features=sqrt ..............\n",
            "[CV]  criterion=entropy, max_depth=13, max_features=sqrt, total=   0.0s\n",
            "[CV] criterion=entropy, max_depth=13, max_features=sqrt ..............\n",
            "[CV]  criterion=entropy, max_depth=13, max_features=sqrt, total=   0.0s\n",
            "[CV] criterion=entropy, max_depth=13, max_features=log2 ..............\n",
            "[CV]  criterion=entropy, max_depth=13, max_features=log2, total=   0.0s\n",
            "[CV] criterion=entropy, max_depth=13, max_features=log2 ..............\n",
            "[CV]  criterion=entropy, max_depth=13, max_features=log2, total=   0.0s\n",
            "[CV] criterion=entropy, max_depth=13, max_features=log2 ..............\n",
            "[CV]  criterion=entropy, max_depth=13, max_features=log2, total=   0.0s\n",
            "[CV] criterion=entropy, max_depth=13, max_features=log2 ..............\n",
            "[CV]  criterion=entropy, max_depth=13, max_features=log2, total=   0.0s\n",
            "[CV] criterion=entropy, max_depth=13, max_features=log2 ..............\n",
            "[CV]  criterion=entropy, max_depth=13, max_features=log2, total=   0.0s\n",
            "[CV] criterion=entropy, max_depth=13, max_features=log2 ..............\n",
            "[CV]  criterion=entropy, max_depth=13, max_features=log2, total=   0.0s\n",
            "[CV] criterion=entropy, max_depth=13, max_features=log2 ..............\n",
            "[CV]  criterion=entropy, max_depth=13, max_features=log2, total=   0.0s\n",
            "[CV] criterion=entropy, max_depth=13, max_features=log2 ..............\n",
            "[CV]  criterion=entropy, max_depth=13, max_features=log2, total=   0.0s\n",
            "[CV] criterion=entropy, max_depth=13, max_features=log2 ..............\n",
            "[CV]  criterion=entropy, max_depth=13, max_features=log2, total=   0.0s\n",
            "[CV] criterion=entropy, max_depth=13, max_features=log2 ..............\n",
            "[CV]  criterion=entropy, max_depth=13, max_features=log2, total=   0.0s\n",
            "[CV] criterion=entropy, max_depth=13, max_features=None ..............\n",
            "[CV]  criterion=entropy, max_depth=13, max_features=None, total=   0.1s\n",
            "[CV] criterion=entropy, max_depth=13, max_features=None ..............\n",
            "[CV]  criterion=entropy, max_depth=13, max_features=None, total=   0.1s\n",
            "[CV] criterion=entropy, max_depth=13, max_features=None ..............\n",
            "[CV]  criterion=entropy, max_depth=13, max_features=None, total=   0.1s\n",
            "[CV] criterion=entropy, max_depth=13, max_features=None ..............\n",
            "[CV]  criterion=entropy, max_depth=13, max_features=None, total=   0.1s\n",
            "[CV] criterion=entropy, max_depth=13, max_features=None ..............\n",
            "[CV]  criterion=entropy, max_depth=13, max_features=None, total=   0.1s\n",
            "[CV] criterion=entropy, max_depth=13, max_features=None ..............\n",
            "[CV]  criterion=entropy, max_depth=13, max_features=None, total=   0.1s\n",
            "[CV] criterion=entropy, max_depth=13, max_features=None ..............\n",
            "[CV]  criterion=entropy, max_depth=13, max_features=None, total=   0.1s\n",
            "[CV] criterion=entropy, max_depth=13, max_features=None ..............\n",
            "[CV]  criterion=entropy, max_depth=13, max_features=None, total=   0.1s\n",
            "[CV] criterion=entropy, max_depth=13, max_features=None ..............\n",
            "[CV]  criterion=entropy, max_depth=13, max_features=None, total=   0.1s\n",
            "[CV] criterion=entropy, max_depth=13, max_features=None ..............\n",
            "[CV]  criterion=entropy, max_depth=13, max_features=None, total=   0.1s\n",
            "[CV] criterion=entropy, max_depth=14, max_features=auto ..............\n",
            "[CV]  criterion=entropy, max_depth=14, max_features=auto, total=   0.0s\n",
            "[CV] criterion=entropy, max_depth=14, max_features=auto ..............\n",
            "[CV]  criterion=entropy, max_depth=14, max_features=auto, total=   0.0s\n",
            "[CV] criterion=entropy, max_depth=14, max_features=auto ..............\n",
            "[CV]  criterion=entropy, max_depth=14, max_features=auto, total=   0.0s\n",
            "[CV] criterion=entropy, max_depth=14, max_features=auto ..............\n",
            "[CV]  criterion=entropy, max_depth=14, max_features=auto, total=   0.0s\n",
            "[CV] criterion=entropy, max_depth=14, max_features=auto ..............\n",
            "[CV]  criterion=entropy, max_depth=14, max_features=auto, total=   0.0s\n",
            "[CV] criterion=entropy, max_depth=14, max_features=auto ..............\n",
            "[CV]  criterion=entropy, max_depth=14, max_features=auto, total=   0.0s\n",
            "[CV] criterion=entropy, max_depth=14, max_features=auto ..............\n",
            "[CV]  criterion=entropy, max_depth=14, max_features=auto, total=   0.0s\n",
            "[CV] criterion=entropy, max_depth=14, max_features=auto ..............\n",
            "[CV]  criterion=entropy, max_depth=14, max_features=auto, total=   0.0s\n",
            "[CV] criterion=entropy, max_depth=14, max_features=auto ..............\n",
            "[CV]  criterion=entropy, max_depth=14, max_features=auto, total=   0.0s\n",
            "[CV] criterion=entropy, max_depth=14, max_features=auto ..............\n",
            "[CV]  criterion=entropy, max_depth=14, max_features=auto, total=   0.0s\n",
            "[CV] criterion=entropy, max_depth=14, max_features=sqrt ..............\n",
            "[CV]  criterion=entropy, max_depth=14, max_features=sqrt, total=   0.0s\n",
            "[CV] criterion=entropy, max_depth=14, max_features=sqrt ..............\n",
            "[CV]  criterion=entropy, max_depth=14, max_features=sqrt, total=   0.0s\n",
            "[CV] criterion=entropy, max_depth=14, max_features=sqrt ..............\n",
            "[CV]  criterion=entropy, max_depth=14, max_features=sqrt, total=   0.0s\n",
            "[CV] criterion=entropy, max_depth=14, max_features=sqrt ..............\n",
            "[CV]  criterion=entropy, max_depth=14, max_features=sqrt, total=   0.0s\n",
            "[CV] criterion=entropy, max_depth=14, max_features=sqrt ..............\n",
            "[CV]  criterion=entropy, max_depth=14, max_features=sqrt, total=   0.0s\n",
            "[CV] criterion=entropy, max_depth=14, max_features=sqrt ..............\n",
            "[CV]  criterion=entropy, max_depth=14, max_features=sqrt, total=   0.0s\n",
            "[CV] criterion=entropy, max_depth=14, max_features=sqrt ..............\n",
            "[CV]  criterion=entropy, max_depth=14, max_features=sqrt, total=   0.0s\n",
            "[CV] criterion=entropy, max_depth=14, max_features=sqrt ..............\n",
            "[CV]  criterion=entropy, max_depth=14, max_features=sqrt, total=   0.0s\n",
            "[CV] criterion=entropy, max_depth=14, max_features=sqrt ..............\n",
            "[CV]  criterion=entropy, max_depth=14, max_features=sqrt, total=   0.0s\n",
            "[CV] criterion=entropy, max_depth=14, max_features=sqrt ..............\n",
            "[CV]  criterion=entropy, max_depth=14, max_features=sqrt, total=   0.0s\n",
            "[CV] criterion=entropy, max_depth=14, max_features=log2 ..............\n",
            "[CV]  criterion=entropy, max_depth=14, max_features=log2, total=   0.0s\n",
            "[CV] criterion=entropy, max_depth=14, max_features=log2 ..............\n",
            "[CV]  criterion=entropy, max_depth=14, max_features=log2, total=   0.0s\n",
            "[CV] criterion=entropy, max_depth=14, max_features=log2 ..............\n",
            "[CV]  criterion=entropy, max_depth=14, max_features=log2, total=   0.0s\n",
            "[CV] criterion=entropy, max_depth=14, max_features=log2 ..............\n",
            "[CV]  criterion=entropy, max_depth=14, max_features=log2, total=   0.0s\n",
            "[CV] criterion=entropy, max_depth=14, max_features=log2 ..............\n",
            "[CV]  criterion=entropy, max_depth=14, max_features=log2, total=   0.0s\n",
            "[CV] criterion=entropy, max_depth=14, max_features=log2 ..............\n",
            "[CV]  criterion=entropy, max_depth=14, max_features=log2, total=   0.0s\n",
            "[CV] criterion=entropy, max_depth=14, max_features=log2 ..............\n",
            "[CV]  criterion=entropy, max_depth=14, max_features=log2, total=   0.0s\n",
            "[CV] criterion=entropy, max_depth=14, max_features=log2 ..............\n",
            "[CV]  criterion=entropy, max_depth=14, max_features=log2, total=   0.0s\n",
            "[CV] criterion=entropy, max_depth=14, max_features=log2 ..............\n",
            "[CV]  criterion=entropy, max_depth=14, max_features=log2, total=   0.0s\n",
            "[CV] criterion=entropy, max_depth=14, max_features=log2 ..............\n",
            "[CV]  criterion=entropy, max_depth=14, max_features=log2, total=   0.0s\n",
            "[CV] criterion=entropy, max_depth=14, max_features=None ..............\n",
            "[CV]  criterion=entropy, max_depth=14, max_features=None, total=   0.1s\n",
            "[CV] criterion=entropy, max_depth=14, max_features=None ..............\n",
            "[CV]  criterion=entropy, max_depth=14, max_features=None, total=   0.1s\n",
            "[CV] criterion=entropy, max_depth=14, max_features=None ..............\n",
            "[CV]  criterion=entropy, max_depth=14, max_features=None, total=   0.1s\n",
            "[CV] criterion=entropy, max_depth=14, max_features=None ..............\n",
            "[CV]  criterion=entropy, max_depth=14, max_features=None, total=   0.1s\n",
            "[CV] criterion=entropy, max_depth=14, max_features=None ..............\n",
            "[CV]  criterion=entropy, max_depth=14, max_features=None, total=   0.1s\n",
            "[CV] criterion=entropy, max_depth=14, max_features=None ..............\n",
            "[CV]  criterion=entropy, max_depth=14, max_features=None, total=   0.1s\n",
            "[CV] criterion=entropy, max_depth=14, max_features=None ..............\n",
            "[CV]  criterion=entropy, max_depth=14, max_features=None, total=   0.1s\n",
            "[CV] criterion=entropy, max_depth=14, max_features=None ..............\n",
            "[CV]  criterion=entropy, max_depth=14, max_features=None, total=   0.1s\n",
            "[CV] criterion=entropy, max_depth=14, max_features=None ..............\n",
            "[CV]  criterion=entropy, max_depth=14, max_features=None, total=   0.1s\n",
            "[CV] criterion=entropy, max_depth=14, max_features=None ..............\n",
            "[CV]  criterion=entropy, max_depth=14, max_features=None, total=   0.1s\n"
          ],
          "name": "stdout"
        },
        {
          "output_type": "stream",
          "text": [
            "[Parallel(n_jobs=1)]: Done 640 out of 640 | elapsed:   34.1s finished\n"
          ],
          "name": "stderr"
        },
        {
          "output_type": "execute_result",
          "data": {
            "text/plain": [
              "GridSearchCV(cv=10, error_score=nan,\n",
              "             estimator=DecisionTreeClassifier(ccp_alpha=0.0, class_weight=None,\n",
              "                                              criterion='gini', max_depth=None,\n",
              "                                              max_features=None,\n",
              "                                              max_leaf_nodes=100,\n",
              "                                              min_impurity_decrease=0.0,\n",
              "                                              min_impurity_split=None,\n",
              "                                              min_samples_leaf=1,\n",
              "                                              min_samples_split=2,\n",
              "                                              min_weight_fraction_leaf=0.0,\n",
              "                                              presort='deprecated',\n",
              "                                              random_state=None,\n",
              "                                              splitter='best'),\n",
              "             iid='deprecated', n_jobs=None,\n",
              "             param_grid={'criterion': ['gini', 'entropy'],\n",
              "                         'max_depth': [7, 8, 9, 10, 11, 12, 13, 14],\n",
              "                         'max_features': ['auto', 'sqrt', 'log2', None]},\n",
              "             pre_dispatch='2*n_jobs', refit=True, return_train_score=False,\n",
              "             scoring='accuracy', verbose=2)"
            ]
          },
          "metadata": {
            "tags": []
          },
          "execution_count": 95
        }
      ]
    },
    {
      "cell_type": "code",
      "metadata": {
        "id": "ElQ7trFWs6b0",
        "colab_type": "code",
        "colab": {
          "base_uri": "https://localhost:8080/",
          "height": 54
        },
        "outputId": "a3f7f3ec-6152-4b51-e3db-e4df4ed3fe2f"
      },
      "source": [
        "\n",
        "print('Best Hyperparameters:', clf.best_params_)\n",
        "print('Score:', clf.best_score_)\n",
        "\n"
      ],
      "execution_count": null,
      "outputs": [
        {
          "output_type": "stream",
          "text": [
            "Best Hyperparameters: {'criterion': 'gini', 'max_depth': 11, 'max_features': None}\n",
            "Score: 0.8100874941697898\n"
          ],
          "name": "stdout"
        }
      ]
    },
    {
      "cell_type": "code",
      "metadata": {
        "id": "ZjlTy244trDI",
        "colab_type": "code",
        "colab": {
          "base_uri": "https://localhost:8080/",
          "height": 54
        },
        "outputId": "bac54825-95da-4e5a-8878-a024072c064f"
      },
      "source": [
        "print('train score...' , f1_score(y_train, clf.predict(x_train)))\n",
        "print('test score...', f1_score(y_test, clf.predict(x_test)))"
      ],
      "execution_count": null,
      "outputs": [
        {
          "output_type": "stream",
          "text": [
            "train score... 0.8609336129944882\n",
            "test score... 0.8548776284039986\n"
          ],
          "name": "stdout"
        }
      ]
    },
    {
      "cell_type": "markdown",
      "metadata": {
        "id": "RdMAV1zpu6lC",
        "colab_type": "text"
      },
      "source": [
        "RANDOM FOREST CLASSIFIER"
      ]
    },
    {
      "cell_type": "code",
      "metadata": {
        "id": "BUFk-xIxty2D",
        "colab_type": "code",
        "colab": {
          "base_uri": "https://localhost:8080/",
          "height": 167
        },
        "outputId": "d57cf003-299e-453f-df54-ddcecb257c59"
      },
      "source": [
        "from sklearn.ensemble import RandomForestClassifier\n",
        "rf=RandomForestClassifier(max_depth=14,n_estimators=190,criterion='gini',warm_start=True,min_samples_leaf=3,n_jobs=15)\n",
        "rf.fit(x_train,y_train)"
      ],
      "execution_count": null,
      "outputs": [
        {
          "output_type": "execute_result",
          "data": {
            "text/plain": [
              "RandomForestClassifier(bootstrap=True, ccp_alpha=0.0, class_weight=None,\n",
              "                       criterion='gini', max_depth=14, max_features='auto',\n",
              "                       max_leaf_nodes=None, max_samples=None,\n",
              "                       min_impurity_decrease=0.0, min_impurity_split=None,\n",
              "                       min_samples_leaf=3, min_samples_split=2,\n",
              "                       min_weight_fraction_leaf=0.0, n_estimators=190,\n",
              "                       n_jobs=15, oob_score=False, random_state=None, verbose=0,\n",
              "                       warm_start=True)"
            ]
          },
          "metadata": {
            "tags": []
          },
          "execution_count": 158
        }
      ]
    },
    {
      "cell_type": "code",
      "metadata": {
        "id": "iQwJM10GwQm6",
        "colab_type": "code",
        "colab": {
          "base_uri": "https://localhost:8080/",
          "height": 54
        },
        "outputId": "da9cdeda-192a-481c-c09a-875142f8c553"
      },
      "source": [
        "y_pred_rf=rf.predict(x_test)\n",
        "print('Training accuracy...', f1_score(y_train, rf.predict(x_train)))\n",
        "f1_rf=f1_score(y_test,y_pred_rf)\n",
        "print('F1 score is',f1_rf)"
      ],
      "execution_count": null,
      "outputs": [
        {
          "output_type": "stream",
          "text": [
            "Training accuracy... 0.9360198624904508\n",
            "F1 score is 0.8608841634023503\n"
          ],
          "name": "stdout"
        }
      ]
    },
    {
      "cell_type": "code",
      "metadata": {
        "id": "GiJse0oiwr-i",
        "colab_type": "code",
        "colab": {
          "base_uri": "https://localhost:8080/",
          "height": 351
        },
        "outputId": "4c07cfbd-0fcf-4e9a-8f6a-eb9f76ca29b9"
      },
      "source": [
        "from xgboost import XGBClassifier\n",
        "from xgboost import plot_importance\n",
        "\n",
        "# fit model to training data\n",
        "xgb_model = XGBClassifier(max_depth=4,n_estimators=100,learning_rate=0.1)\n",
        "xgb_model.fit(x_train, y_train)\n",
        "\n",
        "print(\"Feature Importances : \", xgb_model.feature_importances_)\n",
        "\n",
        "# plot feature importance\n",
        "plot_importance(xgb_model)\n",
        "plt.show()"
      ],
      "execution_count": null,
      "outputs": [
        {
          "output_type": "stream",
          "text": [
            "Feature Importances :  [0.00883003 0.0898798  0.00825021 0.11342585 0.06695869 0.10493394\n",
            " 0.13606405 0.08504964 0.         0.05636344 0.05307239 0.14730531\n",
            " 0.07404649 0.00980531 0.01351592 0.         0.03249891]\n"
          ],
          "name": "stdout"
        },
        {
          "output_type": "display_data",
          "data": {
            "image/png": "[encoded data removed]",
            "text/plain": [
              "<Figure size 432x288 with 1 Axes>"
            ]
          },
          "metadata": {
            "tags": [],
            "needs_background": "light"
          }
        }
      ]
    },
    {
      "cell_type": "code",
      "metadata": {
        "id": "Nd4u6g6B2uQi",
        "colab_type": "code",
        "colab": {
          "base_uri": "https://localhost:8080/",
          "height": 36
        },
        "outputId": "f4ae3820-1dc6-4c8b-9ad8-a594c5783b30"
      },
      "source": [
        "y_pred_xgb=xgb_model.predict(x_test)\n",
        "f1_xgb=f1_score(y_test,y_pred_xgb)\n",
        "print(f1_xgb)"
      ],
      "execution_count": null,
      "outputs": [
        {
          "output_type": "stream",
          "text": [
            "0.86755731486063\n"
          ],
          "name": "stdout"
        }
      ]
    },
    {
      "cell_type": "code",
      "metadata": {
        "id": "kjzyyLT93Ul6",
        "colab_type": "code",
        "colab": {
          "base_uri": "https://localhost:8080/",
          "height": 90
        },
        "outputId": "953e4f78-4af4-41eb-9f7b-f26a955fadae"
      },
      "source": [
        "from sklearn.feature_selection import RFE #importing RFE class from sklearn library\n",
        "\n",
        "rfe = RFE(estimator= dt , step = 1) \n",
        "# estimator clf_lr is the baseline model (basic model) that we have created under \"Base line Model\" selection\n",
        "# step = 1: removes one feature at a time and then builds a model on the remaining features\n",
        "# It uses the model accuracy to identify which features (and combination of features) contribute the most to predicting the target variable.\n",
        "# we can even provide no. of features as an argument \n",
        "\n",
        "# Fit the function for ranking the features\n",
        "fit = rfe.fit(x_train, y_train)\n",
        "\n",
        "print(\"Num Features: %d\" % fit.n_features_)\n",
        "print(\"Selected Features: %s\" % fit.support_)\n",
        "print(\"Feature Ranking: %s\" % fit.ranking_)"
      ],
      "execution_count": null,
      "outputs": [
        {
          "output_type": "stream",
          "text": [
            "Num Features: 8\n",
            "Selected Features: [ True  True  True  True  True  True  True False False False False False\n",
            " False False False False  True]\n",
            "Feature Ranking: [ 1  1  1  1  1  1  1  2 10  3  6  5  4  7  8  9  1]\n"
          ],
          "name": "stdout"
        }
      ]
    },
    {
      "cell_type": "code",
      "metadata": {
        "id": "ikyEGx4742JQ",
        "colab_type": "code",
        "colab": {
          "base_uri": "https://localhost:8080/",
          "height": 583
        },
        "outputId": "49fb0627-acbb-48fa-baa4-7645181dbfbf"
      },
      "source": [
        "selected_rfe_features = pd.DataFrame({'Feature':list(x_train.columns),\n",
        "                                      'Ranking':rfe.ranking_})\n",
        "selected_rfe_features.sort_values(by='Ranking')"
      ],
      "execution_count": null,
      "outputs": [
        {
          "output_type": "execute_result",
          "data": {
            "text/html": [
              "<div>\n",
              "<style scoped>\n",
              "    .dataframe tbody tr th:only-of-type {\n",
              "        vertical-align: middle;\n",
              "    }\n",
              "\n",
              "    .dataframe tbody tr th {\n",
              "        vertical-align: top;\n",
              "    }\n",
              "\n",
              "    .dataframe thead th {\n",
              "        text-align: right;\n",
              "    }\n",
              "</style>\n",
              "<table border=\"1\" class=\"dataframe\">\n",
              "  <thead>\n",
              "    <tr style=\"text-align: right;\">\n",
              "      <th></th>\n",
              "      <th>Feature</th>\n",
              "      <th>Ranking</th>\n",
              "    </tr>\n",
              "  </thead>\n",
              "  <tbody>\n",
              "    <tr>\n",
              "      <th>0</th>\n",
              "      <td>ID_Patient_Care_Situation</td>\n",
              "      <td>1</td>\n",
              "    </tr>\n",
              "    <tr>\n",
              "      <th>6</th>\n",
              "      <td>Patient_Smoker</td>\n",
              "      <td>1</td>\n",
              "    </tr>\n",
              "    <tr>\n",
              "      <th>5</th>\n",
              "      <td>Patient_Body_Mass_Index</td>\n",
              "      <td>1</td>\n",
              "    </tr>\n",
              "    <tr>\n",
              "      <th>4</th>\n",
              "      <td>Patient_Age</td>\n",
              "      <td>1</td>\n",
              "    </tr>\n",
              "    <tr>\n",
              "      <th>16</th>\n",
              "      <td>Number_of_prev_cond</td>\n",
              "      <td>1</td>\n",
              "    </tr>\n",
              "    <tr>\n",
              "      <th>2</th>\n",
              "      <td>Patient_ID</td>\n",
              "      <td>1</td>\n",
              "    </tr>\n",
              "    <tr>\n",
              "      <th>1</th>\n",
              "      <td>Diagnosed_Condition</td>\n",
              "      <td>1</td>\n",
              "    </tr>\n",
              "    <tr>\n",
              "      <th>3</th>\n",
              "      <td>Treated_with_drugs</td>\n",
              "      <td>1</td>\n",
              "    </tr>\n",
              "    <tr>\n",
              "      <th>7</th>\n",
              "      <td>Patient_Rural_Urban</td>\n",
              "      <td>2</td>\n",
              "    </tr>\n",
              "    <tr>\n",
              "      <th>9</th>\n",
              "      <td>A</td>\n",
              "      <td>3</td>\n",
              "    </tr>\n",
              "    <tr>\n",
              "      <th>12</th>\n",
              "      <td>D</td>\n",
              "      <td>4</td>\n",
              "    </tr>\n",
              "    <tr>\n",
              "      <th>11</th>\n",
              "      <td>C</td>\n",
              "      <td>5</td>\n",
              "    </tr>\n",
              "    <tr>\n",
              "      <th>10</th>\n",
              "      <td>B</td>\n",
              "      <td>6</td>\n",
              "    </tr>\n",
              "    <tr>\n",
              "      <th>13</th>\n",
              "      <td>E</td>\n",
              "      <td>7</td>\n",
              "    </tr>\n",
              "    <tr>\n",
              "      <th>14</th>\n",
              "      <td>F</td>\n",
              "      <td>8</td>\n",
              "    </tr>\n",
              "    <tr>\n",
              "      <th>15</th>\n",
              "      <td>Z</td>\n",
              "      <td>9</td>\n",
              "    </tr>\n",
              "    <tr>\n",
              "      <th>8</th>\n",
              "      <td>Patient_mental_condition</td>\n",
              "      <td>10</td>\n",
              "    </tr>\n",
              "  </tbody>\n",
              "</table>\n",
              "</div>"
            ],
            "text/plain": [
              "                      Feature  Ranking\n",
              "0   ID_Patient_Care_Situation        1\n",
              "6              Patient_Smoker        1\n",
              "5     Patient_Body_Mass_Index        1\n",
              "4                 Patient_Age        1\n",
              "16        Number_of_prev_cond        1\n",
              "2                  Patient_ID        1\n",
              "1         Diagnosed_Condition        1\n",
              "3          Treated_with_drugs        1\n",
              "7         Patient_Rural_Urban        2\n",
              "9                           A        3\n",
              "12                          D        4\n",
              "11                          C        5\n",
              "10                          B        6\n",
              "13                          E        7\n",
              "14                          F        8\n",
              "15                          Z        9\n",
              "8    Patient_mental_condition       10"
            ]
          },
          "metadata": {
            "tags": []
          },
          "execution_count": 34
        }
      ]
    },
    {
      "cell_type": "code",
      "metadata": {
        "id": "bC_MCaoq5CeZ",
        "colab_type": "code",
        "colab": {}
      },
      "source": [
        "X_train_rfe = rfe.transform(x_train)\n",
        "X_test_rfe = rfe.transform(x_test)\n",
        "\n",
        "# Fitting our baseline model with the transformed data\n",
        "dt_rfe_model = dt.fit(X_train_rfe, y_train)"
      ],
      "execution_count": null,
      "outputs": []
    },
    {
      "cell_type": "code",
      "metadata": {
        "id": "a0g90Ejs5Vw5",
        "colab_type": "code",
        "colab": {
          "base_uri": "https://localhost:8080/",
          "height": 54
        },
        "outputId": "9879ab97-bf83-4456-ebfe-b2ad8c689634"
      },
      "source": [
        "# making predictions and evaluating the model\n",
        "from sklearn.metrics import accuracy_score,f1_score\n",
        "y_pred_rfe = dt_rfe_model.predict(X_test_rfe)\n",
        "\n",
        "rfe_ac = accuracy_score(y_test, y_pred_rfe)\n",
        "rfe_fscore = f1_score(y_test ,y_pred_rfe)\n",
        "\n",
        "print(\"RFE Model Accuracy:\", rfe_ac)\n",
        "print(\"RFE Model F1 Score:\", rfe_fscore)"
      ],
      "execution_count": null,
      "outputs": [
        {
          "output_type": "stream",
          "text": [
            "RFE Model Accuracy: 0.7411255411255411\n",
            "RFE Model F1 Score: 0.7927927927927929\n"
          ],
          "name": "stdout"
        }
      ]
    },
    {
      "cell_type": "code",
      "metadata": {
        "id": "zDh3OdaR5fCg",
        "colab_type": "code",
        "colab": {}
      },
      "source": [
        ""
      ],
      "execution_count": null,
      "outputs": []
    },
    {
      "cell_type": "markdown",
      "metadata": {
        "id": "_7bfgUlX6asC",
        "colab_type": "text"
      },
      "source": [
        "BORUTA"
      ]
    },
    {
      "cell_type": "code",
      "metadata": {
        "id": "eCmmyekb6bc1",
        "colab_type": "code",
        "colab": {
          "base_uri": "https://localhost:8080/",
          "height": 202
        },
        "outputId": "7493b7c3-2c22-4ffb-dbc6-2e90b9fab0e2"
      },
      "source": [
        "!pip install boruta\n"
      ],
      "execution_count": null,
      "outputs": [
        {
          "output_type": "stream",
          "text": [
            "Collecting boruta\n",
            "\u001b[?25l  Downloading https://files.pythonhosted.org/packages/b2/11/583f4eac99d802c79af9217e1eff56027742a69e6c866b295cce6a5a8fc2/Boruta-0.3-py3-none-any.whl (56kB)\n",
            "\r\u001b[K     |█████▉                          | 10kB 17.9MB/s eta 0:00:01\r\u001b[K     |███████████▋                    | 20kB 1.7MB/s eta 0:00:01\r\u001b[K     |█████████████████▍              | 30kB 2.3MB/s eta 0:00:01\r\u001b[K     |███████████████████████▏        | 40kB 2.6MB/s eta 0:00:01\r\u001b[K     |█████████████████████████████   | 51kB 2.0MB/s eta 0:00:01\r\u001b[K     |████████████████████████████████| 61kB 1.9MB/s \n",
            "\u001b[?25hRequirement already satisfied: scipy>=0.17.0 in /usr/local/lib/python3.6/dist-packages (from boruta) (1.4.1)\n",
            "Requirement already satisfied: scikit-learn>=0.17.1 in /usr/local/lib/python3.6/dist-packages (from boruta) (0.22.2.post1)\n",
            "Requirement already satisfied: numpy>=1.10.4 in /usr/local/lib/python3.6/dist-packages (from boruta) (1.18.5)\n",
            "Requirement already satisfied: joblib>=0.11 in /usr/local/lib/python3.6/dist-packages (from scikit-learn>=0.17.1->boruta) (0.15.1)\n",
            "Installing collected packages: boruta\n",
            "Successfully installed boruta-0.3\n"
          ],
          "name": "stdout"
        }
      ]
    },
    {
      "cell_type": "code",
      "metadata": {
        "id": "ujJ7Zs-J6xJ0",
        "colab_type": "code",
        "colab": {}
      },
      "source": [
        "from boruta import BorutaPy"
      ],
      "execution_count": null,
      "outputs": []
    },
    {
      "cell_type": "code",
      "metadata": {
        "id": "e-MVPtjp66S0",
        "colab_type": "code",
        "colab": {
          "base_uri": "https://localhost:8080/",
          "height": 1000
        },
        "outputId": "baedd306-c6f2-422c-d45e-77d8ca9ef081"
      },
      "source": [
        "# define Boruta feature selection method\n",
        "# boruta_selector = BorutaPy(forest, n_estimators='auto', verbose=2)\n",
        "boruta_selector = BorutaPy(rf, n_estimators='auto', verbose=2, random_state=1)\n",
        "\n",
        "# find all relevant features\n",
        "boruta_selector.fit(np.array(x_train), np.array(y_train))"
      ],
      "execution_count": null,
      "outputs": [
        {
          "output_type": "stream",
          "text": [
            "Iteration: \t1 / 100\n",
            "Confirmed: \t0\n",
            "Tentative: \t17\n",
            "Rejected: \t0\n",
            "Iteration: \t2 / 100\n",
            "Confirmed: \t0\n",
            "Tentative: \t17\n",
            "Rejected: \t0\n",
            "Iteration: \t3 / 100\n",
            "Confirmed: \t0\n",
            "Tentative: \t17\n",
            "Rejected: \t0\n",
            "Iteration: \t4 / 100\n",
            "Confirmed: \t0\n",
            "Tentative: \t17\n",
            "Rejected: \t0\n",
            "Iteration: \t5 / 100\n",
            "Confirmed: \t0\n",
            "Tentative: \t17\n",
            "Rejected: \t0\n",
            "Iteration: \t6 / 100\n",
            "Confirmed: \t0\n",
            "Tentative: \t17\n",
            "Rejected: \t0\n",
            "Iteration: \t7 / 100\n",
            "Confirmed: \t0\n",
            "Tentative: \t17\n",
            "Rejected: \t0\n",
            "Iteration: \t8 / 100\n",
            "Confirmed: \t5\n",
            "Tentative: \t2\n",
            "Rejected: \t10\n",
            "Iteration: \t9 / 100\n",
            "Confirmed: \t5\n",
            "Tentative: \t2\n",
            "Rejected: \t10\n",
            "Iteration: \t10 / 100\n",
            "Confirmed: \t5\n",
            "Tentative: \t2\n",
            "Rejected: \t10\n",
            "Iteration: \t11 / 100\n",
            "Confirmed: \t5\n",
            "Tentative: \t2\n",
            "Rejected: \t10\n",
            "Iteration: \t12 / 100\n",
            "Confirmed: \t5\n",
            "Tentative: \t2\n",
            "Rejected: \t10\n",
            "Iteration: \t13 / 100\n",
            "Confirmed: \t5\n",
            "Tentative: \t2\n",
            "Rejected: \t10\n",
            "Iteration: \t14 / 100\n",
            "Confirmed: \t5\n",
            "Tentative: \t2\n",
            "Rejected: \t10\n",
            "Iteration: \t15 / 100\n",
            "Confirmed: \t5\n",
            "Tentative: \t2\n",
            "Rejected: \t10\n",
            "Iteration: \t16 / 100\n",
            "Confirmed: \t5\n",
            "Tentative: \t2\n",
            "Rejected: \t10\n",
            "Iteration: \t17 / 100\n",
            "Confirmed: \t5\n",
            "Tentative: \t2\n",
            "Rejected: \t10\n",
            "Iteration: \t18 / 100\n",
            "Confirmed: \t5\n",
            "Tentative: \t2\n",
            "Rejected: \t10\n",
            "Iteration: \t19 / 100\n",
            "Confirmed: \t5\n",
            "Tentative: \t1\n",
            "Rejected: \t11\n",
            "Iteration: \t20 / 100\n",
            "Confirmed: \t5\n",
            "Tentative: \t1\n",
            "Rejected: \t11\n",
            "Iteration: \t21 / 100\n",
            "Confirmed: \t5\n",
            "Tentative: \t1\n",
            "Rejected: \t11\n",
            "Iteration: \t22 / 100\n",
            "Confirmed: \t5\n",
            "Tentative: \t1\n",
            "Rejected: \t11\n",
            "Iteration: \t23 / 100\n",
            "Confirmed: \t5\n",
            "Tentative: \t1\n",
            "Rejected: \t11\n",
            "Iteration: \t24 / 100\n",
            "Confirmed: \t5\n",
            "Tentative: \t1\n",
            "Rejected: \t11\n",
            "Iteration: \t25 / 100\n",
            "Confirmed: \t5\n",
            "Tentative: \t1\n",
            "Rejected: \t11\n",
            "Iteration: \t26 / 100\n",
            "Confirmed: \t5\n",
            "Tentative: \t1\n",
            "Rejected: \t11\n",
            "Iteration: \t27 / 100\n",
            "Confirmed: \t5\n",
            "Tentative: \t1\n",
            "Rejected: \t11\n",
            "Iteration: \t28 / 100\n",
            "Confirmed: \t5\n",
            "Tentative: \t1\n",
            "Rejected: \t11\n",
            "Iteration: \t29 / 100\n",
            "Confirmed: \t5\n",
            "Tentative: \t1\n",
            "Rejected: \t11\n",
            "Iteration: \t30 / 100\n",
            "Confirmed: \t5\n",
            "Tentative: \t1\n",
            "Rejected: \t11\n",
            "Iteration: \t31 / 100\n",
            "Confirmed: \t5\n",
            "Tentative: \t1\n",
            "Rejected: \t11\n",
            "Iteration: \t32 / 100\n",
            "Confirmed: \t5\n",
            "Tentative: \t1\n",
            "Rejected: \t11\n",
            "Iteration: \t33 / 100\n",
            "Confirmed: \t5\n",
            "Tentative: \t1\n",
            "Rejected: \t11\n",
            "Iteration: \t34 / 100\n",
            "Confirmed: \t5\n",
            "Tentative: \t0\n",
            "Rejected: \t12\n",
            "\n",
            "\n",
            "BorutaPy finished running.\n",
            "\n",
            "Iteration: \t35 / 100\n",
            "Confirmed: \t5\n",
            "Tentative: \t0\n",
            "Rejected: \t12\n"
          ],
          "name": "stdout"
        },
        {
          "output_type": "execute_result",
          "data": {
            "text/plain": [
              "BorutaPy(alpha=0.05,\n",
              "         estimator=RandomForestClassifier(bootstrap=True, ccp_alpha=0.0,\n",
              "                                          class_weight=None,\n",
              "                                          criterion='entropy', max_depth=13,\n",
              "                                          max_features='auto',\n",
              "                                          max_leaf_nodes=10000,\n",
              "                                          max_samples=None,\n",
              "                                          min_impurity_decrease=0.0,\n",
              "                                          min_impurity_split=None,\n",
              "                                          min_samples_leaf=1,\n",
              "                                          min_samples_split=2,\n",
              "                                          min_weight_fraction_leaf=0.0,\n",
              "                                          n_estimators=26, n_jobs=-1,\n",
              "                                          oob_score=False,\n",
              "                                          random_state=RandomState(MT19937) at 0x7FB3016F5EB8,\n",
              "                                          verbose=0, warm_start=False),\n",
              "         max_iter=100, n_estimators='auto', perc=100,\n",
              "         random_state=RandomState(MT19937) at 0x7FB3016F5EB8, two_step=True,\n",
              "         verbose=2)"
            ]
          },
          "metadata": {
            "tags": []
          },
          "execution_count": 46
        }
      ]
    },
    {
      "cell_type": "code",
      "metadata": {
        "id": "vh4lSMyx7WD8",
        "colab_type": "code",
        "colab": {
          "base_uri": "https://localhost:8080/",
          "height": 90
        },
        "outputId": "c3eb2be4-aba7-475a-ccf8-6b1e04aecf05"
      },
      "source": [
        "# check selected features\n",
        "print(\"Selected Features: \", boruta_selector.support_)\n",
        " \n",
        "# check ranking of features\n",
        "print(\"Ranking: \",boruta_selector.ranking_)\n",
        "\n",
        "print(\"No. of significant features: \", boruta_selector.n_features_)"
      ],
      "execution_count": null,
      "outputs": [
        {
          "output_type": "stream",
          "text": [
            "Selected Features:  [False  True False  True  True  True  True False False False False False\n",
            " False False False False False]\n",
            "Ranking:  [ 3  1  2  1  1  1  1  4 13  7  9  8  5 10 11 12  6]\n",
            "No. of significant features:  5\n"
          ],
          "name": "stdout"
        }
      ]
    },
    {
      "cell_type": "code",
      "metadata": {
        "id": "ioihzsMx7xfv",
        "colab_type": "code",
        "colab": {
          "base_uri": "https://localhost:8080/",
          "height": 583
        },
        "outputId": "2aafa5a3-1431-4152-bb68-6ca67d50c281"
      },
      "source": [
        "# Let's visualise it better in the form of a table\n",
        "selected_rfe_features = pd.DataFrame({'Feature':list(x_train.columns),\n",
        "                                      'Ranking':boruta_selector.ranking_})\n",
        "selected_rfe_features.sort_values(by='Ranking')"
      ],
      "execution_count": null,
      "outputs": [
        {
          "output_type": "execute_result",
          "data": {
            "text/html": [
              "<div>\n",
              "<style scoped>\n",
              "    .dataframe tbody tr th:only-of-type {\n",
              "        vertical-align: middle;\n",
              "    }\n",
              "\n",
              "    .dataframe tbody tr th {\n",
              "        vertical-align: top;\n",
              "    }\n",
              "\n",
              "    .dataframe thead th {\n",
              "        text-align: right;\n",
              "    }\n",
              "</style>\n",
              "<table border=\"1\" class=\"dataframe\">\n",
              "  <thead>\n",
              "    <tr style=\"text-align: right;\">\n",
              "      <th></th>\n",
              "      <th>Feature</th>\n",
              "      <th>Ranking</th>\n",
              "    </tr>\n",
              "  </thead>\n",
              "  <tbody>\n",
              "    <tr>\n",
              "      <th>1</th>\n",
              "      <td>Diagnosed_Condition</td>\n",
              "      <td>1</td>\n",
              "    </tr>\n",
              "    <tr>\n",
              "      <th>3</th>\n",
              "      <td>Treated_with_drugs</td>\n",
              "      <td>1</td>\n",
              "    </tr>\n",
              "    <tr>\n",
              "      <th>4</th>\n",
              "      <td>Patient_Age</td>\n",
              "      <td>1</td>\n",
              "    </tr>\n",
              "    <tr>\n",
              "      <th>5</th>\n",
              "      <td>Patient_Body_Mass_Index</td>\n",
              "      <td>1</td>\n",
              "    </tr>\n",
              "    <tr>\n",
              "      <th>6</th>\n",
              "      <td>Patient_Smoker</td>\n",
              "      <td>1</td>\n",
              "    </tr>\n",
              "    <tr>\n",
              "      <th>2</th>\n",
              "      <td>Patient_ID</td>\n",
              "      <td>2</td>\n",
              "    </tr>\n",
              "    <tr>\n",
              "      <th>0</th>\n",
              "      <td>ID_Patient_Care_Situation</td>\n",
              "      <td>3</td>\n",
              "    </tr>\n",
              "    <tr>\n",
              "      <th>7</th>\n",
              "      <td>Patient_Rural_Urban</td>\n",
              "      <td>4</td>\n",
              "    </tr>\n",
              "    <tr>\n",
              "      <th>12</th>\n",
              "      <td>D</td>\n",
              "      <td>5</td>\n",
              "    </tr>\n",
              "    <tr>\n",
              "      <th>16</th>\n",
              "      <td>Number_of_prev_cond</td>\n",
              "      <td>6</td>\n",
              "    </tr>\n",
              "    <tr>\n",
              "      <th>9</th>\n",
              "      <td>A</td>\n",
              "      <td>7</td>\n",
              "    </tr>\n",
              "    <tr>\n",
              "      <th>11</th>\n",
              "      <td>C</td>\n",
              "      <td>8</td>\n",
              "    </tr>\n",
              "    <tr>\n",
              "      <th>10</th>\n",
              "      <td>B</td>\n",
              "      <td>9</td>\n",
              "    </tr>\n",
              "    <tr>\n",
              "      <th>13</th>\n",
              "      <td>E</td>\n",
              "      <td>10</td>\n",
              "    </tr>\n",
              "    <tr>\n",
              "      <th>14</th>\n",
              "      <td>F</td>\n",
              "      <td>11</td>\n",
              "    </tr>\n",
              "    <tr>\n",
              "      <th>15</th>\n",
              "      <td>Z</td>\n",
              "      <td>12</td>\n",
              "    </tr>\n",
              "    <tr>\n",
              "      <th>8</th>\n",
              "      <td>Patient_mental_condition</td>\n",
              "      <td>13</td>\n",
              "    </tr>\n",
              "  </tbody>\n",
              "</table>\n",
              "</div>"
            ],
            "text/plain": [
              "                      Feature  Ranking\n",
              "1         Diagnosed_Condition        1\n",
              "3          Treated_with_drugs        1\n",
              "4                 Patient_Age        1\n",
              "5     Patient_Body_Mass_Index        1\n",
              "6              Patient_Smoker        1\n",
              "2                  Patient_ID        2\n",
              "0   ID_Patient_Care_Situation        3\n",
              "7         Patient_Rural_Urban        4\n",
              "12                          D        5\n",
              "16        Number_of_prev_cond        6\n",
              "9                           A        7\n",
              "11                          C        8\n",
              "10                          B        9\n",
              "13                          E       10\n",
              "14                          F       11\n",
              "15                          Z       12\n",
              "8    Patient_mental_condition       13"
            ]
          },
          "metadata": {
            "tags": []
          },
          "execution_count": 49
        }
      ]
    },
    {
      "cell_type": "code",
      "metadata": {
        "id": "0f7l_ipd7z2x",
        "colab_type": "code",
        "colab": {}
      },
      "source": [
        "x_important_train = boruta_selector.transform(np.array(x_train))\n",
        "x_important_test = boruta_selector.transform(np.array(x_test))"
      ],
      "execution_count": null,
      "outputs": []
    },
    {
      "cell_type": "code",
      "metadata": {
        "id": "5qe5tUaf8DLA",
        "colab_type": "code",
        "colab": {
          "base_uri": "https://localhost:8080/",
          "height": 182
        },
        "outputId": "9798b8b9-1616-4f81-da08-3d4375924661"
      },
      "source": [
        "\n",
        "\n",
        "# Train the new classifier on the new dataset containing the most important features\n",
        "rf.fit(x_important_train, y_train)"
      ],
      "execution_count": null,
      "outputs": [
        {
          "output_type": "execute_result",
          "data": {
            "text/plain": [
              "RandomForestClassifier(bootstrap=True, ccp_alpha=0.0, class_weight=None,\n",
              "                       criterion='entropy', max_depth=13, max_features='auto',\n",
              "                       max_leaf_nodes=10000, max_samples=None,\n",
              "                       min_impurity_decrease=0.0, min_impurity_split=None,\n",
              "                       min_samples_leaf=1, min_samples_split=2,\n",
              "                       min_weight_fraction_leaf=0.0, n_estimators=26, n_jobs=-1,\n",
              "                       oob_score=False,\n",
              "                       random_state=RandomState(MT19937) at 0x7FB3016F5EB8,\n",
              "                       verbose=0, warm_start=False)"
            ]
          },
          "metadata": {
            "tags": []
          },
          "execution_count": 52
        }
      ]
    },
    {
      "cell_type": "code",
      "metadata": {
        "id": "74VZoB0l8QYw",
        "colab_type": "code",
        "colab": {
          "base_uri": "https://localhost:8080/",
          "height": 54
        },
        "outputId": "7243d18c-b7a4-4932-fae5-a14bb15cf3c5"
      },
      "source": [
        "# Apply The Limited Featured Classifier To The Test Data\n",
        "y_important_pred = rf.predict(x_important_test)\n",
        "\n",
        "# View The Accuracy Of Our Limited Feature (4 Features) Model\n",
        "rf_imp_ac = accuracy_score(y_test, y_important_pred)\n",
        "rf_imp_fscore = f1_score(y_test, y_important_pred)\n",
        "\n",
        "print(\"Limited Features Boruta Model Accuracy:\", rf_imp_ac)\n",
        "print(\"Limited Features Boruta Model F1 Score:\", rf_imp_fscore)"
      ],
      "execution_count": null,
      "outputs": [
        {
          "output_type": "stream",
          "text": [
            "Limited Features Boruta Model Accuracy: 0.7909090909090909\n",
            "Limited Features Boruta Model F1 Score: 0.8405940594059406\n"
          ],
          "name": "stdout"
        }
      ]
    },
    {
      "cell_type": "code",
      "metadata": {
        "id": "izTvG37G8es8",
        "colab_type": "code",
        "colab": {}
      },
      "source": [
        ""
      ],
      "execution_count": null,
      "outputs": []
    },
    {
      "cell_type": "markdown",
      "metadata": {
        "id": "MZPtM9WB8sN8",
        "colab_type": "text"
      },
      "source": [
        "NAIVE BAYES"
      ]
    },
    {
      "cell_type": "code",
      "metadata": {
        "id": "9J-Z3G3V8t6H",
        "colab_type": "code",
        "colab": {
          "base_uri": "https://localhost:8080/",
          "height": 35
        },
        "outputId": "b1115a18-b382-4eb0-dc54-ceca8a40d929"
      },
      "source": [
        "from sklearn.naive_bayes import GaussianNB\n",
        "nb=GaussianNB()\n",
        "nb.fit(x_train,y_train)"
      ],
      "execution_count": null,
      "outputs": [
        {
          "output_type": "execute_result",
          "data": {
            "text/plain": [
              "GaussianNB(priors=None, var_smoothing=1e-09)"
            ]
          },
          "metadata": {
            "tags": []
          },
          "execution_count": 56
        }
      ]
    },
    {
      "cell_type": "code",
      "metadata": {
        "id": "HGOC1EAL82Ot",
        "colab_type": "code",
        "colab": {
          "base_uri": "https://localhost:8080/",
          "height": 35
        },
        "outputId": "ae7ef411-81fc-48da-8e45-2337ac8f8b89"
      },
      "source": [
        "y_pred_nb=nb.predict(x_test)\n",
        "print(f1_score(y_test,y_pred_nb))"
      ],
      "execution_count": null,
      "outputs": [
        {
          "output_type": "stream",
          "text": [
            "0.8041547493602287\n"
          ],
          "name": "stdout"
        }
      ]
    },
    {
      "cell_type": "code",
      "metadata": {
        "id": "i2adn1nU9Jdc",
        "colab_type": "code",
        "colab": {}
      },
      "source": [
        ""
      ],
      "execution_count": null,
      "outputs": []
    },
    {
      "cell_type": "markdown",
      "metadata": {
        "id": "tUnTIOYv9LRe",
        "colab_type": "text"
      },
      "source": [
        "SGD classifier"
      ]
    },
    {
      "cell_type": "code",
      "metadata": {
        "id": "v6SVsSpF-fwc",
        "colab_type": "code",
        "colab": {
          "base_uri": "https://localhost:8080/",
          "height": 127
        },
        "outputId": "55aa3283-cbd7-42f7-c620-b0f9b2ab4211"
      },
      "source": [
        "from sklearn.linear_model import SGDClassifier\n",
        "sgd=SGDClassifier(loss='modified_huber',shuffle=True,random_state=101)\n",
        "sgd.fit(x_train,y_train)"
      ],
      "execution_count": null,
      "outputs": [
        {
          "output_type": "execute_result",
          "data": {
            "text/plain": [
              "SGDClassifier(alpha=0.0001, average=False, class_weight=None,\n",
              "              early_stopping=False, epsilon=0.1, eta0=0.0, fit_intercept=True,\n",
              "              l1_ratio=0.15, learning_rate='optimal', loss='modified_huber',\n",
              "              max_iter=1000, n_iter_no_change=5, n_jobs=None, penalty='l2',\n",
              "              power_t=0.5, random_state=101, shuffle=True, tol=0.001,\n",
              "              validation_fraction=0.1, verbose=0, warm_start=False)"
            ]
          },
          "metadata": {
            "tags": []
          },
          "execution_count": 66
        }
      ]
    },
    {
      "cell_type": "code",
      "metadata": {
        "id": "QYhs946z-kIh",
        "colab_type": "code",
        "colab": {
          "base_uri": "https://localhost:8080/",
          "height": 35
        },
        "outputId": "bb52cc97-d7d1-440c-8398-70063614ee0b"
      },
      "source": [
        "y_pred_sg=sgd.predict(x_test)\n",
        "print(f1_score(y_test,y_pred_sg))"
      ],
      "execution_count": null,
      "outputs": [
        {
          "output_type": "stream",
          "text": [
            "0.7702811244979919\n"
          ],
          "name": "stdout"
        }
      ]
    },
    {
      "cell_type": "code",
      "metadata": {
        "id": "cfP6fzRU-3gG",
        "colab_type": "code",
        "colab": {
          "base_uri": "https://localhost:8080/",
          "height": 72
        },
        "outputId": "a1314a60-5bb6-4c69-f87e-cddcc249ce0b"
      },
      "source": [
        "from sklearn.neighbors import KNeighborsClassifier\n",
        "knn=KNeighborsClassifier(n_neighbors=10000)\n",
        "knn.fit(x_train,y_train)"
      ],
      "execution_count": null,
      "outputs": [
        {
          "output_type": "execute_result",
          "data": {
            "text/plain": [
              "KNeighborsClassifier(algorithm='auto', leaf_size=30, metric='minkowski',\n",
              "                     metric_params=None, n_jobs=None, n_neighbors=10000, p=2,\n",
              "                     weights='uniform')"
            ]
          },
          "metadata": {
            "tags": []
          },
          "execution_count": 75
        }
      ]
    },
    {
      "cell_type": "code",
      "metadata": {
        "id": "1mTyNlDG_cux",
        "colab_type": "code",
        "colab": {
          "base_uri": "https://localhost:8080/",
          "height": 35
        },
        "outputId": "44b4c148-d75c-42ea-b0a0-c50ed1130436"
      },
      "source": [
        "y_pred_knn=knn.predict(x_test)\n",
        "print(f1_score(y_test,y_pred_knn))"
      ],
      "execution_count": null,
      "outputs": [
        {
          "output_type": "stream",
          "text": [
            "0.7738853503184713\n"
          ],
          "name": "stdout"
        }
      ]
    },
    {
      "cell_type": "code",
      "metadata": {
        "id": "qj9kUfOj_vR6",
        "colab_type": "code",
        "colab": {
          "base_uri": "https://localhost:8080/",
          "height": 92
        },
        "outputId": "2c317695-3bc8-48d1-d273-ddb9097eca7a"
      },
      "source": [
        "from sklearn.svm import SVC\n",
        "svm=SVC(C=0.5)\n",
        "svm.fit(x_train,y_train)"
      ],
      "execution_count": null,
      "outputs": [
        {
          "output_type": "execute_result",
          "data": {
            "text/plain": [
              "SVC(C=0.5, break_ties=False, cache_size=200, class_weight=None, coef0=0.0,\n",
              "    decision_function_shape='ovr', degree=3, gamma='scale', kernel='rbf',\n",
              "    max_iter=-1, probability=False, random_state=None, shrinking=True,\n",
              "    tol=0.001, verbose=False)"
            ]
          },
          "metadata": {
            "tags": []
          },
          "execution_count": 133
        }
      ]
    },
    {
      "cell_type": "code",
      "metadata": {
        "id": "YTAI9r6DI-Wl",
        "colab_type": "code",
        "colab": {
          "base_uri": "https://localhost:8080/",
          "height": 36
        },
        "outputId": "a92e635f-cffd-4fc9-8b9b-0b18bb58a149"
      },
      "source": [
        "y_pred_svm=svm.predict(x_test)\n",
        "print(f1_score(y_test,y_pred_svm))"
      ],
      "execution_count": null,
      "outputs": [
        {
          "output_type": "stream",
          "text": [
            "0.7738853503184713\n"
          ],
          "name": "stdout"
        }
      ]
    },
    {
      "cell_type": "code",
      "metadata": {
        "id": "8kV5UcaEJM49",
        "colab_type": "code",
        "colab": {}
      },
      "source": [
        ""
      ],
      "execution_count": null,
      "outputs": []
    }
  ]
}