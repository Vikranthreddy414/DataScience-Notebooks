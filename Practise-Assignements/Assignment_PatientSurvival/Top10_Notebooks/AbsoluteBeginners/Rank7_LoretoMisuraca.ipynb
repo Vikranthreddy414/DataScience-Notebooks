{
  "nbformat": 4,
  "nbformat_minor": 0,
  "metadata": {
    "colab": {
      "name": "Assignment3_LM.ipynb",
      "provenance": [],
      "collapsed_sections": []
    },
    "kernelspec": {
      "name": "python3",
      "display_name": "Python 3"
    }
  },
  "cells": [
    {
      "cell_type": "code",
      "metadata": {
        "id": "hW7T-K7I8WCb",
        "colab_type": "code",
        "colab": {
          "base_uri": "https://localhost:8080/",
          "height": 54
        },
        "outputId": "e9b5d8f6-fbad-47b3-9ae0-927343bab047"
      },
      "source": [
        "import numpy as np\n",
        "import pandas as pd\n",
        "import seaborn as sns\n",
        "import matplotlib.pyplot as plt\n",
        "import missingno as msno"
      ],
      "execution_count": 1,
      "outputs": [
        {
          "output_type": "stream",
          "text": [
            "/usr/local/lib/python3.6/dist-packages/statsmodels/tools/_testing.py:19: FutureWarning: pandas.util.testing is deprecated. Use the functions in the public API at pandas.testing instead.\n",
            "  import pandas.util.testing as tm\n"
          ],
          "name": "stderr"
        }
      ]
    },
    {
      "cell_type": "code",
      "metadata": {
        "id": "OhzE2Ex68YfE",
        "colab_type": "code",
        "colab": {}
      },
      "source": [
        "pharma_data = pd.read_csv('https://raw.githubusercontent.com/dphi-official/Datasets/master/pharma_data/Training_set_begs.csv')"
      ],
      "execution_count": 2,
      "outputs": []
    },
    {
      "cell_type": "code",
      "metadata": {
        "id": "kDAYh22pHmVz",
        "colab_type": "code",
        "colab": {}
      },
      "source": [
        "test_new = pd.read_csv('https://raw.githubusercontent.com/dphi-official/Datasets/master/pharma_data/Testing_set_begs.csv')"
      ],
      "execution_count": 3,
      "outputs": []
    },
    {
      "cell_type": "code",
      "metadata": {
        "id": "XpgMxHru8g5z",
        "colab_type": "code",
        "colab": {
          "base_uri": "https://localhost:8080/",
          "height": 226
        },
        "outputId": "d8cebca4-6a0e-429e-9781-64a2e6be8440"
      },
      "source": [
        "pharma_data.head()"
      ],
      "execution_count": 4,
      "outputs": [
        {
          "output_type": "execute_result",
          "data": {
            "text/html": [
              "<div>\n",
              "<style scoped>\n",
              "    .dataframe tbody tr th:only-of-type {\n",
              "        vertical-align: middle;\n",
              "    }\n",
              "\n",
              "    .dataframe tbody tr th {\n",
              "        vertical-align: top;\n",
              "    }\n",
              "\n",
              "    .dataframe thead th {\n",
              "        text-align: right;\n",
              "    }\n",
              "</style>\n",
              "<table border=\"1\" class=\"dataframe\">\n",
              "  <thead>\n",
              "    <tr style=\"text-align: right;\">\n",
              "      <th></th>\n",
              "      <th>ID_Patient_Care_Situation</th>\n",
              "      <th>Diagnosed_Condition</th>\n",
              "      <th>Patient_ID</th>\n",
              "      <th>Treated_with_drugs</th>\n",
              "      <th>Patient_Age</th>\n",
              "      <th>Patient_Body_Mass_Index</th>\n",
              "      <th>Patient_Smoker</th>\n",
              "      <th>Patient_Rural_Urban</th>\n",
              "      <th>Patient_mental_condition</th>\n",
              "      <th>A</th>\n",
              "      <th>B</th>\n",
              "      <th>C</th>\n",
              "      <th>D</th>\n",
              "      <th>E</th>\n",
              "      <th>F</th>\n",
              "      <th>Z</th>\n",
              "      <th>Number_of_prev_cond</th>\n",
              "      <th>Survived_1_year</th>\n",
              "    </tr>\n",
              "  </thead>\n",
              "  <tbody>\n",
              "    <tr>\n",
              "      <th>0</th>\n",
              "      <td>22374</td>\n",
              "      <td>8</td>\n",
              "      <td>3333</td>\n",
              "      <td>DX6</td>\n",
              "      <td>56</td>\n",
              "      <td>18.479385</td>\n",
              "      <td>YES</td>\n",
              "      <td>URBAN</td>\n",
              "      <td>Stable</td>\n",
              "      <td>1.0</td>\n",
              "      <td>0.0</td>\n",
              "      <td>0.0</td>\n",
              "      <td>0.0</td>\n",
              "      <td>1.0</td>\n",
              "      <td>0.0</td>\n",
              "      <td>0.0</td>\n",
              "      <td>2.0</td>\n",
              "      <td>0</td>\n",
              "    </tr>\n",
              "    <tr>\n",
              "      <th>1</th>\n",
              "      <td>18164</td>\n",
              "      <td>5</td>\n",
              "      <td>5740</td>\n",
              "      <td>DX2</td>\n",
              "      <td>36</td>\n",
              "      <td>22.945566</td>\n",
              "      <td>YES</td>\n",
              "      <td>RURAL</td>\n",
              "      <td>Stable</td>\n",
              "      <td>1.0</td>\n",
              "      <td>0.0</td>\n",
              "      <td>0.0</td>\n",
              "      <td>0.0</td>\n",
              "      <td>0.0</td>\n",
              "      <td>0.0</td>\n",
              "      <td>0.0</td>\n",
              "      <td>1.0</td>\n",
              "      <td>1</td>\n",
              "    </tr>\n",
              "    <tr>\n",
              "      <th>2</th>\n",
              "      <td>6283</td>\n",
              "      <td>23</td>\n",
              "      <td>10446</td>\n",
              "      <td>DX6</td>\n",
              "      <td>48</td>\n",
              "      <td>27.510027</td>\n",
              "      <td>YES</td>\n",
              "      <td>RURAL</td>\n",
              "      <td>Stable</td>\n",
              "      <td>1.0</td>\n",
              "      <td>0.0</td>\n",
              "      <td>0.0</td>\n",
              "      <td>0.0</td>\n",
              "      <td>0.0</td>\n",
              "      <td>0.0</td>\n",
              "      <td>0.0</td>\n",
              "      <td>1.0</td>\n",
              "      <td>0</td>\n",
              "    </tr>\n",
              "    <tr>\n",
              "      <th>3</th>\n",
              "      <td>5339</td>\n",
              "      <td>51</td>\n",
              "      <td>12011</td>\n",
              "      <td>DX1</td>\n",
              "      <td>5</td>\n",
              "      <td>19.130976</td>\n",
              "      <td>NO</td>\n",
              "      <td>URBAN</td>\n",
              "      <td>Stable</td>\n",
              "      <td>1.0</td>\n",
              "      <td>0.0</td>\n",
              "      <td>0.0</td>\n",
              "      <td>0.0</td>\n",
              "      <td>0.0</td>\n",
              "      <td>0.0</td>\n",
              "      <td>0.0</td>\n",
              "      <td>1.0</td>\n",
              "      <td>1</td>\n",
              "    </tr>\n",
              "    <tr>\n",
              "      <th>4</th>\n",
              "      <td>33012</td>\n",
              "      <td>0</td>\n",
              "      <td>12513</td>\n",
              "      <td>NaN</td>\n",
              "      <td>128</td>\n",
              "      <td>1.348400</td>\n",
              "      <td>Cannot say</td>\n",
              "      <td>RURAL</td>\n",
              "      <td>Stable</td>\n",
              "      <td>0.0</td>\n",
              "      <td>0.0</td>\n",
              "      <td>0.0</td>\n",
              "      <td>0.0</td>\n",
              "      <td>0.0</td>\n",
              "      <td>0.0</td>\n",
              "      <td>1.0</td>\n",
              "      <td>1.0</td>\n",
              "      <td>1</td>\n",
              "    </tr>\n",
              "  </tbody>\n",
              "</table>\n",
              "</div>"
            ],
            "text/plain": [
              "   ID_Patient_Care_Situation  ...  Survived_1_year\n",
              "0                      22374  ...                0\n",
              "1                      18164  ...                1\n",
              "2                       6283  ...                0\n",
              "3                       5339  ...                1\n",
              "4                      33012  ...                1\n",
              "\n",
              "[5 rows x 18 columns]"
            ]
          },
          "metadata": {
            "tags": []
          },
          "execution_count": 4
        }
      ]
    },
    {
      "cell_type": "code",
      "metadata": {
        "id": "humHecHc8lo7",
        "colab_type": "code",
        "colab": {
          "base_uri": "https://localhost:8080/",
          "height": 476
        },
        "outputId": "2ebe9d12-a129-4731-febb-2695831c2455"
      },
      "source": [
        "pharma_data.info()"
      ],
      "execution_count": 5,
      "outputs": [
        {
          "output_type": "stream",
          "text": [
            "<class 'pandas.core.frame.DataFrame'>\n",
            "RangeIndex: 23097 entries, 0 to 23096\n",
            "Data columns (total 18 columns):\n",
            " #   Column                     Non-Null Count  Dtype  \n",
            "---  ------                     --------------  -----  \n",
            " 0   ID_Patient_Care_Situation  23097 non-null  int64  \n",
            " 1   Diagnosed_Condition        23097 non-null  int64  \n",
            " 2   Patient_ID                 23097 non-null  int64  \n",
            " 3   Treated_with_drugs         23084 non-null  object \n",
            " 4   Patient_Age                23097 non-null  int64  \n",
            " 5   Patient_Body_Mass_Index    23097 non-null  float64\n",
            " 6   Patient_Smoker             23097 non-null  object \n",
            " 7   Patient_Rural_Urban        23097 non-null  object \n",
            " 8   Patient_mental_condition   23097 non-null  object \n",
            " 9   A                          21862 non-null  float64\n",
            " 10  B                          21862 non-null  float64\n",
            " 11  C                          21862 non-null  float64\n",
            " 12  D                          21862 non-null  float64\n",
            " 13  E                          21862 non-null  float64\n",
            " 14  F                          21862 non-null  float64\n",
            " 15  Z                          21862 non-null  float64\n",
            " 16  Number_of_prev_cond        21862 non-null  float64\n",
            " 17  Survived_1_year            23097 non-null  int64  \n",
            "dtypes: float64(9), int64(5), object(4)\n",
            "memory usage: 3.2+ MB\n"
          ],
          "name": "stdout"
        }
      ]
    },
    {
      "cell_type": "code",
      "metadata": {
        "id": "d0ncFMXo9ySL",
        "colab_type": "code",
        "colab": {}
      },
      "source": [
        "nan_drug=pharma_data[pharma_data.Treated_with_drugs.isnull()]"
      ],
      "execution_count": 6,
      "outputs": []
    },
    {
      "cell_type": "code",
      "metadata": {
        "id": "k7a2xfVd-P47",
        "colab_type": "code",
        "colab": {
          "base_uri": "https://localhost:8080/",
          "height": 237
        },
        "outputId": "74a59c83-d269-4e65-a071-fd6e5139b6b3"
      },
      "source": [
        "pharma_data['A'][pharma_data.A.isnull()].value_counts"
      ],
      "execution_count": 7,
      "outputs": [
        {
          "output_type": "execute_result",
          "data": {
            "text/plain": [
              "<bound method IndexOpsMixin.value_counts of 27      NaN\n",
              "36      NaN\n",
              "41      NaN\n",
              "97      NaN\n",
              "105     NaN\n",
              "         ..\n",
              "23002   NaN\n",
              "23012   NaN\n",
              "23024   NaN\n",
              "23038   NaN\n",
              "23054   NaN\n",
              "Name: A, Length: 1235, dtype: float64>"
            ]
          },
          "metadata": {
            "tags": []
          },
          "execution_count": 7
        }
      ]
    },
    {
      "cell_type": "code",
      "metadata": {
        "id": "BOZ_Nw6Q_Blr",
        "colab_type": "code",
        "colab": {}
      },
      "source": [
        "# pharma_data['B'][pharma_data.B.isnull()].value_counts"
      ],
      "execution_count": 8,
      "outputs": []
    },
    {
      "cell_type": "code",
      "metadata": {
        "id": "6LxqZ-tL_ZiC",
        "colab_type": "code",
        "colab": {}
      },
      "source": [
        "# pharma_data['C'][pharma_data.C.isnull()].value_counts"
      ],
      "execution_count": 9,
      "outputs": []
    },
    {
      "cell_type": "code",
      "metadata": {
        "id": "Ph6KZT3U_c86",
        "colab_type": "code",
        "colab": {}
      },
      "source": [
        "# pharma_data['D'][pharma_data.D.isnull()].value_counts"
      ],
      "execution_count": 10,
      "outputs": []
    },
    {
      "cell_type": "code",
      "metadata": {
        "id": "oOeZG2eh_eQq",
        "colab_type": "code",
        "colab": {}
      },
      "source": [
        "# pharma_data['E'][pharma_data.E.isnull()].value_counts"
      ],
      "execution_count": 11,
      "outputs": []
    },
    {
      "cell_type": "code",
      "metadata": {
        "id": "m2YU0Vme_eyS",
        "colab_type": "code",
        "colab": {}
      },
      "source": [
        "# pharma_data['F'][pharma_data.F.isnull()].value_counts"
      ],
      "execution_count": 12,
      "outputs": []
    },
    {
      "cell_type": "code",
      "metadata": {
        "id": "IrUydk9p_fvJ",
        "colab_type": "code",
        "colab": {}
      },
      "source": [
        "# pharma_data['Z'][pharma_data.Z.isnull()].value_counts"
      ],
      "execution_count": 13,
      "outputs": []
    },
    {
      "cell_type": "code",
      "metadata": {
        "id": "mt7bxVUY_nmi",
        "colab_type": "code",
        "colab": {
          "base_uri": "https://localhost:8080/",
          "height": 237
        },
        "outputId": "57c54583-5868-4a70-c523-3fb5f35d2a13"
      },
      "source": [
        "pharma_data['Z'][pharma_data.A.isnull()& pharma_data.B.isnull()& pharma_data.C.isnull()& pharma_data.D.isnull()& pharma_data.E.isnull()& pharma_data.F.isnull() & pharma_data.Z.isnull()].value_counts"
      ],
      "execution_count": 14,
      "outputs": [
        {
          "output_type": "execute_result",
          "data": {
            "text/plain": [
              "<bound method IndexOpsMixin.value_counts of 27      NaN\n",
              "36      NaN\n",
              "41      NaN\n",
              "97      NaN\n",
              "105     NaN\n",
              "         ..\n",
              "23002   NaN\n",
              "23012   NaN\n",
              "23024   NaN\n",
              "23038   NaN\n",
              "23054   NaN\n",
              "Name: Z, Length: 1235, dtype: float64>"
            ]
          },
          "metadata": {
            "tags": []
          },
          "execution_count": 14
        }
      ]
    },
    {
      "cell_type": "code",
      "metadata": {
        "id": "fiDYVjQPAWkB",
        "colab_type": "code",
        "colab": {
          "base_uri": "https://localhost:8080/",
          "height": 109
        },
        "outputId": "74d8136e-8f99-4309-df47-76bb71ef3cab"
      },
      "source": [
        "nan_drug.drop('Treated_with_drugs',axis=1,inplace=True)"
      ],
      "execution_count": 15,
      "outputs": [
        {
          "output_type": "stream",
          "text": [
            "/usr/local/lib/python3.6/dist-packages/pandas/core/frame.py:3997: SettingWithCopyWarning: \n",
            "A value is trying to be set on a copy of a slice from a DataFrame\n",
            "\n",
            "See the caveats in the documentation: https://pandas.pydata.org/pandas-docs/stable/user_guide/indexing.html#returning-a-view-versus-a-copy\n",
            "  errors=errors,\n"
          ],
          "name": "stderr"
        }
      ]
    },
    {
      "cell_type": "code",
      "metadata": {
        "id": "2rdqw4RzBPvh",
        "colab_type": "code",
        "colab": {
          "base_uri": "https://localhost:8080/",
          "height": 298
        },
        "outputId": "1b7eddac-67a4-4563-c270-a357422434e0"
      },
      "source": [
        "sns.distplot(nan_drug.Patient_Age)"
      ],
      "execution_count": 16,
      "outputs": [
        {
          "output_type": "execute_result",
          "data": {
            "text/plain": [
              "<matplotlib.axes._subplots.AxesSubplot at 0x7f2067ba0828>"
            ]
          },
          "metadata": {
            "tags": []
          },
          "execution_count": 16
        },
        {
          "output_type": "display_data",
          "data": {
            "image/png": "[encoded data removed]",
            "text/plain": [
              "<Figure size 432x288 with 1 Axes>"
            ]
          },
          "metadata": {
            "tags": [],
            "needs_background": "light"
          }
        }
      ]
    },
    {
      "cell_type": "code",
      "metadata": {
        "id": "U-8VU9sHEwbJ",
        "colab_type": "code",
        "colab": {
          "base_uri": "https://localhost:8080/",
          "height": 298
        },
        "outputId": "459e297e-12f3-49f9-f604-48bea6d425f8"
      },
      "source": [
        "sns.distplot(pharma_data.Patient_Age)"
      ],
      "execution_count": 17,
      "outputs": [
        {
          "output_type": "execute_result",
          "data": {
            "text/plain": [
              "<matplotlib.axes._subplots.AxesSubplot at 0x7f2067aa0cf8>"
            ]
          },
          "metadata": {
            "tags": []
          },
          "execution_count": 17
        },
        {
          "output_type": "display_data",
          "data": {
            "image/png": "[encoded data removed]",
            "text/plain": [
              "<Figure size 432x288 with 1 Axes>"
            ]
          },
          "metadata": {
            "tags": [],
            "needs_background": "light"
          }
        }
      ]
    },
    {
      "cell_type": "code",
      "metadata": {
        "id": "fbamqKNMB1fK",
        "colab_type": "code",
        "colab": {}
      },
      "source": [
        "clean_pharma_data=pharma_data.dropna(subset=['Treated_with_drugs'])"
      ],
      "execution_count": 18,
      "outputs": []
    },
    {
      "cell_type": "code",
      "metadata": {
        "id": "pRrSce2WEWiI",
        "colab_type": "code",
        "colab": {
          "base_uri": "https://localhost:8080/",
          "height": 458
        },
        "outputId": "e978bda6-8aa9-43bb-ed79-b6ce84255fff"
      },
      "source": [
        "test_new.info()"
      ],
      "execution_count": 19,
      "outputs": [
        {
          "output_type": "stream",
          "text": [
            "<class 'pandas.core.frame.DataFrame'>\n",
            "RangeIndex: 9303 entries, 0 to 9302\n",
            "Data columns (total 17 columns):\n",
            " #   Column                     Non-Null Count  Dtype  \n",
            "---  ------                     --------------  -----  \n",
            " 0   ID_Patient_Care_Situation  9303 non-null   int64  \n",
            " 1   Diagnosed_Condition        9303 non-null   int64  \n",
            " 2   Patient_ID                 9303 non-null   int64  \n",
            " 3   Treated_with_drugs         9303 non-null   object \n",
            " 4   Patient_Age                9303 non-null   int64  \n",
            " 5   Patient_Body_Mass_Index    9303 non-null   float64\n",
            " 6   Patient_Smoker             9303 non-null   object \n",
            " 7   Patient_Rural_Urban        9303 non-null   object \n",
            " 8   Patient_mental_condition   9303 non-null   object \n",
            " 9   A                          9303 non-null   float64\n",
            " 10  B                          9303 non-null   float64\n",
            " 11  C                          9303 non-null   float64\n",
            " 12  D                          9303 non-null   float64\n",
            " 13  E                          9303 non-null   float64\n",
            " 14  F                          9303 non-null   float64\n",
            " 15  Z                          9303 non-null   float64\n",
            " 16  Number_of_prev_cond        9303 non-null   float64\n",
            "dtypes: float64(9), int64(4), object(4)\n",
            "memory usage: 1.2+ MB\n"
          ],
          "name": "stdout"
        }
      ]
    },
    {
      "cell_type": "code",
      "metadata": {
        "id": "z1wbexzq_9_a",
        "colab_type": "code",
        "colab": {
          "base_uri": "https://localhost:8080/",
          "height": 54
        },
        "outputId": "b0e9c96c-f4db-4e75-94f6-67fd41c83ae5"
      },
      "source": [
        "nan_conditions=clean_pharma_data[pharma_data.A.isnull()]"
      ],
      "execution_count": 20,
      "outputs": [
        {
          "output_type": "stream",
          "text": [
            "/usr/local/lib/python3.6/dist-packages/ipykernel_launcher.py:1: UserWarning: Boolean Series key will be reindexed to match DataFrame index.\n",
            "  \"\"\"Entry point for launching an IPython kernel.\n"
          ],
          "name": "stderr"
        }
      ]
    },
    {
      "cell_type": "code",
      "metadata": {
        "id": "XTCETdEHGAE4",
        "colab_type": "code",
        "colab": {
          "base_uri": "https://localhost:8080/",
          "height": 109
        },
        "outputId": "2d031321-1365-414d-dda1-e59582732f6b"
      },
      "source": [
        "nan_conditions.drop(labels=['A','B','C','D','E','F','Z'],axis=1,inplace=True)"
      ],
      "execution_count": 21,
      "outputs": [
        {
          "output_type": "stream",
          "text": [
            "/usr/local/lib/python3.6/dist-packages/pandas/core/frame.py:3997: SettingWithCopyWarning: \n",
            "A value is trying to be set on a copy of a slice from a DataFrame\n",
            "\n",
            "See the caveats in the documentation: https://pandas.pydata.org/pandas-docs/stable/user_guide/indexing.html#returning-a-view-versus-a-copy\n",
            "  errors=errors,\n"
          ],
          "name": "stderr"
        }
      ]
    },
    {
      "cell_type": "code",
      "metadata": {
        "id": "ZxoX4mJDGbjy",
        "colab_type": "code",
        "colab": {
          "base_uri": "https://localhost:8080/",
          "height": 109
        },
        "outputId": "bd4218c3-674a-4383-81df-b09d36eb18e3"
      },
      "source": [
        "nan_conditions.drop(labels='Number_of_prev_cond',axis=1,inplace=True)"
      ],
      "execution_count": 22,
      "outputs": [
        {
          "output_type": "stream",
          "text": [
            "/usr/local/lib/python3.6/dist-packages/pandas/core/frame.py:3997: SettingWithCopyWarning: \n",
            "A value is trying to be set on a copy of a slice from a DataFrame\n",
            "\n",
            "See the caveats in the documentation: https://pandas.pydata.org/pandas-docs/stable/user_guide/indexing.html#returning-a-view-versus-a-copy\n",
            "  errors=errors,\n"
          ],
          "name": "stderr"
        }
      ]
    },
    {
      "cell_type": "code",
      "metadata": {
        "id": "ukIMUJCLIcNg",
        "colab_type": "code",
        "colab": {
          "base_uri": "https://localhost:8080/",
          "height": 405
        },
        "outputId": "8e16776c-8f6f-442b-be17-62c924b22147"
      },
      "source": [
        "sns.heatmap(nan_conditions.corr())"
      ],
      "execution_count": 23,
      "outputs": [
        {
          "output_type": "execute_result",
          "data": {
            "text/plain": [
              "<matplotlib.axes._subplots.AxesSubplot at 0x7f20674d37b8>"
            ]
          },
          "metadata": {
            "tags": []
          },
          "execution_count": 23
        },
        {
          "output_type": "display_data",
          "data": {
            "image/png": "[encoded data removed]",
            "text/plain": [
              "<Figure size 432x288 with 2 Axes>"
            ]
          },
          "metadata": {
            "tags": [],
            "needs_background": "light"
          }
        }
      ]
    },
    {
      "cell_type": "code",
      "metadata": {
        "id": "Aqz2aBMHImV-",
        "colab_type": "code",
        "colab": {}
      },
      "source": [
        "# sns.pairplot(nan_conditions)"
      ],
      "execution_count": 24,
      "outputs": []
    },
    {
      "cell_type": "code",
      "metadata": {
        "id": "HcnqqFJbImeJ",
        "colab_type": "code",
        "colab": {
          "base_uri": "https://localhost:8080/",
          "height": 283
        },
        "outputId": "27b3e6d3-9b1b-4e48-a92b-dea538a33a69"
      },
      "source": [
        "fig,ax = plt.subplots(1,2)\n",
        "sns.barplot(nan_conditions['Survived_1_year'].unique(),nan_conditions['Survived_1_year'].value_counts(),ax=ax[0])\n",
        "sns.barplot(clean_pharma_data['Survived_1_year'].unique(),clean_pharma_data['Survived_1_year'].value_counts(),ax=ax[1])"
      ],
      "execution_count": 25,
      "outputs": [
        {
          "output_type": "execute_result",
          "data": {
            "text/plain": [
              "<matplotlib.axes._subplots.AxesSubplot at 0x7f20639ba470>"
            ]
          },
          "metadata": {
            "tags": []
          },
          "execution_count": 25
        },
        {
          "output_type": "display_data",
          "data": {
            "image/png": "[encoded data removed]",
            "text/plain": [
              "<Figure size 432x288 with 2 Axes>"
            ]
          },
          "metadata": {
            "tags": [],
            "needs_background": "light"
          }
        }
      ]
    },
    {
      "cell_type": "code",
      "metadata": {
        "id": "w1E9-dmSImj2",
        "colab_type": "code",
        "colab": {
          "base_uri": "https://localhost:8080/",
          "height": 283
        },
        "outputId": "80a37e4d-caec-4994-8992-3dd48377ad50"
      },
      "source": [
        "fig,ax = plt.subplots(1,2)\n",
        "sns.barplot(nan_conditions['Patient_Smoker'].unique(),nan_conditions['Patient_Smoker'].value_counts(),ax=ax[0])\n",
        "sns.barplot(clean_pharma_data['Patient_Smoker'].unique(),clean_pharma_data['Patient_Smoker'].value_counts(),ax=ax[1])"
      ],
      "execution_count": 26,
      "outputs": [
        {
          "output_type": "execute_result",
          "data": {
            "text/plain": [
              "<matplotlib.axes._subplots.AxesSubplot at 0x7f20638eec88>"
            ]
          },
          "metadata": {
            "tags": []
          },
          "execution_count": 26
        },
        {
          "output_type": "display_data",
          "data": {
            "image/png": "[encoded data removed]",
            "text/plain": [
              "<Figure size 432x288 with 2 Axes>"
            ]
          },
          "metadata": {
            "tags": [],
            "needs_background": "light"
          }
        }
      ]
    },
    {
      "cell_type": "code",
      "metadata": {
        "id": "IZXfCnEpUn_-",
        "colab_type": "code",
        "colab": {
          "base_uri": "https://localhost:8080/",
          "height": 283
        },
        "outputId": "186774ec-1604-4525-d751-d0c9828edb10"
      },
      "source": [
        "fig,ax = plt.subplots(1,2)\n",
        "sns.barplot(nan_conditions['Patient_Rural_Urban'].unique(),nan_conditions['Patient_Rural_Urban'].value_counts(),ax=ax[0])\n",
        "sns.barplot(clean_pharma_data['Patient_Rural_Urban'].unique(),clean_pharma_data['Patient_Rural_Urban'].value_counts(),ax=ax[1])"
      ],
      "execution_count": 27,
      "outputs": [
        {
          "output_type": "execute_result",
          "data": {
            "text/plain": [
              "<matplotlib.axes._subplots.AxesSubplot at 0x7f2063822e10>"
            ]
          },
          "metadata": {
            "tags": []
          },
          "execution_count": 27
        },
        {
          "output_type": "display_data",
          "data": {
            "image/png": "[encoded data removed]",
            "text/plain": [
              "<Figure size 432x288 with 2 Axes>"
            ]
          },
          "metadata": {
            "tags": [],
            "needs_background": "light"
          }
        }
      ]
    },
    {
      "cell_type": "code",
      "metadata": {
        "id": "UzNxUskOUoCs",
        "colab_type": "code",
        "colab": {
          "base_uri": "https://localhost:8080/",
          "height": 283
        },
        "outputId": "09b0b06b-4b29-4627-b75c-0a3eb6da450f"
      },
      "source": [
        "fig,ax = plt.subplots(1,2)\n",
        "sns.barplot(nan_conditions['Patient_mental_condition'].unique(),nan_conditions['Patient_mental_condition'].value_counts(),ax=ax[0])\n",
        "sns.barplot(clean_pharma_data['Patient_mental_condition'].unique(),clean_pharma_data['Patient_mental_condition'].value_counts(),ax=ax[1])"
      ],
      "execution_count": 28,
      "outputs": [
        {
          "output_type": "execute_result",
          "data": {
            "text/plain": [
              "<matplotlib.axes._subplots.AxesSubplot at 0x7f206376e400>"
            ]
          },
          "metadata": {
            "tags": []
          },
          "execution_count": 28
        },
        {
          "output_type": "display_data",
          "data": {
            "image/png": "[encoded data removed]",
            "text/plain": [
              "<Figure size 432x288 with 2 Axes>"
            ]
          },
          "metadata": {
            "tags": [],
            "needs_background": "light"
          }
        }
      ]
    },
    {
      "cell_type": "code",
      "metadata": {
        "id": "h6TX4dtyOOdG",
        "colab_type": "code",
        "colab": {
          "base_uri": "https://localhost:8080/",
          "height": 718
        },
        "outputId": "3abc016e-de2c-40f6-ab41-ceb7e381eef3"
      },
      "source": [
        "fig,ax = plt.subplots(2,1,figsize=[30,12])\n",
        "sns.barplot(nan_conditions['Treated_with_drugs'].unique(),nan_conditions['Treated_with_drugs'].value_counts(),ax=ax[0])\n",
        "sns.barplot(clean_pharma_data['Treated_with_drugs'].unique(),clean_pharma_data['Treated_with_drugs'].value_counts(),ax=ax[1])"
      ],
      "execution_count": 29,
      "outputs": [
        {
          "output_type": "execute_result",
          "data": {
            "text/plain": [
              "<matplotlib.axes._subplots.AxesSubplot at 0x7f20636885f8>"
            ]
          },
          "metadata": {
            "tags": []
          },
          "execution_count": 29
        },
        {
          "output_type": "display_data",
          "data": {
            "image/png": "[encoded data removed]",
            "text/plain": [
              "<Figure size 2160x864 with 2 Axes>"
            ]
          },
          "metadata": {
            "tags": [],
            "needs_background": "light"
          }
        }
      ]
    },
    {
      "cell_type": "code",
      "metadata": {
        "id": "Una5EvgGHPnU",
        "colab_type": "code",
        "colab": {
          "base_uri": "https://localhost:8080/",
          "height": 403
        },
        "outputId": "d21ab4e9-dc4d-401e-f0f4-9c78683a1f4a"
      },
      "source": [
        "for d in range(1,7):\n",
        "  clean_pharma_data[\"DX\"+str(d)]=0\n",
        "\n",
        "for i in clean_pharma_data.index:\n",
        "  for d in range(1,7):\n",
        "    if \"DX\"+str(d) in clean_pharma_data['Treated_with_drugs'][i]:\n",
        "      clean_pharma_data[\"DX\"+str(d)][i]=1\n",
        "    else:\n",
        "      clean_pharma_data[\"DX\"+str(d)][i]=0"
      ],
      "execution_count": 30,
      "outputs": [
        {
          "output_type": "stream",
          "text": [
            "/usr/local/lib/python3.6/dist-packages/ipykernel_launcher.py:2: SettingWithCopyWarning: \n",
            "A value is trying to be set on a copy of a slice from a DataFrame.\n",
            "Try using .loc[row_indexer,col_indexer] = value instead\n",
            "\n",
            "See the caveats in the documentation: https://pandas.pydata.org/pandas-docs/stable/user_guide/indexing.html#returning-a-view-versus-a-copy\n",
            "  \n",
            "/usr/local/lib/python3.6/dist-packages/ipykernel_launcher.py:9: SettingWithCopyWarning: \n",
            "A value is trying to be set on a copy of a slice from a DataFrame\n",
            "\n",
            "See the caveats in the documentation: https://pandas.pydata.org/pandas-docs/stable/user_guide/indexing.html#returning-a-view-versus-a-copy\n",
            "  if __name__ == '__main__':\n",
            "/usr/local/lib/python3.6/dist-packages/IPython/core/interactiveshell.py:2882: SettingWithCopyWarning: \n",
            "A value is trying to be set on a copy of a slice from a DataFrame\n",
            "\n",
            "See the caveats in the documentation: https://pandas.pydata.org/pandas-docs/stable/user_guide/indexing.html#returning-a-view-versus-a-copy\n",
            "  exec(code_obj, self.user_global_ns, self.user_ns)\n",
            "/usr/local/lib/python3.6/dist-packages/ipykernel_launcher.py:7: SettingWithCopyWarning: \n",
            "A value is trying to be set on a copy of a slice from a DataFrame\n",
            "\n",
            "See the caveats in the documentation: https://pandas.pydata.org/pandas-docs/stable/user_guide/indexing.html#returning-a-view-versus-a-copy\n",
            "  import sys\n"
          ],
          "name": "stderr"
        }
      ]
    },
    {
      "cell_type": "code",
      "metadata": {
        "id": "j9y0hOw7H0qb",
        "colab_type": "code",
        "colab": {
          "base_uri": "https://localhost:8080/",
          "height": 201
        },
        "outputId": "61fe40a3-5b04-4395-f077-88d3fc295cb3"
      },
      "source": [
        "for d in range(1,7):\n",
        "  test_new[\"DX\"+str(d)]=0\n",
        "\n",
        "for i in test_new.index:\n",
        "  for d in range(1,7):\n",
        "    if \"DX\"+str(d) in test_new['Treated_with_drugs'][i]:\n",
        "      test_new[\"DX\"+str(d)][i]=1\n",
        "    else:\n",
        "      test_new[\"DX\"+str(d)][i]=0"
      ],
      "execution_count": 31,
      "outputs": [
        {
          "output_type": "stream",
          "text": [
            "/usr/local/lib/python3.6/dist-packages/ipykernel_launcher.py:9: SettingWithCopyWarning: \n",
            "A value is trying to be set on a copy of a slice from a DataFrame\n",
            "\n",
            "See the caveats in the documentation: https://pandas.pydata.org/pandas-docs/stable/user_guide/indexing.html#returning-a-view-versus-a-copy\n",
            "  if __name__ == '__main__':\n",
            "/usr/local/lib/python3.6/dist-packages/ipykernel_launcher.py:7: SettingWithCopyWarning: \n",
            "A value is trying to be set on a copy of a slice from a DataFrame\n",
            "\n",
            "See the caveats in the documentation: https://pandas.pydata.org/pandas-docs/stable/user_guide/indexing.html#returning-a-view-versus-a-copy\n",
            "  import sys\n"
          ],
          "name": "stderr"
        }
      ]
    },
    {
      "cell_type": "code",
      "metadata": {
        "id": "eQ606rjAHnCx",
        "colab_type": "code",
        "colab": {}
      },
      "source": [
        "n_drug=[int(clean_pharma_data['DX1'][clean_pharma_data['DX1']==1].value_counts()),int(clean_pharma_data['DX2'][clean_pharma_data['DX2']==1].value_counts()),\n",
        "        int(clean_pharma_data['DX3'][clean_pharma_data['DX3']==1].value_counts()),int(clean_pharma_data['DX4'][clean_pharma_data['DX4']==1].value_counts()),\n",
        "        int(clean_pharma_data['DX5'][clean_pharma_data['DX5']==1].value_counts()),int(clean_pharma_data['DX6'][clean_pharma_data['DX6']==1].value_counts())]\n",
        "drug_index=['DX1','DX2','DX3','DX4','DX5','DX6']\n",
        "\n",
        "drugs=pd.Series(n_drug,index=drug_index)"
      ],
      "execution_count": 32,
      "outputs": []
    },
    {
      "cell_type": "code",
      "metadata": {
        "id": "Ba53r96jMOXm",
        "colab_type": "code",
        "colab": {
          "base_uri": "https://localhost:8080/",
          "height": 403
        },
        "outputId": "9ce32278-136d-4306-82af-3f7de6a20e92"
      },
      "source": [
        "for d in range(1,7):\n",
        "  nan_conditions[\"DX\"+str(d)]=0\n",
        "\n",
        "for i in nan_conditions.index:\n",
        "  for d in range(1,7):\n",
        "    if \"DX\"+str(d) in nan_conditions['Treated_with_drugs'][i]:\n",
        "      nan_conditions[\"DX\"+str(d)][i]=1\n",
        "    else:\n",
        "      nan_conditions[\"DX\"+str(d)][i]=0"
      ],
      "execution_count": 33,
      "outputs": [
        {
          "output_type": "stream",
          "text": [
            "/usr/local/lib/python3.6/dist-packages/ipykernel_launcher.py:2: SettingWithCopyWarning: \n",
            "A value is trying to be set on a copy of a slice from a DataFrame.\n",
            "Try using .loc[row_indexer,col_indexer] = value instead\n",
            "\n",
            "See the caveats in the documentation: https://pandas.pydata.org/pandas-docs/stable/user_guide/indexing.html#returning-a-view-versus-a-copy\n",
            "  \n",
            "/usr/local/lib/python3.6/dist-packages/ipykernel_launcher.py:9: SettingWithCopyWarning: \n",
            "A value is trying to be set on a copy of a slice from a DataFrame\n",
            "\n",
            "See the caveats in the documentation: https://pandas.pydata.org/pandas-docs/stable/user_guide/indexing.html#returning-a-view-versus-a-copy\n",
            "  if __name__ == '__main__':\n",
            "/usr/local/lib/python3.6/dist-packages/IPython/core/interactiveshell.py:2882: SettingWithCopyWarning: \n",
            "A value is trying to be set on a copy of a slice from a DataFrame\n",
            "\n",
            "See the caveats in the documentation: https://pandas.pydata.org/pandas-docs/stable/user_guide/indexing.html#returning-a-view-versus-a-copy\n",
            "  exec(code_obj, self.user_global_ns, self.user_ns)\n",
            "/usr/local/lib/python3.6/dist-packages/ipykernel_launcher.py:7: SettingWithCopyWarning: \n",
            "A value is trying to be set on a copy of a slice from a DataFrame\n",
            "\n",
            "See the caveats in the documentation: https://pandas.pydata.org/pandas-docs/stable/user_guide/indexing.html#returning-a-view-versus-a-copy\n",
            "  import sys\n"
          ],
          "name": "stderr"
        }
      ]
    },
    {
      "cell_type": "code",
      "metadata": {
        "id": "X53QEEk7Lqfu",
        "colab_type": "code",
        "colab": {}
      },
      "source": [
        "nan_conditions_drug=[int(nan_conditions['DX1'][nan_conditions['DX1']==1].value_counts()),int(nan_conditions['DX2'][nan_conditions['DX2']==1].value_counts()),\n",
        "        int(nan_conditions['DX3'][nan_conditions['DX3']==1].value_counts()),int(nan_conditions['DX4'][nan_conditions['DX4']==1].value_counts()),\n",
        "        int(nan_conditions['DX5'][nan_conditions['DX5']==1].value_counts()),int(nan_conditions['DX6'][nan_conditions['DX6']==1].value_counts())]\n",
        "drags_when_nan=pd.Series(nan_conditions_drug,index=drug_index)"
      ],
      "execution_count": 34,
      "outputs": []
    },
    {
      "cell_type": "code",
      "metadata": {
        "id": "P6AGMwDSLShV",
        "colab_type": "code",
        "colab": {
          "base_uri": "https://localhost:8080/",
          "height": 501
        },
        "outputId": "d608b8c6-32b3-4ee6-d69f-cbea27a14259"
      },
      "source": [
        "fig,ax = plt.subplots(1,2,figsize=[14,8])\n",
        "sns.barplot(drug_index,drags_when_nan,ax=ax[0])\n",
        "sns.barplot(drug_index,drugs,ax=ax[1])"
      ],
      "execution_count": 35,
      "outputs": [
        {
          "output_type": "execute_result",
          "data": {
            "text/plain": [
              "<matplotlib.axes._subplots.AxesSubplot at 0x7f20639459e8>"
            ]
          },
          "metadata": {
            "tags": []
          },
          "execution_count": 35
        },
        {
          "output_type": "display_data",
          "data": {
            "image/png": "[encoded data removed]",
            "text/plain": [
              "<Figure size 1008x576 with 2 Axes>"
            ]
          },
          "metadata": {
            "tags": [],
            "needs_background": "light"
          }
        }
      ]
    },
    {
      "cell_type": "code",
      "metadata": {
        "id": "Wpl68iNkMCiR",
        "colab_type": "code",
        "colab": {
          "base_uri": "https://localhost:8080/",
          "height": 35
        },
        "outputId": "92856817-9093-4d2b-8a09-85616a07d6ed"
      },
      "source": [
        "len(clean_pharma_data['Treated_with_drugs'].unique())"
      ],
      "execution_count": 36,
      "outputs": [
        {
          "output_type": "execute_result",
          "data": {
            "text/plain": [
              "32"
            ]
          },
          "metadata": {
            "tags": []
          },
          "execution_count": 36
        }
      ]
    },
    {
      "cell_type": "code",
      "metadata": {
        "id": "lX96JAKYMTsf",
        "colab_type": "code",
        "colab": {
          "base_uri": "https://localhost:8080/",
          "height": 146
        },
        "outputId": "4b3bf810-f4e9-45e5-e792-ea69fce753cf"
      },
      "source": [
        "multiple_medicaments=clean_pharma_data['Treated_with_drugs'].unique()[6:]\n",
        "multiple_medicaments"
      ],
      "execution_count": 37,
      "outputs": [
        {
          "output_type": "execute_result",
          "data": {
            "text/plain": [
              "array(['DX2 DX5 ', 'DX2 DX3 ', 'DX1 DX3 ', 'DX1 DX2 ', 'DX3 DX4 ',\n",
              "       'DX1 DX4 ', 'DX1 DX5 ', 'DX2 DX4 DX5 ', 'DX1 DX2 DX3 ', 'DX3 DX5 ',\n",
              "       'DX2 DX4 ', 'DX3 DX4 DX5 ', 'DX2 DX3 DX5 ', 'DX1 DX2 DX3 DX4 ',\n",
              "       'DX4 DX5 ', 'DX2 DX3 DX4 ', 'DX1 DX4 DX5 ', 'DX1 DX2 DX4 ',\n",
              "       'DX1 DX3 DX5 ', 'DX1 DX2 DX5 ', 'DX1 DX3 DX4 ', 'DX1 DX3 DX4 DX5 ',\n",
              "       'DX1 DX2 DX4 DX5 ', 'DX2 DX3 DX4 DX5 ', 'DX1 DX2 DX3 DX5 ',\n",
              "       'DX1 DX2 DX3 DX4 DX5 '], dtype=object)"
            ]
          },
          "metadata": {
            "tags": []
          },
          "execution_count": 37
        }
      ]
    },
    {
      "cell_type": "code",
      "metadata": {
        "id": "kkfbRd0LMWqi",
        "colab_type": "code",
        "colab": {
          "base_uri": "https://localhost:8080/",
          "height": 403
        },
        "outputId": "1c6a838c-8884-4166-c11b-b4abacee0a0e"
      },
      "source": [
        "for medicament in multiple_medicaments:\n",
        "  clean_pharma_data[medicament]=0\n",
        "\n",
        "for i in clean_pharma_data.index:\n",
        "  for medicament in multiple_medicaments:\n",
        "    if clean_pharma_data['Treated_with_drugs'][i]==medicament:\n",
        "      clean_pharma_data[medicament][i]=1\n",
        "    else:\n",
        "      clean_pharma_data[medicament][i]=0"
      ],
      "execution_count": 38,
      "outputs": [
        {
          "output_type": "stream",
          "text": [
            "/usr/local/lib/python3.6/dist-packages/ipykernel_launcher.py:2: SettingWithCopyWarning: \n",
            "A value is trying to be set on a copy of a slice from a DataFrame.\n",
            "Try using .loc[row_indexer,col_indexer] = value instead\n",
            "\n",
            "See the caveats in the documentation: https://pandas.pydata.org/pandas-docs/stable/user_guide/indexing.html#returning-a-view-versus-a-copy\n",
            "  \n",
            "/usr/local/lib/python3.6/dist-packages/ipykernel_launcher.py:9: SettingWithCopyWarning: \n",
            "A value is trying to be set on a copy of a slice from a DataFrame\n",
            "\n",
            "See the caveats in the documentation: https://pandas.pydata.org/pandas-docs/stable/user_guide/indexing.html#returning-a-view-versus-a-copy\n",
            "  if __name__ == '__main__':\n",
            "/usr/local/lib/python3.6/dist-packages/IPython/core/interactiveshell.py:2882: SettingWithCopyWarning: \n",
            "A value is trying to be set on a copy of a slice from a DataFrame\n",
            "\n",
            "See the caveats in the documentation: https://pandas.pydata.org/pandas-docs/stable/user_guide/indexing.html#returning-a-view-versus-a-copy\n",
            "  exec(code_obj, self.user_global_ns, self.user_ns)\n",
            "/usr/local/lib/python3.6/dist-packages/ipykernel_launcher.py:7: SettingWithCopyWarning: \n",
            "A value is trying to be set on a copy of a slice from a DataFrame\n",
            "\n",
            "See the caveats in the documentation: https://pandas.pydata.org/pandas-docs/stable/user_guide/indexing.html#returning-a-view-versus-a-copy\n",
            "  import sys\n"
          ],
          "name": "stderr"
        }
      ]
    },
    {
      "cell_type": "code",
      "metadata": {
        "id": "ap0MKZYTIE4S",
        "colab_type": "code",
        "colab": {
          "base_uri": "https://localhost:8080/",
          "height": 201
        },
        "outputId": "d34c8bf5-7a7a-47ea-b33f-917a66b5e1db"
      },
      "source": [
        "for medicament in multiple_medicaments:\n",
        "  test_new[medicament]=0\n",
        "\n",
        "for i in test_new.index:\n",
        "  for medicament in multiple_medicaments:\n",
        "    if test_new['Treated_with_drugs'][i]==medicament:\n",
        "      test_new[medicament][i]=1\n",
        "    else:\n",
        "      test_new[medicament][i]=0"
      ],
      "execution_count": 39,
      "outputs": [
        {
          "output_type": "stream",
          "text": [
            "/usr/local/lib/python3.6/dist-packages/ipykernel_launcher.py:9: SettingWithCopyWarning: \n",
            "A value is trying to be set on a copy of a slice from a DataFrame\n",
            "\n",
            "See the caveats in the documentation: https://pandas.pydata.org/pandas-docs/stable/user_guide/indexing.html#returning-a-view-versus-a-copy\n",
            "  if __name__ == '__main__':\n",
            "/usr/local/lib/python3.6/dist-packages/ipykernel_launcher.py:7: SettingWithCopyWarning: \n",
            "A value is trying to be set on a copy of a slice from a DataFrame\n",
            "\n",
            "See the caveats in the documentation: https://pandas.pydata.org/pandas-docs/stable/user_guide/indexing.html#returning-a-view-versus-a-copy\n",
            "  import sys\n"
          ],
          "name": "stderr"
        }
      ]
    },
    {
      "cell_type": "code",
      "metadata": {
        "id": "FghlX0TXHnGM",
        "colab_type": "code",
        "colab": {
          "base_uri": "https://localhost:8080/",
          "height": 109
        },
        "outputId": "51e99db3-5dad-48c0-ca78-55e80aa53e14"
      },
      "source": [
        "clean_pharma_data.drop('Treated_with_drugs',axis=1,inplace=True)"
      ],
      "execution_count": 40,
      "outputs": [
        {
          "output_type": "stream",
          "text": [
            "/usr/local/lib/python3.6/dist-packages/pandas/core/frame.py:3997: SettingWithCopyWarning: \n",
            "A value is trying to be set on a copy of a slice from a DataFrame\n",
            "\n",
            "See the caveats in the documentation: https://pandas.pydata.org/pandas-docs/stable/user_guide/indexing.html#returning-a-view-versus-a-copy\n",
            "  errors=errors,\n"
          ],
          "name": "stderr"
        }
      ]
    },
    {
      "cell_type": "code",
      "metadata": {
        "id": "tL4DFvuXITti",
        "colab_type": "code",
        "colab": {}
      },
      "source": [
        "test_new.drop('Treated_with_drugs',axis=1,inplace=True)"
      ],
      "execution_count": 41,
      "outputs": []
    },
    {
      "cell_type": "code",
      "metadata": {
        "id": "5l3xQSjjWnms",
        "colab_type": "code",
        "colab": {
          "base_uri": "https://localhost:8080/",
          "height": 109
        },
        "outputId": "f51c0654-dc12-49de-f2de-a635695a10d6"
      },
      "source": [
        "clean_pharma_data.drop('Patient_mental_condition',axis=1,inplace=True)"
      ],
      "execution_count": 42,
      "outputs": [
        {
          "output_type": "stream",
          "text": [
            "/usr/local/lib/python3.6/dist-packages/pandas/core/frame.py:3997: SettingWithCopyWarning: \n",
            "A value is trying to be set on a copy of a slice from a DataFrame\n",
            "\n",
            "See the caveats in the documentation: https://pandas.pydata.org/pandas-docs/stable/user_guide/indexing.html#returning-a-view-versus-a-copy\n",
            "  errors=errors,\n"
          ],
          "name": "stderr"
        }
      ]
    },
    {
      "cell_type": "code",
      "metadata": {
        "id": "UJEvBH_cIX0t",
        "colab_type": "code",
        "colab": {}
      },
      "source": [
        "test_new.drop('Patient_mental_condition',axis=1,inplace=True)"
      ],
      "execution_count": 43,
      "outputs": []
    },
    {
      "cell_type": "code",
      "metadata": {
        "id": "VE7CDSquWnsT",
        "colab_type": "code",
        "colab": {}
      },
      "source": [
        "na_dropped=clean_pharma_data.dropna()"
      ],
      "execution_count": 44,
      "outputs": []
    },
    {
      "cell_type": "code",
      "metadata": {
        "id": "2RJ-9oUAZYl7",
        "colab_type": "code",
        "colab": {
          "base_uri": "https://localhost:8080/",
          "height": 109
        },
        "outputId": "37b3abcf-a77f-460a-8760-c19957c0fca7"
      },
      "source": [
        "clean_pharma_data.fillna(clean_pharma_data.mode().iloc[0],inplace=True)"
      ],
      "execution_count": 45,
      "outputs": [
        {
          "output_type": "stream",
          "text": [
            "/usr/local/lib/python3.6/dist-packages/pandas/core/generic.py:6245: SettingWithCopyWarning: \n",
            "A value is trying to be set on a copy of a slice from a DataFrame\n",
            "\n",
            "See the caveats in the documentation: https://pandas.pydata.org/pandas-docs/stable/user_guide/indexing.html#returning-a-view-versus-a-copy\n",
            "  self._update_inplace(new_data)\n"
          ],
          "name": "stderr"
        }
      ]
    },
    {
      "cell_type": "code",
      "metadata": {
        "id": "MdyfajN7Ia9f",
        "colab_type": "code",
        "colab": {}
      },
      "source": [
        "test_new.fillna(clean_pharma_data.mode().iloc[0],inplace=True)"
      ],
      "execution_count": 46,
      "outputs": []
    },
    {
      "cell_type": "code",
      "metadata": {
        "id": "jX3ZoY5aZ-8K",
        "colab_type": "code",
        "colab": {
          "base_uri": "https://localhost:8080/",
          "height": 109
        },
        "outputId": "a606876a-5e01-4589-bf40-89731292d985"
      },
      "source": [
        "clean_pharma_data.drop('Z',axis=1,inplace=True)"
      ],
      "execution_count": 47,
      "outputs": [
        {
          "output_type": "stream",
          "text": [
            "/usr/local/lib/python3.6/dist-packages/pandas/core/frame.py:3997: SettingWithCopyWarning: \n",
            "A value is trying to be set on a copy of a slice from a DataFrame\n",
            "\n",
            "See the caveats in the documentation: https://pandas.pydata.org/pandas-docs/stable/user_guide/indexing.html#returning-a-view-versus-a-copy\n",
            "  errors=errors,\n"
          ],
          "name": "stderr"
        }
      ]
    },
    {
      "cell_type": "code",
      "metadata": {
        "id": "Ik6WG2yNIdl9",
        "colab_type": "code",
        "colab": {}
      },
      "source": [
        "test_new.drop('Z',axis=1,inplace=True)"
      ],
      "execution_count": 48,
      "outputs": []
    },
    {
      "cell_type": "code",
      "metadata": {
        "id": "j-OUWCwkd8ja",
        "colab_type": "code",
        "colab": {
          "base_uri": "https://localhost:8080/",
          "height": 1000
        },
        "outputId": "c87d9b3c-460b-4801-92ca-35d57527650a"
      },
      "source": [
        "clean_pharma_data.info()"
      ],
      "execution_count": 49,
      "outputs": [
        {
          "output_type": "stream",
          "text": [
            "<class 'pandas.core.frame.DataFrame'>\n",
            "Int64Index: 23084 entries, 0 to 23096\n",
            "Data columns (total 47 columns):\n",
            " #   Column                     Non-Null Count  Dtype  \n",
            "---  ------                     --------------  -----  \n",
            " 0   ID_Patient_Care_Situation  23084 non-null  int64  \n",
            " 1   Diagnosed_Condition        23084 non-null  int64  \n",
            " 2   Patient_ID                 23084 non-null  int64  \n",
            " 3   Patient_Age                23084 non-null  int64  \n",
            " 4   Patient_Body_Mass_Index    23084 non-null  float64\n",
            " 5   Patient_Smoker             23084 non-null  object \n",
            " 6   Patient_Rural_Urban        23084 non-null  object \n",
            " 7   A                          23084 non-null  float64\n",
            " 8   B                          23084 non-null  float64\n",
            " 9   C                          23084 non-null  float64\n",
            " 10  D                          23084 non-null  float64\n",
            " 11  E                          23084 non-null  float64\n",
            " 12  F                          23084 non-null  float64\n",
            " 13  Number_of_prev_cond        23084 non-null  float64\n",
            " 14  Survived_1_year            23084 non-null  int64  \n",
            " 15  DX1                        23084 non-null  int64  \n",
            " 16  DX2                        23084 non-null  int64  \n",
            " 17  DX3                        23084 non-null  int64  \n",
            " 18  DX4                        23084 non-null  int64  \n",
            " 19  DX5                        23084 non-null  int64  \n",
            " 20  DX6                        23084 non-null  int64  \n",
            " 21  DX2 DX5                    23084 non-null  int64  \n",
            " 22  DX2 DX3                    23084 non-null  int64  \n",
            " 23  DX1 DX3                    23084 non-null  int64  \n",
            " 24  DX1 DX2                    23084 non-null  int64  \n",
            " 25  DX3 DX4                    23084 non-null  int64  \n",
            " 26  DX1 DX4                    23084 non-null  int64  \n",
            " 27  DX1 DX5                    23084 non-null  int64  \n",
            " 28  DX2 DX4 DX5                23084 non-null  int64  \n",
            " 29  DX1 DX2 DX3                23084 non-null  int64  \n",
            " 30  DX3 DX5                    23084 non-null  int64  \n",
            " 31  DX2 DX4                    23084 non-null  int64  \n",
            " 32  DX3 DX4 DX5                23084 non-null  int64  \n",
            " 33  DX2 DX3 DX5                23084 non-null  int64  \n",
            " 34  DX1 DX2 DX3 DX4            23084 non-null  int64  \n",
            " 35  DX4 DX5                    23084 non-null  int64  \n",
            " 36  DX2 DX3 DX4                23084 non-null  int64  \n",
            " 37  DX1 DX4 DX5                23084 non-null  int64  \n",
            " 38  DX1 DX2 DX4                23084 non-null  int64  \n",
            " 39  DX1 DX3 DX5                23084 non-null  int64  \n",
            " 40  DX1 DX2 DX5                23084 non-null  int64  \n",
            " 41  DX1 DX3 DX4                23084 non-null  int64  \n",
            " 42  DX1 DX3 DX4 DX5            23084 non-null  int64  \n",
            " 43  DX1 DX2 DX4 DX5            23084 non-null  int64  \n",
            " 44  DX2 DX3 DX4 DX5            23084 non-null  int64  \n",
            " 45  DX1 DX2 DX3 DX5            23084 non-null  int64  \n",
            " 46  DX1 DX2 DX3 DX4 DX5        23084 non-null  int64  \n",
            "dtypes: float64(8), int64(37), object(2)\n",
            "memory usage: 9.1+ MB\n"
          ],
          "name": "stdout"
        }
      ]
    },
    {
      "cell_type": "code",
      "metadata": {
        "id": "bqBvoDLYIgeK",
        "colab_type": "code",
        "colab": {
          "base_uri": "https://localhost:8080/",
          "height": 990
        },
        "outputId": "65342896-d9cd-40d7-dc89-9af9d194536c"
      },
      "source": [
        "test_new.info()"
      ],
      "execution_count": 50,
      "outputs": [
        {
          "output_type": "stream",
          "text": [
            "<class 'pandas.core.frame.DataFrame'>\n",
            "RangeIndex: 9303 entries, 0 to 9302\n",
            "Data columns (total 46 columns):\n",
            " #   Column                     Non-Null Count  Dtype  \n",
            "---  ------                     --------------  -----  \n",
            " 0   ID_Patient_Care_Situation  9303 non-null   int64  \n",
            " 1   Diagnosed_Condition        9303 non-null   int64  \n",
            " 2   Patient_ID                 9303 non-null   int64  \n",
            " 3   Patient_Age                9303 non-null   int64  \n",
            " 4   Patient_Body_Mass_Index    9303 non-null   float64\n",
            " 5   Patient_Smoker             9303 non-null   object \n",
            " 6   Patient_Rural_Urban        9303 non-null   object \n",
            " 7   A                          9303 non-null   float64\n",
            " 8   B                          9303 non-null   float64\n",
            " 9   C                          9303 non-null   float64\n",
            " 10  D                          9303 non-null   float64\n",
            " 11  E                          9303 non-null   float64\n",
            " 12  F                          9303 non-null   float64\n",
            " 13  Number_of_prev_cond        9303 non-null   float64\n",
            " 14  DX1                        9303 non-null   int64  \n",
            " 15  DX2                        9303 non-null   int64  \n",
            " 16  DX3                        9303 non-null   int64  \n",
            " 17  DX4                        9303 non-null   int64  \n",
            " 18  DX5                        9303 non-null   int64  \n",
            " 19  DX6                        9303 non-null   int64  \n",
            " 20  DX2 DX5                    9303 non-null   int64  \n",
            " 21  DX2 DX3                    9303 non-null   int64  \n",
            " 22  DX1 DX3                    9303 non-null   int64  \n",
            " 23  DX1 DX2                    9303 non-null   int64  \n",
            " 24  DX3 DX4                    9303 non-null   int64  \n",
            " 25  DX1 DX4                    9303 non-null   int64  \n",
            " 26  DX1 DX5                    9303 non-null   int64  \n",
            " 27  DX2 DX4 DX5                9303 non-null   int64  \n",
            " 28  DX1 DX2 DX3                9303 non-null   int64  \n",
            " 29  DX3 DX5                    9303 non-null   int64  \n",
            " 30  DX2 DX4                    9303 non-null   int64  \n",
            " 31  DX3 DX4 DX5                9303 non-null   int64  \n",
            " 32  DX2 DX3 DX5                9303 non-null   int64  \n",
            " 33  DX1 DX2 DX3 DX4            9303 non-null   int64  \n",
            " 34  DX4 DX5                    9303 non-null   int64  \n",
            " 35  DX2 DX3 DX4                9303 non-null   int64  \n",
            " 36  DX1 DX4 DX5                9303 non-null   int64  \n",
            " 37  DX1 DX2 DX4                9303 non-null   int64  \n",
            " 38  DX1 DX3 DX5                9303 non-null   int64  \n",
            " 39  DX1 DX2 DX5                9303 non-null   int64  \n",
            " 40  DX1 DX3 DX4                9303 non-null   int64  \n",
            " 41  DX1 DX3 DX4 DX5            9303 non-null   int64  \n",
            " 42  DX1 DX2 DX4 DX5            9303 non-null   int64  \n",
            " 43  DX2 DX3 DX4 DX5            9303 non-null   int64  \n",
            " 44  DX1 DX2 DX3 DX5            9303 non-null   int64  \n",
            " 45  DX1 DX2 DX3 DX4 DX5        9303 non-null   int64  \n",
            "dtypes: float64(8), int64(36), object(2)\n",
            "memory usage: 3.3+ MB\n"
          ],
          "name": "stdout"
        }
      ]
    },
    {
      "cell_type": "code",
      "metadata": {
        "id": "D9Dx_gB0kA6G",
        "colab_type": "code",
        "colab": {}
      },
      "source": [
        "conditions=['A','B','C','D','E','F']"
      ],
      "execution_count": 51,
      "outputs": []
    },
    {
      "cell_type": "code",
      "metadata": {
        "id": "7BdV0b1Orc0D",
        "colab_type": "code",
        "colab": {}
      },
      "source": [
        "from itertools import combinations"
      ],
      "execution_count": 52,
      "outputs": []
    },
    {
      "cell_type": "code",
      "metadata": {
        "id": "we200nWJrc5u",
        "colab_type": "code",
        "colab": {}
      },
      "source": [
        "df_copy=pd.DataFrame(index=clean_pharma_data.index)\n",
        "for combo5 in combinations(conditions,5):\n",
        "  df_copy[combo5] = clean_pharma_data[combo5[0]] + clean_pharma_data[combo5[1]] + clean_pharma_data[combo5[2]] + clean_pharma_data[combo5[3]] + clean_pharma_data[combo5[4]]\n",
        "df_copy.where(df_copy==5,other=0,inplace=True)\n",
        "df_copy.replace(5,1,inplace=True)\n",
        "\n",
        "for combo4 in combinations(conditions,4):\n",
        "  df_copy[combo4] = clean_pharma_data[combo4[0]] + clean_pharma_data[combo4[1]] + clean_pharma_data[combo4[2]] + clean_pharma_data[combo4[3]]\n",
        "df_copy.where(df_copy==4,other=0,inplace=True)\n",
        "df_copy.replace(4,1,inplace=True)\n",
        "\n",
        "for combo3 in combinations(conditions,3):\n",
        "  df_copy[combo3] = clean_pharma_data[combo3[0]] + clean_pharma_data[combo3[1]] + clean_pharma_data[combo3[2]]\n",
        "df_copy.where(df_copy==3,other=0,inplace=True)\n",
        "df_copy.replace(3,1,inplace=True)\n",
        "\n",
        "for combo2 in combinations(conditions,2):\n",
        "  df_copy[combo2] = clean_pharma_data[combo2[0]] + clean_pharma_data[combo2[1]]\n",
        "df_copy.where(df_copy==2,other=0,inplace=True)\n",
        "df_copy.replace(2,1,inplace=True)"
      ],
      "execution_count": 53,
      "outputs": []
    },
    {
      "cell_type": "code",
      "metadata": {
        "id": "bhWRQ_09IlTi",
        "colab_type": "code",
        "colab": {}
      },
      "source": [
        "df_copy_new=pd.DataFrame(index=test_new.index)\n",
        "for combo5 in combinations(conditions,5):\n",
        "  df_copy_new[combo5] = test_new[combo5[0]] + test_new[combo5[1]] + test_new[combo5[2]] + test_new[combo5[3]] + test_new[combo5[4]]\n",
        "df_copy_new.where(df_copy==5,other=0,inplace=True)\n",
        "df_copy_new.replace(5,1,inplace=True)\n",
        "\n",
        "for combo4 in combinations(conditions,4):\n",
        "  df_copy_new[combo4] = test_new[combo4[0]] + test_new[combo4[1]] + test_new[combo4[2]] + test_new[combo4[3]]\n",
        "df_copy_new.where(df_copy==4,other=0,inplace=True)\n",
        "df_copy_new.replace(4,1,inplace=True)\n",
        "\n",
        "for combo3 in combinations(conditions,3):\n",
        "  df_copy_new[combo3] = test_new[combo3[0]] + test_new[combo3[1]] + test_new[combo3[2]]\n",
        "df_copy_new.where(df_copy==3,other=0,inplace=True)\n",
        "df_copy_new.replace(3,1,inplace=True)\n",
        "\n",
        "for combo2 in combinations(conditions,2):\n",
        "  df_copy_new[combo2] = test_new[combo2[0]] + test_new[combo2[1]]\n",
        "df_copy_new.where(df_copy==2,other=0,inplace=True)\n",
        "df_copy_new.replace(2,1,inplace=True)"
      ],
      "execution_count": 54,
      "outputs": []
    },
    {
      "cell_type": "code",
      "metadata": {
        "id": "o4Rq_BRMNtAa",
        "colab_type": "code",
        "colab": {
          "base_uri": "https://localhost:8080/",
          "height": 766
        },
        "outputId": "cdabd8de-64d6-4952-bd2a-baa8c6ab999f"
      },
      "source": [
        "df_copy.tail(20)"
      ],
      "execution_count": 55,
      "outputs": [
        {
          "output_type": "execute_result",
          "data": {
            "text/html": [
              "<div>\n",
              "<style scoped>\n",
              "    .dataframe tbody tr th:only-of-type {\n",
              "        vertical-align: middle;\n",
              "    }\n",
              "\n",
              "    .dataframe tbody tr th {\n",
              "        vertical-align: top;\n",
              "    }\n",
              "\n",
              "    .dataframe thead th {\n",
              "        text-align: right;\n",
              "    }\n",
              "</style>\n",
              "<table border=\"1\" class=\"dataframe\">\n",
              "  <thead>\n",
              "    <tr style=\"text-align: right;\">\n",
              "      <th></th>\n",
              "      <th>(A, B, C, D, E)</th>\n",
              "      <th>(A, B, C, D, F)</th>\n",
              "      <th>(A, B, C, E, F)</th>\n",
              "      <th>(A, B, D, E, F)</th>\n",
              "      <th>(A, C, D, E, F)</th>\n",
              "      <th>(B, C, D, E, F)</th>\n",
              "      <th>(A, B, C, D)</th>\n",
              "      <th>(A, B, C, E)</th>\n",
              "      <th>(A, B, C, F)</th>\n",
              "      <th>(A, B, D, E)</th>\n",
              "      <th>(A, B, D, F)</th>\n",
              "      <th>(A, B, E, F)</th>\n",
              "      <th>(A, C, D, E)</th>\n",
              "      <th>(A, C, D, F)</th>\n",
              "      <th>(A, C, E, F)</th>\n",
              "      <th>(A, D, E, F)</th>\n",
              "      <th>(B, C, D, E)</th>\n",
              "      <th>(B, C, D, F)</th>\n",
              "      <th>(B, C, E, F)</th>\n",
              "      <th>(B, D, E, F)</th>\n",
              "      <th>(C, D, E, F)</th>\n",
              "      <th>(A, B, C)</th>\n",
              "      <th>(A, B, D)</th>\n",
              "      <th>(A, B, E)</th>\n",
              "      <th>(A, B, F)</th>\n",
              "      <th>(A, C, D)</th>\n",
              "      <th>(A, C, E)</th>\n",
              "      <th>(A, C, F)</th>\n",
              "      <th>(A, D, E)</th>\n",
              "      <th>(A, D, F)</th>\n",
              "      <th>(A, E, F)</th>\n",
              "      <th>(B, C, D)</th>\n",
              "      <th>(B, C, E)</th>\n",
              "      <th>(B, C, F)</th>\n",
              "      <th>(B, D, E)</th>\n",
              "      <th>(B, D, F)</th>\n",
              "      <th>(B, E, F)</th>\n",
              "      <th>(C, D, E)</th>\n",
              "      <th>(C, D, F)</th>\n",
              "      <th>(C, E, F)</th>\n",
              "      <th>(D, E, F)</th>\n",
              "      <th>(A, B)</th>\n",
              "      <th>(A, C)</th>\n",
              "      <th>(A, D)</th>\n",
              "      <th>(A, E)</th>\n",
              "      <th>(A, F)</th>\n",
              "      <th>(B, C)</th>\n",
              "      <th>(B, D)</th>\n",
              "      <th>(B, E)</th>\n",
              "      <th>(B, F)</th>\n",
              "      <th>(C, D)</th>\n",
              "      <th>(C, E)</th>\n",
              "      <th>(C, F)</th>\n",
              "      <th>(D, E)</th>\n",
              "      <th>(D, F)</th>\n",
              "      <th>(E, F)</th>\n",
              "    </tr>\n",
              "  </thead>\n",
              "  <tbody>\n",
              "    <tr>\n",
              "      <th>23077</th>\n",
              "      <td>0.0</td>\n",
              "      <td>0.0</td>\n",
              "      <td>0.0</td>\n",
              "      <td>0.0</td>\n",
              "      <td>0.0</td>\n",
              "      <td>0.0</td>\n",
              "      <td>0.0</td>\n",
              "      <td>0.0</td>\n",
              "      <td>0.0</td>\n",
              "      <td>0.0</td>\n",
              "      <td>0.0</td>\n",
              "      <td>0.0</td>\n",
              "      <td>0.0</td>\n",
              "      <td>0.0</td>\n",
              "      <td>0.0</td>\n",
              "      <td>0.0</td>\n",
              "      <td>0.0</td>\n",
              "      <td>0.0</td>\n",
              "      <td>0.0</td>\n",
              "      <td>0.0</td>\n",
              "      <td>0.0</td>\n",
              "      <td>0.0</td>\n",
              "      <td>0.0</td>\n",
              "      <td>0.0</td>\n",
              "      <td>0.0</td>\n",
              "      <td>0.0</td>\n",
              "      <td>0.0</td>\n",
              "      <td>0.0</td>\n",
              "      <td>0.0</td>\n",
              "      <td>0.0</td>\n",
              "      <td>0.0</td>\n",
              "      <td>0.0</td>\n",
              "      <td>0.0</td>\n",
              "      <td>0.0</td>\n",
              "      <td>0.0</td>\n",
              "      <td>0.0</td>\n",
              "      <td>0.0</td>\n",
              "      <td>0.0</td>\n",
              "      <td>0.0</td>\n",
              "      <td>0.0</td>\n",
              "      <td>0.0</td>\n",
              "      <td>0.0</td>\n",
              "      <td>0.0</td>\n",
              "      <td>0.0</td>\n",
              "      <td>0.0</td>\n",
              "      <td>0.0</td>\n",
              "      <td>0.0</td>\n",
              "      <td>0.0</td>\n",
              "      <td>0.0</td>\n",
              "      <td>0.0</td>\n",
              "      <td>0.0</td>\n",
              "      <td>0.0</td>\n",
              "      <td>0.0</td>\n",
              "      <td>0.0</td>\n",
              "      <td>0.0</td>\n",
              "      <td>0.0</td>\n",
              "    </tr>\n",
              "    <tr>\n",
              "      <th>23078</th>\n",
              "      <td>0.0</td>\n",
              "      <td>0.0</td>\n",
              "      <td>0.0</td>\n",
              "      <td>0.0</td>\n",
              "      <td>0.0</td>\n",
              "      <td>0.0</td>\n",
              "      <td>0.0</td>\n",
              "      <td>0.0</td>\n",
              "      <td>0.0</td>\n",
              "      <td>0.0</td>\n",
              "      <td>0.0</td>\n",
              "      <td>0.0</td>\n",
              "      <td>0.0</td>\n",
              "      <td>0.0</td>\n",
              "      <td>0.0</td>\n",
              "      <td>0.0</td>\n",
              "      <td>0.0</td>\n",
              "      <td>0.0</td>\n",
              "      <td>0.0</td>\n",
              "      <td>0.0</td>\n",
              "      <td>0.0</td>\n",
              "      <td>0.0</td>\n",
              "      <td>0.0</td>\n",
              "      <td>0.0</td>\n",
              "      <td>0.0</td>\n",
              "      <td>0.0</td>\n",
              "      <td>0.0</td>\n",
              "      <td>0.0</td>\n",
              "      <td>0.0</td>\n",
              "      <td>0.0</td>\n",
              "      <td>0.0</td>\n",
              "      <td>0.0</td>\n",
              "      <td>0.0</td>\n",
              "      <td>0.0</td>\n",
              "      <td>0.0</td>\n",
              "      <td>0.0</td>\n",
              "      <td>0.0</td>\n",
              "      <td>0.0</td>\n",
              "      <td>0.0</td>\n",
              "      <td>0.0</td>\n",
              "      <td>0.0</td>\n",
              "      <td>0.0</td>\n",
              "      <td>0.0</td>\n",
              "      <td>0.0</td>\n",
              "      <td>0.0</td>\n",
              "      <td>0.0</td>\n",
              "      <td>0.0</td>\n",
              "      <td>0.0</td>\n",
              "      <td>0.0</td>\n",
              "      <td>0.0</td>\n",
              "      <td>0.0</td>\n",
              "      <td>0.0</td>\n",
              "      <td>0.0</td>\n",
              "      <td>0.0</td>\n",
              "      <td>0.0</td>\n",
              "      <td>0.0</td>\n",
              "    </tr>\n",
              "    <tr>\n",
              "      <th>23079</th>\n",
              "      <td>0.0</td>\n",
              "      <td>0.0</td>\n",
              "      <td>0.0</td>\n",
              "      <td>0.0</td>\n",
              "      <td>0.0</td>\n",
              "      <td>0.0</td>\n",
              "      <td>0.0</td>\n",
              "      <td>0.0</td>\n",
              "      <td>0.0</td>\n",
              "      <td>0.0</td>\n",
              "      <td>0.0</td>\n",
              "      <td>0.0</td>\n",
              "      <td>0.0</td>\n",
              "      <td>0.0</td>\n",
              "      <td>0.0</td>\n",
              "      <td>0.0</td>\n",
              "      <td>0.0</td>\n",
              "      <td>0.0</td>\n",
              "      <td>0.0</td>\n",
              "      <td>0.0</td>\n",
              "      <td>0.0</td>\n",
              "      <td>0.0</td>\n",
              "      <td>0.0</td>\n",
              "      <td>0.0</td>\n",
              "      <td>0.0</td>\n",
              "      <td>0.0</td>\n",
              "      <td>0.0</td>\n",
              "      <td>0.0</td>\n",
              "      <td>0.0</td>\n",
              "      <td>0.0</td>\n",
              "      <td>0.0</td>\n",
              "      <td>0.0</td>\n",
              "      <td>0.0</td>\n",
              "      <td>0.0</td>\n",
              "      <td>0.0</td>\n",
              "      <td>0.0</td>\n",
              "      <td>0.0</td>\n",
              "      <td>0.0</td>\n",
              "      <td>0.0</td>\n",
              "      <td>0.0</td>\n",
              "      <td>0.0</td>\n",
              "      <td>0.0</td>\n",
              "      <td>1.0</td>\n",
              "      <td>0.0</td>\n",
              "      <td>0.0</td>\n",
              "      <td>0.0</td>\n",
              "      <td>0.0</td>\n",
              "      <td>0.0</td>\n",
              "      <td>0.0</td>\n",
              "      <td>0.0</td>\n",
              "      <td>0.0</td>\n",
              "      <td>0.0</td>\n",
              "      <td>0.0</td>\n",
              "      <td>0.0</td>\n",
              "      <td>0.0</td>\n",
              "      <td>0.0</td>\n",
              "    </tr>\n",
              "    <tr>\n",
              "      <th>23080</th>\n",
              "      <td>0.0</td>\n",
              "      <td>0.0</td>\n",
              "      <td>0.0</td>\n",
              "      <td>0.0</td>\n",
              "      <td>0.0</td>\n",
              "      <td>0.0</td>\n",
              "      <td>0.0</td>\n",
              "      <td>0.0</td>\n",
              "      <td>0.0</td>\n",
              "      <td>0.0</td>\n",
              "      <td>0.0</td>\n",
              "      <td>0.0</td>\n",
              "      <td>0.0</td>\n",
              "      <td>0.0</td>\n",
              "      <td>0.0</td>\n",
              "      <td>0.0</td>\n",
              "      <td>0.0</td>\n",
              "      <td>0.0</td>\n",
              "      <td>0.0</td>\n",
              "      <td>0.0</td>\n",
              "      <td>0.0</td>\n",
              "      <td>0.0</td>\n",
              "      <td>0.0</td>\n",
              "      <td>0.0</td>\n",
              "      <td>0.0</td>\n",
              "      <td>0.0</td>\n",
              "      <td>0.0</td>\n",
              "      <td>0.0</td>\n",
              "      <td>0.0</td>\n",
              "      <td>0.0</td>\n",
              "      <td>0.0</td>\n",
              "      <td>0.0</td>\n",
              "      <td>0.0</td>\n",
              "      <td>0.0</td>\n",
              "      <td>0.0</td>\n",
              "      <td>0.0</td>\n",
              "      <td>0.0</td>\n",
              "      <td>0.0</td>\n",
              "      <td>0.0</td>\n",
              "      <td>0.0</td>\n",
              "      <td>0.0</td>\n",
              "      <td>0.0</td>\n",
              "      <td>0.0</td>\n",
              "      <td>0.0</td>\n",
              "      <td>0.0</td>\n",
              "      <td>0.0</td>\n",
              "      <td>0.0</td>\n",
              "      <td>0.0</td>\n",
              "      <td>0.0</td>\n",
              "      <td>0.0</td>\n",
              "      <td>0.0</td>\n",
              "      <td>0.0</td>\n",
              "      <td>0.0</td>\n",
              "      <td>0.0</td>\n",
              "      <td>0.0</td>\n",
              "      <td>0.0</td>\n",
              "    </tr>\n",
              "    <tr>\n",
              "      <th>23081</th>\n",
              "      <td>0.0</td>\n",
              "      <td>0.0</td>\n",
              "      <td>0.0</td>\n",
              "      <td>0.0</td>\n",
              "      <td>0.0</td>\n",
              "      <td>0.0</td>\n",
              "      <td>0.0</td>\n",
              "      <td>0.0</td>\n",
              "      <td>0.0</td>\n",
              "      <td>0.0</td>\n",
              "      <td>0.0</td>\n",
              "      <td>0.0</td>\n",
              "      <td>0.0</td>\n",
              "      <td>0.0</td>\n",
              "      <td>0.0</td>\n",
              "      <td>0.0</td>\n",
              "      <td>0.0</td>\n",
              "      <td>0.0</td>\n",
              "      <td>0.0</td>\n",
              "      <td>0.0</td>\n",
              "      <td>0.0</td>\n",
              "      <td>0.0</td>\n",
              "      <td>0.0</td>\n",
              "      <td>0.0</td>\n",
              "      <td>0.0</td>\n",
              "      <td>0.0</td>\n",
              "      <td>0.0</td>\n",
              "      <td>0.0</td>\n",
              "      <td>0.0</td>\n",
              "      <td>0.0</td>\n",
              "      <td>0.0</td>\n",
              "      <td>0.0</td>\n",
              "      <td>0.0</td>\n",
              "      <td>0.0</td>\n",
              "      <td>0.0</td>\n",
              "      <td>0.0</td>\n",
              "      <td>0.0</td>\n",
              "      <td>0.0</td>\n",
              "      <td>0.0</td>\n",
              "      <td>0.0</td>\n",
              "      <td>0.0</td>\n",
              "      <td>0.0</td>\n",
              "      <td>1.0</td>\n",
              "      <td>0.0</td>\n",
              "      <td>0.0</td>\n",
              "      <td>0.0</td>\n",
              "      <td>0.0</td>\n",
              "      <td>0.0</td>\n",
              "      <td>0.0</td>\n",
              "      <td>0.0</td>\n",
              "      <td>0.0</td>\n",
              "      <td>0.0</td>\n",
              "      <td>0.0</td>\n",
              "      <td>0.0</td>\n",
              "      <td>0.0</td>\n",
              "      <td>0.0</td>\n",
              "    </tr>\n",
              "    <tr>\n",
              "      <th>23082</th>\n",
              "      <td>0.0</td>\n",
              "      <td>0.0</td>\n",
              "      <td>0.0</td>\n",
              "      <td>0.0</td>\n",
              "      <td>0.0</td>\n",
              "      <td>0.0</td>\n",
              "      <td>0.0</td>\n",
              "      <td>0.0</td>\n",
              "      <td>0.0</td>\n",
              "      <td>0.0</td>\n",
              "      <td>0.0</td>\n",
              "      <td>0.0</td>\n",
              "      <td>0.0</td>\n",
              "      <td>0.0</td>\n",
              "      <td>0.0</td>\n",
              "      <td>0.0</td>\n",
              "      <td>0.0</td>\n",
              "      <td>0.0</td>\n",
              "      <td>0.0</td>\n",
              "      <td>0.0</td>\n",
              "      <td>0.0</td>\n",
              "      <td>0.0</td>\n",
              "      <td>0.0</td>\n",
              "      <td>0.0</td>\n",
              "      <td>0.0</td>\n",
              "      <td>0.0</td>\n",
              "      <td>0.0</td>\n",
              "      <td>0.0</td>\n",
              "      <td>0.0</td>\n",
              "      <td>0.0</td>\n",
              "      <td>0.0</td>\n",
              "      <td>0.0</td>\n",
              "      <td>0.0</td>\n",
              "      <td>0.0</td>\n",
              "      <td>0.0</td>\n",
              "      <td>0.0</td>\n",
              "      <td>0.0</td>\n",
              "      <td>0.0</td>\n",
              "      <td>0.0</td>\n",
              "      <td>0.0</td>\n",
              "      <td>0.0</td>\n",
              "      <td>0.0</td>\n",
              "      <td>0.0</td>\n",
              "      <td>1.0</td>\n",
              "      <td>0.0</td>\n",
              "      <td>0.0</td>\n",
              "      <td>0.0</td>\n",
              "      <td>0.0</td>\n",
              "      <td>0.0</td>\n",
              "      <td>0.0</td>\n",
              "      <td>0.0</td>\n",
              "      <td>0.0</td>\n",
              "      <td>0.0</td>\n",
              "      <td>0.0</td>\n",
              "      <td>0.0</td>\n",
              "      <td>0.0</td>\n",
              "    </tr>\n",
              "    <tr>\n",
              "      <th>23083</th>\n",
              "      <td>0.0</td>\n",
              "      <td>0.0</td>\n",
              "      <td>0.0</td>\n",
              "      <td>0.0</td>\n",
              "      <td>0.0</td>\n",
              "      <td>0.0</td>\n",
              "      <td>0.0</td>\n",
              "      <td>0.0</td>\n",
              "      <td>0.0</td>\n",
              "      <td>0.0</td>\n",
              "      <td>0.0</td>\n",
              "      <td>0.0</td>\n",
              "      <td>0.0</td>\n",
              "      <td>0.0</td>\n",
              "      <td>0.0</td>\n",
              "      <td>0.0</td>\n",
              "      <td>0.0</td>\n",
              "      <td>0.0</td>\n",
              "      <td>0.0</td>\n",
              "      <td>0.0</td>\n",
              "      <td>0.0</td>\n",
              "      <td>0.0</td>\n",
              "      <td>0.0</td>\n",
              "      <td>0.0</td>\n",
              "      <td>0.0</td>\n",
              "      <td>0.0</td>\n",
              "      <td>0.0</td>\n",
              "      <td>0.0</td>\n",
              "      <td>0.0</td>\n",
              "      <td>0.0</td>\n",
              "      <td>0.0</td>\n",
              "      <td>0.0</td>\n",
              "      <td>0.0</td>\n",
              "      <td>0.0</td>\n",
              "      <td>0.0</td>\n",
              "      <td>0.0</td>\n",
              "      <td>0.0</td>\n",
              "      <td>0.0</td>\n",
              "      <td>0.0</td>\n",
              "      <td>0.0</td>\n",
              "      <td>0.0</td>\n",
              "      <td>1.0</td>\n",
              "      <td>0.0</td>\n",
              "      <td>0.0</td>\n",
              "      <td>0.0</td>\n",
              "      <td>1.0</td>\n",
              "      <td>0.0</td>\n",
              "      <td>0.0</td>\n",
              "      <td>0.0</td>\n",
              "      <td>1.0</td>\n",
              "      <td>0.0</td>\n",
              "      <td>0.0</td>\n",
              "      <td>0.0</td>\n",
              "      <td>0.0</td>\n",
              "      <td>0.0</td>\n",
              "      <td>0.0</td>\n",
              "    </tr>\n",
              "    <tr>\n",
              "      <th>23084</th>\n",
              "      <td>0.0</td>\n",
              "      <td>0.0</td>\n",
              "      <td>0.0</td>\n",
              "      <td>0.0</td>\n",
              "      <td>0.0</td>\n",
              "      <td>0.0</td>\n",
              "      <td>0.0</td>\n",
              "      <td>0.0</td>\n",
              "      <td>0.0</td>\n",
              "      <td>0.0</td>\n",
              "      <td>0.0</td>\n",
              "      <td>0.0</td>\n",
              "      <td>0.0</td>\n",
              "      <td>0.0</td>\n",
              "      <td>0.0</td>\n",
              "      <td>0.0</td>\n",
              "      <td>0.0</td>\n",
              "      <td>0.0</td>\n",
              "      <td>0.0</td>\n",
              "      <td>0.0</td>\n",
              "      <td>0.0</td>\n",
              "      <td>0.0</td>\n",
              "      <td>0.0</td>\n",
              "      <td>0.0</td>\n",
              "      <td>0.0</td>\n",
              "      <td>0.0</td>\n",
              "      <td>0.0</td>\n",
              "      <td>0.0</td>\n",
              "      <td>0.0</td>\n",
              "      <td>0.0</td>\n",
              "      <td>0.0</td>\n",
              "      <td>0.0</td>\n",
              "      <td>0.0</td>\n",
              "      <td>0.0</td>\n",
              "      <td>0.0</td>\n",
              "      <td>0.0</td>\n",
              "      <td>0.0</td>\n",
              "      <td>0.0</td>\n",
              "      <td>0.0</td>\n",
              "      <td>0.0</td>\n",
              "      <td>0.0</td>\n",
              "      <td>0.0</td>\n",
              "      <td>0.0</td>\n",
              "      <td>1.0</td>\n",
              "      <td>1.0</td>\n",
              "      <td>0.0</td>\n",
              "      <td>0.0</td>\n",
              "      <td>0.0</td>\n",
              "      <td>0.0</td>\n",
              "      <td>0.0</td>\n",
              "      <td>0.0</td>\n",
              "      <td>0.0</td>\n",
              "      <td>0.0</td>\n",
              "      <td>1.0</td>\n",
              "      <td>0.0</td>\n",
              "      <td>0.0</td>\n",
              "    </tr>\n",
              "    <tr>\n",
              "      <th>23085</th>\n",
              "      <td>0.0</td>\n",
              "      <td>0.0</td>\n",
              "      <td>0.0</td>\n",
              "      <td>0.0</td>\n",
              "      <td>0.0</td>\n",
              "      <td>0.0</td>\n",
              "      <td>0.0</td>\n",
              "      <td>0.0</td>\n",
              "      <td>0.0</td>\n",
              "      <td>0.0</td>\n",
              "      <td>0.0</td>\n",
              "      <td>0.0</td>\n",
              "      <td>0.0</td>\n",
              "      <td>0.0</td>\n",
              "      <td>0.0</td>\n",
              "      <td>0.0</td>\n",
              "      <td>0.0</td>\n",
              "      <td>0.0</td>\n",
              "      <td>0.0</td>\n",
              "      <td>0.0</td>\n",
              "      <td>0.0</td>\n",
              "      <td>0.0</td>\n",
              "      <td>0.0</td>\n",
              "      <td>0.0</td>\n",
              "      <td>0.0</td>\n",
              "      <td>0.0</td>\n",
              "      <td>0.0</td>\n",
              "      <td>0.0</td>\n",
              "      <td>0.0</td>\n",
              "      <td>0.0</td>\n",
              "      <td>0.0</td>\n",
              "      <td>0.0</td>\n",
              "      <td>0.0</td>\n",
              "      <td>0.0</td>\n",
              "      <td>0.0</td>\n",
              "      <td>0.0</td>\n",
              "      <td>0.0</td>\n",
              "      <td>0.0</td>\n",
              "      <td>0.0</td>\n",
              "      <td>0.0</td>\n",
              "      <td>0.0</td>\n",
              "      <td>0.0</td>\n",
              "      <td>0.0</td>\n",
              "      <td>0.0</td>\n",
              "      <td>1.0</td>\n",
              "      <td>0.0</td>\n",
              "      <td>0.0</td>\n",
              "      <td>0.0</td>\n",
              "      <td>0.0</td>\n",
              "      <td>0.0</td>\n",
              "      <td>0.0</td>\n",
              "      <td>0.0</td>\n",
              "      <td>0.0</td>\n",
              "      <td>0.0</td>\n",
              "      <td>0.0</td>\n",
              "      <td>0.0</td>\n",
              "    </tr>\n",
              "    <tr>\n",
              "      <th>23086</th>\n",
              "      <td>0.0</td>\n",
              "      <td>0.0</td>\n",
              "      <td>0.0</td>\n",
              "      <td>0.0</td>\n",
              "      <td>0.0</td>\n",
              "      <td>0.0</td>\n",
              "      <td>0.0</td>\n",
              "      <td>0.0</td>\n",
              "      <td>0.0</td>\n",
              "      <td>0.0</td>\n",
              "      <td>0.0</td>\n",
              "      <td>0.0</td>\n",
              "      <td>0.0</td>\n",
              "      <td>0.0</td>\n",
              "      <td>0.0</td>\n",
              "      <td>0.0</td>\n",
              "      <td>0.0</td>\n",
              "      <td>0.0</td>\n",
              "      <td>0.0</td>\n",
              "      <td>0.0</td>\n",
              "      <td>0.0</td>\n",
              "      <td>0.0</td>\n",
              "      <td>0.0</td>\n",
              "      <td>0.0</td>\n",
              "      <td>0.0</td>\n",
              "      <td>0.0</td>\n",
              "      <td>0.0</td>\n",
              "      <td>0.0</td>\n",
              "      <td>0.0</td>\n",
              "      <td>0.0</td>\n",
              "      <td>0.0</td>\n",
              "      <td>0.0</td>\n",
              "      <td>0.0</td>\n",
              "      <td>0.0</td>\n",
              "      <td>0.0</td>\n",
              "      <td>0.0</td>\n",
              "      <td>0.0</td>\n",
              "      <td>0.0</td>\n",
              "      <td>0.0</td>\n",
              "      <td>0.0</td>\n",
              "      <td>0.0</td>\n",
              "      <td>0.0</td>\n",
              "      <td>0.0</td>\n",
              "      <td>0.0</td>\n",
              "      <td>0.0</td>\n",
              "      <td>0.0</td>\n",
              "      <td>0.0</td>\n",
              "      <td>0.0</td>\n",
              "      <td>0.0</td>\n",
              "      <td>0.0</td>\n",
              "      <td>0.0</td>\n",
              "      <td>0.0</td>\n",
              "      <td>0.0</td>\n",
              "      <td>0.0</td>\n",
              "      <td>0.0</td>\n",
              "      <td>0.0</td>\n",
              "    </tr>\n",
              "    <tr>\n",
              "      <th>23087</th>\n",
              "      <td>0.0</td>\n",
              "      <td>0.0</td>\n",
              "      <td>0.0</td>\n",
              "      <td>0.0</td>\n",
              "      <td>0.0</td>\n",
              "      <td>0.0</td>\n",
              "      <td>0.0</td>\n",
              "      <td>0.0</td>\n",
              "      <td>0.0</td>\n",
              "      <td>0.0</td>\n",
              "      <td>0.0</td>\n",
              "      <td>0.0</td>\n",
              "      <td>0.0</td>\n",
              "      <td>0.0</td>\n",
              "      <td>0.0</td>\n",
              "      <td>0.0</td>\n",
              "      <td>0.0</td>\n",
              "      <td>0.0</td>\n",
              "      <td>0.0</td>\n",
              "      <td>0.0</td>\n",
              "      <td>0.0</td>\n",
              "      <td>0.0</td>\n",
              "      <td>0.0</td>\n",
              "      <td>0.0</td>\n",
              "      <td>0.0</td>\n",
              "      <td>0.0</td>\n",
              "      <td>0.0</td>\n",
              "      <td>0.0</td>\n",
              "      <td>0.0</td>\n",
              "      <td>0.0</td>\n",
              "      <td>0.0</td>\n",
              "      <td>0.0</td>\n",
              "      <td>0.0</td>\n",
              "      <td>0.0</td>\n",
              "      <td>0.0</td>\n",
              "      <td>0.0</td>\n",
              "      <td>0.0</td>\n",
              "      <td>0.0</td>\n",
              "      <td>0.0</td>\n",
              "      <td>0.0</td>\n",
              "      <td>0.0</td>\n",
              "      <td>0.0</td>\n",
              "      <td>0.0</td>\n",
              "      <td>0.0</td>\n",
              "      <td>0.0</td>\n",
              "      <td>0.0</td>\n",
              "      <td>0.0</td>\n",
              "      <td>0.0</td>\n",
              "      <td>0.0</td>\n",
              "      <td>0.0</td>\n",
              "      <td>0.0</td>\n",
              "      <td>0.0</td>\n",
              "      <td>0.0</td>\n",
              "      <td>0.0</td>\n",
              "      <td>0.0</td>\n",
              "      <td>0.0</td>\n",
              "    </tr>\n",
              "    <tr>\n",
              "      <th>23088</th>\n",
              "      <td>0.0</td>\n",
              "      <td>0.0</td>\n",
              "      <td>0.0</td>\n",
              "      <td>0.0</td>\n",
              "      <td>0.0</td>\n",
              "      <td>0.0</td>\n",
              "      <td>0.0</td>\n",
              "      <td>0.0</td>\n",
              "      <td>0.0</td>\n",
              "      <td>0.0</td>\n",
              "      <td>0.0</td>\n",
              "      <td>0.0</td>\n",
              "      <td>0.0</td>\n",
              "      <td>0.0</td>\n",
              "      <td>0.0</td>\n",
              "      <td>0.0</td>\n",
              "      <td>0.0</td>\n",
              "      <td>0.0</td>\n",
              "      <td>0.0</td>\n",
              "      <td>0.0</td>\n",
              "      <td>0.0</td>\n",
              "      <td>0.0</td>\n",
              "      <td>0.0</td>\n",
              "      <td>0.0</td>\n",
              "      <td>0.0</td>\n",
              "      <td>0.0</td>\n",
              "      <td>0.0</td>\n",
              "      <td>0.0</td>\n",
              "      <td>0.0</td>\n",
              "      <td>0.0</td>\n",
              "      <td>0.0</td>\n",
              "      <td>0.0</td>\n",
              "      <td>0.0</td>\n",
              "      <td>0.0</td>\n",
              "      <td>0.0</td>\n",
              "      <td>0.0</td>\n",
              "      <td>0.0</td>\n",
              "      <td>0.0</td>\n",
              "      <td>0.0</td>\n",
              "      <td>0.0</td>\n",
              "      <td>0.0</td>\n",
              "      <td>0.0</td>\n",
              "      <td>0.0</td>\n",
              "      <td>0.0</td>\n",
              "      <td>0.0</td>\n",
              "      <td>0.0</td>\n",
              "      <td>0.0</td>\n",
              "      <td>0.0</td>\n",
              "      <td>0.0</td>\n",
              "      <td>0.0</td>\n",
              "      <td>0.0</td>\n",
              "      <td>0.0</td>\n",
              "      <td>0.0</td>\n",
              "      <td>0.0</td>\n",
              "      <td>0.0</td>\n",
              "      <td>0.0</td>\n",
              "    </tr>\n",
              "    <tr>\n",
              "      <th>23089</th>\n",
              "      <td>0.0</td>\n",
              "      <td>0.0</td>\n",
              "      <td>0.0</td>\n",
              "      <td>0.0</td>\n",
              "      <td>0.0</td>\n",
              "      <td>0.0</td>\n",
              "      <td>0.0</td>\n",
              "      <td>0.0</td>\n",
              "      <td>0.0</td>\n",
              "      <td>0.0</td>\n",
              "      <td>0.0</td>\n",
              "      <td>0.0</td>\n",
              "      <td>0.0</td>\n",
              "      <td>0.0</td>\n",
              "      <td>0.0</td>\n",
              "      <td>0.0</td>\n",
              "      <td>0.0</td>\n",
              "      <td>0.0</td>\n",
              "      <td>0.0</td>\n",
              "      <td>0.0</td>\n",
              "      <td>0.0</td>\n",
              "      <td>0.0</td>\n",
              "      <td>0.0</td>\n",
              "      <td>0.0</td>\n",
              "      <td>0.0</td>\n",
              "      <td>0.0</td>\n",
              "      <td>0.0</td>\n",
              "      <td>0.0</td>\n",
              "      <td>0.0</td>\n",
              "      <td>0.0</td>\n",
              "      <td>0.0</td>\n",
              "      <td>0.0</td>\n",
              "      <td>0.0</td>\n",
              "      <td>0.0</td>\n",
              "      <td>0.0</td>\n",
              "      <td>0.0</td>\n",
              "      <td>0.0</td>\n",
              "      <td>0.0</td>\n",
              "      <td>0.0</td>\n",
              "      <td>0.0</td>\n",
              "      <td>0.0</td>\n",
              "      <td>0.0</td>\n",
              "      <td>0.0</td>\n",
              "      <td>0.0</td>\n",
              "      <td>0.0</td>\n",
              "      <td>0.0</td>\n",
              "      <td>0.0</td>\n",
              "      <td>0.0</td>\n",
              "      <td>0.0</td>\n",
              "      <td>0.0</td>\n",
              "      <td>0.0</td>\n",
              "      <td>0.0</td>\n",
              "      <td>0.0</td>\n",
              "      <td>0.0</td>\n",
              "      <td>0.0</td>\n",
              "      <td>0.0</td>\n",
              "    </tr>\n",
              "    <tr>\n",
              "      <th>23090</th>\n",
              "      <td>0.0</td>\n",
              "      <td>0.0</td>\n",
              "      <td>0.0</td>\n",
              "      <td>0.0</td>\n",
              "      <td>0.0</td>\n",
              "      <td>0.0</td>\n",
              "      <td>0.0</td>\n",
              "      <td>0.0</td>\n",
              "      <td>0.0</td>\n",
              "      <td>0.0</td>\n",
              "      <td>0.0</td>\n",
              "      <td>0.0</td>\n",
              "      <td>0.0</td>\n",
              "      <td>0.0</td>\n",
              "      <td>0.0</td>\n",
              "      <td>0.0</td>\n",
              "      <td>0.0</td>\n",
              "      <td>0.0</td>\n",
              "      <td>0.0</td>\n",
              "      <td>0.0</td>\n",
              "      <td>0.0</td>\n",
              "      <td>0.0</td>\n",
              "      <td>0.0</td>\n",
              "      <td>0.0</td>\n",
              "      <td>0.0</td>\n",
              "      <td>0.0</td>\n",
              "      <td>0.0</td>\n",
              "      <td>0.0</td>\n",
              "      <td>0.0</td>\n",
              "      <td>0.0</td>\n",
              "      <td>0.0</td>\n",
              "      <td>0.0</td>\n",
              "      <td>0.0</td>\n",
              "      <td>0.0</td>\n",
              "      <td>0.0</td>\n",
              "      <td>0.0</td>\n",
              "      <td>0.0</td>\n",
              "      <td>0.0</td>\n",
              "      <td>0.0</td>\n",
              "      <td>0.0</td>\n",
              "      <td>0.0</td>\n",
              "      <td>0.0</td>\n",
              "      <td>0.0</td>\n",
              "      <td>0.0</td>\n",
              "      <td>0.0</td>\n",
              "      <td>0.0</td>\n",
              "      <td>0.0</td>\n",
              "      <td>0.0</td>\n",
              "      <td>0.0</td>\n",
              "      <td>0.0</td>\n",
              "      <td>0.0</td>\n",
              "      <td>0.0</td>\n",
              "      <td>0.0</td>\n",
              "      <td>0.0</td>\n",
              "      <td>0.0</td>\n",
              "      <td>0.0</td>\n",
              "    </tr>\n",
              "    <tr>\n",
              "      <th>23091</th>\n",
              "      <td>0.0</td>\n",
              "      <td>0.0</td>\n",
              "      <td>0.0</td>\n",
              "      <td>0.0</td>\n",
              "      <td>0.0</td>\n",
              "      <td>0.0</td>\n",
              "      <td>0.0</td>\n",
              "      <td>0.0</td>\n",
              "      <td>0.0</td>\n",
              "      <td>0.0</td>\n",
              "      <td>0.0</td>\n",
              "      <td>0.0</td>\n",
              "      <td>0.0</td>\n",
              "      <td>0.0</td>\n",
              "      <td>0.0</td>\n",
              "      <td>0.0</td>\n",
              "      <td>0.0</td>\n",
              "      <td>0.0</td>\n",
              "      <td>0.0</td>\n",
              "      <td>0.0</td>\n",
              "      <td>0.0</td>\n",
              "      <td>0.0</td>\n",
              "      <td>0.0</td>\n",
              "      <td>0.0</td>\n",
              "      <td>0.0</td>\n",
              "      <td>0.0</td>\n",
              "      <td>0.0</td>\n",
              "      <td>0.0</td>\n",
              "      <td>0.0</td>\n",
              "      <td>0.0</td>\n",
              "      <td>0.0</td>\n",
              "      <td>0.0</td>\n",
              "      <td>0.0</td>\n",
              "      <td>0.0</td>\n",
              "      <td>0.0</td>\n",
              "      <td>0.0</td>\n",
              "      <td>0.0</td>\n",
              "      <td>0.0</td>\n",
              "      <td>0.0</td>\n",
              "      <td>0.0</td>\n",
              "      <td>0.0</td>\n",
              "      <td>0.0</td>\n",
              "      <td>1.0</td>\n",
              "      <td>0.0</td>\n",
              "      <td>0.0</td>\n",
              "      <td>0.0</td>\n",
              "      <td>0.0</td>\n",
              "      <td>0.0</td>\n",
              "      <td>0.0</td>\n",
              "      <td>0.0</td>\n",
              "      <td>0.0</td>\n",
              "      <td>0.0</td>\n",
              "      <td>0.0</td>\n",
              "      <td>0.0</td>\n",
              "      <td>0.0</td>\n",
              "      <td>0.0</td>\n",
              "    </tr>\n",
              "    <tr>\n",
              "      <th>23092</th>\n",
              "      <td>0.0</td>\n",
              "      <td>0.0</td>\n",
              "      <td>0.0</td>\n",
              "      <td>0.0</td>\n",
              "      <td>0.0</td>\n",
              "      <td>0.0</td>\n",
              "      <td>0.0</td>\n",
              "      <td>0.0</td>\n",
              "      <td>0.0</td>\n",
              "      <td>0.0</td>\n",
              "      <td>0.0</td>\n",
              "      <td>0.0</td>\n",
              "      <td>0.0</td>\n",
              "      <td>0.0</td>\n",
              "      <td>0.0</td>\n",
              "      <td>0.0</td>\n",
              "      <td>0.0</td>\n",
              "      <td>0.0</td>\n",
              "      <td>0.0</td>\n",
              "      <td>0.0</td>\n",
              "      <td>0.0</td>\n",
              "      <td>0.0</td>\n",
              "      <td>0.0</td>\n",
              "      <td>0.0</td>\n",
              "      <td>0.0</td>\n",
              "      <td>0.0</td>\n",
              "      <td>0.0</td>\n",
              "      <td>0.0</td>\n",
              "      <td>0.0</td>\n",
              "      <td>0.0</td>\n",
              "      <td>0.0</td>\n",
              "      <td>0.0</td>\n",
              "      <td>0.0</td>\n",
              "      <td>0.0</td>\n",
              "      <td>0.0</td>\n",
              "      <td>0.0</td>\n",
              "      <td>0.0</td>\n",
              "      <td>0.0</td>\n",
              "      <td>0.0</td>\n",
              "      <td>0.0</td>\n",
              "      <td>0.0</td>\n",
              "      <td>1.0</td>\n",
              "      <td>0.0</td>\n",
              "      <td>1.0</td>\n",
              "      <td>1.0</td>\n",
              "      <td>1.0</td>\n",
              "      <td>0.0</td>\n",
              "      <td>1.0</td>\n",
              "      <td>1.0</td>\n",
              "      <td>1.0</td>\n",
              "      <td>0.0</td>\n",
              "      <td>0.0</td>\n",
              "      <td>0.0</td>\n",
              "      <td>1.0</td>\n",
              "      <td>1.0</td>\n",
              "      <td>1.0</td>\n",
              "    </tr>\n",
              "    <tr>\n",
              "      <th>23093</th>\n",
              "      <td>0.0</td>\n",
              "      <td>0.0</td>\n",
              "      <td>0.0</td>\n",
              "      <td>0.0</td>\n",
              "      <td>0.0</td>\n",
              "      <td>0.0</td>\n",
              "      <td>0.0</td>\n",
              "      <td>0.0</td>\n",
              "      <td>0.0</td>\n",
              "      <td>0.0</td>\n",
              "      <td>0.0</td>\n",
              "      <td>0.0</td>\n",
              "      <td>0.0</td>\n",
              "      <td>0.0</td>\n",
              "      <td>0.0</td>\n",
              "      <td>0.0</td>\n",
              "      <td>0.0</td>\n",
              "      <td>0.0</td>\n",
              "      <td>0.0</td>\n",
              "      <td>0.0</td>\n",
              "      <td>0.0</td>\n",
              "      <td>0.0</td>\n",
              "      <td>0.0</td>\n",
              "      <td>0.0</td>\n",
              "      <td>0.0</td>\n",
              "      <td>0.0</td>\n",
              "      <td>0.0</td>\n",
              "      <td>0.0</td>\n",
              "      <td>0.0</td>\n",
              "      <td>0.0</td>\n",
              "      <td>0.0</td>\n",
              "      <td>0.0</td>\n",
              "      <td>0.0</td>\n",
              "      <td>0.0</td>\n",
              "      <td>0.0</td>\n",
              "      <td>0.0</td>\n",
              "      <td>0.0</td>\n",
              "      <td>0.0</td>\n",
              "      <td>0.0</td>\n",
              "      <td>0.0</td>\n",
              "      <td>0.0</td>\n",
              "      <td>0.0</td>\n",
              "      <td>0.0</td>\n",
              "      <td>0.0</td>\n",
              "      <td>0.0</td>\n",
              "      <td>0.0</td>\n",
              "      <td>0.0</td>\n",
              "      <td>0.0</td>\n",
              "      <td>0.0</td>\n",
              "      <td>0.0</td>\n",
              "      <td>0.0</td>\n",
              "      <td>0.0</td>\n",
              "      <td>0.0</td>\n",
              "      <td>0.0</td>\n",
              "      <td>0.0</td>\n",
              "      <td>0.0</td>\n",
              "    </tr>\n",
              "    <tr>\n",
              "      <th>23094</th>\n",
              "      <td>0.0</td>\n",
              "      <td>0.0</td>\n",
              "      <td>0.0</td>\n",
              "      <td>0.0</td>\n",
              "      <td>0.0</td>\n",
              "      <td>0.0</td>\n",
              "      <td>0.0</td>\n",
              "      <td>0.0</td>\n",
              "      <td>0.0</td>\n",
              "      <td>0.0</td>\n",
              "      <td>0.0</td>\n",
              "      <td>0.0</td>\n",
              "      <td>0.0</td>\n",
              "      <td>0.0</td>\n",
              "      <td>0.0</td>\n",
              "      <td>0.0</td>\n",
              "      <td>0.0</td>\n",
              "      <td>0.0</td>\n",
              "      <td>0.0</td>\n",
              "      <td>0.0</td>\n",
              "      <td>0.0</td>\n",
              "      <td>0.0</td>\n",
              "      <td>0.0</td>\n",
              "      <td>0.0</td>\n",
              "      <td>0.0</td>\n",
              "      <td>0.0</td>\n",
              "      <td>0.0</td>\n",
              "      <td>0.0</td>\n",
              "      <td>0.0</td>\n",
              "      <td>0.0</td>\n",
              "      <td>0.0</td>\n",
              "      <td>0.0</td>\n",
              "      <td>0.0</td>\n",
              "      <td>0.0</td>\n",
              "      <td>0.0</td>\n",
              "      <td>0.0</td>\n",
              "      <td>0.0</td>\n",
              "      <td>0.0</td>\n",
              "      <td>0.0</td>\n",
              "      <td>0.0</td>\n",
              "      <td>0.0</td>\n",
              "      <td>0.0</td>\n",
              "      <td>0.0</td>\n",
              "      <td>0.0</td>\n",
              "      <td>0.0</td>\n",
              "      <td>0.0</td>\n",
              "      <td>0.0</td>\n",
              "      <td>0.0</td>\n",
              "      <td>0.0</td>\n",
              "      <td>0.0</td>\n",
              "      <td>0.0</td>\n",
              "      <td>0.0</td>\n",
              "      <td>0.0</td>\n",
              "      <td>0.0</td>\n",
              "      <td>0.0</td>\n",
              "      <td>0.0</td>\n",
              "    </tr>\n",
              "    <tr>\n",
              "      <th>23095</th>\n",
              "      <td>0.0</td>\n",
              "      <td>0.0</td>\n",
              "      <td>0.0</td>\n",
              "      <td>0.0</td>\n",
              "      <td>0.0</td>\n",
              "      <td>0.0</td>\n",
              "      <td>0.0</td>\n",
              "      <td>0.0</td>\n",
              "      <td>0.0</td>\n",
              "      <td>0.0</td>\n",
              "      <td>0.0</td>\n",
              "      <td>0.0</td>\n",
              "      <td>0.0</td>\n",
              "      <td>0.0</td>\n",
              "      <td>0.0</td>\n",
              "      <td>0.0</td>\n",
              "      <td>0.0</td>\n",
              "      <td>0.0</td>\n",
              "      <td>0.0</td>\n",
              "      <td>0.0</td>\n",
              "      <td>0.0</td>\n",
              "      <td>0.0</td>\n",
              "      <td>0.0</td>\n",
              "      <td>0.0</td>\n",
              "      <td>0.0</td>\n",
              "      <td>0.0</td>\n",
              "      <td>0.0</td>\n",
              "      <td>0.0</td>\n",
              "      <td>0.0</td>\n",
              "      <td>0.0</td>\n",
              "      <td>0.0</td>\n",
              "      <td>0.0</td>\n",
              "      <td>0.0</td>\n",
              "      <td>0.0</td>\n",
              "      <td>0.0</td>\n",
              "      <td>0.0</td>\n",
              "      <td>0.0</td>\n",
              "      <td>0.0</td>\n",
              "      <td>0.0</td>\n",
              "      <td>0.0</td>\n",
              "      <td>0.0</td>\n",
              "      <td>0.0</td>\n",
              "      <td>0.0</td>\n",
              "      <td>0.0</td>\n",
              "      <td>1.0</td>\n",
              "      <td>0.0</td>\n",
              "      <td>0.0</td>\n",
              "      <td>0.0</td>\n",
              "      <td>0.0</td>\n",
              "      <td>0.0</td>\n",
              "      <td>0.0</td>\n",
              "      <td>0.0</td>\n",
              "      <td>0.0</td>\n",
              "      <td>0.0</td>\n",
              "      <td>0.0</td>\n",
              "      <td>0.0</td>\n",
              "    </tr>\n",
              "    <tr>\n",
              "      <th>23096</th>\n",
              "      <td>0.0</td>\n",
              "      <td>0.0</td>\n",
              "      <td>0.0</td>\n",
              "      <td>0.0</td>\n",
              "      <td>0.0</td>\n",
              "      <td>0.0</td>\n",
              "      <td>0.0</td>\n",
              "      <td>0.0</td>\n",
              "      <td>0.0</td>\n",
              "      <td>0.0</td>\n",
              "      <td>0.0</td>\n",
              "      <td>0.0</td>\n",
              "      <td>0.0</td>\n",
              "      <td>0.0</td>\n",
              "      <td>0.0</td>\n",
              "      <td>0.0</td>\n",
              "      <td>0.0</td>\n",
              "      <td>0.0</td>\n",
              "      <td>0.0</td>\n",
              "      <td>0.0</td>\n",
              "      <td>0.0</td>\n",
              "      <td>0.0</td>\n",
              "      <td>0.0</td>\n",
              "      <td>0.0</td>\n",
              "      <td>0.0</td>\n",
              "      <td>0.0</td>\n",
              "      <td>0.0</td>\n",
              "      <td>0.0</td>\n",
              "      <td>0.0</td>\n",
              "      <td>0.0</td>\n",
              "      <td>0.0</td>\n",
              "      <td>0.0</td>\n",
              "      <td>0.0</td>\n",
              "      <td>0.0</td>\n",
              "      <td>0.0</td>\n",
              "      <td>0.0</td>\n",
              "      <td>0.0</td>\n",
              "      <td>0.0</td>\n",
              "      <td>0.0</td>\n",
              "      <td>0.0</td>\n",
              "      <td>0.0</td>\n",
              "      <td>0.0</td>\n",
              "      <td>1.0</td>\n",
              "      <td>1.0</td>\n",
              "      <td>1.0</td>\n",
              "      <td>0.0</td>\n",
              "      <td>0.0</td>\n",
              "      <td>0.0</td>\n",
              "      <td>0.0</td>\n",
              "      <td>0.0</td>\n",
              "      <td>1.0</td>\n",
              "      <td>1.0</td>\n",
              "      <td>0.0</td>\n",
              "      <td>1.0</td>\n",
              "      <td>0.0</td>\n",
              "      <td>0.0</td>\n",
              "    </tr>\n",
              "  </tbody>\n",
              "</table>\n",
              "</div>"
            ],
            "text/plain": [
              "       (A, B, C, D, E)  (A, B, C, D, F)  ...  (D, F)  (E, F)\n",
              "23077              0.0              0.0  ...     0.0     0.0\n",
              "23078              0.0              0.0  ...     0.0     0.0\n",
              "23079              0.0              0.0  ...     0.0     0.0\n",
              "23080              0.0              0.0  ...     0.0     0.0\n",
              "23081              0.0              0.0  ...     0.0     0.0\n",
              "23082              0.0              0.0  ...     0.0     0.0\n",
              "23083              0.0              0.0  ...     0.0     0.0\n",
              "23084              0.0              0.0  ...     0.0     0.0\n",
              "23085              0.0              0.0  ...     0.0     0.0\n",
              "23086              0.0              0.0  ...     0.0     0.0\n",
              "23087              0.0              0.0  ...     0.0     0.0\n",
              "23088              0.0              0.0  ...     0.0     0.0\n",
              "23089              0.0              0.0  ...     0.0     0.0\n",
              "23090              0.0              0.0  ...     0.0     0.0\n",
              "23091              0.0              0.0  ...     0.0     0.0\n",
              "23092              0.0              0.0  ...     1.0     1.0\n",
              "23093              0.0              0.0  ...     0.0     0.0\n",
              "23094              0.0              0.0  ...     0.0     0.0\n",
              "23095              0.0              0.0  ...     0.0     0.0\n",
              "23096              0.0              0.0  ...     0.0     0.0\n",
              "\n",
              "[20 rows x 56 columns]"
            ]
          },
          "metadata": {
            "tags": []
          },
          "execution_count": 55
        }
      ]
    },
    {
      "cell_type": "code",
      "metadata": {
        "id": "PCl2sPQjNsXD",
        "colab_type": "code",
        "colab": {
          "base_uri": "https://localhost:8080/",
          "height": 405
        },
        "outputId": "90efbb00-dc81-4538-9140-a579de03aa8f"
      },
      "source": [
        "sns.heatmap(clean_pharma_data.corr())"
      ],
      "execution_count": 56,
      "outputs": [
        {
          "output_type": "execute_result",
          "data": {
            "text/plain": [
              "<matplotlib.axes._subplots.AxesSubplot at 0x7f2062bc8908>"
            ]
          },
          "metadata": {
            "tags": []
          },
          "execution_count": 56
        },
        {
          "output_type": "display_data",
          "data": {
            "image/png": "[encoded data removed]",
            "text/plain": [
              "<Figure size 432x288 with 2 Axes>"
            ]
          },
          "metadata": {
            "tags": [],
            "needs_background": "light"
          }
        }
      ]
    },
    {
      "cell_type": "code",
      "metadata": {
        "id": "i_idAy7Rb4Iz",
        "colab_type": "code",
        "colab": {}
      },
      "source": [
        "clean_pharma_data=clean_pharma_data.merge(df_copy,how='left',left_index=True,right_index=True)"
      ],
      "execution_count": 57,
      "outputs": []
    },
    {
      "cell_type": "code",
      "metadata": {
        "id": "ITARnjvCI_SK",
        "colab_type": "code",
        "colab": {}
      },
      "source": [
        "test_new=test_new.merge(df_copy_new,how='left',left_index=True,right_index=True)"
      ],
      "execution_count": 58,
      "outputs": []
    },
    {
      "cell_type": "code",
      "metadata": {
        "id": "UeiukilsJw7X",
        "colab_type": "code",
        "colab": {}
      },
      "source": [
        "clean_pharma_data['n_drugs']=clean_pharma_data['DX1']+clean_pharma_data['DX2']+clean_pharma_data['DX3']+clean_pharma_data['DX4']+clean_pharma_data['DX5']+clean_pharma_data['DX6']"
      ],
      "execution_count": 59,
      "outputs": []
    },
    {
      "cell_type": "code",
      "metadata": {
        "id": "gykLelaAJxLH",
        "colab_type": "code",
        "colab": {}
      },
      "source": [
        "test_new['n_drugs']=test_new['DX1']+test_new['DX2']+test_new['DX3']+test_new['DX4']+test_new['DX5']+test_new['DX6']"
      ],
      "execution_count": 60,
      "outputs": []
    },
    {
      "cell_type": "code",
      "metadata": {
        "id": "tcr-PUVzd8uK",
        "colab_type": "code",
        "colab": {
          "base_uri": "https://localhost:8080/",
          "height": 1000
        },
        "outputId": "d3cd0a1f-8322-4040-82fd-a5a459cc3df1"
      },
      "source": [
        "fig,ax = plt.subplots(figsize=[24,16])\n",
        "sns.heatmap(clean_pharma_data.corr())"
      ],
      "execution_count": 61,
      "outputs": [
        {
          "output_type": "execute_result",
          "data": {
            "text/plain": [
              "<matplotlib.axes._subplots.AxesSubplot at 0x7f206345ada0>"
            ]
          },
          "metadata": {
            "tags": []
          },
          "execution_count": 61
        },
        {
          "output_type": "display_data",
          "data": {
            "image/png": "[encoded data removed]",
            "text/plain": [
              "<Figure size 1728x1152 with 2 Axes>"
            ]
          },
          "metadata": {
            "tags": [],
            "needs_background": "light"
          }
        }
      ]
    },
    {
      "cell_type": "code",
      "metadata": {
        "id": "Ytl9n_Rkd85c",
        "colab_type": "code",
        "colab": {}
      },
      "source": [
        "# sns.pairplot(clean_pharma_data)"
      ],
      "execution_count": 62,
      "outputs": []
    },
    {
      "cell_type": "code",
      "metadata": {
        "id": "5Mx-msQjZ-YM",
        "colab_type": "code",
        "colab": {
          "base_uri": "https://localhost:8080/",
          "height": 621
        },
        "outputId": "68202bfa-7237-4e73-e4d1-466d53ef0202"
      },
      "source": [
        "fig,ax=plt.subplots(4,4,figsize=[30,10])\n",
        "sns.distplot(clean_pharma_data['ID_Patient_Care_Situation'],ax=ax[0,0])\n",
        "sns.distplot(clean_pharma_data['Diagnosed_Condition'],ax=ax[0,1])\n",
        "sns.distplot(clean_pharma_data['Patient_ID'],ax=ax[0,2])\n",
        "sns.distplot(clean_pharma_data['Patient_Age'],ax=ax[0,3])\n",
        "sns.distplot(clean_pharma_data['Patient_Body_Mass_Index'],ax=ax[1,0])\n",
        "\n",
        "sns.barplot(drug_index,drugs,ax=ax[1,1])\n",
        "sns.barplot(clean_pharma_data['Patient_Smoker'].unique(),clean_pharma_data['Patient_Smoker'].value_counts(),ax=ax[1,2])\n",
        "sns.barplot(clean_pharma_data['Patient_Rural_Urban'].unique(),clean_pharma_data['Patient_Rural_Urban'].value_counts(),ax=ax[1,3])\n",
        "sns.barplot(clean_pharma_data['A'].unique(),clean_pharma_data['A'].value_counts(),ax=ax[2,0])\n",
        "sns.barplot(clean_pharma_data['B'].unique(),clean_pharma_data['B'].value_counts(),ax=ax[2,1])\n",
        "sns.barplot(clean_pharma_data['C'].unique(),clean_pharma_data['C'].value_counts(),ax=ax[2,2])\n",
        "sns.barplot(clean_pharma_data['D'].unique(),clean_pharma_data['D'].value_counts(),ax=ax[2,3])\n",
        "sns.barplot(clean_pharma_data['E'].unique(),clean_pharma_data['E'].value_counts(),ax=ax[3,0])\n",
        "sns.barplot(clean_pharma_data['F'].unique(),clean_pharma_data['F'].value_counts(),ax=ax[3,1])\n",
        "\n",
        "sns.barplot(clean_pharma_data['Number_of_prev_cond'].unique(),clean_pharma_data['Number_of_prev_cond'].value_counts(),ax=ax[3,2])\n",
        "sns.barplot(clean_pharma_data['Survived_1_year'].unique(),clean_pharma_data['Survived_1_year'].value_counts(),ax=ax[3,3])\n",
        "\n",
        "\n",
        "# 'ID_Patient_Care_Situation', 'Diagnosed_Condition', 'Patient_ID',\n",
        "#        'Treated_with_drugs', 'Patient_Age', 'Patient_Body_Mass_Index',\n",
        "#        'Patient_Smoker', 'Patient_Rural_Urban', 'A', 'B', 'C', 'D', 'E',\n",
        "#        'F', 'Number_of_prev_cond', 'Survived_1_year'"
      ],
      "execution_count": 63,
      "outputs": [
        {
          "output_type": "execute_result",
          "data": {
            "text/plain": [
              "<matplotlib.axes._subplots.AxesSubplot at 0x7f2062cb7940>"
            ]
          },
          "metadata": {
            "tags": []
          },
          "execution_count": 63
        },
        {
          "output_type": "display_data",
          "data": {
            "image/png": "[encoded data removed]",
            "text/plain": [
              "<Figure size 2160x720 with 16 Axes>"
            ]
          },
          "metadata": {
            "tags": [],
            "needs_background": "light"
          }
        }
      ]
    },
    {
      "cell_type": "code",
      "metadata": {
        "id": "9vRCvc-_ZYut",
        "colab_type": "code",
        "colab": {
          "base_uri": "https://localhost:8080/",
          "height": 72
        },
        "outputId": "6f9d65bb-37d1-400a-f551-b452ad4dffef"
      },
      "source": [
        "clean_pharma_data['Survived_1_year'].value_counts()/len(clean_pharma_data['Survived_1_year'])"
      ],
      "execution_count": 64,
      "outputs": [
        {
          "output_type": "execute_result",
          "data": {
            "text/plain": [
              "1    0.63204\n",
              "0    0.36796\n",
              "Name: Survived_1_year, dtype: float64"
            ]
          },
          "metadata": {
            "tags": []
          },
          "execution_count": 64
        }
      ]
    },
    {
      "cell_type": "code",
      "metadata": {
        "id": "KYXpaoV5ZYxr",
        "colab_type": "code",
        "colab": {}
      },
      "source": [
        "clean_pharma_data=pd.get_dummies(clean_pharma_data)"
      ],
      "execution_count": 65,
      "outputs": []
    },
    {
      "cell_type": "code",
      "metadata": {
        "id": "yLJkmNeEJPUT",
        "colab_type": "code",
        "colab": {}
      },
      "source": [
        "test_new=pd.get_dummies(test_new)"
      ],
      "execution_count": 66,
      "outputs": []
    },
    {
      "cell_type": "code",
      "metadata": {
        "id": "-2cSjwwMWnvH",
        "colab_type": "code",
        "colab": {
          "base_uri": "https://localhost:8080/",
          "height": 308
        },
        "outputId": "208a8fff-f7c9-4b79-c3fa-9dcfa4d27e6e"
      },
      "source": [
        "clean_pharma_data.head()"
      ],
      "execution_count": 67,
      "outputs": [
        {
          "output_type": "execute_result",
          "data": {
            "text/html": [
              "<div>\n",
              "<style scoped>\n",
              "    .dataframe tbody tr th:only-of-type {\n",
              "        vertical-align: middle;\n",
              "    }\n",
              "\n",
              "    .dataframe tbody tr th {\n",
              "        vertical-align: top;\n",
              "    }\n",
              "\n",
              "    .dataframe thead th {\n",
              "        text-align: right;\n",
              "    }\n",
              "</style>\n",
              "<table border=\"1\" class=\"dataframe\">\n",
              "  <thead>\n",
              "    <tr style=\"text-align: right;\">\n",
              "      <th></th>\n",
              "      <th>ID_Patient_Care_Situation</th>\n",
              "      <th>Diagnosed_Condition</th>\n",
              "      <th>Patient_ID</th>\n",
              "      <th>Patient_Age</th>\n",
              "      <th>Patient_Body_Mass_Index</th>\n",
              "      <th>A</th>\n",
              "      <th>B</th>\n",
              "      <th>C</th>\n",
              "      <th>D</th>\n",
              "      <th>E</th>\n",
              "      <th>F</th>\n",
              "      <th>Number_of_prev_cond</th>\n",
              "      <th>Survived_1_year</th>\n",
              "      <th>DX1</th>\n",
              "      <th>DX2</th>\n",
              "      <th>DX3</th>\n",
              "      <th>DX4</th>\n",
              "      <th>DX5</th>\n",
              "      <th>DX6</th>\n",
              "      <th>DX2 DX5</th>\n",
              "      <th>DX2 DX3</th>\n",
              "      <th>DX1 DX3</th>\n",
              "      <th>DX1 DX2</th>\n",
              "      <th>DX3 DX4</th>\n",
              "      <th>DX1 DX4</th>\n",
              "      <th>DX1 DX5</th>\n",
              "      <th>DX2 DX4 DX5</th>\n",
              "      <th>DX1 DX2 DX3</th>\n",
              "      <th>DX3 DX5</th>\n",
              "      <th>DX2 DX4</th>\n",
              "      <th>DX3 DX4 DX5</th>\n",
              "      <th>DX2 DX3 DX5</th>\n",
              "      <th>DX1 DX2 DX3 DX4</th>\n",
              "      <th>DX4 DX5</th>\n",
              "      <th>DX2 DX3 DX4</th>\n",
              "      <th>DX1 DX4 DX5</th>\n",
              "      <th>DX1 DX2 DX4</th>\n",
              "      <th>DX1 DX3 DX5</th>\n",
              "      <th>DX1 DX2 DX5</th>\n",
              "      <th>DX1 DX3 DX4</th>\n",
              "      <th>...</th>\n",
              "      <th>(A, B, C)</th>\n",
              "      <th>(A, B, D)</th>\n",
              "      <th>(A, B, E)</th>\n",
              "      <th>(A, B, F)</th>\n",
              "      <th>(A, C, D)</th>\n",
              "      <th>(A, C, E)</th>\n",
              "      <th>(A, C, F)</th>\n",
              "      <th>(A, D, E)</th>\n",
              "      <th>(A, D, F)</th>\n",
              "      <th>(A, E, F)</th>\n",
              "      <th>(B, C, D)</th>\n",
              "      <th>(B, C, E)</th>\n",
              "      <th>(B, C, F)</th>\n",
              "      <th>(B, D, E)</th>\n",
              "      <th>(B, D, F)</th>\n",
              "      <th>(B, E, F)</th>\n",
              "      <th>(C, D, E)</th>\n",
              "      <th>(C, D, F)</th>\n",
              "      <th>(C, E, F)</th>\n",
              "      <th>(D, E, F)</th>\n",
              "      <th>(A, B)</th>\n",
              "      <th>(A, C)</th>\n",
              "      <th>(A, D)</th>\n",
              "      <th>(A, E)</th>\n",
              "      <th>(A, F)</th>\n",
              "      <th>(B, C)</th>\n",
              "      <th>(B, D)</th>\n",
              "      <th>(B, E)</th>\n",
              "      <th>(B, F)</th>\n",
              "      <th>(C, D)</th>\n",
              "      <th>(C, E)</th>\n",
              "      <th>(C, F)</th>\n",
              "      <th>(D, E)</th>\n",
              "      <th>(D, F)</th>\n",
              "      <th>(E, F)</th>\n",
              "      <th>n_drugs</th>\n",
              "      <th>Patient_Smoker_NO</th>\n",
              "      <th>Patient_Smoker_YES</th>\n",
              "      <th>Patient_Rural_Urban_RURAL</th>\n",
              "      <th>Patient_Rural_Urban_URBAN</th>\n",
              "    </tr>\n",
              "  </thead>\n",
              "  <tbody>\n",
              "    <tr>\n",
              "      <th>0</th>\n",
              "      <td>22374</td>\n",
              "      <td>8</td>\n",
              "      <td>3333</td>\n",
              "      <td>56</td>\n",
              "      <td>18.479385</td>\n",
              "      <td>1.0</td>\n",
              "      <td>0.0</td>\n",
              "      <td>0.0</td>\n",
              "      <td>0.0</td>\n",
              "      <td>1.0</td>\n",
              "      <td>0.0</td>\n",
              "      <td>2.0</td>\n",
              "      <td>0</td>\n",
              "      <td>0</td>\n",
              "      <td>0</td>\n",
              "      <td>0</td>\n",
              "      <td>0</td>\n",
              "      <td>0</td>\n",
              "      <td>1</td>\n",
              "      <td>0</td>\n",
              "      <td>0</td>\n",
              "      <td>0</td>\n",
              "      <td>0</td>\n",
              "      <td>0</td>\n",
              "      <td>0</td>\n",
              "      <td>0</td>\n",
              "      <td>0</td>\n",
              "      <td>0</td>\n",
              "      <td>0</td>\n",
              "      <td>0</td>\n",
              "      <td>0</td>\n",
              "      <td>0</td>\n",
              "      <td>0</td>\n",
              "      <td>0</td>\n",
              "      <td>0</td>\n",
              "      <td>0</td>\n",
              "      <td>0</td>\n",
              "      <td>0</td>\n",
              "      <td>0</td>\n",
              "      <td>0</td>\n",
              "      <td>...</td>\n",
              "      <td>0.0</td>\n",
              "      <td>0.0</td>\n",
              "      <td>0.0</td>\n",
              "      <td>0.0</td>\n",
              "      <td>0.0</td>\n",
              "      <td>0.0</td>\n",
              "      <td>0.0</td>\n",
              "      <td>0.0</td>\n",
              "      <td>0.0</td>\n",
              "      <td>0.0</td>\n",
              "      <td>0.0</td>\n",
              "      <td>0.0</td>\n",
              "      <td>0.0</td>\n",
              "      <td>0.0</td>\n",
              "      <td>0.0</td>\n",
              "      <td>0.0</td>\n",
              "      <td>0.0</td>\n",
              "      <td>0.0</td>\n",
              "      <td>0.0</td>\n",
              "      <td>0.0</td>\n",
              "      <td>0.0</td>\n",
              "      <td>0.0</td>\n",
              "      <td>0.0</td>\n",
              "      <td>1.0</td>\n",
              "      <td>0.0</td>\n",
              "      <td>0.0</td>\n",
              "      <td>0.0</td>\n",
              "      <td>0.0</td>\n",
              "      <td>0.0</td>\n",
              "      <td>0.0</td>\n",
              "      <td>0.0</td>\n",
              "      <td>0.0</td>\n",
              "      <td>0.0</td>\n",
              "      <td>0.0</td>\n",
              "      <td>0.0</td>\n",
              "      <td>1</td>\n",
              "      <td>0</td>\n",
              "      <td>1</td>\n",
              "      <td>0</td>\n",
              "      <td>1</td>\n",
              "    </tr>\n",
              "    <tr>\n",
              "      <th>1</th>\n",
              "      <td>18164</td>\n",
              "      <td>5</td>\n",
              "      <td>5740</td>\n",
              "      <td>36</td>\n",
              "      <td>22.945566</td>\n",
              "      <td>1.0</td>\n",
              "      <td>0.0</td>\n",
              "      <td>0.0</td>\n",
              "      <td>0.0</td>\n",
              "      <td>0.0</td>\n",
              "      <td>0.0</td>\n",
              "      <td>1.0</td>\n",
              "      <td>1</td>\n",
              "      <td>0</td>\n",
              "      <td>1</td>\n",
              "      <td>0</td>\n",
              "      <td>0</td>\n",
              "      <td>0</td>\n",
              "      <td>0</td>\n",
              "      <td>0</td>\n",
              "      <td>0</td>\n",
              "      <td>0</td>\n",
              "      <td>0</td>\n",
              "      <td>0</td>\n",
              "      <td>0</td>\n",
              "      <td>0</td>\n",
              "      <td>0</td>\n",
              "      <td>0</td>\n",
              "      <td>0</td>\n",
              "      <td>0</td>\n",
              "      <td>0</td>\n",
              "      <td>0</td>\n",
              "      <td>0</td>\n",
              "      <td>0</td>\n",
              "      <td>0</td>\n",
              "      <td>0</td>\n",
              "      <td>0</td>\n",
              "      <td>0</td>\n",
              "      <td>0</td>\n",
              "      <td>0</td>\n",
              "      <td>...</td>\n",
              "      <td>0.0</td>\n",
              "      <td>0.0</td>\n",
              "      <td>0.0</td>\n",
              "      <td>0.0</td>\n",
              "      <td>0.0</td>\n",
              "      <td>0.0</td>\n",
              "      <td>0.0</td>\n",
              "      <td>0.0</td>\n",
              "      <td>0.0</td>\n",
              "      <td>0.0</td>\n",
              "      <td>0.0</td>\n",
              "      <td>0.0</td>\n",
              "      <td>0.0</td>\n",
              "      <td>0.0</td>\n",
              "      <td>0.0</td>\n",
              "      <td>0.0</td>\n",
              "      <td>0.0</td>\n",
              "      <td>0.0</td>\n",
              "      <td>0.0</td>\n",
              "      <td>0.0</td>\n",
              "      <td>0.0</td>\n",
              "      <td>0.0</td>\n",
              "      <td>0.0</td>\n",
              "      <td>0.0</td>\n",
              "      <td>0.0</td>\n",
              "      <td>0.0</td>\n",
              "      <td>0.0</td>\n",
              "      <td>0.0</td>\n",
              "      <td>0.0</td>\n",
              "      <td>0.0</td>\n",
              "      <td>0.0</td>\n",
              "      <td>0.0</td>\n",
              "      <td>0.0</td>\n",
              "      <td>0.0</td>\n",
              "      <td>0.0</td>\n",
              "      <td>1</td>\n",
              "      <td>0</td>\n",
              "      <td>1</td>\n",
              "      <td>1</td>\n",
              "      <td>0</td>\n",
              "    </tr>\n",
              "    <tr>\n",
              "      <th>2</th>\n",
              "      <td>6283</td>\n",
              "      <td>23</td>\n",
              "      <td>10446</td>\n",
              "      <td>48</td>\n",
              "      <td>27.510027</td>\n",
              "      <td>1.0</td>\n",
              "      <td>0.0</td>\n",
              "      <td>0.0</td>\n",
              "      <td>0.0</td>\n",
              "      <td>0.0</td>\n",
              "      <td>0.0</td>\n",
              "      <td>1.0</td>\n",
              "      <td>0</td>\n",
              "      <td>0</td>\n",
              "      <td>0</td>\n",
              "      <td>0</td>\n",
              "      <td>0</td>\n",
              "      <td>0</td>\n",
              "      <td>1</td>\n",
              "      <td>0</td>\n",
              "      <td>0</td>\n",
              "      <td>0</td>\n",
              "      <td>0</td>\n",
              "      <td>0</td>\n",
              "      <td>0</td>\n",
              "      <td>0</td>\n",
              "      <td>0</td>\n",
              "      <td>0</td>\n",
              "      <td>0</td>\n",
              "      <td>0</td>\n",
              "      <td>0</td>\n",
              "      <td>0</td>\n",
              "      <td>0</td>\n",
              "      <td>0</td>\n",
              "      <td>0</td>\n",
              "      <td>0</td>\n",
              "      <td>0</td>\n",
              "      <td>0</td>\n",
              "      <td>0</td>\n",
              "      <td>0</td>\n",
              "      <td>...</td>\n",
              "      <td>0.0</td>\n",
              "      <td>0.0</td>\n",
              "      <td>0.0</td>\n",
              "      <td>0.0</td>\n",
              "      <td>0.0</td>\n",
              "      <td>0.0</td>\n",
              "      <td>0.0</td>\n",
              "      <td>0.0</td>\n",
              "      <td>0.0</td>\n",
              "      <td>0.0</td>\n",
              "      <td>0.0</td>\n",
              "      <td>0.0</td>\n",
              "      <td>0.0</td>\n",
              "      <td>0.0</td>\n",
              "      <td>0.0</td>\n",
              "      <td>0.0</td>\n",
              "      <td>0.0</td>\n",
              "      <td>0.0</td>\n",
              "      <td>0.0</td>\n",
              "      <td>0.0</td>\n",
              "      <td>0.0</td>\n",
              "      <td>0.0</td>\n",
              "      <td>0.0</td>\n",
              "      <td>0.0</td>\n",
              "      <td>0.0</td>\n",
              "      <td>0.0</td>\n",
              "      <td>0.0</td>\n",
              "      <td>0.0</td>\n",
              "      <td>0.0</td>\n",
              "      <td>0.0</td>\n",
              "      <td>0.0</td>\n",
              "      <td>0.0</td>\n",
              "      <td>0.0</td>\n",
              "      <td>0.0</td>\n",
              "      <td>0.0</td>\n",
              "      <td>1</td>\n",
              "      <td>0</td>\n",
              "      <td>1</td>\n",
              "      <td>1</td>\n",
              "      <td>0</td>\n",
              "    </tr>\n",
              "    <tr>\n",
              "      <th>3</th>\n",
              "      <td>5339</td>\n",
              "      <td>51</td>\n",
              "      <td>12011</td>\n",
              "      <td>5</td>\n",
              "      <td>19.130976</td>\n",
              "      <td>1.0</td>\n",
              "      <td>0.0</td>\n",
              "      <td>0.0</td>\n",
              "      <td>0.0</td>\n",
              "      <td>0.0</td>\n",
              "      <td>0.0</td>\n",
              "      <td>1.0</td>\n",
              "      <td>1</td>\n",
              "      <td>1</td>\n",
              "      <td>0</td>\n",
              "      <td>0</td>\n",
              "      <td>0</td>\n",
              "      <td>0</td>\n",
              "      <td>0</td>\n",
              "      <td>0</td>\n",
              "      <td>0</td>\n",
              "      <td>0</td>\n",
              "      <td>0</td>\n",
              "      <td>0</td>\n",
              "      <td>0</td>\n",
              "      <td>0</td>\n",
              "      <td>0</td>\n",
              "      <td>0</td>\n",
              "      <td>0</td>\n",
              "      <td>0</td>\n",
              "      <td>0</td>\n",
              "      <td>0</td>\n",
              "      <td>0</td>\n",
              "      <td>0</td>\n",
              "      <td>0</td>\n",
              "      <td>0</td>\n",
              "      <td>0</td>\n",
              "      <td>0</td>\n",
              "      <td>0</td>\n",
              "      <td>0</td>\n",
              "      <td>...</td>\n",
              "      <td>0.0</td>\n",
              "      <td>0.0</td>\n",
              "      <td>0.0</td>\n",
              "      <td>0.0</td>\n",
              "      <td>0.0</td>\n",
              "      <td>0.0</td>\n",
              "      <td>0.0</td>\n",
              "      <td>0.0</td>\n",
              "      <td>0.0</td>\n",
              "      <td>0.0</td>\n",
              "      <td>0.0</td>\n",
              "      <td>0.0</td>\n",
              "      <td>0.0</td>\n",
              "      <td>0.0</td>\n",
              "      <td>0.0</td>\n",
              "      <td>0.0</td>\n",
              "      <td>0.0</td>\n",
              "      <td>0.0</td>\n",
              "      <td>0.0</td>\n",
              "      <td>0.0</td>\n",
              "      <td>0.0</td>\n",
              "      <td>0.0</td>\n",
              "      <td>0.0</td>\n",
              "      <td>0.0</td>\n",
              "      <td>0.0</td>\n",
              "      <td>0.0</td>\n",
              "      <td>0.0</td>\n",
              "      <td>0.0</td>\n",
              "      <td>0.0</td>\n",
              "      <td>0.0</td>\n",
              "      <td>0.0</td>\n",
              "      <td>0.0</td>\n",
              "      <td>0.0</td>\n",
              "      <td>0.0</td>\n",
              "      <td>0.0</td>\n",
              "      <td>1</td>\n",
              "      <td>1</td>\n",
              "      <td>0</td>\n",
              "      <td>0</td>\n",
              "      <td>1</td>\n",
              "    </tr>\n",
              "    <tr>\n",
              "      <th>5</th>\n",
              "      <td>10808</td>\n",
              "      <td>45</td>\n",
              "      <td>7977</td>\n",
              "      <td>47</td>\n",
              "      <td>26.155120</td>\n",
              "      <td>1.0</td>\n",
              "      <td>0.0</td>\n",
              "      <td>0.0</td>\n",
              "      <td>0.0</td>\n",
              "      <td>0.0</td>\n",
              "      <td>0.0</td>\n",
              "      <td>1.0</td>\n",
              "      <td>0</td>\n",
              "      <td>0</td>\n",
              "      <td>0</td>\n",
              "      <td>0</td>\n",
              "      <td>0</td>\n",
              "      <td>0</td>\n",
              "      <td>1</td>\n",
              "      <td>0</td>\n",
              "      <td>0</td>\n",
              "      <td>0</td>\n",
              "      <td>0</td>\n",
              "      <td>0</td>\n",
              "      <td>0</td>\n",
              "      <td>0</td>\n",
              "      <td>0</td>\n",
              "      <td>0</td>\n",
              "      <td>0</td>\n",
              "      <td>0</td>\n",
              "      <td>0</td>\n",
              "      <td>0</td>\n",
              "      <td>0</td>\n",
              "      <td>0</td>\n",
              "      <td>0</td>\n",
              "      <td>0</td>\n",
              "      <td>0</td>\n",
              "      <td>0</td>\n",
              "      <td>0</td>\n",
              "      <td>0</td>\n",
              "      <td>...</td>\n",
              "      <td>0.0</td>\n",
              "      <td>0.0</td>\n",
              "      <td>0.0</td>\n",
              "      <td>0.0</td>\n",
              "      <td>0.0</td>\n",
              "      <td>0.0</td>\n",
              "      <td>0.0</td>\n",
              "      <td>0.0</td>\n",
              "      <td>0.0</td>\n",
              "      <td>0.0</td>\n",
              "      <td>0.0</td>\n",
              "      <td>0.0</td>\n",
              "      <td>0.0</td>\n",
              "      <td>0.0</td>\n",
              "      <td>0.0</td>\n",
              "      <td>0.0</td>\n",
              "      <td>0.0</td>\n",
              "      <td>0.0</td>\n",
              "      <td>0.0</td>\n",
              "      <td>0.0</td>\n",
              "      <td>0.0</td>\n",
              "      <td>0.0</td>\n",
              "      <td>0.0</td>\n",
              "      <td>0.0</td>\n",
              "      <td>0.0</td>\n",
              "      <td>0.0</td>\n",
              "      <td>0.0</td>\n",
              "      <td>0.0</td>\n",
              "      <td>0.0</td>\n",
              "      <td>0.0</td>\n",
              "      <td>0.0</td>\n",
              "      <td>0.0</td>\n",
              "      <td>0.0</td>\n",
              "      <td>0.0</td>\n",
              "      <td>0.0</td>\n",
              "      <td>1</td>\n",
              "      <td>0</td>\n",
              "      <td>1</td>\n",
              "      <td>0</td>\n",
              "      <td>1</td>\n",
              "    </tr>\n",
              "  </tbody>\n",
              "</table>\n",
              "<p>5 rows × 106 columns</p>\n",
              "</div>"
            ],
            "text/plain": [
              "   ID_Patient_Care_Situation  ...  Patient_Rural_Urban_URBAN\n",
              "0                      22374  ...                          1\n",
              "1                      18164  ...                          0\n",
              "2                       6283  ...                          0\n",
              "3                       5339  ...                          1\n",
              "5                      10808  ...                          1\n",
              "\n",
              "[5 rows x 106 columns]"
            ]
          },
          "metadata": {
            "tags": []
          },
          "execution_count": 67
        }
      ]
    },
    {
      "cell_type": "code",
      "metadata": {
        "id": "VwnK7rHcPyDR",
        "colab_type": "code",
        "colab": {}
      },
      "source": [
        "# # BoostARoota important features:\n",
        "# ['ID_Patient_Care_Situation',\n",
        "#  'Diagnosed_Condition',\n",
        "#  'Patient_ID',\n",
        "#  'Patient_Age',\n",
        "#  'Patient_Body_Mass_Index',\n",
        "#  'A',\n",
        "#  'D',\n",
        "#  'Number_of_prev_cond',\n",
        "#  'DX1',\n",
        "#  'DX2',\n",
        "#  'DX3',\n",
        "#  'DX4',\n",
        "#  'DX5',\n",
        "#  'DX6',\n",
        "#  'DX1 DX2 ',\n",
        "#  'DX1 DX5 ',\n",
        "#  'DX1 DX2 DX3 ',\n",
        "#  ('A', 'C'),\n",
        "#  ('A', 'D'),\n",
        "#  ('B', 'C'),\n",
        "#  'n_drugs',\n",
        "#  'Patient_Smoker_NO',\n",
        "#  'Patient_Rural_Urban_RURAL']"
      ],
      "execution_count": null,
      "outputs": []
    },
    {
      "cell_type": "code",
      "metadata": {
        "id": "RMFXD81Gysu0",
        "colab_type": "code",
        "colab": {}
      },
      "source": [
        "clean_pharma_data_relevant_feat=clean_pharma_data[[\n",
        " 'ID_Patient_Care_Situation',\n",
        " 'Diagnosed_Condition',\n",
        " 'Patient_ID',\n",
        " 'Patient_Age',\n",
        " 'Patient_Body_Mass_Index',\n",
        " 'A',\n",
        " 'D',\n",
        " 'Number_of_prev_cond',\n",
        " 'DX1',\n",
        " 'DX2',\n",
        " 'DX3',\n",
        " 'DX4',\n",
        " 'DX5',\n",
        " 'DX6',\n",
        " 'DX1 DX2 ',\n",
        " 'DX1 DX5 ',\n",
        " 'DX1 DX2 DX3 ',\n",
        " ('A', 'C'),\n",
        " ('A', 'D'),\n",
        " ('B', 'C'),\n",
        " 'n_drugs',\n",
        " 'Patient_Smoker_NO',\n",
        " 'Patient_Rural_Urban_RURAL',\n",
        " 'Survived_1_year']]"
      ],
      "execution_count": 68,
      "outputs": []
    },
    {
      "cell_type": "code",
      "metadata": {
        "id": "m8uS5F58JXIa",
        "colab_type": "code",
        "colab": {}
      },
      "source": [
        "test_new_relevant_feat=test_new[[\n",
        " 'ID_Patient_Care_Situation',\n",
        " 'Diagnosed_Condition',\n",
        " 'Patient_ID',\n",
        " 'Patient_Age',\n",
        " 'Patient_Body_Mass_Index',\n",
        " 'A',\n",
        " 'D',\n",
        " 'Number_of_prev_cond',\n",
        " 'DX1',\n",
        " 'DX2',\n",
        " 'DX3',\n",
        " 'DX4',\n",
        " 'DX5',\n",
        " 'DX6',\n",
        " 'DX1 DX2 ',\n",
        " 'DX1 DX5 ',\n",
        " 'DX1 DX2 DX3 ',\n",
        " ('A', 'C'),\n",
        " ('A', 'D'),\n",
        " ('B', 'C'),\n",
        " 'n_drugs',\n",
        " 'Patient_Smoker_NO',\n",
        " 'Patient_Rural_Urban_RURAL']]"
      ],
      "execution_count": 69,
      "outputs": []
    },
    {
      "cell_type": "code",
      "metadata": {
        "id": "WuLC6tffuCF3",
        "colab_type": "code",
        "colab": {
          "base_uri": "https://localhost:8080/",
          "height": 586
        },
        "outputId": "09bfd38f-2c37-4b52-a0f8-90f25e8a69f9"
      },
      "source": [
        "clean_pharma_data_relevant_feat.info()"
      ],
      "execution_count": 70,
      "outputs": [
        {
          "output_type": "stream",
          "text": [
            "<class 'pandas.core.frame.DataFrame'>\n",
            "Int64Index: 23084 entries, 0 to 23096\n",
            "Data columns (total 24 columns):\n",
            " #   Column                     Non-Null Count  Dtype  \n",
            "---  ------                     --------------  -----  \n",
            " 0   ID_Patient_Care_Situation  23084 non-null  int64  \n",
            " 1   Diagnosed_Condition        23084 non-null  int64  \n",
            " 2   Patient_ID                 23084 non-null  int64  \n",
            " 3   Patient_Age                23084 non-null  int64  \n",
            " 4   Patient_Body_Mass_Index    23084 non-null  float64\n",
            " 5   A                          23084 non-null  float64\n",
            " 6   D                          23084 non-null  float64\n",
            " 7   Number_of_prev_cond        23084 non-null  float64\n",
            " 8   DX1                        23084 non-null  int64  \n",
            " 9   DX2                        23084 non-null  int64  \n",
            " 10  DX3                        23084 non-null  int64  \n",
            " 11  DX4                        23084 non-null  int64  \n",
            " 12  DX5                        23084 non-null  int64  \n",
            " 13  DX6                        23084 non-null  int64  \n",
            " 14  DX1 DX2                    23084 non-null  int64  \n",
            " 15  DX1 DX5                    23084 non-null  int64  \n",
            " 16  DX1 DX2 DX3                23084 non-null  int64  \n",
            " 17  (A, C)                     23084 non-null  float64\n",
            " 18  (A, D)                     23084 non-null  float64\n",
            " 19  (B, C)                     23084 non-null  float64\n",
            " 20  n_drugs                    23084 non-null  int64  \n",
            " 21  Patient_Smoker_NO          23084 non-null  uint8  \n",
            " 22  Patient_Rural_Urban_RURAL  23084 non-null  uint8  \n",
            " 23  Survived_1_year            23084 non-null  int64  \n",
            "dtypes: float64(7), int64(15), uint8(2)\n",
            "memory usage: 4.7 MB\n"
          ],
          "name": "stdout"
        }
      ]
    },
    {
      "cell_type": "code",
      "metadata": {
        "id": "zbAQqVsC0yZs",
        "colab_type": "code",
        "colab": {}
      },
      "source": [
        ""
      ],
      "execution_count": 70,
      "outputs": []
    },
    {
      "cell_type": "code",
      "metadata": {
        "id": "R-mA9Ez90ycb",
        "colab_type": "code",
        "colab": {}
      },
      "source": [
        ""
      ],
      "execution_count": 70,
      "outputs": []
    },
    {
      "cell_type": "code",
      "metadata": {
        "id": "_u21EEXS0yiG",
        "colab_type": "code",
        "colab": {}
      },
      "source": [
        "# X_new=test_new"
      ],
      "execution_count": 71,
      "outputs": []
    },
    {
      "cell_type": "code",
      "metadata": {
        "id": "-JXyHrR-0ylC",
        "colab_type": "code",
        "colab": {
          "base_uri": "https://localhost:8080/",
          "height": 479
        },
        "outputId": "c36cd608-5dd8-43f3-99b2-19fd44d8fdcb"
      },
      "source": [
        "X_new=test_new_relevant_feat\n",
        "X_new"
      ],
      "execution_count": 72,
      "outputs": [
        {
          "output_type": "execute_result",
          "data": {
            "text/html": [
              "<div>\n",
              "<style scoped>\n",
              "    .dataframe tbody tr th:only-of-type {\n",
              "        vertical-align: middle;\n",
              "    }\n",
              "\n",
              "    .dataframe tbody tr th {\n",
              "        vertical-align: top;\n",
              "    }\n",
              "\n",
              "    .dataframe thead th {\n",
              "        text-align: right;\n",
              "    }\n",
              "</style>\n",
              "<table border=\"1\" class=\"dataframe\">\n",
              "  <thead>\n",
              "    <tr style=\"text-align: right;\">\n",
              "      <th></th>\n",
              "      <th>ID_Patient_Care_Situation</th>\n",
              "      <th>Diagnosed_Condition</th>\n",
              "      <th>Patient_ID</th>\n",
              "      <th>Patient_Age</th>\n",
              "      <th>Patient_Body_Mass_Index</th>\n",
              "      <th>A</th>\n",
              "      <th>D</th>\n",
              "      <th>Number_of_prev_cond</th>\n",
              "      <th>DX1</th>\n",
              "      <th>DX2</th>\n",
              "      <th>DX3</th>\n",
              "      <th>DX4</th>\n",
              "      <th>DX5</th>\n",
              "      <th>DX6</th>\n",
              "      <th>DX1 DX2</th>\n",
              "      <th>DX1 DX5</th>\n",
              "      <th>DX1 DX2 DX3</th>\n",
              "      <th>(A, C)</th>\n",
              "      <th>(A, D)</th>\n",
              "      <th>(B, C)</th>\n",
              "      <th>n_drugs</th>\n",
              "      <th>Patient_Smoker_NO</th>\n",
              "      <th>Patient_Rural_Urban_RURAL</th>\n",
              "    </tr>\n",
              "  </thead>\n",
              "  <tbody>\n",
              "    <tr>\n",
              "      <th>0</th>\n",
              "      <td>19150</td>\n",
              "      <td>40</td>\n",
              "      <td>3709</td>\n",
              "      <td>16</td>\n",
              "      <td>29.443894</td>\n",
              "      <td>1.0</td>\n",
              "      <td>0.0</td>\n",
              "      <td>2.0</td>\n",
              "      <td>0</td>\n",
              "      <td>0</td>\n",
              "      <td>1</td>\n",
              "      <td>0</td>\n",
              "      <td>0</td>\n",
              "      <td>0</td>\n",
              "      <td>0</td>\n",
              "      <td>0</td>\n",
              "      <td>0</td>\n",
              "      <td>0.0</td>\n",
              "      <td>0.0</td>\n",
              "      <td>0.0</td>\n",
              "      <td>1</td>\n",
              "      <td>1</td>\n",
              "      <td>1</td>\n",
              "    </tr>\n",
              "    <tr>\n",
              "      <th>1</th>\n",
              "      <td>23216</td>\n",
              "      <td>52</td>\n",
              "      <td>986</td>\n",
              "      <td>24</td>\n",
              "      <td>26.836321</td>\n",
              "      <td>1.0</td>\n",
              "      <td>0.0</td>\n",
              "      <td>2.0</td>\n",
              "      <td>0</td>\n",
              "      <td>0</td>\n",
              "      <td>0</td>\n",
              "      <td>0</td>\n",
              "      <td>0</td>\n",
              "      <td>1</td>\n",
              "      <td>0</td>\n",
              "      <td>0</td>\n",
              "      <td>0</td>\n",
              "      <td>0.0</td>\n",
              "      <td>0.0</td>\n",
              "      <td>0.0</td>\n",
              "      <td>1</td>\n",
              "      <td>1</td>\n",
              "      <td>0</td>\n",
              "    </tr>\n",
              "    <tr>\n",
              "      <th>2</th>\n",
              "      <td>11890</td>\n",
              "      <td>50</td>\n",
              "      <td>11821</td>\n",
              "      <td>63</td>\n",
              "      <td>25.523280</td>\n",
              "      <td>1.0</td>\n",
              "      <td>0.0</td>\n",
              "      <td>2.0</td>\n",
              "      <td>0</td>\n",
              "      <td>0</td>\n",
              "      <td>0</td>\n",
              "      <td>1</td>\n",
              "      <td>1</td>\n",
              "      <td>0</td>\n",
              "      <td>0</td>\n",
              "      <td>0</td>\n",
              "      <td>0</td>\n",
              "      <td>0.0</td>\n",
              "      <td>0.0</td>\n",
              "      <td>0.0</td>\n",
              "      <td>2</td>\n",
              "      <td>1</td>\n",
              "      <td>1</td>\n",
              "    </tr>\n",
              "    <tr>\n",
              "      <th>3</th>\n",
              "      <td>7149</td>\n",
              "      <td>32</td>\n",
              "      <td>3292</td>\n",
              "      <td>42</td>\n",
              "      <td>27.171155</td>\n",
              "      <td>1.0</td>\n",
              "      <td>0.0</td>\n",
              "      <td>3.0</td>\n",
              "      <td>0</td>\n",
              "      <td>0</td>\n",
              "      <td>0</td>\n",
              "      <td>0</td>\n",
              "      <td>0</td>\n",
              "      <td>1</td>\n",
              "      <td>0</td>\n",
              "      <td>0</td>\n",
              "      <td>0</td>\n",
              "      <td>0.0</td>\n",
              "      <td>0.0</td>\n",
              "      <td>0.0</td>\n",
              "      <td>1</td>\n",
              "      <td>1</td>\n",
              "      <td>0</td>\n",
              "    </tr>\n",
              "    <tr>\n",
              "      <th>4</th>\n",
              "      <td>22845</td>\n",
              "      <td>20</td>\n",
              "      <td>9959</td>\n",
              "      <td>50</td>\n",
              "      <td>25.556192</td>\n",
              "      <td>1.0</td>\n",
              "      <td>0.0</td>\n",
              "      <td>1.0</td>\n",
              "      <td>0</td>\n",
              "      <td>0</td>\n",
              "      <td>1</td>\n",
              "      <td>0</td>\n",
              "      <td>0</td>\n",
              "      <td>0</td>\n",
              "      <td>0</td>\n",
              "      <td>0</td>\n",
              "      <td>0</td>\n",
              "      <td>1.0</td>\n",
              "      <td>1.0</td>\n",
              "      <td>0.0</td>\n",
              "      <td>1</td>\n",
              "      <td>1</td>\n",
              "      <td>1</td>\n",
              "    </tr>\n",
              "    <tr>\n",
              "      <th>...</th>\n",
              "      <td>...</td>\n",
              "      <td>...</td>\n",
              "      <td>...</td>\n",
              "      <td>...</td>\n",
              "      <td>...</td>\n",
              "      <td>...</td>\n",
              "      <td>...</td>\n",
              "      <td>...</td>\n",
              "      <td>...</td>\n",
              "      <td>...</td>\n",
              "      <td>...</td>\n",
              "      <td>...</td>\n",
              "      <td>...</td>\n",
              "      <td>...</td>\n",
              "      <td>...</td>\n",
              "      <td>...</td>\n",
              "      <td>...</td>\n",
              "      <td>...</td>\n",
              "      <td>...</td>\n",
              "      <td>...</td>\n",
              "      <td>...</td>\n",
              "      <td>...</td>\n",
              "      <td>...</td>\n",
              "    </tr>\n",
              "    <tr>\n",
              "      <th>9298</th>\n",
              "      <td>18245</td>\n",
              "      <td>11</td>\n",
              "      <td>9299</td>\n",
              "      <td>28</td>\n",
              "      <td>29.106314</td>\n",
              "      <td>1.0</td>\n",
              "      <td>0.0</td>\n",
              "      <td>3.0</td>\n",
              "      <td>0</td>\n",
              "      <td>0</td>\n",
              "      <td>0</td>\n",
              "      <td>0</td>\n",
              "      <td>0</td>\n",
              "      <td>1</td>\n",
              "      <td>0</td>\n",
              "      <td>0</td>\n",
              "      <td>0</td>\n",
              "      <td>0.0</td>\n",
              "      <td>0.0</td>\n",
              "      <td>0.0</td>\n",
              "      <td>1</td>\n",
              "      <td>1</td>\n",
              "      <td>1</td>\n",
              "    </tr>\n",
              "    <tr>\n",
              "      <th>9299</th>\n",
              "      <td>15598</td>\n",
              "      <td>7</td>\n",
              "      <td>6273</td>\n",
              "      <td>4</td>\n",
              "      <td>20.616673</td>\n",
              "      <td>1.0</td>\n",
              "      <td>0.0</td>\n",
              "      <td>2.0</td>\n",
              "      <td>1</td>\n",
              "      <td>0</td>\n",
              "      <td>0</td>\n",
              "      <td>0</td>\n",
              "      <td>0</td>\n",
              "      <td>0</td>\n",
              "      <td>0</td>\n",
              "      <td>0</td>\n",
              "      <td>0</td>\n",
              "      <td>0.0</td>\n",
              "      <td>0.0</td>\n",
              "      <td>0.0</td>\n",
              "      <td>1</td>\n",
              "      <td>1</td>\n",
              "      <td>0</td>\n",
              "    </tr>\n",
              "    <tr>\n",
              "      <th>9300</th>\n",
              "      <td>11885</td>\n",
              "      <td>16</td>\n",
              "      <td>11473</td>\n",
              "      <td>20</td>\n",
              "      <td>24.727357</td>\n",
              "      <td>1.0</td>\n",
              "      <td>0.0</td>\n",
              "      <td>1.0</td>\n",
              "      <td>1</td>\n",
              "      <td>0</td>\n",
              "      <td>1</td>\n",
              "      <td>1</td>\n",
              "      <td>1</td>\n",
              "      <td>0</td>\n",
              "      <td>0</td>\n",
              "      <td>0</td>\n",
              "      <td>0</td>\n",
              "      <td>0.0</td>\n",
              "      <td>0.0</td>\n",
              "      <td>0.0</td>\n",
              "      <td>4</td>\n",
              "      <td>0</td>\n",
              "      <td>0</td>\n",
              "    </tr>\n",
              "    <tr>\n",
              "      <th>9301</th>\n",
              "      <td>25101</td>\n",
              "      <td>50</td>\n",
              "      <td>5681</td>\n",
              "      <td>33</td>\n",
              "      <td>17.517426</td>\n",
              "      <td>1.0</td>\n",
              "      <td>1.0</td>\n",
              "      <td>5.0</td>\n",
              "      <td>0</td>\n",
              "      <td>0</td>\n",
              "      <td>0</td>\n",
              "      <td>1</td>\n",
              "      <td>0</td>\n",
              "      <td>0</td>\n",
              "      <td>0</td>\n",
              "      <td>0</td>\n",
              "      <td>0</td>\n",
              "      <td>0.0</td>\n",
              "      <td>0.0</td>\n",
              "      <td>0.0</td>\n",
              "      <td>1</td>\n",
              "      <td>1</td>\n",
              "      <td>0</td>\n",
              "    </tr>\n",
              "    <tr>\n",
              "      <th>9302</th>\n",
              "      <td>18855</td>\n",
              "      <td>51</td>\n",
              "      <td>10414</td>\n",
              "      <td>52</td>\n",
              "      <td>17.781011</td>\n",
              "      <td>1.0</td>\n",
              "      <td>0.0</td>\n",
              "      <td>1.0</td>\n",
              "      <td>0</td>\n",
              "      <td>0</td>\n",
              "      <td>0</td>\n",
              "      <td>0</td>\n",
              "      <td>0</td>\n",
              "      <td>1</td>\n",
              "      <td>0</td>\n",
              "      <td>0</td>\n",
              "      <td>0</td>\n",
              "      <td>0.0</td>\n",
              "      <td>0.0</td>\n",
              "      <td>0.0</td>\n",
              "      <td>1</td>\n",
              "      <td>0</td>\n",
              "      <td>1</td>\n",
              "    </tr>\n",
              "  </tbody>\n",
              "</table>\n",
              "<p>9303 rows × 23 columns</p>\n",
              "</div>"
            ],
            "text/plain": [
              "      ID_Patient_Care_Situation  ...  Patient_Rural_Urban_RURAL\n",
              "0                         19150  ...                          1\n",
              "1                         23216  ...                          0\n",
              "2                         11890  ...                          1\n",
              "3                          7149  ...                          0\n",
              "4                         22845  ...                          1\n",
              "...                         ...  ...                        ...\n",
              "9298                      18245  ...                          1\n",
              "9299                      15598  ...                          0\n",
              "9300                      11885  ...                          0\n",
              "9301                      25101  ...                          0\n",
              "9302                      18855  ...                          1\n",
              "\n",
              "[9303 rows x 23 columns]"
            ]
          },
          "metadata": {
            "tags": []
          },
          "execution_count": 72
        }
      ]
    },
    {
      "cell_type": "code",
      "metadata": {
        "id": "dMr_9MwMPyTO",
        "colab_type": "code",
        "colab": {}
      },
      "source": [
        "# X=clean_pharma_data.drop('Survived_1_year',axis=1)"
      ],
      "execution_count": 73,
      "outputs": []
    },
    {
      "cell_type": "code",
      "metadata": {
        "id": "9RGSffLo1A5L",
        "colab_type": "code",
        "colab": {}
      },
      "source": [
        "X=clean_pharma_data_relevant_feat.drop('Survived_1_year',axis=1)"
      ],
      "execution_count": 74,
      "outputs": []
    },
    {
      "cell_type": "code",
      "metadata": {
        "id": "RZdY3IZiRobn",
        "colab_type": "code",
        "colab": {
          "base_uri": "https://localhost:8080/",
          "height": 261
        },
        "outputId": "a2ddad1f-e701-427e-f8c5-90d8212152a0"
      },
      "source": [
        "X.head()"
      ],
      "execution_count": 75,
      "outputs": [
        {
          "output_type": "execute_result",
          "data": {
            "text/html": [
              "<div>\n",
              "<style scoped>\n",
              "    .dataframe tbody tr th:only-of-type {\n",
              "        vertical-align: middle;\n",
              "    }\n",
              "\n",
              "    .dataframe tbody tr th {\n",
              "        vertical-align: top;\n",
              "    }\n",
              "\n",
              "    .dataframe thead th {\n",
              "        text-align: right;\n",
              "    }\n",
              "</style>\n",
              "<table border=\"1\" class=\"dataframe\">\n",
              "  <thead>\n",
              "    <tr style=\"text-align: right;\">\n",
              "      <th></th>\n",
              "      <th>ID_Patient_Care_Situation</th>\n",
              "      <th>Diagnosed_Condition</th>\n",
              "      <th>Patient_ID</th>\n",
              "      <th>Patient_Age</th>\n",
              "      <th>Patient_Body_Mass_Index</th>\n",
              "      <th>A</th>\n",
              "      <th>D</th>\n",
              "      <th>Number_of_prev_cond</th>\n",
              "      <th>DX1</th>\n",
              "      <th>DX2</th>\n",
              "      <th>DX3</th>\n",
              "      <th>DX4</th>\n",
              "      <th>DX5</th>\n",
              "      <th>DX6</th>\n",
              "      <th>DX1 DX2</th>\n",
              "      <th>DX1 DX5</th>\n",
              "      <th>DX1 DX2 DX3</th>\n",
              "      <th>(A, C)</th>\n",
              "      <th>(A, D)</th>\n",
              "      <th>(B, C)</th>\n",
              "      <th>n_drugs</th>\n",
              "      <th>Patient_Smoker_NO</th>\n",
              "      <th>Patient_Rural_Urban_RURAL</th>\n",
              "    </tr>\n",
              "  </thead>\n",
              "  <tbody>\n",
              "    <tr>\n",
              "      <th>0</th>\n",
              "      <td>22374</td>\n",
              "      <td>8</td>\n",
              "      <td>3333</td>\n",
              "      <td>56</td>\n",
              "      <td>18.479385</td>\n",
              "      <td>1.0</td>\n",
              "      <td>0.0</td>\n",
              "      <td>2.0</td>\n",
              "      <td>0</td>\n",
              "      <td>0</td>\n",
              "      <td>0</td>\n",
              "      <td>0</td>\n",
              "      <td>0</td>\n",
              "      <td>1</td>\n",
              "      <td>0</td>\n",
              "      <td>0</td>\n",
              "      <td>0</td>\n",
              "      <td>0.0</td>\n",
              "      <td>0.0</td>\n",
              "      <td>0.0</td>\n",
              "      <td>1</td>\n",
              "      <td>0</td>\n",
              "      <td>0</td>\n",
              "    </tr>\n",
              "    <tr>\n",
              "      <th>1</th>\n",
              "      <td>18164</td>\n",
              "      <td>5</td>\n",
              "      <td>5740</td>\n",
              "      <td>36</td>\n",
              "      <td>22.945566</td>\n",
              "      <td>1.0</td>\n",
              "      <td>0.0</td>\n",
              "      <td>1.0</td>\n",
              "      <td>0</td>\n",
              "      <td>1</td>\n",
              "      <td>0</td>\n",
              "      <td>0</td>\n",
              "      <td>0</td>\n",
              "      <td>0</td>\n",
              "      <td>0</td>\n",
              "      <td>0</td>\n",
              "      <td>0</td>\n",
              "      <td>0.0</td>\n",
              "      <td>0.0</td>\n",
              "      <td>0.0</td>\n",
              "      <td>1</td>\n",
              "      <td>0</td>\n",
              "      <td>1</td>\n",
              "    </tr>\n",
              "    <tr>\n",
              "      <th>2</th>\n",
              "      <td>6283</td>\n",
              "      <td>23</td>\n",
              "      <td>10446</td>\n",
              "      <td>48</td>\n",
              "      <td>27.510027</td>\n",
              "      <td>1.0</td>\n",
              "      <td>0.0</td>\n",
              "      <td>1.0</td>\n",
              "      <td>0</td>\n",
              "      <td>0</td>\n",
              "      <td>0</td>\n",
              "      <td>0</td>\n",
              "      <td>0</td>\n",
              "      <td>1</td>\n",
              "      <td>0</td>\n",
              "      <td>0</td>\n",
              "      <td>0</td>\n",
              "      <td>0.0</td>\n",
              "      <td>0.0</td>\n",
              "      <td>0.0</td>\n",
              "      <td>1</td>\n",
              "      <td>0</td>\n",
              "      <td>1</td>\n",
              "    </tr>\n",
              "    <tr>\n",
              "      <th>3</th>\n",
              "      <td>5339</td>\n",
              "      <td>51</td>\n",
              "      <td>12011</td>\n",
              "      <td>5</td>\n",
              "      <td>19.130976</td>\n",
              "      <td>1.0</td>\n",
              "      <td>0.0</td>\n",
              "      <td>1.0</td>\n",
              "      <td>1</td>\n",
              "      <td>0</td>\n",
              "      <td>0</td>\n",
              "      <td>0</td>\n",
              "      <td>0</td>\n",
              "      <td>0</td>\n",
              "      <td>0</td>\n",
              "      <td>0</td>\n",
              "      <td>0</td>\n",
              "      <td>0.0</td>\n",
              "      <td>0.0</td>\n",
              "      <td>0.0</td>\n",
              "      <td>1</td>\n",
              "      <td>1</td>\n",
              "      <td>0</td>\n",
              "    </tr>\n",
              "    <tr>\n",
              "      <th>5</th>\n",
              "      <td>10808</td>\n",
              "      <td>45</td>\n",
              "      <td>7977</td>\n",
              "      <td>47</td>\n",
              "      <td>26.155120</td>\n",
              "      <td>1.0</td>\n",
              "      <td>0.0</td>\n",
              "      <td>1.0</td>\n",
              "      <td>0</td>\n",
              "      <td>0</td>\n",
              "      <td>0</td>\n",
              "      <td>0</td>\n",
              "      <td>0</td>\n",
              "      <td>1</td>\n",
              "      <td>0</td>\n",
              "      <td>0</td>\n",
              "      <td>0</td>\n",
              "      <td>0.0</td>\n",
              "      <td>0.0</td>\n",
              "      <td>0.0</td>\n",
              "      <td>1</td>\n",
              "      <td>0</td>\n",
              "      <td>0</td>\n",
              "    </tr>\n",
              "  </tbody>\n",
              "</table>\n",
              "</div>"
            ],
            "text/plain": [
              "   ID_Patient_Care_Situation  ...  Patient_Rural_Urban_RURAL\n",
              "0                      22374  ...                          0\n",
              "1                      18164  ...                          1\n",
              "2                       6283  ...                          1\n",
              "3                       5339  ...                          0\n",
              "5                      10808  ...                          0\n",
              "\n",
              "[5 rows x 23 columns]"
            ]
          },
          "metadata": {
            "tags": []
          },
          "execution_count": 75
        }
      ]
    },
    {
      "cell_type": "code",
      "metadata": {
        "id": "TyAS6GWAPyjR",
        "colab_type": "code",
        "colab": {}
      },
      "source": [
        "# y=clean_pharma_data['Survived_1_year']"
      ],
      "execution_count": 76,
      "outputs": []
    },
    {
      "cell_type": "code",
      "metadata": {
        "id": "OmZJQqbJ1Prs",
        "colab_type": "code",
        "colab": {}
      },
      "source": [
        "y=clean_pharma_data_relevant_feat['Survived_1_year']"
      ],
      "execution_count": 77,
      "outputs": []
    },
    {
      "cell_type": "code",
      "metadata": {
        "id": "9vXKcXcBR-uS",
        "colab_type": "code",
        "colab": {
          "base_uri": "https://localhost:8080/",
          "height": 237
        },
        "outputId": "95e514a1-6401-42df-f3b5-cfd8cb20b731"
      },
      "source": [
        "y"
      ],
      "execution_count": 78,
      "outputs": [
        {
          "output_type": "execute_result",
          "data": {
            "text/plain": [
              "0        0\n",
              "1        1\n",
              "2        0\n",
              "3        1\n",
              "5        0\n",
              "        ..\n",
              "23092    0\n",
              "23093    1\n",
              "23094    0\n",
              "23095    1\n",
              "23096    0\n",
              "Name: Survived_1_year, Length: 23084, dtype: int64"
            ]
          },
          "metadata": {
            "tags": []
          },
          "execution_count": 78
        }
      ]
    },
    {
      "cell_type": "code",
      "metadata": {
        "id": "a_iLzOqh_C-4",
        "colab_type": "code",
        "colab": {}
      },
      "source": [
        "from sklearn.model_selection import train_test_split"
      ],
      "execution_count": 79,
      "outputs": []
    },
    {
      "cell_type": "code",
      "metadata": {
        "id": "2PrQQOJVZIub",
        "colab_type": "code",
        "colab": {}
      },
      "source": [
        "X_train,X_test,y_train,y_test=train_test_split(X,y,test_size=0.3,random_state=99)"
      ],
      "execution_count": 178,
      "outputs": []
    },
    {
      "cell_type": "code",
      "metadata": {
        "id": "UYNQP-CEM1Bm",
        "colab_type": "code",
        "colab": {
          "base_uri": "https://localhost:8080/",
          "height": 237
        },
        "outputId": "97156416-6940-44ec-dd91-1c50c8821e0e"
      },
      "source": [
        "y_train"
      ],
      "execution_count": 179,
      "outputs": [
        {
          "output_type": "execute_result",
          "data": {
            "text/plain": [
              "10018    1\n",
              "6400     0\n",
              "5878     1\n",
              "9863     1\n",
              "12691    0\n",
              "        ..\n",
              "21584    1\n",
              "1770     0\n",
              "9936     1\n",
              "3244     1\n",
              "13507    1\n",
              "Name: Survived_1_year, Length: 16158, dtype: int64"
            ]
          },
          "metadata": {
            "tags": []
          },
          "execution_count": 179
        }
      ]
    },
    {
      "cell_type": "code",
      "metadata": {
        "id": "ZWvh___Niltp",
        "colab_type": "code",
        "colab": {}
      },
      "source": [
        "from sklearn.linear_model import LogisticRegression\n",
        "from sklearn.tree import DecisionTreeClassifier\n",
        "from sklearn.ensemble import RandomForestClassifier\n",
        "from sklearn.naive_bayes import GaussianNB\n",
        "from sklearn.linear_model import SGDClassifier\n",
        "from sklearn.neighbors import KNeighborsClassifier\n",
        "from sklearn.pipeline import make_pipeline\n",
        "from sklearn.preprocessing import StandardScaler\n",
        "from sklearn.svm import SVC\n",
        "from sklearn.metrics import f1_score\n",
        "from sklearn.model_selection import cross_validate\n",
        "import sklearn.metrics\n",
        "from sklearn.model_selection import GridSearchCV\n",
        "from sklearn.model_selection import RandomizedSearchCV\n",
        "from sklearn.neural_network import MLPClassifier"
      ],
      "execution_count": 180,
      "outputs": []
    },
    {
      "cell_type": "code",
      "metadata": {
        "id": "e7ARHWX9shoi",
        "colab_type": "code",
        "colab": {}
      },
      "source": [
        "LogReg=make_pipeline(StandardScaler(),LogisticRegression(max_iter=1000,C=0.0018329807108324356,fit_intercept=True,penalty='l2',solver='lbfgs'))"
      ],
      "execution_count": 181,
      "outputs": []
    },
    {
      "cell_type": "code",
      "metadata": {
        "id": "XQ95sbfMTfCZ",
        "colab_type": "code",
        "colab": {
          "base_uri": "https://localhost:8080/",
          "height": 237
        },
        "outputId": "5f9ab128-bb70-4107-8db8-eb1db3c9b2ad"
      },
      "source": [
        "LogReg.fit(X_train,y_train)"
      ],
      "execution_count": 182,
      "outputs": [
        {
          "output_type": "execute_result",
          "data": {
            "text/plain": [
              "Pipeline(memory=None,\n",
              "         steps=[('standardscaler',\n",
              "                 StandardScaler(copy=True, with_mean=True, with_std=True)),\n",
              "                ('logisticregression',\n",
              "                 LogisticRegression(C=0.0018329807108324356, class_weight=None,\n",
              "                                    dual=False, fit_intercept=True,\n",
              "                                    intercept_scaling=1, l1_ratio=None,\n",
              "                                    max_iter=1000, multi_class='auto',\n",
              "                                    n_jobs=None, penalty='l2',\n",
              "                                    random_state=None, solver='lbfgs',\n",
              "                                    tol=0.0001, verbose=0, warm_start=False))],\n",
              "         verbose=False)"
            ]
          },
          "metadata": {
            "tags": []
          },
          "execution_count": 182
        }
      ]
    },
    {
      "cell_type": "code",
      "metadata": {
        "id": "b6PTI19QTvFh",
        "colab_type": "code",
        "colab": {}
      },
      "source": [
        "y_LogReg=LogReg.predict(X_test)"
      ],
      "execution_count": 183,
      "outputs": []
    },
    {
      "cell_type": "code",
      "metadata": {
        "id": "Tu1gMi7ITvIY",
        "colab_type": "code",
        "colab": {
          "base_uri": "https://localhost:8080/",
          "height": 35
        },
        "outputId": "040a0e99-00ce-47e3-c79a-e342788ab7d6"
      },
      "source": [
        "f1_test_LogReg=f1_score(y_test,y_LogReg)\n",
        "f1_test_LogReg"
      ],
      "execution_count": 184,
      "outputs": [
        {
          "output_type": "execute_result",
          "data": {
            "text/plain": [
              "0.8050793650793652"
            ]
          },
          "metadata": {
            "tags": []
          },
          "execution_count": 184
        }
      ]
    },
    {
      "cell_type": "code",
      "metadata": {
        "id": "7oc8CA8YDayh",
        "colab_type": "code",
        "colab": {}
      },
      "source": [
        "# cv_LogReg=cross_validate(LogReg,X_train,y_train,cv=10,scoring=['f1'])\n",
        "# cv_LogReg"
      ],
      "execution_count": 185,
      "outputs": []
    },
    {
      "cell_type": "code",
      "metadata": {
        "id": "RYguGHadG-xH",
        "colab_type": "code",
        "colab": {}
      },
      "source": [
        "# f1_LogReg=cv_LogReg['test_f1'].mean()\n",
        "# f1_LogReg"
      ],
      "execution_count": 89,
      "outputs": []
    },
    {
      "cell_type": "code",
      "metadata": {
        "id": "JZgP9-yAFNup",
        "colab_type": "code",
        "colab": {}
      },
      "source": [
        "# sorted(sklearn.metrics.SCORERS.keys())"
      ],
      "execution_count": 90,
      "outputs": []
    },
    {
      "cell_type": "code",
      "metadata": {
        "id": "nb8UApuiUzJM",
        "colab_type": "code",
        "colab": {}
      },
      "source": [
        "# params={'penalty': ['l1', 'l2', 'elasticnet', 'none'],\n",
        "#         'C':np.logspace(-4, 4, 20),\n",
        "#         'fit_intercept':[True,False],\n",
        "#         'solver':['lbfgs', 'liblinear', 'sag', 'saga']\n",
        "# }"
      ],
      "execution_count": 91,
      "outputs": []
    },
    {
      "cell_type": "code",
      "metadata": {
        "id": "ZKJEP5CfZTGw",
        "colab_type": "code",
        "colab": {}
      },
      "source": [
        "# LogReg_random=GridSearchCV(LogReg,params,scoring='f1',n_jobs=-1)"
      ],
      "execution_count": 92,
      "outputs": []
    },
    {
      "cell_type": "code",
      "metadata": {
        "id": "D6lcCq8QZSQ-",
        "colab_type": "code",
        "colab": {}
      },
      "source": [
        "# LogReg_random.fit(X_train,y_train)"
      ],
      "execution_count": 93,
      "outputs": []
    },
    {
      "cell_type": "code",
      "metadata": {
        "id": "KKha645PaRGi",
        "colab_type": "code",
        "colab": {}
      },
      "source": [
        "# LogReg_random.best_params_"
      ],
      "execution_count": 94,
      "outputs": []
    },
    {
      "cell_type": "code",
      "metadata": {
        "id": "bf16LDGVaROp",
        "colab_type": "code",
        "colab": {}
      },
      "source": [
        "RanFor=make_pipeline(StandardScaler(),RandomForestClassifier(bootstrap=False,criterion='entropy',max_depth=10,min_samples_leaf=8,\n",
        "                              min_samples_split=10,n_estimators=180,class_weight=None,max_features='log2',\n",
        "                              oob_score=False,random_state=99))"
      ],
      "execution_count": 95,
      "outputs": []
    },
    {
      "cell_type": "code",
      "metadata": {
        "id": "QH3QHLivTvZC",
        "colab_type": "code",
        "colab": {
          "base_uri": "https://localhost:8080/",
          "height": 329
        },
        "outputId": "24ce5d17-2eb9-49f0-db4b-9fa9a96d0650"
      },
      "source": [
        "RanFor.fit(X_train,y_train)"
      ],
      "execution_count": 96,
      "outputs": [
        {
          "output_type": "execute_result",
          "data": {
            "text/plain": [
              "Pipeline(memory=None,\n",
              "         steps=[('standardscaler',\n",
              "                 StandardScaler(copy=True, with_mean=True, with_std=True)),\n",
              "                ('randomforestclassifier',\n",
              "                 RandomForestClassifier(bootstrap=False, ccp_alpha=0.0,\n",
              "                                        class_weight=None, criterion='entropy',\n",
              "                                        max_depth=10, max_features='log2',\n",
              "                                        max_leaf_nodes=None, max_samples=None,\n",
              "                                        min_impurity_decrease=0.0,\n",
              "                                        min_impurity_split=None,\n",
              "                                        min_samples_leaf=8,\n",
              "                                        min_samples_split=10,\n",
              "                                        min_weight_fraction_leaf=0.0,\n",
              "                                        n_estimators=180, n_jobs=None,\n",
              "                                        oob_score=False, random_state=99,\n",
              "                                        verbose=0, warm_start=False))],\n",
              "         verbose=False)"
            ]
          },
          "metadata": {
            "tags": []
          },
          "execution_count": 96
        }
      ]
    },
    {
      "cell_type": "code",
      "metadata": {
        "id": "8xED8WyUTvcs",
        "colab_type": "code",
        "colab": {}
      },
      "source": [
        "y_RanFor=RanFor.predict(X_test)"
      ],
      "execution_count": 97,
      "outputs": []
    },
    {
      "cell_type": "code",
      "metadata": {
        "id": "UQ6E0byHTvf4",
        "colab_type": "code",
        "colab": {
          "base_uri": "https://localhost:8080/",
          "height": 35
        },
        "outputId": "89d6550c-0b34-439d-e1a7-c7caf479b987"
      },
      "source": [
        "f1_test_RanFor=f1_score(y_test,y_RanFor)\n",
        "f1_test_RanFor"
      ],
      "execution_count": 99,
      "outputs": [
        {
          "output_type": "execute_result",
          "data": {
            "text/plain": [
              "0.8596063120221246"
            ]
          },
          "metadata": {
            "tags": []
          },
          "execution_count": 99
        }
      ]
    },
    {
      "cell_type": "code",
      "metadata": {
        "colab_type": "code",
        "id": "rGtIzxDtKO_6",
        "colab": {}
      },
      "source": [
        "# cv_RanFor=cross_validate(RanFor,X_train,y_train,cv=10,scoring=['f1'])\n",
        "# cv_RanFor"
      ],
      "execution_count": 100,
      "outputs": []
    },
    {
      "cell_type": "code",
      "metadata": {
        "colab_type": "code",
        "id": "XyRfG6lUKPAF",
        "colab": {}
      },
      "source": [
        "# f1_RanFor=cv_RanFor['test_f1'].mean()\n",
        "# f1_RanFor"
      ],
      "execution_count": 101,
      "outputs": []
    },
    {
      "cell_type": "code",
      "metadata": {
        "id": "RIhhTvGClkmA",
        "colab_type": "code",
        "colab": {}
      },
      "source": [
        "# RanFor.get_params"
      ],
      "execution_count": 102,
      "outputs": []
    },
    {
      "cell_type": "code",
      "metadata": {
        "colab_type": "code",
        "id": "USQR-nwglR_W",
        "colab": {}
      },
      "source": [
        "# params={\n",
        "#  'max_depth':  [10],                                          # rand: [10, 20, 30, 40, 50, 60, None]                        # full: [8,9, 10,11, 12]\n",
        "#  'min_samples_leaf': [2],                                     # rand: range(1,10)                                           # full:[2,3,4, 5, 6]\n",
        "#  'min_samples_split': [10],                                   # rand: range(1,10)                                           # full: [8, 9, 10,11]\n",
        "#  'n_estimators': [180],                                      # rand: [100, 200, 400, 600, 800, 1000, 1400, 2000]            # full: [100,150,180, 200, 220,400]\n",
        "#  'criterion': ['entropy'],                                                                                                  # full: ['gini','entropy']\n",
        "#  'bootstrap': [False],                                                                                                      # full: [True, False]\n",
        "#  'max_features': ['log2'],                                                                                                  # full: ['auto','sqrt','log2']\n",
        "#  'class_weight': [None],                                                                                                    # full: ['balanced','balanced_subsample', None]\n",
        "#  'oob_score': [False]                                                                                                       # full: [True,False]\n",
        "# }"
      ],
      "execution_count": 103,
      "outputs": []
    },
    {
      "cell_type": "code",
      "metadata": {
        "id": "NUFeI1IpXxTE",
        "colab_type": "code",
        "colab": {}
      },
      "source": [
        ""
      ],
      "execution_count": 103,
      "outputs": []
    },
    {
      "cell_type": "code",
      "metadata": {
        "colab_type": "code",
        "id": "9fFlkz2OlR_h",
        "colab": {}
      },
      "source": [
        "# RanFor_random=RandomizedSearchCV(RanFor,params, cv = 3,scoring='f1',n_jobs=-1)"
      ],
      "execution_count": 104,
      "outputs": []
    },
    {
      "cell_type": "code",
      "metadata": {
        "colab_type": "code",
        "id": "sO1qmF00lR_o",
        "colab": {}
      },
      "source": [
        "# RanFor_random.fit(X_train,y_train)"
      ],
      "execution_count": 105,
      "outputs": []
    },
    {
      "cell_type": "code",
      "metadata": {
        "colab_type": "code",
        "id": "F_OxD5gJlR_u",
        "colab": {}
      },
      "source": [
        "# RanFor_random.best_params_"
      ],
      "execution_count": 106,
      "outputs": []
    },
    {
      "cell_type": "code",
      "metadata": {
        "id": "z4BaoTqezTxj",
        "colab_type": "code",
        "colab": {}
      },
      "source": [
        ""
      ],
      "execution_count": 106,
      "outputs": []
    },
    {
      "cell_type": "code",
      "metadata": {
        "id": "kgAF4IJqzS59",
        "colab_type": "code",
        "colab": {}
      },
      "source": [
        ""
      ],
      "execution_count": 106,
      "outputs": []
    },
    {
      "cell_type": "code",
      "metadata": {
        "id": "I9pY4eY9Tk_U",
        "colab_type": "code",
        "colab": {}
      },
      "source": [
        "Stan_SVC=make_pipeline(StandardScaler(),SVC(gamma='auto'))"
      ],
      "execution_count": 107,
      "outputs": []
    },
    {
      "cell_type": "code",
      "metadata": {
        "id": "oonbJoHzVdBJ",
        "colab_type": "code",
        "colab": {
          "base_uri": "https://localhost:8080/",
          "height": 201
        },
        "outputId": "33db7d3a-b6e8-4711-d789-93fd5b7afdc1"
      },
      "source": [
        "Stan_SVC.fit(X_train,y_train)"
      ],
      "execution_count": 108,
      "outputs": [
        {
          "output_type": "execute_result",
          "data": {
            "text/plain": [
              "Pipeline(memory=None,\n",
              "         steps=[('standardscaler',\n",
              "                 StandardScaler(copy=True, with_mean=True, with_std=True)),\n",
              "                ('svc',\n",
              "                 SVC(C=1.0, break_ties=False, cache_size=200, class_weight=None,\n",
              "                     coef0=0.0, decision_function_shape='ovr', degree=3,\n",
              "                     gamma='auto', kernel='rbf', max_iter=-1, probability=False,\n",
              "                     random_state=None, shrinking=True, tol=0.001,\n",
              "                     verbose=False))],\n",
              "         verbose=False)"
            ]
          },
          "metadata": {
            "tags": []
          },
          "execution_count": 108
        }
      ]
    },
    {
      "cell_type": "code",
      "metadata": {
        "id": "DeALILDqVdLA",
        "colab_type": "code",
        "colab": {}
      },
      "source": [
        "y_Stan_SVC=Stan_SVC.predict(X_test)"
      ],
      "execution_count": 109,
      "outputs": []
    },
    {
      "cell_type": "code",
      "metadata": {
        "id": "goPisOHWVdO_",
        "colab_type": "code",
        "colab": {
          "base_uri": "https://localhost:8080/",
          "height": 35
        },
        "outputId": "a617f662-df48-43e1-f856-10e0864fbdf9"
      },
      "source": [
        "f1_test_Stan_SVC=f1_score(y_test,y_Stan_SVC)\n",
        "f1_test_Stan_SVC"
      ],
      "execution_count": 110,
      "outputs": [
        {
          "output_type": "execute_result",
          "data": {
            "text/plain": [
              "0.8426174496644295"
            ]
          },
          "metadata": {
            "tags": []
          },
          "execution_count": 110
        }
      ]
    },
    {
      "cell_type": "code",
      "metadata": {
        "colab_type": "code",
        "id": "GNrGJeZOKpxE",
        "colab": {}
      },
      "source": [
        "# cv_Stan_SVC=cross_validate(Stan_SVC,X_train,y_train,cv=10,scoring=['f1'])\n",
        "# cv_Stan_SVC"
      ],
      "execution_count": 111,
      "outputs": []
    },
    {
      "cell_type": "code",
      "metadata": {
        "colab_type": "code",
        "id": "SxW68MW7KpxO",
        "colab": {}
      },
      "source": [
        "# f1_Stan_SVC=cv_Stan_SVC['test_f1'].mean()\n",
        "# f1_Stan_SVC"
      ],
      "execution_count": 112,
      "outputs": []
    },
    {
      "cell_type": "code",
      "metadata": {
        "id": "jlrfiEDdr8Od",
        "colab_type": "code",
        "colab": {}
      },
      "source": [
        "Neur_Net=make_pipeline(StandardScaler(),MLPClassifier(activation='relu',alpha=0.0001,hidden_layer_sizes=(100,),learning_rate='adaptive',solver='adam',max_iter=1000))"
      ],
      "execution_count": 113,
      "outputs": []
    },
    {
      "cell_type": "code",
      "metadata": {
        "id": "l0tpI5hMpAcA",
        "colab_type": "code",
        "colab": {
          "base_uri": "https://localhost:8080/",
          "height": 311
        },
        "outputId": "b0025fe2-715e-4e91-92e8-a760ce1128ff"
      },
      "source": [
        "Neur_Net.fit(X_train,y_train)"
      ],
      "execution_count": 115,
      "outputs": [
        {
          "output_type": "execute_result",
          "data": {
            "text/plain": [
              "Pipeline(memory=None,\n",
              "         steps=[('standardscaler',\n",
              "                 StandardScaler(copy=True, with_mean=True, with_std=True)),\n",
              "                ('mlpclassifier',\n",
              "                 MLPClassifier(activation='relu', alpha=0.0001,\n",
              "                               batch_size='auto', beta_1=0.9, beta_2=0.999,\n",
              "                               early_stopping=False, epsilon=1e-08,\n",
              "                               hidden_layer_sizes=(100,),\n",
              "                               learning_rate='adaptive',\n",
              "                               learning_rate_init=0.001, max_fun=15000,\n",
              "                               max_iter=1000, momentum=0.9, n_iter_no_change=10,\n",
              "                               nesterovs_momentum=True, power_t=0.5,\n",
              "                               random_state=None, shuffle=True, solver='adam',\n",
              "                               tol=0.0001, validation_fraction=0.1,\n",
              "                               verbose=False, warm_start=False))],\n",
              "         verbose=False)"
            ]
          },
          "metadata": {
            "tags": []
          },
          "execution_count": 115
        }
      ]
    },
    {
      "cell_type": "code",
      "metadata": {
        "id": "hSJKfYV8pAiU",
        "colab_type": "code",
        "colab": {}
      },
      "source": [
        "y_Neur_Net=Neur_Net.predict(X_test)"
      ],
      "execution_count": 116,
      "outputs": []
    },
    {
      "cell_type": "code",
      "metadata": {
        "id": "DDzicbcrpAnU",
        "colab_type": "code",
        "colab": {
          "base_uri": "https://localhost:8080/",
          "height": 35
        },
        "outputId": "651433e5-7385-4e9d-8f28-e2bc39323983"
      },
      "source": [
        "f1_test_Neur_Net=f1_score(y_test,y_Neur_Net)\n",
        "f1_test_Neur_Net"
      ],
      "execution_count": 117,
      "outputs": [
        {
          "output_type": "execute_result",
          "data": {
            "text/plain": [
              "0.8397414086423953"
            ]
          },
          "metadata": {
            "tags": []
          },
          "execution_count": 117
        }
      ]
    },
    {
      "cell_type": "code",
      "metadata": {
        "id": "AOeorJSCpcXu",
        "colab_type": "code",
        "colab": {}
      },
      "source": [
        "# params = {\n",
        "#     'hidden_layer_sizes': [(200,), (150,), (300,)],\n",
        "#     'activation': ['identity', 'logistic'],\n",
        "#     'solver': ['lbfgs', 'adam'],\n",
        "#     'alpha': [0.0002, 0.00005],\n",
        "#     'learning_rate': ['invscaling','adaptive'],\n",
        "# }"
      ],
      "execution_count": 118,
      "outputs": []
    },
    {
      "cell_type": "code",
      "metadata": {
        "colab_type": "code",
        "id": "R8jDrI__9_0I",
        "colab": {}
      },
      "source": [
        "# Neur_Net_random=RandomizedSearchCV(Neur_Net,params,n_iter = 100, cv = 3,scoring='f1',n_jobs=-1,random_state=99)"
      ],
      "execution_count": 119,
      "outputs": []
    },
    {
      "cell_type": "code",
      "metadata": {
        "colab_type": "code",
        "id": "yjN2cKuJ9_0U",
        "colab": {}
      },
      "source": [
        "# Neur_Net_random.fit(X_train,y_train)"
      ],
      "execution_count": 120,
      "outputs": []
    },
    {
      "cell_type": "code",
      "metadata": {
        "colab_type": "code",
        "id": "zYl7oyYU9_0c",
        "colab": {}
      },
      "source": [
        "# Neur_Net_random.best_params_"
      ],
      "execution_count": 121,
      "outputs": []
    },
    {
      "cell_type": "code",
      "metadata": {
        "id": "XjsYpp_CpcbF",
        "colab_type": "code",
        "colab": {}
      },
      "source": [
        ""
      ],
      "execution_count": 121,
      "outputs": []
    },
    {
      "cell_type": "code",
      "metadata": {
        "id": "ze8SkPCqPBZh",
        "colab_type": "code",
        "colab": {}
      },
      "source": [
        "import xgboost"
      ],
      "execution_count": 122,
      "outputs": []
    },
    {
      "cell_type": "code",
      "metadata": {
        "colab_type": "code",
        "id": "2squ6kFGUBP6",
        "colab": {}
      },
      "source": [
        "# params = {\n",
        "#                       'silent':[False], \n",
        "#                       'scale_pos_weight':[1],\n",
        "#                       'learning_rate':[0.2],  \n",
        "#                       'subsample':[0.9],\n",
        "#                       'colsample_bytree':[0.4],\n",
        "#                       'objective':['binary:logistic'], \n",
        "#                       'n_estimators':[1000], \n",
        "#                       'reg_alpha':[0.3],\n",
        "#                       'max_depth':[4],\n",
        "#                       'min_child_weight':[1], \n",
        "#                       'booster':['gbtree'],\n",
        "#                       'importance_type':['gain'],\n",
        "#                       'gamma':[7]\n",
        "# }"
      ],
      "execution_count": 123,
      "outputs": []
    },
    {
      "cell_type": "code",
      "metadata": {
        "colab_type": "code",
        "id": "PRe0TROxUBQB",
        "colab": {}
      },
      "source": [
        "# xgboh_random=GridSearchCV(xgboh,params, cv = 3,scoring='f1',n_jobs=-1)"
      ],
      "execution_count": 124,
      "outputs": []
    },
    {
      "cell_type": "code",
      "metadata": {
        "id": "FYq1VUpTPBdj",
        "colab_type": "code",
        "colab": {}
      },
      "source": [
        "xgboh=xgboost.XGBClassifier(silent=False, \n",
        "                      scale_pos_weight=1,\n",
        "                      learning_rate=0.2,  \n",
        "                      colsample_bytree = 0.3,\n",
        "                      subsample = 0.8,\n",
        "                      objective= 'binary:logistic', \n",
        "                      n_estimators=1000, \n",
        "                      reg_alpha = 0.3,\n",
        "                      max_depth=4,\n",
        "                      min_child_weight=3, \n",
        "                      booster='gbtree',\n",
        "                      importance_type='gain',\n",
        "                      gamma=7)\n",
        "\n",
        "\n",
        "# xgboh=xgboost.XGBClassifier(silent=False, \n",
        "#                       scale_pos_weight=1,\n",
        "#                       learning_rate=0.2,  \n",
        "#                       colsample_bytree = 0.4,\n",
        "#                       subsample = 0.9,\n",
        "#                       objective='binary:logistic', \n",
        "#                       n_estimators=1000, \n",
        "#                       reg_alpha = 0.3,\n",
        "#                       max_depth=4,\n",
        "#                       min_child_weight=1, \n",
        "#                       booster='gbtree',\n",
        "#                       importance_type='gain',\n",
        "#                       gamma=7)"
      ],
      "execution_count": 168,
      "outputs": []
    },
    {
      "cell_type": "code",
      "metadata": {
        "colab_type": "code",
        "id": "6PRUlTLOWEkI",
        "colab": {}
      },
      "source": [
        "# xgboh_random.fit(X_train,y_train)"
      ],
      "execution_count": 169,
      "outputs": []
    },
    {
      "cell_type": "code",
      "metadata": {
        "colab_type": "code",
        "id": "_innFMR_WEkO",
        "colab": {}
      },
      "source": [
        "# xgboh_random.best_params_"
      ],
      "execution_count": 170,
      "outputs": []
    },
    {
      "cell_type": "code",
      "metadata": {
        "id": "W9bi3TrrWfpo",
        "colab_type": "code",
        "colab": {}
      },
      "source": [
        "# xgboh_random.best_score_"
      ],
      "execution_count": 171,
      "outputs": []
    },
    {
      "cell_type": "code",
      "metadata": {
        "id": "hSeLQubhPc15",
        "colab_type": "code",
        "colab": {
          "base_uri": "https://localhost:8080/",
          "height": 146
        },
        "outputId": "e3a197d3-df31-46b9-f09a-5117206fcf9c"
      },
      "source": [
        "xgboh.fit(X_train,y_train)"
      ],
      "execution_count": 186,
      "outputs": [
        {
          "output_type": "execute_result",
          "data": {
            "text/plain": [
              "XGBClassifier(base_score=0.5, booster='gbtree', colsample_bylevel=1,\n",
              "              colsample_bynode=1, colsample_bytree=0.3, gamma=7,\n",
              "              learning_rate=0.2, max_delta_step=0, max_depth=4,\n",
              "              min_child_weight=3, missing=None, n_estimators=1000, n_jobs=1,\n",
              "              nthread=None, objective='binary:logistic', random_state=0,\n",
              "              reg_alpha=0.3, reg_lambda=1, scale_pos_weight=1, seed=None,\n",
              "              silent=False, subsample=0.8, verbosity=1)"
            ]
          },
          "metadata": {
            "tags": []
          },
          "execution_count": 186
        }
      ]
    },
    {
      "cell_type": "code",
      "metadata": {
        "id": "teKxzq6OPc7n",
        "colab_type": "code",
        "colab": {}
      },
      "source": [
        "y_xgb=xgboh.predict(X_test)"
      ],
      "execution_count": 187,
      "outputs": []
    },
    {
      "cell_type": "code",
      "metadata": {
        "id": "KZYXE80TQmQq",
        "colab_type": "code",
        "colab": {}
      },
      "source": [
        "y_new=xgboh.predict(X_new)"
      ],
      "execution_count": 190,
      "outputs": []
    },
    {
      "cell_type": "code",
      "metadata": {
        "id": "fTi_R4ExPc_C",
        "colab_type": "code",
        "colab": {
          "base_uri": "https://localhost:8080/",
          "height": 35
        },
        "outputId": "08a13262-ecb6-4279-c043-9f1d12e7eafb"
      },
      "source": [
        "f1_test_xgb=f1_score(y_test,y_xgb)\n",
        "f1_test_xgb"
      ],
      "execution_count": 189,
      "outputs": [
        {
          "output_type": "execute_result",
          "data": {
            "text/plain": [
              "0.8720785819126115"
            ]
          },
          "metadata": {
            "tags": []
          },
          "execution_count": 189
        }
      ]
    },
    {
      "cell_type": "code",
      "metadata": {
        "id": "JbMWj4qkdkDj",
        "colab_type": "code",
        "colab": {}
      },
      "source": [
        "y_hat=xgboh.predict_proba(X_test)"
      ],
      "execution_count": 133,
      "outputs": []
    },
    {
      "cell_type": "code",
      "metadata": {
        "id": "XQ3q5e8PeUA7",
        "colab_type": "code",
        "colab": {}
      },
      "source": [
        "from sklearn.metrics import roc_auc_score\n",
        "from sklearn.metrics import roc_curve"
      ],
      "execution_count": 134,
      "outputs": []
    },
    {
      "cell_type": "code",
      "metadata": {
        "id": "KcMpoy03eUHY",
        "colab_type": "code",
        "colab": {}
      },
      "source": [
        "y_hat=y_hat[:,1]"
      ],
      "execution_count": 135,
      "outputs": []
    },
    {
      "cell_type": "code",
      "metadata": {
        "id": "QPeQv4KFgQ0o",
        "colab_type": "code",
        "colab": {
          "base_uri": "https://localhost:8080/",
          "height": 35
        },
        "outputId": "4db17446-66de-48ab-fb6d-8703aacf1baa"
      },
      "source": [
        "y_xgb"
      ],
      "execution_count": 136,
      "outputs": [
        {
          "output_type": "execute_result",
          "data": {
            "text/plain": [
              "array([1, 1, 0, ..., 1, 1, 1], dtype=int64)"
            ]
          },
          "metadata": {
            "tags": []
          },
          "execution_count": 136
        }
      ]
    },
    {
      "cell_type": "code",
      "metadata": {
        "id": "GlOZOSRogQ3X",
        "colab_type": "code",
        "colab": {}
      },
      "source": [
        "fpr,tpr, thresholds = roc_curve(y_test,y_hat)"
      ],
      "execution_count": 137,
      "outputs": []
    },
    {
      "cell_type": "code",
      "metadata": {
        "id": "05F7vztYgQ6R",
        "colab_type": "code",
        "colab": {
          "base_uri": "https://localhost:8080/",
          "height": 606
        },
        "outputId": "f9ac687e-aa98-40c0-b402-769c8fb6399b"
      },
      "source": [
        "fig=plt.subplots(figsize=[12,10])\n",
        "plt.plot([0,1],[0,1],linestyle='--',label='No Skill')\n",
        "plt.plot(fpr,tpr,marker='.',label='XGBoost')\n",
        "plt.xlabel('False Positive Rate')\n",
        "plt.ylabel('True Positive Rate')\n",
        "plt.show()"
      ],
      "execution_count": 138,
      "outputs": [
        {
          "output_type": "display_data",
          "data": {
            "image/png": "[encoded data removed]",
            "text/plain": [
              "<Figure size 864x720 with 1 Axes>"
            ]
          },
          "metadata": {
            "tags": [],
            "needs_background": "light"
          }
        }
      ]
    },
    {
      "cell_type": "code",
      "metadata": {
        "id": "l5EKtMmphFu6",
        "colab_type": "code",
        "colab": {}
      },
      "source": [
        ""
      ],
      "execution_count": 138,
      "outputs": []
    },
    {
      "cell_type": "code",
      "metadata": {
        "id": "7gYprlKAhFxW",
        "colab_type": "code",
        "colab": {}
      },
      "source": [
        "from sklearn.metrics import precision_recall_curve"
      ],
      "execution_count": 139,
      "outputs": []
    },
    {
      "cell_type": "code",
      "metadata": {
        "id": "uba-O711hFz4",
        "colab_type": "code",
        "colab": {}
      },
      "source": [
        "precision, recall, thresholds= precision_recall_curve(y_test,y_hat)"
      ],
      "execution_count": 140,
      "outputs": []
    },
    {
      "cell_type": "code",
      "metadata": {
        "id": "AeZe0GLkiTg4",
        "colab_type": "code",
        "colab": {}
      },
      "source": [
        "no_skill=len(y_test[y_test==1])/len(y_test)"
      ],
      "execution_count": 141,
      "outputs": []
    },
    {
      "cell_type": "code",
      "metadata": {
        "id": "pAKYHzveiTjO",
        "colab_type": "code",
        "colab": {
          "base_uri": "https://localhost:8080/",
          "height": 606
        },
        "outputId": "3d2f9ed6-7d36-4d51-f88c-5ee5aaa120da"
      },
      "source": [
        "fig=plt.subplots(figsize=[12,10])\n",
        "plt.plot([0,1],[no_skill,no_skill],linestyle='--',label='No Skill')\n",
        "plt.plot(recall,precision,marker='.',label='XGBoost')\n",
        "plt.xlabel('Recall')\n",
        "plt.ylabel('Precision')\n",
        "plt.show()"
      ],
      "execution_count": 142,
      "outputs": [
        {
          "output_type": "display_data",
          "data": {
            "image/png": "[encoded data removed]",
            "text/plain": [
              "<Figure size 864x720 with 1 Axes>"
            ]
          },
          "metadata": {
            "tags": [],
            "needs_background": "light"
          }
        }
      ]
    },
    {
      "cell_type": "code",
      "metadata": {
        "id": "x2EaLB0EiTmF",
        "colab_type": "code",
        "colab": {}
      },
      "source": [
        "fscore=(2*precision*recall)/(precision+recall)"
      ],
      "execution_count": 143,
      "outputs": []
    },
    {
      "cell_type": "code",
      "metadata": {
        "id": "o1GSp5GMiTof",
        "colab_type": "code",
        "colab": {
          "base_uri": "https://localhost:8080/",
          "height": 35
        },
        "outputId": "575e5367-cd89-4e88-cce6-f7fbc8dbe23e"
      },
      "source": [
        "ix=np.argmax(fscore)\n",
        "print('Best Threshold = %f, F1-score = %.3f' % (thresholds[ix],fscore[ix]))"
      ],
      "execution_count": 144,
      "outputs": [
        {
          "output_type": "stream",
          "text": [
            "Best Threshold = 0.401211, F1-score = 0.878\n"
          ],
          "name": "stdout"
        }
      ]
    },
    {
      "cell_type": "code",
      "metadata": {
        "id": "GL7mH4sziTq4",
        "colab_type": "code",
        "colab": {}
      },
      "source": [
        "y_xgb_thresh= np.zeros(len(y_xgb))"
      ],
      "execution_count": 145,
      "outputs": []
    },
    {
      "cell_type": "code",
      "metadata": {
        "id": "f1sujH5qgQ9Q",
        "colab_type": "code",
        "colab": {}
      },
      "source": [
        "for i in range(0,len(y_xgb)):\n",
        "  if y_hat[i] <= 0.432029:\n",
        "    y_xgb_thresh[i] = 0\n",
        "  else:\n",
        "    y_xgb_thresh[i] = 1"
      ],
      "execution_count": 146,
      "outputs": []
    },
    {
      "cell_type": "code",
      "metadata": {
        "id": "z1xMugnQgRAC",
        "colab_type": "code",
        "colab": {
          "base_uri": "https://localhost:8080/",
          "height": 35
        },
        "outputId": "f61eec37-078b-4d3e-9d1d-069ffeddbcb4"
      },
      "source": [
        "f1_score(y_test,y_xgb_thresh)"
      ],
      "execution_count": 147,
      "outputs": [
        {
          "output_type": "execute_result",
          "data": {
            "text/plain": [
              "0.877336831748114"
            ]
          },
          "metadata": {
            "tags": []
          },
          "execution_count": 147
        }
      ]
    },
    {
      "cell_type": "code",
      "metadata": {
        "id": "m6SzIPdnmWdy",
        "colab_type": "code",
        "colab": {}
      },
      "source": [
        "y_new_hat=xgboh.predict_proba(X_new)"
      ],
      "execution_count": 148,
      "outputs": []
    },
    {
      "cell_type": "code",
      "metadata": {
        "id": "KYIRAbmXoKkn",
        "colab_type": "code",
        "colab": {}
      },
      "source": [
        "y_new_hat=y_new_hat[:,1]"
      ],
      "execution_count": 149,
      "outputs": []
    },
    {
      "cell_type": "code",
      "metadata": {
        "id": "2eUpIRavmWgs",
        "colab_type": "code",
        "colab": {}
      },
      "source": [
        "y_new_thresh= np.zeros(len(y_new_hat))"
      ],
      "execution_count": 150,
      "outputs": []
    },
    {
      "cell_type": "code",
      "metadata": {
        "id": "H8KSUZWOnQsn",
        "colab_type": "code",
        "colab": {}
      },
      "source": [
        "for j in range(0,len(y_new_hat)):\n",
        "  if y_new_hat[j] <= 0.432029:\n",
        "    y_new_thresh[j] = 0\n",
        "  else:\n",
        "    y_new_thresh[j] = 1"
      ],
      "execution_count": null,
      "outputs": []
    },
    {
      "cell_type": "code",
      "metadata": {
        "colab_type": "code",
        "id": "cjMsuj6eob_f",
        "colab": {}
      },
      "source": [
        "Survived_1_year=y_new"
      ],
      "execution_count": 191,
      "outputs": []
    },
    {
      "cell_type": "code",
      "metadata": {
        "colab_type": "code",
        "id": "MArNXNXjob_p",
        "colab": {
          "base_uri": "https://localhost:8080/",
          "height": 17
        },
        "outputId": "2973a151-1f76-406d-812c-6002cdbd052c"
      },
      "source": [
        "res = pd.DataFrame(Survived_1_year) #preditcions are nothing but the final predictions of your model on input features of your new unseen test data\n",
        "res.index = test_new.index # its important for comparison. Here \"test_new\" is your new test dataset\n",
        "res.columns = [\"prediction\"]\n",
        "\n",
        "# To download the csv file locally\n",
        "from google.colab import files\n",
        "res.to_csv('prediction_results_HP.csv')         \n",
        "files.download('prediction_results_HP.csv')"
      ],
      "execution_count": 192,
      "outputs": [
        {
          "output_type": "display_data",
          "data": {
            "application/javascript": [
              "\n",
              "    async function download(id, filename, size) {\n",
              "      if (!google.colab.kernel.accessAllowed) {\n",
              "        return;\n",
              "      }\n",
              "      const div = document.createElement('div');\n",
              "      const label = document.createElement('label');\n",
              "      label.textContent = `Downloading \"${filename}\": `;\n",
              "      div.appendChild(label);\n",
              "      const progress = document.createElement('progress');\n",
              "      progress.max = size;\n",
              "      div.appendChild(progress);\n",
              "      document.body.appendChild(div);\n",
              "\n",
              "      const buffers = [];\n",
              "      let downloaded = 0;\n",
              "\n",
              "      const channel = await google.colab.kernel.comms.open(id);\n",
              "      // Send a message to notify the kernel that we're ready.\n",
              "      channel.send({})\n",
              "\n",
              "      for await (const message of channel.messages) {\n",
              "        // Send a message to notify the kernel that we're ready.\n",
              "        channel.send({})\n",
              "        if (message.buffers) {\n",
              "          for (const buffer of message.buffers) {\n",
              "            buffers.push(buffer);\n",
              "            downloaded += buffer.byteLength;\n",
              "            progress.value = downloaded;\n",
              "          }\n",
              "        }\n",
              "      }\n",
              "      const blob = new Blob(buffers, {type: 'application/binary'});\n",
              "      const a = document.createElement('a');\n",
              "      a.href = window.URL.createObjectURL(blob);\n",
              "      a.download = filename;\n",
              "      div.appendChild(a);\n",
              "      a.click();\n",
              "      div.remove();\n",
              "    }\n",
              "  "
            ],
            "text/plain": [
              "<IPython.core.display.Javascript object>"
            ]
          },
          "metadata": {
            "tags": []
          }
        },
        {
          "output_type": "display_data",
          "data": {
            "application/javascript": [
              "download(\"download_da249b8b-faa4-45f2-b8ee-2ba755a12000\", \"prediction_results_HP.csv\", 64023)"
            ],
            "text/plain": [
              "<IPython.core.display.Javascript object>"
            ]
          },
          "metadata": {
            "tags": []
          }
        }
      ]
    },
    {
      "cell_type": "code",
      "metadata": {
        "id": "_DmuDaGZoVUm",
        "colab_type": "code",
        "colab": {}
      },
      "source": [
        ""
      ],
      "execution_count": null,
      "outputs": []
    },
    {
      "cell_type": "code",
      "metadata": {
        "id": "nHo3gaVCmWjU",
        "colab_type": "code",
        "colab": {}
      },
      "source": [
        ""
      ],
      "execution_count": null,
      "outputs": []
    },
    {
      "cell_type": "code",
      "metadata": {
        "id": "Os5NqnMea7Lw",
        "colab_type": "code",
        "colab": {}
      },
      "source": [
        "from sklearn.metrics import accuracy_score"
      ],
      "execution_count": null,
      "outputs": []
    },
    {
      "cell_type": "code",
      "metadata": {
        "id": "KMs-4P_MbAcg",
        "colab_type": "code",
        "colab": {}
      },
      "source": [
        "ML_models=['Logistic_Regression','Random_Forest','Support_Vector_Machine','Neural_Network','XGBoost']\n",
        "scores=[f1_test_LogReg,f1_test_RanFor,f1_test_Stan_SVC,f1_test_Neur_Net,f1_test_xgb]\n",
        "acc_scores=[accuracy_score(y_test,y_LogReg),accuracy_score(y_test,y_RanFor),accuracy_score(y_test,y_Stan_SVC),accuracy_score(y_test,y_Neur_Net),accuracy_score(y_test,y_xgb)]"
      ],
      "execution_count": null,
      "outputs": []
    },
    {
      "cell_type": "code",
      "metadata": {
        "id": "VMrH4RHS_7QQ",
        "colab_type": "code",
        "colab": {
          "base_uri": "https://localhost:8080/",
          "height": 109
        },
        "outputId": "4c6440b5-817e-4d5a-dd22-c0de4ecf3513"
      },
      "source": [
        "for i in range(0,5):\n",
        "  print(ML_models[i],':', scores[i])"
      ],
      "execution_count": null,
      "outputs": [
        {
          "output_type": "stream",
          "text": [
            "Logistic_Regression : 0.8050793650793652\n",
            "Random_Forest : 0.8485370051635112\n",
            "Support_Vector_Machine : 0.8163486556808326\n",
            "Neural_Network : 0.8287678953894714\n",
            "XGBoost : 0.8718006539632428\n"
          ],
          "name": "stdout"
        }
      ]
    },
    {
      "cell_type": "code",
      "metadata": {
        "id": "lw4EjGldAXFc",
        "colab_type": "code",
        "colab": {
          "base_uri": "https://localhost:8080/",
          "height": 109
        },
        "outputId": "3814795f-49f2-47f2-8efc-ca978220fefc"
      },
      "source": [
        "for i in range(0,5):\n",
        "  print(ML_models[i],':', acc_scores[i])"
      ],
      "execution_count": null,
      "outputs": [
        {
          "output_type": "stream",
          "text": [
            "Logistic_Regression : 0.7340456251804793\n",
            "Random_Forest : 0.7967080565983251\n",
            "Support_Vector_Machine : 0.75541438059486\n",
            "Neural_Network : 0.7806814900375397\n",
            "XGBoost : 0.8358359803638464\n"
          ],
          "name": "stdout"
        }
      ]
    },
    {
      "cell_type": "code",
      "metadata": {
        "id": "qEO6NBDXbsZX",
        "colab_type": "code",
        "colab": {
          "base_uri": "https://localhost:8080/",
          "height": 490
        },
        "outputId": "706fefee-b781-4194-e268-05372a146ce0"
      },
      "source": [
        "sns.set()\n",
        "fig,ax=plt.subplots(figsize=[15,8])\n",
        "sns.barplot(ML_models,scores);\n",
        "plt.ylim(0.5,1);"
      ],
      "execution_count": null,
      "outputs": [
        {
          "output_type": "display_data",
          "data": {
            "image/png": "[encoded data removed]",
            "text/plain": [
              "<Figure size 1080x576 with 1 Axes>"
            ]
          },
          "metadata": {
            "tags": []
          }
        }
      ]
    },
    {
      "cell_type": "code",
      "metadata": {
        "id": "IK13lBQvcMrX",
        "colab_type": "code",
        "colab": {}
      },
      "source": [
        ""
      ],
      "execution_count": null,
      "outputs": []
    },
    {
      "cell_type": "code",
      "metadata": {
        "id": "b1bL_J8kCqm6",
        "colab_type": "code",
        "colab": {}
      },
      "source": [
        "from sklearn.metrics import confusion_matrix"
      ],
      "execution_count": null,
      "outputs": []
    },
    {
      "cell_type": "code",
      "metadata": {
        "id": "Fk7mYFzqCqpv",
        "colab_type": "code",
        "colab": {
          "base_uri": "https://localhost:8080/",
          "height": 54
        },
        "outputId": "ba5c986b-1ee1-4b61-ec91-d3f09a8ed6c7"
      },
      "source": [
        "confusion_matrix(y_test,y_LogReg)"
      ],
      "execution_count": null,
      "outputs": [
        {
          "output_type": "execute_result",
          "data": {
            "text/plain": [
              "array([[1289, 1287],\n",
              "       [ 571, 3779]])"
            ]
          },
          "metadata": {
            "tags": []
          },
          "execution_count": 373
        }
      ]
    },
    {
      "cell_type": "code",
      "metadata": {
        "id": "rq-QO7rADmgg",
        "colab_type": "code",
        "colab": {
          "base_uri": "https://localhost:8080/",
          "height": 54
        },
        "outputId": "582d790e-58c0-4082-8670-e370a418bdd9"
      },
      "source": [
        "confusion_matrix(y_test,y_RanFor)"
      ],
      "execution_count": null,
      "outputs": [
        {
          "output_type": "execute_result",
          "data": {
            "text/plain": [
              "array([[1267, 1309],\n",
              "       [ 234, 4116]])"
            ]
          },
          "metadata": {
            "tags": []
          },
          "execution_count": 374
        }
      ]
    },
    {
      "cell_type": "code",
      "metadata": {
        "id": "RB1AEUPKuVS0",
        "colab_type": "code",
        "colab": {
          "base_uri": "https://localhost:8080/",
          "height": 54
        },
        "outputId": "02262a13-1608-4c69-c6dc-f93c655fb13d"
      },
      "source": [
        "confusion_matrix(y_test,y_Stan_SVC)"
      ],
      "execution_count": null,
      "outputs": [
        {
          "output_type": "execute_result",
          "data": {
            "text/plain": [
              "array([[1467, 1109],\n",
              "       [ 585, 3765]])"
            ]
          },
          "metadata": {
            "tags": []
          },
          "execution_count": 375
        }
      ]
    },
    {
      "cell_type": "code",
      "metadata": {
        "id": "eYGAAmdcuVWA",
        "colab_type": "code",
        "colab": {
          "base_uri": "https://localhost:8080/",
          "height": 54
        },
        "outputId": "4d3295fc-bd94-492e-eda7-a23ffebc4b2e"
      },
      "source": [
        "confusion_matrix(y_test,y_Neur_Net)"
      ],
      "execution_count": null,
      "outputs": [
        {
          "output_type": "execute_result",
          "data": {
            "text/plain": [
              "array([[1731,  845],\n",
              "       [ 674, 3676]])"
            ]
          },
          "metadata": {
            "tags": []
          },
          "execution_count": 376
        }
      ]
    },
    {
      "cell_type": "code",
      "metadata": {
        "id": "s1lBWqHLM3ud",
        "colab_type": "code",
        "colab": {
          "base_uri": "https://localhost:8080/",
          "height": 54
        },
        "outputId": "933d6b94-dc1b-4687-e02a-1fcb74f58847"
      },
      "source": [
        "confusion_matrix(y_test,y_xgb)"
      ],
      "execution_count": null,
      "outputs": [
        {
          "output_type": "execute_result",
          "data": {
            "text/plain": [
              "array([[1931,  645],\n",
              "       [ 488, 3862]])"
            ]
          },
          "metadata": {
            "tags": []
          },
          "execution_count": 123
        }
      ]
    },
    {
      "cell_type": "code",
      "metadata": {
        "id": "qCRbLhHduVZz",
        "colab_type": "code",
        "colab": {}
      },
      "source": [
        "from sklearn.metrics import classification_report"
      ],
      "execution_count": null,
      "outputs": []
    },
    {
      "cell_type": "code",
      "metadata": {
        "id": "7BHNINDxuVcJ",
        "colab_type": "code",
        "colab": {
          "base_uri": "https://localhost:8080/",
          "height": 172
        },
        "outputId": "c2560d28-626f-4f51-eb3f-b0d9be621cb7"
      },
      "source": [
        "print(classification_report(y_test,y_LogReg))"
      ],
      "execution_count": null,
      "outputs": [
        {
          "output_type": "error",
          "ename": "NameError",
          "evalue": "ignored",
          "traceback": [
            "\u001b[0;31m---------------------------------------------------------------------------\u001b[0m",
            "\u001b[0;31mNameError\u001b[0m                                 Traceback (most recent call last)",
            "\u001b[0;32m<ipython-input-1-646922226ee1>\u001b[0m in \u001b[0;36m<module>\u001b[0;34m()\u001b[0m\n\u001b[0;32m----> 1\u001b[0;31m \u001b[0mprint\u001b[0m\u001b[0;34m(\u001b[0m\u001b[0mclassification_report\u001b[0m\u001b[0;34m(\u001b[0m\u001b[0my_test\u001b[0m\u001b[0;34m,\u001b[0m\u001b[0my_LogReg\u001b[0m\u001b[0;34m)\u001b[0m\u001b[0;34m)\u001b[0m\u001b[0;34m\u001b[0m\u001b[0;34m\u001b[0m\u001b[0m\n\u001b[0m",
            "\u001b[0;31mNameError\u001b[0m: name 'classification_report' is not defined"
          ]
        }
      ]
    },
    {
      "cell_type": "code",
      "metadata": {
        "id": "y_782Vbkvfp7",
        "colab_type": "code",
        "colab": {
          "base_uri": "https://localhost:8080/",
          "height": 182
        },
        "outputId": "e70063f5-a083-44ad-f4ce-8d90449d5e2b"
      },
      "source": [
        "print(classification_report(y_test,y_RanFor))"
      ],
      "execution_count": null,
      "outputs": [
        {
          "output_type": "stream",
          "text": [
            "              precision    recall  f1-score   support\n",
            "\n",
            "           0       0.84      0.49      0.62      2576\n",
            "           1       0.76      0.95      0.84      4350\n",
            "\n",
            "    accuracy                           0.78      6926\n",
            "   macro avg       0.80      0.72      0.73      6926\n",
            "weighted avg       0.79      0.78      0.76      6926\n",
            "\n"
          ],
          "name": "stdout"
        }
      ]
    },
    {
      "cell_type": "code",
      "metadata": {
        "id": "Y9GGA8ifvfsi",
        "colab_type": "code",
        "colab": {
          "base_uri": "https://localhost:8080/",
          "height": 182
        },
        "outputId": "25161e50-b4f9-4429-c9bc-c60621bf214a"
      },
      "source": [
        "print(classification_report(y_test,y_Stan_SVC))"
      ],
      "execution_count": null,
      "outputs": [
        {
          "output_type": "stream",
          "text": [
            "              precision    recall  f1-score   support\n",
            "\n",
            "           0       0.71      0.57      0.63      2576\n",
            "           1       0.77      0.87      0.82      4350\n",
            "\n",
            "    accuracy                           0.76      6926\n",
            "   macro avg       0.74      0.72      0.73      6926\n",
            "weighted avg       0.75      0.76      0.75      6926\n",
            "\n"
          ],
          "name": "stdout"
        }
      ]
    },
    {
      "cell_type": "code",
      "metadata": {
        "id": "-GPIsRpZvfu_",
        "colab_type": "code",
        "colab": {
          "base_uri": "https://localhost:8080/",
          "height": 182
        },
        "outputId": "dba8aa73-a29d-40a4-f93c-abb0b0ad21a1"
      },
      "source": [
        "print(classification_report(y_test,y_Neur_Net))"
      ],
      "execution_count": null,
      "outputs": [
        {
          "output_type": "stream",
          "text": [
            "              precision    recall  f1-score   support\n",
            "\n",
            "           0       0.72      0.67      0.70      2576\n",
            "           1       0.81      0.85      0.83      4350\n",
            "\n",
            "    accuracy                           0.78      6926\n",
            "   macro avg       0.77      0.76      0.76      6926\n",
            "weighted avg       0.78      0.78      0.78      6926\n",
            "\n"
          ],
          "name": "stdout"
        }
      ]
    },
    {
      "cell_type": "code",
      "metadata": {
        "id": "S9Tc0V-KDmjw",
        "colab_type": "code",
        "colab": {
          "base_uri": "https://localhost:8080/",
          "height": 182
        },
        "outputId": "a40753b7-04bf-408f-93c8-75f5b96b6a56"
      },
      "source": [
        "print(classification_report(y_test,y_xgb))"
      ],
      "execution_count": null,
      "outputs": [
        {
          "output_type": "stream",
          "text": [
            "              precision    recall  f1-score   support\n",
            "\n",
            "           0       0.80      0.75      0.77      2576\n",
            "           1       0.86      0.89      0.87      4350\n",
            "\n",
            "    accuracy                           0.84      6926\n",
            "   macro avg       0.83      0.82      0.82      6926\n",
            "weighted avg       0.83      0.84      0.83      6926\n",
            "\n"
          ],
          "name": "stdout"
        }
      ]
    },
    {
      "cell_type": "code",
      "metadata": {
        "id": "gCA6E2rJLlRd",
        "colab_type": "code",
        "colab": {}
      },
      "source": [
        ""
      ],
      "execution_count": null,
      "outputs": []
    },
    {
      "cell_type": "code",
      "metadata": {
        "id": "sTsqr4C4yfWE",
        "colab_type": "code",
        "colab": {
          "base_uri": "https://localhost:8080/",
          "height": 109
        },
        "outputId": "6d841ac0-0560-4bb0-a013-bf2ae99f654d"
      },
      "source": [
        "# pip install boruta"
      ],
      "execution_count": null,
      "outputs": [
        {
          "output_type": "stream",
          "text": [
            "Requirement already satisfied: boruta in /usr/local/lib/python3.6/dist-packages (0.3)\n",
            "Requirement already satisfied: scikit-learn>=0.17.1 in /usr/local/lib/python3.6/dist-packages (from boruta) (0.22.2.post1)\n",
            "Requirement already satisfied: scipy>=0.17.0 in /usr/local/lib/python3.6/dist-packages (from boruta) (1.4.1)\n",
            "Requirement already satisfied: numpy>=1.10.4 in /usr/local/lib/python3.6/dist-packages (from boruta) (1.18.5)\n",
            "Requirement already satisfied: joblib>=0.11 in /usr/local/lib/python3.6/dist-packages (from scikit-learn>=0.17.1->boruta) (0.15.1)\n"
          ],
          "name": "stdout"
        }
      ]
    },
    {
      "cell_type": "code",
      "metadata": {
        "id": "qY8C97ciuB9v",
        "colab_type": "code",
        "colab": {}
      },
      "source": [
        "# from boruta import BorutaPy"
      ],
      "execution_count": null,
      "outputs": []
    },
    {
      "cell_type": "code",
      "metadata": {
        "id": "-OYcYDnbysoD",
        "colab_type": "code",
        "colab": {}
      },
      "source": [
        "# boru=BorutaPy(estimator=RanFor,n_estimators='auto')"
      ],
      "execution_count": null,
      "outputs": []
    },
    {
      "cell_type": "code",
      "metadata": {
        "id": "TClrd58VysrV",
        "colab_type": "code",
        "colab": {}
      },
      "source": [
        "# boru.fit(np.array(X_train),np.array(y_train))"
      ],
      "execution_count": null,
      "outputs": []
    },
    {
      "cell_type": "code",
      "metadata": {
        "id": "tGeL6ANIzUwt",
        "colab_type": "code",
        "colab": {}
      },
      "source": [
        "# X.columns[boru.support_].to_list()"
      ],
      "execution_count": null,
      "outputs": []
    },
    {
      "cell_type": "code",
      "metadata": {
        "id": "iKh0t-FFzUzu",
        "colab_type": "code",
        "colab": {}
      },
      "source": [
        "# X.columns[boru.support_weak_].to_list()"
      ],
      "execution_count": null,
      "outputs": []
    },
    {
      "cell_type": "code",
      "metadata": {
        "id": "o4VajzSQLlUi",
        "colab_type": "code",
        "colab": {
          "base_uri": "https://localhost:8080/",
          "height": 219
        },
        "outputId": "ad6239f9-1698-42e1-e55c-407b8e8865c0"
      },
      "source": [
        "pip install boostaroota"
      ],
      "execution_count": null,
      "outputs": [
        {
          "output_type": "stream",
          "text": [
            "Collecting boostaroota\n",
            "  Downloading https://files.pythonhosted.org/packages/78/ed/b9a97eb226ed9e8712fb88185bbec3a5eaf09e829277b2c09a4f13d6c8d7/boostaroota-1.3-py2.py3-none-any.whl\n",
            "Requirement already satisfied: numpy in /usr/local/lib/python3.6/dist-packages (from boostaroota) (1.18.5)\n",
            "Requirement already satisfied: xgboost in /usr/local/lib/python3.6/dist-packages (from boostaroota) (0.90)\n",
            "Requirement already satisfied: pandas in /usr/local/lib/python3.6/dist-packages (from boostaroota) (1.0.5)\n",
            "Requirement already satisfied: scipy in /usr/local/lib/python3.6/dist-packages (from xgboost->boostaroota) (1.4.1)\n",
            "Requirement already satisfied: python-dateutil>=2.6.1 in /usr/local/lib/python3.6/dist-packages (from pandas->boostaroota) (2.8.1)\n",
            "Requirement already satisfied: pytz>=2017.2 in /usr/local/lib/python3.6/dist-packages (from pandas->boostaroota) (2018.9)\n",
            "Requirement already satisfied: six>=1.5 in /usr/local/lib/python3.6/dist-packages (from python-dateutil>=2.6.1->pandas->boostaroota) (1.12.0)\n",
            "Installing collected packages: boostaroota\n",
            "Successfully installed boostaroota-1.3\n"
          ],
          "name": "stdout"
        }
      ]
    },
    {
      "cell_type": "code",
      "metadata": {
        "id": "8QxD6l-jQig7",
        "colab_type": "code",
        "colab": {
          "base_uri": "https://localhost:8080/",
          "height": 844
        },
        "outputId": "6191c8de-2be0-4cb1-bbbb-a376ab9f44b4"
      },
      "source": [
        "from boostaroota import BoostARoota\n",
        "\n",
        "\n",
        "br = BoostARoota(clf=xgboost.XGBClassifier())\n",
        "\n",
        "#Fit the model for the subset of variables\n",
        "br.fit(X_train, y_train)\n",
        "# br = BoostARoota(clf=xgboh)\n",
        "\n",
        "#Can look at the important variables - will return a pandas series\n",
        "br.keep_vars_\n",
        "\n",
        "#Then modify dataframe to only include the important variables\n",
        "# br.transform(x)"
      ],
      "execution_count": null,
      "outputs": [
        {
          "output_type": "stream",
          "text": [
            "Round:  1  iteration:  1\n",
            "Round:  1  iteration:  2\n",
            "Round:  1  iteration:  3\n",
            "Round:  1  iteration:  4\n",
            "Round:  1  iteration:  5\n",
            "Round:  1  iteration:  6\n",
            "Round:  1  iteration:  7\n",
            "Round:  1  iteration:  8\n",
            "Round:  1  iteration:  9\n",
            "Round:  1  iteration:  10\n",
            "Round:  2  iteration:  1\n",
            "Round:  2  iteration:  2\n",
            "Round:  2  iteration:  3\n",
            "Round:  2  iteration:  4\n",
            "Round:  2  iteration:  5\n",
            "Round:  2  iteration:  6\n",
            "Round:  2  iteration:  7\n",
            "Round:  2  iteration:  8\n",
            "Round:  2  iteration:  9\n",
            "Round:  2  iteration:  10\n",
            "BoostARoota ran successfully! Algorithm went through  2  rounds.\n"
          ],
          "name": "stdout"
        },
        {
          "output_type": "execute_result",
          "data": {
            "text/plain": [
              "0     ID_Patient_Care_Situation\n",
              "1           Diagnosed_Condition\n",
              "2                    Patient_ID\n",
              "3                   Patient_Age\n",
              "4       Patient_Body_Mass_Index\n",
              "5                             A\n",
              "6                             D\n",
              "8           Number_of_prev_cond\n",
              "9                           DX1\n",
              "10                          DX2\n",
              "11                          DX3\n",
              "12                          DX4\n",
              "13                          DX5\n",
              "14                          DX6\n",
              "15                     DX1 DX2 \n",
              "16                     DX1 DX5 \n",
              "17                 DX1 DX2 DX3 \n",
              "18                       (A, C)\n",
              "19                       (A, D)\n",
              "20                       (B, C)\n",
              "21                      n_drugs\n",
              "22            Patient_Smoker_NO\n",
              "23    Patient_Rural_Urban_RURAL\n",
              "Name: feature, dtype: object"
            ]
          },
          "metadata": {
            "tags": []
          },
          "execution_count": 422
        }
      ]
    },
    {
      "cell_type": "code",
      "metadata": {
        "id": "TmMwGCpTQimU",
        "colab_type": "code",
        "colab": {
          "base_uri": "https://localhost:8080/",
          "height": 439
        },
        "outputId": "187dd14e-4829-4e73-f861-e5d2ab40fa36"
      },
      "source": [
        "br.keep_vars_.tolist()"
      ],
      "execution_count": null,
      "outputs": [
        {
          "output_type": "execute_result",
          "data": {
            "text/plain": [
              "['ID_Patient_Care_Situation',\n",
              " 'Diagnosed_Condition',\n",
              " 'Patient_ID',\n",
              " 'Patient_Age',\n",
              " 'Patient_Body_Mass_Index',\n",
              " 'A',\n",
              " 'D',\n",
              " 'Number_of_prev_cond',\n",
              " 'DX1',\n",
              " 'DX2',\n",
              " 'DX3',\n",
              " 'DX4',\n",
              " 'DX5',\n",
              " 'DX6',\n",
              " 'DX1 DX2 ',\n",
              " 'DX1 DX5 ',\n",
              " 'DX1 DX2 DX3 ',\n",
              " ('A', 'C'),\n",
              " ('A', 'D'),\n",
              " ('B', 'C'),\n",
              " 'n_drugs',\n",
              " 'Patient_Smoker_NO',\n",
              " 'Patient_Rural_Urban_RURAL']"
            ]
          },
          "metadata": {
            "tags": []
          },
          "execution_count": 425
        }
      ]
    },
    {
      "cell_type": "code",
      "metadata": {
        "id": "rZrlafT7okm0",
        "colab_type": "code",
        "colab": {}
      },
      "source": [
        ""
      ],
      "execution_count": null,
      "outputs": []
    },
    {
      "cell_type": "code",
      "metadata": {
        "id": "d9E0Lk1aokre",
        "colab_type": "code",
        "colab": {}
      },
      "source": [
        "# from sklearn.ensemble import StackingClassifier"
      ],
      "execution_count": null,
      "outputs": []
    },
    {
      "cell_type": "code",
      "metadata": {
        "id": "m5LP0BiAokuS",
        "colab_type": "code",
        "colab": {}
      },
      "source": [
        "# estimators_lev0= [('Random_Forest', RanFor), ('Support_Vector_Machine', Stan_SVC), ('Neural_Network', Neur_Net), ('XGBoost', xgboh)]"
      ],
      "execution_count": null,
      "outputs": []
    },
    {
      "cell_type": "code",
      "metadata": {
        "id": "Qu48IQg6wKoB",
        "colab_type": "code",
        "colab": {}
      },
      "source": [
        "# estimator_lev1= xgboost.XGBClassifier()"
      ],
      "execution_count": null,
      "outputs": []
    },
    {
      "cell_type": "code",
      "metadata": {
        "id": "x-LexeC7xYW5",
        "colab_type": "code",
        "colab": {}
      },
      "source": [
        "# model = StackingClassifier(estimators=estimators_lev0,final_estimator=estimator_lev1,cv=5)"
      ],
      "execution_count": null,
      "outputs": []
    },
    {
      "cell_type": "code",
      "metadata": {
        "id": "zvUQAyuFyKHy",
        "colab_type": "code",
        "colab": {}
      },
      "source": [
        "# model.fit(X_train,y_train)"
      ],
      "execution_count": null,
      "outputs": []
    },
    {
      "cell_type": "code",
      "metadata": {
        "id": "hzm-HycowKq6",
        "colab_type": "code",
        "colab": {}
      },
      "source": [
        "# y_stacked=model.predict(X_test)"
      ],
      "execution_count": null,
      "outputs": []
    },
    {
      "cell_type": "code",
      "metadata": {
        "id": "36HwsocWz_DJ",
        "colab_type": "code",
        "colab": {}
      },
      "source": [
        "# f1_score(y_test,y_stacked)"
      ],
      "execution_count": null,
      "outputs": []
    },
    {
      "cell_type": "code",
      "metadata": {
        "id": "LSAcqUTG0L2n",
        "colab_type": "code",
        "colab": {}
      },
      "source": [
        "# y_new=model.predict(X_new)"
      ],
      "execution_count": null,
      "outputs": []
    },
    {
      "cell_type": "code",
      "metadata": {
        "id": "GdVFY2gD0L9A",
        "colab_type": "code",
        "colab": {}
      },
      "source": [
        ""
      ],
      "execution_count": null,
      "outputs": []
    },
    {
      "cell_type": "code",
      "metadata": {
        "id": "vWpeu0Iuz2_V",
        "colab_type": "code",
        "colab": {}
      },
      "source": [
        ""
      ],
      "execution_count": null,
      "outputs": []
    },
    {
      "cell_type": "code",
      "metadata": {
        "id": "Po4ss7Vfok8B",
        "colab_type": "code",
        "colab": {}
      },
      "source": [
        ""
      ],
      "execution_count": null,
      "outputs": []
    },
    {
      "cell_type": "code",
      "metadata": {
        "id": "QqO7ux_Ook-4",
        "colab_type": "code",
        "colab": {}
      },
      "source": [
        ""
      ],
      "execution_count": null,
      "outputs": []
    },
    {
      "cell_type": "code",
      "metadata": {
        "id": "3whDUlY3TvLA",
        "colab_type": "code",
        "colab": {}
      },
      "source": [
        "# DecTree=DecisionTreeClassifier(max_depth=4,criterion='entropy',min_samples_split=5)"
      ],
      "execution_count": null,
      "outputs": []
    },
    {
      "cell_type": "code",
      "metadata": {
        "id": "7MyvsdvJTvN4",
        "colab_type": "code",
        "colab": {}
      },
      "source": [
        "# DecTree.fit(X_train,y_train)"
      ],
      "execution_count": null,
      "outputs": []
    },
    {
      "cell_type": "code",
      "metadata": {
        "id": "OeXCO_ZaTvQt",
        "colab_type": "code",
        "colab": {}
      },
      "source": [
        "# y_DecTree=DecTree.predict(X_test)"
      ],
      "execution_count": null,
      "outputs": []
    },
    {
      "cell_type": "code",
      "metadata": {
        "id": "o0iSrqfRTvTY",
        "colab_type": "code",
        "colab": {}
      },
      "source": [
        "# f1_test_DecTree=f1_score(y_test,y_DecTree)\n",
        "# f1_test_DecTree"
      ],
      "execution_count": null,
      "outputs": []
    },
    {
      "cell_type": "code",
      "metadata": {
        "colab_type": "code",
        "id": "OYc-XNCfJqu1",
        "colab": {}
      },
      "source": [
        "# cv_DecTree=cross_validate(DecTree,X_train,y_train,cv=10,scoring=['f1'])\n",
        "# cv_DecTree"
      ],
      "execution_count": null,
      "outputs": []
    },
    {
      "cell_type": "code",
      "metadata": {
        "colab_type": "code",
        "id": "p3jkEL3uJqu7",
        "colab": {}
      },
      "source": [
        "# f1_DecTree=cv_DecTree['test_f1'].mean()\n",
        "# f1_DecTree"
      ],
      "execution_count": null,
      "outputs": []
    },
    {
      "cell_type": "code",
      "metadata": {
        "colab_type": "code",
        "id": "gUF3UGZmiFkX",
        "colab": {}
      },
      "source": [
        "# params={'criterion': ['gini', 'entropy'],\n",
        "#         'splitter':['best','random'],\n",
        "#         'max_depth':[1,2,3,4,5,6,7,8],\n",
        "#         'min_samples_split':[2,3,4,5,6,7,8],\n",
        "#         'max_leaf_nodes':[1,2,3,4,5,6,7,8],\n",
        "#         'min_impurity_decrease':[1,2,3,4,5,6,7,8]\n",
        "# }"
      ],
      "execution_count": null,
      "outputs": []
    },
    {
      "cell_type": "code",
      "metadata": {
        "colab_type": "code",
        "id": "sGlEw2SPiFki",
        "colab": {}
      },
      "source": [
        "# DecTree_random=RandomizedSearchCV(DecTree,params,scoring='f1',n_jobs=-1,refit='f1',random_state=99)"
      ],
      "execution_count": null,
      "outputs": []
    },
    {
      "cell_type": "code",
      "metadata": {
        "colab_type": "code",
        "id": "PoP5xVQliFkp",
        "colab": {}
      },
      "source": [
        "# DecTree_random.fit(X_train,y_train)"
      ],
      "execution_count": null,
      "outputs": []
    },
    {
      "cell_type": "code",
      "metadata": {
        "colab_type": "code",
        "id": "-EeoovjUiFkv",
        "colab": {}
      },
      "source": [
        "# DecTree_random.best_params_"
      ],
      "execution_count": null,
      "outputs": []
    },
    {
      "cell_type": "code",
      "metadata": {
        "id": "XjfgVpYwZmU5",
        "colab_type": "code",
        "colab": {}
      },
      "source": [
        "# GauNB_part=GaussianNB()"
      ],
      "execution_count": null,
      "outputs": []
    },
    {
      "cell_type": "code",
      "metadata": {
        "id": "dIFmKyjwZmZX",
        "colab_type": "code",
        "colab": {}
      },
      "source": [
        "# GauNB_part.partial_fit(X_train,y_train,np.unique(y_train))"
      ],
      "execution_count": null,
      "outputs": []
    },
    {
      "cell_type": "code",
      "metadata": {
        "id": "jmxwH-7GZmcA",
        "colab_type": "code",
        "colab": {}
      },
      "source": [
        "# y_GauNB_part=GauNB_part.predict(X_test)"
      ],
      "execution_count": null,
      "outputs": []
    },
    {
      "cell_type": "code",
      "metadata": {
        "id": "njGUwE0daQDw",
        "colab_type": "code",
        "colab": {}
      },
      "source": [
        "# f1_test_GauNB_part=f1_score(y_test,y_GauNB_part)\n",
        "# f1_test_GauNB_part"
      ],
      "execution_count": null,
      "outputs": []
    },
    {
      "cell_type": "code",
      "metadata": {
        "colab_type": "code",
        "id": "38B3CeeqLgH8",
        "colab": {}
      },
      "source": [
        "# cv_GauNB_part=cross_validate(GauNB_part,X_train,y_train,cv=10,scoring=['f1'])\n",
        "# cv_GauNB_part"
      ],
      "execution_count": null,
      "outputs": []
    },
    {
      "cell_type": "code",
      "metadata": {
        "colab_type": "code",
        "id": "AlCXEKRpLgIC",
        "colab": {}
      },
      "source": [
        "# f1_GauNB_part=cv_GauNB_part['test_f1'].mean()\n",
        "# f1_GauNB_part"
      ],
      "execution_count": null,
      "outputs": []
    },
    {
      "cell_type": "code",
      "metadata": {
        "id": "ChxdGOzAaSUH",
        "colab_type": "code",
        "colab": {}
      },
      "source": [
        "# Grad_Des=make_pipeline(StandardScaler(),SGDClassifier())"
      ],
      "execution_count": null,
      "outputs": []
    },
    {
      "cell_type": "code",
      "metadata": {
        "id": "UxokyEb5apjA",
        "colab_type": "code",
        "colab": {}
      },
      "source": [
        "# Grad_Des.fit(X_train,y_train)"
      ],
      "execution_count": null,
      "outputs": []
    },
    {
      "cell_type": "code",
      "metadata": {
        "id": "EcfMtZG5avgP",
        "colab_type": "code",
        "colab": {}
      },
      "source": [
        "# y_Grad_Des=Grad_Des.predict(X_test)"
      ],
      "execution_count": null,
      "outputs": []
    },
    {
      "cell_type": "code",
      "metadata": {
        "id": "ym0MURTAa3gX",
        "colab_type": "code",
        "colab": {}
      },
      "source": [
        "# f1_test_Grad_Des=f1_score(y_test,y_Grad_Des)\n",
        "# f1_test_Grad_Des"
      ],
      "execution_count": null,
      "outputs": []
    },
    {
      "cell_type": "code",
      "metadata": {
        "colab_type": "code",
        "id": "S7OlJ-HpLhiU",
        "colab": {}
      },
      "source": [
        "# cv_Grad_Des=cross_validate(Grad_Des,X_train,y_train,cv=10,scoring=['f1'])\n",
        "# cv_Grad_Des"
      ],
      "execution_count": null,
      "outputs": []
    },
    {
      "cell_type": "code",
      "metadata": {
        "colab_type": "code",
        "id": "PES4HGR4Lhia",
        "colab": {}
      },
      "source": [
        "# f1_Grad_Des=cv_Grad_Des['test_f1'].mean()\n",
        "# f1_Grad_Des"
      ],
      "execution_count": null,
      "outputs": []
    }
  ]
}