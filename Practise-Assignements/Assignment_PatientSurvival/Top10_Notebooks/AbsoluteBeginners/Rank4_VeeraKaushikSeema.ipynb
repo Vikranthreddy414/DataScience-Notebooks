{
 "cells": [
  {
   "cell_type": "code",
   "execution_count": 1,
   "metadata": {
    "colab": {
     "base_uri": "https://localhost:8080/",
     "height": 71
    },
    "colab_type": "code",
    "id": "4fpwAR58UKR3",
    "outputId": "1471a84e-fd31-4cbd-8c3f-779ba1890e6b"
   },
   "outputs": [
    {
     "name": "stderr",
     "output_type": "stream",
     "text": [
      "/usr/local/lib/python3.6/dist-packages/statsmodels/tools/_testing.py:19: FutureWarning: pandas.util.testing is deprecated. Use the functions in the public API at pandas.testing instead.\n",
      "  import pandas.util.testing as tm\n"
     ]
    }
   ],
   "source": [
    "import numpy as np\n",
    "import pandas as pd\n",
    "import matplotlib.pyplot as plt\n",
    "import seaborn as sns\n",
    "from statistics import mean\n",
    "from statistics import mode\n",
    "import warnings\n",
    "warnings.filterwarnings('ignore')"
   ]
  },
  {
   "cell_type": "code",
   "execution_count": 2,
   "metadata": {
    "colab": {},
    "colab_type": "code",
    "id": "oW3pif8_cu1U"
   },
   "outputs": [],
   "source": [
    "\n",
    "data=pd.read_csv('https://raw.githubusercontent.com/dphi-official/Datasets/master/pharma_data/Training_set_begs.csv')"
   ]
  },
  {
   "cell_type": "code",
   "execution_count": 3,
   "metadata": {
    "colab": {
     "base_uri": "https://localhost:8080/",
     "height": 224
    },
    "colab_type": "code",
    "id": "1O09EFVqc3FN",
    "outputId": "0c12dc80-a148-459d-a636-89f4245f8b2c"
   },
   "outputs": [
    {
     "data": {
      "text/html": [
       "<div>\n",
       "<style scoped>\n",
       "    .dataframe tbody tr th:only-of-type {\n",
       "        vertical-align: middle;\n",
       "    }\n",
       "\n",
       "    .dataframe tbody tr th {\n",
       "        vertical-align: top;\n",
       "    }\n",
       "\n",
       "    .dataframe thead th {\n",
       "        text-align: right;\n",
       "    }\n",
       "</style>\n",
       "<table border=\"1\" class=\"dataframe\">\n",
       "  <thead>\n",
       "    <tr style=\"text-align: right;\">\n",
       "      <th></th>\n",
       "      <th>ID_Patient_Care_Situation</th>\n",
       "      <th>Diagnosed_Condition</th>\n",
       "      <th>Patient_ID</th>\n",
       "      <th>Treated_with_drugs</th>\n",
       "      <th>Patient_Age</th>\n",
       "      <th>Patient_Body_Mass_Index</th>\n",
       "      <th>Patient_Smoker</th>\n",
       "      <th>Patient_Rural_Urban</th>\n",
       "      <th>Patient_mental_condition</th>\n",
       "      <th>A</th>\n",
       "      <th>B</th>\n",
       "      <th>C</th>\n",
       "      <th>D</th>\n",
       "      <th>E</th>\n",
       "      <th>F</th>\n",
       "      <th>Z</th>\n",
       "      <th>Number_of_prev_cond</th>\n",
       "      <th>Survived_1_year</th>\n",
       "    </tr>\n",
       "  </thead>\n",
       "  <tbody>\n",
       "    <tr>\n",
       "      <th>0</th>\n",
       "      <td>22374</td>\n",
       "      <td>8</td>\n",
       "      <td>3333</td>\n",
       "      <td>DX6</td>\n",
       "      <td>56</td>\n",
       "      <td>18.479385</td>\n",
       "      <td>YES</td>\n",
       "      <td>URBAN</td>\n",
       "      <td>Stable</td>\n",
       "      <td>1.0</td>\n",
       "      <td>0.0</td>\n",
       "      <td>0.0</td>\n",
       "      <td>0.0</td>\n",
       "      <td>1.0</td>\n",
       "      <td>0.0</td>\n",
       "      <td>0.0</td>\n",
       "      <td>2.0</td>\n",
       "      <td>0</td>\n",
       "    </tr>\n",
       "    <tr>\n",
       "      <th>1</th>\n",
       "      <td>18164</td>\n",
       "      <td>5</td>\n",
       "      <td>5740</td>\n",
       "      <td>DX2</td>\n",
       "      <td>36</td>\n",
       "      <td>22.945566</td>\n",
       "      <td>YES</td>\n",
       "      <td>RURAL</td>\n",
       "      <td>Stable</td>\n",
       "      <td>1.0</td>\n",
       "      <td>0.0</td>\n",
       "      <td>0.0</td>\n",
       "      <td>0.0</td>\n",
       "      <td>0.0</td>\n",
       "      <td>0.0</td>\n",
       "      <td>0.0</td>\n",
       "      <td>1.0</td>\n",
       "      <td>1</td>\n",
       "    </tr>\n",
       "    <tr>\n",
       "      <th>2</th>\n",
       "      <td>6283</td>\n",
       "      <td>23</td>\n",
       "      <td>10446</td>\n",
       "      <td>DX6</td>\n",
       "      <td>48</td>\n",
       "      <td>27.510027</td>\n",
       "      <td>YES</td>\n",
       "      <td>RURAL</td>\n",
       "      <td>Stable</td>\n",
       "      <td>1.0</td>\n",
       "      <td>0.0</td>\n",
       "      <td>0.0</td>\n",
       "      <td>0.0</td>\n",
       "      <td>0.0</td>\n",
       "      <td>0.0</td>\n",
       "      <td>0.0</td>\n",
       "      <td>1.0</td>\n",
       "      <td>0</td>\n",
       "    </tr>\n",
       "    <tr>\n",
       "      <th>3</th>\n",
       "      <td>5339</td>\n",
       "      <td>51</td>\n",
       "      <td>12011</td>\n",
       "      <td>DX1</td>\n",
       "      <td>5</td>\n",
       "      <td>19.130976</td>\n",
       "      <td>NO</td>\n",
       "      <td>URBAN</td>\n",
       "      <td>Stable</td>\n",
       "      <td>1.0</td>\n",
       "      <td>0.0</td>\n",
       "      <td>0.0</td>\n",
       "      <td>0.0</td>\n",
       "      <td>0.0</td>\n",
       "      <td>0.0</td>\n",
       "      <td>0.0</td>\n",
       "      <td>1.0</td>\n",
       "      <td>1</td>\n",
       "    </tr>\n",
       "    <tr>\n",
       "      <th>4</th>\n",
       "      <td>33012</td>\n",
       "      <td>0</td>\n",
       "      <td>12513</td>\n",
       "      <td>NaN</td>\n",
       "      <td>128</td>\n",
       "      <td>1.348400</td>\n",
       "      <td>Cannot say</td>\n",
       "      <td>RURAL</td>\n",
       "      <td>Stable</td>\n",
       "      <td>0.0</td>\n",
       "      <td>0.0</td>\n",
       "      <td>0.0</td>\n",
       "      <td>0.0</td>\n",
       "      <td>0.0</td>\n",
       "      <td>0.0</td>\n",
       "      <td>1.0</td>\n",
       "      <td>1.0</td>\n",
       "      <td>1</td>\n",
       "    </tr>\n",
       "  </tbody>\n",
       "</table>\n",
       "</div>"
      ],
      "text/plain": [
       "   ID_Patient_Care_Situation  ...  Survived_1_year\n",
       "0                      22374  ...                0\n",
       "1                      18164  ...                1\n",
       "2                       6283  ...                0\n",
       "3                       5339  ...                1\n",
       "4                      33012  ...                1\n",
       "\n",
       "[5 rows x 18 columns]"
      ]
     },
     "execution_count": 3,
     "metadata": {
      "tags": []
     },
     "output_type": "execute_result"
    }
   ],
   "source": [
    "data.head()"
   ]
  },
  {
   "cell_type": "code",
   "execution_count": 4,
   "metadata": {
    "colab": {
     "base_uri": "https://localhost:8080/",
     "height": 442
    },
    "colab_type": "code",
    "id": "jYWGGL9Eddj9",
    "outputId": "7e37bf93-40f3-42a4-f6bf-054e8b2150fb"
   },
   "outputs": [
    {
     "name": "stdout",
     "output_type": "stream",
     "text": [
      "<class 'pandas.core.frame.DataFrame'>\n",
      "RangeIndex: 23097 entries, 0 to 23096\n",
      "Data columns (total 18 columns):\n",
      " #   Column                     Non-Null Count  Dtype  \n",
      "---  ------                     --------------  -----  \n",
      " 0   ID_Patient_Care_Situation  23097 non-null  int64  \n",
      " 1   Diagnosed_Condition        23097 non-null  int64  \n",
      " 2   Patient_ID                 23097 non-null  int64  \n",
      " 3   Treated_with_drugs         23084 non-null  object \n",
      " 4   Patient_Age                23097 non-null  int64  \n",
      " 5   Patient_Body_Mass_Index    23097 non-null  float64\n",
      " 6   Patient_Smoker             23097 non-null  object \n",
      " 7   Patient_Rural_Urban        23097 non-null  object \n",
      " 8   Patient_mental_condition   23097 non-null  object \n",
      " 9   A                          21862 non-null  float64\n",
      " 10  B                          21862 non-null  float64\n",
      " 11  C                          21862 non-null  float64\n",
      " 12  D                          21862 non-null  float64\n",
      " 13  E                          21862 non-null  float64\n",
      " 14  F                          21862 non-null  float64\n",
      " 15  Z                          21862 non-null  float64\n",
      " 16  Number_of_prev_cond        21862 non-null  float64\n",
      " 17  Survived_1_year            23097 non-null  int64  \n",
      "dtypes: float64(9), int64(5), object(4)\n",
      "memory usage: 3.2+ MB\n"
     ]
    }
   ],
   "source": [
    "data.info()"
   ]
  },
  {
   "cell_type": "code",
   "execution_count": 5,
   "metadata": {
    "colab": {},
    "colab_type": "code",
    "id": "OOHzp3npGvWg"
   },
   "outputs": [],
   "source": [
    "data=data.drop(\"Patient_ID\",axis=1)\n",
    "data=data.drop(\"ID_Patient_Care_Situation\",axis=1)\n"
   ]
  },
  {
   "cell_type": "code",
   "execution_count": 6,
   "metadata": {
    "colab": {
     "base_uri": "https://localhost:8080/",
     "height": 306
    },
    "colab_type": "code",
    "id": "ZxKa8JQpdjED",
    "outputId": "eceaa8a8-89eb-4fdc-dd27-317e5c974707"
   },
   "outputs": [
    {
     "data": {
      "text/plain": [
       "Diagnosed_Condition            0\n",
       "Treated_with_drugs            13\n",
       "Patient_Age                    0\n",
       "Patient_Body_Mass_Index        0\n",
       "Patient_Smoker                 0\n",
       "Patient_Rural_Urban            0\n",
       "Patient_mental_condition       0\n",
       "A                           1235\n",
       "B                           1235\n",
       "C                           1235\n",
       "D                           1235\n",
       "E                           1235\n",
       "F                           1235\n",
       "Z                           1235\n",
       "Number_of_prev_cond         1235\n",
       "Survived_1_year                0\n",
       "dtype: int64"
      ]
     },
     "execution_count": 6,
     "metadata": {
      "tags": []
     },
     "output_type": "execute_result"
    }
   ],
   "source": [
    "data.isnull().sum()"
   ]
  },
  {
   "cell_type": "code",
   "execution_count": 7,
   "metadata": {
    "colab": {},
    "colab_type": "code",
    "id": "X8kHs9w0IBXr"
   },
   "outputs": [],
   "source": [
    "\n",
    "data[\"Treated_with_drugs\"]=data[\"Treated_with_drugs\"].fillna(mode(data[\"Treated_with_drugs\"]))\n",
    "data[\"A\"]=data[\"A\"].fillna(mode(data[\"A\"]))\n",
    "data[\"B\"]=data[\"B\"].fillna(mode(data[\"B\"]))\n",
    "data[\"C\"]=data[\"C\"].fillna(mode(data[\"C\"]))\n",
    "data[\"D\"]=data[\"D\"].fillna(mode(data[\"D\"]))\n",
    "data[\"E\"]=data[\"E\"].fillna(mode(data[\"E\"]))\n",
    "data[\"F\"]=data[\"F\"].fillna(mode(data[\"F\"]))\n",
    "data[\"Z\"]=data[\"Z\"].fillna(mode(data[\"Z\"]))\n"
   ]
  },
  {
   "cell_type": "code",
   "execution_count": 8,
   "metadata": {
    "colab": {},
    "colab_type": "code",
    "id": "IhBfmEVcYaPe"
   },
   "outputs": [],
   "source": [
    "data[\"Number_of_prev_cond\"]=data.apply(lambda row: row.A + row.B + row.C + row.D + row.E + row.F + row.Z , axis=1)\n"
   ]
  },
  {
   "cell_type": "code",
   "execution_count": 9,
   "metadata": {
    "colab": {
     "base_uri": "https://localhost:8080/",
     "height": 306
    },
    "colab_type": "code",
    "id": "5S6LoMrHNc7F",
    "outputId": "a2ffb4fc-3eab-4320-c89d-86ed79a6b45b"
   },
   "outputs": [
    {
     "data": {
      "text/plain": [
       "Diagnosed_Condition         0\n",
       "Treated_with_drugs          0\n",
       "Patient_Age                 0\n",
       "Patient_Body_Mass_Index     0\n",
       "Patient_Smoker              0\n",
       "Patient_Rural_Urban         0\n",
       "Patient_mental_condition    0\n",
       "A                           0\n",
       "B                           0\n",
       "C                           0\n",
       "D                           0\n",
       "E                           0\n",
       "F                           0\n",
       "Z                           0\n",
       "Number_of_prev_cond         0\n",
       "Survived_1_year             0\n",
       "dtype: int64"
      ]
     },
     "execution_count": 9,
     "metadata": {
      "tags": []
     },
     "output_type": "execute_result"
    }
   ],
   "source": [
    "data.isnull().sum()"
   ]
  },
  {
   "cell_type": "code",
   "execution_count": 10,
   "metadata": {
    "colab": {
     "base_uri": "https://localhost:8080/",
     "height": 408
    },
    "colab_type": "code",
    "id": "VE5JQfS9b3js",
    "outputId": "23076b0d-c7c0-4c98-a912-ab030fa73a7e"
   },
   "outputs": [
    {
     "name": "stdout",
     "output_type": "stream",
     "text": [
      "<class 'pandas.core.frame.DataFrame'>\n",
      "RangeIndex: 23097 entries, 0 to 23096\n",
      "Data columns (total 16 columns):\n",
      " #   Column                    Non-Null Count  Dtype  \n",
      "---  ------                    --------------  -----  \n",
      " 0   Diagnosed_Condition       23097 non-null  int64  \n",
      " 1   Treated_with_drugs        23097 non-null  object \n",
      " 2   Patient_Age               23097 non-null  int64  \n",
      " 3   Patient_Body_Mass_Index   23097 non-null  float64\n",
      " 4   Patient_Smoker            23097 non-null  object \n",
      " 5   Patient_Rural_Urban       23097 non-null  object \n",
      " 6   Patient_mental_condition  23097 non-null  object \n",
      " 7   A                         23097 non-null  float64\n",
      " 8   B                         23097 non-null  float64\n",
      " 9   C                         23097 non-null  float64\n",
      " 10  D                         23097 non-null  float64\n",
      " 11  E                         23097 non-null  float64\n",
      " 12  F                         23097 non-null  float64\n",
      " 13  Z                         23097 non-null  float64\n",
      " 14  Number_of_prev_cond       23097 non-null  float64\n",
      " 15  Survived_1_year           23097 non-null  int64  \n",
      "dtypes: float64(9), int64(3), object(4)\n",
      "memory usage: 2.8+ MB\n"
     ]
    }
   ],
   "source": [
    "data.info()"
   ]
  },
  {
   "cell_type": "code",
   "execution_count": 11,
   "metadata": {
    "colab": {},
    "colab_type": "code",
    "id": "9LmgH1LTmciX"
   },
   "outputs": [],
   "source": [
    "data['Patient_Rural_Urban']=data['Patient_Rural_Urban'].apply(lambda x : 1 if x =='URBAN' else 0 )\n",
    "data['Patient_mental_condition']=data['Patient_mental_condition'].apply(lambda x : 1 if x =='Stable' else 0 )\n",
    "data['Patient_Smoker']=data['Patient_Smoker'].apply(lambda x : 1 if x =='YES' else 0 )\n",
    "data=pd.get_dummies(data,columns=[\"Treated_with_drugs\"])"
   ]
  },
  {
   "cell_type": "code",
   "execution_count": 12,
   "metadata": {
    "colab": {
     "base_uri": "https://localhost:8080/",
     "height": 241
    },
    "colab_type": "code",
    "id": "J4lArDRydRZg",
    "outputId": "9d67e6f3-029c-455b-dacc-b8d37c408c16"
   },
   "outputs": [
    {
     "data": {
      "text/html": [
       "<div>\n",
       "<style scoped>\n",
       "    .dataframe tbody tr th:only-of-type {\n",
       "        vertical-align: middle;\n",
       "    }\n",
       "\n",
       "    .dataframe tbody tr th {\n",
       "        vertical-align: top;\n",
       "    }\n",
       "\n",
       "    .dataframe thead th {\n",
       "        text-align: right;\n",
       "    }\n",
       "</style>\n",
       "<table border=\"1\" class=\"dataframe\">\n",
       "  <thead>\n",
       "    <tr style=\"text-align: right;\">\n",
       "      <th></th>\n",
       "      <th>Diagnosed_Condition</th>\n",
       "      <th>Patient_Age</th>\n",
       "      <th>Patient_Body_Mass_Index</th>\n",
       "      <th>Patient_Smoker</th>\n",
       "      <th>Patient_Rural_Urban</th>\n",
       "      <th>Patient_mental_condition</th>\n",
       "      <th>A</th>\n",
       "      <th>B</th>\n",
       "      <th>C</th>\n",
       "      <th>D</th>\n",
       "      <th>E</th>\n",
       "      <th>F</th>\n",
       "      <th>Z</th>\n",
       "      <th>Number_of_prev_cond</th>\n",
       "      <th>Survived_1_year</th>\n",
       "      <th>Treated_with_drugs_DX1</th>\n",
       "      <th>Treated_with_drugs_DX1 DX2</th>\n",
       "      <th>Treated_with_drugs_DX1 DX2 DX3</th>\n",
       "      <th>Treated_with_drugs_DX1 DX2 DX3 DX4</th>\n",
       "      <th>Treated_with_drugs_DX1 DX2 DX3 DX4 DX5</th>\n",
       "      <th>Treated_with_drugs_DX1 DX2 DX3 DX5</th>\n",
       "      <th>Treated_with_drugs_DX1 DX2 DX4</th>\n",
       "      <th>Treated_with_drugs_DX1 DX2 DX4 DX5</th>\n",
       "      <th>Treated_with_drugs_DX1 DX2 DX5</th>\n",
       "      <th>Treated_with_drugs_DX1 DX3</th>\n",
       "      <th>Treated_with_drugs_DX1 DX3 DX4</th>\n",
       "      <th>Treated_with_drugs_DX1 DX3 DX4 DX5</th>\n",
       "      <th>Treated_with_drugs_DX1 DX3 DX5</th>\n",
       "      <th>Treated_with_drugs_DX1 DX4</th>\n",
       "      <th>Treated_with_drugs_DX1 DX4 DX5</th>\n",
       "      <th>Treated_with_drugs_DX1 DX5</th>\n",
       "      <th>Treated_with_drugs_DX2</th>\n",
       "      <th>Treated_with_drugs_DX2 DX3</th>\n",
       "      <th>Treated_with_drugs_DX2 DX3 DX4</th>\n",
       "      <th>Treated_with_drugs_DX2 DX3 DX4 DX5</th>\n",
       "      <th>Treated_with_drugs_DX2 DX3 DX5</th>\n",
       "      <th>Treated_with_drugs_DX2 DX4</th>\n",
       "      <th>Treated_with_drugs_DX2 DX4 DX5</th>\n",
       "      <th>Treated_with_drugs_DX2 DX5</th>\n",
       "      <th>Treated_with_drugs_DX3</th>\n",
       "      <th>Treated_with_drugs_DX3 DX4</th>\n",
       "      <th>Treated_with_drugs_DX3 DX4 DX5</th>\n",
       "      <th>Treated_with_drugs_DX3 DX5</th>\n",
       "      <th>Treated_with_drugs_DX4</th>\n",
       "      <th>Treated_with_drugs_DX4 DX5</th>\n",
       "      <th>Treated_with_drugs_DX5</th>\n",
       "      <th>Treated_with_drugs_DX6</th>\n",
       "    </tr>\n",
       "  </thead>\n",
       "  <tbody>\n",
       "    <tr>\n",
       "      <th>0</th>\n",
       "      <td>8</td>\n",
       "      <td>56</td>\n",
       "      <td>18.479385</td>\n",
       "      <td>1</td>\n",
       "      <td>1</td>\n",
       "      <td>1</td>\n",
       "      <td>1.0</td>\n",
       "      <td>0.0</td>\n",
       "      <td>0.0</td>\n",
       "      <td>0.0</td>\n",
       "      <td>1.0</td>\n",
       "      <td>0.0</td>\n",
       "      <td>0.0</td>\n",
       "      <td>2.0</td>\n",
       "      <td>0</td>\n",
       "      <td>0</td>\n",
       "      <td>0</td>\n",
       "      <td>0</td>\n",
       "      <td>0</td>\n",
       "      <td>0</td>\n",
       "      <td>0</td>\n",
       "      <td>0</td>\n",
       "      <td>0</td>\n",
       "      <td>0</td>\n",
       "      <td>0</td>\n",
       "      <td>0</td>\n",
       "      <td>0</td>\n",
       "      <td>0</td>\n",
       "      <td>0</td>\n",
       "      <td>0</td>\n",
       "      <td>0</td>\n",
       "      <td>0</td>\n",
       "      <td>0</td>\n",
       "      <td>0</td>\n",
       "      <td>0</td>\n",
       "      <td>0</td>\n",
       "      <td>0</td>\n",
       "      <td>0</td>\n",
       "      <td>0</td>\n",
       "      <td>0</td>\n",
       "      <td>0</td>\n",
       "      <td>0</td>\n",
       "      <td>0</td>\n",
       "      <td>0</td>\n",
       "      <td>0</td>\n",
       "      <td>0</td>\n",
       "      <td>1</td>\n",
       "    </tr>\n",
       "    <tr>\n",
       "      <th>1</th>\n",
       "      <td>5</td>\n",
       "      <td>36</td>\n",
       "      <td>22.945566</td>\n",
       "      <td>1</td>\n",
       "      <td>0</td>\n",
       "      <td>1</td>\n",
       "      <td>1.0</td>\n",
       "      <td>0.0</td>\n",
       "      <td>0.0</td>\n",
       "      <td>0.0</td>\n",
       "      <td>0.0</td>\n",
       "      <td>0.0</td>\n",
       "      <td>0.0</td>\n",
       "      <td>1.0</td>\n",
       "      <td>1</td>\n",
       "      <td>0</td>\n",
       "      <td>0</td>\n",
       "      <td>0</td>\n",
       "      <td>0</td>\n",
       "      <td>0</td>\n",
       "      <td>0</td>\n",
       "      <td>0</td>\n",
       "      <td>0</td>\n",
       "      <td>0</td>\n",
       "      <td>0</td>\n",
       "      <td>0</td>\n",
       "      <td>0</td>\n",
       "      <td>0</td>\n",
       "      <td>0</td>\n",
       "      <td>0</td>\n",
       "      <td>0</td>\n",
       "      <td>1</td>\n",
       "      <td>0</td>\n",
       "      <td>0</td>\n",
       "      <td>0</td>\n",
       "      <td>0</td>\n",
       "      <td>0</td>\n",
       "      <td>0</td>\n",
       "      <td>0</td>\n",
       "      <td>0</td>\n",
       "      <td>0</td>\n",
       "      <td>0</td>\n",
       "      <td>0</td>\n",
       "      <td>0</td>\n",
       "      <td>0</td>\n",
       "      <td>0</td>\n",
       "      <td>0</td>\n",
       "    </tr>\n",
       "    <tr>\n",
       "      <th>2</th>\n",
       "      <td>23</td>\n",
       "      <td>48</td>\n",
       "      <td>27.510027</td>\n",
       "      <td>1</td>\n",
       "      <td>0</td>\n",
       "      <td>1</td>\n",
       "      <td>1.0</td>\n",
       "      <td>0.0</td>\n",
       "      <td>0.0</td>\n",
       "      <td>0.0</td>\n",
       "      <td>0.0</td>\n",
       "      <td>0.0</td>\n",
       "      <td>0.0</td>\n",
       "      <td>1.0</td>\n",
       "      <td>0</td>\n",
       "      <td>0</td>\n",
       "      <td>0</td>\n",
       "      <td>0</td>\n",
       "      <td>0</td>\n",
       "      <td>0</td>\n",
       "      <td>0</td>\n",
       "      <td>0</td>\n",
       "      <td>0</td>\n",
       "      <td>0</td>\n",
       "      <td>0</td>\n",
       "      <td>0</td>\n",
       "      <td>0</td>\n",
       "      <td>0</td>\n",
       "      <td>0</td>\n",
       "      <td>0</td>\n",
       "      <td>0</td>\n",
       "      <td>0</td>\n",
       "      <td>0</td>\n",
       "      <td>0</td>\n",
       "      <td>0</td>\n",
       "      <td>0</td>\n",
       "      <td>0</td>\n",
       "      <td>0</td>\n",
       "      <td>0</td>\n",
       "      <td>0</td>\n",
       "      <td>0</td>\n",
       "      <td>0</td>\n",
       "      <td>0</td>\n",
       "      <td>0</td>\n",
       "      <td>0</td>\n",
       "      <td>0</td>\n",
       "      <td>1</td>\n",
       "    </tr>\n",
       "    <tr>\n",
       "      <th>3</th>\n",
       "      <td>51</td>\n",
       "      <td>5</td>\n",
       "      <td>19.130976</td>\n",
       "      <td>0</td>\n",
       "      <td>1</td>\n",
       "      <td>1</td>\n",
       "      <td>1.0</td>\n",
       "      <td>0.0</td>\n",
       "      <td>0.0</td>\n",
       "      <td>0.0</td>\n",
       "      <td>0.0</td>\n",
       "      <td>0.0</td>\n",
       "      <td>0.0</td>\n",
       "      <td>1.0</td>\n",
       "      <td>1</td>\n",
       "      <td>1</td>\n",
       "      <td>0</td>\n",
       "      <td>0</td>\n",
       "      <td>0</td>\n",
       "      <td>0</td>\n",
       "      <td>0</td>\n",
       "      <td>0</td>\n",
       "      <td>0</td>\n",
       "      <td>0</td>\n",
       "      <td>0</td>\n",
       "      <td>0</td>\n",
       "      <td>0</td>\n",
       "      <td>0</td>\n",
       "      <td>0</td>\n",
       "      <td>0</td>\n",
       "      <td>0</td>\n",
       "      <td>0</td>\n",
       "      <td>0</td>\n",
       "      <td>0</td>\n",
       "      <td>0</td>\n",
       "      <td>0</td>\n",
       "      <td>0</td>\n",
       "      <td>0</td>\n",
       "      <td>0</td>\n",
       "      <td>0</td>\n",
       "      <td>0</td>\n",
       "      <td>0</td>\n",
       "      <td>0</td>\n",
       "      <td>0</td>\n",
       "      <td>0</td>\n",
       "      <td>0</td>\n",
       "      <td>0</td>\n",
       "    </tr>\n",
       "    <tr>\n",
       "      <th>4</th>\n",
       "      <td>0</td>\n",
       "      <td>128</td>\n",
       "      <td>1.348400</td>\n",
       "      <td>0</td>\n",
       "      <td>0</td>\n",
       "      <td>1</td>\n",
       "      <td>0.0</td>\n",
       "      <td>0.0</td>\n",
       "      <td>0.0</td>\n",
       "      <td>0.0</td>\n",
       "      <td>0.0</td>\n",
       "      <td>0.0</td>\n",
       "      <td>1.0</td>\n",
       "      <td>1.0</td>\n",
       "      <td>1</td>\n",
       "      <td>0</td>\n",
       "      <td>0</td>\n",
       "      <td>0</td>\n",
       "      <td>0</td>\n",
       "      <td>0</td>\n",
       "      <td>0</td>\n",
       "      <td>0</td>\n",
       "      <td>0</td>\n",
       "      <td>0</td>\n",
       "      <td>0</td>\n",
       "      <td>0</td>\n",
       "      <td>0</td>\n",
       "      <td>0</td>\n",
       "      <td>0</td>\n",
       "      <td>0</td>\n",
       "      <td>0</td>\n",
       "      <td>0</td>\n",
       "      <td>0</td>\n",
       "      <td>0</td>\n",
       "      <td>0</td>\n",
       "      <td>0</td>\n",
       "      <td>0</td>\n",
       "      <td>0</td>\n",
       "      <td>0</td>\n",
       "      <td>0</td>\n",
       "      <td>0</td>\n",
       "      <td>0</td>\n",
       "      <td>0</td>\n",
       "      <td>0</td>\n",
       "      <td>0</td>\n",
       "      <td>0</td>\n",
       "      <td>1</td>\n",
       "    </tr>\n",
       "  </tbody>\n",
       "</table>\n",
       "</div>"
      ],
      "text/plain": [
       "   Diagnosed_Condition  ...  Treated_with_drugs_DX6\n",
       "0                    8  ...                       1\n",
       "1                    5  ...                       0\n",
       "2                   23  ...                       1\n",
       "3                   51  ...                       0\n",
       "4                    0  ...                       1\n",
       "\n",
       "[5 rows x 47 columns]"
      ]
     },
     "execution_count": 12,
     "metadata": {
      "tags": []
     },
     "output_type": "execute_result"
    }
   ],
   "source": [
    "\n",
    "data.head()"
   ]
  },
  {
   "cell_type": "code",
   "execution_count": 13,
   "metadata": {
    "colab": {},
    "colab_type": "code",
    "id": "G0YIpb2defls"
   },
   "outputs": [],
   "source": [
    "X=data.drop(\"Survived_1_year\",axis=1)\n",
    "y=data[\"Survived_1_year\"]"
   ]
  },
  {
   "cell_type": "code",
   "execution_count": 14,
   "metadata": {
    "colab": {},
    "colab_type": "code",
    "id": "iFArfqCneqP8"
   },
   "outputs": [],
   "source": [
    "from sklearn.model_selection import train_test_split\n",
    "X_train, X_test, y_train, y_test = train_test_split(X, y, test_size=0.17, random_state=2)"
   ]
  },
  {
   "cell_type": "code",
   "execution_count": 15,
   "metadata": {
    "colab": {
     "base_uri": "https://localhost:8080/",
     "height": 136
    },
    "colab_type": "code",
    "id": "hwOaucwefegD",
    "outputId": "47f9a886-c004-4c85-ee4d-de9cffee9836"
   },
   "outputs": [
    {
     "data": {
      "text/plain": [
       "HistGradientBoostingClassifier(l2_regularization=25.0, learning_rate=0.013,\n",
       "                               loss='auto', max_bins=255, max_depth=3,\n",
       "                               max_iter=12000, max_leaf_nodes=31,\n",
       "                               min_samples_leaf=100, n_iter_no_change=None,\n",
       "                               random_state=2, scoring=None, tol=1e-07,\n",
       "                               validation_fraction=0.1, verbose=0,\n",
       "                               warm_start=False)"
      ]
     },
     "execution_count": 15,
     "metadata": {
      "tags": []
     },
     "output_type": "execute_result"
    }
   ],
   "source": [
    "from sklearn.experimental import enable_hist_gradient_boosting\n",
    "from sklearn.ensemble import HistGradientBoostingClassifier\n",
    "x=HistGradientBoostingClassifier(random_state=2,max_depth=3\n",
    "                                 ,max_iter=12000,min_samples_leaf=100,\n",
    "                                  l2_regularization=25.0,learning_rate=0.013)\n",
    "x.fit(X_train,y_train)"
   ]
  },
  {
   "cell_type": "code",
   "execution_count": 16,
   "metadata": {
    "colab": {},
    "colab_type": "code",
    "id": "c0kt5Wgbf1NF"
   },
   "outputs": [],
   "source": [
    "pred0=x.predict(X_test)"
   ]
  },
  {
   "cell_type": "code",
   "execution_count": 17,
   "metadata": {
    "colab": {
     "base_uri": "https://localhost:8080/",
     "height": 34
    },
    "colab_type": "code",
    "id": "4gbl_2bif45G",
    "outputId": "e11accc3-ca02-4c7b-903f-3672bd29a67c"
   },
   "outputs": [
    {
     "data": {
      "text/plain": [
       "0.8769927179689038"
      ]
     },
     "execution_count": 17,
     "metadata": {
      "tags": []
     },
     "output_type": "execute_result"
    }
   ],
   "source": [
    "from sklearn.metrics import f1_score\n",
    "f1_score(y_test,pred0)\n"
   ]
  },
  {
   "cell_type": "code",
   "execution_count": 18,
   "metadata": {
    "colab": {},
    "colab_type": "code",
    "id": "8r0sEkjggAyz"
   },
   "outputs": [],
   "source": [
    "\n",
    "test_new = pd.read_csv('https://raw.githubusercontent.com/dphi-official/Datasets/master/pharma_data/Testing_set_begs.csv')"
   ]
  },
  {
   "cell_type": "code",
   "execution_count": 19,
   "metadata": {
    "colab": {
     "base_uri": "https://localhost:8080/",
     "height": 224
    },
    "colab_type": "code",
    "id": "7WHkftD_rKsw",
    "outputId": "c6926bd6-421c-46c9-a4d9-2dfbcb7166aa"
   },
   "outputs": [
    {
     "data": {
      "text/html": [
       "<div>\n",
       "<style scoped>\n",
       "    .dataframe tbody tr th:only-of-type {\n",
       "        vertical-align: middle;\n",
       "    }\n",
       "\n",
       "    .dataframe tbody tr th {\n",
       "        vertical-align: top;\n",
       "    }\n",
       "\n",
       "    .dataframe thead th {\n",
       "        text-align: right;\n",
       "    }\n",
       "</style>\n",
       "<table border=\"1\" class=\"dataframe\">\n",
       "  <thead>\n",
       "    <tr style=\"text-align: right;\">\n",
       "      <th></th>\n",
       "      <th>ID_Patient_Care_Situation</th>\n",
       "      <th>Diagnosed_Condition</th>\n",
       "      <th>Patient_ID</th>\n",
       "      <th>Treated_with_drugs</th>\n",
       "      <th>Patient_Age</th>\n",
       "      <th>Patient_Body_Mass_Index</th>\n",
       "      <th>Patient_Smoker</th>\n",
       "      <th>Patient_Rural_Urban</th>\n",
       "      <th>Patient_mental_condition</th>\n",
       "      <th>A</th>\n",
       "      <th>B</th>\n",
       "      <th>C</th>\n",
       "      <th>D</th>\n",
       "      <th>E</th>\n",
       "      <th>F</th>\n",
       "      <th>Z</th>\n",
       "      <th>Number_of_prev_cond</th>\n",
       "    </tr>\n",
       "  </thead>\n",
       "  <tbody>\n",
       "    <tr>\n",
       "      <th>0</th>\n",
       "      <td>19150</td>\n",
       "      <td>40</td>\n",
       "      <td>3709</td>\n",
       "      <td>DX3</td>\n",
       "      <td>16</td>\n",
       "      <td>29.443894</td>\n",
       "      <td>NO</td>\n",
       "      <td>RURAL</td>\n",
       "      <td>Stable</td>\n",
       "      <td>1.0</td>\n",
       "      <td>0.0</td>\n",
       "      <td>0.0</td>\n",
       "      <td>0.0</td>\n",
       "      <td>1.0</td>\n",
       "      <td>0.0</td>\n",
       "      <td>0.0</td>\n",
       "      <td>2.0</td>\n",
       "    </tr>\n",
       "    <tr>\n",
       "      <th>1</th>\n",
       "      <td>23216</td>\n",
       "      <td>52</td>\n",
       "      <td>986</td>\n",
       "      <td>DX6</td>\n",
       "      <td>24</td>\n",
       "      <td>26.836321</td>\n",
       "      <td>NO</td>\n",
       "      <td>URBAN</td>\n",
       "      <td>Stable</td>\n",
       "      <td>1.0</td>\n",
       "      <td>1.0</td>\n",
       "      <td>0.0</td>\n",
       "      <td>0.0</td>\n",
       "      <td>0.0</td>\n",
       "      <td>0.0</td>\n",
       "      <td>0.0</td>\n",
       "      <td>2.0</td>\n",
       "    </tr>\n",
       "    <tr>\n",
       "      <th>2</th>\n",
       "      <td>11890</td>\n",
       "      <td>50</td>\n",
       "      <td>11821</td>\n",
       "      <td>DX4 DX5</td>\n",
       "      <td>63</td>\n",
       "      <td>25.523280</td>\n",
       "      <td>NO</td>\n",
       "      <td>RURAL</td>\n",
       "      <td>Stable</td>\n",
       "      <td>1.0</td>\n",
       "      <td>0.0</td>\n",
       "      <td>0.0</td>\n",
       "      <td>0.0</td>\n",
       "      <td>1.0</td>\n",
       "      <td>0.0</td>\n",
       "      <td>0.0</td>\n",
       "      <td>2.0</td>\n",
       "    </tr>\n",
       "    <tr>\n",
       "      <th>3</th>\n",
       "      <td>7149</td>\n",
       "      <td>32</td>\n",
       "      <td>3292</td>\n",
       "      <td>DX6</td>\n",
       "      <td>42</td>\n",
       "      <td>27.171155</td>\n",
       "      <td>NO</td>\n",
       "      <td>URBAN</td>\n",
       "      <td>Stable</td>\n",
       "      <td>1.0</td>\n",
       "      <td>0.0</td>\n",
       "      <td>1.0</td>\n",
       "      <td>0.0</td>\n",
       "      <td>1.0</td>\n",
       "      <td>0.0</td>\n",
       "      <td>0.0</td>\n",
       "      <td>3.0</td>\n",
       "    </tr>\n",
       "    <tr>\n",
       "      <th>4</th>\n",
       "      <td>22845</td>\n",
       "      <td>20</td>\n",
       "      <td>9959</td>\n",
       "      <td>DX3</td>\n",
       "      <td>50</td>\n",
       "      <td>25.556192</td>\n",
       "      <td>NO</td>\n",
       "      <td>RURAL</td>\n",
       "      <td>Stable</td>\n",
       "      <td>1.0</td>\n",
       "      <td>0.0</td>\n",
       "      <td>0.0</td>\n",
       "      <td>0.0</td>\n",
       "      <td>0.0</td>\n",
       "      <td>0.0</td>\n",
       "      <td>0.0</td>\n",
       "      <td>1.0</td>\n",
       "    </tr>\n",
       "  </tbody>\n",
       "</table>\n",
       "</div>"
      ],
      "text/plain": [
       "   ID_Patient_Care_Situation  Diagnosed_Condition  ...    Z Number_of_prev_cond\n",
       "0                      19150                   40  ...  0.0                 2.0\n",
       "1                      23216                   52  ...  0.0                 2.0\n",
       "2                      11890                   50  ...  0.0                 2.0\n",
       "3                       7149                   32  ...  0.0                 3.0\n",
       "4                      22845                   20  ...  0.0                 1.0\n",
       "\n",
       "[5 rows x 17 columns]"
      ]
     },
     "execution_count": 19,
     "metadata": {
      "tags": []
     },
     "output_type": "execute_result"
    }
   ],
   "source": [
    "\n",
    "test_new.head()"
   ]
  },
  {
   "cell_type": "code",
   "execution_count": 20,
   "metadata": {
    "colab": {
     "base_uri": "https://localhost:8080/",
     "height": 323
    },
    "colab_type": "code",
    "id": "tF_5qVaVrocQ",
    "outputId": "1a17045e-a205-4c01-c268-aca698bd1342"
   },
   "outputs": [
    {
     "data": {
      "text/plain": [
       "ID_Patient_Care_Situation    0\n",
       "Diagnosed_Condition          0\n",
       "Patient_ID                   0\n",
       "Treated_with_drugs           0\n",
       "Patient_Age                  0\n",
       "Patient_Body_Mass_Index      0\n",
       "Patient_Smoker               0\n",
       "Patient_Rural_Urban          0\n",
       "Patient_mental_condition     0\n",
       "A                            0\n",
       "B                            0\n",
       "C                            0\n",
       "D                            0\n",
       "E                            0\n",
       "F                            0\n",
       "Z                            0\n",
       "Number_of_prev_cond          0\n",
       "dtype: int64"
      ]
     },
     "execution_count": 20,
     "metadata": {
      "tags": []
     },
     "output_type": "execute_result"
    }
   ],
   "source": [
    "test_new.isnull().sum()"
   ]
  },
  {
   "cell_type": "code",
   "execution_count": 21,
   "metadata": {
    "colab": {},
    "colab_type": "code",
    "id": "bnnuoRbhryqu"
   },
   "outputs": [],
   "source": [
    "test_new=test_new.drop(\"Patient_ID\",axis=1)\n",
    "test_new=test_new.drop(\"ID_Patient_Care_Situation\",axis=1)"
   ]
  },
  {
   "cell_type": "code",
   "execution_count": 22,
   "metadata": {
    "colab": {},
    "colab_type": "code",
    "id": "EMHsfsjMtIjL"
   },
   "outputs": [],
   "source": [
    "test_new['Patient_Rural_Urban']=test_new['Patient_Rural_Urban'].apply(lambda x : 1 if x =='URBAN' else 0 )\n",
    "test_new['Patient_mental_condition']=test_new['Patient_mental_condition'].apply(lambda x : 1 if x =='Stable' else 0 )\n",
    "test_new['Patient_Smoker']=test_new['Patient_Smoker'].apply(lambda x : 1 if x =='YES' else 0 )\n",
    "test_new=pd.get_dummies(test_new,columns=[\"Treated_with_drugs\"])"
   ]
  },
  {
   "cell_type": "code",
   "execution_count": 23,
   "metadata": {
    "colab": {},
    "colab_type": "code",
    "id": "aemHNPBDgc2g"
   },
   "outputs": [],
   "source": [
    "pred2=x.predict(test_new)"
   ]
  },
  {
   "cell_type": "code",
   "execution_count": 24,
   "metadata": {
    "colab": {},
    "colab_type": "code",
    "id": "Z7I8Cf4gxNKZ"
   },
   "outputs": [],
   "source": [
    "res = pd.DataFrame(pred2)\n",
    "res.index = test_new.index # its important for comparison\n",
    "res.columns = [\"prediction\"]\n",
    "res.to_csv(\"prediction_results.csv\")  "
   ]
  },
  {
   "cell_type": "code",
   "execution_count": 24,
   "metadata": {
    "colab": {},
    "colab_type": "code",
    "id": "V6gWwW18POXa"
   },
   "outputs": [],
   "source": []
  }
 ],
 "metadata": {
  "colab": {
   "collapsed_sections": [],
   "name": "Assignment_3_(koushik veera).ipynb",
   "provenance": []
  },
  "kernelspec": {
   "display_name": "Python 3",
   "language": "python",
   "name": "python3"
  },
  "language_info": {
   "codemirror_mode": {
    "name": "ipython",
    "version": 3
   },
   "file_extension": ".py",
   "mimetype": "text/x-python",
   "name": "python",
   "nbconvert_exporter": "python",
   "pygments_lexer": "ipython3",
   "version": "3.7.3"
  }
 },
 "nbformat": 4,
 "nbformat_minor": 1
}
