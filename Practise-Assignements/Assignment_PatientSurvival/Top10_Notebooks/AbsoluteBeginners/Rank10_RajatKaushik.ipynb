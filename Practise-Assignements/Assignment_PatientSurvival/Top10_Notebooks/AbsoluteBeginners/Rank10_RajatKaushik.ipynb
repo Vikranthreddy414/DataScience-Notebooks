{
 "cells": [
  {
   "cell_type": "code",
   "execution_count": 1,
   "metadata": {},
   "outputs": [],
   "source": [
    "import pandas as pd\n",
    "import numpy as np\n",
    "import matplotlib.pyplot as plt\n",
    "%matplotlib inline\n",
    "import warnings\n",
    "warnings.filterwarnings('ignore')"
   ]
  },
  {
   "cell_type": "code",
   "execution_count": 2,
   "metadata": {},
   "outputs": [],
   "source": [
    "data = pd.read_csv('https://raw.githubusercontent.com/dphi-official/Datasets/master/pharma_data/Training_set_begs.csv')"
   ]
  },
  {
   "cell_type": "code",
   "execution_count": 3,
   "metadata": {},
   "outputs": [
    {
     "data": {
      "text/html": [
       "<div>\n",
       "<style scoped>\n",
       "    .dataframe tbody tr th:only-of-type {\n",
       "        vertical-align: middle;\n",
       "    }\n",
       "\n",
       "    .dataframe tbody tr th {\n",
       "        vertical-align: top;\n",
       "    }\n",
       "\n",
       "    .dataframe thead th {\n",
       "        text-align: right;\n",
       "    }\n",
       "</style>\n",
       "<table border=\"1\" class=\"dataframe\">\n",
       "  <thead>\n",
       "    <tr style=\"text-align: right;\">\n",
       "      <th></th>\n",
       "      <th>ID_Patient_Care_Situation</th>\n",
       "      <th>Diagnosed_Condition</th>\n",
       "      <th>Patient_ID</th>\n",
       "      <th>Treated_with_drugs</th>\n",
       "      <th>Patient_Age</th>\n",
       "      <th>Patient_Body_Mass_Index</th>\n",
       "      <th>Patient_Smoker</th>\n",
       "      <th>Patient_Rural_Urban</th>\n",
       "      <th>Patient_mental_condition</th>\n",
       "      <th>A</th>\n",
       "      <th>B</th>\n",
       "      <th>C</th>\n",
       "      <th>D</th>\n",
       "      <th>E</th>\n",
       "      <th>F</th>\n",
       "      <th>Z</th>\n",
       "      <th>Number_of_prev_cond</th>\n",
       "      <th>Survived_1_year</th>\n",
       "    </tr>\n",
       "  </thead>\n",
       "  <tbody>\n",
       "    <tr>\n",
       "      <th>0</th>\n",
       "      <td>22374</td>\n",
       "      <td>8</td>\n",
       "      <td>3333</td>\n",
       "      <td>DX6</td>\n",
       "      <td>56</td>\n",
       "      <td>18.479385</td>\n",
       "      <td>YES</td>\n",
       "      <td>URBAN</td>\n",
       "      <td>Stable</td>\n",
       "      <td>1.0</td>\n",
       "      <td>0.0</td>\n",
       "      <td>0.0</td>\n",
       "      <td>0.0</td>\n",
       "      <td>1.0</td>\n",
       "      <td>0.0</td>\n",
       "      <td>0.0</td>\n",
       "      <td>2.0</td>\n",
       "      <td>0</td>\n",
       "    </tr>\n",
       "    <tr>\n",
       "      <th>1</th>\n",
       "      <td>18164</td>\n",
       "      <td>5</td>\n",
       "      <td>5740</td>\n",
       "      <td>DX2</td>\n",
       "      <td>36</td>\n",
       "      <td>22.945566</td>\n",
       "      <td>YES</td>\n",
       "      <td>RURAL</td>\n",
       "      <td>Stable</td>\n",
       "      <td>1.0</td>\n",
       "      <td>0.0</td>\n",
       "      <td>0.0</td>\n",
       "      <td>0.0</td>\n",
       "      <td>0.0</td>\n",
       "      <td>0.0</td>\n",
       "      <td>0.0</td>\n",
       "      <td>1.0</td>\n",
       "      <td>1</td>\n",
       "    </tr>\n",
       "    <tr>\n",
       "      <th>2</th>\n",
       "      <td>6283</td>\n",
       "      <td>23</td>\n",
       "      <td>10446</td>\n",
       "      <td>DX6</td>\n",
       "      <td>48</td>\n",
       "      <td>27.510027</td>\n",
       "      <td>YES</td>\n",
       "      <td>RURAL</td>\n",
       "      <td>Stable</td>\n",
       "      <td>1.0</td>\n",
       "      <td>0.0</td>\n",
       "      <td>0.0</td>\n",
       "      <td>0.0</td>\n",
       "      <td>0.0</td>\n",
       "      <td>0.0</td>\n",
       "      <td>0.0</td>\n",
       "      <td>1.0</td>\n",
       "      <td>0</td>\n",
       "    </tr>\n",
       "    <tr>\n",
       "      <th>3</th>\n",
       "      <td>5339</td>\n",
       "      <td>51</td>\n",
       "      <td>12011</td>\n",
       "      <td>DX1</td>\n",
       "      <td>5</td>\n",
       "      <td>19.130976</td>\n",
       "      <td>NO</td>\n",
       "      <td>URBAN</td>\n",
       "      <td>Stable</td>\n",
       "      <td>1.0</td>\n",
       "      <td>0.0</td>\n",
       "      <td>0.0</td>\n",
       "      <td>0.0</td>\n",
       "      <td>0.0</td>\n",
       "      <td>0.0</td>\n",
       "      <td>0.0</td>\n",
       "      <td>1.0</td>\n",
       "      <td>1</td>\n",
       "    </tr>\n",
       "    <tr>\n",
       "      <th>4</th>\n",
       "      <td>33012</td>\n",
       "      <td>0</td>\n",
       "      <td>12513</td>\n",
       "      <td>NaN</td>\n",
       "      <td>128</td>\n",
       "      <td>1.348400</td>\n",
       "      <td>Cannot say</td>\n",
       "      <td>RURAL</td>\n",
       "      <td>Stable</td>\n",
       "      <td>0.0</td>\n",
       "      <td>0.0</td>\n",
       "      <td>0.0</td>\n",
       "      <td>0.0</td>\n",
       "      <td>0.0</td>\n",
       "      <td>0.0</td>\n",
       "      <td>1.0</td>\n",
       "      <td>1.0</td>\n",
       "      <td>1</td>\n",
       "    </tr>\n",
       "  </tbody>\n",
       "</table>\n",
       "</div>"
      ],
      "text/plain": [
       "   ID_Patient_Care_Situation  Diagnosed_Condition  Patient_ID  \\\n",
       "0                      22374                    8        3333   \n",
       "1                      18164                    5        5740   \n",
       "2                       6283                   23       10446   \n",
       "3                       5339                   51       12011   \n",
       "4                      33012                    0       12513   \n",
       "\n",
       "  Treated_with_drugs  Patient_Age  Patient_Body_Mass_Index Patient_Smoker  \\\n",
       "0                DX6           56                18.479385            YES   \n",
       "1               DX2            36                22.945566            YES   \n",
       "2                DX6           48                27.510027            YES   \n",
       "3               DX1             5                19.130976             NO   \n",
       "4                NaN          128                 1.348400     Cannot say   \n",
       "\n",
       "  Patient_Rural_Urban Patient_mental_condition    A    B    C    D    E    F  \\\n",
       "0               URBAN                   Stable  1.0  0.0  0.0  0.0  1.0  0.0   \n",
       "1               RURAL                   Stable  1.0  0.0  0.0  0.0  0.0  0.0   \n",
       "2               RURAL                   Stable  1.0  0.0  0.0  0.0  0.0  0.0   \n",
       "3               URBAN                   Stable  1.0  0.0  0.0  0.0  0.0  0.0   \n",
       "4               RURAL                   Stable  0.0  0.0  0.0  0.0  0.0  0.0   \n",
       "\n",
       "     Z  Number_of_prev_cond  Survived_1_year  \n",
       "0  0.0                  2.0                0  \n",
       "1  0.0                  1.0                1  \n",
       "2  0.0                  1.0                0  \n",
       "3  0.0                  1.0                1  \n",
       "4  1.0                  1.0                1  "
      ]
     },
     "execution_count": 3,
     "metadata": {},
     "output_type": "execute_result"
    }
   ],
   "source": [
    "data.head()"
   ]
  },
  {
   "cell_type": "code",
   "execution_count": 4,
   "metadata": {},
   "outputs": [
    {
     "data": {
      "text/plain": [
       "ID_Patient_Care_Situation      int64\n",
       "Diagnosed_Condition            int64\n",
       "Patient_ID                     int64\n",
       "Treated_with_drugs            object\n",
       "Patient_Age                    int64\n",
       "Patient_Body_Mass_Index      float64\n",
       "Patient_Smoker                object\n",
       "Patient_Rural_Urban           object\n",
       "Patient_mental_condition      object\n",
       "A                            float64\n",
       "B                            float64\n",
       "C                            float64\n",
       "D                            float64\n",
       "E                            float64\n",
       "F                            float64\n",
       "Z                            float64\n",
       "Number_of_prev_cond          float64\n",
       "Survived_1_year                int64\n",
       "dtype: object"
      ]
     },
     "execution_count": 4,
     "metadata": {},
     "output_type": "execute_result"
    }
   ],
   "source": [
    "data.dtypes"
   ]
  },
  {
   "cell_type": "code",
   "execution_count": 5,
   "metadata": {},
   "outputs": [
    {
     "data": {
      "text/plain": [
       "Index(['ID_Patient_Care_Situation', 'Diagnosed_Condition', 'Patient_ID',\n",
       "       'Treated_with_drugs', 'Patient_Age', 'Patient_Body_Mass_Index',\n",
       "       'Patient_Smoker', 'Patient_Rural_Urban', 'Patient_mental_condition',\n",
       "       'A', 'B', 'C', 'D', 'E', 'F', 'Z', 'Number_of_prev_cond',\n",
       "       'Survived_1_year'],\n",
       "      dtype='object')"
      ]
     },
     "execution_count": 5,
     "metadata": {},
     "output_type": "execute_result"
    }
   ],
   "source": [
    "data.columns"
   ]
  },
  {
   "cell_type": "code",
   "execution_count": 6,
   "metadata": {},
   "outputs": [
    {
     "data": {
      "text/plain": [
       "ID_Patient_Care_Situation       0\n",
       "Diagnosed_Condition             0\n",
       "Patient_ID                      0\n",
       "Treated_with_drugs             13\n",
       "Patient_Age                     0\n",
       "Patient_Body_Mass_Index         0\n",
       "Patient_Smoker                  0\n",
       "Patient_Rural_Urban             0\n",
       "Patient_mental_condition        0\n",
       "A                            1235\n",
       "B                            1235\n",
       "C                            1235\n",
       "D                            1235\n",
       "E                            1235\n",
       "F                            1235\n",
       "Z                            1235\n",
       "Number_of_prev_cond          1235\n",
       "Survived_1_year                 0\n",
       "dtype: int64"
      ]
     },
     "execution_count": 6,
     "metadata": {},
     "output_type": "execute_result"
    }
   ],
   "source": [
    "data.isnull().sum()"
   ]
  },
  {
   "cell_type": "code",
   "execution_count": 7,
   "metadata": {},
   "outputs": [
    {
     "data": {
      "text/plain": [
       "0     56\n",
       "1     36\n",
       "2     48\n",
       "3      5\n",
       "4    128\n",
       "Name: Patient_Age, dtype: int64"
      ]
     },
     "execution_count": 7,
     "metadata": {},
     "output_type": "execute_result"
    }
   ],
   "source": [
    "data.Patient_Age.head()"
   ]
  },
  {
   "cell_type": "code",
   "execution_count": 8,
   "metadata": {},
   "outputs": [],
   "source": [
    "for i in range(len(data[\"Patient_Age\"])):\n",
    "    if (data.Patient_Age[i]>95 or data.Patient_Age[i]<1):\n",
    "        data.Patient_Age[i]=33"
   ]
  },
  {
   "cell_type": "code",
   "execution_count": 9,
   "metadata": {},
   "outputs": [
    {
     "data": {
      "text/plain": [
       "'DX6'"
      ]
     },
     "execution_count": 9,
     "metadata": {},
     "output_type": "execute_result"
    }
   ],
   "source": [
    "data[\"Treated_with_drugs\"].mode()[0]"
   ]
  },
  {
   "cell_type": "code",
   "execution_count": 10,
   "metadata": {},
   "outputs": [],
   "source": [
    "data[\"Treated_with_drugs\"].fillna(data[\"Treated_with_drugs\"].mode()[0],inplace=True)"
   ]
  },
  {
   "cell_type": "code",
   "execution_count": 11,
   "metadata": {},
   "outputs": [],
   "source": [
    "data[\"A\"].fillna(data[\"A\"].mode()[0],inplace=True)"
   ]
  },
  {
   "cell_type": "code",
   "execution_count": 12,
   "metadata": {},
   "outputs": [],
   "source": [
    "column=[\"B\",\"C\",\"D\",\"E\",\"F\",\"Z\"]\n",
    "for i in column:\n",
    "    data[i].fillna(data[i].mode()[0],inplace=True)"
   ]
  },
  {
   "cell_type": "code",
   "execution_count": 13,
   "metadata": {},
   "outputs": [],
   "source": [
    "sum=data[\"A\"]+data[\"B\"]+data[\"C\"]+data[\"D\"]+data[\"E\"]+data[\"F\"]+data[\"Z\"]"
   ]
  },
  {
   "cell_type": "code",
   "execution_count": 14,
   "metadata": {},
   "outputs": [],
   "source": [
    "data[\"Number_of_prev_cond\"].fillna(sum,inplace=True)"
   ]
  },
  {
   "cell_type": "code",
   "execution_count": 15,
   "metadata": {},
   "outputs": [
    {
     "data": {
      "text/plain": [
       "ID_Patient_Care_Situation    0\n",
       "Diagnosed_Condition          0\n",
       "Patient_ID                   0\n",
       "Treated_with_drugs           0\n",
       "Patient_Age                  0\n",
       "Patient_Body_Mass_Index      0\n",
       "Patient_Smoker               0\n",
       "Patient_Rural_Urban          0\n",
       "Patient_mental_condition     0\n",
       "A                            0\n",
       "B                            0\n",
       "C                            0\n",
       "D                            0\n",
       "E                            0\n",
       "F                            0\n",
       "Z                            0\n",
       "Number_of_prev_cond          0\n",
       "Survived_1_year              0\n",
       "dtype: int64"
      ]
     },
     "execution_count": 15,
     "metadata": {},
     "output_type": "execute_result"
    }
   ],
   "source": [
    "data.isnull().sum()"
   ]
  },
  {
   "cell_type": "code",
   "execution_count": 16,
   "metadata": {},
   "outputs": [
    {
     "data": {
      "text/plain": [
       "NO            13246\n",
       "YES            9838\n",
       "Cannot say       13\n",
       "Name: Patient_Smoker, dtype: int64"
      ]
     },
     "execution_count": 16,
     "metadata": {},
     "output_type": "execute_result"
    }
   ],
   "source": [
    "data[\"Patient_Smoker\"].value_counts()"
   ]
  },
  {
   "cell_type": "code",
   "execution_count": 17,
   "metadata": {},
   "outputs": [],
   "source": [
    "data[\"Patient_Smoker\"].replace({\"Cannot say\":\"NO\"},inplace=True)"
   ]
  },
  {
   "cell_type": "code",
   "execution_count": 18,
   "metadata": {},
   "outputs": [
    {
     "data": {
      "text/plain": [
       "1    14603\n",
       "0     8494\n",
       "Name: Survived_1_year, dtype: int64"
      ]
     },
     "execution_count": 18,
     "metadata": {},
     "output_type": "execute_result"
    }
   ],
   "source": [
    "data[\"Survived_1_year\"].value_counts()"
   ]
  },
  {
   "cell_type": "code",
   "execution_count": 19,
   "metadata": {},
   "outputs": [
    {
     "data": {
      "text/html": [
       "<div>\n",
       "<style scoped>\n",
       "    .dataframe tbody tr th:only-of-type {\n",
       "        vertical-align: middle;\n",
       "    }\n",
       "\n",
       "    .dataframe tbody tr th {\n",
       "        vertical-align: top;\n",
       "    }\n",
       "\n",
       "    .dataframe thead th {\n",
       "        text-align: right;\n",
       "    }\n",
       "</style>\n",
       "<table border=\"1\" class=\"dataframe\">\n",
       "  <thead>\n",
       "    <tr style=\"text-align: right;\">\n",
       "      <th></th>\n",
       "      <th>ID_Patient_Care_Situation</th>\n",
       "      <th>Diagnosed_Condition</th>\n",
       "      <th>Patient_ID</th>\n",
       "      <th>Treated_with_drugs</th>\n",
       "      <th>Patient_Age</th>\n",
       "      <th>Patient_Body_Mass_Index</th>\n",
       "      <th>Patient_Smoker</th>\n",
       "      <th>Patient_Rural_Urban</th>\n",
       "      <th>Patient_mental_condition</th>\n",
       "      <th>A</th>\n",
       "      <th>B</th>\n",
       "      <th>C</th>\n",
       "      <th>D</th>\n",
       "      <th>E</th>\n",
       "      <th>F</th>\n",
       "      <th>Z</th>\n",
       "      <th>Number_of_prev_cond</th>\n",
       "      <th>Survived_1_year</th>\n",
       "    </tr>\n",
       "  </thead>\n",
       "  <tbody>\n",
       "    <tr>\n",
       "      <th>count</th>\n",
       "      <td>23097.000000</td>\n",
       "      <td>23097.000000</td>\n",
       "      <td>23097.000000</td>\n",
       "      <td>23097</td>\n",
       "      <td>23097.000000</td>\n",
       "      <td>23097.000000</td>\n",
       "      <td>23097</td>\n",
       "      <td>23097</td>\n",
       "      <td>23097</td>\n",
       "      <td>23097.000000</td>\n",
       "      <td>23097.000000</td>\n",
       "      <td>23097.000000</td>\n",
       "      <td>23097.000000</td>\n",
       "      <td>23097.000000</td>\n",
       "      <td>23097.000000</td>\n",
       "      <td>23097.000000</td>\n",
       "      <td>23097.000000</td>\n",
       "      <td>23097.000000</td>\n",
       "    </tr>\n",
       "    <tr>\n",
       "      <th>unique</th>\n",
       "      <td>NaN</td>\n",
       "      <td>NaN</td>\n",
       "      <td>NaN</td>\n",
       "      <td>32</td>\n",
       "      <td>NaN</td>\n",
       "      <td>NaN</td>\n",
       "      <td>2</td>\n",
       "      <td>2</td>\n",
       "      <td>1</td>\n",
       "      <td>NaN</td>\n",
       "      <td>NaN</td>\n",
       "      <td>NaN</td>\n",
       "      <td>NaN</td>\n",
       "      <td>NaN</td>\n",
       "      <td>NaN</td>\n",
       "      <td>NaN</td>\n",
       "      <td>NaN</td>\n",
       "      <td>NaN</td>\n",
       "    </tr>\n",
       "    <tr>\n",
       "      <th>top</th>\n",
       "      <td>NaN</td>\n",
       "      <td>NaN</td>\n",
       "      <td>NaN</td>\n",
       "      <td>DX6</td>\n",
       "      <td>NaN</td>\n",
       "      <td>NaN</td>\n",
       "      <td>NO</td>\n",
       "      <td>RURAL</td>\n",
       "      <td>Stable</td>\n",
       "      <td>NaN</td>\n",
       "      <td>NaN</td>\n",
       "      <td>NaN</td>\n",
       "      <td>NaN</td>\n",
       "      <td>NaN</td>\n",
       "      <td>NaN</td>\n",
       "      <td>NaN</td>\n",
       "      <td>NaN</td>\n",
       "      <td>NaN</td>\n",
       "    </tr>\n",
       "    <tr>\n",
       "      <th>freq</th>\n",
       "      <td>NaN</td>\n",
       "      <td>NaN</td>\n",
       "      <td>NaN</td>\n",
       "      <td>8619</td>\n",
       "      <td>NaN</td>\n",
       "      <td>NaN</td>\n",
       "      <td>13259</td>\n",
       "      <td>16134</td>\n",
       "      <td>23097</td>\n",
       "      <td>NaN</td>\n",
       "      <td>NaN</td>\n",
       "      <td>NaN</td>\n",
       "      <td>NaN</td>\n",
       "      <td>NaN</td>\n",
       "      <td>NaN</td>\n",
       "      <td>NaN</td>\n",
       "      <td>NaN</td>\n",
       "      <td>NaN</td>\n",
       "    </tr>\n",
       "    <tr>\n",
       "      <th>mean</th>\n",
       "      <td>16545.712041</td>\n",
       "      <td>26.413127</td>\n",
       "      <td>6261.280772</td>\n",
       "      <td>NaN</td>\n",
       "      <td>33.716846</td>\n",
       "      <td>23.454820</td>\n",
       "      <td>NaN</td>\n",
       "      <td>NaN</td>\n",
       "      <td>NaN</td>\n",
       "      <td>0.903364</td>\n",
       "      <td>0.129064</td>\n",
       "      <td>0.175174</td>\n",
       "      <td>0.079144</td>\n",
       "      <td>0.372213</td>\n",
       "      <td>0.050829</td>\n",
       "      <td>0.000563</td>\n",
       "      <td>1.710352</td>\n",
       "      <td>0.632247</td>\n",
       "    </tr>\n",
       "    <tr>\n",
       "      <th>std</th>\n",
       "      <td>9532.263503</td>\n",
       "      <td>15.030865</td>\n",
       "      <td>3595.990620</td>\n",
       "      <td>NaN</td>\n",
       "      <td>18.925453</td>\n",
       "      <td>3.807661</td>\n",
       "      <td>NaN</td>\n",
       "      <td>NaN</td>\n",
       "      <td>NaN</td>\n",
       "      <td>0.295468</td>\n",
       "      <td>0.335278</td>\n",
       "      <td>0.380124</td>\n",
       "      <td>0.269970</td>\n",
       "      <td>0.483405</td>\n",
       "      <td>0.219653</td>\n",
       "      <td>0.023718</td>\n",
       "      <td>0.768216</td>\n",
       "      <td>0.482204</td>\n",
       "    </tr>\n",
       "    <tr>\n",
       "      <th>min</th>\n",
       "      <td>2.000000</td>\n",
       "      <td>0.000000</td>\n",
       "      <td>1.000000</td>\n",
       "      <td>NaN</td>\n",
       "      <td>1.000000</td>\n",
       "      <td>1.089300</td>\n",
       "      <td>NaN</td>\n",
       "      <td>NaN</td>\n",
       "      <td>NaN</td>\n",
       "      <td>0.000000</td>\n",
       "      <td>0.000000</td>\n",
       "      <td>0.000000</td>\n",
       "      <td>0.000000</td>\n",
       "      <td>0.000000</td>\n",
       "      <td>0.000000</td>\n",
       "      <td>0.000000</td>\n",
       "      <td>1.000000</td>\n",
       "      <td>0.000000</td>\n",
       "    </tr>\n",
       "    <tr>\n",
       "      <th>25%</th>\n",
       "      <td>8280.000000</td>\n",
       "      <td>13.000000</td>\n",
       "      <td>3181.000000</td>\n",
       "      <td>NaN</td>\n",
       "      <td>18.000000</td>\n",
       "      <td>20.205550</td>\n",
       "      <td>NaN</td>\n",
       "      <td>NaN</td>\n",
       "      <td>NaN</td>\n",
       "      <td>1.000000</td>\n",
       "      <td>0.000000</td>\n",
       "      <td>0.000000</td>\n",
       "      <td>0.000000</td>\n",
       "      <td>0.000000</td>\n",
       "      <td>0.000000</td>\n",
       "      <td>0.000000</td>\n",
       "      <td>1.000000</td>\n",
       "      <td>0.000000</td>\n",
       "    </tr>\n",
       "    <tr>\n",
       "      <th>50%</th>\n",
       "      <td>16597.000000</td>\n",
       "      <td>26.000000</td>\n",
       "      <td>6242.000000</td>\n",
       "      <td>NaN</td>\n",
       "      <td>33.000000</td>\n",
       "      <td>23.386199</td>\n",
       "      <td>NaN</td>\n",
       "      <td>NaN</td>\n",
       "      <td>NaN</td>\n",
       "      <td>1.000000</td>\n",
       "      <td>0.000000</td>\n",
       "      <td>0.000000</td>\n",
       "      <td>0.000000</td>\n",
       "      <td>0.000000</td>\n",
       "      <td>0.000000</td>\n",
       "      <td>0.000000</td>\n",
       "      <td>2.000000</td>\n",
       "      <td>1.000000</td>\n",
       "    </tr>\n",
       "    <tr>\n",
       "      <th>75%</th>\n",
       "      <td>24825.000000</td>\n",
       "      <td>39.000000</td>\n",
       "      <td>9363.000000</td>\n",
       "      <td>NaN</td>\n",
       "      <td>50.000000</td>\n",
       "      <td>26.788154</td>\n",
       "      <td>NaN</td>\n",
       "      <td>NaN</td>\n",
       "      <td>NaN</td>\n",
       "      <td>1.000000</td>\n",
       "      <td>0.000000</td>\n",
       "      <td>0.000000</td>\n",
       "      <td>0.000000</td>\n",
       "      <td>1.000000</td>\n",
       "      <td>0.000000</td>\n",
       "      <td>0.000000</td>\n",
       "      <td>2.000000</td>\n",
       "      <td>1.000000</td>\n",
       "    </tr>\n",
       "    <tr>\n",
       "      <th>max</th>\n",
       "      <td>33014.000000</td>\n",
       "      <td>52.000000</td>\n",
       "      <td>12515.000000</td>\n",
       "      <td>NaN</td>\n",
       "      <td>66.000000</td>\n",
       "      <td>29.999579</td>\n",
       "      <td>NaN</td>\n",
       "      <td>NaN</td>\n",
       "      <td>NaN</td>\n",
       "      <td>1.000000</td>\n",
       "      <td>1.000000</td>\n",
       "      <td>1.000000</td>\n",
       "      <td>1.000000</td>\n",
       "      <td>1.000000</td>\n",
       "      <td>1.000000</td>\n",
       "      <td>1.000000</td>\n",
       "      <td>5.000000</td>\n",
       "      <td>1.000000</td>\n",
       "    </tr>\n",
       "  </tbody>\n",
       "</table>\n",
       "</div>"
      ],
      "text/plain": [
       "        ID_Patient_Care_Situation  Diagnosed_Condition    Patient_ID  \\\n",
       "count                23097.000000         23097.000000  23097.000000   \n",
       "unique                        NaN                  NaN           NaN   \n",
       "top                           NaN                  NaN           NaN   \n",
       "freq                          NaN                  NaN           NaN   \n",
       "mean                 16545.712041            26.413127   6261.280772   \n",
       "std                   9532.263503            15.030865   3595.990620   \n",
       "min                      2.000000             0.000000      1.000000   \n",
       "25%                   8280.000000            13.000000   3181.000000   \n",
       "50%                  16597.000000            26.000000   6242.000000   \n",
       "75%                  24825.000000            39.000000   9363.000000   \n",
       "max                  33014.000000            52.000000  12515.000000   \n",
       "\n",
       "       Treated_with_drugs   Patient_Age  Patient_Body_Mass_Index  \\\n",
       "count               23097  23097.000000             23097.000000   \n",
       "unique                 32           NaN                      NaN   \n",
       "top                   DX6           NaN                      NaN   \n",
       "freq                 8619           NaN                      NaN   \n",
       "mean                  NaN     33.716846                23.454820   \n",
       "std                   NaN     18.925453                 3.807661   \n",
       "min                   NaN      1.000000                 1.089300   \n",
       "25%                   NaN     18.000000                20.205550   \n",
       "50%                   NaN     33.000000                23.386199   \n",
       "75%                   NaN     50.000000                26.788154   \n",
       "max                   NaN     66.000000                29.999579   \n",
       "\n",
       "       Patient_Smoker Patient_Rural_Urban Patient_mental_condition  \\\n",
       "count           23097               23097                    23097   \n",
       "unique              2                   2                        1   \n",
       "top                NO               RURAL                   Stable   \n",
       "freq            13259               16134                    23097   \n",
       "mean              NaN                 NaN                      NaN   \n",
       "std               NaN                 NaN                      NaN   \n",
       "min               NaN                 NaN                      NaN   \n",
       "25%               NaN                 NaN                      NaN   \n",
       "50%               NaN                 NaN                      NaN   \n",
       "75%               NaN                 NaN                      NaN   \n",
       "max               NaN                 NaN                      NaN   \n",
       "\n",
       "                   A             B             C             D             E  \\\n",
       "count   23097.000000  23097.000000  23097.000000  23097.000000  23097.000000   \n",
       "unique           NaN           NaN           NaN           NaN           NaN   \n",
       "top              NaN           NaN           NaN           NaN           NaN   \n",
       "freq             NaN           NaN           NaN           NaN           NaN   \n",
       "mean        0.903364      0.129064      0.175174      0.079144      0.372213   \n",
       "std         0.295468      0.335278      0.380124      0.269970      0.483405   \n",
       "min         0.000000      0.000000      0.000000      0.000000      0.000000   \n",
       "25%         1.000000      0.000000      0.000000      0.000000      0.000000   \n",
       "50%         1.000000      0.000000      0.000000      0.000000      0.000000   \n",
       "75%         1.000000      0.000000      0.000000      0.000000      1.000000   \n",
       "max         1.000000      1.000000      1.000000      1.000000      1.000000   \n",
       "\n",
       "                   F             Z  Number_of_prev_cond  Survived_1_year  \n",
       "count   23097.000000  23097.000000         23097.000000     23097.000000  \n",
       "unique           NaN           NaN                  NaN              NaN  \n",
       "top              NaN           NaN                  NaN              NaN  \n",
       "freq             NaN           NaN                  NaN              NaN  \n",
       "mean        0.050829      0.000563             1.710352         0.632247  \n",
       "std         0.219653      0.023718             0.768216         0.482204  \n",
       "min         0.000000      0.000000             1.000000         0.000000  \n",
       "25%         0.000000      0.000000             1.000000         0.000000  \n",
       "50%         0.000000      0.000000             2.000000         1.000000  \n",
       "75%         0.000000      0.000000             2.000000         1.000000  \n",
       "max         1.000000      1.000000             5.000000         1.000000  "
      ]
     },
     "execution_count": 19,
     "metadata": {},
     "output_type": "execute_result"
    }
   ],
   "source": [
    "data.describe(include='all')"
   ]
  },
  {
   "cell_type": "code",
   "execution_count": 20,
   "metadata": {},
   "outputs": [
    {
     "data": {
      "text/html": [
       "<div>\n",
       "<style scoped>\n",
       "    .dataframe tbody tr th:only-of-type {\n",
       "        vertical-align: middle;\n",
       "    }\n",
       "\n",
       "    .dataframe tbody tr th {\n",
       "        vertical-align: top;\n",
       "    }\n",
       "\n",
       "    .dataframe thead th {\n",
       "        text-align: right;\n",
       "    }\n",
       "</style>\n",
       "<table border=\"1\" class=\"dataframe\">\n",
       "  <thead>\n",
       "    <tr style=\"text-align: right;\">\n",
       "      <th></th>\n",
       "      <th>ID_Patient_Care_Situation</th>\n",
       "      <th>Diagnosed_Condition</th>\n",
       "      <th>Patient_ID</th>\n",
       "      <th>Patient_Age</th>\n",
       "      <th>Patient_Body_Mass_Index</th>\n",
       "      <th>A</th>\n",
       "      <th>B</th>\n",
       "      <th>C</th>\n",
       "      <th>D</th>\n",
       "      <th>E</th>\n",
       "      <th>F</th>\n",
       "      <th>Z</th>\n",
       "      <th>Number_of_prev_cond</th>\n",
       "      <th>Survived_1_year</th>\n",
       "    </tr>\n",
       "  </thead>\n",
       "  <tbody>\n",
       "    <tr>\n",
       "      <th>ID_Patient_Care_Situation</th>\n",
       "      <td>1.000000</td>\n",
       "      <td>-0.007446</td>\n",
       "      <td>0.000235</td>\n",
       "      <td>-0.001607</td>\n",
       "      <td>-0.007259</td>\n",
       "      <td>0.005100</td>\n",
       "      <td>0.004158</td>\n",
       "      <td>0.009425</td>\n",
       "      <td>-0.006928</td>\n",
       "      <td>-0.001042</td>\n",
       "      <td>0.007084</td>\n",
       "      <td>0.040983</td>\n",
       "      <td>0.008640</td>\n",
       "      <td>-0.004685</td>\n",
       "    </tr>\n",
       "    <tr>\n",
       "      <th>Diagnosed_Condition</th>\n",
       "      <td>-0.007446</td>\n",
       "      <td>1.000000</td>\n",
       "      <td>0.008315</td>\n",
       "      <td>-0.002271</td>\n",
       "      <td>0.008305</td>\n",
       "      <td>0.005431</td>\n",
       "      <td>0.003063</td>\n",
       "      <td>-0.003634</td>\n",
       "      <td>-0.008186</td>\n",
       "      <td>0.006056</td>\n",
       "      <td>0.005311</td>\n",
       "      <td>-0.041702</td>\n",
       "      <td>0.002793</td>\n",
       "      <td>-0.004450</td>\n",
       "    </tr>\n",
       "    <tr>\n",
       "      <th>Patient_ID</th>\n",
       "      <td>0.000235</td>\n",
       "      <td>0.008315</td>\n",
       "      <td>1.000000</td>\n",
       "      <td>0.007237</td>\n",
       "      <td>-0.023189</td>\n",
       "      <td>-0.004741</td>\n",
       "      <td>-0.012431</td>\n",
       "      <td>-0.006833</td>\n",
       "      <td>-0.004973</td>\n",
       "      <td>-0.000406</td>\n",
       "      <td>0.007289</td>\n",
       "      <td>0.041227</td>\n",
       "      <td>-0.009276</td>\n",
       "      <td>-0.004214</td>\n",
       "    </tr>\n",
       "    <tr>\n",
       "      <th>Patient_Age</th>\n",
       "      <td>-0.001607</td>\n",
       "      <td>-0.002271</td>\n",
       "      <td>0.007237</td>\n",
       "      <td>1.000000</td>\n",
       "      <td>0.011922</td>\n",
       "      <td>-0.015052</td>\n",
       "      <td>-0.010119</td>\n",
       "      <td>-0.008512</td>\n",
       "      <td>0.008022</td>\n",
       "      <td>-0.003170</td>\n",
       "      <td>0.009378</td>\n",
       "      <td>-0.000899</td>\n",
       "      <td>-0.010939</td>\n",
       "      <td>-0.084528</td>\n",
       "    </tr>\n",
       "    <tr>\n",
       "      <th>Patient_Body_Mass_Index</th>\n",
       "      <td>-0.007259</td>\n",
       "      <td>0.008305</td>\n",
       "      <td>-0.023189</td>\n",
       "      <td>0.011922</td>\n",
       "      <td>1.000000</td>\n",
       "      <td>0.020349</td>\n",
       "      <td>0.000848</td>\n",
       "      <td>-0.018060</td>\n",
       "      <td>-0.009257</td>\n",
       "      <td>-0.006431</td>\n",
       "      <td>-0.016045</td>\n",
       "      <td>-0.136708</td>\n",
       "      <td>-0.016848</td>\n",
       "      <td>-0.121844</td>\n",
       "    </tr>\n",
       "    <tr>\n",
       "      <th>A</th>\n",
       "      <td>0.005100</td>\n",
       "      <td>0.005431</td>\n",
       "      <td>-0.004741</td>\n",
       "      <td>-0.015052</td>\n",
       "      <td>0.020349</td>\n",
       "      <td>1.000000</td>\n",
       "      <td>-0.070336</td>\n",
       "      <td>-0.097536</td>\n",
       "      <td>-0.081067</td>\n",
       "      <td>-0.174069</td>\n",
       "      <td>-0.058407</td>\n",
       "      <td>-0.072557</td>\n",
       "      <td>0.148692</td>\n",
       "      <td>-0.043404</td>\n",
       "    </tr>\n",
       "    <tr>\n",
       "      <th>B</th>\n",
       "      <td>0.004158</td>\n",
       "      <td>0.003063</td>\n",
       "      <td>-0.012431</td>\n",
       "      <td>-0.010119</td>\n",
       "      <td>0.000848</td>\n",
       "      <td>-0.070336</td>\n",
       "      <td>1.000000</td>\n",
       "      <td>-0.010937</td>\n",
       "      <td>0.004339</td>\n",
       "      <td>-0.000686</td>\n",
       "      <td>-0.010889</td>\n",
       "      <td>-0.009135</td>\n",
       "      <td>0.401671</td>\n",
       "      <td>-0.054560</td>\n",
       "    </tr>\n",
       "    <tr>\n",
       "      <th>C</th>\n",
       "      <td>0.009425</td>\n",
       "      <td>-0.003634</td>\n",
       "      <td>-0.006833</td>\n",
       "      <td>-0.008512</td>\n",
       "      <td>-0.018060</td>\n",
       "      <td>-0.097536</td>\n",
       "      <td>-0.010937</td>\n",
       "      <td>1.000000</td>\n",
       "      <td>0.015097</td>\n",
       "      <td>-0.005649</td>\n",
       "      <td>0.006920</td>\n",
       "      <td>-0.010936</td>\n",
       "      <td>0.455918</td>\n",
       "      <td>-0.039701</td>\n",
       "    </tr>\n",
       "    <tr>\n",
       "      <th>D</th>\n",
       "      <td>-0.006928</td>\n",
       "      <td>-0.008186</td>\n",
       "      <td>-0.004973</td>\n",
       "      <td>0.008022</td>\n",
       "      <td>-0.009257</td>\n",
       "      <td>-0.081067</td>\n",
       "      <td>0.004339</td>\n",
       "      <td>0.015097</td>\n",
       "      <td>1.000000</td>\n",
       "      <td>-0.000466</td>\n",
       "      <td>-0.005780</td>\n",
       "      <td>-0.006957</td>\n",
       "      <td>0.327448</td>\n",
       "      <td>-0.107677</td>\n",
       "    </tr>\n",
       "    <tr>\n",
       "      <th>E</th>\n",
       "      <td>-0.001042</td>\n",
       "      <td>0.006056</td>\n",
       "      <td>-0.000406</td>\n",
       "      <td>-0.003170</td>\n",
       "      <td>-0.006431</td>\n",
       "      <td>-0.174069</td>\n",
       "      <td>-0.000686</td>\n",
       "      <td>-0.005649</td>\n",
       "      <td>-0.000466</td>\n",
       "      <td>1.000000</td>\n",
       "      <td>0.004902</td>\n",
       "      <td>-0.018273</td>\n",
       "      <td>0.559886</td>\n",
       "      <td>0.008466</td>\n",
       "    </tr>\n",
       "    <tr>\n",
       "      <th>F</th>\n",
       "      <td>0.007084</td>\n",
       "      <td>0.005311</td>\n",
       "      <td>0.007289</td>\n",
       "      <td>0.009378</td>\n",
       "      <td>-0.016045</td>\n",
       "      <td>-0.058407</td>\n",
       "      <td>-0.010889</td>\n",
       "      <td>0.006920</td>\n",
       "      <td>-0.005780</td>\n",
       "      <td>0.004902</td>\n",
       "      <td>1.000000</td>\n",
       "      <td>-0.005492</td>\n",
       "      <td>0.263018</td>\n",
       "      <td>0.000304</td>\n",
       "    </tr>\n",
       "    <tr>\n",
       "      <th>Z</th>\n",
       "      <td>0.040983</td>\n",
       "      <td>-0.041702</td>\n",
       "      <td>0.041227</td>\n",
       "      <td>-0.000899</td>\n",
       "      <td>-0.136708</td>\n",
       "      <td>-0.072557</td>\n",
       "      <td>-0.009135</td>\n",
       "      <td>-0.010936</td>\n",
       "      <td>-0.006957</td>\n",
       "      <td>-0.018273</td>\n",
       "      <td>-0.005492</td>\n",
       "      <td>1.000000</td>\n",
       "      <td>-0.021944</td>\n",
       "      <td>0.018099</td>\n",
       "    </tr>\n",
       "    <tr>\n",
       "      <th>Number_of_prev_cond</th>\n",
       "      <td>0.008640</td>\n",
       "      <td>0.002793</td>\n",
       "      <td>-0.009276</td>\n",
       "      <td>-0.010939</td>\n",
       "      <td>-0.016848</td>\n",
       "      <td>0.148692</td>\n",
       "      <td>0.401671</td>\n",
       "      <td>0.455918</td>\n",
       "      <td>0.327448</td>\n",
       "      <td>0.559886</td>\n",
       "      <td>0.263018</td>\n",
       "      <td>-0.021944</td>\n",
       "      <td>1.000000</td>\n",
       "      <td>-0.092018</td>\n",
       "    </tr>\n",
       "    <tr>\n",
       "      <th>Survived_1_year</th>\n",
       "      <td>-0.004685</td>\n",
       "      <td>-0.004450</td>\n",
       "      <td>-0.004214</td>\n",
       "      <td>-0.084528</td>\n",
       "      <td>-0.121844</td>\n",
       "      <td>-0.043404</td>\n",
       "      <td>-0.054560</td>\n",
       "      <td>-0.039701</td>\n",
       "      <td>-0.107677</td>\n",
       "      <td>0.008466</td>\n",
       "      <td>0.000304</td>\n",
       "      <td>0.018099</td>\n",
       "      <td>-0.092018</td>\n",
       "      <td>1.000000</td>\n",
       "    </tr>\n",
       "  </tbody>\n",
       "</table>\n",
       "</div>"
      ],
      "text/plain": [
       "                           ID_Patient_Care_Situation  Diagnosed_Condition  \\\n",
       "ID_Patient_Care_Situation                   1.000000            -0.007446   \n",
       "Diagnosed_Condition                        -0.007446             1.000000   \n",
       "Patient_ID                                  0.000235             0.008315   \n",
       "Patient_Age                                -0.001607            -0.002271   \n",
       "Patient_Body_Mass_Index                    -0.007259             0.008305   \n",
       "A                                           0.005100             0.005431   \n",
       "B                                           0.004158             0.003063   \n",
       "C                                           0.009425            -0.003634   \n",
       "D                                          -0.006928            -0.008186   \n",
       "E                                          -0.001042             0.006056   \n",
       "F                                           0.007084             0.005311   \n",
       "Z                                           0.040983            -0.041702   \n",
       "Number_of_prev_cond                         0.008640             0.002793   \n",
       "Survived_1_year                            -0.004685            -0.004450   \n",
       "\n",
       "                           Patient_ID  Patient_Age  Patient_Body_Mass_Index  \\\n",
       "ID_Patient_Care_Situation    0.000235    -0.001607                -0.007259   \n",
       "Diagnosed_Condition          0.008315    -0.002271                 0.008305   \n",
       "Patient_ID                   1.000000     0.007237                -0.023189   \n",
       "Patient_Age                  0.007237     1.000000                 0.011922   \n",
       "Patient_Body_Mass_Index     -0.023189     0.011922                 1.000000   \n",
       "A                           -0.004741    -0.015052                 0.020349   \n",
       "B                           -0.012431    -0.010119                 0.000848   \n",
       "C                           -0.006833    -0.008512                -0.018060   \n",
       "D                           -0.004973     0.008022                -0.009257   \n",
       "E                           -0.000406    -0.003170                -0.006431   \n",
       "F                            0.007289     0.009378                -0.016045   \n",
       "Z                            0.041227    -0.000899                -0.136708   \n",
       "Number_of_prev_cond         -0.009276    -0.010939                -0.016848   \n",
       "Survived_1_year             -0.004214    -0.084528                -0.121844   \n",
       "\n",
       "                                  A         B         C         D         E  \\\n",
       "ID_Patient_Care_Situation  0.005100  0.004158  0.009425 -0.006928 -0.001042   \n",
       "Diagnosed_Condition        0.005431  0.003063 -0.003634 -0.008186  0.006056   \n",
       "Patient_ID                -0.004741 -0.012431 -0.006833 -0.004973 -0.000406   \n",
       "Patient_Age               -0.015052 -0.010119 -0.008512  0.008022 -0.003170   \n",
       "Patient_Body_Mass_Index    0.020349  0.000848 -0.018060 -0.009257 -0.006431   \n",
       "A                          1.000000 -0.070336 -0.097536 -0.081067 -0.174069   \n",
       "B                         -0.070336  1.000000 -0.010937  0.004339 -0.000686   \n",
       "C                         -0.097536 -0.010937  1.000000  0.015097 -0.005649   \n",
       "D                         -0.081067  0.004339  0.015097  1.000000 -0.000466   \n",
       "E                         -0.174069 -0.000686 -0.005649 -0.000466  1.000000   \n",
       "F                         -0.058407 -0.010889  0.006920 -0.005780  0.004902   \n",
       "Z                         -0.072557 -0.009135 -0.010936 -0.006957 -0.018273   \n",
       "Number_of_prev_cond        0.148692  0.401671  0.455918  0.327448  0.559886   \n",
       "Survived_1_year           -0.043404 -0.054560 -0.039701 -0.107677  0.008466   \n",
       "\n",
       "                                  F         Z  Number_of_prev_cond  \\\n",
       "ID_Patient_Care_Situation  0.007084  0.040983             0.008640   \n",
       "Diagnosed_Condition        0.005311 -0.041702             0.002793   \n",
       "Patient_ID                 0.007289  0.041227            -0.009276   \n",
       "Patient_Age                0.009378 -0.000899            -0.010939   \n",
       "Patient_Body_Mass_Index   -0.016045 -0.136708            -0.016848   \n",
       "A                         -0.058407 -0.072557             0.148692   \n",
       "B                         -0.010889 -0.009135             0.401671   \n",
       "C                          0.006920 -0.010936             0.455918   \n",
       "D                         -0.005780 -0.006957             0.327448   \n",
       "E                          0.004902 -0.018273             0.559886   \n",
       "F                          1.000000 -0.005492             0.263018   \n",
       "Z                         -0.005492  1.000000            -0.021944   \n",
       "Number_of_prev_cond        0.263018 -0.021944             1.000000   \n",
       "Survived_1_year            0.000304  0.018099            -0.092018   \n",
       "\n",
       "                           Survived_1_year  \n",
       "ID_Patient_Care_Situation        -0.004685  \n",
       "Diagnosed_Condition              -0.004450  \n",
       "Patient_ID                       -0.004214  \n",
       "Patient_Age                      -0.084528  \n",
       "Patient_Body_Mass_Index          -0.121844  \n",
       "A                                -0.043404  \n",
       "B                                -0.054560  \n",
       "C                                -0.039701  \n",
       "D                                -0.107677  \n",
       "E                                 0.008466  \n",
       "F                                 0.000304  \n",
       "Z                                 0.018099  \n",
       "Number_of_prev_cond              -0.092018  \n",
       "Survived_1_year                   1.000000  "
      ]
     },
     "execution_count": 20,
     "metadata": {},
     "output_type": "execute_result"
    }
   ],
   "source": [
    "data.corr()"
   ]
  },
  {
   "cell_type": "code",
   "execution_count": 21,
   "metadata": {},
   "outputs": [],
   "source": [
    "features=data.drop([\"Survived_1_year\",\"Patient_mental_condition\"],axis=1)\n",
    "target=data[\"Survived_1_year\"]"
   ]
  },
  {
   "cell_type": "code",
   "execution_count": 22,
   "metadata": {},
   "outputs": [
    {
     "data": {
      "text/plain": [
       "ID_Patient_Care_Situation      int64\n",
       "Diagnosed_Condition            int64\n",
       "Patient_ID                     int64\n",
       "Treated_with_drugs            object\n",
       "Patient_Age                    int64\n",
       "Patient_Body_Mass_Index      float64\n",
       "Patient_Smoker                object\n",
       "Patient_Rural_Urban           object\n",
       "A                            float64\n",
       "B                            float64\n",
       "C                            float64\n",
       "D                            float64\n",
       "E                            float64\n",
       "F                            float64\n",
       "Z                            float64\n",
       "Number_of_prev_cond          float64\n",
       "dtype: object"
      ]
     },
     "execution_count": 22,
     "metadata": {},
     "output_type": "execute_result"
    }
   ],
   "source": [
    "features.dtypes"
   ]
  },
  {
   "cell_type": "code",
   "execution_count": 23,
   "metadata": {},
   "outputs": [
    {
     "data": {
      "text/plain": [
       "(23097, 16)"
      ]
     },
     "execution_count": 23,
     "metadata": {},
     "output_type": "execute_result"
    }
   ],
   "source": [
    "features.shape"
   ]
  },
  {
   "cell_type": "code",
   "execution_count": 24,
   "metadata": {},
   "outputs": [],
   "source": [
    "features=pd.get_dummies(features,columns=['Treated_with_drugs','Patient_Smoker','Patient_Rural_Urban'])"
   ]
  },
  {
   "cell_type": "code",
   "execution_count": 25,
   "metadata": {},
   "outputs": [],
   "source": [
    "from sklearn.model_selection import train_test_split"
   ]
  },
  {
   "cell_type": "code",
   "execution_count": 26,
   "metadata": {},
   "outputs": [],
   "source": [
    "train_features,test_features,train_target,test_target=train_test_split(features,target,test_size=0.2,random_state = 0)"
   ]
  },
  {
   "cell_type": "code",
   "execution_count": 27,
   "metadata": {},
   "outputs": [],
   "source": [
    "from sklearn.linear_model import LogisticRegression"
   ]
  },
  {
   "cell_type": "code",
   "execution_count": 28,
   "metadata": {},
   "outputs": [
    {
     "data": {
      "text/plain": [
       "LogisticRegression(C=1.0, class_weight=None, dual=False, fit_intercept=True,\n",
       "                   intercept_scaling=1, l1_ratio=None, max_iter=100,\n",
       "                   multi_class='auto', n_jobs=None, penalty='l2',\n",
       "                   random_state=0, solver='lbfgs', tol=0.0001, verbose=0,\n",
       "                   warm_start=False)"
      ]
     },
     "execution_count": 28,
     "metadata": {},
     "output_type": "execute_result"
    }
   ],
   "source": [
    "lgr=LogisticRegression(random_state=0)\n",
    "lgr.fit(train_features,train_target)"
   ]
  },
  {
   "cell_type": "code",
   "execution_count": 29,
   "metadata": {},
   "outputs": [],
   "source": [
    "from sklearn.metrics import f1_score"
   ]
  },
  {
   "cell_type": "code",
   "execution_count": 30,
   "metadata": {},
   "outputs": [
    {
     "data": {
      "text/plain": [
       "0.7875478316326531"
      ]
     },
     "execution_count": 30,
     "metadata": {},
     "output_type": "execute_result"
    }
   ],
   "source": [
    "pred1=lgr.predict(train_features)\n",
    "f1_score(train_target,pred1)"
   ]
  },
  {
   "cell_type": "code",
   "execution_count": 31,
   "metadata": {},
   "outputs": [
    {
     "data": {
      "text/plain": [
       "0.7857603092783505"
      ]
     },
     "execution_count": 31,
     "metadata": {},
     "output_type": "execute_result"
    }
   ],
   "source": [
    "pred2=lgr.predict(test_features)\n",
    "f1_score(test_target,pred2)"
   ]
  },
  {
   "cell_type": "code",
   "execution_count": 32,
   "metadata": {},
   "outputs": [],
   "source": [
    "from sklearn.ensemble import RandomForestClassifier"
   ]
  },
  {
   "cell_type": "code",
   "execution_count": 33,
   "metadata": {},
   "outputs": [
    {
     "data": {
      "text/plain": [
       "RandomForestClassifier(bootstrap=True, ccp_alpha=0.0, class_weight=None,\n",
       "                       criterion='gini', max_depth=10, max_features='auto',\n",
       "                       max_leaf_nodes=None, max_samples=None,\n",
       "                       min_impurity_decrease=0.0, min_impurity_split=None,\n",
       "                       min_samples_leaf=1, min_samples_split=2,\n",
       "                       min_weight_fraction_leaf=0.0, n_estimators=80,\n",
       "                       n_jobs=None, oob_score=False, random_state=0, verbose=0,\n",
       "                       warm_start=False)"
      ]
     },
     "execution_count": 33,
     "metadata": {},
     "output_type": "execute_result"
    }
   ],
   "source": [
    "rfc=RandomForestClassifier(bootstrap=True,criterion='gini',max_depth=10,n_estimators=80,random_state=0,)\n",
    "rfc.fit(train_features,train_target)"
   ]
  },
  {
   "cell_type": "code",
   "execution_count": 34,
   "metadata": {},
   "outputs": [
    {
     "name": "stdout",
     "output_type": "stream",
     "text": [
      "training 0.8798211291224147\n",
      "test 0.8558079587562429\n"
     ]
    }
   ],
   "source": [
    "predict1=rfc.predict(train_features)\n",
    "predict2 = rfc.predict(test_features)\n",
    "print(\"training\",f1_score(train_target,predict1))\n",
    "print(\"test\" , f1_score(test_target,predict2))"
   ]
  },
  {
   "cell_type": "code",
   "execution_count": 35,
   "metadata": {},
   "outputs": [],
   "source": [
    "from sklearn.tree import DecisionTreeClassifier"
   ]
  },
  {
   "cell_type": "code",
   "execution_count": 36,
   "metadata": {},
   "outputs": [
    {
     "data": {
      "text/plain": [
       "DecisionTreeClassifier(ccp_alpha=0.0, class_weight=None, criterion='gini',\n",
       "                       max_depth=5, max_features=None, max_leaf_nodes=None,\n",
       "                       min_impurity_decrease=0.0, min_impurity_split=None,\n",
       "                       min_samples_leaf=1, min_samples_split=2,\n",
       "                       min_weight_fraction_leaf=0.0, presort='deprecated',\n",
       "                       random_state=None, splitter='best')"
      ]
     },
     "execution_count": 36,
     "metadata": {},
     "output_type": "execute_result"
    }
   ],
   "source": [
    "dtc=DecisionTreeClassifier(max_depth=5)\n",
    "dtc.fit(train_features,train_target)"
   ]
  },
  {
   "cell_type": "code",
   "execution_count": 37,
   "metadata": {},
   "outputs": [
    {
     "name": "stdout",
     "output_type": "stream",
     "text": [
      "Testing 0.8189669771380187\n",
      "Training 0.8187958639092727\n"
     ]
    }
   ],
   "source": [
    "pred_train=dtc.predict(train_features)\n",
    "pred3=dtc.predict(test_features)\n",
    "print(\"Testing\",f1_score(test_target,pred3))\n",
    "print(\"Training\",f1_score(train_target,pred_train))"
   ]
  },
  {
   "cell_type": "code",
   "execution_count": 38,
   "metadata": {},
   "outputs": [
    {
     "data": {
      "text/plain": [
       "XGBClassifier(base_score=0.5, booster='gbtree', colsample_bylevel=1,\n",
       "              colsample_bynode=1, colsample_bytree=1, gamma=0, gpu_id=-1,\n",
       "              importance_type='gain', interaction_constraints='',\n",
       "              learning_rate=0.26, max_delta_step=0, max_depth=4,\n",
       "              min_child_weight=1, missing=nan, monotone_constraints='()',\n",
       "              n_estimators=100, n_jobs=0, num_parallel_tree=1,\n",
       "              objective='binary:logistic', random_state=0, reg_alpha=0,\n",
       "              reg_lambda=1, scale_pos_weight=1, subsample=1,\n",
       "              tree_method='exact', validate_parameters=1, verbosity=None)"
      ]
     },
     "execution_count": 38,
     "metadata": {},
     "output_type": "execute_result"
    }
   ],
   "source": [
    "from xgboost import XGBRFClassifier\n",
    "from xgboost import XGBClassifier\n",
    "from xgboost import plot_importance\n",
    "\n",
    "xgb_model = XGBClassifier(objective= 'binary:logistic',tree_method='exact',\n",
    "   n_estimators=100, max_depth=4, learning_rate=0.26,random_state=0,)\n",
    "xgb_model.fit(train_features, train_target)"
   ]
  },
  {
   "cell_type": "code",
   "execution_count": 39,
   "metadata": {},
   "outputs": [
    {
     "name": "stdout",
     "output_type": "stream",
     "text": [
      "XGB Baseline training Model F1 Score: 0.8950336243264693\n",
      "XGB Baseline test Model F1 Score: 0.873381536909366\n"
     ]
    }
   ],
   "source": [
    "predict3 = xgb_model.predict(test_features)\n",
    "ypred1=xgb_model.predict(train_features)\n",
    "xgb_fscore = f1_score(test_target ,predict3)\n",
    "xgb_fscore1 = f1_score(train_target ,ypred1)\n",
    "print(\"XGB Baseline training Model F1 Score:\", xgb_fscore1)\n",
    "print(\"XGB Baseline test Model F1 Score:\", xgb_fscore)"
   ]
  },
  {
   "cell_type": "code",
   "execution_count": 40,
   "metadata": {},
   "outputs": [],
   "source": [
    "test_new = pd.read_csv('https://raw.githubusercontent.com/dphi-official/Datasets/master/pharma_data/Testing_set_begs.csv')"
   ]
  },
  {
   "cell_type": "code",
   "execution_count": 41,
   "metadata": {},
   "outputs": [
    {
     "data": {
      "text/html": [
       "<div>\n",
       "<style scoped>\n",
       "    .dataframe tbody tr th:only-of-type {\n",
       "        vertical-align: middle;\n",
       "    }\n",
       "\n",
       "    .dataframe tbody tr th {\n",
       "        vertical-align: top;\n",
       "    }\n",
       "\n",
       "    .dataframe thead th {\n",
       "        text-align: right;\n",
       "    }\n",
       "</style>\n",
       "<table border=\"1\" class=\"dataframe\">\n",
       "  <thead>\n",
       "    <tr style=\"text-align: right;\">\n",
       "      <th></th>\n",
       "      <th>ID_Patient_Care_Situation</th>\n",
       "      <th>Diagnosed_Condition</th>\n",
       "      <th>Patient_ID</th>\n",
       "      <th>Treated_with_drugs</th>\n",
       "      <th>Patient_Age</th>\n",
       "      <th>Patient_Body_Mass_Index</th>\n",
       "      <th>Patient_Smoker</th>\n",
       "      <th>Patient_Rural_Urban</th>\n",
       "      <th>Patient_mental_condition</th>\n",
       "      <th>A</th>\n",
       "      <th>B</th>\n",
       "      <th>C</th>\n",
       "      <th>D</th>\n",
       "      <th>E</th>\n",
       "      <th>F</th>\n",
       "      <th>Z</th>\n",
       "      <th>Number_of_prev_cond</th>\n",
       "    </tr>\n",
       "  </thead>\n",
       "  <tbody>\n",
       "    <tr>\n",
       "      <th>0</th>\n",
       "      <td>19150</td>\n",
       "      <td>40</td>\n",
       "      <td>3709</td>\n",
       "      <td>DX3</td>\n",
       "      <td>16</td>\n",
       "      <td>29.443894</td>\n",
       "      <td>NO</td>\n",
       "      <td>RURAL</td>\n",
       "      <td>Stable</td>\n",
       "      <td>1.0</td>\n",
       "      <td>0.0</td>\n",
       "      <td>0.0</td>\n",
       "      <td>0.0</td>\n",
       "      <td>1.0</td>\n",
       "      <td>0.0</td>\n",
       "      <td>0.0</td>\n",
       "      <td>2.0</td>\n",
       "    </tr>\n",
       "    <tr>\n",
       "      <th>1</th>\n",
       "      <td>23216</td>\n",
       "      <td>52</td>\n",
       "      <td>986</td>\n",
       "      <td>DX6</td>\n",
       "      <td>24</td>\n",
       "      <td>26.836321</td>\n",
       "      <td>NO</td>\n",
       "      <td>URBAN</td>\n",
       "      <td>Stable</td>\n",
       "      <td>1.0</td>\n",
       "      <td>1.0</td>\n",
       "      <td>0.0</td>\n",
       "      <td>0.0</td>\n",
       "      <td>0.0</td>\n",
       "      <td>0.0</td>\n",
       "      <td>0.0</td>\n",
       "      <td>2.0</td>\n",
       "    </tr>\n",
       "    <tr>\n",
       "      <th>2</th>\n",
       "      <td>11890</td>\n",
       "      <td>50</td>\n",
       "      <td>11821</td>\n",
       "      <td>DX4 DX5</td>\n",
       "      <td>63</td>\n",
       "      <td>25.523280</td>\n",
       "      <td>NO</td>\n",
       "      <td>RURAL</td>\n",
       "      <td>Stable</td>\n",
       "      <td>1.0</td>\n",
       "      <td>0.0</td>\n",
       "      <td>0.0</td>\n",
       "      <td>0.0</td>\n",
       "      <td>1.0</td>\n",
       "      <td>0.0</td>\n",
       "      <td>0.0</td>\n",
       "      <td>2.0</td>\n",
       "    </tr>\n",
       "    <tr>\n",
       "      <th>3</th>\n",
       "      <td>7149</td>\n",
       "      <td>32</td>\n",
       "      <td>3292</td>\n",
       "      <td>DX6</td>\n",
       "      <td>42</td>\n",
       "      <td>27.171155</td>\n",
       "      <td>NO</td>\n",
       "      <td>URBAN</td>\n",
       "      <td>Stable</td>\n",
       "      <td>1.0</td>\n",
       "      <td>0.0</td>\n",
       "      <td>1.0</td>\n",
       "      <td>0.0</td>\n",
       "      <td>1.0</td>\n",
       "      <td>0.0</td>\n",
       "      <td>0.0</td>\n",
       "      <td>3.0</td>\n",
       "    </tr>\n",
       "    <tr>\n",
       "      <th>4</th>\n",
       "      <td>22845</td>\n",
       "      <td>20</td>\n",
       "      <td>9959</td>\n",
       "      <td>DX3</td>\n",
       "      <td>50</td>\n",
       "      <td>25.556192</td>\n",
       "      <td>NO</td>\n",
       "      <td>RURAL</td>\n",
       "      <td>Stable</td>\n",
       "      <td>1.0</td>\n",
       "      <td>0.0</td>\n",
       "      <td>0.0</td>\n",
       "      <td>0.0</td>\n",
       "      <td>0.0</td>\n",
       "      <td>0.0</td>\n",
       "      <td>0.0</td>\n",
       "      <td>1.0</td>\n",
       "    </tr>\n",
       "  </tbody>\n",
       "</table>\n",
       "</div>"
      ],
      "text/plain": [
       "   ID_Patient_Care_Situation  Diagnosed_Condition  Patient_ID  \\\n",
       "0                      19150                   40        3709   \n",
       "1                      23216                   52         986   \n",
       "2                      11890                   50       11821   \n",
       "3                       7149                   32        3292   \n",
       "4                      22845                   20        9959   \n",
       "\n",
       "  Treated_with_drugs  Patient_Age  Patient_Body_Mass_Index Patient_Smoker  \\\n",
       "0               DX3            16                29.443894             NO   \n",
       "1                DX6           24                26.836321             NO   \n",
       "2           DX4 DX5            63                25.523280             NO   \n",
       "3                DX6           42                27.171155             NO   \n",
       "4               DX3            50                25.556192             NO   \n",
       "\n",
       "  Patient_Rural_Urban Patient_mental_condition    A    B    C    D    E    F  \\\n",
       "0               RURAL                   Stable  1.0  0.0  0.0  0.0  1.0  0.0   \n",
       "1               URBAN                   Stable  1.0  1.0  0.0  0.0  0.0  0.0   \n",
       "2               RURAL                   Stable  1.0  0.0  0.0  0.0  1.0  0.0   \n",
       "3               URBAN                   Stable  1.0  0.0  1.0  0.0  1.0  0.0   \n",
       "4               RURAL                   Stable  1.0  0.0  0.0  0.0  0.0  0.0   \n",
       "\n",
       "     Z  Number_of_prev_cond  \n",
       "0  0.0                  2.0  \n",
       "1  0.0                  2.0  \n",
       "2  0.0                  2.0  \n",
       "3  0.0                  3.0  \n",
       "4  0.0                  1.0  "
      ]
     },
     "execution_count": 41,
     "metadata": {},
     "output_type": "execute_result"
    }
   ],
   "source": [
    "test_new.head()"
   ]
  },
  {
   "cell_type": "code",
   "execution_count": 42,
   "metadata": {},
   "outputs": [],
   "source": [
    "test_new=test_new.drop([\"Patient_mental_condition\"],axis=1)"
   ]
  },
  {
   "cell_type": "code",
   "execution_count": 43,
   "metadata": {},
   "outputs": [],
   "source": [
    "for i in range(len(test_new[\"Patient_Age\"])):\n",
    "    if (test_new.Patient_Age[i]>95 or test_new.Patient_Age[i]<1):\n",
    "        test_new.Patient_Age[i]=33"
   ]
  },
  {
   "cell_type": "code",
   "execution_count": 44,
   "metadata": {},
   "outputs": [],
   "source": [
    "test_new=pd.get_dummies(test_new,columns=['Treated_with_drugs','Patient_Smoker','Patient_Rural_Urban'])"
   ]
  },
  {
   "cell_type": "code",
   "execution_count": 45,
   "metadata": {},
   "outputs": [
    {
     "data": {
      "text/plain": [
       "RandomForestClassifier(bootstrap=True, ccp_alpha=0.0, class_weight=None,\n",
       "                       criterion='gini', max_depth=15, max_features=10,\n",
       "                       max_leaf_nodes=None, max_samples=None,\n",
       "                       min_impurity_decrease=0.0, min_impurity_split=None,\n",
       "                       min_samples_leaf=1, min_samples_split=5,\n",
       "                       min_weight_fraction_leaf=0.0, n_estimators=80,\n",
       "                       n_jobs=None, oob_score=False, random_state=0, verbose=0,\n",
       "                       warm_start=False)"
      ]
     },
     "execution_count": 45,
     "metadata": {},
     "output_type": "execute_result"
    }
   ],
   "source": [
    "rfc=RandomForestClassifier(bootstrap=True,criterion='gini',max_depth=15,n_estimators=80,random_state=0,min_samples_split=5,\n",
    "                          max_features=10,)\n",
    "rfc.fit(train_features,train_target)"
   ]
  },
  {
   "cell_type": "code",
   "execution_count": 46,
   "metadata": {},
   "outputs": [
    {
     "data": {
      "text/plain": [
       "DecisionTreeClassifier(ccp_alpha=0.0, class_weight=None, criterion='gini',\n",
       "                       max_depth=5, max_features=None, max_leaf_nodes=None,\n",
       "                       min_impurity_decrease=0.0, min_impurity_split=None,\n",
       "                       min_samples_leaf=1, min_samples_split=2,\n",
       "                       min_weight_fraction_leaf=0.0, presort='deprecated',\n",
       "                       random_state=None, splitter='best')"
      ]
     },
     "execution_count": 46,
     "metadata": {},
     "output_type": "execute_result"
    }
   ],
   "source": [
    "dtc=DecisionTreeClassifier(max_depth=5)\n",
    "dtc.fit(train_features,train_target)"
   ]
  },
  {
   "cell_type": "code",
   "execution_count": 47,
   "metadata": {},
   "outputs": [
    {
     "data": {
      "text/plain": [
       "XGBClassifier(base_score=0.5, booster='gbtree', colsample_bylevel=1,\n",
       "              colsample_bynode=1, colsample_bytree=1, gamma=0, gpu_id=-1,\n",
       "              importance_type='gain', interaction_constraints='',\n",
       "              learning_rate=0.15, max_delta_step=0, max_depth=4,\n",
       "              min_child_weight=1, missing=nan, monotone_constraints='()',\n",
       "              n_estimators=100, n_jobs=0, num_parallel_tree=1,\n",
       "              objective='binary:logistic', random_state=0, reg_alpha=0,\n",
       "              reg_lambda=1, scale_pos_weight=1, subsample=1,\n",
       "              tree_method='exact', validate_parameters=1, verbosity=None)"
      ]
     },
     "execution_count": 47,
     "metadata": {},
     "output_type": "execute_result"
    }
   ],
   "source": [
    "xgb_model = XGBClassifier(objective= 'binary:logistic',tree_method='exact',\n",
    "   n_estimators=100, max_depth=4, learning_rate=0.15,random_state=0,)\n",
    "xgb_model.fit(train_features, train_target)"
   ]
  },
  {
   "cell_type": "code",
   "execution_count": 48,
   "metadata": {},
   "outputs": [],
   "source": [
    "y_pred1 = xgb_model.predict(test_new)"
   ]
  },
  {
   "cell_type": "code",
   "execution_count": 49,
   "metadata": {},
   "outputs": [],
   "source": [
    "y_pred2 = rfc.predict(test_new)"
   ]
  },
  {
   "cell_type": "code",
   "execution_count": 50,
   "metadata": {},
   "outputs": [],
   "source": [
    "y_pred3=dtc.predict(test_new)"
   ]
  },
  {
   "cell_type": "code",
   "execution_count": 51,
   "metadata": {},
   "outputs": [],
   "source": [
    "prediction=ypred1"
   ]
  },
  {
   "cell_type": "code",
   "execution_count": 53,
   "metadata": {},
   "outputs": [],
   "source": [
    "res = pd.DataFrame(prediction)\n",
    "res.columns = [\"prediction\"]\n",
    "res.to_csv(\"prediction_results.csv\")"
   ]
  },
  {
   "cell_type": "code",
   "execution_count": null,
   "metadata": {},
   "outputs": [],
   "source": []
  }
 ],
 "metadata": {
  "kernelspec": {
   "display_name": "Python 3",
   "language": "python",
   "name": "python3"
  },
  "language_info": {
   "codemirror_mode": {
    "name": "ipython",
    "version": 3
   },
   "file_extension": ".py",
   "mimetype": "text/x-python",
   "name": "python",
   "nbconvert_exporter": "python",
   "pygments_lexer": "ipython3",
   "version": "3.7.6"
  }
 },
 "nbformat": 4,
 "nbformat_minor": 4
}
