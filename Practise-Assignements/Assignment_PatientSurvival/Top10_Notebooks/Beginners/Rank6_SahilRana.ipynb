{
  "nbformat": 4,
  "nbformat_minor": 0,
  "metadata": {
    "colab": {
      "name": "Patient Survival in a Hospital.ipynb",
      "provenance": []
    },
    "kernelspec": {
      "name": "python3",
      "display_name": "Python 3"
    }
  },
  "cells": [
    {
      "cell_type": "code",
      "metadata": {
        "id": "aELayTUxSknF",
        "colab_type": "code",
        "colab": {
          "base_uri": "https://localhost:8080/",
          "height": 71
        },
        "outputId": "c342b0cc-80eb-4705-8366-9c5840468334"
      },
      "source": [
        "import pandas as pd\n",
        "import numpy as np\n",
        "\n",
        "import matplotlib.pyplot as plt\n",
        "import seaborn as sns\n",
        "\n",
        "%matplotlib inline\n",
        "# ignoring the warnings\n",
        "import warnings\n",
        "warnings.filterwarnings('ignore')"
      ],
      "execution_count": 3,
      "outputs": [
        {
          "output_type": "stream",
          "text": [
            "/usr/local/lib/python3.6/dist-packages/statsmodels/tools/_testing.py:19: FutureWarning: pandas.util.testing is deprecated. Use the functions in the public API at pandas.testing instead.\n",
            "  import pandas.util.testing as tm\n"
          ],
          "name": "stderr"
        }
      ]
    },
    {
      "cell_type": "code",
      "metadata": {
        "id": "zsdQse5GS3wL",
        "colab_type": "code",
        "colab": {}
      },
      "source": [
        "pharma_data = pd.read_csv('https://raw.githubusercontent.com/dphi-official/Datasets/master/pharma_data/Training_set_begs.csv')\n",
        "test_new = pd.read_csv('https://raw.githubusercontent.com/dphi-official/Datasets/master/pharma_data/Testing_set_begs.csv')\n"
      ],
      "execution_count": 4,
      "outputs": []
    },
    {
      "cell_type": "code",
      "metadata": {
        "id": "yuF5yOtKS6fS",
        "colab_type": "code",
        "colab": {}
      },
      "source": [
        "pharma_data.drop('ID_Patient_Care_Situation',axis=1,inplace=True)\n",
        "\n",
        "ind=test_new.index\n",
        "test_new.drop(['ID_Patient_Care_Situation'],axis=1,inplace=True)"
      ],
      "execution_count": 5,
      "outputs": []
    },
    {
      "cell_type": "code",
      "metadata": {
        "id": "kC1oP3sVTBE6",
        "colab_type": "code",
        "colab": {
          "base_uri": "https://localhost:8080/",
          "height": 68
        },
        "outputId": "3da94740-4690-4407-fad7-6302a76aff78"
      },
      "source": [
        "df= pharma_data[pharma_data['Patient_Smoker']=='Cannot say']\n",
        "print(df.index)\n",
        "pharma_data.drop(df.index,inplace=True)\n",
        "\n",
        "pharma_data.Treated_with_drugs=pharma_data.Treated_with_drugs.str.rstrip(' ')\n",
        "\n",
        "test_new.Treated_with_drugs=test_new.Treated_with_drugs.str.rstrip(' ')"
      ],
      "execution_count": 6,
      "outputs": [
        {
          "output_type": "stream",
          "text": [
            "Int64Index([4, 218, 2540, 2711, 4308, 4887, 6308, 10388, 10663, 12782, 18630,\n",
            "            19123, 21705],\n",
            "           dtype='int64')\n"
          ],
          "name": "stdout"
        }
      ]
    },
    {
      "cell_type": "code",
      "metadata": {
        "id": "2-kWDbBtTGyd",
        "colab_type": "code",
        "colab": {}
      },
      "source": [
        "pharma_data.Treated_with_drugs.fillna(pharma_data.Treated_with_drugs.mode()[0],inplace=True)\n",
        "\n",
        "import statistics as st\n",
        "col=['A','B','C','D','E','F','Z']\n",
        "for i in col:\n",
        "  pharma_data[i].fillna(st.mode(pharma_data[i]),inplace=True)\n",
        "\n",
        "pharma_data.Number_of_prev_cond=pharma_data.A+pharma_data.B+pharma_data.C+pharma_data.D+pharma_data.E+pharma_data.F+pharma_data.Z"
      ],
      "execution_count": 7,
      "outputs": []
    },
    {
      "cell_type": "code",
      "metadata": {
        "id": "6136FK2eTSYl",
        "colab_type": "code",
        "colab": {}
      },
      "source": [
        "from sklearn.preprocessing import LabelEncoder\n",
        "object_cols=pharma_data.select_dtypes(exclude=np.number).columns\n",
        "\n",
        "for col in object_cols:\n",
        "  le=LabelEncoder()\n",
        "  pharma_data[col]=le.fit_transform(pharma_data[col])\n",
        "  test_new[col]=le.transform(test_new[col])"
      ],
      "execution_count": 8,
      "outputs": []
    },
    {
      "cell_type": "code",
      "metadata": {
        "id": "5SFyA7dXTV-O",
        "colab_type": "code",
        "colab": {}
      },
      "source": [
        "X=pharma_data.drop('Survived_1_year',axis=1)\n",
        "y=pharma_data['Survived_1_year']"
      ],
      "execution_count": 9,
      "outputs": []
    },
    {
      "cell_type": "code",
      "metadata": {
        "id": "IKa0OL_PTc8j",
        "colab_type": "code",
        "colab": {}
      },
      "source": [
        "\n",
        "# standardize the data\n",
        "from sklearn.preprocessing import StandardScaler\n",
        "\n",
        "scaler = StandardScaler()   \n",
        "X = scaler.fit_transform(X)\n",
        "test_new=scaler.transform(test_new)"
      ],
      "execution_count": 10,
      "outputs": []
    },
    {
      "cell_type": "code",
      "metadata": {
        "id": "_eTWo1_yTk-W",
        "colab_type": "code",
        "colab": {}
      },
      "source": [
        "from sklearn.model_selection import train_test_split,GridSearchCV\n",
        "X_train, X_test, y_train, y_test = train_test_split(X, y,test_size=0.24,random_state=0)"
      ],
      "execution_count": 11,
      "outputs": []
    },
    {
      "cell_type": "code",
      "metadata": {
        "id": "yFEIEwXbTsIP",
        "colab_type": "code",
        "colab": {}
      },
      "source": [
        "from xgboost import XGBClassifier\n",
        "model = XGBClassifier( \n",
        "                      scale_pos_weight=1,\n",
        "                      learning_rate=0.2,  \n",
        "                      colsample_bytree = 0.3,\n",
        "                      subsample = 0.8,\n",
        "                      objective='binary:logistic', \n",
        "                      n_estimators=1183, \n",
        "                      reg_alpha = 0.3,\n",
        "                      max_depth=8, \n",
        "                      gamma=10,\n",
        "                      colsample_bylevel=0.9,\n",
        "                     reg_lambda=3,\n",
        "                      min_child_weight=4\n",
        "                      \n",
        "                      )"
      ],
      "execution_count": 22,
      "outputs": []
    },
    {
      "cell_type": "code",
      "metadata": {
        "id": "SPrBkdivTvwb",
        "colab_type": "code",
        "colab": {
          "base_uri": "https://localhost:8080/",
          "height": 51
        },
        "outputId": "5c944874-8d71-4256-fb48-e847c3bcdf89"
      },
      "source": [
        "model.fit(X_train,y_train)\n",
        "y_pred=model.predict(X_test)\n",
        "\n",
        "from sklearn .metrics import accuracy_score,f1_score\n",
        "print(accuracy_score(y_test,y_pred))\n",
        "f1_score(y_test,y_pred)"
      ],
      "execution_count": 21,
      "outputs": [
        {
          "output_type": "stream",
          "text": [
            "0.844612885760693\n"
          ],
          "name": "stdout"
        },
        {
          "output_type": "execute_result",
          "data": {
            "text/plain": [
              "0.8795298726738492"
            ]
          },
          "metadata": {
            "tags": []
          },
          "execution_count": 21
        }
      ]
    },
    {
      "cell_type": "code",
      "metadata": {
        "id": "7NYf6jVnUFGY",
        "colab_type": "code",
        "colab": {}
      },
      "source": [
        "predictions=model.predict(test_new)"
      ],
      "execution_count": 14,
      "outputs": []
    },
    {
      "cell_type": "code",
      "metadata": {
        "id": "VkSrJ0SvUGY5",
        "colab_type": "code",
        "colab": {
          "base_uri": "https://localhost:8080/",
          "height": 17
        },
        "outputId": "23a3d089-eedf-44fa-ae49-f6339557abd1"
      },
      "source": [
        "res = pd.DataFrame(predictions)\n",
        "\n",
        "res.index = ind # its important for comparison\n",
        "res.columns = [\"prediction\"]\n",
        "res.to_csv(\"prediction_results_HP.csv\")  \n",
        "\n",
        "from google.colab import files\n",
        "files.download('prediction_results_HP.csv')"
      ],
      "execution_count": 15,
      "outputs": [
        {
          "output_type": "display_data",
          "data": {
            "application/javascript": [
              "\n",
              "    async function download(id, filename, size) {\n",
              "      if (!google.colab.kernel.accessAllowed) {\n",
              "        return;\n",
              "      }\n",
              "      const div = document.createElement('div');\n",
              "      const label = document.createElement('label');\n",
              "      label.textContent = `Downloading \"${filename}\": `;\n",
              "      div.appendChild(label);\n",
              "      const progress = document.createElement('progress');\n",
              "      progress.max = size;\n",
              "      div.appendChild(progress);\n",
              "      document.body.appendChild(div);\n",
              "\n",
              "      const buffers = [];\n",
              "      let downloaded = 0;\n",
              "\n",
              "      const channel = await google.colab.kernel.comms.open(id);\n",
              "      // Send a message to notify the kernel that we're ready.\n",
              "      channel.send({})\n",
              "\n",
              "      for await (const message of channel.messages) {\n",
              "        // Send a message to notify the kernel that we're ready.\n",
              "        channel.send({})\n",
              "        if (message.buffers) {\n",
              "          for (const buffer of message.buffers) {\n",
              "            buffers.push(buffer);\n",
              "            downloaded += buffer.byteLength;\n",
              "            progress.value = downloaded;\n",
              "          }\n",
              "        }\n",
              "      }\n",
              "      const blob = new Blob(buffers, {type: 'application/binary'});\n",
              "      const a = document.createElement('a');\n",
              "      a.href = window.URL.createObjectURL(blob);\n",
              "      a.download = filename;\n",
              "      div.appendChild(a);\n",
              "      a.click();\n",
              "      div.remove();\n",
              "    }\n",
              "  "
            ],
            "text/plain": [
              "<IPython.core.display.Javascript object>"
            ]
          },
          "metadata": {
            "tags": []
          }
        },
        {
          "output_type": "display_data",
          "data": {
            "application/javascript": [
              "download(\"download_ee85d5c7-96e7-4b10-acda-c564ffb700f0\", \"prediction_results_HP.csv\", 64023)"
            ],
            "text/plain": [
              "<IPython.core.display.Javascript object>"
            ]
          },
          "metadata": {
            "tags": []
          }
        }
      ]
    },
    {
      "cell_type": "code",
      "metadata": {
        "id": "fIvX84E2UusV",
        "colab_type": "code",
        "colab": {}
      },
      "source": [
        ""
      ],
      "execution_count": null,
      "outputs": []
    }
  ]
}