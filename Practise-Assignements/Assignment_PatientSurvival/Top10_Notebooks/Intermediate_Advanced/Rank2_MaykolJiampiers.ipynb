{
 "cells": [
  {
   "cell_type": "code",
   "execution_count": null,
   "metadata": {
    "colab": {
     "base_uri": "https://localhost:8080/",
     "height": 71
    },
    "colab_type": "code",
    "id": "R4by16-1RDmg",
    "outputId": "855c1ea9-0af0-4555-d40a-61c7a6ba058c"
   },
   "outputs": [
    {
     "name": "stderr",
     "output_type": "stream",
     "text": [
      "/usr/local/lib/python3.6/dist-packages/statsmodels/tools/_testing.py:19: FutureWarning: pandas.util.testing is deprecated. Use the functions in the public API at pandas.testing instead.\n",
      "  import pandas.util.testing as tm\n"
     ]
    }
   ],
   "source": [
    "# Import required libraries here\n",
    "import numpy as np\n",
    "import pandas as pd\n",
    "import matplotlib.pyplot as plt\n",
    "import seaborn as sns\n",
    "\n",
    "from sklearn.linear_model import LogisticRegression\n",
    "from sklearn.tree import DecisionTreeClassifier\n",
    "from sklearn.ensemble import RandomForestClassifier\n",
    "from sklearn.model_selection import train_test_split\n",
    "from sklearn.metrics import accuracy_score, roc_auc_score, f1_score"
   ]
  },
  {
   "cell_type": "markdown",
   "metadata": {
    "colab_type": "text",
    "id": "WjteiXkgiWsE"
   },
   "source": [
    "# Load dataset"
   ]
  },
  {
   "cell_type": "code",
   "execution_count": null,
   "metadata": {
    "colab": {},
    "colab_type": "code",
    "id": "rf0Ib729fAEe"
   },
   "outputs": [],
   "source": [
    "df = pd.read_csv('https://raw.githubusercontent.com/dphi-official/Datasets/master/pharma_data/Training_set_advc.csv')"
   ]
  },
  {
   "cell_type": "code",
   "execution_count": null,
   "metadata": {
    "colab": {
     "base_uri": "https://localhost:8080/",
     "height": 224
    },
    "colab_type": "code",
    "id": "n-4oggypRNlM",
    "outputId": "8b8a7eb5-2dd5-4f21-abfe-a23d16f1b4a4"
   },
   "outputs": [
    {
     "data": {
      "text/html": [
       "<div>\n",
       "<style scoped>\n",
       "    .dataframe tbody tr th:only-of-type {\n",
       "        vertical-align: middle;\n",
       "    }\n",
       "\n",
       "    .dataframe tbody tr th {\n",
       "        vertical-align: top;\n",
       "    }\n",
       "\n",
       "    .dataframe thead th {\n",
       "        text-align: right;\n",
       "    }\n",
       "</style>\n",
       "<table border=\"1\" class=\"dataframe\">\n",
       "  <thead>\n",
       "    <tr style=\"text-align: right;\">\n",
       "      <th></th>\n",
       "      <th>ID_Patient_Care_Situation</th>\n",
       "      <th>Diagnosed_Condition</th>\n",
       "      <th>Patient_ID</th>\n",
       "      <th>Treated_with_drugs</th>\n",
       "      <th>Patient_Age</th>\n",
       "      <th>Patient_Body_Mass_Index</th>\n",
       "      <th>Patient_Smoker</th>\n",
       "      <th>Patient_Rural_Urban</th>\n",
       "      <th>Patient_mental_condition</th>\n",
       "      <th>A</th>\n",
       "      <th>B</th>\n",
       "      <th>C</th>\n",
       "      <th>D</th>\n",
       "      <th>E</th>\n",
       "      <th>F</th>\n",
       "      <th>Z</th>\n",
       "      <th>Number_of_prev_cond</th>\n",
       "      <th>Survived_1_year</th>\n",
       "    </tr>\n",
       "  </thead>\n",
       "  <tbody>\n",
       "    <tr>\n",
       "      <th>0</th>\n",
       "      <td>16201</td>\n",
       "      <td>47</td>\n",
       "      <td>8433</td>\n",
       "      <td>DX2</td>\n",
       "      <td>60</td>\n",
       "      <td>21.655523</td>\n",
       "      <td>NO</td>\n",
       "      <td>URBAN</td>\n",
       "      <td>Stable</td>\n",
       "      <td>1.0</td>\n",
       "      <td>0.0</td>\n",
       "      <td>0.0</td>\n",
       "      <td>0.0</td>\n",
       "      <td>1.0</td>\n",
       "      <td>0.0</td>\n",
       "      <td>0.0</td>\n",
       "      <td>2.0</td>\n",
       "      <td>1</td>\n",
       "    </tr>\n",
       "    <tr>\n",
       "      <th>1</th>\n",
       "      <td>9421</td>\n",
       "      <td>3</td>\n",
       "      <td>2972</td>\n",
       "      <td>DX6</td>\n",
       "      <td>2</td>\n",
       "      <td>28.852743</td>\n",
       "      <td>NO</td>\n",
       "      <td>RURAL</td>\n",
       "      <td>Stable</td>\n",
       "      <td>1.0</td>\n",
       "      <td>0.0</td>\n",
       "      <td>1.0</td>\n",
       "      <td>0.0</td>\n",
       "      <td>1.0</td>\n",
       "      <td>0.0</td>\n",
       "      <td>0.0</td>\n",
       "      <td>3.0</td>\n",
       "      <td>0</td>\n",
       "    </tr>\n",
       "    <tr>\n",
       "      <th>2</th>\n",
       "      <td>16205</td>\n",
       "      <td>7</td>\n",
       "      <td>8608</td>\n",
       "      <td>Dx6</td>\n",
       "      <td>20</td>\n",
       "      <td>26.179725</td>\n",
       "      <td>NO</td>\n",
       "      <td>RURAL</td>\n",
       "      <td>Stable</td>\n",
       "      <td>1.0</td>\n",
       "      <td>0.0</td>\n",
       "      <td>0.0</td>\n",
       "      <td>0.0</td>\n",
       "      <td>1.0</td>\n",
       "      <td>0.0</td>\n",
       "      <td>0.0</td>\n",
       "      <td>2.0</td>\n",
       "      <td>1</td>\n",
       "    </tr>\n",
       "    <tr>\n",
       "      <th>3</th>\n",
       "      <td>5582</td>\n",
       "      <td>31</td>\n",
       "      <td>10074</td>\n",
       "      <td>dx6</td>\n",
       "      <td>8</td>\n",
       "      <td>22.638945</td>\n",
       "      <td>NO</td>\n",
       "      <td>RURAL</td>\n",
       "      <td>Stable</td>\n",
       "      <td>1.0</td>\n",
       "      <td>0.0</td>\n",
       "      <td>0.0</td>\n",
       "      <td>0.0</td>\n",
       "      <td>1.0</td>\n",
       "      <td>0.0</td>\n",
       "      <td>0.0</td>\n",
       "      <td>2.0</td>\n",
       "      <td>0</td>\n",
       "    </tr>\n",
       "    <tr>\n",
       "      <th>4</th>\n",
       "      <td>20880</td>\n",
       "      <td>43</td>\n",
       "      <td>7462</td>\n",
       "      <td>dx1</td>\n",
       "      <td>53</td>\n",
       "      <td>21.326131</td>\n",
       "      <td>NO</td>\n",
       "      <td>RURAL</td>\n",
       "      <td>Stable</td>\n",
       "      <td>1.0</td>\n",
       "      <td>0.0</td>\n",
       "      <td>0.0</td>\n",
       "      <td>0.0</td>\n",
       "      <td>0.0</td>\n",
       "      <td>0.0</td>\n",
       "      <td>0.0</td>\n",
       "      <td>1.0</td>\n",
       "      <td>1</td>\n",
       "    </tr>\n",
       "  </tbody>\n",
       "</table>\n",
       "</div>"
      ],
      "text/plain": [
       "   ID_Patient_Care_Situation  ...  Survived_1_year\n",
       "0                      16201  ...                1\n",
       "1                       9421  ...                0\n",
       "2                      16205  ...                1\n",
       "3                       5582  ...                0\n",
       "4                      20880  ...                1\n",
       "\n",
       "[5 rows x 18 columns]"
      ]
     },
     "execution_count": 3,
     "metadata": {
      "tags": []
     },
     "output_type": "execute_result"
    }
   ],
   "source": [
    "df.head()"
   ]
  },
  {
   "cell_type": "code",
   "execution_count": null,
   "metadata": {
    "colab": {
     "base_uri": "https://localhost:8080/",
     "height": 34
    },
    "colab_type": "code",
    "id": "GmXGBdR_7hOR",
    "outputId": "9b113978-b04e-403d-baef-9599048392b6"
   },
   "outputs": [
    {
     "data": {
      "text/plain": [
       "(25079, 18)"
      ]
     },
     "execution_count": 4,
     "metadata": {
      "tags": []
     },
     "output_type": "execute_result"
    }
   ],
   "source": [
    "df.shape"
   ]
  },
  {
   "cell_type": "code",
   "execution_count": null,
   "metadata": {
    "colab": {
     "base_uri": "https://localhost:8080/",
     "height": 68
    },
    "colab_type": "code",
    "id": "Jj_S7sJCc_QQ",
    "outputId": "31f519bc-9089-4f3a-a943-f744147e7a75"
   },
   "outputs": [
    {
     "data": {
      "text/plain": [
       "1    15908\n",
       "0     9171\n",
       "Name: Survived_1_year, dtype: int64"
      ]
     },
     "execution_count": 5,
     "metadata": {
      "tags": []
     },
     "output_type": "execute_result"
    }
   ],
   "source": [
    "df.Survived_1_year.value_counts()"
   ]
  },
  {
   "cell_type": "code",
   "execution_count": null,
   "metadata": {
    "colab": {
     "base_uri": "https://localhost:8080/",
     "height": 442
    },
    "colab_type": "code",
    "id": "5HWqKt-r7sGF",
    "outputId": "1c1b8178-7376-4dc8-f7ba-0484ebb074a7"
   },
   "outputs": [
    {
     "name": "stdout",
     "output_type": "stream",
     "text": [
      "<class 'pandas.core.frame.DataFrame'>\n",
      "RangeIndex: 25079 entries, 0 to 25078\n",
      "Data columns (total 18 columns):\n",
      " #   Column                     Non-Null Count  Dtype  \n",
      "---  ------                     --------------  -----  \n",
      " 0   ID_Patient_Care_Situation  25079 non-null  int64  \n",
      " 1   Diagnosed_Condition        25079 non-null  int64  \n",
      " 2   Patient_ID                 25079 non-null  int64  \n",
      " 3   Treated_with_drugs         25071 non-null  object \n",
      " 4   Patient_Age                25079 non-null  int64  \n",
      " 5   Patient_Body_Mass_Index    25079 non-null  float64\n",
      " 6   Patient_Smoker             25079 non-null  object \n",
      " 7   Patient_Rural_Urban        25079 non-null  object \n",
      " 8   Patient_mental_condition   25079 non-null  object \n",
      " 9   A                          23723 non-null  float64\n",
      " 10  B                          23723 non-null  float64\n",
      " 11  C                          23723 non-null  float64\n",
      " 12  D                          23723 non-null  float64\n",
      " 13  E                          23723 non-null  float64\n",
      " 14  F                          23723 non-null  float64\n",
      " 15  Z                          23723 non-null  float64\n",
      " 16  Number_of_prev_cond        23723 non-null  float64\n",
      " 17  Survived_1_year            25079 non-null  int64  \n",
      "dtypes: float64(9), int64(5), object(4)\n",
      "memory usage: 3.4+ MB\n"
     ]
    }
   ],
   "source": [
    "df.info()"
   ]
  },
  {
   "cell_type": "code",
   "execution_count": null,
   "metadata": {
    "colab": {
     "base_uri": "https://localhost:8080/",
     "height": 221
    },
    "colab_type": "code",
    "id": "A_YXRBuE792s",
    "outputId": "d1e67cda-f05c-42f6-c8a1-a439c36dcc73"
   },
   "outputs": [
    {
     "data": {
      "text/plain": [
       "10558    9\n",
       "11420    9\n",
       "11012    9\n",
       "7707     9\n",
       "6893     9\n",
       "        ..\n",
       "12176    1\n",
       "10129    1\n",
       "12192    1\n",
       "4004     1\n",
       "11128    1\n",
       "Name: Patient_ID, Length: 10599, dtype: int64"
      ]
     },
     "execution_count": 7,
     "metadata": {
      "tags": []
     },
     "output_type": "execute_result"
    }
   ],
   "source": [
    "df.Patient_ID.value_counts()"
   ]
  },
  {
   "cell_type": "markdown",
   "metadata": {
    "colab_type": "text",
    "id": "x30EBVw0_edf"
   },
   "source": [
    "# EDA & Data Preparation"
   ]
  },
  {
   "cell_type": "code",
   "execution_count": null,
   "metadata": {
    "colab": {},
    "colab_type": "code",
    "id": "_G7gYTDd8brh"
   },
   "outputs": [],
   "source": [
    "def dfaux (df):\n",
    "\n",
    "\tcant = df.isnull().sum()\n",
    "\n",
    "\tdf_aux = pd.DataFrame(index = df.columns, data =\n",
    "\t                     {'type': df.dtypes,\n",
    "\t                      'unique_values': df.nunique(),\n",
    "\t                      'have_null?': df.isnull().any(),\n",
    "\t                      'how many?' : cant,\n",
    "\t                      'per' : cant/df.shape[0]*100 })\n",
    "\treturn df_aux"
   ]
  },
  {
   "cell_type": "code",
   "execution_count": null,
   "metadata": {
    "colab": {
     "base_uri": "https://localhost:8080/",
     "height": 607
    },
    "colab_type": "code",
    "id": "2ieJt9ca8buU",
    "outputId": "24b77c8b-fbb5-48b0-d5e6-124ac65064d8"
   },
   "outputs": [
    {
     "data": {
      "text/html": [
       "<div>\n",
       "<style scoped>\n",
       "    .dataframe tbody tr th:only-of-type {\n",
       "        vertical-align: middle;\n",
       "    }\n",
       "\n",
       "    .dataframe tbody tr th {\n",
       "        vertical-align: top;\n",
       "    }\n",
       "\n",
       "    .dataframe thead th {\n",
       "        text-align: right;\n",
       "    }\n",
       "</style>\n",
       "<table border=\"1\" class=\"dataframe\">\n",
       "  <thead>\n",
       "    <tr style=\"text-align: right;\">\n",
       "      <th></th>\n",
       "      <th>type</th>\n",
       "      <th>unique_values</th>\n",
       "      <th>have_null?</th>\n",
       "      <th>how many?</th>\n",
       "      <th>per</th>\n",
       "    </tr>\n",
       "  </thead>\n",
       "  <tbody>\n",
       "    <tr>\n",
       "      <th>ID_Patient_Care_Situation</th>\n",
       "      <td>int64</td>\n",
       "      <td>23097</td>\n",
       "      <td>False</td>\n",
       "      <td>0</td>\n",
       "      <td>0.000000</td>\n",
       "    </tr>\n",
       "    <tr>\n",
       "      <th>Diagnosed_Condition</th>\n",
       "      <td>int64</td>\n",
       "      <td>53</td>\n",
       "      <td>False</td>\n",
       "      <td>0</td>\n",
       "      <td>0.000000</td>\n",
       "    </tr>\n",
       "    <tr>\n",
       "      <th>Patient_ID</th>\n",
       "      <td>int64</td>\n",
       "      <td>10599</td>\n",
       "      <td>False</td>\n",
       "      <td>0</td>\n",
       "      <td>0.000000</td>\n",
       "    </tr>\n",
       "    <tr>\n",
       "      <th>Treated_with_drugs</th>\n",
       "      <td>object</td>\n",
       "      <td>182</td>\n",
       "      <td>True</td>\n",
       "      <td>8</td>\n",
       "      <td>0.031899</td>\n",
       "    </tr>\n",
       "    <tr>\n",
       "      <th>Patient_Age</th>\n",
       "      <td>int64</td>\n",
       "      <td>74</td>\n",
       "      <td>False</td>\n",
       "      <td>0</td>\n",
       "      <td>0.000000</td>\n",
       "    </tr>\n",
       "    <tr>\n",
       "      <th>Patient_Body_Mass_Index</th>\n",
       "      <td>float64</td>\n",
       "      <td>10599</td>\n",
       "      <td>False</td>\n",
       "      <td>0</td>\n",
       "      <td>0.000000</td>\n",
       "    </tr>\n",
       "    <tr>\n",
       "      <th>Patient_Smoker</th>\n",
       "      <td>object</td>\n",
       "      <td>10</td>\n",
       "      <td>False</td>\n",
       "      <td>0</td>\n",
       "      <td>0.000000</td>\n",
       "    </tr>\n",
       "    <tr>\n",
       "      <th>Patient_Rural_Urban</th>\n",
       "      <td>object</td>\n",
       "      <td>2</td>\n",
       "      <td>False</td>\n",
       "      <td>0</td>\n",
       "      <td>0.000000</td>\n",
       "    </tr>\n",
       "    <tr>\n",
       "      <th>Patient_mental_condition</th>\n",
       "      <td>object</td>\n",
       "      <td>1</td>\n",
       "      <td>False</td>\n",
       "      <td>0</td>\n",
       "      <td>0.000000</td>\n",
       "    </tr>\n",
       "    <tr>\n",
       "      <th>A</th>\n",
       "      <td>float64</td>\n",
       "      <td>2</td>\n",
       "      <td>True</td>\n",
       "      <td>1356</td>\n",
       "      <td>5.406914</td>\n",
       "    </tr>\n",
       "    <tr>\n",
       "      <th>B</th>\n",
       "      <td>float64</td>\n",
       "      <td>2</td>\n",
       "      <td>True</td>\n",
       "      <td>1356</td>\n",
       "      <td>5.406914</td>\n",
       "    </tr>\n",
       "    <tr>\n",
       "      <th>C</th>\n",
       "      <td>float64</td>\n",
       "      <td>2</td>\n",
       "      <td>True</td>\n",
       "      <td>1356</td>\n",
       "      <td>5.406914</td>\n",
       "    </tr>\n",
       "    <tr>\n",
       "      <th>D</th>\n",
       "      <td>float64</td>\n",
       "      <td>2</td>\n",
       "      <td>True</td>\n",
       "      <td>1356</td>\n",
       "      <td>5.406914</td>\n",
       "    </tr>\n",
       "    <tr>\n",
       "      <th>E</th>\n",
       "      <td>float64</td>\n",
       "      <td>2</td>\n",
       "      <td>True</td>\n",
       "      <td>1356</td>\n",
       "      <td>5.406914</td>\n",
       "    </tr>\n",
       "    <tr>\n",
       "      <th>F</th>\n",
       "      <td>float64</td>\n",
       "      <td>2</td>\n",
       "      <td>True</td>\n",
       "      <td>1356</td>\n",
       "      <td>5.406914</td>\n",
       "    </tr>\n",
       "    <tr>\n",
       "      <th>Z</th>\n",
       "      <td>float64</td>\n",
       "      <td>2</td>\n",
       "      <td>True</td>\n",
       "      <td>1356</td>\n",
       "      <td>5.406914</td>\n",
       "    </tr>\n",
       "    <tr>\n",
       "      <th>Number_of_prev_cond</th>\n",
       "      <td>float64</td>\n",
       "      <td>5</td>\n",
       "      <td>True</td>\n",
       "      <td>1356</td>\n",
       "      <td>5.406914</td>\n",
       "    </tr>\n",
       "    <tr>\n",
       "      <th>Survived_1_year</th>\n",
       "      <td>int64</td>\n",
       "      <td>2</td>\n",
       "      <td>False</td>\n",
       "      <td>0</td>\n",
       "      <td>0.000000</td>\n",
       "    </tr>\n",
       "  </tbody>\n",
       "</table>\n",
       "</div>"
      ],
      "text/plain": [
       "                              type  unique_values  ...  how many?       per\n",
       "ID_Patient_Care_Situation    int64          23097  ...          0  0.000000\n",
       "Diagnosed_Condition          int64             53  ...          0  0.000000\n",
       "Patient_ID                   int64          10599  ...          0  0.000000\n",
       "Treated_with_drugs          object            182  ...          8  0.031899\n",
       "Patient_Age                  int64             74  ...          0  0.000000\n",
       "Patient_Body_Mass_Index    float64          10599  ...          0  0.000000\n",
       "Patient_Smoker              object             10  ...          0  0.000000\n",
       "Patient_Rural_Urban         object              2  ...          0  0.000000\n",
       "Patient_mental_condition    object              1  ...          0  0.000000\n",
       "A                          float64              2  ...       1356  5.406914\n",
       "B                          float64              2  ...       1356  5.406914\n",
       "C                          float64              2  ...       1356  5.406914\n",
       "D                          float64              2  ...       1356  5.406914\n",
       "E                          float64              2  ...       1356  5.406914\n",
       "F                          float64              2  ...       1356  5.406914\n",
       "Z                          float64              2  ...       1356  5.406914\n",
       "Number_of_prev_cond        float64              5  ...       1356  5.406914\n",
       "Survived_1_year              int64              2  ...          0  0.000000\n",
       "\n",
       "[18 rows x 5 columns]"
      ]
     },
     "execution_count": 9,
     "metadata": {
      "tags": []
     },
     "output_type": "execute_result"
    }
   ],
   "source": [
    "dfaux(df)"
   ]
  },
  {
   "cell_type": "code",
   "execution_count": null,
   "metadata": {
    "colab": {
     "base_uri": "https://localhost:8080/",
     "height": 34
    },
    "colab_type": "code",
    "id": "3K9SDsobBv2a",
    "outputId": "be1a5eb4-88f3-41b2-9aac-495930d9877f"
   },
   "outputs": [
    {
     "data": {
      "text/plain": [
       "(23097, 17)"
      ]
     },
     "execution_count": 10,
     "metadata": {
      "tags": []
     },
     "output_type": "execute_result"
    }
   ],
   "source": [
    "df1 = df.drop_duplicates().drop(['Patient_mental_condition'], 1)\n",
    "df1.shape"
   ]
  },
  {
   "cell_type": "code",
   "execution_count": null,
   "metadata": {
    "colab": {},
    "colab_type": "code",
    "id": "31hhFbMlyW_2"
   },
   "outputs": [],
   "source": [
    "df1['Treated_with_drugs'] = df1['Treated_with_drugs'].str.upper()\n",
    "df1.Treated_with_drugs = df1.Treated_with_drugs.fillna(\"DX6\")"
   ]
  },
  {
   "cell_type": "code",
   "execution_count": null,
   "metadata": {
    "colab": {},
    "colab_type": "code",
    "id": "aGdxNTpJ0OFY"
   },
   "outputs": [],
   "source": [
    "for drug in [\"DX1\", \"DX2\", \"DX3\", \"DX4\", \"DX5\", \"DX6\"]:\n",
    "  df1[drug] = np.where(df1['Treated_with_drugs'].str.contains(drug), 1, 0)"
   ]
  },
  {
   "cell_type": "code",
   "execution_count": null,
   "metadata": {
    "colab": {},
    "colab_type": "code",
    "id": "b3hgxodc4BsS"
   },
   "outputs": [],
   "source": [
    "df1[\"sum_drug\"] = df1[\"DX1\"] + df1[\"DX2\"] + df1[\"DX3\"] + df1[\"DX4\"] + df1[\"DX5\"] + df1[\"DX6\"]"
   ]
  },
  {
   "cell_type": "code",
   "execution_count": null,
   "metadata": {
    "colab": {},
    "colab_type": "code",
    "id": "BnUaR_hN4gXc"
   },
   "outputs": [],
   "source": [
    "# don't forget nan's of \"Treated_with_drugs\"\n",
    "df1.fillna(0, inplace=True)"
   ]
  },
  {
   "cell_type": "code",
   "execution_count": null,
   "metadata": {
    "colab": {},
    "colab_type": "code",
    "id": "q2WFp4sIgnRf"
   },
   "outputs": [],
   "source": [
    "conds = [(df1['Patient_Smoker'] == \"NO\") | (df1['Patient_Smoker'] == \"NO \"), \n",
    "         (df1['Patient_Smoker'] == \"YES\") | (df1['Patient_Smoker'] == \"YES \") | (df1['Patient_Smoker'] == \"YESS\") | (df1['Patient_Smoker'] == \"YESS \"),\n",
    "         (df1['Patient_Smoker'] == \"CANNOT SAY\") | (df1['Patient_Smoker'] == \"CANNOT SAY \") | (df1['Patient_Smoker'] == \"Cannot say \") | (df1['Patient_Smoker'] == \"Cannot say\")\n",
    "        ]\n",
    "\n",
    "choices = [\"NO\", \"YES\", \"CANNOT SAY\"]"
   ]
  },
  {
   "cell_type": "code",
   "execution_count": null,
   "metadata": {
    "colab": {
     "base_uri": "https://localhost:8080/",
     "height": 85
    },
    "colab_type": "code",
    "id": "7zlmkWY4hoiE",
    "outputId": "7a779089-fe1c-4387-8e4f-8e9a3ea788a8"
   },
   "outputs": [
    {
     "data": {
      "text/plain": [
       "NO            13214\n",
       "YES            9875\n",
       "CANNOT SAY        8\n",
       "Name: Patient_Smoker, dtype: int64"
      ]
     },
     "execution_count": 16,
     "metadata": {
      "tags": []
     },
     "output_type": "execute_result"
    }
   ],
   "source": [
    "df1['Patient_Smoker'] = np.select(conds, choices, default = 0)\n",
    "df1.Patient_Smoker.value_counts()"
   ]
  },
  {
   "cell_type": "code",
   "execution_count": null,
   "metadata": {
    "colab": {
     "base_uri": "https://localhost:8080/",
     "height": 68
    },
    "colab_type": "code",
    "id": "Rq7j7Pa1C5Ms",
    "outputId": "884db0ac-feee-4223-b7d6-fda6a7786921"
   },
   "outputs": [
    {
     "data": {
      "text/plain": [
       "RURAL    16116\n",
       "URBAN     6981\n",
       "Name: Patient_Rural_Urban, dtype: int64"
      ]
     },
     "execution_count": 17,
     "metadata": {
      "tags": []
     },
     "output_type": "execute_result"
    }
   ],
   "source": [
    "df1.Patient_Rural_Urban.value_counts()"
   ]
  },
  {
   "cell_type": "code",
   "execution_count": null,
   "metadata": {
    "colab": {},
    "colab_type": "code",
    "id": "Ia7mRHoYEHCw"
   },
   "outputs": [],
   "source": [
    "df1 = pd.get_dummies(df1, columns=['Patient_Rural_Urban'])\n",
    "df1 = pd.get_dummies(df1, columns=['Patient_Smoker'])"
   ]
  },
  {
   "cell_type": "code",
   "execution_count": null,
   "metadata": {
    "colab": {
     "base_uri": "https://localhost:8080/",
     "height": 241
    },
    "colab_type": "code",
    "id": "CTojcJgbi9aT",
    "outputId": "07ff4894-23d8-47d4-89ca-888c81af7314"
   },
   "outputs": [
    {
     "data": {
      "text/html": [
       "<div>\n",
       "<style scoped>\n",
       "    .dataframe tbody tr th:only-of-type {\n",
       "        vertical-align: middle;\n",
       "    }\n",
       "\n",
       "    .dataframe tbody tr th {\n",
       "        vertical-align: top;\n",
       "    }\n",
       "\n",
       "    .dataframe thead th {\n",
       "        text-align: right;\n",
       "    }\n",
       "</style>\n",
       "<table border=\"1\" class=\"dataframe\">\n",
       "  <thead>\n",
       "    <tr style=\"text-align: right;\">\n",
       "      <th></th>\n",
       "      <th>ID_Patient_Care_Situation</th>\n",
       "      <th>Diagnosed_Condition</th>\n",
       "      <th>Patient_ID</th>\n",
       "      <th>Treated_with_drugs</th>\n",
       "      <th>Patient_Age</th>\n",
       "      <th>Patient_Body_Mass_Index</th>\n",
       "      <th>A</th>\n",
       "      <th>B</th>\n",
       "      <th>C</th>\n",
       "      <th>D</th>\n",
       "      <th>E</th>\n",
       "      <th>F</th>\n",
       "      <th>Z</th>\n",
       "      <th>Number_of_prev_cond</th>\n",
       "      <th>Survived_1_year</th>\n",
       "      <th>DX1</th>\n",
       "      <th>DX2</th>\n",
       "      <th>DX3</th>\n",
       "      <th>DX4</th>\n",
       "      <th>DX5</th>\n",
       "      <th>DX6</th>\n",
       "      <th>sum_drug</th>\n",
       "      <th>Patient_Rural_Urban_RURAL</th>\n",
       "      <th>Patient_Rural_Urban_URBAN</th>\n",
       "      <th>Patient_Smoker_CANNOT SAY</th>\n",
       "      <th>Patient_Smoker_NO</th>\n",
       "      <th>Patient_Smoker_YES</th>\n",
       "    </tr>\n",
       "  </thead>\n",
       "  <tbody>\n",
       "    <tr>\n",
       "      <th>0</th>\n",
       "      <td>16201</td>\n",
       "      <td>47</td>\n",
       "      <td>8433</td>\n",
       "      <td>DX2</td>\n",
       "      <td>60</td>\n",
       "      <td>21.655523</td>\n",
       "      <td>1.0</td>\n",
       "      <td>0.0</td>\n",
       "      <td>0.0</td>\n",
       "      <td>0.0</td>\n",
       "      <td>1.0</td>\n",
       "      <td>0.0</td>\n",
       "      <td>0.0</td>\n",
       "      <td>2.0</td>\n",
       "      <td>1</td>\n",
       "      <td>0</td>\n",
       "      <td>1</td>\n",
       "      <td>0</td>\n",
       "      <td>0</td>\n",
       "      <td>0</td>\n",
       "      <td>0</td>\n",
       "      <td>1</td>\n",
       "      <td>0</td>\n",
       "      <td>1</td>\n",
       "      <td>0</td>\n",
       "      <td>1</td>\n",
       "      <td>0</td>\n",
       "    </tr>\n",
       "    <tr>\n",
       "      <th>1</th>\n",
       "      <td>9421</td>\n",
       "      <td>3</td>\n",
       "      <td>2972</td>\n",
       "      <td>DX6</td>\n",
       "      <td>2</td>\n",
       "      <td>28.852743</td>\n",
       "      <td>1.0</td>\n",
       "      <td>0.0</td>\n",
       "      <td>1.0</td>\n",
       "      <td>0.0</td>\n",
       "      <td>1.0</td>\n",
       "      <td>0.0</td>\n",
       "      <td>0.0</td>\n",
       "      <td>3.0</td>\n",
       "      <td>0</td>\n",
       "      <td>0</td>\n",
       "      <td>0</td>\n",
       "      <td>0</td>\n",
       "      <td>0</td>\n",
       "      <td>0</td>\n",
       "      <td>1</td>\n",
       "      <td>1</td>\n",
       "      <td>1</td>\n",
       "      <td>0</td>\n",
       "      <td>0</td>\n",
       "      <td>1</td>\n",
       "      <td>0</td>\n",
       "    </tr>\n",
       "    <tr>\n",
       "      <th>2</th>\n",
       "      <td>16205</td>\n",
       "      <td>7</td>\n",
       "      <td>8608</td>\n",
       "      <td>DX6</td>\n",
       "      <td>20</td>\n",
       "      <td>26.179725</td>\n",
       "      <td>1.0</td>\n",
       "      <td>0.0</td>\n",
       "      <td>0.0</td>\n",
       "      <td>0.0</td>\n",
       "      <td>1.0</td>\n",
       "      <td>0.0</td>\n",
       "      <td>0.0</td>\n",
       "      <td>2.0</td>\n",
       "      <td>1</td>\n",
       "      <td>0</td>\n",
       "      <td>0</td>\n",
       "      <td>0</td>\n",
       "      <td>0</td>\n",
       "      <td>0</td>\n",
       "      <td>1</td>\n",
       "      <td>1</td>\n",
       "      <td>1</td>\n",
       "      <td>0</td>\n",
       "      <td>0</td>\n",
       "      <td>1</td>\n",
       "      <td>0</td>\n",
       "    </tr>\n",
       "    <tr>\n",
       "      <th>3</th>\n",
       "      <td>5582</td>\n",
       "      <td>31</td>\n",
       "      <td>10074</td>\n",
       "      <td>DX6</td>\n",
       "      <td>8</td>\n",
       "      <td>22.638945</td>\n",
       "      <td>1.0</td>\n",
       "      <td>0.0</td>\n",
       "      <td>0.0</td>\n",
       "      <td>0.0</td>\n",
       "      <td>1.0</td>\n",
       "      <td>0.0</td>\n",
       "      <td>0.0</td>\n",
       "      <td>2.0</td>\n",
       "      <td>0</td>\n",
       "      <td>0</td>\n",
       "      <td>0</td>\n",
       "      <td>0</td>\n",
       "      <td>0</td>\n",
       "      <td>0</td>\n",
       "      <td>1</td>\n",
       "      <td>1</td>\n",
       "      <td>1</td>\n",
       "      <td>0</td>\n",
       "      <td>0</td>\n",
       "      <td>1</td>\n",
       "      <td>0</td>\n",
       "    </tr>\n",
       "    <tr>\n",
       "      <th>4</th>\n",
       "      <td>20880</td>\n",
       "      <td>43</td>\n",
       "      <td>7462</td>\n",
       "      <td>DX1</td>\n",
       "      <td>53</td>\n",
       "      <td>21.326131</td>\n",
       "      <td>1.0</td>\n",
       "      <td>0.0</td>\n",
       "      <td>0.0</td>\n",
       "      <td>0.0</td>\n",
       "      <td>0.0</td>\n",
       "      <td>0.0</td>\n",
       "      <td>0.0</td>\n",
       "      <td>1.0</td>\n",
       "      <td>1</td>\n",
       "      <td>1</td>\n",
       "      <td>0</td>\n",
       "      <td>0</td>\n",
       "      <td>0</td>\n",
       "      <td>0</td>\n",
       "      <td>0</td>\n",
       "      <td>1</td>\n",
       "      <td>1</td>\n",
       "      <td>0</td>\n",
       "      <td>0</td>\n",
       "      <td>1</td>\n",
       "      <td>0</td>\n",
       "    </tr>\n",
       "  </tbody>\n",
       "</table>\n",
       "</div>"
      ],
      "text/plain": [
       "   ID_Patient_Care_Situation  ...  Patient_Smoker_YES\n",
       "0                      16201  ...                   0\n",
       "1                       9421  ...                   0\n",
       "2                      16205  ...                   0\n",
       "3                       5582  ...                   0\n",
       "4                      20880  ...                   0\n",
       "\n",
       "[5 rows x 27 columns]"
      ]
     },
     "execution_count": 19,
     "metadata": {
      "tags": []
     },
     "output_type": "execute_result"
    }
   ],
   "source": [
    "df1.head()"
   ]
  },
  {
   "cell_type": "code",
   "execution_count": null,
   "metadata": {
    "colab": {
     "base_uri": "https://localhost:8080/",
     "height": 34
    },
    "colab_type": "code",
    "id": "9CJbi1BWDOFb",
    "outputId": "31ebc929-0200-41e1-b058-c9c1d61dec8c"
   },
   "outputs": [
    {
     "data": {
      "text/plain": [
       "(23097, 24)"
      ]
     },
     "execution_count": 20,
     "metadata": {
      "tags": []
     },
     "output_type": "execute_result"
    }
   ],
   "source": [
    "df2 = df1.drop(['Treated_with_drugs', 'Patient_Rural_Urban_RURAL', 'Patient_Smoker_CANNOT SAY'], 1)\n",
    "df2.shape"
   ]
  },
  {
   "cell_type": "code",
   "execution_count": null,
   "metadata": {
    "colab": {
     "base_uri": "https://localhost:8080/",
     "height": 224
    },
    "colab_type": "code",
    "id": "rBQy4xrBC5U2",
    "outputId": "cf15ffbc-b5df-4dee-93c9-c0af4e53b3f7"
   },
   "outputs": [
    {
     "data": {
      "text/html": [
       "<div>\n",
       "<style scoped>\n",
       "    .dataframe tbody tr th:only-of-type {\n",
       "        vertical-align: middle;\n",
       "    }\n",
       "\n",
       "    .dataframe tbody tr th {\n",
       "        vertical-align: top;\n",
       "    }\n",
       "\n",
       "    .dataframe thead th {\n",
       "        text-align: right;\n",
       "    }\n",
       "</style>\n",
       "<table border=\"1\" class=\"dataframe\">\n",
       "  <thead>\n",
       "    <tr style=\"text-align: right;\">\n",
       "      <th></th>\n",
       "      <th>ID_Patient_Care_Situation</th>\n",
       "      <th>Diagnosed_Condition</th>\n",
       "      <th>Patient_ID</th>\n",
       "      <th>Patient_Age</th>\n",
       "      <th>Patient_Body_Mass_Index</th>\n",
       "      <th>A</th>\n",
       "      <th>B</th>\n",
       "      <th>C</th>\n",
       "      <th>D</th>\n",
       "      <th>E</th>\n",
       "      <th>F</th>\n",
       "      <th>Z</th>\n",
       "      <th>Number_of_prev_cond</th>\n",
       "      <th>Survived_1_year</th>\n",
       "      <th>DX1</th>\n",
       "      <th>DX2</th>\n",
       "      <th>DX3</th>\n",
       "      <th>DX4</th>\n",
       "      <th>DX5</th>\n",
       "      <th>DX6</th>\n",
       "      <th>sum_drug</th>\n",
       "      <th>Patient_Rural_Urban_URBAN</th>\n",
       "      <th>Patient_Smoker_NO</th>\n",
       "      <th>Patient_Smoker_YES</th>\n",
       "    </tr>\n",
       "  </thead>\n",
       "  <tbody>\n",
       "    <tr>\n",
       "      <th>0</th>\n",
       "      <td>16201</td>\n",
       "      <td>47</td>\n",
       "      <td>8433</td>\n",
       "      <td>60</td>\n",
       "      <td>21.655523</td>\n",
       "      <td>1.0</td>\n",
       "      <td>0.0</td>\n",
       "      <td>0.0</td>\n",
       "      <td>0.0</td>\n",
       "      <td>1.0</td>\n",
       "      <td>0.0</td>\n",
       "      <td>0.0</td>\n",
       "      <td>2.0</td>\n",
       "      <td>1</td>\n",
       "      <td>0</td>\n",
       "      <td>1</td>\n",
       "      <td>0</td>\n",
       "      <td>0</td>\n",
       "      <td>0</td>\n",
       "      <td>0</td>\n",
       "      <td>1</td>\n",
       "      <td>1</td>\n",
       "      <td>1</td>\n",
       "      <td>0</td>\n",
       "    </tr>\n",
       "    <tr>\n",
       "      <th>1</th>\n",
       "      <td>9421</td>\n",
       "      <td>3</td>\n",
       "      <td>2972</td>\n",
       "      <td>2</td>\n",
       "      <td>28.852743</td>\n",
       "      <td>1.0</td>\n",
       "      <td>0.0</td>\n",
       "      <td>1.0</td>\n",
       "      <td>0.0</td>\n",
       "      <td>1.0</td>\n",
       "      <td>0.0</td>\n",
       "      <td>0.0</td>\n",
       "      <td>3.0</td>\n",
       "      <td>0</td>\n",
       "      <td>0</td>\n",
       "      <td>0</td>\n",
       "      <td>0</td>\n",
       "      <td>0</td>\n",
       "      <td>0</td>\n",
       "      <td>1</td>\n",
       "      <td>1</td>\n",
       "      <td>0</td>\n",
       "      <td>1</td>\n",
       "      <td>0</td>\n",
       "    </tr>\n",
       "    <tr>\n",
       "      <th>2</th>\n",
       "      <td>16205</td>\n",
       "      <td>7</td>\n",
       "      <td>8608</td>\n",
       "      <td>20</td>\n",
       "      <td>26.179725</td>\n",
       "      <td>1.0</td>\n",
       "      <td>0.0</td>\n",
       "      <td>0.0</td>\n",
       "      <td>0.0</td>\n",
       "      <td>1.0</td>\n",
       "      <td>0.0</td>\n",
       "      <td>0.0</td>\n",
       "      <td>2.0</td>\n",
       "      <td>1</td>\n",
       "      <td>0</td>\n",
       "      <td>0</td>\n",
       "      <td>0</td>\n",
       "      <td>0</td>\n",
       "      <td>0</td>\n",
       "      <td>1</td>\n",
       "      <td>1</td>\n",
       "      <td>0</td>\n",
       "      <td>1</td>\n",
       "      <td>0</td>\n",
       "    </tr>\n",
       "    <tr>\n",
       "      <th>3</th>\n",
       "      <td>5582</td>\n",
       "      <td>31</td>\n",
       "      <td>10074</td>\n",
       "      <td>8</td>\n",
       "      <td>22.638945</td>\n",
       "      <td>1.0</td>\n",
       "      <td>0.0</td>\n",
       "      <td>0.0</td>\n",
       "      <td>0.0</td>\n",
       "      <td>1.0</td>\n",
       "      <td>0.0</td>\n",
       "      <td>0.0</td>\n",
       "      <td>2.0</td>\n",
       "      <td>0</td>\n",
       "      <td>0</td>\n",
       "      <td>0</td>\n",
       "      <td>0</td>\n",
       "      <td>0</td>\n",
       "      <td>0</td>\n",
       "      <td>1</td>\n",
       "      <td>1</td>\n",
       "      <td>0</td>\n",
       "      <td>1</td>\n",
       "      <td>0</td>\n",
       "    </tr>\n",
       "    <tr>\n",
       "      <th>4</th>\n",
       "      <td>20880</td>\n",
       "      <td>43</td>\n",
       "      <td>7462</td>\n",
       "      <td>53</td>\n",
       "      <td>21.326131</td>\n",
       "      <td>1.0</td>\n",
       "      <td>0.0</td>\n",
       "      <td>0.0</td>\n",
       "      <td>0.0</td>\n",
       "      <td>0.0</td>\n",
       "      <td>0.0</td>\n",
       "      <td>0.0</td>\n",
       "      <td>1.0</td>\n",
       "      <td>1</td>\n",
       "      <td>1</td>\n",
       "      <td>0</td>\n",
       "      <td>0</td>\n",
       "      <td>0</td>\n",
       "      <td>0</td>\n",
       "      <td>0</td>\n",
       "      <td>1</td>\n",
       "      <td>0</td>\n",
       "      <td>1</td>\n",
       "      <td>0</td>\n",
       "    </tr>\n",
       "  </tbody>\n",
       "</table>\n",
       "</div>"
      ],
      "text/plain": [
       "   ID_Patient_Care_Situation  ...  Patient_Smoker_YES\n",
       "0                      16201  ...                   0\n",
       "1                       9421  ...                   0\n",
       "2                      16205  ...                   0\n",
       "3                       5582  ...                   0\n",
       "4                      20880  ...                   0\n",
       "\n",
       "[5 rows x 24 columns]"
      ]
     },
     "execution_count": 21,
     "metadata": {
      "tags": []
     },
     "output_type": "execute_result"
    }
   ],
   "source": [
    "df2.head()"
   ]
  },
  {
   "cell_type": "code",
   "execution_count": null,
   "metadata": {
    "colab": {
     "base_uri": "https://localhost:8080/",
     "height": 793
    },
    "colab_type": "code",
    "id": "d7u3yyPBHQCg",
    "outputId": "7d592fbf-19c7-41b1-cb4a-2b6f261ae812"
   },
   "outputs": [
    {
     "data": {
      "text/html": [
       "<div>\n",
       "<style scoped>\n",
       "    .dataframe tbody tr th:only-of-type {\n",
       "        vertical-align: middle;\n",
       "    }\n",
       "\n",
       "    .dataframe tbody tr th {\n",
       "        vertical-align: top;\n",
       "    }\n",
       "\n",
       "    .dataframe thead th {\n",
       "        text-align: right;\n",
       "    }\n",
       "</style>\n",
       "<table border=\"1\" class=\"dataframe\">\n",
       "  <thead>\n",
       "    <tr style=\"text-align: right;\">\n",
       "      <th></th>\n",
       "      <th>type</th>\n",
       "      <th>unique_values</th>\n",
       "      <th>have_null?</th>\n",
       "      <th>how many?</th>\n",
       "      <th>per</th>\n",
       "    </tr>\n",
       "  </thead>\n",
       "  <tbody>\n",
       "    <tr>\n",
       "      <th>ID_Patient_Care_Situation</th>\n",
       "      <td>int64</td>\n",
       "      <td>23097</td>\n",
       "      <td>False</td>\n",
       "      <td>0</td>\n",
       "      <td>0.0</td>\n",
       "    </tr>\n",
       "    <tr>\n",
       "      <th>Diagnosed_Condition</th>\n",
       "      <td>int64</td>\n",
       "      <td>53</td>\n",
       "      <td>False</td>\n",
       "      <td>0</td>\n",
       "      <td>0.0</td>\n",
       "    </tr>\n",
       "    <tr>\n",
       "      <th>Patient_ID</th>\n",
       "      <td>int64</td>\n",
       "      <td>10599</td>\n",
       "      <td>False</td>\n",
       "      <td>0</td>\n",
       "      <td>0.0</td>\n",
       "    </tr>\n",
       "    <tr>\n",
       "      <th>Patient_Age</th>\n",
       "      <td>int64</td>\n",
       "      <td>74</td>\n",
       "      <td>False</td>\n",
       "      <td>0</td>\n",
       "      <td>0.0</td>\n",
       "    </tr>\n",
       "    <tr>\n",
       "      <th>Patient_Body_Mass_Index</th>\n",
       "      <td>float64</td>\n",
       "      <td>10599</td>\n",
       "      <td>False</td>\n",
       "      <td>0</td>\n",
       "      <td>0.0</td>\n",
       "    </tr>\n",
       "    <tr>\n",
       "      <th>A</th>\n",
       "      <td>float64</td>\n",
       "      <td>2</td>\n",
       "      <td>False</td>\n",
       "      <td>0</td>\n",
       "      <td>0.0</td>\n",
       "    </tr>\n",
       "    <tr>\n",
       "      <th>B</th>\n",
       "      <td>float64</td>\n",
       "      <td>2</td>\n",
       "      <td>False</td>\n",
       "      <td>0</td>\n",
       "      <td>0.0</td>\n",
       "    </tr>\n",
       "    <tr>\n",
       "      <th>C</th>\n",
       "      <td>float64</td>\n",
       "      <td>2</td>\n",
       "      <td>False</td>\n",
       "      <td>0</td>\n",
       "      <td>0.0</td>\n",
       "    </tr>\n",
       "    <tr>\n",
       "      <th>D</th>\n",
       "      <td>float64</td>\n",
       "      <td>2</td>\n",
       "      <td>False</td>\n",
       "      <td>0</td>\n",
       "      <td>0.0</td>\n",
       "    </tr>\n",
       "    <tr>\n",
       "      <th>E</th>\n",
       "      <td>float64</td>\n",
       "      <td>2</td>\n",
       "      <td>False</td>\n",
       "      <td>0</td>\n",
       "      <td>0.0</td>\n",
       "    </tr>\n",
       "    <tr>\n",
       "      <th>F</th>\n",
       "      <td>float64</td>\n",
       "      <td>2</td>\n",
       "      <td>False</td>\n",
       "      <td>0</td>\n",
       "      <td>0.0</td>\n",
       "    </tr>\n",
       "    <tr>\n",
       "      <th>Z</th>\n",
       "      <td>float64</td>\n",
       "      <td>2</td>\n",
       "      <td>False</td>\n",
       "      <td>0</td>\n",
       "      <td>0.0</td>\n",
       "    </tr>\n",
       "    <tr>\n",
       "      <th>Number_of_prev_cond</th>\n",
       "      <td>float64</td>\n",
       "      <td>6</td>\n",
       "      <td>False</td>\n",
       "      <td>0</td>\n",
       "      <td>0.0</td>\n",
       "    </tr>\n",
       "    <tr>\n",
       "      <th>Survived_1_year</th>\n",
       "      <td>int64</td>\n",
       "      <td>2</td>\n",
       "      <td>False</td>\n",
       "      <td>0</td>\n",
       "      <td>0.0</td>\n",
       "    </tr>\n",
       "    <tr>\n",
       "      <th>DX1</th>\n",
       "      <td>int64</td>\n",
       "      <td>2</td>\n",
       "      <td>False</td>\n",
       "      <td>0</td>\n",
       "      <td>0.0</td>\n",
       "    </tr>\n",
       "    <tr>\n",
       "      <th>DX2</th>\n",
       "      <td>int64</td>\n",
       "      <td>2</td>\n",
       "      <td>False</td>\n",
       "      <td>0</td>\n",
       "      <td>0.0</td>\n",
       "    </tr>\n",
       "    <tr>\n",
       "      <th>DX3</th>\n",
       "      <td>int64</td>\n",
       "      <td>2</td>\n",
       "      <td>False</td>\n",
       "      <td>0</td>\n",
       "      <td>0.0</td>\n",
       "    </tr>\n",
       "    <tr>\n",
       "      <th>DX4</th>\n",
       "      <td>int64</td>\n",
       "      <td>2</td>\n",
       "      <td>False</td>\n",
       "      <td>0</td>\n",
       "      <td>0.0</td>\n",
       "    </tr>\n",
       "    <tr>\n",
       "      <th>DX5</th>\n",
       "      <td>int64</td>\n",
       "      <td>2</td>\n",
       "      <td>False</td>\n",
       "      <td>0</td>\n",
       "      <td>0.0</td>\n",
       "    </tr>\n",
       "    <tr>\n",
       "      <th>DX6</th>\n",
       "      <td>int64</td>\n",
       "      <td>2</td>\n",
       "      <td>False</td>\n",
       "      <td>0</td>\n",
       "      <td>0.0</td>\n",
       "    </tr>\n",
       "    <tr>\n",
       "      <th>sum_drug</th>\n",
       "      <td>int64</td>\n",
       "      <td>5</td>\n",
       "      <td>False</td>\n",
       "      <td>0</td>\n",
       "      <td>0.0</td>\n",
       "    </tr>\n",
       "    <tr>\n",
       "      <th>Patient_Rural_Urban_URBAN</th>\n",
       "      <td>uint8</td>\n",
       "      <td>2</td>\n",
       "      <td>False</td>\n",
       "      <td>0</td>\n",
       "      <td>0.0</td>\n",
       "    </tr>\n",
       "    <tr>\n",
       "      <th>Patient_Smoker_NO</th>\n",
       "      <td>uint8</td>\n",
       "      <td>2</td>\n",
       "      <td>False</td>\n",
       "      <td>0</td>\n",
       "      <td>0.0</td>\n",
       "    </tr>\n",
       "    <tr>\n",
       "      <th>Patient_Smoker_YES</th>\n",
       "      <td>uint8</td>\n",
       "      <td>2</td>\n",
       "      <td>False</td>\n",
       "      <td>0</td>\n",
       "      <td>0.0</td>\n",
       "    </tr>\n",
       "  </tbody>\n",
       "</table>\n",
       "</div>"
      ],
      "text/plain": [
       "                              type  unique_values  have_null?  how many?  per\n",
       "ID_Patient_Care_Situation    int64          23097       False          0  0.0\n",
       "Diagnosed_Condition          int64             53       False          0  0.0\n",
       "Patient_ID                   int64          10599       False          0  0.0\n",
       "Patient_Age                  int64             74       False          0  0.0\n",
       "Patient_Body_Mass_Index    float64          10599       False          0  0.0\n",
       "A                          float64              2       False          0  0.0\n",
       "B                          float64              2       False          0  0.0\n",
       "C                          float64              2       False          0  0.0\n",
       "D                          float64              2       False          0  0.0\n",
       "E                          float64              2       False          0  0.0\n",
       "F                          float64              2       False          0  0.0\n",
       "Z                          float64              2       False          0  0.0\n",
       "Number_of_prev_cond        float64              6       False          0  0.0\n",
       "Survived_1_year              int64              2       False          0  0.0\n",
       "DX1                          int64              2       False          0  0.0\n",
       "DX2                          int64              2       False          0  0.0\n",
       "DX3                          int64              2       False          0  0.0\n",
       "DX4                          int64              2       False          0  0.0\n",
       "DX5                          int64              2       False          0  0.0\n",
       "DX6                          int64              2       False          0  0.0\n",
       "sum_drug                     int64              5       False          0  0.0\n",
       "Patient_Rural_Urban_URBAN    uint8              2       False          0  0.0\n",
       "Patient_Smoker_NO            uint8              2       False          0  0.0\n",
       "Patient_Smoker_YES           uint8              2       False          0  0.0"
      ]
     },
     "execution_count": 22,
     "metadata": {
      "tags": []
     },
     "output_type": "execute_result"
    }
   ],
   "source": [
    "dfaux(df2)"
   ]
  },
  {
   "cell_type": "markdown",
   "metadata": {
    "colab_type": "text",
    "id": "J3MLPI0kKxry"
   },
   "source": [
    "# Training"
   ]
  },
  {
   "cell_type": "code",
   "execution_count": null,
   "metadata": {
    "colab": {
     "base_uri": "https://localhost:8080/",
     "height": 241
    },
    "colab_type": "code",
    "id": "VIwbCkmJRZaE",
    "outputId": "b024d25e-b431-4cc2-c8b1-8c5084a81db1"
   },
   "outputs": [
    {
     "name": "stdout",
     "output_type": "stream",
     "text": [
      "(23097, 21)\n"
     ]
    },
    {
     "data": {
      "text/html": [
       "<div>\n",
       "<style scoped>\n",
       "    .dataframe tbody tr th:only-of-type {\n",
       "        vertical-align: middle;\n",
       "    }\n",
       "\n",
       "    .dataframe tbody tr th {\n",
       "        vertical-align: top;\n",
       "    }\n",
       "\n",
       "    .dataframe thead th {\n",
       "        text-align: right;\n",
       "    }\n",
       "</style>\n",
       "<table border=\"1\" class=\"dataframe\">\n",
       "  <thead>\n",
       "    <tr style=\"text-align: right;\">\n",
       "      <th></th>\n",
       "      <th>Diagnosed_Condition</th>\n",
       "      <th>Patient_Age</th>\n",
       "      <th>Patient_Body_Mass_Index</th>\n",
       "      <th>A</th>\n",
       "      <th>B</th>\n",
       "      <th>C</th>\n",
       "      <th>D</th>\n",
       "      <th>E</th>\n",
       "      <th>F</th>\n",
       "      <th>Z</th>\n",
       "      <th>Number_of_prev_cond</th>\n",
       "      <th>DX1</th>\n",
       "      <th>DX2</th>\n",
       "      <th>DX3</th>\n",
       "      <th>DX4</th>\n",
       "      <th>DX5</th>\n",
       "      <th>DX6</th>\n",
       "      <th>sum_drug</th>\n",
       "      <th>Patient_Rural_Urban_URBAN</th>\n",
       "      <th>Patient_Smoker_NO</th>\n",
       "      <th>Patient_Smoker_YES</th>\n",
       "    </tr>\n",
       "  </thead>\n",
       "  <tbody>\n",
       "    <tr>\n",
       "      <th>0</th>\n",
       "      <td>47</td>\n",
       "      <td>60</td>\n",
       "      <td>21.655523</td>\n",
       "      <td>1.0</td>\n",
       "      <td>0.0</td>\n",
       "      <td>0.0</td>\n",
       "      <td>0.0</td>\n",
       "      <td>1.0</td>\n",
       "      <td>0.0</td>\n",
       "      <td>0.0</td>\n",
       "      <td>2.0</td>\n",
       "      <td>0</td>\n",
       "      <td>1</td>\n",
       "      <td>0</td>\n",
       "      <td>0</td>\n",
       "      <td>0</td>\n",
       "      <td>0</td>\n",
       "      <td>1</td>\n",
       "      <td>1</td>\n",
       "      <td>1</td>\n",
       "      <td>0</td>\n",
       "    </tr>\n",
       "    <tr>\n",
       "      <th>1</th>\n",
       "      <td>3</td>\n",
       "      <td>2</td>\n",
       "      <td>28.852743</td>\n",
       "      <td>1.0</td>\n",
       "      <td>0.0</td>\n",
       "      <td>1.0</td>\n",
       "      <td>0.0</td>\n",
       "      <td>1.0</td>\n",
       "      <td>0.0</td>\n",
       "      <td>0.0</td>\n",
       "      <td>3.0</td>\n",
       "      <td>0</td>\n",
       "      <td>0</td>\n",
       "      <td>0</td>\n",
       "      <td>0</td>\n",
       "      <td>0</td>\n",
       "      <td>1</td>\n",
       "      <td>1</td>\n",
       "      <td>0</td>\n",
       "      <td>1</td>\n",
       "      <td>0</td>\n",
       "    </tr>\n",
       "    <tr>\n",
       "      <th>2</th>\n",
       "      <td>7</td>\n",
       "      <td>20</td>\n",
       "      <td>26.179725</td>\n",
       "      <td>1.0</td>\n",
       "      <td>0.0</td>\n",
       "      <td>0.0</td>\n",
       "      <td>0.0</td>\n",
       "      <td>1.0</td>\n",
       "      <td>0.0</td>\n",
       "      <td>0.0</td>\n",
       "      <td>2.0</td>\n",
       "      <td>0</td>\n",
       "      <td>0</td>\n",
       "      <td>0</td>\n",
       "      <td>0</td>\n",
       "      <td>0</td>\n",
       "      <td>1</td>\n",
       "      <td>1</td>\n",
       "      <td>0</td>\n",
       "      <td>1</td>\n",
       "      <td>0</td>\n",
       "    </tr>\n",
       "    <tr>\n",
       "      <th>3</th>\n",
       "      <td>31</td>\n",
       "      <td>8</td>\n",
       "      <td>22.638945</td>\n",
       "      <td>1.0</td>\n",
       "      <td>0.0</td>\n",
       "      <td>0.0</td>\n",
       "      <td>0.0</td>\n",
       "      <td>1.0</td>\n",
       "      <td>0.0</td>\n",
       "      <td>0.0</td>\n",
       "      <td>2.0</td>\n",
       "      <td>0</td>\n",
       "      <td>0</td>\n",
       "      <td>0</td>\n",
       "      <td>0</td>\n",
       "      <td>0</td>\n",
       "      <td>1</td>\n",
       "      <td>1</td>\n",
       "      <td>0</td>\n",
       "      <td>1</td>\n",
       "      <td>0</td>\n",
       "    </tr>\n",
       "    <tr>\n",
       "      <th>4</th>\n",
       "      <td>43</td>\n",
       "      <td>53</td>\n",
       "      <td>21.326131</td>\n",
       "      <td>1.0</td>\n",
       "      <td>0.0</td>\n",
       "      <td>0.0</td>\n",
       "      <td>0.0</td>\n",
       "      <td>0.0</td>\n",
       "      <td>0.0</td>\n",
       "      <td>0.0</td>\n",
       "      <td>1.0</td>\n",
       "      <td>1</td>\n",
       "      <td>0</td>\n",
       "      <td>0</td>\n",
       "      <td>0</td>\n",
       "      <td>0</td>\n",
       "      <td>0</td>\n",
       "      <td>1</td>\n",
       "      <td>0</td>\n",
       "      <td>1</td>\n",
       "      <td>0</td>\n",
       "    </tr>\n",
       "  </tbody>\n",
       "</table>\n",
       "</div>"
      ],
      "text/plain": [
       "   Diagnosed_Condition  Patient_Age  ...  Patient_Smoker_NO  Patient_Smoker_YES\n",
       "0                   47           60  ...                  1                   0\n",
       "1                    3            2  ...                  1                   0\n",
       "2                    7           20  ...                  1                   0\n",
       "3                   31            8  ...                  1                   0\n",
       "4                   43           53  ...                  1                   0\n",
       "\n",
       "[5 rows x 21 columns]"
      ]
     },
     "execution_count": 23,
     "metadata": {
      "tags": []
     },
     "output_type": "execute_result"
    }
   ],
   "source": [
    "x = df2.drop(['ID_Patient_Care_Situation','Survived_1_year', 'Patient_ID'], axis=1)\n",
    "print(x.shape)\n",
    "x.head()"
   ]
  },
  {
   "cell_type": "code",
   "execution_count": null,
   "metadata": {
    "colab": {
     "base_uri": "https://localhost:8080/",
     "height": 34
    },
    "colab_type": "code",
    "id": "p9q7gcy-TrAP",
    "outputId": "0a57dd9b-ea9e-4696-9ea1-6cde8f9fc516"
   },
   "outputs": [
    {
     "data": {
      "text/plain": [
       "(23097,)"
      ]
     },
     "execution_count": 24,
     "metadata": {
      "tags": []
     },
     "output_type": "execute_result"
    }
   ],
   "source": [
    "y = df2['Survived_1_year'].values\n",
    "y.shape"
   ]
  },
  {
   "cell_type": "code",
   "execution_count": null,
   "metadata": {
    "colab": {},
    "colab_type": "code",
    "id": "Lpp35w07Urfr"
   },
   "outputs": [],
   "source": [
    "xtr, xte , ytr , yte = train_test_split(x,y, test_size=0.2, random_state=1)"
   ]
  },
  {
   "cell_type": "code",
   "execution_count": null,
   "metadata": {
    "colab": {},
    "colab_type": "code",
    "id": "HRlZzQj3Td-B"
   },
   "outputs": [],
   "source": [
    "from sklearn.model_selection import cross_val_score\n",
    "from sklearn.model_selection import KFold, StratifiedKFold"
   ]
  },
  {
   "cell_type": "markdown",
   "metadata": {
    "colab_type": "text",
    "id": "viWUdYVoMIEy"
   },
   "source": [
    "## Random Forest"
   ]
  },
  {
   "cell_type": "code",
   "execution_count": null,
   "metadata": {
    "colab": {
     "base_uri": "https://localhost:8080/",
     "height": 153
    },
    "colab_type": "code",
    "id": "f1ZztXkrgc-t",
    "outputId": "931bbd8e-2bdc-499b-9ea1-fc4ce0941217"
   },
   "outputs": [
    {
     "data": {
      "text/plain": [
       "RandomForestClassifier(bootstrap=True, ccp_alpha=0.0, class_weight=None,\n",
       "                       criterion='gini', max_depth=15, max_features='auto',\n",
       "                       max_leaf_nodes=None, max_samples=None,\n",
       "                       min_impurity_decrease=0.0, min_impurity_split=None,\n",
       "                       min_samples_leaf=1, min_samples_split=2,\n",
       "                       min_weight_fraction_leaf=0.0, n_estimators=100,\n",
       "                       n_jobs=None, oob_score=False, random_state=42, verbose=0,\n",
       "                       warm_start=False)"
      ]
     },
     "execution_count": 27,
     "metadata": {
      "tags": []
     },
     "output_type": "execute_result"
    }
   ],
   "source": [
    "model3 = RandomForestClassifier(max_depth=15, n_estimators = 100, random_state = 42)\n",
    "model3.fit(xtr,ytr)"
   ]
  },
  {
   "cell_type": "code",
   "execution_count": null,
   "metadata": {
    "colab": {},
    "colab_type": "code",
    "id": "Ds0WaVLdgdBe"
   },
   "outputs": [],
   "source": [
    "yte_pred3 = model3.predict(xte)"
   ]
  },
  {
   "cell_type": "code",
   "execution_count": null,
   "metadata": {
    "colab": {
     "base_uri": "https://localhost:8080/",
     "height": 34
    },
    "colab_type": "code",
    "id": "rpP2StcVgEOE",
    "outputId": "864936c2-d1f0-461f-dcf4-38ec50dfedf5"
   },
   "outputs": [
    {
     "data": {
      "text/plain": [
       "0.8660446517827391"
      ]
     },
     "execution_count": 29,
     "metadata": {
      "tags": []
     },
     "output_type": "execute_result"
    }
   ],
   "source": [
    "f1_score(yte, yte_pred3)"
   ]
  },
  {
   "cell_type": "markdown",
   "metadata": {
    "colab_type": "text",
    "id": "t2zBzLCuArGk"
   },
   "source": [
    "## LightGBM"
   ]
  },
  {
   "cell_type": "code",
   "execution_count": null,
   "metadata": {
    "colab": {},
    "colab_type": "code",
    "id": "s7dv-IKpA_sg"
   },
   "outputs": [],
   "source": [
    "import lightgbm as lgb"
   ]
  },
  {
   "cell_type": "code",
   "execution_count": null,
   "metadata": {
    "colab": {},
    "colab_type": "code",
    "id": "vbY73o8WAqdb"
   },
   "outputs": [],
   "source": [
    "lgb_train_data = lgb.Dataset(xtr, ytr)\n",
    "lgb_val_data = lgb.Dataset(xte, yte)"
   ]
  },
  {
   "cell_type": "code",
   "execution_count": null,
   "metadata": {
    "colab": {},
    "colab_type": "code",
    "id": "036hqfYHAqsi"
   },
   "outputs": [],
   "source": [
    "params = {\n",
    "    'task': 'train',\n",
    "    'boosting_type': 'gbdt',\n",
    "    'objective': 'binary',\n",
    "    'metric': {'auc'},\n",
    "    'num_leaves': 80,\n",
    "    'min_data_in_leaf': 20,\n",
    "    'max_depth': 5,\n",
    "    'verbose': -1,\n",
    "    'n_jobs': -1,\n",
    "    'learning_rate': 0.035\n",
    "}"
   ]
  },
  {
   "cell_type": "code",
   "execution_count": null,
   "metadata": {
    "colab": {
     "base_uri": "https://localhost:8080/",
     "height": 340
    },
    "colab_type": "code",
    "id": "ALugUzxjBKzn",
    "outputId": "efc0bbdc-8e57-486e-fab5-283ee0ce16e4"
   },
   "outputs": [
    {
     "name": "stdout",
     "output_type": "stream",
     "text": [
      "Training until validation scores don't improve for 15 rounds.\n",
      "[25]\ttraining's auc: 0.880714\tvalid_1's auc: 0.88202\n",
      "[50]\ttraining's auc: 0.904715\tvalid_1's auc: 0.903175\n",
      "[75]\ttraining's auc: 0.91551\tvalid_1's auc: 0.912001\n",
      "[100]\ttraining's auc: 0.923075\tvalid_1's auc: 0.917365\n",
      "[125]\ttraining's auc: 0.927858\tvalid_1's auc: 0.920441\n",
      "[150]\ttraining's auc: 0.931605\tvalid_1's auc: 0.922891\n",
      "[175]\ttraining's auc: 0.934542\tvalid_1's auc: 0.924655\n",
      "[200]\ttraining's auc: 0.937161\tvalid_1's auc: 0.926106\n",
      "[225]\ttraining's auc: 0.939163\tvalid_1's auc: 0.926914\n",
      "[250]\ttraining's auc: 0.940789\tvalid_1's auc: 0.927474\n",
      "[275]\ttraining's auc: 0.942134\tvalid_1's auc: 0.927944\n",
      "[300]\ttraining's auc: 0.943419\tvalid_1's auc: 0.928341\n",
      "[325]\ttraining's auc: 0.944752\tvalid_1's auc: 0.928473\n",
      "[350]\ttraining's auc: 0.945886\tvalid_1's auc: 0.928598\n",
      "[375]\ttraining's auc: 0.94707\tvalid_1's auc: 0.928753\n",
      "[400]\ttraining's auc: 0.948138\tvalid_1's auc: 0.928748\n",
      "Early stopping, best iteration is:\n",
      "[390]\ttraining's auc: 0.947753\tvalid_1's auc: 0.928821\n"
     ]
    }
   ],
   "source": [
    "evals_result = {}\n",
    "\n",
    "lgb1 = lgb.train(params, lgb_train_data, \n",
    "                 num_boost_round=1000,\n",
    "                 valid_sets=[lgb_train_data, lgb_val_data],\n",
    "                 early_stopping_rounds=15, #feval=lgb_acc_score, evals_result=evals_result,\n",
    "                 verbose_eval=25)"
   ]
  },
  {
   "cell_type": "code",
   "execution_count": null,
   "metadata": {
    "colab": {},
    "colab_type": "code",
    "id": "gNE5MsldC5rc"
   },
   "outputs": [],
   "source": [
    "yte_pred_prob4 = lgb1.predict(xte, num_iteration=lgb1.best_iteration)\n",
    "yte_pred4 = np.where(yte_pred_prob4 > 0.5,1,0)"
   ]
  },
  {
   "cell_type": "code",
   "execution_count": null,
   "metadata": {
    "colab": {
     "base_uri": "https://localhost:8080/",
     "height": 34
    },
    "colab_type": "code",
    "id": "LgYSwSY7DT5E",
    "outputId": "70742637-5791-416b-a786-ffa78ebdb2d3"
   },
   "outputs": [
    {
     "data": {
      "text/plain": [
       "0.8782462057335583"
      ]
     },
     "execution_count": 35,
     "metadata": {
      "tags": []
     },
     "output_type": "execute_result"
    }
   ],
   "source": [
    "f1_score(yte, yte_pred4)"
   ]
  },
  {
   "cell_type": "code",
   "execution_count": null,
   "metadata": {
    "colab": {
     "base_uri": "https://localhost:8080/",
     "height": 1000
    },
    "colab_type": "code",
    "id": "J43Pd5QVBKuv",
    "outputId": "eb9d4025-c4c2-49e4-9699-63ffe813424b"
   },
   "outputs": [
    {
     "name": "stdout",
     "output_type": "stream",
     "text": [
      "Fold 0\n",
      "Training until validation scores don't improve for 50 rounds.\n",
      "[25]\ttraining's auc: 0.882915\tvalid_1's auc: 0.880029\n",
      "[50]\ttraining's auc: 0.905311\tvalid_1's auc: 0.899806\n",
      "[75]\ttraining's auc: 0.91648\tvalid_1's auc: 0.909749\n",
      "[100]\ttraining's auc: 0.92384\tvalid_1's auc: 0.91487\n",
      "[125]\ttraining's auc: 0.929334\tvalid_1's auc: 0.918\n",
      "[150]\ttraining's auc: 0.933091\tvalid_1's auc: 0.920015\n",
      "[175]\ttraining's auc: 0.935625\tvalid_1's auc: 0.921098\n",
      "[200]\ttraining's auc: 0.937745\tvalid_1's auc: 0.922107\n",
      "[225]\ttraining's auc: 0.939405\tvalid_1's auc: 0.922682\n",
      "[250]\ttraining's auc: 0.940822\tvalid_1's auc: 0.92291\n",
      "[275]\ttraining's auc: 0.94227\tvalid_1's auc: 0.923191\n",
      "[300]\ttraining's auc: 0.943627\tvalid_1's auc: 0.923144\n",
      "[325]\ttraining's auc: 0.944806\tvalid_1's auc: 0.923353\n",
      "[350]\ttraining's auc: 0.945919\tvalid_1's auc: 0.923418\n",
      "[375]\ttraining's auc: 0.946916\tvalid_1's auc: 0.923574\n",
      "[400]\ttraining's auc: 0.948133\tvalid_1's auc: 0.923691\n",
      "[425]\ttraining's auc: 0.949025\tvalid_1's auc: 0.923668\n",
      "[450]\ttraining's auc: 0.950071\tvalid_1's auc: 0.923724\n",
      "[475]\ttraining's auc: 0.95096\tvalid_1's auc: 0.923679\n",
      "[500]\ttraining's auc: 0.951938\tvalid_1's auc: 0.923701\n",
      "Early stopping, best iteration is:\n",
      "[455]\ttraining's auc: 0.950236\tvalid_1's auc: 0.923776\n",
      "Fold 1\n",
      "Training until validation scores don't improve for 50 rounds.\n",
      "[25]\ttraining's auc: 0.881345\tvalid_1's auc: 0.883135\n",
      "[50]\ttraining's auc: 0.903573\tvalid_1's auc: 0.903255\n",
      "[75]\ttraining's auc: 0.914466\tvalid_1's auc: 0.9138\n",
      "[100]\ttraining's auc: 0.922352\tvalid_1's auc: 0.919394\n",
      "[125]\ttraining's auc: 0.928068\tvalid_1's auc: 0.922809\n",
      "[150]\ttraining's auc: 0.932081\tvalid_1's auc: 0.925495\n",
      "[175]\ttraining's auc: 0.934453\tvalid_1's auc: 0.926932\n",
      "[200]\ttraining's auc: 0.936467\tvalid_1's auc: 0.927586\n",
      "[225]\ttraining's auc: 0.938517\tvalid_1's auc: 0.9285\n",
      "[250]\ttraining's auc: 0.940086\tvalid_1's auc: 0.929139\n",
      "[275]\ttraining's auc: 0.941657\tvalid_1's auc: 0.929264\n",
      "[300]\ttraining's auc: 0.943133\tvalid_1's auc: 0.929527\n",
      "[325]\ttraining's auc: 0.944441\tvalid_1's auc: 0.929825\n",
      "[350]\ttraining's auc: 0.94579\tvalid_1's auc: 0.930243\n",
      "[375]\ttraining's auc: 0.94701\tvalid_1's auc: 0.93049\n",
      "[400]\ttraining's auc: 0.94807\tvalid_1's auc: 0.930685\n",
      "[425]\ttraining's auc: 0.949197\tvalid_1's auc: 0.9309\n",
      "[450]\ttraining's auc: 0.950275\tvalid_1's auc: 0.93093\n",
      "[475]\ttraining's auc: 0.951159\tvalid_1's auc: 0.930957\n",
      "[500]\ttraining's auc: 0.952007\tvalid_1's auc: 0.931031\n",
      "[525]\ttraining's auc: 0.952837\tvalid_1's auc: 0.931033\n",
      "[550]\ttraining's auc: 0.953695\tvalid_1's auc: 0.931053\n",
      "[575]\ttraining's auc: 0.954484\tvalid_1's auc: 0.931027\n",
      "Early stopping, best iteration is:\n",
      "[539]\ttraining's auc: 0.953354\tvalid_1's auc: 0.931104\n",
      "Fold 2\n",
      "Training until validation scores don't improve for 50 rounds.\n",
      "[25]\ttraining's auc: 0.88014\tvalid_1's auc: 0.870041\n",
      "[50]\ttraining's auc: 0.904726\tvalid_1's auc: 0.894904\n",
      "[75]\ttraining's auc: 0.916045\tvalid_1's auc: 0.905861\n",
      "[100]\ttraining's auc: 0.923082\tvalid_1's auc: 0.912243\n",
      "[125]\ttraining's auc: 0.928891\tvalid_1's auc: 0.91713\n",
      "[150]\ttraining's auc: 0.932718\tvalid_1's auc: 0.91988\n",
      "[175]\ttraining's auc: 0.935508\tvalid_1's auc: 0.921872\n",
      "[200]\ttraining's auc: 0.937735\tvalid_1's auc: 0.923189\n",
      "[225]\ttraining's auc: 0.939468\tvalid_1's auc: 0.923983\n",
      "[250]\ttraining's auc: 0.941171\tvalid_1's auc: 0.924863\n",
      "[275]\ttraining's auc: 0.942689\tvalid_1's auc: 0.925304\n",
      "[300]\ttraining's auc: 0.943965\tvalid_1's auc: 0.925648\n",
      "[325]\ttraining's auc: 0.945213\tvalid_1's auc: 0.926015\n",
      "[350]\ttraining's auc: 0.946442\tvalid_1's auc: 0.926268\n",
      "[375]\ttraining's auc: 0.947483\tvalid_1's auc: 0.926184\n",
      "[400]\ttraining's auc: 0.948459\tvalid_1's auc: 0.926289\n",
      "Early stopping, best iteration is:\n",
      "[356]\ttraining's auc: 0.946694\tvalid_1's auc: 0.926301\n",
      "Fold 3\n",
      "Training until validation scores don't improve for 50 rounds.\n",
      "[25]\ttraining's auc: 0.88277\tvalid_1's auc: 0.873917\n",
      "[50]\ttraining's auc: 0.905791\tvalid_1's auc: 0.894684\n",
      "[75]\ttraining's auc: 0.916344\tvalid_1's auc: 0.905593\n",
      "[100]\ttraining's auc: 0.923703\tvalid_1's auc: 0.912013\n",
      "[125]\ttraining's auc: 0.928739\tvalid_1's auc: 0.916265\n",
      "[150]\ttraining's auc: 0.932788\tvalid_1's auc: 0.919636\n",
      "[175]\ttraining's auc: 0.935813\tvalid_1's auc: 0.921635\n",
      "[200]\ttraining's auc: 0.938231\tvalid_1's auc: 0.923172\n",
      "[225]\ttraining's auc: 0.939999\tvalid_1's auc: 0.923881\n",
      "[250]\ttraining's auc: 0.941483\tvalid_1's auc: 0.924308\n",
      "[275]\ttraining's auc: 0.943148\tvalid_1's auc: 0.924877\n",
      "[300]\ttraining's auc: 0.944448\tvalid_1's auc: 0.925119\n",
      "[325]\ttraining's auc: 0.94569\tvalid_1's auc: 0.925243\n",
      "[350]\ttraining's auc: 0.946612\tvalid_1's auc: 0.925355\n",
      "[375]\ttraining's auc: 0.94764\tvalid_1's auc: 0.925425\n",
      "[400]\ttraining's auc: 0.948691\tvalid_1's auc: 0.925447\n",
      "[425]\ttraining's auc: 0.949636\tvalid_1's auc: 0.925493\n",
      "[450]\ttraining's auc: 0.950449\tvalid_1's auc: 0.925433\n",
      "Early stopping, best iteration is:\n",
      "[419]\ttraining's auc: 0.949387\tvalid_1's auc: 0.925561\n",
      "Fold 4\n",
      "Training until validation scores don't improve for 50 rounds.\n",
      "[25]\ttraining's auc: 0.882465\tvalid_1's auc: 0.876404\n",
      "[50]\ttraining's auc: 0.905747\tvalid_1's auc: 0.895458\n",
      "[75]\ttraining's auc: 0.916462\tvalid_1's auc: 0.905657\n",
      "[100]\ttraining's auc: 0.924552\tvalid_1's auc: 0.913132\n",
      "[125]\ttraining's auc: 0.929264\tvalid_1's auc: 0.918036\n",
      "[150]\ttraining's auc: 0.932811\tvalid_1's auc: 0.920474\n",
      "[175]\ttraining's auc: 0.935625\tvalid_1's auc: 0.922227\n",
      "[200]\ttraining's auc: 0.938015\tvalid_1's auc: 0.923771\n",
      "[225]\ttraining's auc: 0.939828\tvalid_1's auc: 0.92456\n",
      "[250]\ttraining's auc: 0.941687\tvalid_1's auc: 0.925423\n",
      "[275]\ttraining's auc: 0.943088\tvalid_1's auc: 0.926016\n",
      "[300]\ttraining's auc: 0.944433\tvalid_1's auc: 0.926474\n",
      "[325]\ttraining's auc: 0.945864\tvalid_1's auc: 0.926856\n",
      "[350]\ttraining's auc: 0.947094\tvalid_1's auc: 0.926872\n",
      "[375]\ttraining's auc: 0.948147\tvalid_1's auc: 0.927009\n",
      "[400]\ttraining's auc: 0.949129\tvalid_1's auc: 0.926996\n",
      "Early stopping, best iteration is:\n",
      "[360]\ttraining's auc: 0.947567\tvalid_1's auc: 0.9271\n",
      "CV-F1: 0.87634 \n"
     ]
    }
   ],
   "source": [
    "folds = StratifiedKFold(n_splits=5, shuffle=True, random_state=44000)\n",
    "\n",
    "oof = np.zeros(len(x))\n",
    "y = pd.Series(y)\n",
    "\n",
    "features = x.columns\n",
    "feature_importance_df = pd.DataFrame()\n",
    "\n",
    "for fold_, (trn_idx, val_idx) in enumerate(folds.split(x.values, y.values)):\n",
    "    \n",
    "    print(\"Fold {}\".format(fold_))\n",
    "    \n",
    "    trn_data = lgb.Dataset(x.iloc[trn_idx], label=y.iloc[trn_idx])\n",
    "    val_data = lgb.Dataset(x.iloc[val_idx], label=y.iloc[val_idx])\n",
    "\n",
    "    \n",
    "    clf = lgb.train(params, trn_data, num_boost_round=2500, valid_sets = [trn_data, val_data], verbose_eval=25, early_stopping_rounds = 50)\n",
    "    \n",
    "    oof[val_idx] = clf.predict(x.iloc[val_idx], num_iteration=clf.best_iteration)\n",
    "\n",
    "    fold_importance_df = pd.DataFrame()\n",
    "    fold_importance_df[\"Feature\"] = features\n",
    "    fold_importance_df[\"importance\"] = clf.feature_importance( importance_type=\"gain\")\n",
    "    fold_importance_df[\"fold\"] = fold_ + 1\n",
    "    feature_importance_df = pd.concat([feature_importance_df, fold_importance_df], axis=0)\n",
    "\n",
    "    \n",
    "# print(\"CV-AUC score: {:<8.5f}\".format(roc_auc_score(y, oof)))\n",
    "yp1 = np.where(oof > 0.5,1,0 )\n",
    "print(\"CV-F1: {:<8.5f}\".format(f1_score(y,yp1)))"
   ]
  },
  {
   "cell_type": "code",
   "execution_count": null,
   "metadata": {
    "colab": {
     "base_uri": "https://localhost:8080/",
     "height": 349
    },
    "colab_type": "code",
    "id": "IEkhGlR7Clp2",
    "outputId": "e0dff862-6f7f-4011-aebe-45da1d3dfd63"
   },
   "outputs": [
    {
     "data": {
      "image/png": "[encoded data removed]",
      "text/plain": [
       "<Figure size 1008x360 with 1 Axes>"
      ]
     },
     "metadata": {
      "needs_background": "light",
      "tags": []
     },
     "output_type": "display_data"
    }
   ],
   "source": [
    "df_aux = feature_importance_df[[\"Feature\", \"importance\"]].groupby(\"Feature\").mean().sort_values(by=\"importance\", ascending=False)\n",
    "df_aux.head()\n",
    "\n",
    "cols = (df_aux[:20].index)\n",
    "\n",
    "best_features = feature_importance_df.loc[feature_importance_df.Feature.isin(cols)]\n",
    "\n",
    "df_aux2 = df_aux.reset_index()[['Feature']].merge(best_features, on = ['Feature'])\n",
    "\n",
    "plt.figure(figsize=(14,5))\n",
    "sns.barplot(x=\"importance\", y=\"Feature\", data = df_aux2)\n",
    "plt.title('Features importance (averaged/folds)')\n",
    "plt.tight_layout()"
   ]
  },
  {
   "cell_type": "markdown",
   "metadata": {
    "colab_type": "text",
    "id": "NGArQbOgMi4E"
   },
   "source": [
    "# Submission"
   ]
  },
  {
   "cell_type": "code",
   "execution_count": null,
   "metadata": {
    "colab": {
     "base_uri": "https://localhost:8080/",
     "height": 241
    },
    "colab_type": "code",
    "id": "gjPDGdieMlM7",
    "outputId": "cca14cee-5ea0-4114-c291-891d7afa3586"
   },
   "outputs": [
    {
     "name": "stdout",
     "output_type": "stream",
     "text": [
      "(23097, 21)\n"
     ]
    },
    {
     "data": {
      "text/html": [
       "<div>\n",
       "<style scoped>\n",
       "    .dataframe tbody tr th:only-of-type {\n",
       "        vertical-align: middle;\n",
       "    }\n",
       "\n",
       "    .dataframe tbody tr th {\n",
       "        vertical-align: top;\n",
       "    }\n",
       "\n",
       "    .dataframe thead th {\n",
       "        text-align: right;\n",
       "    }\n",
       "</style>\n",
       "<table border=\"1\" class=\"dataframe\">\n",
       "  <thead>\n",
       "    <tr style=\"text-align: right;\">\n",
       "      <th></th>\n",
       "      <th>Diagnosed_Condition</th>\n",
       "      <th>Patient_Age</th>\n",
       "      <th>Patient_Body_Mass_Index</th>\n",
       "      <th>A</th>\n",
       "      <th>B</th>\n",
       "      <th>C</th>\n",
       "      <th>D</th>\n",
       "      <th>E</th>\n",
       "      <th>F</th>\n",
       "      <th>Z</th>\n",
       "      <th>Number_of_prev_cond</th>\n",
       "      <th>DX1</th>\n",
       "      <th>DX2</th>\n",
       "      <th>DX3</th>\n",
       "      <th>DX4</th>\n",
       "      <th>DX5</th>\n",
       "      <th>DX6</th>\n",
       "      <th>sum_drug</th>\n",
       "      <th>Patient_Rural_Urban_URBAN</th>\n",
       "      <th>Patient_Smoker_NO</th>\n",
       "      <th>Patient_Smoker_YES</th>\n",
       "    </tr>\n",
       "  </thead>\n",
       "  <tbody>\n",
       "    <tr>\n",
       "      <th>0</th>\n",
       "      <td>47</td>\n",
       "      <td>60</td>\n",
       "      <td>21.655523</td>\n",
       "      <td>1.0</td>\n",
       "      <td>0.0</td>\n",
       "      <td>0.0</td>\n",
       "      <td>0.0</td>\n",
       "      <td>1.0</td>\n",
       "      <td>0.0</td>\n",
       "      <td>0.0</td>\n",
       "      <td>2.0</td>\n",
       "      <td>0</td>\n",
       "      <td>1</td>\n",
       "      <td>0</td>\n",
       "      <td>0</td>\n",
       "      <td>0</td>\n",
       "      <td>0</td>\n",
       "      <td>1</td>\n",
       "      <td>1</td>\n",
       "      <td>1</td>\n",
       "      <td>0</td>\n",
       "    </tr>\n",
       "    <tr>\n",
       "      <th>1</th>\n",
       "      <td>3</td>\n",
       "      <td>2</td>\n",
       "      <td>28.852743</td>\n",
       "      <td>1.0</td>\n",
       "      <td>0.0</td>\n",
       "      <td>1.0</td>\n",
       "      <td>0.0</td>\n",
       "      <td>1.0</td>\n",
       "      <td>0.0</td>\n",
       "      <td>0.0</td>\n",
       "      <td>3.0</td>\n",
       "      <td>0</td>\n",
       "      <td>0</td>\n",
       "      <td>0</td>\n",
       "      <td>0</td>\n",
       "      <td>0</td>\n",
       "      <td>1</td>\n",
       "      <td>1</td>\n",
       "      <td>0</td>\n",
       "      <td>1</td>\n",
       "      <td>0</td>\n",
       "    </tr>\n",
       "    <tr>\n",
       "      <th>2</th>\n",
       "      <td>7</td>\n",
       "      <td>20</td>\n",
       "      <td>26.179725</td>\n",
       "      <td>1.0</td>\n",
       "      <td>0.0</td>\n",
       "      <td>0.0</td>\n",
       "      <td>0.0</td>\n",
       "      <td>1.0</td>\n",
       "      <td>0.0</td>\n",
       "      <td>0.0</td>\n",
       "      <td>2.0</td>\n",
       "      <td>0</td>\n",
       "      <td>0</td>\n",
       "      <td>0</td>\n",
       "      <td>0</td>\n",
       "      <td>0</td>\n",
       "      <td>1</td>\n",
       "      <td>1</td>\n",
       "      <td>0</td>\n",
       "      <td>1</td>\n",
       "      <td>0</td>\n",
       "    </tr>\n",
       "    <tr>\n",
       "      <th>3</th>\n",
       "      <td>31</td>\n",
       "      <td>8</td>\n",
       "      <td>22.638945</td>\n",
       "      <td>1.0</td>\n",
       "      <td>0.0</td>\n",
       "      <td>0.0</td>\n",
       "      <td>0.0</td>\n",
       "      <td>1.0</td>\n",
       "      <td>0.0</td>\n",
       "      <td>0.0</td>\n",
       "      <td>2.0</td>\n",
       "      <td>0</td>\n",
       "      <td>0</td>\n",
       "      <td>0</td>\n",
       "      <td>0</td>\n",
       "      <td>0</td>\n",
       "      <td>1</td>\n",
       "      <td>1</td>\n",
       "      <td>0</td>\n",
       "      <td>1</td>\n",
       "      <td>0</td>\n",
       "    </tr>\n",
       "    <tr>\n",
       "      <th>4</th>\n",
       "      <td>43</td>\n",
       "      <td>53</td>\n",
       "      <td>21.326131</td>\n",
       "      <td>1.0</td>\n",
       "      <td>0.0</td>\n",
       "      <td>0.0</td>\n",
       "      <td>0.0</td>\n",
       "      <td>0.0</td>\n",
       "      <td>0.0</td>\n",
       "      <td>0.0</td>\n",
       "      <td>1.0</td>\n",
       "      <td>1</td>\n",
       "      <td>0</td>\n",
       "      <td>0</td>\n",
       "      <td>0</td>\n",
       "      <td>0</td>\n",
       "      <td>0</td>\n",
       "      <td>1</td>\n",
       "      <td>0</td>\n",
       "      <td>1</td>\n",
       "      <td>0</td>\n",
       "    </tr>\n",
       "  </tbody>\n",
       "</table>\n",
       "</div>"
      ],
      "text/plain": [
       "   Diagnosed_Condition  Patient_Age  ...  Patient_Smoker_NO  Patient_Smoker_YES\n",
       "0                   47           60  ...                  1                   0\n",
       "1                    3            2  ...                  1                   0\n",
       "2                    7           20  ...                  1                   0\n",
       "3                   31            8  ...                  1                   0\n",
       "4                   43           53  ...                  1                   0\n",
       "\n",
       "[5 rows x 21 columns]"
      ]
     },
     "execution_count": 38,
     "metadata": {
      "tags": []
     },
     "output_type": "execute_result"
    }
   ],
   "source": [
    "print(x.shape)\n",
    "x.head()"
   ]
  },
  {
   "cell_type": "code",
   "execution_count": null,
   "metadata": {
    "colab": {
     "base_uri": "https://localhost:8080/",
     "height": 241
    },
    "colab_type": "code",
    "id": "A4QQvwGfMxyc",
    "outputId": "f185c452-7c99-470e-9bf0-2f7ecb2e94bc"
   },
   "outputs": [
    {
     "name": "stdout",
     "output_type": "stream",
     "text": [
      "(9330, 17)\n"
     ]
    },
    {
     "data": {
      "text/html": [
       "<div>\n",
       "<style scoped>\n",
       "    .dataframe tbody tr th:only-of-type {\n",
       "        vertical-align: middle;\n",
       "    }\n",
       "\n",
       "    .dataframe tbody tr th {\n",
       "        vertical-align: top;\n",
       "    }\n",
       "\n",
       "    .dataframe thead th {\n",
       "        text-align: right;\n",
       "    }\n",
       "</style>\n",
       "<table border=\"1\" class=\"dataframe\">\n",
       "  <thead>\n",
       "    <tr style=\"text-align: right;\">\n",
       "      <th></th>\n",
       "      <th>ID_Patient_Care_Situation</th>\n",
       "      <th>Diagnosed_Condition</th>\n",
       "      <th>Patient_ID</th>\n",
       "      <th>Treated_with_drugs</th>\n",
       "      <th>Patient_Age</th>\n",
       "      <th>Patient_Body_Mass_Index</th>\n",
       "      <th>Patient_Smoker</th>\n",
       "      <th>Patient_Rural_Urban</th>\n",
       "      <th>Patient_mental_condition</th>\n",
       "      <th>A</th>\n",
       "      <th>B</th>\n",
       "      <th>C</th>\n",
       "      <th>D</th>\n",
       "      <th>E</th>\n",
       "      <th>F</th>\n",
       "      <th>Z</th>\n",
       "      <th>Number_of_prev_cond</th>\n",
       "    </tr>\n",
       "  </thead>\n",
       "  <tbody>\n",
       "    <tr>\n",
       "      <th>0</th>\n",
       "      <td>24206</td>\n",
       "      <td>35</td>\n",
       "      <td>4640</td>\n",
       "      <td>DX5</td>\n",
       "      <td>65</td>\n",
       "      <td>20.710365</td>\n",
       "      <td>NO</td>\n",
       "      <td>RURAL</td>\n",
       "      <td>Stable</td>\n",
       "      <td>1.0</td>\n",
       "      <td>0.0</td>\n",
       "      <td>0.0</td>\n",
       "      <td>0.0</td>\n",
       "      <td>1.0</td>\n",
       "      <td>0.0</td>\n",
       "      <td>0.0</td>\n",
       "      <td>2.0</td>\n",
       "    </tr>\n",
       "    <tr>\n",
       "      <th>1</th>\n",
       "      <td>32827</td>\n",
       "      <td>30</td>\n",
       "      <td>3214</td>\n",
       "      <td>dx1</td>\n",
       "      <td>2</td>\n",
       "      <td>24.250219</td>\n",
       "      <td>NO</td>\n",
       "      <td>URBAN</td>\n",
       "      <td>Stable</td>\n",
       "      <td>1.0</td>\n",
       "      <td>0.0</td>\n",
       "      <td>0.0</td>\n",
       "      <td>0.0</td>\n",
       "      <td>1.0</td>\n",
       "      <td>0.0</td>\n",
       "      <td>0.0</td>\n",
       "      <td>2.0</td>\n",
       "    </tr>\n",
       "    <tr>\n",
       "      <th>2</th>\n",
       "      <td>3694</td>\n",
       "      <td>46</td>\n",
       "      <td>3564</td>\n",
       "      <td>dx6</td>\n",
       "      <td>1</td>\n",
       "      <td>27.139276</td>\n",
       "      <td>NO</td>\n",
       "      <td>URBAN</td>\n",
       "      <td>Stable</td>\n",
       "      <td>1.0</td>\n",
       "      <td>0.0</td>\n",
       "      <td>0.0</td>\n",
       "      <td>0.0</td>\n",
       "      <td>0.0</td>\n",
       "      <td>0.0</td>\n",
       "      <td>0.0</td>\n",
       "      <td>1.0</td>\n",
       "    </tr>\n",
       "    <tr>\n",
       "      <th>3</th>\n",
       "      <td>7164</td>\n",
       "      <td>44</td>\n",
       "      <td>5176</td>\n",
       "      <td>DX1</td>\n",
       "      <td>29</td>\n",
       "      <td>29.191759</td>\n",
       "      <td>NO</td>\n",
       "      <td>RURAL</td>\n",
       "      <td>Stable</td>\n",
       "      <td>0.0</td>\n",
       "      <td>0.0</td>\n",
       "      <td>1.0</td>\n",
       "      <td>0.0</td>\n",
       "      <td>1.0</td>\n",
       "      <td>0.0</td>\n",
       "      <td>0.0</td>\n",
       "      <td>2.0</td>\n",
       "    </tr>\n",
       "    <tr>\n",
       "      <th>4</th>\n",
       "      <td>1259</td>\n",
       "      <td>30</td>\n",
       "      <td>1101</td>\n",
       "      <td>DX5</td>\n",
       "      <td>51</td>\n",
       "      <td>20.844146</td>\n",
       "      <td>NO</td>\n",
       "      <td>URBAN</td>\n",
       "      <td>Stable</td>\n",
       "      <td>0.0</td>\n",
       "      <td>0.0</td>\n",
       "      <td>0.0</td>\n",
       "      <td>0.0</td>\n",
       "      <td>1.0</td>\n",
       "      <td>0.0</td>\n",
       "      <td>0.0</td>\n",
       "      <td>1.0</td>\n",
       "    </tr>\n",
       "  </tbody>\n",
       "</table>\n",
       "</div>"
      ],
      "text/plain": [
       "   ID_Patient_Care_Situation  Diagnosed_Condition  ...    Z Number_of_prev_cond\n",
       "0                      24206                   35  ...  0.0                 2.0\n",
       "1                      32827                   30  ...  0.0                 2.0\n",
       "2                       3694                   46  ...  0.0                 1.0\n",
       "3                       7164                   44  ...  0.0                 2.0\n",
       "4                       1259                   30  ...  0.0                 1.0\n",
       "\n",
       "[5 rows x 17 columns]"
      ]
     },
     "execution_count": 39,
     "metadata": {
      "tags": []
     },
     "output_type": "execute_result"
    }
   ],
   "source": [
    "df_test = pd.read_csv('https://raw.githubusercontent.com/dphi-official/Datasets/master/pharma_data/Testing_set_advc.csv')\n",
    "print(df_test.shape)\n",
    "df_test.head()"
   ]
  },
  {
   "cell_type": "markdown",
   "metadata": {
    "colab_type": "text",
    "id": "LmcK-Kz2lYwO"
   },
   "source": [
    "## Preparation for test"
   ]
  },
  {
   "cell_type": "code",
   "execution_count": null,
   "metadata": {
    "colab": {},
    "colab_type": "code",
    "id": "aVyT6yY_5NY7"
   },
   "outputs": [],
   "source": [
    "df_test['Treated_with_drugs'] = df_test['Treated_with_drugs'].str.upper()\n",
    "df_test.Treated_with_drugs = df_test.Treated_with_drugs.fillna(\"DX6\")\n",
    "\n",
    "for drug in [\"DX1\", \"DX2\", \"DX3\", \"DX4\", \"DX5\", \"DX6\"]:\n",
    "  df_test[drug] = np.where(df_test['Treated_with_drugs'].str.contains(drug), 1, 0)\n",
    "\n",
    "df_test[\"sum_drug\"] = df_test[\"DX1\"] + df_test[\"DX2\"] + df_test[\"DX3\"] + df_test[\"DX4\"] + df_test[\"DX5\"] + df_test[\"DX6\"]"
   ]
  },
  {
   "cell_type": "code",
   "execution_count": null,
   "metadata": {
    "colab": {},
    "colab_type": "code",
    "id": "xIcCNaHGkx3Y"
   },
   "outputs": [],
   "source": [
    "condst = [(df_test['Patient_Smoker'] == \"NO\") | (df_test['Patient_Smoker'] == \"NO \"), \n",
    "         (df_test['Patient_Smoker'] == \"YES\") | (df_test['Patient_Smoker'] == \"YES \") | (df_test['Patient_Smoker'] == \"YESS\") | (df_test['Patient_Smoker'] == \"YESS \"),\n",
    "         (df_test['Patient_Smoker'] == \"CANNOT SAY\") | (df_test['Patient_Smoker'] == \"CANNOT SAY \") | (df_test['Patient_Smoker'] == \"Cannot say \") | (df_test['Patient_Smoker'] == \"Cannot say\")\n",
    "        ]\n",
    "\n",
    "choicest = [\"NO\", \"YES\", \"CANNOT SAY\"]\n",
    "\n",
    "df_test['Patient_Smoker'] = np.select(condst, choicest, default = 0)"
   ]
  },
  {
   "cell_type": "code",
   "execution_count": null,
   "metadata": {
    "colab": {},
    "colab_type": "code",
    "id": "WZ49_B5lln2m"
   },
   "outputs": [],
   "source": [
    "df_test = pd.get_dummies(df_test, columns=['Patient_Rural_Urban'])\n",
    "df_test = pd.get_dummies(df_test, columns=['Patient_Smoker'])"
   ]
  },
  {
   "cell_type": "code",
   "execution_count": null,
   "metadata": {
    "colab": {
     "base_uri": "https://localhost:8080/",
     "height": 224
    },
    "colab_type": "code",
    "id": "Hy6gfLyHM1sj",
    "outputId": "44af0b10-d882-4610-d060-57910ddeb661"
   },
   "outputs": [
    {
     "data": {
      "text/html": [
       "<div>\n",
       "<style scoped>\n",
       "    .dataframe tbody tr th:only-of-type {\n",
       "        vertical-align: middle;\n",
       "    }\n",
       "\n",
       "    .dataframe tbody tr th {\n",
       "        vertical-align: top;\n",
       "    }\n",
       "\n",
       "    .dataframe thead th {\n",
       "        text-align: right;\n",
       "    }\n",
       "</style>\n",
       "<table border=\"1\" class=\"dataframe\">\n",
       "  <thead>\n",
       "    <tr style=\"text-align: right;\">\n",
       "      <th></th>\n",
       "      <th>Diagnosed_Condition</th>\n",
       "      <th>Patient_Age</th>\n",
       "      <th>Patient_Body_Mass_Index</th>\n",
       "      <th>A</th>\n",
       "      <th>B</th>\n",
       "      <th>C</th>\n",
       "      <th>D</th>\n",
       "      <th>E</th>\n",
       "      <th>F</th>\n",
       "      <th>Z</th>\n",
       "      <th>Number_of_prev_cond</th>\n",
       "      <th>DX1</th>\n",
       "      <th>DX2</th>\n",
       "      <th>DX3</th>\n",
       "      <th>DX4</th>\n",
       "      <th>DX5</th>\n",
       "      <th>DX6</th>\n",
       "      <th>sum_drug</th>\n",
       "      <th>Patient_Rural_Urban_URBAN</th>\n",
       "      <th>Patient_Smoker_NO</th>\n",
       "      <th>Patient_Smoker_YES</th>\n",
       "    </tr>\n",
       "  </thead>\n",
       "  <tbody>\n",
       "    <tr>\n",
       "      <th>0</th>\n",
       "      <td>35</td>\n",
       "      <td>65</td>\n",
       "      <td>20.710365</td>\n",
       "      <td>1.0</td>\n",
       "      <td>0.0</td>\n",
       "      <td>0.0</td>\n",
       "      <td>0.0</td>\n",
       "      <td>1.0</td>\n",
       "      <td>0.0</td>\n",
       "      <td>0.0</td>\n",
       "      <td>2.0</td>\n",
       "      <td>0</td>\n",
       "      <td>0</td>\n",
       "      <td>0</td>\n",
       "      <td>0</td>\n",
       "      <td>1</td>\n",
       "      <td>0</td>\n",
       "      <td>1</td>\n",
       "      <td>0</td>\n",
       "      <td>1</td>\n",
       "      <td>0</td>\n",
       "    </tr>\n",
       "    <tr>\n",
       "      <th>1</th>\n",
       "      <td>30</td>\n",
       "      <td>2</td>\n",
       "      <td>24.250219</td>\n",
       "      <td>1.0</td>\n",
       "      <td>0.0</td>\n",
       "      <td>0.0</td>\n",
       "      <td>0.0</td>\n",
       "      <td>1.0</td>\n",
       "      <td>0.0</td>\n",
       "      <td>0.0</td>\n",
       "      <td>2.0</td>\n",
       "      <td>1</td>\n",
       "      <td>0</td>\n",
       "      <td>0</td>\n",
       "      <td>0</td>\n",
       "      <td>0</td>\n",
       "      <td>0</td>\n",
       "      <td>1</td>\n",
       "      <td>1</td>\n",
       "      <td>1</td>\n",
       "      <td>0</td>\n",
       "    </tr>\n",
       "    <tr>\n",
       "      <th>2</th>\n",
       "      <td>46</td>\n",
       "      <td>1</td>\n",
       "      <td>27.139276</td>\n",
       "      <td>1.0</td>\n",
       "      <td>0.0</td>\n",
       "      <td>0.0</td>\n",
       "      <td>0.0</td>\n",
       "      <td>0.0</td>\n",
       "      <td>0.0</td>\n",
       "      <td>0.0</td>\n",
       "      <td>1.0</td>\n",
       "      <td>0</td>\n",
       "      <td>0</td>\n",
       "      <td>0</td>\n",
       "      <td>0</td>\n",
       "      <td>0</td>\n",
       "      <td>1</td>\n",
       "      <td>1</td>\n",
       "      <td>1</td>\n",
       "      <td>1</td>\n",
       "      <td>0</td>\n",
       "    </tr>\n",
       "    <tr>\n",
       "      <th>3</th>\n",
       "      <td>44</td>\n",
       "      <td>29</td>\n",
       "      <td>29.191759</td>\n",
       "      <td>0.0</td>\n",
       "      <td>0.0</td>\n",
       "      <td>1.0</td>\n",
       "      <td>0.0</td>\n",
       "      <td>1.0</td>\n",
       "      <td>0.0</td>\n",
       "      <td>0.0</td>\n",
       "      <td>2.0</td>\n",
       "      <td>1</td>\n",
       "      <td>0</td>\n",
       "      <td>0</td>\n",
       "      <td>0</td>\n",
       "      <td>0</td>\n",
       "      <td>0</td>\n",
       "      <td>1</td>\n",
       "      <td>0</td>\n",
       "      <td>1</td>\n",
       "      <td>0</td>\n",
       "    </tr>\n",
       "    <tr>\n",
       "      <th>4</th>\n",
       "      <td>30</td>\n",
       "      <td>51</td>\n",
       "      <td>20.844146</td>\n",
       "      <td>0.0</td>\n",
       "      <td>0.0</td>\n",
       "      <td>0.0</td>\n",
       "      <td>0.0</td>\n",
       "      <td>1.0</td>\n",
       "      <td>0.0</td>\n",
       "      <td>0.0</td>\n",
       "      <td>1.0</td>\n",
       "      <td>0</td>\n",
       "      <td>0</td>\n",
       "      <td>0</td>\n",
       "      <td>0</td>\n",
       "      <td>1</td>\n",
       "      <td>0</td>\n",
       "      <td>1</td>\n",
       "      <td>1</td>\n",
       "      <td>1</td>\n",
       "      <td>0</td>\n",
       "    </tr>\n",
       "  </tbody>\n",
       "</table>\n",
       "</div>"
      ],
      "text/plain": [
       "   Diagnosed_Condition  Patient_Age  ...  Patient_Smoker_NO  Patient_Smoker_YES\n",
       "0                   35           65  ...                  1                   0\n",
       "1                   30            2  ...                  1                   0\n",
       "2                   46            1  ...                  1                   0\n",
       "3                   44           29  ...                  1                   0\n",
       "4                   30           51  ...                  1                   0\n",
       "\n",
       "[5 rows x 21 columns]"
      ]
     },
     "execution_count": 43,
     "metadata": {
      "tags": []
     },
     "output_type": "execute_result"
    }
   ],
   "source": [
    "df_test_2 = df_test.drop(['Patient_mental_condition','Treated_with_drugs', 'Patient_Rural_Urban_RURAL', 'ID_Patient_Care_Situation', 'Patient_ID' ], 1)\n",
    "df_test_2.head()"
   ]
  },
  {
   "cell_type": "code",
   "execution_count": null,
   "metadata": {
    "colab": {
     "base_uri": "https://localhost:8080/",
     "height": 34
    },
    "colab_type": "code",
    "id": "RckXEYmylrbK",
    "outputId": "56424bf7-5564-4a6d-b1f9-bec0736bf460"
   },
   "outputs": [
    {
     "data": {
      "text/plain": [
       "(9330, 21)"
      ]
     },
     "execution_count": 44,
     "metadata": {
      "tags": []
     },
     "output_type": "execute_result"
    }
   ],
   "source": [
    "df_test_2.shape"
   ]
  },
  {
   "cell_type": "markdown",
   "metadata": {
    "colab_type": "text",
    "id": "zP_5ccB7llI3"
   },
   "source": [
    "## Prediction"
   ]
  },
  {
   "cell_type": "code",
   "execution_count": null,
   "metadata": {
    "colab": {},
    "colab_type": "code",
    "id": "G_5LfQDYPKp2"
   },
   "outputs": [],
   "source": [
    "from google.colab import files"
   ]
  },
  {
   "cell_type": "code",
   "execution_count": null,
   "metadata": {
    "colab": {
     "base_uri": "https://localhost:8080/",
     "height": 1000
    },
    "colab_type": "code",
    "id": "19ORyr0yEy2w",
    "outputId": "816f5432-c8f5-4fc9-c30a-6efdb44043e1"
   },
   "outputs": [
    {
     "name": "stdout",
     "output_type": "stream",
     "text": [
      "Fold 0\n",
      "Training until validation scores don't improve for 50 rounds.\n",
      "[25]\ttraining's auc: 0.882915\tvalid_1's auc: 0.880029\n",
      "[50]\ttraining's auc: 0.905311\tvalid_1's auc: 0.899806\n",
      "[75]\ttraining's auc: 0.91648\tvalid_1's auc: 0.909749\n",
      "[100]\ttraining's auc: 0.92384\tvalid_1's auc: 0.91487\n",
      "[125]\ttraining's auc: 0.929334\tvalid_1's auc: 0.918\n",
      "[150]\ttraining's auc: 0.933091\tvalid_1's auc: 0.920015\n",
      "[175]\ttraining's auc: 0.935625\tvalid_1's auc: 0.921098\n",
      "[200]\ttraining's auc: 0.937745\tvalid_1's auc: 0.922107\n",
      "[225]\ttraining's auc: 0.939405\tvalid_1's auc: 0.922682\n",
      "[250]\ttraining's auc: 0.940822\tvalid_1's auc: 0.92291\n",
      "[275]\ttraining's auc: 0.94227\tvalid_1's auc: 0.923191\n",
      "[300]\ttraining's auc: 0.943627\tvalid_1's auc: 0.923144\n",
      "[325]\ttraining's auc: 0.944806\tvalid_1's auc: 0.923353\n",
      "[350]\ttraining's auc: 0.945919\tvalid_1's auc: 0.923418\n",
      "[375]\ttraining's auc: 0.946916\tvalid_1's auc: 0.923574\n",
      "[400]\ttraining's auc: 0.948133\tvalid_1's auc: 0.923691\n",
      "[425]\ttraining's auc: 0.949025\tvalid_1's auc: 0.923668\n",
      "[450]\ttraining's auc: 0.950071\tvalid_1's auc: 0.923724\n",
      "[475]\ttraining's auc: 0.95096\tvalid_1's auc: 0.923679\n",
      "[500]\ttraining's auc: 0.951938\tvalid_1's auc: 0.923701\n",
      "Early stopping, best iteration is:\n",
      "[455]\ttraining's auc: 0.950236\tvalid_1's auc: 0.923776\n",
      "Fold 1\n",
      "Training until validation scores don't improve for 50 rounds.\n",
      "[25]\ttraining's auc: 0.881345\tvalid_1's auc: 0.883135\n",
      "[50]\ttraining's auc: 0.903573\tvalid_1's auc: 0.903255\n",
      "[75]\ttraining's auc: 0.914466\tvalid_1's auc: 0.9138\n",
      "[100]\ttraining's auc: 0.922352\tvalid_1's auc: 0.919394\n",
      "[125]\ttraining's auc: 0.928068\tvalid_1's auc: 0.922809\n",
      "[150]\ttraining's auc: 0.932081\tvalid_1's auc: 0.925495\n",
      "[175]\ttraining's auc: 0.934453\tvalid_1's auc: 0.926932\n",
      "[200]\ttraining's auc: 0.936467\tvalid_1's auc: 0.927586\n",
      "[225]\ttraining's auc: 0.938517\tvalid_1's auc: 0.9285\n",
      "[250]\ttraining's auc: 0.940086\tvalid_1's auc: 0.929139\n",
      "[275]\ttraining's auc: 0.941657\tvalid_1's auc: 0.929264\n",
      "[300]\ttraining's auc: 0.943133\tvalid_1's auc: 0.929527\n",
      "[325]\ttraining's auc: 0.944441\tvalid_1's auc: 0.929825\n",
      "[350]\ttraining's auc: 0.94579\tvalid_1's auc: 0.930243\n",
      "[375]\ttraining's auc: 0.94701\tvalid_1's auc: 0.93049\n",
      "[400]\ttraining's auc: 0.94807\tvalid_1's auc: 0.930685\n",
      "[425]\ttraining's auc: 0.949197\tvalid_1's auc: 0.9309\n",
      "[450]\ttraining's auc: 0.950275\tvalid_1's auc: 0.93093\n",
      "[475]\ttraining's auc: 0.951159\tvalid_1's auc: 0.930957\n",
      "[500]\ttraining's auc: 0.952007\tvalid_1's auc: 0.931031\n",
      "[525]\ttraining's auc: 0.952837\tvalid_1's auc: 0.931033\n",
      "[550]\ttraining's auc: 0.953695\tvalid_1's auc: 0.931053\n",
      "[575]\ttraining's auc: 0.954484\tvalid_1's auc: 0.931027\n",
      "Early stopping, best iteration is:\n",
      "[539]\ttraining's auc: 0.953354\tvalid_1's auc: 0.931104\n",
      "Fold 2\n",
      "Training until validation scores don't improve for 50 rounds.\n",
      "[25]\ttraining's auc: 0.88014\tvalid_1's auc: 0.870041\n",
      "[50]\ttraining's auc: 0.904726\tvalid_1's auc: 0.894904\n",
      "[75]\ttraining's auc: 0.916045\tvalid_1's auc: 0.905861\n",
      "[100]\ttraining's auc: 0.923082\tvalid_1's auc: 0.912243\n",
      "[125]\ttraining's auc: 0.928891\tvalid_1's auc: 0.91713\n",
      "[150]\ttraining's auc: 0.932718\tvalid_1's auc: 0.91988\n",
      "[175]\ttraining's auc: 0.935508\tvalid_1's auc: 0.921872\n",
      "[200]\ttraining's auc: 0.937735\tvalid_1's auc: 0.923189\n",
      "[225]\ttraining's auc: 0.939468\tvalid_1's auc: 0.923983\n",
      "[250]\ttraining's auc: 0.941171\tvalid_1's auc: 0.924863\n",
      "[275]\ttraining's auc: 0.942689\tvalid_1's auc: 0.925304\n",
      "[300]\ttraining's auc: 0.943965\tvalid_1's auc: 0.925648\n",
      "[325]\ttraining's auc: 0.945213\tvalid_1's auc: 0.926015\n",
      "[350]\ttraining's auc: 0.946442\tvalid_1's auc: 0.926268\n",
      "[375]\ttraining's auc: 0.947483\tvalid_1's auc: 0.926184\n",
      "[400]\ttraining's auc: 0.948459\tvalid_1's auc: 0.926289\n",
      "Early stopping, best iteration is:\n",
      "[356]\ttraining's auc: 0.946694\tvalid_1's auc: 0.926301\n",
      "Fold 3\n",
      "Training until validation scores don't improve for 50 rounds.\n",
      "[25]\ttraining's auc: 0.88277\tvalid_1's auc: 0.873917\n",
      "[50]\ttraining's auc: 0.905791\tvalid_1's auc: 0.894684\n",
      "[75]\ttraining's auc: 0.916344\tvalid_1's auc: 0.905593\n",
      "[100]\ttraining's auc: 0.923703\tvalid_1's auc: 0.912013\n",
      "[125]\ttraining's auc: 0.928739\tvalid_1's auc: 0.916265\n",
      "[150]\ttraining's auc: 0.932788\tvalid_1's auc: 0.919636\n",
      "[175]\ttraining's auc: 0.935813\tvalid_1's auc: 0.921635\n",
      "[200]\ttraining's auc: 0.938231\tvalid_1's auc: 0.923172\n",
      "[225]\ttraining's auc: 0.939999\tvalid_1's auc: 0.923881\n",
      "[250]\ttraining's auc: 0.941483\tvalid_1's auc: 0.924308\n",
      "[275]\ttraining's auc: 0.943148\tvalid_1's auc: 0.924877\n",
      "[300]\ttraining's auc: 0.944448\tvalid_1's auc: 0.925119\n",
      "[325]\ttraining's auc: 0.94569\tvalid_1's auc: 0.925243\n",
      "[350]\ttraining's auc: 0.946612\tvalid_1's auc: 0.925355\n",
      "[375]\ttraining's auc: 0.94764\tvalid_1's auc: 0.925425\n",
      "[400]\ttraining's auc: 0.948691\tvalid_1's auc: 0.925447\n",
      "[425]\ttraining's auc: 0.949636\tvalid_1's auc: 0.925493\n",
      "[450]\ttraining's auc: 0.950449\tvalid_1's auc: 0.925433\n",
      "Early stopping, best iteration is:\n",
      "[419]\ttraining's auc: 0.949387\tvalid_1's auc: 0.925561\n",
      "Fold 4\n",
      "Training until validation scores don't improve for 50 rounds.\n",
      "[25]\ttraining's auc: 0.882465\tvalid_1's auc: 0.876404\n",
      "[50]\ttraining's auc: 0.905747\tvalid_1's auc: 0.895458\n",
      "[75]\ttraining's auc: 0.916462\tvalid_1's auc: 0.905657\n",
      "[100]\ttraining's auc: 0.924552\tvalid_1's auc: 0.913132\n",
      "[125]\ttraining's auc: 0.929264\tvalid_1's auc: 0.918036\n",
      "[150]\ttraining's auc: 0.932811\tvalid_1's auc: 0.920474\n",
      "[175]\ttraining's auc: 0.935625\tvalid_1's auc: 0.922227\n",
      "[200]\ttraining's auc: 0.938015\tvalid_1's auc: 0.923771\n",
      "[225]\ttraining's auc: 0.939828\tvalid_1's auc: 0.92456\n",
      "[250]\ttraining's auc: 0.941687\tvalid_1's auc: 0.925423\n",
      "[275]\ttraining's auc: 0.943088\tvalid_1's auc: 0.926016\n",
      "[300]\ttraining's auc: 0.944433\tvalid_1's auc: 0.926474\n",
      "[325]\ttraining's auc: 0.945864\tvalid_1's auc: 0.926856\n",
      "[350]\ttraining's auc: 0.947094\tvalid_1's auc: 0.926872\n",
      "[375]\ttraining's auc: 0.948147\tvalid_1's auc: 0.927009\n",
      "[400]\ttraining's auc: 0.949129\tvalid_1's auc: 0.926996\n",
      "Early stopping, best iteration is:\n",
      "[360]\ttraining's auc: 0.947567\tvalid_1's auc: 0.9271\n"
     ]
    }
   ],
   "source": [
    "folds = StratifiedKFold(n_splits=5, shuffle=True, random_state=44000)\n",
    "\n",
    "yt = np.zeros(df_test_2.shape[0])\n",
    "\n",
    "for fold_, (trn_idx, val_idx) in enumerate(folds.split(x.values, y.values)):\n",
    "    \n",
    "    print(\"Fold {}\".format(fold_))\n",
    "    \n",
    "    trn_data = lgb.Dataset(x.iloc[trn_idx], label=y.iloc[trn_idx])\n",
    "    val_data = lgb.Dataset(x.iloc[val_idx], label=y.iloc[val_idx])\n",
    "    clf = lgb.train(params, trn_data, num_boost_round=2500, valid_sets = [trn_data, val_data], verbose_eval=25, early_stopping_rounds = 50)\n",
    "    \n",
    "    yt += clf.predict(df_test_2, num_iteration=clf.best_iteration)"
   ]
  },
  {
   "cell_type": "code",
   "execution_count": null,
   "metadata": {
    "colab": {},
    "colab_type": "code",
    "id": "joCk7wSZ85bu"
   },
   "outputs": [],
   "source": [
    "sub1_csv = np.where(yt/5 > 0.5, 1,0)"
   ]
  },
  {
   "cell_type": "code",
   "execution_count": null,
   "metadata": {
    "colab": {},
    "colab_type": "code",
    "id": "7kE_gOd_9BV1"
   },
   "outputs": [],
   "source": [
    "res2 = pd.DataFrame(sub1_csv)\n",
    "res2.to_csv('sub05_3.csv', index=False, header=False)"
   ]
  },
  {
   "cell_type": "code",
   "execution_count": null,
   "metadata": {
    "colab": {},
    "colab_type": "code",
    "id": "eXaTTAsz-M4v"
   },
   "outputs": [],
   "source": [
    "# files.download('sub05_3.csv')"
   ]
  }
 ],
 "metadata": {
  "colab": {
   "collapsed_sections": [],
   "name": "submit.ipynb",
   "provenance": [],
   "toc_visible": true
  },
  "kernelspec": {
   "display_name": "Python 3",
   "language": "python",
   "name": "python3"
  },
  "language_info": {
   "codemirror_mode": {
    "name": "ipython",
    "version": 3
   },
   "file_extension": ".py",
   "mimetype": "text/x-python",
   "name": "python",
   "nbconvert_exporter": "python",
   "pygments_lexer": "ipython3",
   "version": "3.7.3"
  }
 },
 "nbformat": 4,
 "nbformat_minor": 1
}
