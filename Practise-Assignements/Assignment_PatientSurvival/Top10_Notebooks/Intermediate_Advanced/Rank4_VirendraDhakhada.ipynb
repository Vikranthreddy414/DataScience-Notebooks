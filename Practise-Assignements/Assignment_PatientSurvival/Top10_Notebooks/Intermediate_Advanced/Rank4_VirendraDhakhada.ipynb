{
  "nbformat": 4,
  "nbformat_minor": 0,
  "metadata": {
    "colab": {
      "name": "FinalSub_DPhi_Assignment3",
      "provenance": [],
      "collapsed_sections": []
    },
    "kernelspec": {
      "name": "python3",
      "display_name": "Python 3"
    },
    "accelerator": "GPU"
  },
  "cells": [
    {
      "cell_type": "code",
      "metadata": {
        "id": "PhA4mIwbVu2e",
        "colab_type": "code",
        "colab": {
          "base_uri": "https://localhost:8080/",
          "height": 357
        },
        "outputId": "37ecea8a-31d2-4e81-8fb2-c92739d62bd6"
      },
      "source": [
        "!nvidia-smi"
      ],
      "execution_count": 64,
      "outputs": [
        {
          "output_type": "stream",
          "text": [
            "Tue Jul  7 14:59:57 2020       \n",
            "+-----------------------------------------------------------------------------+\n",
            "| NVIDIA-SMI 450.36.06    Driver Version: 418.67       CUDA Version: 10.1     |\n",
            "|-------------------------------+----------------------+----------------------+\n",
            "| GPU  Name        Persistence-M| Bus-Id        Disp.A | Volatile Uncorr. ECC |\n",
            "| Fan  Temp  Perf  Pwr:Usage/Cap|         Memory-Usage | GPU-Util  Compute M. |\n",
            "|                               |                      |               MIG M. |\n",
            "|===============================+======================+======================|\n",
            "|   0  Tesla K80           Off  | 00000000:00:04.0 Off |                    0 |\n",
            "| N/A   73C    P0    76W / 149W |    147MiB / 11441MiB |      0%      Default |\n",
            "|                               |                      |                 ERR! |\n",
            "+-------------------------------+----------------------+----------------------+\n",
            "                                                                               \n",
            "+-----------------------------------------------------------------------------+\n",
            "| Processes:                                                                  |\n",
            "|  GPU   GI   CI        PID   Type   Process name                  GPU Memory |\n",
            "|        ID   ID                                                   Usage      |\n",
            "|=============================================================================|\n",
            "|  No running processes found                                                 |\n",
            "+-----------------------------------------------------------------------------+\n"
          ],
          "name": "stdout"
        }
      ]
    },
    {
      "cell_type": "code",
      "metadata": {
        "id": "Rfh3A3AYabCX",
        "colab_type": "code",
        "colab": {}
      },
      "source": [
        "import pandas as pd\n",
        "import numpy as np\n",
        "import matplotlib.pyplot as plt\n",
        "import seaborn as sns\n",
        "import xgboost as xgb\n",
        "from sklearn.model_selection import train_test_split\n",
        "from sklearn.tree import DecisionTreeClassifier\n",
        "from sklearn.ensemble import RandomForestClassifier\n",
        "from sklearn.metrics import confusion_matrix\n",
        "from sklearn.metrics import f1_score, roc_auc_score, accuracy_score, recall_score, precision_score\n",
        "from sklearn.model_selection import learning_curve, GridSearchCV"
      ],
      "execution_count": 65,
      "outputs": []
    },
    {
      "cell_type": "code",
      "metadata": {
        "id": "81GgPrGrayf1",
        "colab_type": "code",
        "colab": {
          "base_uri": "https://localhost:8080/",
          "height": 224
        },
        "outputId": "f95a7e50-04e7-4f70-fb0b-86fc5fb4bda1"
      },
      "source": [
        "pharma_data = pd.read_csv('https://raw.githubusercontent.com/dphi-official/Datasets/master/pharma_data/Training_set_advc.csv')\n",
        "pharma_data.head()"
      ],
      "execution_count": 66,
      "outputs": [
        {
          "output_type": "execute_result",
          "data": {
            "text/html": [
              "<div>\n",
              "<style scoped>\n",
              "    .dataframe tbody tr th:only-of-type {\n",
              "        vertical-align: middle;\n",
              "    }\n",
              "\n",
              "    .dataframe tbody tr th {\n",
              "        vertical-align: top;\n",
              "    }\n",
              "\n",
              "    .dataframe thead th {\n",
              "        text-align: right;\n",
              "    }\n",
              "</style>\n",
              "<table border=\"1\" class=\"dataframe\">\n",
              "  <thead>\n",
              "    <tr style=\"text-align: right;\">\n",
              "      <th></th>\n",
              "      <th>ID_Patient_Care_Situation</th>\n",
              "      <th>Diagnosed_Condition</th>\n",
              "      <th>Patient_ID</th>\n",
              "      <th>Treated_with_drugs</th>\n",
              "      <th>Patient_Age</th>\n",
              "      <th>Patient_Body_Mass_Index</th>\n",
              "      <th>Patient_Smoker</th>\n",
              "      <th>Patient_Rural_Urban</th>\n",
              "      <th>Patient_mental_condition</th>\n",
              "      <th>A</th>\n",
              "      <th>B</th>\n",
              "      <th>C</th>\n",
              "      <th>D</th>\n",
              "      <th>E</th>\n",
              "      <th>F</th>\n",
              "      <th>Z</th>\n",
              "      <th>Number_of_prev_cond</th>\n",
              "      <th>Survived_1_year</th>\n",
              "    </tr>\n",
              "  </thead>\n",
              "  <tbody>\n",
              "    <tr>\n",
              "      <th>0</th>\n",
              "      <td>16201</td>\n",
              "      <td>47</td>\n",
              "      <td>8433</td>\n",
              "      <td>DX2</td>\n",
              "      <td>60</td>\n",
              "      <td>21.655523</td>\n",
              "      <td>NO</td>\n",
              "      <td>URBAN</td>\n",
              "      <td>Stable</td>\n",
              "      <td>1.0</td>\n",
              "      <td>0.0</td>\n",
              "      <td>0.0</td>\n",
              "      <td>0.0</td>\n",
              "      <td>1.0</td>\n",
              "      <td>0.0</td>\n",
              "      <td>0.0</td>\n",
              "      <td>2.0</td>\n",
              "      <td>1</td>\n",
              "    </tr>\n",
              "    <tr>\n",
              "      <th>1</th>\n",
              "      <td>9421</td>\n",
              "      <td>3</td>\n",
              "      <td>2972</td>\n",
              "      <td>DX6</td>\n",
              "      <td>2</td>\n",
              "      <td>28.852743</td>\n",
              "      <td>NO</td>\n",
              "      <td>RURAL</td>\n",
              "      <td>Stable</td>\n",
              "      <td>1.0</td>\n",
              "      <td>0.0</td>\n",
              "      <td>1.0</td>\n",
              "      <td>0.0</td>\n",
              "      <td>1.0</td>\n",
              "      <td>0.0</td>\n",
              "      <td>0.0</td>\n",
              "      <td>3.0</td>\n",
              "      <td>0</td>\n",
              "    </tr>\n",
              "    <tr>\n",
              "      <th>2</th>\n",
              "      <td>16205</td>\n",
              "      <td>7</td>\n",
              "      <td>8608</td>\n",
              "      <td>Dx6</td>\n",
              "      <td>20</td>\n",
              "      <td>26.179725</td>\n",
              "      <td>NO</td>\n",
              "      <td>RURAL</td>\n",
              "      <td>Stable</td>\n",
              "      <td>1.0</td>\n",
              "      <td>0.0</td>\n",
              "      <td>0.0</td>\n",
              "      <td>0.0</td>\n",
              "      <td>1.0</td>\n",
              "      <td>0.0</td>\n",
              "      <td>0.0</td>\n",
              "      <td>2.0</td>\n",
              "      <td>1</td>\n",
              "    </tr>\n",
              "    <tr>\n",
              "      <th>3</th>\n",
              "      <td>5582</td>\n",
              "      <td>31</td>\n",
              "      <td>10074</td>\n",
              "      <td>dx6</td>\n",
              "      <td>8</td>\n",
              "      <td>22.638945</td>\n",
              "      <td>NO</td>\n",
              "      <td>RURAL</td>\n",
              "      <td>Stable</td>\n",
              "      <td>1.0</td>\n",
              "      <td>0.0</td>\n",
              "      <td>0.0</td>\n",
              "      <td>0.0</td>\n",
              "      <td>1.0</td>\n",
              "      <td>0.0</td>\n",
              "      <td>0.0</td>\n",
              "      <td>2.0</td>\n",
              "      <td>0</td>\n",
              "    </tr>\n",
              "    <tr>\n",
              "      <th>4</th>\n",
              "      <td>20880</td>\n",
              "      <td>43</td>\n",
              "      <td>7462</td>\n",
              "      <td>dx1</td>\n",
              "      <td>53</td>\n",
              "      <td>21.326131</td>\n",
              "      <td>NO</td>\n",
              "      <td>RURAL</td>\n",
              "      <td>Stable</td>\n",
              "      <td>1.0</td>\n",
              "      <td>0.0</td>\n",
              "      <td>0.0</td>\n",
              "      <td>0.0</td>\n",
              "      <td>0.0</td>\n",
              "      <td>0.0</td>\n",
              "      <td>0.0</td>\n",
              "      <td>1.0</td>\n",
              "      <td>1</td>\n",
              "    </tr>\n",
              "  </tbody>\n",
              "</table>\n",
              "</div>"
            ],
            "text/plain": [
              "   ID_Patient_Care_Situation  ...  Survived_1_year\n",
              "0                      16201  ...                1\n",
              "1                       9421  ...                0\n",
              "2                      16205  ...                1\n",
              "3                       5582  ...                0\n",
              "4                      20880  ...                1\n",
              "\n",
              "[5 rows x 18 columns]"
            ]
          },
          "metadata": {
            "tags": []
          },
          "execution_count": 66
        }
      ]
    },
    {
      "cell_type": "code",
      "metadata": {
        "id": "qnZeS4QS7DNh",
        "colab_type": "code",
        "colab": {
          "base_uri": "https://localhost:8080/",
          "height": 224
        },
        "outputId": "c2c8224f-79a4-497a-9af4-3ea8bcfad45f"
      },
      "source": [
        "test_new = pd.read_csv('https://raw.githubusercontent.com/dphi-official/Datasets/master/pharma_data/Testing_set_advc.csv')\n",
        "test_new.head()"
      ],
      "execution_count": 67,
      "outputs": [
        {
          "output_type": "execute_result",
          "data": {
            "text/html": [
              "<div>\n",
              "<style scoped>\n",
              "    .dataframe tbody tr th:only-of-type {\n",
              "        vertical-align: middle;\n",
              "    }\n",
              "\n",
              "    .dataframe tbody tr th {\n",
              "        vertical-align: top;\n",
              "    }\n",
              "\n",
              "    .dataframe thead th {\n",
              "        text-align: right;\n",
              "    }\n",
              "</style>\n",
              "<table border=\"1\" class=\"dataframe\">\n",
              "  <thead>\n",
              "    <tr style=\"text-align: right;\">\n",
              "      <th></th>\n",
              "      <th>ID_Patient_Care_Situation</th>\n",
              "      <th>Diagnosed_Condition</th>\n",
              "      <th>Patient_ID</th>\n",
              "      <th>Treated_with_drugs</th>\n",
              "      <th>Patient_Age</th>\n",
              "      <th>Patient_Body_Mass_Index</th>\n",
              "      <th>Patient_Smoker</th>\n",
              "      <th>Patient_Rural_Urban</th>\n",
              "      <th>Patient_mental_condition</th>\n",
              "      <th>A</th>\n",
              "      <th>B</th>\n",
              "      <th>C</th>\n",
              "      <th>D</th>\n",
              "      <th>E</th>\n",
              "      <th>F</th>\n",
              "      <th>Z</th>\n",
              "      <th>Number_of_prev_cond</th>\n",
              "    </tr>\n",
              "  </thead>\n",
              "  <tbody>\n",
              "    <tr>\n",
              "      <th>0</th>\n",
              "      <td>24206</td>\n",
              "      <td>35</td>\n",
              "      <td>4640</td>\n",
              "      <td>DX5</td>\n",
              "      <td>65</td>\n",
              "      <td>20.710365</td>\n",
              "      <td>NO</td>\n",
              "      <td>RURAL</td>\n",
              "      <td>Stable</td>\n",
              "      <td>1.0</td>\n",
              "      <td>0.0</td>\n",
              "      <td>0.0</td>\n",
              "      <td>0.0</td>\n",
              "      <td>1.0</td>\n",
              "      <td>0.0</td>\n",
              "      <td>0.0</td>\n",
              "      <td>2.0</td>\n",
              "    </tr>\n",
              "    <tr>\n",
              "      <th>1</th>\n",
              "      <td>32827</td>\n",
              "      <td>30</td>\n",
              "      <td>3214</td>\n",
              "      <td>dx1</td>\n",
              "      <td>2</td>\n",
              "      <td>24.250219</td>\n",
              "      <td>NO</td>\n",
              "      <td>URBAN</td>\n",
              "      <td>Stable</td>\n",
              "      <td>1.0</td>\n",
              "      <td>0.0</td>\n",
              "      <td>0.0</td>\n",
              "      <td>0.0</td>\n",
              "      <td>1.0</td>\n",
              "      <td>0.0</td>\n",
              "      <td>0.0</td>\n",
              "      <td>2.0</td>\n",
              "    </tr>\n",
              "    <tr>\n",
              "      <th>2</th>\n",
              "      <td>3694</td>\n",
              "      <td>46</td>\n",
              "      <td>3564</td>\n",
              "      <td>dx6</td>\n",
              "      <td>1</td>\n",
              "      <td>27.139276</td>\n",
              "      <td>NO</td>\n",
              "      <td>URBAN</td>\n",
              "      <td>Stable</td>\n",
              "      <td>1.0</td>\n",
              "      <td>0.0</td>\n",
              "      <td>0.0</td>\n",
              "      <td>0.0</td>\n",
              "      <td>0.0</td>\n",
              "      <td>0.0</td>\n",
              "      <td>0.0</td>\n",
              "      <td>1.0</td>\n",
              "    </tr>\n",
              "    <tr>\n",
              "      <th>3</th>\n",
              "      <td>7164</td>\n",
              "      <td>44</td>\n",
              "      <td>5176</td>\n",
              "      <td>DX1</td>\n",
              "      <td>29</td>\n",
              "      <td>29.191759</td>\n",
              "      <td>NO</td>\n",
              "      <td>RURAL</td>\n",
              "      <td>Stable</td>\n",
              "      <td>0.0</td>\n",
              "      <td>0.0</td>\n",
              "      <td>1.0</td>\n",
              "      <td>0.0</td>\n",
              "      <td>1.0</td>\n",
              "      <td>0.0</td>\n",
              "      <td>0.0</td>\n",
              "      <td>2.0</td>\n",
              "    </tr>\n",
              "    <tr>\n",
              "      <th>4</th>\n",
              "      <td>1259</td>\n",
              "      <td>30</td>\n",
              "      <td>1101</td>\n",
              "      <td>DX5</td>\n",
              "      <td>51</td>\n",
              "      <td>20.844146</td>\n",
              "      <td>NO</td>\n",
              "      <td>URBAN</td>\n",
              "      <td>Stable</td>\n",
              "      <td>0.0</td>\n",
              "      <td>0.0</td>\n",
              "      <td>0.0</td>\n",
              "      <td>0.0</td>\n",
              "      <td>1.0</td>\n",
              "      <td>0.0</td>\n",
              "      <td>0.0</td>\n",
              "      <td>1.0</td>\n",
              "    </tr>\n",
              "  </tbody>\n",
              "</table>\n",
              "</div>"
            ],
            "text/plain": [
              "   ID_Patient_Care_Situation  Diagnosed_Condition  ...    Z Number_of_prev_cond\n",
              "0                      24206                   35  ...  0.0                 2.0\n",
              "1                      32827                   30  ...  0.0                 2.0\n",
              "2                       3694                   46  ...  0.0                 1.0\n",
              "3                       7164                   44  ...  0.0                 2.0\n",
              "4                       1259                   30  ...  0.0                 1.0\n",
              "\n",
              "[5 rows x 17 columns]"
            ]
          },
          "metadata": {
            "tags": []
          },
          "execution_count": 67
        }
      ]
    },
    {
      "cell_type": "code",
      "metadata": {
        "id": "Q3catp86UkO4",
        "colab_type": "code",
        "colab": {
          "base_uri": "https://localhost:8080/",
          "height": 442
        },
        "outputId": "95a06077-d7dc-4058-9ee1-f22e69ef6ab7"
      },
      "source": [
        "clm_lst = ['A', 'B', 'C', \n",
        "           'D', 'E', 'F', \n",
        "           'Z', 'Number_of_prev_cond']\n",
        "\n",
        "pharma_data.loc[pharma_data['Number_of_prev_cond'].isna(), clm_lst] = 0\n",
        "pharma_data = pharma_data[pharma_data['Treated_with_drugs'].notna()]\n",
        "pharma_data.reset_index(drop=True, inplace=True)\n",
        "pharma_data.info()"
      ],
      "execution_count": 68,
      "outputs": [
        {
          "output_type": "stream",
          "text": [
            "<class 'pandas.core.frame.DataFrame'>\n",
            "RangeIndex: 25071 entries, 0 to 25070\n",
            "Data columns (total 18 columns):\n",
            " #   Column                     Non-Null Count  Dtype  \n",
            "---  ------                     --------------  -----  \n",
            " 0   ID_Patient_Care_Situation  25071 non-null  int64  \n",
            " 1   Diagnosed_Condition        25071 non-null  int64  \n",
            " 2   Patient_ID                 25071 non-null  int64  \n",
            " 3   Treated_with_drugs         25071 non-null  object \n",
            " 4   Patient_Age                25071 non-null  int64  \n",
            " 5   Patient_Body_Mass_Index    25071 non-null  float64\n",
            " 6   Patient_Smoker             25071 non-null  object \n",
            " 7   Patient_Rural_Urban        25071 non-null  object \n",
            " 8   Patient_mental_condition   25071 non-null  object \n",
            " 9   A                          25071 non-null  float64\n",
            " 10  B                          25071 non-null  float64\n",
            " 11  C                          25071 non-null  float64\n",
            " 12  D                          25071 non-null  float64\n",
            " 13  E                          25071 non-null  float64\n",
            " 14  F                          25071 non-null  float64\n",
            " 15  Z                          25071 non-null  float64\n",
            " 16  Number_of_prev_cond        25071 non-null  float64\n",
            " 17  Survived_1_year            25071 non-null  int64  \n",
            "dtypes: float64(9), int64(5), object(4)\n",
            "memory usage: 3.4+ MB\n"
          ],
          "name": "stdout"
        }
      ]
    },
    {
      "cell_type": "code",
      "metadata": {
        "id": "KYd-gr8QbKh9",
        "colab_type": "code",
        "colab": {}
      },
      "source": [
        "pharma_data['Treated_with_drugs'] = pharma_data['Treated_with_drugs'].str.lower().str.strip().str.split()\n",
        "\n",
        "test_new['Treated_with_drugs'] = test_new['Treated_with_drugs'].str.lower().str.strip().str.split()"
      ],
      "execution_count": 69,
      "outputs": []
    },
    {
      "cell_type": "code",
      "metadata": {
        "id": "ifpjxQ_stsTJ",
        "colab_type": "code",
        "colab": {}
      },
      "source": [
        "drug_list = ['dx1', 'dx2', 'dx3', 'dx4', 'dx5', 'dx6']\n",
        "def encodeDrug(x):\n",
        "    return [1 if drug in x else 0 for drug in drug_list]\n",
        "    \n",
        "pharma_data['Treated_with_drugs_encoded'] = pharma_data.Treated_with_drugs.apply(lambda x: encodeDrug(x))\n",
        "\n",
        "test_new['Treated_with_drugs_encoded'] = test_new.Treated_with_drugs.apply(lambda x: encodeDrug(x))"
      ],
      "execution_count": 70,
      "outputs": []
    },
    {
      "cell_type": "code",
      "metadata": {
        "id": "EMvyTVRLsNp8",
        "colab_type": "code",
        "colab": {}
      },
      "source": [
        "pharma_data[drug_list] = pd.DataFrame(pharma_data['Treated_with_drugs_encoded'].to_list(), columns=drug_list)\n",
        "pharma_data['Treated_drugs_Total'] = pharma_data.iloc[:,-6:].sum(axis=1)\n",
        "\n",
        "\n",
        "test_new[drug_list] = pd.DataFrame(test_new['Treated_with_drugs_encoded'].to_list(), columns=drug_list)\n",
        "test_new['Treated_drugs_Total'] = test_new.iloc[:,-6:].sum(axis=1)"
      ],
      "execution_count": 71,
      "outputs": []
    },
    {
      "cell_type": "code",
      "metadata": {
        "id": "NgPO90af-yqW",
        "colab_type": "code",
        "colab": {}
      },
      "source": [
        "pharma_data['Patient_Smoker'] = pharma_data['Patient_Smoker'].str.lower().str.strip()\n",
        "pharma_data.loc[pharma_data['Patient_Smoker'] == 'yess', 'Patient_Smoker'] = 'yes'\n",
        "\n",
        "test_new['Patient_Smoker'] = test_new['Patient_Smoker'].str.lower().str.strip()\n",
        "test_new.loc[test_new['Patient_Smoker'] == 'yess', 'Patient_Smoker'] = 'yes'"
      ],
      "execution_count": 72,
      "outputs": []
    },
    {
      "cell_type": "code",
      "metadata": {
        "id": "5W2OKHZDdgrQ",
        "colab_type": "code",
        "colab": {}
      },
      "source": [
        "def encodeAge(x):\n",
        "  if x <= 15:\n",
        "    return 'A1'\n",
        "  elif x <= 30:\n",
        "    return 'A2'\n",
        "  elif x <= 45:\n",
        "    return 'A3'\n",
        "  elif x <= 60:\n",
        "    return 'A4'\n",
        "  else:\n",
        "    return 'A5'\n",
        "\n",
        "pharma_data['Patient_Age_encoded'] = pharma_data.Patient_Age.apply(lambda x: encodeAge(x))\n",
        "\n",
        "test_new['Patient_Age_encoded'] = test_new.Patient_Age.apply(lambda x: encodeAge(x))"
      ],
      "execution_count": 73,
      "outputs": []
    },
    {
      "cell_type": "code",
      "metadata": {
        "id": "QzcaB9Izjk6w",
        "colab_type": "code",
        "colab": {}
      },
      "source": [
        "pharma_data = pd.get_dummies(pharma_data, columns=['Patient_Rural_Urban', 'Patient_Smoker', 'Patient_Age_encoded'])\n",
        "\n",
        "test_new = pd.get_dummies(test_new, columns=['Patient_Rural_Urban', 'Patient_Smoker', 'Patient_Age_encoded'])"
      ],
      "execution_count": 74,
      "outputs": []
    },
    {
      "cell_type": "code",
      "metadata": {
        "id": "nifuW_kV3n_y",
        "colab_type": "code",
        "colab": {}
      },
      "source": [
        "drop_columns = ['ID_Patient_Care_Situation',\n",
        "                'Patient_ID', \n",
        "                'Patient_mental_condition',\n",
        "                'Treated_with_drugs', \n",
        "                'Treated_with_drugs_encoded']\n",
        "\n",
        "pharma_data.drop(drop_columns, axis=1, inplace=True)\n",
        "\n",
        "test_new.drop(drop_columns, axis=1, inplace=True)"
      ],
      "execution_count": 75,
      "outputs": []
    },
    {
      "cell_type": "code",
      "metadata": {
        "id": "hXoi8nLcqcUL",
        "colab_type": "code",
        "colab": {}
      },
      "source": [
        "toInt = ['A', 'B', 'C', 'D', 'E', 'F', 'Z', 'Number_of_prev_cond']\n",
        "\n",
        "pharma_data[toInt] = pharma_data[toInt].astype(int)\n",
        "\n",
        "test_new[toInt] = test_new[toInt].astype(int)"
      ],
      "execution_count": 76,
      "outputs": []
    },
    {
      "cell_type": "code",
      "metadata": {
        "id": "B5bOO8MBLmGy",
        "colab_type": "code",
        "colab": {}
      },
      "source": [
        ""
      ],
      "execution_count": 76,
      "outputs": []
    },
    {
      "cell_type": "markdown",
      "metadata": {
        "id": "2x66P1urqbd3",
        "colab_type": "text"
      },
      "source": [
        "**XGBoost SKLearn**"
      ]
    },
    {
      "cell_type": "code",
      "metadata": {
        "id": "XX2A5adG3vVk",
        "colab_type": "code",
        "colab": {}
      },
      "source": [
        "def printEval(y_true, y_pred):\n",
        "    print('F1 Score', f1_score(y_true, y_pred))\n",
        "    print('ROC AUC', roc_auc_score(y_true, y_pred))\n",
        "    print('Precision', precision_score(y_true, y_pred))\n",
        "    print('Recall Score', recall_score(y_true, y_pred))\n",
        "    print('Accuracy', accuracy_score(y_true, y_pred))"
      ],
      "execution_count": 77,
      "outputs": []
    },
    {
      "cell_type": "code",
      "metadata": {
        "id": "OLaGGpC0qcpf",
        "colab_type": "code",
        "colab": {
          "base_uri": "https://localhost:8080/",
          "height": 340
        },
        "outputId": "9f65b9aa-6756-4e83-997b-c7463d6853d6"
      },
      "source": [
        "y = pharma_data['Survived_1_year']\n",
        "x = pharma_data.drop(['Survived_1_year'], axis=1)\n",
        "x_train, x_test, y_train, y_test = train_test_split(x, y, test_size=0.2, random_state=1)\n",
        "\n",
        "print('x_train', x_train.shape)\n",
        "print('x_test', x_test.shape)\n",
        "print('y_train', y_train.shape)\n",
        "print('y_test', y_test.shape)\n",
        "\n",
        "\n",
        "xgbClf = xgb.XGBClassifier(max_depth=7, min_child_weight=6, random_state=47)\n",
        "xgbClf.fit(x_train, y_train, eval_metric=f1_score)\n",
        "\n",
        "y_pred_train = xgbClf.predict(x_train)\n",
        "y_pred = xgbClf.predict(x_test)\n",
        "\n",
        "print('For TrainData \\n')\n",
        "printEval(np.array(y_pred_train).astype(int), y_train)\n",
        "\n",
        "print('\\n For TestData \\n')\n",
        "printEval(y_pred, y_test)"
      ],
      "execution_count": 31,
      "outputs": [
        {
          "output_type": "stream",
          "text": [
            "x_train (20056, 27)\n",
            "x_test (5015, 27)\n",
            "y_train (20056,)\n",
            "y_test (5015,)\n",
            "For TrainData \n",
            "\n",
            "F1 Score 0.9119058677813904\n",
            "ROC AUC 0.8813184576301656\n",
            "Precision 0.9260278280009433\n",
            "Recall Score 0.8982081585970263\n",
            "Accuracy 0.8865177502991624\n",
            "\n",
            " For TestData \n",
            "\n",
            "F1 Score 0.8875921375921376\n",
            "ROC AUC 0.8476337229442327\n",
            "Precision 0.9090909090909091\n",
            "Recall Score 0.8670867086708671\n",
            "Accuracy 0.8540378863409771\n"
          ],
          "name": "stdout"
        }
      ]
    },
    {
      "cell_type": "code",
      "metadata": {
        "id": "wm5NH33vpGP9",
        "colab_type": "code",
        "colab": {}
      },
      "source": [
        "xgbClf = xgb.XGBClassifier(max_depth=7, min_child_weight=6, random_state=47)\n",
        "xgbClf.fit(x, y, eval_metric=f1_score)\n",
        "\n",
        "test_pred = xgbClf.predict(test_new)\n",
        "values = list(test_pred)\n",
        "\n",
        "with open(\"predictionXGB.txt\", \"w\") as output:\n",
        "    output.write(str(values))"
      ],
      "execution_count": 32,
      "outputs": []
    },
    {
      "cell_type": "markdown",
      "metadata": {
        "id": "7URMCfVUqKKE",
        "colab_type": "text"
      },
      "source": [
        "**H2O AutoML**"
      ]
    },
    {
      "cell_type": "code",
      "metadata": {
        "id": "UORUb9c1nh5w",
        "colab_type": "code",
        "colab": {}
      },
      "source": [
        "pharma_data.loc[pharma_data['Survived_1_year'] == 1, 'Survived_1_year'] = 'yes'\n",
        "pharma_data.loc[pharma_data['Survived_1_year'] == 0, 'Survived_1_year'] = 'no'\n",
        "pharma_data.to_csv('pharma_data.csv', index=False)"
      ],
      "execution_count": 33,
      "outputs": []
    },
    {
      "cell_type": "code",
      "metadata": {
        "id": "rwVVtgV8es4M",
        "colab_type": "code",
        "colab": {
          "base_uri": "https://localhost:8080/",
          "height": 360
        },
        "outputId": "147c85ff-cd2c-49a6-f1e7-3c515cc3ed23"
      },
      "source": [
        "!pip install h2o"
      ],
      "execution_count": 34,
      "outputs": [
        {
          "output_type": "stream",
          "text": [
            "Collecting h2o\n",
            "\u001b[?25l  Downloading https://files.pythonhosted.org/packages/ad/5a/8328741dd6b1e9ac9345ec47e1e963d1bba56e0747063d6ce606a2813a55/h2o-3.30.0.6.tar.gz (128.4MB)\n",
            "\u001b[K     |████████████████████████████████| 128.4MB 93kB/s \n",
            "\u001b[?25hRequirement already satisfied: requests in /usr/local/lib/python3.6/dist-packages (from h2o) (2.23.0)\n",
            "Requirement already satisfied: tabulate in /usr/local/lib/python3.6/dist-packages (from h2o) (0.8.7)\n",
            "Requirement already satisfied: future in /usr/local/lib/python3.6/dist-packages (from h2o) (0.16.0)\n",
            "Collecting colorama>=0.3.8\n",
            "  Downloading https://files.pythonhosted.org/packages/c9/dc/45cdef1b4d119eb96316b3117e6d5708a08029992b2fee2c143c7a0a5cc5/colorama-0.4.3-py2.py3-none-any.whl\n",
            "Requirement already satisfied: urllib3!=1.25.0,!=1.25.1,<1.26,>=1.21.1 in /usr/local/lib/python3.6/dist-packages (from requests->h2o) (1.24.3)\n",
            "Requirement already satisfied: chardet<4,>=3.0.2 in /usr/local/lib/python3.6/dist-packages (from requests->h2o) (3.0.4)\n",
            "Requirement already satisfied: certifi>=2017.4.17 in /usr/local/lib/python3.6/dist-packages (from requests->h2o) (2020.6.20)\n",
            "Requirement already satisfied: idna<3,>=2.5 in /usr/local/lib/python3.6/dist-packages (from requests->h2o) (2.9)\n",
            "Building wheels for collected packages: h2o\n",
            "  Building wheel for h2o (setup.py) ... \u001b[?25l\u001b[?25hdone\n",
            "  Created wheel for h2o: filename=h2o-3.30.0.6-py2.py3-none-any.whl size=128412300 sha256=538d0e7516689cdb2a7d1dd870d3538355b571c6584ff83ff9d4d3e2c9e08172\n",
            "  Stored in directory: /root/.cache/pip/wheels/de/4c/dd/4813e95c4b5328b4de2e2e1aa56ca66a547f45d11fe47c3c8a\n",
            "Successfully built h2o\n",
            "Installing collected packages: colorama, h2o\n",
            "Successfully installed colorama-0.4.3 h2o-3.30.0.6\n"
          ],
          "name": "stdout"
        }
      ]
    },
    {
      "cell_type": "code",
      "metadata": {
        "id": "6Vjr60UsetNI",
        "colab_type": "code",
        "colab": {}
      },
      "source": [
        "import h2o"
      ],
      "execution_count": 35,
      "outputs": []
    },
    {
      "cell_type": "code",
      "metadata": {
        "id": "x710ieOdethL",
        "colab_type": "code",
        "colab": {
          "base_uri": "https://localhost:8080/",
          "height": 545
        },
        "outputId": "e0d0a794-1c28-4062-e697-1779baf6b6a6"
      },
      "source": [
        "h2o.init()"
      ],
      "execution_count": 36,
      "outputs": [
        {
          "output_type": "stream",
          "text": [
            "Checking whether there is an H2O instance running at http://localhost:54321 ..... not found.\n",
            "Attempting to start a local H2O server...\n",
            "  Java Version: openjdk version \"11.0.7\" 2020-04-14; OpenJDK Runtime Environment (build 11.0.7+10-post-Ubuntu-2ubuntu218.04); OpenJDK 64-Bit Server VM (build 11.0.7+10-post-Ubuntu-2ubuntu218.04, mixed mode, sharing)\n",
            "  Starting server from /usr/local/lib/python3.6/dist-packages/h2o/backend/bin/h2o.jar\n",
            "  Ice root: /tmp/tmp2qv2i9uk\n",
            "  JVM stdout: /tmp/tmp2qv2i9uk/h2o_unknownUser_started_from_python.out\n",
            "  JVM stderr: /tmp/tmp2qv2i9uk/h2o_unknownUser_started_from_python.err\n",
            "  Server is running at http://127.0.0.1:54321\n",
            "Connecting to H2O server at http://127.0.0.1:54321 ... successful.\n"
          ],
          "name": "stdout"
        },
        {
          "output_type": "display_data",
          "data": {
            "text/html": [
              "<div style=\"overflow:auto\"><table style=\"width:50%\"><tr><td>H2O_cluster_uptime:</td>\n",
              "<td>03 secs</td></tr>\n",
              "<tr><td>H2O_cluster_timezone:</td>\n",
              "<td>Etc/UTC</td></tr>\n",
              "<tr><td>H2O_data_parsing_timezone:</td>\n",
              "<td>UTC</td></tr>\n",
              "<tr><td>H2O_cluster_version:</td>\n",
              "<td>3.30.0.6</td></tr>\n",
              "<tr><td>H2O_cluster_version_age:</td>\n",
              "<td>6 days </td></tr>\n",
              "<tr><td>H2O_cluster_name:</td>\n",
              "<td>H2O_from_python_unknownUser_fwng1a</td></tr>\n",
              "<tr><td>H2O_cluster_total_nodes:</td>\n",
              "<td>1</td></tr>\n",
              "<tr><td>H2O_cluster_free_memory:</td>\n",
              "<td>3.180 Gb</td></tr>\n",
              "<tr><td>H2O_cluster_total_cores:</td>\n",
              "<td>2</td></tr>\n",
              "<tr><td>H2O_cluster_allowed_cores:</td>\n",
              "<td>2</td></tr>\n",
              "<tr><td>H2O_cluster_status:</td>\n",
              "<td>accepting new members, healthy</td></tr>\n",
              "<tr><td>H2O_connection_url:</td>\n",
              "<td>http://127.0.0.1:54321</td></tr>\n",
              "<tr><td>H2O_connection_proxy:</td>\n",
              "<td>{\"http\": null, \"https\": null}</td></tr>\n",
              "<tr><td>H2O_internal_security:</td>\n",
              "<td>False</td></tr>\n",
              "<tr><td>H2O_API_Extensions:</td>\n",
              "<td>Amazon S3, XGBoost, Algos, AutoML, Core V3, TargetEncoder, Core V4</td></tr>\n",
              "<tr><td>Python_version:</td>\n",
              "<td>3.6.9 final</td></tr></table></div>"
            ],
            "text/plain": [
              "--------------------------  ------------------------------------------------------------------\n",
              "H2O_cluster_uptime:         03 secs\n",
              "H2O_cluster_timezone:       Etc/UTC\n",
              "H2O_data_parsing_timezone:  UTC\n",
              "H2O_cluster_version:        3.30.0.6\n",
              "H2O_cluster_version_age:    6 days\n",
              "H2O_cluster_name:           H2O_from_python_unknownUser_fwng1a\n",
              "H2O_cluster_total_nodes:    1\n",
              "H2O_cluster_free_memory:    3.180 Gb\n",
              "H2O_cluster_total_cores:    2\n",
              "H2O_cluster_allowed_cores:  2\n",
              "H2O_cluster_status:         accepting new members, healthy\n",
              "H2O_connection_url:         http://127.0.0.1:54321\n",
              "H2O_connection_proxy:       {\"http\": null, \"https\": null}\n",
              "H2O_internal_security:      False\n",
              "H2O_API_Extensions:         Amazon S3, XGBoost, Algos, AutoML, Core V3, TargetEncoder, Core V4\n",
              "Python_version:             3.6.9 final\n",
              "--------------------------  ------------------------------------------------------------------"
            ]
          },
          "metadata": {
            "tags": []
          }
        }
      ]
    },
    {
      "cell_type": "code",
      "metadata": {
        "id": "g5qqB9cletxR",
        "colab_type": "code",
        "colab": {}
      },
      "source": [
        "from h2o.automl import H2OAutoML"
      ],
      "execution_count": 37,
      "outputs": []
    },
    {
      "cell_type": "code",
      "metadata": {
        "id": "OqtMHLbSeuF_",
        "colab_type": "code",
        "colab": {
          "base_uri": "https://localhost:8080/",
          "height": 34
        },
        "outputId": "e8b1bad6-3044-4090-bf88-d7c9f7791e55"
      },
      "source": [
        "churn_df = h2o.upload_file('/content/pharma_data.csv')"
      ],
      "execution_count": 38,
      "outputs": [
        {
          "output_type": "stream",
          "text": [
            "Parse progress: |█████████████████████████████████████████████████████████| 100%\n"
          ],
          "name": "stdout"
        }
      ]
    },
    {
      "cell_type": "code",
      "metadata": {
        "id": "X1H8dNyletZu",
        "colab_type": "code",
        "colab": {
          "base_uri": "https://localhost:8080/",
          "height": 493
        },
        "outputId": "413a3788-1f8d-4110-9762-90c100308cef"
      },
      "source": [
        "churn_df.types"
      ],
      "execution_count": 39,
      "outputs": [
        {
          "output_type": "execute_result",
          "data": {
            "text/plain": [
              "{'A': 'int',\n",
              " 'B': 'int',\n",
              " 'C': 'int',\n",
              " 'D': 'int',\n",
              " 'Diagnosed_Condition': 'int',\n",
              " 'E': 'int',\n",
              " 'F': 'int',\n",
              " 'Number_of_prev_cond': 'int',\n",
              " 'Patient_Age': 'int',\n",
              " 'Patient_Age_encoded_A1': 'int',\n",
              " 'Patient_Age_encoded_A2': 'int',\n",
              " 'Patient_Age_encoded_A3': 'int',\n",
              " 'Patient_Age_encoded_A4': 'int',\n",
              " 'Patient_Age_encoded_A5': 'int',\n",
              " 'Patient_Body_Mass_Index': 'real',\n",
              " 'Patient_Rural_Urban_RURAL': 'int',\n",
              " 'Patient_Rural_Urban_URBAN': 'int',\n",
              " 'Patient_Smoker_no': 'int',\n",
              " 'Patient_Smoker_yes': 'int',\n",
              " 'Survived_1_year': 'enum',\n",
              " 'Treated_drugs_Total': 'int',\n",
              " 'Z': 'int',\n",
              " 'dx1': 'int',\n",
              " 'dx2': 'int',\n",
              " 'dx3': 'int',\n",
              " 'dx4': 'int',\n",
              " 'dx5': 'int',\n",
              " 'dx6': 'int'}"
            ]
          },
          "metadata": {
            "tags": []
          },
          "execution_count": 39
        }
      ]
    },
    {
      "cell_type": "code",
      "metadata": {
        "id": "iehCWRjL6JY5",
        "colab_type": "code",
        "colab": {}
      },
      "source": [
        "churn_train,churn_test = churn_df.split_frame(ratios=[.8])"
      ],
      "execution_count": 40,
      "outputs": []
    },
    {
      "cell_type": "code",
      "metadata": {
        "id": "8SofzAQd6Jwq",
        "colab_type": "code",
        "colab": {}
      },
      "source": [
        "y = \"Survived_1_year\"\n",
        "x = churn_df.columns\n",
        "x.remove(y)"
      ],
      "execution_count": 41,
      "outputs": []
    },
    {
      "cell_type": "code",
      "metadata": {
        "id": "OygdQzGf6KFi",
        "colab_type": "code",
        "colab": {
          "base_uri": "https://localhost:8080/",
          "height": 1000
        },
        "outputId": "54e9654d-2fd8-40e4-bb7f-b7bf5fcf9c6d"
      },
      "source": [
        "aml = H2OAutoML(max_models = 30, \n",
        "                exclude_algos = [\"GBM\", \"DeepLearning\"], \n",
        "                verbosity=\"info\", nfolds=3)    #sort_metric = \"AUC\",\n",
        "                \n",
        "aml.train(x = x, y = y, training_frame = churn_df)"
      ],
      "execution_count": 42,
      "outputs": [
        {
          "output_type": "stream",
          "text": [
            "AutoML progress: |\n",
            "14:31:39.549: Project: AutoML_20200707_143139540\n",
            "14:31:39.551: Setting stopping tolerance adaptively based on the training frame: 0.006315593535871559\n",
            "14:31:39.552: Build control seed: -1 (random)\n",
            "14:31:39.553: training frame: Frame key: automl_training_Key_Frame__upload_a2921979eaa51f6396add1eeae6d43c9.hex    cols: 28    rows: 25071  chunks: 1    size: 374102  checksum: 6025084801457614733\n",
            "14:31:39.553: validation frame: NULL\n",
            "14:31:39.553: leaderboard frame: NULL\n",
            "14:31:39.553: blending frame: NULL\n",
            "14:31:39.554: response column: Survived_1_year\n",
            "14:31:39.554: fold column: null\n",
            "14:31:39.554: weights column: null\n",
            "14:31:39.620: Loading execution steps: [{XGBoost : defaults}, {GLM : defaults}, {DRF : [def_1]}, {GBM : defaults}, {DeepLearning : defaults}, {DRF : [XRT]}, {XGBoost : grids}, {GBM : grids}, {DeepLearning : grids}, {GBM : [lr_annealing]}, {XGBoost : [lr_search]}, {StackedEnsemble : defaults}]\n",
            "14:31:39.640: Disabling Algo: GBM as requested by the user.\n",
            "14:31:39.640: Disabling Algo: DeepLearning as requested by the user.\n",
            "14:31:39.649: AutoML job created: 2020.07.07 14:31:39.539\n",
            "14:31:39.650: AutoML build started: 2020.07.07 14:31:39.649\n",
            "14:31:39.666: AutoML: starting XGBoost_1_AutoML_20200707_143139 model training\n",
            "\n",
            "███\n",
            "14:32:09.965: New leader: XGBoost_1_AutoML_20200707_143139, auc: 0.9201997752006084\n",
            "14:32:09.966: AutoML: starting XGBoost_2_AutoML_20200707_143139 model training\n",
            "\n",
            "████\n",
            "14:32:33.980: New leader: XGBoost_2_AutoML_20200707_143139, auc: 0.9214185438238802\n",
            "14:32:33.980: AutoML: starting XGBoost_3_AutoML_20200707_143139 model training\n",
            "\n",
            "███\n",
            "14:32:54.8: New leader: XGBoost_3_AutoML_20200707_143139, auc: 0.9269999739402779\n",
            "14:32:54.11: AutoML: starting GLM_1_AutoML_20200707_143139 model training\n",
            "\n",
            "██\n",
            "14:33:05.21: AutoML: starting DRF_1_AutoML_20200707_143139 model training\n",
            "\n",
            "█████\n",
            "14:33:49.39: AutoML: starting XRT_1_AutoML_20200707_143139 model training\n",
            "\n",
            "████\n",
            "14:34:33.60: AutoML: starting XGBoost_grid__1_AutoML_20200707_143139 hyperparameter search\n",
            "\n",
            "█\n",
            "14:34:57.106: New leader: XGBoost_grid__1_AutoML_20200707_143139_model_1, auc: 0.9279442685413208\n",
            "\n",
            "█████████████████████████\n",
            "14:45:47.694: AutoML: starting StackedEnsemble_BestOfFamily_AutoML_20200707_143139 model training\n",
            "\n",
            "████████\n",
            "14:45:50.710: New leader: StackedEnsemble_BestOfFamily_AutoML_20200707_143139, auc: 0.9299554481620695\n",
            "14:45:50.711: AutoML: starting StackedEnsemble_AllModels_AutoML_20200707_143139 model training\n",
            "\n",
            "█| 100%\n",
            "\n",
            "14:45:53.746: New leader: StackedEnsemble_AllModels_AutoML_20200707_143139, auc: 0.9310465310052402\n",
            "14:45:53.750: Actual modeling steps: [{XGBoost : [def_1 (10), def_2 (10), def_3 (10)]}, {GLM : [def_1 (10)]}, {DRF : [def_1 (10), XRT (10)]}, {XGBoost : [grid_1 (100)]}, {StackedEnsemble : [best (10), all (10)]}]\n",
            "14:45:53.751: AutoML build stopped: 2020.07.07 14:45:53.750\n",
            "14:45:53.751: AutoML build done: built 28 models\n",
            "14:45:53.751: AutoML duration: 14 min 14.101 sec\n",
            "\n"
          ],
          "name": "stdout"
        }
      ]
    },
    {
      "cell_type": "code",
      "metadata": {
        "id": "lXTO9_cM6KZQ",
        "colab_type": "code",
        "colab": {
          "base_uri": "https://localhost:8080/",
          "height": 250
        },
        "outputId": "9257972d-18f4-42ac-bbcc-f5d83886b160"
      },
      "source": [
        "lb = aml.leaderboard\n",
        "lb.head()"
      ],
      "execution_count": 43,
      "outputs": [
        {
          "output_type": "display_data",
          "data": {
            "text/html": [
              "<table>\n",
              "<thead>\n",
              "<tr><th>model_id                                           </th><th style=\"text-align: right;\">     auc</th><th style=\"text-align: right;\">  logloss</th><th style=\"text-align: right;\">   aucpr</th><th style=\"text-align: right;\">  mean_per_class_error</th><th style=\"text-align: right;\">    rmse</th><th style=\"text-align: right;\">     mse</th></tr>\n",
              "</thead>\n",
              "<tbody>\n",
              "<tr><td>StackedEnsemble_AllModels_AutoML_20200707_143139   </td><td style=\"text-align: right;\">0.931047</td><td style=\"text-align: right;\"> 0.334608</td><td style=\"text-align: right;\">0.961677</td><td style=\"text-align: right;\">              0.173184</td><td style=\"text-align: right;\">0.325076</td><td style=\"text-align: right;\">0.105674</td></tr>\n",
              "<tr><td>StackedEnsemble_BestOfFamily_AutoML_20200707_143139</td><td style=\"text-align: right;\">0.929955</td><td style=\"text-align: right;\"> 0.336125</td><td style=\"text-align: right;\">0.961055</td><td style=\"text-align: right;\">              0.177859</td><td style=\"text-align: right;\">0.325709</td><td style=\"text-align: right;\">0.106087</td></tr>\n",
              "<tr><td>XGBoost_grid__1_AutoML_20200707_143139_model_1     </td><td style=\"text-align: right;\">0.927944</td><td style=\"text-align: right;\"> 0.32491 </td><td style=\"text-align: right;\">0.959948</td><td style=\"text-align: right;\">              0.184531</td><td style=\"text-align: right;\">0.324815</td><td style=\"text-align: right;\">0.105505</td></tr>\n",
              "<tr><td>XGBoost_3_AutoML_20200707_143139                   </td><td style=\"text-align: right;\">0.927   </td><td style=\"text-align: right;\"> 0.327203</td><td style=\"text-align: right;\">0.959294</td><td style=\"text-align: right;\">              0.184906</td><td style=\"text-align: right;\">0.32597 </td><td style=\"text-align: right;\">0.106256</td></tr>\n",
              "<tr><td>XGBoost_grid__1_AutoML_20200707_143139_model_19    </td><td style=\"text-align: right;\">0.926964</td><td style=\"text-align: right;\"> 0.32752 </td><td style=\"text-align: right;\">0.959307</td><td style=\"text-align: right;\">              0.191324</td><td style=\"text-align: right;\">0.325839</td><td style=\"text-align: right;\">0.106171</td></tr>\n",
              "<tr><td>XGBoost_grid__1_AutoML_20200707_143139_model_7     </td><td style=\"text-align: right;\">0.926923</td><td style=\"text-align: right;\"> 0.327437</td><td style=\"text-align: right;\">0.95922 </td><td style=\"text-align: right;\">              0.182538</td><td style=\"text-align: right;\">0.325999</td><td style=\"text-align: right;\">0.106275</td></tr>\n",
              "<tr><td>XGBoost_grid__1_AutoML_20200707_143139_model_14    </td><td style=\"text-align: right;\">0.926891</td><td style=\"text-align: right;\"> 0.328463</td><td style=\"text-align: right;\">0.959208</td><td style=\"text-align: right;\">              0.18408 </td><td style=\"text-align: right;\">0.325929</td><td style=\"text-align: right;\">0.106229</td></tr>\n",
              "<tr><td>XGBoost_grid__1_AutoML_20200707_143139_model_20    </td><td style=\"text-align: right;\">0.926672</td><td style=\"text-align: right;\"> 0.328475</td><td style=\"text-align: right;\">0.959072</td><td style=\"text-align: right;\">              0.18571 </td><td style=\"text-align: right;\">0.326227</td><td style=\"text-align: right;\">0.106424</td></tr>\n",
              "<tr><td>XGBoost_grid__1_AutoML_20200707_143139_model_9     </td><td style=\"text-align: right;\">0.92633 </td><td style=\"text-align: right;\"> 0.328711</td><td style=\"text-align: right;\">0.958823</td><td style=\"text-align: right;\">              0.189587</td><td style=\"text-align: right;\">0.326677</td><td style=\"text-align: right;\">0.106718</td></tr>\n",
              "<tr><td>XGBoost_grid__1_AutoML_20200707_143139_model_4     </td><td style=\"text-align: right;\">0.925815</td><td style=\"text-align: right;\"> 0.329924</td><td style=\"text-align: right;\">0.958558</td><td style=\"text-align: right;\">              0.183006</td><td style=\"text-align: right;\">0.327092</td><td style=\"text-align: right;\">0.106989</td></tr>\n",
              "</tbody>\n",
              "</table>"
            ]
          },
          "metadata": {
            "tags": []
          }
        },
        {
          "output_type": "execute_result",
          "data": {
            "text/plain": [
              ""
            ]
          },
          "metadata": {
            "tags": []
          },
          "execution_count": 43
        }
      ]
    },
    {
      "cell_type": "code",
      "metadata": {
        "id": "6p3AhMKz6KwN",
        "colab_type": "code",
        "colab": {
          "base_uri": "https://localhost:8080/",
          "height": 34
        },
        "outputId": "4694420c-6572-47ce-8849-fc6a2362af5a"
      },
      "source": [
        "churn_pred=aml.leader.predict(churn_test)"
      ],
      "execution_count": 44,
      "outputs": [
        {
          "output_type": "stream",
          "text": [
            "stackedensemble prediction progress: |████████████████████████████████████| 100%\n"
          ],
          "name": "stdout"
        }
      ]
    },
    {
      "cell_type": "code",
      "metadata": {
        "id": "U55QnurSKLDG",
        "colab_type": "code",
        "colab": {
          "base_uri": "https://localhost:8080/",
          "height": 250
        },
        "outputId": "0bc060e3-e731-46b9-d7ed-02fd0598a291"
      },
      "source": [
        "churn_pred.head()"
      ],
      "execution_count": 45,
      "outputs": [
        {
          "output_type": "display_data",
          "data": {
            "text/html": [
              "<table>\n",
              "<thead>\n",
              "<tr><th>predict  </th><th style=\"text-align: right;\">       no</th><th style=\"text-align: right;\">      yes</th></tr>\n",
              "</thead>\n",
              "<tbody>\n",
              "<tr><td>yes      </td><td style=\"text-align: right;\">0.296522 </td><td style=\"text-align: right;\">0.703478 </td></tr>\n",
              "<tr><td>yes      </td><td style=\"text-align: right;\">0.159797 </td><td style=\"text-align: right;\">0.840203 </td></tr>\n",
              "<tr><td>yes      </td><td style=\"text-align: right;\">0.0364752</td><td style=\"text-align: right;\">0.963525 </td></tr>\n",
              "<tr><td>yes      </td><td style=\"text-align: right;\">0.036076 </td><td style=\"text-align: right;\">0.963924 </td></tr>\n",
              "<tr><td>no       </td><td style=\"text-align: right;\">0.955493 </td><td style=\"text-align: right;\">0.0445068</td></tr>\n",
              "<tr><td>yes      </td><td style=\"text-align: right;\">0.0352776</td><td style=\"text-align: right;\">0.964722 </td></tr>\n",
              "<tr><td>yes      </td><td style=\"text-align: right;\">0.300217 </td><td style=\"text-align: right;\">0.699783 </td></tr>\n",
              "<tr><td>yes      </td><td style=\"text-align: right;\">0.0784131</td><td style=\"text-align: right;\">0.921587 </td></tr>\n",
              "<tr><td>yes      </td><td style=\"text-align: right;\">0.0359282</td><td style=\"text-align: right;\">0.964072 </td></tr>\n",
              "<tr><td>yes      </td><td style=\"text-align: right;\">0.0429437</td><td style=\"text-align: right;\">0.957056 </td></tr>\n",
              "</tbody>\n",
              "</table>"
            ]
          },
          "metadata": {
            "tags": []
          }
        },
        {
          "output_type": "execute_result",
          "data": {
            "text/plain": [
              ""
            ]
          },
          "metadata": {
            "tags": []
          },
          "execution_count": 45
        }
      ]
    },
    {
      "cell_type": "code",
      "metadata": {
        "id": "_RxeeXD47fYq",
        "colab_type": "code",
        "colab": {
          "base_uri": "https://localhost:8080/",
          "height": 1000
        },
        "outputId": "374c1d18-6ea9-45e5-e61c-7db0a4ed92ff"
      },
      "source": [
        "aml.leader.model_performance(churn_test)"
      ],
      "execution_count": 46,
      "outputs": [
        {
          "output_type": "stream",
          "text": [
            "\n",
            "ModelMetricsBinomialGLM: stackedensemble\n",
            "** Reported on test data. **\n",
            "\n",
            "MSE: 0.048040416415912654\n",
            "RMSE: 0.21918124102192837\n",
            "LogLoss: 0.18045580793245714\n",
            "Null degrees of freedom: 4947\n",
            "Residual degrees of freedom: 4935\n",
            "Null deviance: 6509.55897544844\n",
            "Residual deviance: 1785.7906752995957\n",
            "AIC: 1811.7906752995957\n",
            "AUC: 0.9872794644613698\n",
            "AUCPR: 0.9928947658989635\n",
            "Gini: 0.9745589289227397\n",
            "\n",
            "Confusion Matrix (Act/Pred) for max f1 @ threshold = 0.5353424677841897: \n"
          ],
          "name": "stdout"
        },
        {
          "output_type": "display_data",
          "data": {
            "text/html": [
              "<div>\n",
              "<style scoped>\n",
              "    .dataframe tbody tr th:only-of-type {\n",
              "        vertical-align: middle;\n",
              "    }\n",
              "\n",
              "    .dataframe tbody tr th {\n",
              "        vertical-align: top;\n",
              "    }\n",
              "\n",
              "    .dataframe thead th {\n",
              "        text-align: right;\n",
              "    }\n",
              "</style>\n",
              "<table border=\"1\" class=\"dataframe\">\n",
              "  <thead>\n",
              "    <tr style=\"text-align: right;\">\n",
              "      <th></th>\n",
              "      <th></th>\n",
              "      <th>no</th>\n",
              "      <th>yes</th>\n",
              "      <th>Error</th>\n",
              "      <th>Rate</th>\n",
              "    </tr>\n",
              "  </thead>\n",
              "  <tbody>\n",
              "    <tr>\n",
              "      <th>0</th>\n",
              "      <td>no</td>\n",
              "      <td>1659.0</td>\n",
              "      <td>161.0</td>\n",
              "      <td>0.0885</td>\n",
              "      <td>(161.0/1820.0)</td>\n",
              "    </tr>\n",
              "    <tr>\n",
              "      <th>1</th>\n",
              "      <td>yes</td>\n",
              "      <td>141.0</td>\n",
              "      <td>2987.0</td>\n",
              "      <td>0.0451</td>\n",
              "      <td>(141.0/3128.0)</td>\n",
              "    </tr>\n",
              "    <tr>\n",
              "      <th>2</th>\n",
              "      <td>Total</td>\n",
              "      <td>1800.0</td>\n",
              "      <td>3148.0</td>\n",
              "      <td>0.061</td>\n",
              "      <td>(302.0/4948.0)</td>\n",
              "    </tr>\n",
              "  </tbody>\n",
              "</table>\n",
              "</div>"
            ],
            "text/plain": [
              "              no     yes   Error             Rate\n",
              "0     no  1659.0   161.0  0.0885   (161.0/1820.0)\n",
              "1    yes   141.0  2987.0  0.0451   (141.0/3128.0)\n",
              "2  Total  1800.0  3148.0   0.061   (302.0/4948.0)"
            ]
          },
          "metadata": {
            "tags": []
          }
        },
        {
          "output_type": "stream",
          "text": [
            "\n",
            "Maximum Metrics: Maximum metrics at their respective thresholds\n"
          ],
          "name": "stdout"
        },
        {
          "output_type": "display_data",
          "data": {
            "text/html": [
              "<div>\n",
              "<style scoped>\n",
              "    .dataframe tbody tr th:only-of-type {\n",
              "        vertical-align: middle;\n",
              "    }\n",
              "\n",
              "    .dataframe tbody tr th {\n",
              "        vertical-align: top;\n",
              "    }\n",
              "\n",
              "    .dataframe thead th {\n",
              "        text-align: right;\n",
              "    }\n",
              "</style>\n",
              "<table border=\"1\" class=\"dataframe\">\n",
              "  <thead>\n",
              "    <tr style=\"text-align: right;\">\n",
              "      <th></th>\n",
              "      <th>metric</th>\n",
              "      <th>threshold</th>\n",
              "      <th>value</th>\n",
              "      <th>idx</th>\n",
              "    </tr>\n",
              "  </thead>\n",
              "  <tbody>\n",
              "    <tr>\n",
              "      <th>0</th>\n",
              "      <td>max f1</td>\n",
              "      <td>0.535342</td>\n",
              "      <td>0.951880</td>\n",
              "      <td>200.0</td>\n",
              "    </tr>\n",
              "    <tr>\n",
              "      <th>1</th>\n",
              "      <td>max f2</td>\n",
              "      <td>0.331829</td>\n",
              "      <td>0.964714</td>\n",
              "      <td>262.0</td>\n",
              "    </tr>\n",
              "    <tr>\n",
              "      <th>2</th>\n",
              "      <td>max f0point5</td>\n",
              "      <td>0.743721</td>\n",
              "      <td>0.964632</td>\n",
              "      <td>133.0</td>\n",
              "    </tr>\n",
              "    <tr>\n",
              "      <th>3</th>\n",
              "      <td>max accuracy</td>\n",
              "      <td>0.537546</td>\n",
              "      <td>0.938965</td>\n",
              "      <td>199.0</td>\n",
              "    </tr>\n",
              "    <tr>\n",
              "      <th>4</th>\n",
              "      <td>max precision</td>\n",
              "      <td>0.965106</td>\n",
              "      <td>1.000000</td>\n",
              "      <td>0.0</td>\n",
              "    </tr>\n",
              "    <tr>\n",
              "      <th>5</th>\n",
              "      <td>max recall</td>\n",
              "      <td>0.131999</td>\n",
              "      <td>1.000000</td>\n",
              "      <td>333.0</td>\n",
              "    </tr>\n",
              "    <tr>\n",
              "      <th>6</th>\n",
              "      <td>max specificity</td>\n",
              "      <td>0.965106</td>\n",
              "      <td>1.000000</td>\n",
              "      <td>0.0</td>\n",
              "    </tr>\n",
              "    <tr>\n",
              "      <th>7</th>\n",
              "      <td>max absolute_mcc</td>\n",
              "      <td>0.537546</td>\n",
              "      <td>0.868564</td>\n",
              "      <td>199.0</td>\n",
              "    </tr>\n",
              "    <tr>\n",
              "      <th>8</th>\n",
              "      <td>max min_per_class_accuracy</td>\n",
              "      <td>0.611483</td>\n",
              "      <td>0.936264</td>\n",
              "      <td>176.0</td>\n",
              "    </tr>\n",
              "    <tr>\n",
              "      <th>9</th>\n",
              "      <td>max mean_per_class_accuracy</td>\n",
              "      <td>0.622996</td>\n",
              "      <td>0.936922</td>\n",
              "      <td>173.0</td>\n",
              "    </tr>\n",
              "    <tr>\n",
              "      <th>10</th>\n",
              "      <td>max tns</td>\n",
              "      <td>0.965106</td>\n",
              "      <td>1820.000000</td>\n",
              "      <td>0.0</td>\n",
              "    </tr>\n",
              "    <tr>\n",
              "      <th>11</th>\n",
              "      <td>max fns</td>\n",
              "      <td>0.965106</td>\n",
              "      <td>2919.000000</td>\n",
              "      <td>0.0</td>\n",
              "    </tr>\n",
              "    <tr>\n",
              "      <th>12</th>\n",
              "      <td>max fps</td>\n",
              "      <td>0.034451</td>\n",
              "      <td>1820.000000</td>\n",
              "      <td>399.0</td>\n",
              "    </tr>\n",
              "    <tr>\n",
              "      <th>13</th>\n",
              "      <td>max tps</td>\n",
              "      <td>0.131999</td>\n",
              "      <td>3128.000000</td>\n",
              "      <td>333.0</td>\n",
              "    </tr>\n",
              "    <tr>\n",
              "      <th>14</th>\n",
              "      <td>max tnr</td>\n",
              "      <td>0.965106</td>\n",
              "      <td>1.000000</td>\n",
              "      <td>0.0</td>\n",
              "    </tr>\n",
              "    <tr>\n",
              "      <th>15</th>\n",
              "      <td>max fnr</td>\n",
              "      <td>0.965106</td>\n",
              "      <td>0.933184</td>\n",
              "      <td>0.0</td>\n",
              "    </tr>\n",
              "    <tr>\n",
              "      <th>16</th>\n",
              "      <td>max fpr</td>\n",
              "      <td>0.034451</td>\n",
              "      <td>1.000000</td>\n",
              "      <td>399.0</td>\n",
              "    </tr>\n",
              "    <tr>\n",
              "      <th>17</th>\n",
              "      <td>max tpr</td>\n",
              "      <td>0.131999</td>\n",
              "      <td>1.000000</td>\n",
              "      <td>333.0</td>\n",
              "    </tr>\n",
              "  </tbody>\n",
              "</table>\n",
              "</div>"
            ],
            "text/plain": [
              "                         metric  threshold        value    idx\n",
              "0                        max f1   0.535342     0.951880  200.0\n",
              "1                        max f2   0.331829     0.964714  262.0\n",
              "2                  max f0point5   0.743721     0.964632  133.0\n",
              "3                  max accuracy   0.537546     0.938965  199.0\n",
              "4                 max precision   0.965106     1.000000    0.0\n",
              "5                    max recall   0.131999     1.000000  333.0\n",
              "6               max specificity   0.965106     1.000000    0.0\n",
              "7              max absolute_mcc   0.537546     0.868564  199.0\n",
              "8    max min_per_class_accuracy   0.611483     0.936264  176.0\n",
              "9   max mean_per_class_accuracy   0.622996     0.936922  173.0\n",
              "10                      max tns   0.965106  1820.000000    0.0\n",
              "11                      max fns   0.965106  2919.000000    0.0\n",
              "12                      max fps   0.034451  1820.000000  399.0\n",
              "13                      max tps   0.131999  3128.000000  333.0\n",
              "14                      max tnr   0.965106     1.000000    0.0\n",
              "15                      max fnr   0.965106     0.933184    0.0\n",
              "16                      max fpr   0.034451     1.000000  399.0\n",
              "17                      max tpr   0.131999     1.000000  333.0"
            ]
          },
          "metadata": {
            "tags": []
          }
        },
        {
          "output_type": "stream",
          "text": [
            "\n",
            "Gains/Lift Table: Avg response rate: 63.22 %, avg score: 62.87 %\n"
          ],
          "name": "stdout"
        },
        {
          "output_type": "display_data",
          "data": {
            "text/html": [
              "<div>\n",
              "<style scoped>\n",
              "    .dataframe tbody tr th:only-of-type {\n",
              "        vertical-align: middle;\n",
              "    }\n",
              "\n",
              "    .dataframe tbody tr th {\n",
              "        vertical-align: top;\n",
              "    }\n",
              "\n",
              "    .dataframe thead th {\n",
              "        text-align: right;\n",
              "    }\n",
              "</style>\n",
              "<table border=\"1\" class=\"dataframe\">\n",
              "  <thead>\n",
              "    <tr style=\"text-align: right;\">\n",
              "      <th></th>\n",
              "      <th>group</th>\n",
              "      <th>cumulative_data_fraction</th>\n",
              "      <th>lower_threshold</th>\n",
              "      <th>lift</th>\n",
              "      <th>cumulative_lift</th>\n",
              "      <th>response_rate</th>\n",
              "      <th>score</th>\n",
              "      <th>cumulative_response_rate</th>\n",
              "      <th>cumulative_score</th>\n",
              "      <th>capture_rate</th>\n",
              "      <th>cumulative_capture_rate</th>\n",
              "      <th>gain</th>\n",
              "      <th>cumulative_gain</th>\n",
              "      <th>kolmogorov_smirnov</th>\n",
              "    </tr>\n",
              "  </thead>\n",
              "  <tbody>\n",
              "    <tr>\n",
              "      <th>0</th>\n",
              "      <td>1</td>\n",
              "      <td>0.010105</td>\n",
              "      <td>0.965201</td>\n",
              "      <td>1.581841</td>\n",
              "      <td>1.581841</td>\n",
              "      <td>1.000000</td>\n",
              "      <td>0.965249</td>\n",
              "      <td>1.000000</td>\n",
              "      <td>0.965249</td>\n",
              "      <td>0.015985</td>\n",
              "      <td>0.015985</td>\n",
              "      <td>58.184143</td>\n",
              "      <td>58.184143</td>\n",
              "      <td>0.015985</td>\n",
              "    </tr>\n",
              "    <tr>\n",
              "      <th>1</th>\n",
              "      <td>2</td>\n",
              "      <td>0.020210</td>\n",
              "      <td>0.965154</td>\n",
              "      <td>1.581841</td>\n",
              "      <td>1.581841</td>\n",
              "      <td>1.000000</td>\n",
              "      <td>0.965174</td>\n",
              "      <td>1.000000</td>\n",
              "      <td>0.965211</td>\n",
              "      <td>0.015985</td>\n",
              "      <td>0.031969</td>\n",
              "      <td>58.184143</td>\n",
              "      <td>58.184143</td>\n",
              "      <td>0.031969</td>\n",
              "    </tr>\n",
              "    <tr>\n",
              "      <th>2</th>\n",
              "      <td>3</td>\n",
              "      <td>0.030113</td>\n",
              "      <td>0.965037</td>\n",
              "      <td>1.581841</td>\n",
              "      <td>1.581841</td>\n",
              "      <td>1.000000</td>\n",
              "      <td>0.965103</td>\n",
              "      <td>1.000000</td>\n",
              "      <td>0.965175</td>\n",
              "      <td>0.015665</td>\n",
              "      <td>0.047634</td>\n",
              "      <td>58.184143</td>\n",
              "      <td>58.184143</td>\n",
              "      <td>0.047634</td>\n",
              "    </tr>\n",
              "    <tr>\n",
              "      <th>3</th>\n",
              "      <td>4</td>\n",
              "      <td>0.040016</td>\n",
              "      <td>0.964938</td>\n",
              "      <td>1.581841</td>\n",
              "      <td>1.581841</td>\n",
              "      <td>1.000000</td>\n",
              "      <td>0.964991</td>\n",
              "      <td>1.000000</td>\n",
              "      <td>0.965130</td>\n",
              "      <td>0.015665</td>\n",
              "      <td>0.063299</td>\n",
              "      <td>58.184143</td>\n",
              "      <td>58.184143</td>\n",
              "      <td>0.063299</td>\n",
              "    </tr>\n",
              "    <tr>\n",
              "      <th>4</th>\n",
              "      <td>5</td>\n",
              "      <td>0.050121</td>\n",
              "      <td>0.964840</td>\n",
              "      <td>1.581841</td>\n",
              "      <td>1.581841</td>\n",
              "      <td>1.000000</td>\n",
              "      <td>0.964890</td>\n",
              "      <td>1.000000</td>\n",
              "      <td>0.965081</td>\n",
              "      <td>0.015985</td>\n",
              "      <td>0.079284</td>\n",
              "      <td>58.184143</td>\n",
              "      <td>58.184143</td>\n",
              "      <td>0.079284</td>\n",
              "    </tr>\n",
              "    <tr>\n",
              "      <th>5</th>\n",
              "      <td>6</td>\n",
              "      <td>0.100040</td>\n",
              "      <td>0.964196</td>\n",
              "      <td>1.581841</td>\n",
              "      <td>1.581841</td>\n",
              "      <td>1.000000</td>\n",
              "      <td>0.964570</td>\n",
              "      <td>1.000000</td>\n",
              "      <td>0.964826</td>\n",
              "      <td>0.078964</td>\n",
              "      <td>0.158248</td>\n",
              "      <td>58.184143</td>\n",
              "      <td>58.184143</td>\n",
              "      <td>0.158248</td>\n",
              "    </tr>\n",
              "    <tr>\n",
              "      <th>6</th>\n",
              "      <td>7</td>\n",
              "      <td>0.150162</td>\n",
              "      <td>0.963129</td>\n",
              "      <td>1.581841</td>\n",
              "      <td>1.581841</td>\n",
              "      <td>1.000000</td>\n",
              "      <td>0.963692</td>\n",
              "      <td>1.000000</td>\n",
              "      <td>0.964448</td>\n",
              "      <td>0.079284</td>\n",
              "      <td>0.237532</td>\n",
              "      <td>58.184143</td>\n",
              "      <td>58.184143</td>\n",
              "      <td>0.237532</td>\n",
              "    </tr>\n",
              "    <tr>\n",
              "      <th>7</th>\n",
              "      <td>8</td>\n",
              "      <td>0.200081</td>\n",
              "      <td>0.961659</td>\n",
              "      <td>1.581841</td>\n",
              "      <td>1.581841</td>\n",
              "      <td>1.000000</td>\n",
              "      <td>0.962456</td>\n",
              "      <td>1.000000</td>\n",
              "      <td>0.963951</td>\n",
              "      <td>0.078964</td>\n",
              "      <td>0.316496</td>\n",
              "      <td>58.184143</td>\n",
              "      <td>58.184143</td>\n",
              "      <td>0.316496</td>\n",
              "    </tr>\n",
              "    <tr>\n",
              "      <th>8</th>\n",
              "      <td>9</td>\n",
              "      <td>0.300121</td>\n",
              "      <td>0.956543</td>\n",
              "      <td>1.581841</td>\n",
              "      <td>1.581841</td>\n",
              "      <td>1.000000</td>\n",
              "      <td>0.959373</td>\n",
              "      <td>1.000000</td>\n",
              "      <td>0.962425</td>\n",
              "      <td>0.158248</td>\n",
              "      <td>0.474744</td>\n",
              "      <td>58.184143</td>\n",
              "      <td>58.184143</td>\n",
              "      <td>0.474744</td>\n",
              "    </tr>\n",
              "    <tr>\n",
              "      <th>9</th>\n",
              "      <td>10</td>\n",
              "      <td>0.399960</td>\n",
              "      <td>0.934131</td>\n",
              "      <td>1.581841</td>\n",
              "      <td>1.581841</td>\n",
              "      <td>1.000000</td>\n",
              "      <td>0.948983</td>\n",
              "      <td>1.000000</td>\n",
              "      <td>0.959069</td>\n",
              "      <td>0.157928</td>\n",
              "      <td>0.632673</td>\n",
              "      <td>58.184143</td>\n",
              "      <td>58.184143</td>\n",
              "      <td>0.632673</td>\n",
              "    </tr>\n",
              "    <tr>\n",
              "      <th>10</th>\n",
              "      <td>11</td>\n",
              "      <td>0.500000</td>\n",
              "      <td>0.865208</td>\n",
              "      <td>1.575450</td>\n",
              "      <td>1.580563</td>\n",
              "      <td>0.995960</td>\n",
              "      <td>0.904512</td>\n",
              "      <td>0.999192</td>\n",
              "      <td>0.948154</td>\n",
              "      <td>0.157609</td>\n",
              "      <td>0.790281</td>\n",
              "      <td>57.545015</td>\n",
              "      <td>58.056266</td>\n",
              "      <td>0.789182</td>\n",
              "    </tr>\n",
              "    <tr>\n",
              "      <th>11</th>\n",
              "      <td>12</td>\n",
              "      <td>0.600040</td>\n",
              "      <td>0.653594</td>\n",
              "      <td>1.300625</td>\n",
              "      <td>1.533891</td>\n",
              "      <td>0.822222</td>\n",
              "      <td>0.777146</td>\n",
              "      <td>0.969687</td>\n",
              "      <td>0.919643</td>\n",
              "      <td>0.130115</td>\n",
              "      <td>0.920396</td>\n",
              "      <td>30.062518</td>\n",
              "      <td>53.389070</td>\n",
              "      <td>0.870946</td>\n",
              "    </tr>\n",
              "    <tr>\n",
              "      <th>12</th>\n",
              "      <td>13</td>\n",
              "      <td>0.699879</td>\n",
              "      <td>0.302352</td>\n",
              "      <td>0.650028</td>\n",
              "      <td>1.407807</td>\n",
              "      <td>0.410931</td>\n",
              "      <td>0.477042</td>\n",
              "      <td>0.889980</td>\n",
              "      <td>0.856505</td>\n",
              "      <td>0.064898</td>\n",
              "      <td>0.985294</td>\n",
              "      <td>-34.997204</td>\n",
              "      <td>40.780690</td>\n",
              "      <td>0.775953</td>\n",
              "    </tr>\n",
              "    <tr>\n",
              "      <th>13</th>\n",
              "      <td>14</td>\n",
              "      <td>0.799919</td>\n",
              "      <td>0.104075</td>\n",
              "      <td>0.146999</td>\n",
              "      <td>1.250126</td>\n",
              "      <td>0.092929</td>\n",
              "      <td>0.182169</td>\n",
              "      <td>0.790298</td>\n",
              "      <td>0.772171</td>\n",
              "      <td>0.014706</td>\n",
              "      <td>1.000000</td>\n",
              "      <td>-85.300059</td>\n",
              "      <td>25.012633</td>\n",
              "      <td>0.543956</td>\n",
              "    </tr>\n",
              "    <tr>\n",
              "      <th>14</th>\n",
              "      <td>15</td>\n",
              "      <td>0.899960</td>\n",
              "      <td>0.047086</td>\n",
              "      <td>0.000000</td>\n",
              "      <td>1.111161</td>\n",
              "      <td>0.000000</td>\n",
              "      <td>0.070370</td>\n",
              "      <td>0.702448</td>\n",
              "      <td>0.694158</td>\n",
              "      <td>0.000000</td>\n",
              "      <td>1.000000</td>\n",
              "      <td>-100.000000</td>\n",
              "      <td>11.116102</td>\n",
              "      <td>0.271978</td>\n",
              "    </tr>\n",
              "    <tr>\n",
              "      <th>15</th>\n",
              "      <td>16</td>\n",
              "      <td>1.000000</td>\n",
              "      <td>0.033833</td>\n",
              "      <td>0.000000</td>\n",
              "      <td>1.000000</td>\n",
              "      <td>0.000000</td>\n",
              "      <td>0.039676</td>\n",
              "      <td>0.632175</td>\n",
              "      <td>0.628683</td>\n",
              "      <td>0.000000</td>\n",
              "      <td>1.000000</td>\n",
              "      <td>-100.000000</td>\n",
              "      <td>0.000000</td>\n",
              "      <td>0.000000</td>\n",
              "    </tr>\n",
              "  </tbody>\n",
              "</table>\n",
              "</div>"
            ],
            "text/plain": [
              "    group  cumulative_data_fraction  ...  cumulative_gain  kolmogorov_smirnov\n",
              "0       1                  0.010105  ...        58.184143            0.015985\n",
              "1       2                  0.020210  ...        58.184143            0.031969\n",
              "2       3                  0.030113  ...        58.184143            0.047634\n",
              "3       4                  0.040016  ...        58.184143            0.063299\n",
              "4       5                  0.050121  ...        58.184143            0.079284\n",
              "5       6                  0.100040  ...        58.184143            0.158248\n",
              "6       7                  0.150162  ...        58.184143            0.237532\n",
              "7       8                  0.200081  ...        58.184143            0.316496\n",
              "8       9                  0.300121  ...        58.184143            0.474744\n",
              "9      10                  0.399960  ...        58.184143            0.632673\n",
              "10     11                  0.500000  ...        58.056266            0.789182\n",
              "11     12                  0.600040  ...        53.389070            0.870946\n",
              "12     13                  0.699879  ...        40.780690            0.775953\n",
              "13     14                  0.799919  ...        25.012633            0.543956\n",
              "14     15                  0.899960  ...        11.116102            0.271978\n",
              "15     16                  1.000000  ...         0.000000            0.000000\n",
              "\n",
              "[16 rows x 14 columns]"
            ]
          },
          "metadata": {
            "tags": []
          }
        },
        {
          "output_type": "stream",
          "text": [
            "\n"
          ],
          "name": "stdout"
        },
        {
          "output_type": "execute_result",
          "data": {
            "text/plain": [
              ""
            ]
          },
          "metadata": {
            "tags": []
          },
          "execution_count": 46
        }
      ]
    },
    {
      "cell_type": "code",
      "metadata": {
        "id": "UBu-N7d67fo7",
        "colab_type": "code",
        "colab": {
          "base_uri": "https://localhost:8080/",
          "height": 493
        },
        "outputId": "0d19c1ce-3316-43d4-b7a6-7bd48e92692e"
      },
      "source": [
        "model_ids = list(aml.leaderboard['model_id'].as_data_frame().iloc[:,0])\n",
        "model_ids"
      ],
      "execution_count": 47,
      "outputs": [
        {
          "output_type": "execute_result",
          "data": {
            "text/plain": [
              "['StackedEnsemble_AllModels_AutoML_20200707_143139',\n",
              " 'StackedEnsemble_BestOfFamily_AutoML_20200707_143139',\n",
              " 'XGBoost_grid__1_AutoML_20200707_143139_model_1',\n",
              " 'XGBoost_3_AutoML_20200707_143139',\n",
              " 'XGBoost_grid__1_AutoML_20200707_143139_model_19',\n",
              " 'XGBoost_grid__1_AutoML_20200707_143139_model_7',\n",
              " 'XGBoost_grid__1_AutoML_20200707_143139_model_14',\n",
              " 'XGBoost_grid__1_AutoML_20200707_143139_model_20',\n",
              " 'XGBoost_grid__1_AutoML_20200707_143139_model_9',\n",
              " 'XGBoost_grid__1_AutoML_20200707_143139_model_4',\n",
              " 'XGBoost_grid__1_AutoML_20200707_143139_model_15',\n",
              " 'XGBoost_grid__1_AutoML_20200707_143139_model_3',\n",
              " 'XGBoost_grid__1_AutoML_20200707_143139_model_8',\n",
              " 'XGBoost_grid__1_AutoML_20200707_143139_model_5',\n",
              " 'XGBoost_grid__1_AutoML_20200707_143139_model_10',\n",
              " 'XGBoost_grid__1_AutoML_20200707_143139_model_12',\n",
              " 'XGBoost_grid__1_AutoML_20200707_143139_model_2',\n",
              " 'XGBoost_grid__1_AutoML_20200707_143139_model_13',\n",
              " 'XGBoost_grid__1_AutoML_20200707_143139_model_6',\n",
              " 'XGBoost_grid__1_AutoML_20200707_143139_model_17',\n",
              " 'XGBoost_grid__1_AutoML_20200707_143139_model_11',\n",
              " 'XGBoost_2_AutoML_20200707_143139',\n",
              " 'XGBoost_1_AutoML_20200707_143139',\n",
              " 'XGBoost_grid__1_AutoML_20200707_143139_model_16',\n",
              " 'XRT_1_AutoML_20200707_143139',\n",
              " 'DRF_1_AutoML_20200707_143139',\n",
              " 'XGBoost_grid__1_AutoML_20200707_143139_model_18',\n",
              " 'GLM_1_AutoML_20200707_143139']"
            ]
          },
          "metadata": {
            "tags": []
          },
          "execution_count": 47
        }
      ]
    },
    {
      "cell_type": "code",
      "metadata": {
        "id": "zhGpx3vf7gpw",
        "colab_type": "code",
        "colab": {
          "base_uri": "https://localhost:8080/",
          "height": 1000
        },
        "outputId": "ff0c642d-1129-419a-a376-ef7c618e0aa3"
      },
      "source": [
        "out = h2o.get_model([mid for mid in model_ids if \"XGBoost\" in mid][0])\n",
        "out.params"
      ],
      "execution_count": 48,
      "outputs": [
        {
          "output_type": "execute_result",
          "data": {
            "text/plain": [
              "{'backend': {'actual': 'auto', 'default': 'auto'},\n",
              " 'booster': {'actual': 'dart', 'default': 'gbtree'},\n",
              " 'build_tree_one_node': {'actual': False, 'default': False},\n",
              " 'calibrate_model': {'actual': False, 'default': False},\n",
              " 'calibration_frame': {'actual': None, 'default': None},\n",
              " 'categorical_encoding': {'actual': 'AUTO', 'default': 'AUTO'},\n",
              " 'checkpoint': {'actual': None, 'default': None},\n",
              " 'col_sample_rate': {'actual': 1.0, 'default': 1.0},\n",
              " 'col_sample_rate_per_tree': {'actual': 1.0, 'default': 1.0},\n",
              " 'colsample_bylevel': {'actual': 1.0, 'default': 1.0},\n",
              " 'colsample_bytree': {'actual': 1.0, 'default': 1.0},\n",
              " 'distribution': {'actual': 'bernoulli', 'default': 'AUTO'},\n",
              " 'dmatrix_type': {'actual': 'auto', 'default': 'auto'},\n",
              " 'eta': {'actual': 0.3, 'default': 0.3},\n",
              " 'export_checkpoints_dir': {'actual': None, 'default': None},\n",
              " 'fold_assignment': {'actual': 'Modulo', 'default': 'AUTO'},\n",
              " 'fold_column': {'actual': None, 'default': None},\n",
              " 'gainslift_bins': {'actual': -1, 'default': -1},\n",
              " 'gamma': {'actual': 0.0, 'default': 0.0},\n",
              " 'gpu_id': {'actual': 0, 'default': 0},\n",
              " 'grow_policy': {'actual': 'depthwise', 'default': 'depthwise'},\n",
              " 'ignore_const_cols': {'actual': True, 'default': True},\n",
              " 'ignored_columns': {'actual': [], 'default': None},\n",
              " 'keep_cross_validation_fold_assignment': {'actual': False, 'default': False},\n",
              " 'keep_cross_validation_models': {'actual': False, 'default': True},\n",
              " 'keep_cross_validation_predictions': {'actual': True, 'default': False},\n",
              " 'learn_rate': {'actual': 0.3, 'default': 0.3},\n",
              " 'max_abs_leafnode_pred': {'actual': 0.0, 'default': 0.0},\n",
              " 'max_bins': {'actual': 256, 'default': 256},\n",
              " 'max_delta_step': {'actual': 0.0, 'default': 0.0},\n",
              " 'max_depth': {'actual': 5, 'default': 6},\n",
              " 'max_leaves': {'actual': 0, 'default': 0},\n",
              " 'max_runtime_secs': {'actual': 0.0, 'default': 0.0},\n",
              " 'min_child_weight': {'actual': 5.0, 'default': 1.0},\n",
              " 'min_data_in_leaf': {'actual': 0.0, 'default': 0.0},\n",
              " 'min_rows': {'actual': 5.0, 'default': 1.0},\n",
              " 'min_split_improvement': {'actual': 0.0, 'default': 0.0},\n",
              " 'min_sum_hessian_in_leaf': {'actual': 100.0, 'default': 100.0},\n",
              " 'model_id': {'actual': {'URL': '/3/Models/XGBoost_grid__1_AutoML_20200707_143139_model_1',\n",
              "   '__meta': {'schema_name': 'ModelKeyV3',\n",
              "    'schema_type': 'Key<Model>',\n",
              "    'schema_version': 3},\n",
              "   'name': 'XGBoost_grid__1_AutoML_20200707_143139_model_1',\n",
              "   'type': 'Key<Model>'},\n",
              "  'default': None},\n",
              " 'monotone_constraints': {'actual': None, 'default': None},\n",
              " 'nfolds': {'actual': 3, 'default': 0},\n",
              " 'normalize_type': {'actual': 'tree', 'default': 'tree'},\n",
              " 'nthread': {'actual': -1, 'default': -1},\n",
              " 'ntrees': {'actual': 70, 'default': 50},\n",
              " 'offset_column': {'actual': None, 'default': None},\n",
              " 'one_drop': {'actual': False, 'default': False},\n",
              " 'quiet_mode': {'actual': True, 'default': True},\n",
              " 'rate_drop': {'actual': 0.0, 'default': 0.0},\n",
              " 'reg_alpha': {'actual': 0.01, 'default': 0.0},\n",
              " 'reg_lambda': {'actual': 0.001, 'default': 1.0},\n",
              " 'response_column': {'actual': {'__meta': {'schema_name': 'ColSpecifierV3',\n",
              "    'schema_type': 'VecSpecifier',\n",
              "    'schema_version': 3},\n",
              "   'column_name': 'Survived_1_year',\n",
              "   'is_member_of_frames': None},\n",
              "  'default': None},\n",
              " 'sample_rate': {'actual': 1.0, 'default': 1.0},\n",
              " 'sample_type': {'actual': 'uniform', 'default': 'uniform'},\n",
              " 'save_matrix_directory': {'actual': None, 'default': None},\n",
              " 'score_each_iteration': {'actual': False, 'default': False},\n",
              " 'score_tree_interval': {'actual': 5, 'default': 0},\n",
              " 'seed': {'actual': -1679615428843012971, 'default': -1},\n",
              " 'skip_drop': {'actual': 0.0, 'default': 0.0},\n",
              " 'stopping_metric': {'actual': 'logloss', 'default': 'AUTO'},\n",
              " 'stopping_rounds': {'actual': 0, 'default': 0},\n",
              " 'stopping_tolerance': {'actual': 0.006315593535871559, 'default': 0.001},\n",
              " 'subsample': {'actual': 1.0, 'default': 1.0},\n",
              " 'training_frame': {'actual': {'URL': '/3/Frames/automl_training_Key_Frame__upload_a2921979eaa51f6396add1eeae6d43c9.hex',\n",
              "   '__meta': {'schema_name': 'FrameKeyV3',\n",
              "    'schema_type': 'Key<Frame>',\n",
              "    'schema_version': 3},\n",
              "   'name': 'automl_training_Key_Frame__upload_a2921979eaa51f6396add1eeae6d43c9.hex',\n",
              "   'type': 'Key<Frame>'},\n",
              "  'default': None},\n",
              " 'tree_method': {'actual': 'auto', 'default': 'auto'},\n",
              " 'tweedie_power': {'actual': 1.5, 'default': 1.5},\n",
              " 'validation_frame': {'actual': None, 'default': None},\n",
              " 'weights_column': {'actual': None, 'default': None}}"
            ]
          },
          "metadata": {
            "tags": []
          },
          "execution_count": 48
        }
      ]
    },
    {
      "cell_type": "code",
      "metadata": {
        "id": "YK1D1o0w7hWW",
        "colab_type": "code",
        "colab": {
          "base_uri": "https://localhost:8080/",
          "height": 459
        },
        "outputId": "6dbd6f72-e003-4fdf-d2e9-c71e5cf2121d"
      },
      "source": [
        "out.convert_H2OXGBoostParams_2_XGBoostParams()"
      ],
      "execution_count": 49,
      "outputs": [
        {
          "output_type": "execute_result",
          "data": {
            "text/plain": [
              "({'alpha': 0.01,\n",
              "  'booster': 'dart',\n",
              "  'colsample_bylevel': 1.0,\n",
              "  'colsample_bytree': 1.0,\n",
              "  'eta': 0.3,\n",
              "  'gamma': 0.0,\n",
              "  'gpu_id': 0,\n",
              "  'grow_policy': 'depthwise',\n",
              "  'lambda': 0.001,\n",
              "  'max_bin': 256,\n",
              "  'max_delta_step': 0.0,\n",
              "  'max_depth': 5,\n",
              "  'min_child_weight': 5.0,\n",
              "  'normalize_type': 'tree',\n",
              "  'nround': 70,\n",
              "  'nthread': 2,\n",
              "  'objective': 'binary:logistic',\n",
              "  'one_drop': '0',\n",
              "  'rate_drop': 0.0,\n",
              "  'sample_type': 'uniform',\n",
              "  'seed': -303195670,\n",
              "  'silent': True,\n",
              "  'skip_drop': 0.0,\n",
              "  'subsample': 1.0,\n",
              "  'updater': 'grow_gpu_hist'},\n",
              " 70)"
            ]
          },
          "metadata": {
            "tags": []
          },
          "execution_count": 49
        }
      ]
    },
    {
      "cell_type": "code",
      "metadata": {
        "id": "VcK7gD3pZCA4",
        "colab_type": "code",
        "colab": {}
      },
      "source": [
        "test_new.to_csv('test_new.csv', index=False)"
      ],
      "execution_count": 50,
      "outputs": []
    },
    {
      "cell_type": "code",
      "metadata": {
        "id": "PIomhOjBYsIc",
        "colab_type": "code",
        "colab": {
          "base_uri": "https://localhost:8080/",
          "height": 34
        },
        "outputId": "94227a1b-af9b-4e5e-9f32-f37495cb5150"
      },
      "source": [
        "test_churn_new = h2o.upload_file('/content/test_new.csv')"
      ],
      "execution_count": 51,
      "outputs": [
        {
          "output_type": "stream",
          "text": [
            "Parse progress: |█████████████████████████████████████████████████████████| 100%\n"
          ],
          "name": "stdout"
        }
      ]
    },
    {
      "cell_type": "code",
      "metadata": {
        "id": "7eDTTWPQKZof",
        "colab_type": "code",
        "colab": {
          "base_uri": "https://localhost:8080/",
          "height": 34
        },
        "outputId": "bb849c7d-e21f-488c-a9b4-7e7598e2cca1"
      },
      "source": [
        "test_churn_pred = aml.leader.predict(test_churn_new)"
      ],
      "execution_count": 52,
      "outputs": [
        {
          "output_type": "stream",
          "text": [
            "stackedensemble prediction progress: |████████████████████████████████████| 100%\n"
          ],
          "name": "stdout"
        }
      ]
    },
    {
      "cell_type": "code",
      "metadata": {
        "id": "i-iYy-0LKaKO",
        "colab_type": "code",
        "colab": {}
      },
      "source": [
        "fnl_lst = list(test_churn_pred['predict'].as_data_frame().iloc[:,0])\n",
        "values = [1 if pred=='yes' else 0 for pred in fnl_lst]\n",
        "\n",
        "with open(\"predictionH2O.txt\", \"w\") as output:\n",
        "    output.write(str(values))"
      ],
      "execution_count": 53,
      "outputs": []
    },
    {
      "cell_type": "code",
      "metadata": {
        "id": "67Cliay4aoVO",
        "colab_type": "code",
        "colab": {
          "base_uri": "https://localhost:8080/",
          "height": 574
        },
        "outputId": "7db60a0b-85aa-46ec-ea56-fc5ada953684"
      },
      "source": [
        "out.varimp_plot()"
      ],
      "execution_count": 54,
      "outputs": [
        {
          "output_type": "display_data",
          "data": {
            "image/png": "[encoded data removed]",
            "text/plain": [
              "<Figure size 1008x720 with 1 Axes>"
            ]
          },
          "metadata": {
            "tags": [],
            "needs_background": "light"
          }
        }
      ]
    },
    {
      "cell_type": "code",
      "metadata": {
        "id": "vhuZldjVo6Wu",
        "colab_type": "code",
        "colab": {
          "base_uri": "https://localhost:8080/",
          "height": 34
        },
        "outputId": "1b87f212-2dd6-44f4-9076-d7e7ce45559a"
      },
      "source": [
        "perf = aml.leader.model_performance(churn_test)\n",
        "perf.F1()"
      ],
      "execution_count": 55,
      "outputs": [
        {
          "output_type": "execute_result",
          "data": {
            "text/plain": [
              "[[0.5353424677841897, 0.9518801784576163]]"
            ]
          },
          "metadata": {
            "tags": []
          },
          "execution_count": 55
        }
      ]
    },
    {
      "cell_type": "code",
      "metadata": {
        "id": "AzNN6X-Cejj9",
        "colab_type": "code",
        "colab": {}
      },
      "source": [
        "params = {'alpha': 0.01,\n",
        "  'booster': 'dart',\n",
        "  'colsample_bylevel': 1.0,\n",
        "  'colsample_bytree': 1.0,\n",
        "  'eta': 0.01,\n",
        "  'gamma': 0.0,\n",
        "  'gpu_id': 0,\n",
        "  'grow_policy': 'depthwise',\n",
        "  'lambda': 0.001,\n",
        "  'max_bin': 256,\n",
        "  'max_delta_step': 0.0,\n",
        "  'max_depth': 7,\n",
        "  'min_child_weight': 5.0,\n",
        "  'normalize_type': 'tree',\n",
        "  'nround': 70,\n",
        "  'nthread': 2,\n",
        "  'objective': 'binary:logistic',\n",
        "  'one_drop': '0',\n",
        "  'rate_drop': 0.0,\n",
        "  'sample_type': 'uniform',\n",
        "  'silent': True,\n",
        "  'skip_drop': 0.0,\n",
        "  'subsample': 1.0,\n",
        "  'updater': 'grow_gpu_hist'}"
      ],
      "execution_count": 84,
      "outputs": []
    },
    {
      "cell_type": "code",
      "metadata": {
        "id": "FtNLOZ8NxctJ",
        "colab_type": "code",
        "colab": {
          "base_uri": "https://localhost:8080/",
          "height": 71
        },
        "outputId": "459be5ba-25d7-42b0-be83-a0f328100b41"
      },
      "source": [
        "pharma_data.loc[pharma_data['Survived_1_year'] == 'yes', 'Survived_1_year'] = 1\n",
        "pharma_data.loc[pharma_data['Survived_1_year'] == 'no', 'Survived_1_year'] = 0"
      ],
      "execution_count": 79,
      "outputs": [
        {
          "output_type": "stream",
          "text": [
            "/usr/local/lib/python3.6/dist-packages/pandas/core/ops/array_ops.py:253: FutureWarning: elementwise comparison failed; returning scalar instead, but in the future will perform elementwise comparison\n",
            "  res_values = method(rvalues)\n"
          ],
          "name": "stderr"
        }
      ]
    },
    {
      "cell_type": "code",
      "metadata": {
        "id": "8AFjXvIzxQsl",
        "colab_type": "code",
        "colab": {
          "base_uri": "https://localhost:8080/",
          "height": 340
        },
        "outputId": "9e4a3189-204b-4ca0-ecc4-a1a0c4c7679f"
      },
      "source": [
        "y = pharma_data['Survived_1_year']\n",
        "x = pharma_data.drop(['Survived_1_year'], axis=1)\n",
        "x_train, x_test, y_train, y_test = train_test_split(x, y, test_size=0.2, random_state=1)\n",
        "\n",
        "print('x_train', x_train.shape)\n",
        "print('x_test', x_test.shape)\n",
        "print('y_train', y_train.shape)\n",
        "print('y_test', y_test.shape)\n",
        "\n",
        "\n",
        "import xgboost as xgb\n",
        "xgbClf = xgb.XGBClassifier(params=params)\n",
        "xgbClf.fit(x_train, y_train, eval_metric=f1_score)\n",
        "\n",
        "y_pred_train = xgbClf.predict(x_train)\n",
        "y_pred = xgbClf.predict(x_test)\n",
        "\n",
        "print('For TrainData \\n')\n",
        "printEval(np.array(y_pred_train).astype(int), y_train)\n",
        "\n",
        "print('\\n For TestData \\n')\n",
        "printEval(np.array(y_pred).astype(int), y_test)"
      ],
      "execution_count": 85,
      "outputs": [
        {
          "output_type": "stream",
          "text": [
            "x_train (20056, 27)\n",
            "x_test (5015, 27)\n",
            "y_train (20056,)\n",
            "y_test (5015,)\n",
            "For TrainData \n",
            "\n",
            "F1 Score 0.8755848008824313\n",
            "ROC AUC 0.8307423551116615\n",
            "Precision 0.9048030815187486\n",
            "Recall Score 0.8481945467943994\n",
            "Accuracy 0.836906661348225\n",
            "\n",
            " For TestData \n",
            "\n",
            "F1 Score 0.8769859282796187\n",
            "ROC AUC 0.8338054464688083\n",
            "Precision 0.9116074237181504\n",
            "Recall Score 0.8448979591836735\n",
            "Accuracy 0.8378863409770688\n"
          ],
          "name": "stdout"
        }
      ]
    },
    {
      "cell_type": "code",
      "metadata": {
        "id": "kDq9uM-yyCUF",
        "colab_type": "code",
        "colab": {}
      },
      "source": [
        ""
      ],
      "execution_count": null,
      "outputs": []
    }
  ]
}