{
 "cells": [
  {
   "cell_type": "markdown",
   "metadata": {
    "colab_type": "text",
    "id": "TgyqwSVMI-eV"
   },
   "source": [
    "# Assignment-1 Solutions \n",
    "#### (Absolute Beginners and Beginners)\n",
    "\n",
    "This is the first assignment of the DPhi Data Science Bootcamp and revolves around Data Analysis and Data Visualisation on the Standard Metropolitan Area Dataset.\n",
    "\n",
    "## About the Dataset\n",
    "It contains data of 99 standard metropolitan areas in the US. The data set provides information on 10 variables for each area for the period 1976-1977. The areas have been divided into 4 geographic regions: 1=North-East, 2=North-Central, 3=South, 4=West. \n",
    "\n",
    "**Link to the Dataset:** https://bit.ly/SMA_Dataset"
   ]
  },
  {
   "cell_type": "markdown",
   "metadata": {},
   "source": [
    "We are first importing packages using their standard alias names: pd for pandas, np for numpy, plt for matplotlib.pyplot and sns for seaborn"
   ]
  },
  {
   "cell_type": "code",
   "execution_count": 1,
   "metadata": {
    "colab": {
     "base_uri": "https://localhost:8080/",
     "height": 71
    },
    "colab_type": "code",
    "id": "uE_cgsW1H-IM",
    "outputId": "cedd963a-0f90-4ed3-f361-f383557cb97b"
   },
   "outputs": [],
   "source": [
    "import pandas as pd\n",
    "import numpy as np\n",
    "import matplotlib.pyplot as plt\n",
    "import seaborn as sns"
   ]
  },
  {
   "cell_type": "markdown",
   "metadata": {
    "colab_type": "text",
    "id": "wH1YUONNKpAw"
   },
   "source": [
    "Using the Pandas read_csv method to read the Dataset's CSV file. Inside the brackets, we can either specify the path of the file or a downloadable link.\n",
    "\n",
    "Here, the file is uploaded on GitHub and we can directly use the link to load and access it. If you are uploading your own file, make sure to specify the full path of the file.\n",
    "\n",
    "Please go through the following module to learn about working with CSV files: https://bit.ly/DPhi_Day9\n",
    "\n",
    "I am storing the dataset in the variable 'data'\n"
   ]
  },
  {
   "cell_type": "code",
   "execution_count": 2,
   "metadata": {
    "colab": {},
    "colab_type": "code",
    "id": "W2yeRYepFJRT"
   },
   "outputs": [],
   "source": [
    "data = pd.read_csv(\"https://raw.githubusercontent.com/dphi-official/Assignment_Solutions/master/Standard%20Metropolitan%20Areas%20Data%20-%20train_data%20-%20data.csv\")"
   ]
  },
  {
   "cell_type": "markdown",
   "metadata": {
    "colab_type": "text",
    "id": "QtYsUgKFOKQd"
   },
   "source": [
    "Pandas head() method is used to return top n (5 by default) rows of a DataFrame. It allows us to get an estimate of what the data looks like"
   ]
  },
  {
   "cell_type": "code",
   "execution_count": 3,
   "metadata": {
    "colab": {
     "base_uri": "https://localhost:8080/",
     "height": 223
    },
    "colab_type": "code",
    "id": "bymyYJSlIEWR",
    "outputId": "165bdcd3-256b-445a-c3f9-b68584127378"
   },
   "outputs": [
    {
     "data": {
      "text/html": [
       "<div>\n",
       "<style scoped>\n",
       "    .dataframe tbody tr th:only-of-type {\n",
       "        vertical-align: middle;\n",
       "    }\n",
       "\n",
       "    .dataframe tbody tr th {\n",
       "        vertical-align: top;\n",
       "    }\n",
       "\n",
       "    .dataframe thead th {\n",
       "        text-align: right;\n",
       "    }\n",
       "</style>\n",
       "<table border=\"1\" class=\"dataframe\">\n",
       "  <thead>\n",
       "    <tr style=\"text-align: right;\">\n",
       "      <th></th>\n",
       "      <th>land_area</th>\n",
       "      <th>percent_city</th>\n",
       "      <th>percent_senior</th>\n",
       "      <th>physicians</th>\n",
       "      <th>hospital_beds</th>\n",
       "      <th>graduates</th>\n",
       "      <th>work_force</th>\n",
       "      <th>income</th>\n",
       "      <th>region</th>\n",
       "      <th>crime_rate</th>\n",
       "    </tr>\n",
       "  </thead>\n",
       "  <tbody>\n",
       "    <tr>\n",
       "      <th>0</th>\n",
       "      <td>1384</td>\n",
       "      <td>78.1</td>\n",
       "      <td>12.3</td>\n",
       "      <td>25627</td>\n",
       "      <td>69678</td>\n",
       "      <td>50.1</td>\n",
       "      <td>4083.9</td>\n",
       "      <td>72100</td>\n",
       "      <td>1</td>\n",
       "      <td>75.55</td>\n",
       "    </tr>\n",
       "    <tr>\n",
       "      <th>1</th>\n",
       "      <td>3719</td>\n",
       "      <td>43.9</td>\n",
       "      <td>9.4</td>\n",
       "      <td>13326</td>\n",
       "      <td>43292</td>\n",
       "      <td>53.9</td>\n",
       "      <td>3305.9</td>\n",
       "      <td>54542</td>\n",
       "      <td>2</td>\n",
       "      <td>56.03</td>\n",
       "    </tr>\n",
       "    <tr>\n",
       "      <th>2</th>\n",
       "      <td>3553</td>\n",
       "      <td>37.4</td>\n",
       "      <td>10.7</td>\n",
       "      <td>9724</td>\n",
       "      <td>33731</td>\n",
       "      <td>50.6</td>\n",
       "      <td>2066.3</td>\n",
       "      <td>33216</td>\n",
       "      <td>1</td>\n",
       "      <td>41.32</td>\n",
       "    </tr>\n",
       "    <tr>\n",
       "      <th>3</th>\n",
       "      <td>3916</td>\n",
       "      <td>29.9</td>\n",
       "      <td>8.8</td>\n",
       "      <td>6402</td>\n",
       "      <td>24167</td>\n",
       "      <td>52.2</td>\n",
       "      <td>1966.7</td>\n",
       "      <td>32906</td>\n",
       "      <td>2</td>\n",
       "      <td>67.38</td>\n",
       "    </tr>\n",
       "    <tr>\n",
       "      <th>4</th>\n",
       "      <td>2480</td>\n",
       "      <td>31.5</td>\n",
       "      <td>10.5</td>\n",
       "      <td>8502</td>\n",
       "      <td>16751</td>\n",
       "      <td>66.1</td>\n",
       "      <td>1514.5</td>\n",
       "      <td>26573</td>\n",
       "      <td>4</td>\n",
       "      <td>80.19</td>\n",
       "    </tr>\n",
       "  </tbody>\n",
       "</table>\n",
       "</div>"
      ],
      "text/plain": [
       "   land_area  percent_city  percent_senior  physicians  hospital_beds  \\\n",
       "0       1384          78.1            12.3       25627          69678   \n",
       "1       3719          43.9             9.4       13326          43292   \n",
       "2       3553          37.4            10.7        9724          33731   \n",
       "3       3916          29.9             8.8        6402          24167   \n",
       "4       2480          31.5            10.5        8502          16751   \n",
       "\n",
       "   graduates  work_force  income  region  crime_rate  \n",
       "0       50.1      4083.9   72100       1       75.55  \n",
       "1       53.9      3305.9   54542       2       56.03  \n",
       "2       50.6      2066.3   33216       1       41.32  \n",
       "3       52.2      1966.7   32906       2       67.38  \n",
       "4       66.1      1514.5   26573       4       80.19  "
      ]
     },
     "execution_count": 3,
     "metadata": {},
     "output_type": "execute_result"
    }
   ],
   "source": [
    "data.head()"
   ]
  },
  {
   "cell_type": "markdown",
   "metadata": {
    "colab_type": "text",
    "id": "zbY0tVExRakg"
   },
   "source": [
    "You can change the number of rows being displayed by specifying a number inside the head function.\n",
    "\n",
    "Let's look at 10 rows now"
   ]
  },
  {
   "cell_type": "code",
   "execution_count": 4,
   "metadata": {
    "colab": {
     "base_uri": "https://localhost:8080/",
     "height": 377
    },
    "colab_type": "code",
    "id": "RPm9KZxoRlyW",
    "outputId": "c43d5a5c-f86e-4f7b-856a-e44c59d52a20"
   },
   "outputs": [
    {
     "data": {
      "text/html": [
       "<div>\n",
       "<style scoped>\n",
       "    .dataframe tbody tr th:only-of-type {\n",
       "        vertical-align: middle;\n",
       "    }\n",
       "\n",
       "    .dataframe tbody tr th {\n",
       "        vertical-align: top;\n",
       "    }\n",
       "\n",
       "    .dataframe thead th {\n",
       "        text-align: right;\n",
       "    }\n",
       "</style>\n",
       "<table border=\"1\" class=\"dataframe\">\n",
       "  <thead>\n",
       "    <tr style=\"text-align: right;\">\n",
       "      <th></th>\n",
       "      <th>land_area</th>\n",
       "      <th>percent_city</th>\n",
       "      <th>percent_senior</th>\n",
       "      <th>physicians</th>\n",
       "      <th>hospital_beds</th>\n",
       "      <th>graduates</th>\n",
       "      <th>work_force</th>\n",
       "      <th>income</th>\n",
       "      <th>region</th>\n",
       "      <th>crime_rate</th>\n",
       "    </tr>\n",
       "  </thead>\n",
       "  <tbody>\n",
       "    <tr>\n",
       "      <th>0</th>\n",
       "      <td>1384</td>\n",
       "      <td>78.1</td>\n",
       "      <td>12.3</td>\n",
       "      <td>25627</td>\n",
       "      <td>69678</td>\n",
       "      <td>50.1</td>\n",
       "      <td>4083.9</td>\n",
       "      <td>72100</td>\n",
       "      <td>1</td>\n",
       "      <td>75.55</td>\n",
       "    </tr>\n",
       "    <tr>\n",
       "      <th>1</th>\n",
       "      <td>3719</td>\n",
       "      <td>43.9</td>\n",
       "      <td>9.4</td>\n",
       "      <td>13326</td>\n",
       "      <td>43292</td>\n",
       "      <td>53.9</td>\n",
       "      <td>3305.9</td>\n",
       "      <td>54542</td>\n",
       "      <td>2</td>\n",
       "      <td>56.03</td>\n",
       "    </tr>\n",
       "    <tr>\n",
       "      <th>2</th>\n",
       "      <td>3553</td>\n",
       "      <td>37.4</td>\n",
       "      <td>10.7</td>\n",
       "      <td>9724</td>\n",
       "      <td>33731</td>\n",
       "      <td>50.6</td>\n",
       "      <td>2066.3</td>\n",
       "      <td>33216</td>\n",
       "      <td>1</td>\n",
       "      <td>41.32</td>\n",
       "    </tr>\n",
       "    <tr>\n",
       "      <th>3</th>\n",
       "      <td>3916</td>\n",
       "      <td>29.9</td>\n",
       "      <td>8.8</td>\n",
       "      <td>6402</td>\n",
       "      <td>24167</td>\n",
       "      <td>52.2</td>\n",
       "      <td>1966.7</td>\n",
       "      <td>32906</td>\n",
       "      <td>2</td>\n",
       "      <td>67.38</td>\n",
       "    </tr>\n",
       "    <tr>\n",
       "      <th>4</th>\n",
       "      <td>2480</td>\n",
       "      <td>31.5</td>\n",
       "      <td>10.5</td>\n",
       "      <td>8502</td>\n",
       "      <td>16751</td>\n",
       "      <td>66.1</td>\n",
       "      <td>1514.5</td>\n",
       "      <td>26573</td>\n",
       "      <td>4</td>\n",
       "      <td>80.19</td>\n",
       "    </tr>\n",
       "    <tr>\n",
       "      <th>5</th>\n",
       "      <td>2815</td>\n",
       "      <td>23.1</td>\n",
       "      <td>6.7</td>\n",
       "      <td>7340</td>\n",
       "      <td>16941</td>\n",
       "      <td>68.3</td>\n",
       "      <td>1541.9</td>\n",
       "      <td>25663</td>\n",
       "      <td>3</td>\n",
       "      <td>58.48</td>\n",
       "    </tr>\n",
       "    <tr>\n",
       "      <th>6</th>\n",
       "      <td>8360</td>\n",
       "      <td>46.3</td>\n",
       "      <td>8.2</td>\n",
       "      <td>4047</td>\n",
       "      <td>14347</td>\n",
       "      <td>53.6</td>\n",
       "      <td>1321.2</td>\n",
       "      <td>18350</td>\n",
       "      <td>3</td>\n",
       "      <td>72.25</td>\n",
       "    </tr>\n",
       "    <tr>\n",
       "      <th>7</th>\n",
       "      <td>6794</td>\n",
       "      <td>60.1</td>\n",
       "      <td>6.3</td>\n",
       "      <td>4562</td>\n",
       "      <td>14333</td>\n",
       "      <td>51.7</td>\n",
       "      <td>1272.7</td>\n",
       "      <td>18221</td>\n",
       "      <td>3</td>\n",
       "      <td>64.88</td>\n",
       "    </tr>\n",
       "    <tr>\n",
       "      <th>8</th>\n",
       "      <td>3049</td>\n",
       "      <td>19.5</td>\n",
       "      <td>12.1</td>\n",
       "      <td>4005</td>\n",
       "      <td>21149</td>\n",
       "      <td>53.4</td>\n",
       "      <td>967.5</td>\n",
       "      <td>15826</td>\n",
       "      <td>1</td>\n",
       "      <td>30.51</td>\n",
       "    </tr>\n",
       "    <tr>\n",
       "      <th>9</th>\n",
       "      <td>4647</td>\n",
       "      <td>31.5</td>\n",
       "      <td>9.2</td>\n",
       "      <td>3916</td>\n",
       "      <td>12815</td>\n",
       "      <td>65.1</td>\n",
       "      <td>1032.2</td>\n",
       "      <td>14542</td>\n",
       "      <td>2</td>\n",
       "      <td>55.30</td>\n",
       "    </tr>\n",
       "  </tbody>\n",
       "</table>\n",
       "</div>"
      ],
      "text/plain": [
       "   land_area  percent_city  percent_senior  physicians  hospital_beds  \\\n",
       "0       1384          78.1            12.3       25627          69678   \n",
       "1       3719          43.9             9.4       13326          43292   \n",
       "2       3553          37.4            10.7        9724          33731   \n",
       "3       3916          29.9             8.8        6402          24167   \n",
       "4       2480          31.5            10.5        8502          16751   \n",
       "5       2815          23.1             6.7        7340          16941   \n",
       "6       8360          46.3             8.2        4047          14347   \n",
       "7       6794          60.1             6.3        4562          14333   \n",
       "8       3049          19.5            12.1        4005          21149   \n",
       "9       4647          31.5             9.2        3916          12815   \n",
       "\n",
       "   graduates  work_force  income  region  crime_rate  \n",
       "0       50.1      4083.9   72100       1       75.55  \n",
       "1       53.9      3305.9   54542       2       56.03  \n",
       "2       50.6      2066.3   33216       1       41.32  \n",
       "3       52.2      1966.7   32906       2       67.38  \n",
       "4       66.1      1514.5   26573       4       80.19  \n",
       "5       68.3      1541.9   25663       3       58.48  \n",
       "6       53.6      1321.2   18350       3       72.25  \n",
       "7       51.7      1272.7   18221       3       64.88  \n",
       "8       53.4       967.5   15826       1       30.51  \n",
       "9       65.1      1032.2   14542       2       55.30  "
      ]
     },
     "execution_count": 4,
     "metadata": {},
     "output_type": "execute_result"
    }
   ],
   "source": [
    "data.head(10)"
   ]
  },
  {
   "cell_type": "markdown",
   "metadata": {
    "colab_type": "text",
    "id": "92ODtis-RrMc"
   },
   "source": [
    "What we can gather from the displayed data is that we have 7 columns/ 7 features.\n",
    "\n",
    "We have the following description about each of these columns already:\n",
    "\n",
    "1. **land_area\t:** size in square miles\n",
    "2. **percent_city\t:** percent of population in central city/cities\n",
    "3. **percent_senior\t:** percent of population ≤ 65 years\n",
    "4. **physicians\t:** number of professionally active physicians\n",
    "5. **hospital_beds :** total number of hospital beds\n",
    "6. **graduates :** percent of adults that finished high school\n",
    "7. **work_force\t:** number of persons in work force in thousands\n",
    "8. **income\t:** total income in 1976 in millions of dollars\n",
    "9. **crime_rate\t:** Ratio of number of serious crimes by total population\n",
    "10. **region :** geographic region according to US Census\n",
    "\n",
    "We can see that the regions have 4 values, where:\n",
    "\n",
    "1 = North-East\n",
    "\n",
    "2 = North-Central \n",
    "\n",
    "3 = South\n",
    "\n",
    "4 = West"
   ]
  },
  {
   "cell_type": "markdown",
   "metadata": {
    "colab_type": "text",
    "id": "odB3syCwNYcH"
   },
   "source": [
    "The info() function is used to print a concise summary of a DataFrame. This method prints information about a DataFrame including the index dtype and column dtypes, non-null values and memory usage. "
   ]
  },
  {
   "cell_type": "code",
   "execution_count": 5,
   "metadata": {
    "colab": {
     "base_uri": "https://localhost:8080/",
     "height": 308
    },
    "colab_type": "code",
    "id": "W5Cj057nH8-A",
    "outputId": "c251d34e-d282-4ef9-e811-993b22ed551c"
   },
   "outputs": [
    {
     "name": "stdout",
     "output_type": "stream",
     "text": [
      "<class 'pandas.core.frame.DataFrame'>\n",
      "RangeIndex: 99 entries, 0 to 98\n",
      "Data columns (total 10 columns):\n",
      "land_area         99 non-null int64\n",
      "percent_city      99 non-null float64\n",
      "percent_senior    99 non-null float64\n",
      "physicians        99 non-null int64\n",
      "hospital_beds     99 non-null int64\n",
      "graduates         99 non-null float64\n",
      "work_force        99 non-null float64\n",
      "income            99 non-null int64\n",
      "region            99 non-null int64\n",
      "crime_rate        99 non-null float64\n",
      "dtypes: float64(5), int64(5)\n",
      "memory usage: 7.8 KB\n"
     ]
    }
   ],
   "source": [
    "data.info()"
   ]
  },
  {
   "cell_type": "markdown",
   "metadata": {
    "colab_type": "text",
    "id": "_sDnVXALTE2a"
   },
   "source": [
    "Using the info function we get to know that the data has 99 entries(rows) and all of the columns contain 99 non-null entries. This indicates that we don't have any null value.\n",
    "\n",
    "Also, our data consists of float and integer values."
   ]
  },
  {
   "cell_type": "markdown",
   "metadata": {
    "colab_type": "text",
    "id": "bchmlg-JUxlR"
   },
   "source": [
    "## Solutions"
   ]
  },
  {
   "cell_type": "markdown",
   "metadata": {
    "colab_type": "text",
    "id": "lqgSm4G_Tb9S"
   },
   "source": [
    "Now that we've had a good look of our dataset, we can start solving the questions.\n",
    "\n"
   ]
  },
  {
   "cell_type": "markdown",
   "metadata": {
    "colab_type": "text",
    "id": "H6jzZUrDUghX"
   },
   "source": [
    "**Question 1:**\n",
    "Which of the following information is correct about the data?\n",
    "\n",
    "Select one:\n",
    "\n",
    "a. There are 4 variables of 'float' dtype, 5 variables of 'int' dtype.\n",
    "\n",
    "b. There are 6 variables of 'float' dtype, 4 variables of 'int' dtype\n",
    "\n",
    "c. There are 3 variables of 'float' dtype, 7 variables of 'int' dtype\n",
    "\n",
    "d. There are 5 variables of 'float' dtype, 5 variables of 'int' dtype."
   ]
  },
  {
   "cell_type": "markdown",
   "metadata": {
    "colab_type": "text",
    "id": "wzeFU6hjU6Q8"
   },
   "source": [
    "**Answer 1:**\n",
    "\n",
    "This question demands the knowledge of data types of various features in our dataset.\n",
    "\n",
    "We can easily find that out using the info function. Using the resulting table of the info function used above, we can count the number of float and int variables.\n",
    "\n",
    "We can see that there exist 5 float variables( percent_city, percent_senior, graduates, work_force, crime_rate)\n",
    "\n",
    "Also, the number of int variables are also 5( land_area, physicians, hospital_beds, income, region)\n",
    "\n",
    "**The correct option for this question is therefore d** - There are 5 variables of 'float' dtype, 5 variables of 'int' dtype."
   ]
  },
  {
   "cell_type": "markdown",
   "metadata": {
    "colab_type": "text",
    "id": "xGhYwA2oWgeY"
   },
   "source": [
    "**Question 2:** Which of the following is true about bar chart and histogram?\n",
    "\n",
    "Select one or more:\n",
    "\n",
    "a. Histogram presents quantitative data while bar chart presents categorical data / discrete data.\n",
    "\n",
    "b. In histogram bars cannot be re-ordered while in bar charts bars can be re-ordered.\n",
    "\n",
    "c. Histogram indicates distribution of non - discrete variables.\n",
    "\n",
    "d. Bar chart indicates comparison of discrete variables / categorical variables."
   ]
  },
  {
   "cell_type": "markdown",
   "metadata": {
    "colab_type": "text",
    "id": "aYE1Zp9wWu3g"
   },
   "source": [
    "**Answer 2:**\n",
    "\n",
    "a. \n",
    "\n",
    "- A histogram displays the single quantitative variable along the x axis and frequency of that variable on the y axis.\n",
    "\n",
    "- Bar graphs can be used to represent both quantitative and categorical data. \n",
    "\n",
    "Both the statements are true and thus **option a is correct.**\n",
    "\n",
    "b. Bars can be reordered in bar charts but not in histograms. **Option b is correct.**\n",
    "\n",
    "c. This is because a histogram represents a continuous(non-discrete) data set, and as such, there are no gaps in the data. **Option c is correct.**\n",
    "\n",
    "d. It is True that Bar chart indicates comparison of discrete variables / categorical variables. **Option d is correct.**\n",
    "\n",
    "\n",
    "Thus, **all the options are correct.**"
   ]
  },
  {
   "cell_type": "markdown",
   "metadata": {
    "colab_type": "text",
    "id": "93d_0DNFXFwT"
   },
   "source": [
    "**Question 3:**\n",
    "\n",
    "Which of the following information is correct about the data?\n",
    "\n",
    "Select one or more:\n",
    "\n",
    "a. \n",
    "\n",
    "1) mean land areas of these Metropolitan areas = 2615.73\n",
    "\n",
    "2) maximum crime rate among all the Metropolitan areas = 85.62\n",
    "\n",
    "b.\n",
    "\n",
    "1) minimum income in million dollars of all the metropolitan areas = 769.00\n",
    "\n",
    "c.\n",
    "\n",
    "1) total count of non null entries in 'hospital_beds' = 99.0\n",
    "\n",
    "2) Most of the Metropolitan areas lie in region 3\n",
    "\n",
    "d.\n",
    "\n",
    "1) only 17 Metropolitan areas lie in region 4\n",
    "\n",
    "2) average crime rate in among the metropolitan areas = 55.64"
   ]
  },
  {
   "cell_type": "markdown",
   "metadata": {
    "colab_type": "text",
    "id": "Zly4JFPAXgMW"
   },
   "source": [
    "In such type of questions, we need to check all the options to find out which ones are True.\n",
    "\n",
    "Let's write the codes to check them one by one:"
   ]
  },
  {
   "cell_type": "markdown",
   "metadata": {
    "colab_type": "text",
    "id": "2Nn5L_JWZ3XJ"
   },
   "source": [
    "**Answer 3:**\n",
    "\n",
    "**a - 1) mean land areas of these Metropolitan areas = 2615.73**\n",
    "\n",
    "We can find the mean of the land area by Numpy's mean function.\n",
    "\n",
    "We need to provide the column name inside the brackets of the mean function"
   ]
  },
  {
   "cell_type": "markdown",
   "metadata": {
    "colab_type": "text",
    "id": "UsNDvq3XagXg"
   },
   "source": [
    "### Accessing DataFrame's columns\n",
    "Now, there are actually two methods of accessing a DataFrame's column: \n",
    "1. Square brackets ([])\n",
    "2. Dot operator (.)\n",
    "\n",
    "- They are the same as long you're accessing a single column with a simple name, but you can do more with the bracket notation. \n",
    "\n",
    "- You can only use df.col if the column name is a valid Python identifier (e.g., does not contains spaces and other such stuff). Also, you may encounter surprises if your column name clashes with a pandas method name (like sum). \n",
    "\n",
    "- With brackets you can select multiple columns (e.g., df[['col1', 'col2']]) or add a new column (df['newcol'] = ...), which can't be done with dot access."
   ]
  },
  {
   "cell_type": "code",
   "execution_count": 6,
   "metadata": {
    "colab": {
     "base_uri": "https://localhost:8080/",
     "height": 34
    },
    "colab_type": "code",
    "id": "yJs0EE9fIfJx",
    "outputId": "2c4ca546-1303-4503-9b01-e32a18a502ed"
   },
   "outputs": [
    {
     "data": {
      "text/plain": [
       "2615.7272727272725"
      ]
     },
     "execution_count": 6,
     "metadata": {},
     "output_type": "execute_result"
    }
   ],
   "source": [
    "# Dot notation\n",
    "np.mean(data.land_area)"
   ]
  },
  {
   "cell_type": "code",
   "execution_count": 7,
   "metadata": {
    "colab": {
     "base_uri": "https://localhost:8080/",
     "height": 34
    },
    "colab_type": "code",
    "id": "6puw8wzybemZ",
    "outputId": "c40a9621-853b-41d3-a74a-f26f08207cde"
   },
   "outputs": [
    {
     "data": {
      "text/plain": [
       "2615.7272727272725"
      ]
     },
     "execution_count": 7,
     "metadata": {},
     "output_type": "execute_result"
    }
   ],
   "source": [
    "# Bracket notation\n",
    "np.mean(data['land_area'])"
   ]
  },
  {
   "cell_type": "markdown",
   "metadata": {
    "colab_type": "text",
    "id": "39OT-O_HcaOw"
   },
   "source": [
    "Both of these work and provide us the same result. Now, you can see that the mean is represented till the 13th decimal place.\n",
    "\n",
    "We can use the round function to represent the same no. of decimal places in our mean as is displayed in the options."
   ]
  },
  {
   "cell_type": "code",
   "execution_count": 8,
   "metadata": {
    "colab": {
     "base_uri": "https://localhost:8080/",
     "height": 34
    },
    "colab_type": "code",
    "id": "ovOQsuV8cwLL",
    "outputId": "dfbc1e5e-f495-4812-94b1-282184f409f1"
   },
   "outputs": [
    {
     "data": {
      "text/plain": [
       "2615.73"
      ]
     },
     "execution_count": 8,
     "metadata": {},
     "output_type": "execute_result"
    }
   ],
   "source": [
    "import math #importing the math package for round function\n",
    "round(np.mean(data.land_area), 2) # The argument 2 represents to how many decimal places we want to round off"
   ]
  },
  {
   "cell_type": "markdown",
   "metadata": {
    "colab_type": "text",
    "id": "bbUf5jvRdNB7"
   },
   "source": [
    "Our answer is same as the option. Thus **a - 1) is correct**"
   ]
  },
  {
   "cell_type": "markdown",
   "metadata": {
    "colab_type": "text",
    "id": "Yyor3TM-dhAf"
   },
   "source": [
    "**a - 2) maximum crime rate among all the Metropolitan areas = 85.62**\n",
    "\n",
    "This requires us to use the max function on the crime_rate column."
   ]
  },
  {
   "cell_type": "code",
   "execution_count": 9,
   "metadata": {
    "colab": {
     "base_uri": "https://localhost:8080/",
     "height": 34
    },
    "colab_type": "code",
    "id": "AKHKYz57JqsM",
    "outputId": "86a4d571-f18b-4990-849f-81f3d34f215d"
   },
   "outputs": [
    {
     "data": {
      "text/plain": [
       "85.62"
      ]
     },
     "execution_count": 9,
     "metadata": {},
     "output_type": "execute_result"
    }
   ],
   "source": [
    "max(data.crime_rate)"
   ]
  },
  {
   "cell_type": "markdown",
   "metadata": {
    "colab_type": "text",
    "id": "YdddaeYQd_gT"
   },
   "source": [
    "We obtained the same result as specified in the option. Thus, **a- 2) is correct**\n",
    "\n",
    "Since both the parts of option a are correct, we can say that **a is correct**\n",
    "\n",
    "Let's find out if any of the other options is correct now."
   ]
  },
  {
   "cell_type": "markdown",
   "metadata": {
    "colab_type": "text",
    "id": "00IcGbNUecKS"
   },
   "source": [
    "**b - 1) minimum income in million dollars of all the metropolitan areas = 769.00**\n",
    "\n",
    "Similar to the previous option, we can use the min function on the income column\n",
    "\n"
   ]
  },
  {
   "cell_type": "code",
   "execution_count": 10,
   "metadata": {
    "colab": {
     "base_uri": "https://localhost:8080/",
     "height": 34
    },
    "colab_type": "code",
    "id": "bQFxHd21KK7P",
    "outputId": "67b0f190-65a6-4063-fac0-afa935161f61"
   },
   "outputs": [
    {
     "data": {
      "text/plain": [
       "769"
      ]
     },
     "execution_count": 10,
     "metadata": {},
     "output_type": "execute_result"
    }
   ],
   "source": [
    "min(data.income)"
   ]
  },
  {
   "cell_type": "markdown",
   "metadata": {
    "colab_type": "text",
    "id": "IC6XGYawfFf2"
   },
   "source": [
    "769.00 and 769 are the same. Thus, **option b is correct.**"
   ]
  },
  {
   "cell_type": "markdown",
   "metadata": {
    "colab_type": "text",
    "id": "Z44GrNThfObL"
   },
   "source": [
    "**c - 1) total count of non null entries in 'hospital_beds' = 99.0**\n",
    "\n",
    "We already know from the info function that we have 99 non null entries in each column. \n",
    "\n",
    "We can still confirm it with the notnull function of Pandas applied on the hospital_beds column"
   ]
  },
  {
   "cell_type": "code",
   "execution_count": 11,
   "metadata": {
    "colab": {
     "base_uri": "https://localhost:8080/",
     "height": 223
    },
    "colab_type": "code",
    "id": "fPH5YAkFKVu9",
    "outputId": "6f1388f7-3595-4039-be8f-01d85a84aaec"
   },
   "outputs": [
    {
     "data": {
      "text/plain": [
       "0     True\n",
       "1     True\n",
       "2     True\n",
       "3     True\n",
       "4     True\n",
       "5     True\n",
       "6     True\n",
       "7     True\n",
       "8     True\n",
       "9     True\n",
       "10    True\n",
       "11    True\n",
       "12    True\n",
       "13    True\n",
       "14    True\n",
       "15    True\n",
       "16    True\n",
       "17    True\n",
       "18    True\n",
       "19    True\n",
       "20    True\n",
       "21    True\n",
       "22    True\n",
       "23    True\n",
       "24    True\n",
       "25    True\n",
       "26    True\n",
       "27    True\n",
       "28    True\n",
       "29    True\n",
       "      ... \n",
       "69    True\n",
       "70    True\n",
       "71    True\n",
       "72    True\n",
       "73    True\n",
       "74    True\n",
       "75    True\n",
       "76    True\n",
       "77    True\n",
       "78    True\n",
       "79    True\n",
       "80    True\n",
       "81    True\n",
       "82    True\n",
       "83    True\n",
       "84    True\n",
       "85    True\n",
       "86    True\n",
       "87    True\n",
       "88    True\n",
       "89    True\n",
       "90    True\n",
       "91    True\n",
       "92    True\n",
       "93    True\n",
       "94    True\n",
       "95    True\n",
       "96    True\n",
       "97    True\n",
       "98    True\n",
       "Name: hospital_beds, Length: 99, dtype: bool"
      ]
     },
     "execution_count": 11,
     "metadata": {},
     "output_type": "execute_result"
    }
   ],
   "source": [
    "pd.notnull(data['hospital_beds'])"
   ]
  },
  {
   "cell_type": "markdown",
   "metadata": {
    "colab_type": "text",
    "id": "8W3skfM_hZbg"
   },
   "source": [
    "The length 99 means that there are non null 99 entries/ rows in the column.\n",
    "\n",
    "Thus, **c-1) is correct.**"
   ]
  },
  {
   "cell_type": "markdown",
   "metadata": {
    "colab_type": "text",
    "id": "aoh2linhhxG6"
   },
   "source": [
    "**c - 2) Most of the Metropolitan areas lie in region 3**\n",
    "\n",
    "The  The value_counts() method returns a Series containing the counts of unique values. This means, for any column in a dataframe, this method returns the count of unique entries in that column."
   ]
  },
  {
   "cell_type": "code",
   "execution_count": 12,
   "metadata": {
    "colab": {
     "base_uri": "https://localhost:8080/",
     "height": 103
    },
    "colab_type": "code",
    "id": "4_hio1HtLt0w",
    "outputId": "c77c5e4e-f462-4d9c-d253-88c5d594d9df"
   },
   "outputs": [
    {
     "data": {
      "text/plain": [
       "3    36\n",
       "2    25\n",
       "1    21\n",
       "4    17\n",
       "Name: region, dtype: int64"
      ]
     },
     "execution_count": 12,
     "metadata": {},
     "output_type": "execute_result"
    }
   ],
   "source": [
    "data.region.value_counts()"
   ]
  },
  {
   "cell_type": "markdown",
   "metadata": {
    "colab_type": "text",
    "id": "PrDhjDS7ic4E"
   },
   "source": [
    "The above code gives us the count of each region in the data['region'] column.\n",
    "\n",
    "We can see that region 3 has the maximum count - 36.\n",
    "\n",
    "Thus, **c-2) is correct.**\n",
    "\n",
    "Since both the parts of the option c are correct, we can say that the **option c is correct.**"
   ]
  },
  {
   "cell_type": "markdown",
   "metadata": {
    "colab_type": "text",
    "id": "JL6se5D6jEW2"
   },
   "source": [
    "**d - 1) only 17 Metropolitan areas lie in region 4**\n",
    "\n",
    "The answer for this can be obtained from the same result of the above code block. \n",
    "\n",
    "The region 4 has a count of 17 and thus **d - 1) is correct.**"
   ]
  },
  {
   "cell_type": "markdown",
   "metadata": {
    "colab_type": "text",
    "id": "98P7JYxOjeox"
   },
   "source": [
    "**d - 2) average crime rate in among the metropolitan areas = 55.64**\n",
    "\n",
    "For finding the average crime rate, we can apply mean function on the crime_rate column"
   ]
  },
  {
   "cell_type": "code",
   "execution_count": 13,
   "metadata": {
    "colab": {
     "base_uri": "https://localhost:8080/",
     "height": 34
    },
    "colab_type": "code",
    "id": "SQDIjlwfMsJo",
    "outputId": "d3a2f4ba-c2dc-41a8-b37e-f1c8f439f59b"
   },
   "outputs": [
    {
     "data": {
      "text/plain": [
       "55.64303030303031"
      ]
     },
     "execution_count": 13,
     "metadata": {},
     "output_type": "execute_result"
    }
   ],
   "source": [
    "np.mean(data.crime_rate)"
   ]
  },
  {
   "cell_type": "markdown",
   "metadata": {
    "colab_type": "text",
    "id": "sp-NcB2tkRaU"
   },
   "source": [
    "Again, we can round off the above result to get the exact mean. "
   ]
  },
  {
   "cell_type": "code",
   "execution_count": 14,
   "metadata": {
    "colab": {
     "base_uri": "https://localhost:8080/",
     "height": 34
    },
    "colab_type": "code",
    "id": "6jHeAxtSkY3o",
    "outputId": "4309bf03-42e0-4c3f-8a96-db56d7fd2f65"
   },
   "outputs": [
    {
     "data": {
      "text/plain": [
       "55.64"
      ]
     },
     "execution_count": 14,
     "metadata": {},
     "output_type": "execute_result"
    }
   ],
   "source": [
    "round(np.mean(data.crime_rate),2)"
   ]
  },
  {
   "cell_type": "markdown",
   "metadata": {
    "colab_type": "text",
    "id": "E5kQ0zYxkilO"
   },
   "source": [
    "The average crime rate obtained is same as that in the option. Thus, **d-2) is correct**\n",
    "\n",
    "Since both the parts of option d are correct, we can say that **option d is correct.**\n",
    "\n",
    "We have now proved that **all 4 options are correct.**"
   ]
  },
  {
   "cell_type": "markdown",
   "metadata": {
    "colab_type": "text",
    "id": "eap854wAlEIv"
   },
   "source": [
    "**Question 4:**\n",
    "\n",
    "Which of the following is the correct correlation matrix among the features of the dataset?\n",
    "\n",
    "Select one:"
   ]
  },
  {
   "cell_type": "markdown",
   "metadata": {
    "colab_type": "text",
    "id": "0YGsLLeMKADi"
   },
   "source": [
    " Option a: \n",
    " \n",
    " ![Option a](https://dphi.tech/wp-content/uploads/2020/06/question_3_option_1.png) "
   ]
  },
  {
   "cell_type": "markdown",
   "metadata": {
    "colab_type": "text",
    "id": "R0bVc6cgKxj3"
   },
   "source": [
    " Option b: \n",
    " \n",
    " ![Option b](https://dphi.tech/wp-content/uploads/2020/06/question_3_option_2.png) "
   ]
  },
  {
   "cell_type": "markdown",
   "metadata": {
    "colab_type": "text",
    "id": "UpRLz1m9lPdy"
   },
   "source": [
    "**Answer 4:**\n",
    "\n",
    "We can obtain a correlation matrix using the corr method. The correlation matrix obtained below is the same as given in option a. Thus, **option a is correct.**"
   ]
  },
  {
   "cell_type": "code",
   "execution_count": 15,
   "metadata": {
    "colab": {
     "base_uri": "https://localhost:8080/",
     "height": 377
    },
    "colab_type": "code",
    "id": "21fw7RMiNLBl",
    "outputId": "55d812fc-2463-4bde-da04-ea03ba37dde2"
   },
   "outputs": [
    {
     "data": {
      "text/html": [
       "<div>\n",
       "<style scoped>\n",
       "    .dataframe tbody tr th:only-of-type {\n",
       "        vertical-align: middle;\n",
       "    }\n",
       "\n",
       "    .dataframe tbody tr th {\n",
       "        vertical-align: top;\n",
       "    }\n",
       "\n",
       "    .dataframe thead th {\n",
       "        text-align: right;\n",
       "    }\n",
       "</style>\n",
       "<table border=\"1\" class=\"dataframe\">\n",
       "  <thead>\n",
       "    <tr style=\"text-align: right;\">\n",
       "      <th></th>\n",
       "      <th>land_area</th>\n",
       "      <th>percent_city</th>\n",
       "      <th>percent_senior</th>\n",
       "      <th>physicians</th>\n",
       "      <th>hospital_beds</th>\n",
       "      <th>graduates</th>\n",
       "      <th>work_force</th>\n",
       "      <th>income</th>\n",
       "      <th>region</th>\n",
       "      <th>crime_rate</th>\n",
       "    </tr>\n",
       "  </thead>\n",
       "  <tbody>\n",
       "    <tr>\n",
       "      <th>land_area</th>\n",
       "      <td>1.000000</td>\n",
       "      <td>-0.077320</td>\n",
       "      <td>0.092226</td>\n",
       "      <td>0.085054</td>\n",
       "      <td>0.081034</td>\n",
       "      <td>0.088728</td>\n",
       "      <td>0.135792</td>\n",
       "      <td>0.111404</td>\n",
       "      <td>0.292392</td>\n",
       "      <td>0.293907</td>\n",
       "    </tr>\n",
       "    <tr>\n",
       "      <th>percent_city</th>\n",
       "      <td>-0.077320</td>\n",
       "      <td>1.000000</td>\n",
       "      <td>-0.250995</td>\n",
       "      <td>0.067391</td>\n",
       "      <td>0.052898</td>\n",
       "      <td>0.076720</td>\n",
       "      <td>0.016011</td>\n",
       "      <td>0.019235</td>\n",
       "      <td>0.235880</td>\n",
       "      <td>0.159596</td>\n",
       "    </tr>\n",
       "    <tr>\n",
       "      <th>percent_senior</th>\n",
       "      <td>0.092226</td>\n",
       "      <td>-0.250995</td>\n",
       "      <td>1.000000</td>\n",
       "      <td>0.056454</td>\n",
       "      <td>0.083775</td>\n",
       "      <td>-0.155695</td>\n",
       "      <td>0.035240</td>\n",
       "      <td>0.046073</td>\n",
       "      <td>-0.242811</td>\n",
       "      <td>-0.177992</td>\n",
       "    </tr>\n",
       "    <tr>\n",
       "      <th>physicians</th>\n",
       "      <td>0.085054</td>\n",
       "      <td>0.067391</td>\n",
       "      <td>0.056454</td>\n",
       "      <td>1.000000</td>\n",
       "      <td>0.974241</td>\n",
       "      <td>0.049500</td>\n",
       "      <td>0.965597</td>\n",
       "      <td>0.976209</td>\n",
       "      <td>-0.140961</td>\n",
       "      <td>0.187763</td>\n",
       "    </tr>\n",
       "    <tr>\n",
       "      <th>hospital_beds</th>\n",
       "      <td>0.081034</td>\n",
       "      <td>0.052898</td>\n",
       "      <td>0.083775</td>\n",
       "      <td>0.974241</td>\n",
       "      <td>1.000000</td>\n",
       "      <td>-0.003892</td>\n",
       "      <td>0.967913</td>\n",
       "      <td>0.974416</td>\n",
       "      <td>-0.220305</td>\n",
       "      <td>0.109799</td>\n",
       "    </tr>\n",
       "    <tr>\n",
       "      <th>graduates</th>\n",
       "      <td>0.088728</td>\n",
       "      <td>0.076720</td>\n",
       "      <td>-0.155695</td>\n",
       "      <td>0.049500</td>\n",
       "      <td>-0.003892</td>\n",
       "      <td>1.000000</td>\n",
       "      <td>0.044054</td>\n",
       "      <td>0.045578</td>\n",
       "      <td>0.246226</td>\n",
       "      <td>0.290880</td>\n",
       "    </tr>\n",
       "    <tr>\n",
       "      <th>work_force</th>\n",
       "      <td>0.135792</td>\n",
       "      <td>0.016011</td>\n",
       "      <td>0.035240</td>\n",
       "      <td>0.965597</td>\n",
       "      <td>0.967913</td>\n",
       "      <td>0.044054</td>\n",
       "      <td>1.000000</td>\n",
       "      <td>0.996735</td>\n",
       "      <td>-0.144022</td>\n",
       "      <td>0.175945</td>\n",
       "    </tr>\n",
       "    <tr>\n",
       "      <th>income</th>\n",
       "      <td>0.111404</td>\n",
       "      <td>0.019235</td>\n",
       "      <td>0.046073</td>\n",
       "      <td>0.976209</td>\n",
       "      <td>0.974416</td>\n",
       "      <td>0.045578</td>\n",
       "      <td>0.996735</td>\n",
       "      <td>1.000000</td>\n",
       "      <td>-0.152016</td>\n",
       "      <td>0.175797</td>\n",
       "    </tr>\n",
       "    <tr>\n",
       "      <th>region</th>\n",
       "      <td>0.292392</td>\n",
       "      <td>0.235880</td>\n",
       "      <td>-0.242811</td>\n",
       "      <td>-0.140961</td>\n",
       "      <td>-0.220305</td>\n",
       "      <td>0.246226</td>\n",
       "      <td>-0.144022</td>\n",
       "      <td>-0.152016</td>\n",
       "      <td>1.000000</td>\n",
       "      <td>0.636192</td>\n",
       "    </tr>\n",
       "    <tr>\n",
       "      <th>crime_rate</th>\n",
       "      <td>0.293907</td>\n",
       "      <td>0.159596</td>\n",
       "      <td>-0.177992</td>\n",
       "      <td>0.187763</td>\n",
       "      <td>0.109799</td>\n",
       "      <td>0.290880</td>\n",
       "      <td>0.175945</td>\n",
       "      <td>0.175797</td>\n",
       "      <td>0.636192</td>\n",
       "      <td>1.000000</td>\n",
       "    </tr>\n",
       "  </tbody>\n",
       "</table>\n",
       "</div>"
      ],
      "text/plain": [
       "                land_area  percent_city  percent_senior  physicians  \\\n",
       "land_area        1.000000     -0.077320        0.092226    0.085054   \n",
       "percent_city    -0.077320      1.000000       -0.250995    0.067391   \n",
       "percent_senior   0.092226     -0.250995        1.000000    0.056454   \n",
       "physicians       0.085054      0.067391        0.056454    1.000000   \n",
       "hospital_beds    0.081034      0.052898        0.083775    0.974241   \n",
       "graduates        0.088728      0.076720       -0.155695    0.049500   \n",
       "work_force       0.135792      0.016011        0.035240    0.965597   \n",
       "income           0.111404      0.019235        0.046073    0.976209   \n",
       "region           0.292392      0.235880       -0.242811   -0.140961   \n",
       "crime_rate       0.293907      0.159596       -0.177992    0.187763   \n",
       "\n",
       "                hospital_beds  graduates  work_force    income    region  \\\n",
       "land_area            0.081034   0.088728    0.135792  0.111404  0.292392   \n",
       "percent_city         0.052898   0.076720    0.016011  0.019235  0.235880   \n",
       "percent_senior       0.083775  -0.155695    0.035240  0.046073 -0.242811   \n",
       "physicians           0.974241   0.049500    0.965597  0.976209 -0.140961   \n",
       "hospital_beds        1.000000  -0.003892    0.967913  0.974416 -0.220305   \n",
       "graduates           -0.003892   1.000000    0.044054  0.045578  0.246226   \n",
       "work_force           0.967913   0.044054    1.000000  0.996735 -0.144022   \n",
       "income               0.974416   0.045578    0.996735  1.000000 -0.152016   \n",
       "region              -0.220305   0.246226   -0.144022 -0.152016  1.000000   \n",
       "crime_rate           0.109799   0.290880    0.175945  0.175797  0.636192   \n",
       "\n",
       "                crime_rate  \n",
       "land_area         0.293907  \n",
       "percent_city      0.159596  \n",
       "percent_senior   -0.177992  \n",
       "physicians        0.187763  \n",
       "hospital_beds     0.109799  \n",
       "graduates         0.290880  \n",
       "work_force        0.175945  \n",
       "income            0.175797  \n",
       "region            0.636192  \n",
       "crime_rate        1.000000  "
      ]
     },
     "execution_count": 15,
     "metadata": {},
     "output_type": "execute_result"
    }
   ],
   "source": [
    "data.corr()"
   ]
  },
  {
   "cell_type": "markdown",
   "metadata": {
    "colab_type": "text",
    "id": "xiSWysJjmBMX"
   },
   "source": [
    "**Question 5:**\n",
    "\n",
    "Which of the following is the first five land area of the metropolitan area data which are located in region 4?\n",
    "\n",
    "Select one:\n",
    "\n",
    " Option a: \n",
    " \n",
    " ![Option a](https://dphi.tech/wp-content/uploads/2020/06/q4o4.png) \n",
    "\n",
    " Option b: \n",
    " \n",
    " ![Option b](https://dphi.tech/wp-content/uploads/2020/06/q4o2.png) \n",
    "\n",
    " Option c: \n",
    " \n",
    " ![Option c](https://dphi.tech/wp-content/uploads/2020/06/q4o3.png) \n",
    "\n",
    "Option d: \n",
    " \n",
    " ![Option d](https://dphi.tech/wp-content/uploads/2020/06/q4o1.png) \n"
   ]
  },
  {
   "cell_type": "markdown",
   "metadata": {
    "colab_type": "text",
    "id": "kwBh3LV8mNAy"
   },
   "source": [
    "**Answer 5:**\n",
    "\n",
    "This question involves **conditional selection of columns.**\n",
    "\n",
    "- The == operator is a comparison operator. If the values of two operands on either side are equal, then the condition becomes true.\n",
    "\n",
    "- The condition data['region']==4 checks if the region of an entry is 4. \n",
    "\n",
    "- data[data['region']==4] finds out all those columns that satisfy the condition specified.\n",
    "\n",
    "- data[data['region']==4]['land_area'] selects the land_area column from the data\n",
    "\n",
    "- Finally, data[data['region']==4]['land_area'].head() picks the top 5 rows as the question demands first five land area.\n"
   ]
  },
  {
   "cell_type": "code",
   "execution_count": 16,
   "metadata": {
    "colab": {
     "base_uri": "https://localhost:8080/",
     "height": 120
    },
    "colab_type": "code",
    "id": "MUK9xs8nmVHt",
    "outputId": "b87eed25-c6dc-4afd-a2cb-f83a3f38cc23"
   },
   "outputs": [
    {
     "data": {
      "text/plain": [
       "4      2480\n",
       "13      782\n",
       "14     4226\n",
       "18    27293\n",
       "20     9155\n",
       "Name: land_area, dtype: int64"
      ]
     },
     "execution_count": 16,
     "metadata": {},
     "output_type": "execute_result"
    }
   ],
   "source": [
    "data[data['region']==4]['land_area'].head()"
   ]
  },
  {
   "cell_type": "markdown",
   "metadata": {
    "colab_type": "text",
    "id": "pNHOKc6-nyIV"
   },
   "source": [
    "Since the above output matches the option d, **option d is correct**"
   ]
  },
  {
   "cell_type": "markdown",
   "metadata": {
    "colab_type": "text",
    "id": "xRUYTmHkoDVP"
   },
   "source": [
    "**Question 6:**\n",
    "\n",
    "Which of the following information is correct about Standard Metropolitan Data?\n",
    "\n",
    "Select one or more:\n",
    "\n",
    "a. There isn't any Metropolitan area which is located in region 4 and crime rate is 55.64.\n",
    "\n",
    "b. There are 4 Metropolitan area which is located in region 1 and their crime rate is greater than or equal to 54.16\n",
    "\n",
    "c. There is one Metropolitan area whose crime rate is 85.62 and is located in region 4.\n",
    "\n",
    "d. There are 40 Metropolitan area which is located in region 3 or have land area greater than or equal to 5000"
   ]
  },
  {
   "cell_type": "markdown",
   "metadata": {
    "colab_type": "text",
    "id": "QbCiM8rPoOTt"
   },
   "source": [
    "**Answer 6:**\n",
    "\n",
    "This question involves the concept of conditional selection along with combining 2 conditions with the Logical Operators( and, or, not)\n",
    "\n",
    "**a. There isn't any Metropolitan area which is located in region 4 and crime rate is 55.64.**"
   ]
  },
  {
   "cell_type": "code",
   "execution_count": 17,
   "metadata": {
    "colab": {
     "base_uri": "https://localhost:8080/",
     "height": 68
    },
    "colab_type": "code",
    "id": "30qFzf2go3Lq",
    "outputId": "c552258f-bdd7-4e87-ab7d-63b44dfea23e"
   },
   "outputs": [
    {
     "data": {
      "text/html": [
       "<div>\n",
       "<style scoped>\n",
       "    .dataframe tbody tr th:only-of-type {\n",
       "        vertical-align: middle;\n",
       "    }\n",
       "\n",
       "    .dataframe tbody tr th {\n",
       "        vertical-align: top;\n",
       "    }\n",
       "\n",
       "    .dataframe thead th {\n",
       "        text-align: right;\n",
       "    }\n",
       "</style>\n",
       "<table border=\"1\" class=\"dataframe\">\n",
       "  <thead>\n",
       "    <tr style=\"text-align: right;\">\n",
       "      <th></th>\n",
       "      <th>land_area</th>\n",
       "      <th>percent_city</th>\n",
       "      <th>percent_senior</th>\n",
       "      <th>physicians</th>\n",
       "      <th>hospital_beds</th>\n",
       "      <th>graduates</th>\n",
       "      <th>work_force</th>\n",
       "      <th>income</th>\n",
       "      <th>region</th>\n",
       "      <th>crime_rate</th>\n",
       "    </tr>\n",
       "  </thead>\n",
       "  <tbody>\n",
       "  </tbody>\n",
       "</table>\n",
       "</div>"
      ],
      "text/plain": [
       "Empty DataFrame\n",
       "Columns: [land_area, percent_city, percent_senior, physicians, hospital_beds, graduates, work_force, income, region, crime_rate]\n",
       "Index: []"
      ]
     },
     "execution_count": 17,
     "metadata": {},
     "output_type": "execute_result"
    }
   ],
   "source": [
    "data[(data['region']==4) & (round(data['crime_rate'],2)==55.46)]"
   ]
  },
  {
   "cell_type": "markdown",
   "metadata": {
    "colab_type": "text",
    "id": "IOZoA9CvpOx5"
   },
   "source": [
    "We obtained an empty table. This means that there isn't any Metropolitan area which is located in region 4 and crime rate is 55.64.\n",
    "\n",
    "Thus, **option a is correct.**"
   ]
  },
  {
   "cell_type": "markdown",
   "metadata": {
    "colab_type": "text",
    "id": "gPD-Dj3cpagZ"
   },
   "source": [
    "**b. There are 4 Metropolitan area which is located in region 1 and their crime rate is greater than or equal to 54.16**"
   ]
  },
  {
   "cell_type": "code",
   "execution_count": 18,
   "metadata": {
    "colab": {
     "base_uri": "https://localhost:8080/",
     "height": 192
    },
    "colab_type": "code",
    "id": "Zg0B6IhZphvk",
    "outputId": "d9d963dc-8e81-4c7e-c4ae-4f903d8c4a82"
   },
   "outputs": [
    {
     "data": {
      "text/html": [
       "<div>\n",
       "<style scoped>\n",
       "    .dataframe tbody tr th:only-of-type {\n",
       "        vertical-align: middle;\n",
       "    }\n",
       "\n",
       "    .dataframe tbody tr th {\n",
       "        vertical-align: top;\n",
       "    }\n",
       "\n",
       "    .dataframe thead th {\n",
       "        text-align: right;\n",
       "    }\n",
       "</style>\n",
       "<table border=\"1\" class=\"dataframe\">\n",
       "  <thead>\n",
       "    <tr style=\"text-align: right;\">\n",
       "      <th></th>\n",
       "      <th>land_area</th>\n",
       "      <th>percent_city</th>\n",
       "      <th>percent_senior</th>\n",
       "      <th>physicians</th>\n",
       "      <th>hospital_beds</th>\n",
       "      <th>graduates</th>\n",
       "      <th>work_force</th>\n",
       "      <th>income</th>\n",
       "      <th>region</th>\n",
       "      <th>crime_rate</th>\n",
       "    </tr>\n",
       "  </thead>\n",
       "  <tbody>\n",
       "    <tr>\n",
       "      <th>0</th>\n",
       "      <td>1384</td>\n",
       "      <td>78.1</td>\n",
       "      <td>12.3</td>\n",
       "      <td>25627</td>\n",
       "      <td>69678</td>\n",
       "      <td>50.1</td>\n",
       "      <td>4083.9</td>\n",
       "      <td>72100</td>\n",
       "      <td>1</td>\n",
       "      <td>75.55</td>\n",
       "    </tr>\n",
       "    <tr>\n",
       "      <th>10</th>\n",
       "      <td>1008</td>\n",
       "      <td>16.6</td>\n",
       "      <td>10.3</td>\n",
       "      <td>4006</td>\n",
       "      <td>16704</td>\n",
       "      <td>55.9</td>\n",
       "      <td>935.5</td>\n",
       "      <td>15953</td>\n",
       "      <td>1</td>\n",
       "      <td>54.16</td>\n",
       "    </tr>\n",
       "    <tr>\n",
       "      <th>24</th>\n",
       "      <td>2966</td>\n",
       "      <td>26.9</td>\n",
       "      <td>10.3</td>\n",
       "      <td>2053</td>\n",
       "      <td>6604</td>\n",
       "      <td>56.3</td>\n",
       "      <td>450.4</td>\n",
       "      <td>6966</td>\n",
       "      <td>1</td>\n",
       "      <td>56.55</td>\n",
       "    </tr>\n",
       "    <tr>\n",
       "      <th>55</th>\n",
       "      <td>192</td>\n",
       "      <td>60.5</td>\n",
       "      <td>10.8</td>\n",
       "      <td>617</td>\n",
       "      <td>1789</td>\n",
       "      <td>44.1</td>\n",
       "      <td>212.6</td>\n",
       "      <td>3158</td>\n",
       "      <td>1</td>\n",
       "      <td>58.79</td>\n",
       "    </tr>\n",
       "  </tbody>\n",
       "</table>\n",
       "</div>"
      ],
      "text/plain": [
       "    land_area  percent_city  percent_senior  physicians  hospital_beds  \\\n",
       "0        1384          78.1            12.3       25627          69678   \n",
       "10       1008          16.6            10.3        4006          16704   \n",
       "24       2966          26.9            10.3        2053           6604   \n",
       "55        192          60.5            10.8         617           1789   \n",
       "\n",
       "    graduates  work_force  income  region  crime_rate  \n",
       "0        50.1      4083.9   72100       1       75.55  \n",
       "10       55.9       935.5   15953       1       54.16  \n",
       "24       56.3       450.4    6966       1       56.55  \n",
       "55       44.1       212.6    3158       1       58.79  "
      ]
     },
     "execution_count": 18,
     "metadata": {},
     "output_type": "execute_result"
    }
   ],
   "source": [
    "data[(data['region']==1) & (round(data['crime_rate'],2)>=54.16)]"
   ]
  },
  {
   "cell_type": "markdown",
   "metadata": {
    "colab_type": "text",
    "id": "jagu5yQnpoiU"
   },
   "source": [
    "Since we have 4 records in the above result, the **option b is correct.**"
   ]
  },
  {
   "cell_type": "markdown",
   "metadata": {
    "colab_type": "text",
    "id": "TXyFu88-pxIe"
   },
   "source": [
    "**c. There is one Metropolitan area whose crime rate is 85.62 and is located in region 4.**"
   ]
  },
  {
   "cell_type": "code",
   "execution_count": 19,
   "metadata": {
    "colab": {
     "base_uri": "https://localhost:8080/",
     "height": 99
    },
    "colab_type": "code",
    "id": "6Sxr57__p-Cr",
    "outputId": "051c739f-0250-4de9-f4a2-11f12e170328"
   },
   "outputs": [
    {
     "data": {
      "text/html": [
       "<div>\n",
       "<style scoped>\n",
       "    .dataframe tbody tr th:only-of-type {\n",
       "        vertical-align: middle;\n",
       "    }\n",
       "\n",
       "    .dataframe tbody tr th {\n",
       "        vertical-align: top;\n",
       "    }\n",
       "\n",
       "    .dataframe thead th {\n",
       "        text-align: right;\n",
       "    }\n",
       "</style>\n",
       "<table border=\"1\" class=\"dataframe\">\n",
       "  <thead>\n",
       "    <tr style=\"text-align: right;\">\n",
       "      <th></th>\n",
       "      <th>land_area</th>\n",
       "      <th>percent_city</th>\n",
       "      <th>percent_senior</th>\n",
       "      <th>physicians</th>\n",
       "      <th>hospital_beds</th>\n",
       "      <th>graduates</th>\n",
       "      <th>work_force</th>\n",
       "      <th>income</th>\n",
       "      <th>region</th>\n",
       "      <th>crime_rate</th>\n",
       "    </tr>\n",
       "  </thead>\n",
       "  <tbody>\n",
       "    <tr>\n",
       "      <th>20</th>\n",
       "      <td>9155</td>\n",
       "      <td>53.8</td>\n",
       "      <td>11.1</td>\n",
       "      <td>2280</td>\n",
       "      <td>6450</td>\n",
       "      <td>60.1</td>\n",
       "      <td>575.2</td>\n",
       "      <td>7766</td>\n",
       "      <td>4</td>\n",
       "      <td>85.62</td>\n",
       "    </tr>\n",
       "  </tbody>\n",
       "</table>\n",
       "</div>"
      ],
      "text/plain": [
       "    land_area  percent_city  percent_senior  physicians  hospital_beds  \\\n",
       "20       9155          53.8            11.1        2280           6450   \n",
       "\n",
       "    graduates  work_force  income  region  crime_rate  \n",
       "20       60.1       575.2    7766       4       85.62  "
      ]
     },
     "execution_count": 19,
     "metadata": {},
     "output_type": "execute_result"
    }
   ],
   "source": [
    "data[(data['region']==4) & (round(data['crime_rate'],2)==85.62)]"
   ]
  },
  {
   "cell_type": "markdown",
   "metadata": {
    "colab_type": "text",
    "id": "CAVMXD0Ap6IC"
   },
   "source": [
    "We recieved 1 entry that satisfied the above conditions. Thus, **option c is correct.**"
   ]
  },
  {
   "cell_type": "markdown",
   "metadata": {
    "colab_type": "text",
    "id": "5Moe0DfTqRJM"
   },
   "source": [
    "**d. There are 40 Metropolitan area which are located in region 3 or have land area greater than or equal to 5000**"
   ]
  },
  {
   "cell_type": "code",
   "execution_count": 20,
   "metadata": {
    "colab": {
     "base_uri": "https://localhost:8080/",
     "height": 34
    },
    "colab_type": "code",
    "id": "AqqQdKo9NqkJ",
    "outputId": "caa8d526-c013-4269-b332-d401a5d8fd18"
   },
   "outputs": [
    {
     "data": {
      "text/plain": [
       "41"
      ]
     },
     "execution_count": 20,
     "metadata": {},
     "output_type": "execute_result"
    }
   ],
   "source": [
    "len(data[(data['region']==3) | (data['land_area']>=5000)])"
   ]
  },
  {
   "cell_type": "markdown",
   "metadata": {
    "colab_type": "text",
    "id": "vsb1iXyNqv79"
   },
   "source": [
    "There are 41 Metropolitan area which are located in region 3 or have land area greater than or equal to 5000. Thus the **option d is incorrect.**\n",
    "\n",
    "**Options a,b,c are correct.**"
   ]
  },
  {
   "cell_type": "markdown",
   "metadata": {
    "colab_type": "text",
    "id": "RoHo_tewrBYc"
   },
   "source": [
    "**Question 7:**\n",
    "\n",
    "Which of the following is the correct line plot between land area and crime rate?\n",
    "\n",
    "Select one:\n",
    "\n",
    "\n",
    "Option a: \n",
    " \n",
    " ![Option a](https://dphi.tech/wp-content/uploads/2020/06/q6o4.png)\n",
    "\n",
    "  Option b: \n",
    " \n",
    " ![Option b](https://dphi.tech/wp-content/uploads/2020/06/q6o2.png)\n",
    "\n",
    " Option c: \n",
    " \n",
    " ![Option c](https://dphi.tech/wp-content/uploads/2020/06/q6o1.png)\n",
    "\n",
    "Option d: \n",
    " \n",
    " ![Option d](https://dphi.tech/wp-content/uploads/2020/06/q6o3.png)"
   ]
  },
  {
   "cell_type": "markdown",
   "metadata": {
    "colab_type": "text",
    "id": "g1Hlil3ZrMgL"
   },
   "source": [
    "**Answer 7:**\n",
    "\n",
    "We'll use the plot function of Matplotlib to draw a line plot between land area and crime rate "
   ]
  },
  {
   "cell_type": "code",
   "execution_count": 21,
   "metadata": {
    "colab": {
     "base_uri": "https://localhost:8080/",
     "height": 282
    },
    "colab_type": "code",
    "id": "7S2bkj1zQ7If",
    "outputId": "fe62495d-f226-461d-d047-686260395fbe"
   },
   "outputs": [
    {
     "data": {
      "text/plain": [
       "[<matplotlib.lines.Line2D at 0x7f82b4d7b278>]"
      ]
     },
     "execution_count": 21,
     "metadata": {},
     "output_type": "execute_result"
    },
    {
     "data": {
      "image/png": "[encoded data removed]",
      "text/plain": [
       "<Figure size 432x288 with 1 Axes>"
      ]
     },
     "metadata": {
      "needs_background": "light"
     },
     "output_type": "display_data"
    }
   ],
   "source": [
    "plt.plot(data.land_area, data.crime_rate)"
   ]
  },
  {
   "cell_type": "markdown",
   "metadata": {
    "colab_type": "text",
    "id": "AnTjNq4Sra9q"
   },
   "source": [
    "Since the plot matches with option a, **Option a is correct.**"
   ]
  },
  {
   "cell_type": "markdown",
   "metadata": {
    "colab_type": "text",
    "id": "6T8N8XoDrrGN"
   },
   "source": [
    "**Question 8:**\n",
    "\n",
    "Which of the following correlation information is correct between two variables.\n",
    "\n",
    "Select one:\n",
    "\n",
    "a There is a positive correlation between 'hospital_beds' and 'physicians' and its scatter plot is:\n",
    " \n",
    " ![Option a](https://dphi.tech/wp-content/uploads/2020/06/q7o1.png)\n",
    "\n",
    "\n",
    "b. There is a negative correlation between 'hospital_beds' and 'physicians' and its scatter plot is: \n",
    " \n",
    " ![Option b](https://dphi.tech/wp-content/uploads/2020/06/q7o1.png)\n",
    "\n",
    "c. There is a negative correlation between 'hospital_beds' and 'physicians' and its scatter plot is:\n",
    "\n",
    " ![Option c](https://dphi.tech/wp-content/uploads/2020/06/q7o2.png)"
   ]
  },
  {
   "cell_type": "markdown",
   "metadata": {
    "colab_type": "text",
    "id": "DmjQr-dyr7Dk"
   },
   "source": [
    "Answer 8:\n",
    "\n",
    "We'll use the scatter method of Matplotlib to draw a scatter plot between 'hospital_beds' and 'physicians'."
   ]
  },
  {
   "cell_type": "code",
   "execution_count": 22,
   "metadata": {
    "colab": {
     "base_uri": "https://localhost:8080/",
     "height": 282
    },
    "colab_type": "code",
    "id": "wW3-xaUDTPYI",
    "outputId": "a3052f74-f586-47e4-8b0e-5587d07fff44"
   },
   "outputs": [
    {
     "data": {
      "text/plain": [
       "<matplotlib.collections.PathCollection at 0x7f82b4d0acf8>"
      ]
     },
     "execution_count": 22,
     "metadata": {},
     "output_type": "execute_result"
    },
    {
     "data": {
      "image/png": "[encoded data removed]",
      "text/plain": [
       "<Figure size 432x288 with 1 Axes>"
      ]
     },
     "metadata": {
      "needs_background": "light"
     },
     "output_type": "display_data"
    }
   ],
   "source": [
    "plt.scatter(data.hospital_beds, data.physicians)"
   ]
  },
  {
   "cell_type": "markdown",
   "metadata": {
    "colab_type": "text",
    "id": "bTmbpRaRsIkj"
   },
   "source": [
    "The scatter plot matches with that of option a and b. We can notice that the direction of the line made by scatter plot is upwards or the slope of the line is positive. \n",
    "\n",
    "Also, the value of physicians is increasing as the value of hospital_beds is increasing. This means, there is a positive correlation between 'hospital_beds' and 'physicians'.\n",
    "\n",
    "Thus, **option a is correct.**"
   ]
  },
  {
   "cell_type": "markdown",
   "metadata": {
    "colab_type": "text",
    "id": "laSNPXiJsueR"
   },
   "source": [
    "**Question 9:**\n",
    "\n",
    "Which of the following is the correct bar plot of geographic regions?\n",
    "\n",
    "Select one:\n",
    "\n",
    "Option a:\n",
    "\n",
    " ![Option a](https://dphi.tech/wp-content/uploads/2020/06/q8o3.png)\n",
    "\n",
    "Option b:\n",
    "\n",
    " ![Option b](https://dphi.tech/wp-content/uploads/2020/06/q8o2.png)\n",
    "\n",
    "Option c:\n",
    "\n",
    " ![Option c](https://dphi.tech/wp-content/uploads/2020/06/q8o1.png)"
   ]
  },
  {
   "cell_type": "markdown",
   "metadata": {
    "colab_type": "text",
    "id": "d0T_DHcWtBwG"
   },
   "source": [
    "**Answer 9:**\n",
    "\n",
    "The question requires us to create a bar plot of geographic regions against the frequency of each region.\n",
    "\n",
    "This means that we'll have to count the occurrence of each region in our data.\n",
    "\n",
    "Let's have a look at 2 methods of making the same bar plot:\n",
    "\n"
   ]
  },
  {
   "cell_type": "markdown",
   "metadata": {
    "colab_type": "text",
    "id": "ZS5j3F_V7zRt"
   },
   "source": [
    "**Method 1 - Using the Pandas plot function to draw a bar plot**\n",
    "\n",
    "- In this method, we use the **value_counts()** function to find out the frequency of each region in our data. \n",
    "\n",
    "- The plot method with the **kind='bar' argument** helps us plot bar charts. We are also specifying an argument **color** and providing a list of colours we want our bars to be plotted in.\n",
    "\n",
    "- Also, it can be observed from the above options that the bars should not be sorted in the decreasing order of frequency which is usually the case while counting occurrence. We can use **sort_index()** to sort the bars according to their indices."
   ]
  },
  {
   "cell_type": "code",
   "execution_count": 23,
   "metadata": {
    "colab": {
     "base_uri": "https://localhost:8080/",
     "height": 309
    },
    "colab_type": "code",
    "id": "a8GU5NvQ7-LS",
    "outputId": "6e9fb65c-3c24-413f-e2a7-b5c0027dba3f"
   },
   "outputs": [
    {
     "data": {
      "text/plain": [
       "Text(0, 0.5, 'Frequency')"
      ]
     },
     "execution_count": 23,
     "metadata": {},
     "output_type": "execute_result"
    },
    {
     "data": {
      "image/png": "[encoded data removed]",
      "text/plain": [
       "<Figure size 432x288 with 1 Axes>"
      ]
     },
     "metadata": {
      "needs_background": "light"
     },
     "output_type": "display_data"
    }
   ],
   "source": [
    "ax = data['region'].value_counts().sort_index().plot(kind = 'bar', color = ['blue','orange','green','red'])\n",
    "ax.set_title(\"Geographic Region according to US census\")\n",
    "ax.set_xlabel(\"Geographic Region\")\n",
    "ax.set_ylabel(\"Frequency\")"
   ]
  },
  {
   "cell_type": "markdown",
   "metadata": {
    "colab_type": "text",
    "id": "GlA15EXn8qjX"
   },
   "source": [
    "**Method 2 - Using seaborn to draw a colourful bar plot**\n",
    "\n",
    "- In this approach, we first used the groupby method to group values according to the regions. \n",
    "\n",
    "- Then, we applied count to count the no. of entries in each group. \n",
    "\n",
    "- On printing this df, you can observe that all the columns now contain the same data i.e frequencies of groups. To get any particular column, you can specify the column name inside the square brackets. Here, we've randomly used the first column land_area.\n",
    "\n",
    "- Since the columns are grouped according to regions, our index will be region. \n",
    "\n",
    "- Finally, Seaborn's barplot method is used to plot a bar graph between the index and the land_area"
   ]
  },
  {
   "cell_type": "code",
   "execution_count": 24,
   "metadata": {
    "colab": {
     "base_uri": "https://localhost:8080/",
     "height": 223
    },
    "colab_type": "code",
    "id": "LM3dGWoNTdqB",
    "outputId": "2883a48f-0cfb-4efd-a8d5-a75fad4936eb"
   },
   "outputs": [
    {
     "data": {
      "text/html": [
       "<div>\n",
       "<style scoped>\n",
       "    .dataframe tbody tr th:only-of-type {\n",
       "        vertical-align: middle;\n",
       "    }\n",
       "\n",
       "    .dataframe tbody tr th {\n",
       "        vertical-align: top;\n",
       "    }\n",
       "\n",
       "    .dataframe thead th {\n",
       "        text-align: right;\n",
       "    }\n",
       "</style>\n",
       "<table border=\"1\" class=\"dataframe\">\n",
       "  <thead>\n",
       "    <tr style=\"text-align: right;\">\n",
       "      <th></th>\n",
       "      <th>land_area</th>\n",
       "      <th>percent_city</th>\n",
       "      <th>percent_senior</th>\n",
       "      <th>physicians</th>\n",
       "      <th>hospital_beds</th>\n",
       "      <th>graduates</th>\n",
       "      <th>work_force</th>\n",
       "      <th>income</th>\n",
       "      <th>crime_rate</th>\n",
       "    </tr>\n",
       "    <tr>\n",
       "      <th>region</th>\n",
       "      <th></th>\n",
       "      <th></th>\n",
       "      <th></th>\n",
       "      <th></th>\n",
       "      <th></th>\n",
       "      <th></th>\n",
       "      <th></th>\n",
       "      <th></th>\n",
       "      <th></th>\n",
       "    </tr>\n",
       "  </thead>\n",
       "  <tbody>\n",
       "    <tr>\n",
       "      <th>1</th>\n",
       "      <td>21</td>\n",
       "      <td>21</td>\n",
       "      <td>21</td>\n",
       "      <td>21</td>\n",
       "      <td>21</td>\n",
       "      <td>21</td>\n",
       "      <td>21</td>\n",
       "      <td>21</td>\n",
       "      <td>21</td>\n",
       "    </tr>\n",
       "    <tr>\n",
       "      <th>2</th>\n",
       "      <td>25</td>\n",
       "      <td>25</td>\n",
       "      <td>25</td>\n",
       "      <td>25</td>\n",
       "      <td>25</td>\n",
       "      <td>25</td>\n",
       "      <td>25</td>\n",
       "      <td>25</td>\n",
       "      <td>25</td>\n",
       "    </tr>\n",
       "    <tr>\n",
       "      <th>3</th>\n",
       "      <td>36</td>\n",
       "      <td>36</td>\n",
       "      <td>36</td>\n",
       "      <td>36</td>\n",
       "      <td>36</td>\n",
       "      <td>36</td>\n",
       "      <td>36</td>\n",
       "      <td>36</td>\n",
       "      <td>36</td>\n",
       "    </tr>\n",
       "    <tr>\n",
       "      <th>4</th>\n",
       "      <td>17</td>\n",
       "      <td>17</td>\n",
       "      <td>17</td>\n",
       "      <td>17</td>\n",
       "      <td>17</td>\n",
       "      <td>17</td>\n",
       "      <td>17</td>\n",
       "      <td>17</td>\n",
       "      <td>17</td>\n",
       "    </tr>\n",
       "  </tbody>\n",
       "</table>\n",
       "</div>"
      ],
      "text/plain": [
       "        land_area  percent_city  percent_senior  physicians  hospital_beds  \\\n",
       "region                                                                       \n",
       "1              21            21              21          21             21   \n",
       "2              25            25              25          25             25   \n",
       "3              36            36              36          36             36   \n",
       "4              17            17              17          17             17   \n",
       "\n",
       "        graduates  work_force  income  crime_rate  \n",
       "region                                             \n",
       "1              21          21      21          21  \n",
       "2              25          25      25          25  \n",
       "3              36          36      36          36  \n",
       "4              17          17      17          17  "
      ]
     },
     "execution_count": 24,
     "metadata": {},
     "output_type": "execute_result"
    }
   ],
   "source": [
    "df1 = data.groupby('region').count()\n",
    "df1"
   ]
  },
  {
   "cell_type": "code",
   "execution_count": 25,
   "metadata": {
    "colab": {
     "base_uri": "https://localhost:8080/",
     "height": 203
    },
    "colab_type": "code",
    "id": "ahhapg2AVmcB",
    "outputId": "e68a19d0-44e5-421f-9c91-850d5acd5527"
   },
   "outputs": [
    {
     "data": {
      "text/html": [
       "<div>\n",
       "<style scoped>\n",
       "    .dataframe tbody tr th:only-of-type {\n",
       "        vertical-align: middle;\n",
       "    }\n",
       "\n",
       "    .dataframe tbody tr th {\n",
       "        vertical-align: top;\n",
       "    }\n",
       "\n",
       "    .dataframe thead th {\n",
       "        text-align: right;\n",
       "    }\n",
       "</style>\n",
       "<table border=\"1\" class=\"dataframe\">\n",
       "  <thead>\n",
       "    <tr style=\"text-align: right;\">\n",
       "      <th></th>\n",
       "      <th>land_area</th>\n",
       "    </tr>\n",
       "    <tr>\n",
       "      <th>region</th>\n",
       "      <th></th>\n",
       "    </tr>\n",
       "  </thead>\n",
       "  <tbody>\n",
       "    <tr>\n",
       "      <th>1</th>\n",
       "      <td>21</td>\n",
       "    </tr>\n",
       "    <tr>\n",
       "      <th>2</th>\n",
       "      <td>25</td>\n",
       "    </tr>\n",
       "    <tr>\n",
       "      <th>3</th>\n",
       "      <td>36</td>\n",
       "    </tr>\n",
       "    <tr>\n",
       "      <th>4</th>\n",
       "      <td>17</td>\n",
       "    </tr>\n",
       "  </tbody>\n",
       "</table>\n",
       "</div>"
      ],
      "text/plain": [
       "        land_area\n",
       "region           \n",
       "1              21\n",
       "2              25\n",
       "3              36\n",
       "4              17"
      ]
     },
     "execution_count": 25,
     "metadata": {},
     "output_type": "execute_result"
    }
   ],
   "source": [
    "df = df1[['land_area']]\n",
    "df"
   ]
  },
  {
   "cell_type": "code",
   "execution_count": 26,
   "metadata": {
    "colab": {
     "base_uri": "https://localhost:8080/",
     "height": 312
    },
    "colab_type": "code",
    "id": "7FC_KpWyU-ZM",
    "outputId": "ed65c2f8-3f5a-4911-ca63-aae42783713e"
   },
   "outputs": [
    {
     "data": {
      "text/plain": [
       "Text(0, 0.5, 'Frequency')"
      ]
     },
     "execution_count": 26,
     "metadata": {},
     "output_type": "execute_result"
    },
    {
     "data": {
      "image/png": "[encoded data removed]",
      "text/plain": [
       "<Figure size 432x288 with 1 Axes>"
      ]
     },
     "metadata": {
      "needs_background": "light"
     },
     "output_type": "display_data"
    }
   ],
   "source": [
    "ax = sns.barplot(df.index, df.land_area)\n",
    "ax.set_title(\"Geographic Region according to US census\")\n",
    "ax.set_xlabel(\"Geographic Region\")\n",
    "ax.set_ylabel(\"Frequency\")"
   ]
  },
  {
   "cell_type": "markdown",
   "metadata": {
    "colab_type": "text",
    "id": "Idhgqazx7tjE"
   },
   "source": [
    "We have obtained the exact same plot as option c. Thus, **option c is correct.**"
   ]
  },
  {
   "cell_type": "markdown",
   "metadata": {
    "colab_type": "text",
    "id": "gX8YquIZs7Km"
   },
   "source": [
    "**Question 10:**\n",
    "\n",
    "Which of the following is showing the correct distribution of income of the Metropolitan areas?\n",
    "\n",
    "Select one:\n",
    "\n",
    "Option a:\n",
    "\n",
    " ![Option a](https://dphi.tech/wp-content/uploads/2020/06/q9o1.png)\n",
    "\n",
    "Option b:\n",
    "\n",
    " ![Option b](https://dphi.tech/wp-content/uploads/2020/06/q9o3.png)\n",
    "\n",
    "\n",
    "Option c:\n",
    "\n",
    " ![Option c](https://dphi.tech/wp-content/uploads/2020/06/q9o2.png)"
   ]
  },
  {
   "cell_type": "markdown",
   "metadata": {
    "colab_type": "text",
    "id": "T2PAXl2qs9a_"
   },
   "source": [
    "**Answer 10:**\n",
    "\n",
    "From the options, we understand that the question requires us to plot a histogram for income. We can do that with Matplotlib's hist function."
   ]
  },
  {
   "cell_type": "code",
   "execution_count": 27,
   "metadata": {
    "colab": {
     "base_uri": "https://localhost:8080/",
     "height": 312
    },
    "colab_type": "code",
    "id": "aNOhvaHEs_L1",
    "outputId": "4d4f8193-009b-4054-e6fc-67fce83a7091"
   },
   "outputs": [
    {
     "data": {
      "text/plain": [
       "[]"
      ]
     },
     "execution_count": 27,
     "metadata": {},
     "output_type": "execute_result"
    },
    {
     "data": {
      "image/png": "[encoded data removed]",
      "text/plain": [
       "<Figure size 432x288 with 1 Axes>"
      ]
     },
     "metadata": {
      "needs_background": "light"
     },
     "output_type": "display_data"
    }
   ],
   "source": [
    "plt.hist(data.income)\n",
    "plt.title('Total income in 1976 in millions of dollars')\n",
    "plt.xlabel('Income')\n",
    "plt.ylabel('Frequency')\n",
    "plt.plot()"
   ]
  },
  {
   "cell_type": "markdown",
   "metadata": {
    "colab_type": "text",
    "id": "d7gI2dRp9a0O"
   },
   "source": [
    "We have obtained the exact same plot as a. Thus, **option a is correct.**"
   ]
  },
  {
   "cell_type": "markdown",
   "metadata": {
    "colab_type": "text",
    "id": "Wum5d9wVBSr6"
   },
   "source": [
    "And that's it with all the questions of the assignment! If you faced some difficulties in solving those, going through this article might be helpful.\n",
    "\n",
    "https://www.learndatasci.com/tutorials/python-pandas-tutorial-complete-introduction-for-beginners/"
   ]
  }
 ],
 "metadata": {
  "colab": {
   "collapsed_sections": [],
   "name": "Assignment1_Solutions-Absolute Beginners, Beginners.ipynb",
   "provenance": []
  },
  "kernelspec": {
   "display_name": "Python 3",
   "language": "python",
   "name": "python3"
  },
  "language_info": {
   "codemirror_mode": {
    "name": "ipython",
    "version": 3
   },
   "file_extension": ".py",
   "mimetype": "text/x-python",
   "name": "python",
   "nbconvert_exporter": "python",
   "pygments_lexer": "ipython3",
   "version": "3.7.3"
  }
 },
 "nbformat": 4,
 "nbformat_minor": 1
}
