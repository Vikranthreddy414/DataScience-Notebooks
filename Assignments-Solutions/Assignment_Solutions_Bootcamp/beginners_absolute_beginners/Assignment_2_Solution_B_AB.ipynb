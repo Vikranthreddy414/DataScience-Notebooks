{
 "cells": [
  {
   "cell_type": "markdown",
   "metadata": {
    "colab_type": "text",
    "id": "GYVdrbbgDX-r"
   },
   "source": [
    "# Assignment - 2 : Solution\n",
    "#### (Absolute Beginners and Beginners)"
   ]
  },
  {
   "cell_type": "markdown",
   "metadata": {
    "colab_type": "text",
    "id": "8XkANxZ7CUNA"
   },
   "source": [
    "This is the second assignment of the DPhi Data Science Bootcamp and revolves around Exploratory Data Analysis on Titanic Dataset\n"
   ]
  },
  {
   "cell_type": "code",
   "execution_count": null,
   "metadata": {
    "colab": {
     "base_uri": "https://localhost:8080/",
     "height": 71
    },
    "colab_type": "code",
    "executionInfo": {
     "elapsed": 1350,
     "status": "ok",
     "timestamp": 1595430237161,
     "user": {
      "displayName": "MANISH K C",
      "photoUrl": "https://lh3.googleusercontent.com/a-/AOh14GiIsRSBYK9Tz7-DVHI2lbsmwM3ouYPXomwNoeYgXw=s64",
      "userId": "06594214124721445123"
     },
     "user_tz": -330
    },
    "id": "dqIlDVxDkN7g",
    "outputId": "f4ee385f-81eb-4144-c32d-46c435a49b18"
   },
   "outputs": [
    {
     "name": "stderr",
     "output_type": "stream",
     "text": [
      "/usr/local/lib/python3.6/dist-packages/statsmodels/tools/_testing.py:19: FutureWarning: pandas.util.testing is deprecated. Use the functions in the public API at pandas.testing instead.\n",
      "  import pandas.util.testing as tm\n"
     ]
    }
   ],
   "source": [
    "# Loading Libraries\n",
    "import numpy as np\n",
    "import pandas as pd\n",
    "import matplotlib.pyplot as plt\n",
    "import seaborn as sns"
   ]
  },
  {
   "cell_type": "code",
   "execution_count": null,
   "metadata": {
    "colab": {},
    "colab_type": "code",
    "id": "rEU6zkF2ktX_"
   },
   "outputs": [],
   "source": [
    "# Loading Data\n",
    "titanic_data = pd.read_csv(\"https://raw.githubusercontent.com/dphi-official/First_ML_Model/master/titanic.csv\", index_col = 'PassengerId')"
   ]
  },
  {
   "cell_type": "markdown",
   "metadata": {
    "colab_type": "text",
    "id": "0wqfeYNrCyhr"
   },
   "source": [
    "**Question 1**\n",
    "\n",
    "Select the correct statement about the titanic dataset.\n",
    "1. 'Fare' feature have 0 missing values\n",
    "2. Male passengers are more than female passengers in count\n",
    "\n",
    "Correct answer: 1 and 2"
   ]
  },
  {
   "cell_type": "markdown",
   "metadata": {
    "colab_type": "text",
    "id": "Yg0tyoTyC7vb"
   },
   "source": [
    "**Solution Code:**"
   ]
  },
  {
   "cell_type": "code",
   "execution_count": null,
   "metadata": {
    "colab": {
     "base_uri": "https://localhost:8080/",
     "height": 221
    },
    "colab_type": "code",
    "executionInfo": {
     "elapsed": 1458,
     "status": "ok",
     "timestamp": 1595430331934,
     "user": {
      "displayName": "MANISH K C",
      "photoUrl": "https://lh3.googleusercontent.com/a-/AOh14GiIsRSBYK9Tz7-DVHI2lbsmwM3ouYPXomwNoeYgXw=s64",
      "userId": "06594214124721445123"
     },
     "user_tz": -330
    },
    "id": "7iJH3YqIDQ1V",
    "outputId": "f8a3579a-3570-4b29-f351-8f4686b7e903"
   },
   "outputs": [
    {
     "data": {
      "text/plain": [
       "Survived      0\n",
       "Pclass        0\n",
       "Name          0\n",
       "Sex           0\n",
       "Age         177\n",
       "SibSp         0\n",
       "Parch         0\n",
       "Ticket        0\n",
       "Fare          0\n",
       "Cabin       687\n",
       "Embarked      2\n",
       "dtype: int64"
      ]
     },
     "execution_count": 4,
     "metadata": {
      "tags": []
     },
     "output_type": "execute_result"
    }
   ],
   "source": [
    "# For option 1: Checking missing values\n",
    "titanic_data.isnull().sum()    # returns you the number of missing values in each column"
   ]
  },
  {
   "cell_type": "code",
   "execution_count": null,
   "metadata": {
    "colab": {
     "base_uri": "https://localhost:8080/",
     "height": 68
    },
    "colab_type": "code",
    "executionInfo": {
     "elapsed": 771,
     "status": "ok",
     "timestamp": 1595430358391,
     "user": {
      "displayName": "MANISH K C",
      "photoUrl": "https://lh3.googleusercontent.com/a-/AOh14GiIsRSBYK9Tz7-DVHI2lbsmwM3ouYPXomwNoeYgXw=s64",
      "userId": "06594214124721445123"
     },
     "user_tz": -330
    },
    "id": "Z11qGz9CowVR",
    "outputId": "41e558c4-9f1a-4239-ea8a-52459f9e1caa"
   },
   "outputs": [
    {
     "data": {
      "text/plain": [
       "male      577\n",
       "female    314\n",
       "Name: Sex, dtype: int64"
      ]
     },
     "execution_count": 5,
     "metadata": {
      "tags": []
     },
     "output_type": "execute_result"
    }
   ],
   "source": [
    "# For option 2: Count the male and female passengers on titanic\n",
    "titanic_data.Sex.value_counts()    # value counts helps you to count the frequency of each category in a column."
   ]
  },
  {
   "cell_type": "markdown",
   "metadata": {
    "colab_type": "text",
    "id": "y5PszXWlD6Bt"
   },
   "source": [
    "**Question 2:** \n",
    "\n",
    "What is the proportion of passengers who survived?\n",
    "Note: in this question, we are asking for an answer as a proportion. Therefore, your answer should take a value between 0 and 1 rounded to 2 decimal places\n",
    "1. 0.38\n",
    "2. 0.39\n",
    "3. 0.39\n",
    "4. 0.40\n",
    "\n",
    "Correct answer: 1"
   ]
  },
  {
   "cell_type": "markdown",
   "metadata": {
    "colab_type": "text",
    "id": "gWi9eDHLEIs6"
   },
   "source": [
    "**Solution Code:**"
   ]
  },
  {
   "cell_type": "code",
   "execution_count": null,
   "metadata": {
    "colab": {
     "base_uri": "https://localhost:8080/",
     "height": 34
    },
    "colab_type": "code",
    "executionInfo": {
     "elapsed": 3661,
     "status": "ok",
     "timestamp": 1595430645711,
     "user": {
      "displayName": "MANISH K C",
      "photoUrl": "https://lh3.googleusercontent.com/a-/AOh14GiIsRSBYK9Tz7-DVHI2lbsmwM3ouYPXomwNoeYgXw=s64",
      "userId": "06594214124721445123"
     },
     "user_tz": -330
    },
    "id": "6dFlsdgusQP5",
    "outputId": "82b646b5-f92b-49ea-d55e-2df3007c6010"
   },
   "outputs": [
    {
     "data": {
      "text/plain": [
       "0.38"
      ]
     },
     "execution_count": 6,
     "metadata": {
      "tags": []
     },
     "output_type": "execute_result"
    }
   ],
   "source": [
    "# First get all the passengers who survived, it's code is [titanic_data.survived == 1]\n",
    "survived_passengers = titanic_data[titanic_data.Survived == 1]\n",
    "\n",
    "# To get proportion of it divide survived_passengers count by total passengers on titanic\n",
    "surv_pass_prop = len(survived_passengers) / len(titanic_data)\n",
    "\n",
    "# round the value to two decimal places \n",
    "round(surv_pass_prop, 2)"
   ]
  },
  {
   "cell_type": "markdown",
   "metadata": {
    "colab_type": "text",
    "id": "2nKxm3qYSRB1"
   },
   "source": [
    "**Question 3:** \n",
    "\n",
    "What is the median Fare of the passengers?   \n",
    "**Note:** Write your answer upto 4 decimal places\n",
    "1. 14.4542   \n",
    "2. 13.4542\n",
    "3. 32.2042\n",
    "4. None\n",
    "\n",
    "Correct answer: 1"
   ]
  },
  {
   "cell_type": "code",
   "execution_count": null,
   "metadata": {
    "colab": {
     "base_uri": "https://localhost:8080/",
     "height": 34
    },
    "colab_type": "code",
    "executionInfo": {
     "elapsed": 748,
     "status": "ok",
     "timestamp": 1592048650946,
     "user": {
      "displayName": "Gunnika Batra",
      "photoUrl": "https://lh3.googleusercontent.com/a-/AOh14GhD4lWZDz6I-lHZF4jEaJokQ16gtMHJ0zOIffDs07I=s64",
      "userId": "16381728115728630745"
     },
     "user_tz": -330
    },
    "id": "_BhNSvvItoZ1",
    "outputId": "c0439855-4360-4150-e31c-7a8fa25dab36"
   },
   "outputs": [
    {
     "data": {
      "text/plain": [
       "14.4542"
      ]
     },
     "execution_count": 9,
     "metadata": {
      "tags": []
     },
     "output_type": "execute_result"
    }
   ],
   "source": [
    "# Method 1: Sort the values in the column 'Fare' and find the value at mid position\n",
    "fares = titanic_data.Fare.sort_values().values\n",
    "l = len(fares)\n",
    "fares[l//2]"
   ]
  },
  {
   "cell_type": "code",
   "execution_count": null,
   "metadata": {
    "colab": {
     "base_uri": "https://localhost:8080/",
     "height": 34
    },
    "colab_type": "code",
    "executionInfo": {
     "elapsed": 1190,
     "status": "ok",
     "timestamp": 1595435023117,
     "user": {
      "displayName": "MANISH K C",
      "photoUrl": "https://lh3.googleusercontent.com/a-/AOh14GiIsRSBYK9Tz7-DVHI2lbsmwM3ouYPXomwNoeYgXw=s64",
      "userId": "06594214124721445123"
     },
     "user_tz": -330
    },
    "id": "zujHtSTGtj3Z",
    "outputId": "574ccc51-7e4a-4331-bc1e-459d83a8cf51"
   },
   "outputs": [
    {
     "data": {
      "text/plain": [
       "14.4542"
      ]
     },
     "execution_count": 7,
     "metadata": {
      "tags": []
     },
     "output_type": "execute_result"
    }
   ],
   "source": [
    "# Method 2: Get the second quantile value (or 50th percentile value)\n",
    "titanic_data.Fare.quantile(0.5)"
   ]
  },
  {
   "cell_type": "markdown",
   "metadata": {
    "colab_type": "text",
    "id": "hkYh2acIVeyU"
   },
   "source": [
    "**Question 4**\n",
    "\n",
    "Select the true statements: (one or more correct)\n",
    "1. Percentage of women survived was more than percentage of men survived\n",
    "2. It looks like first class passengers were given priority to survive\n",
    "3. It looks like Children were given priority to survive\n",
    "\n",
    "Correct answer: all of the above"
   ]
  },
  {
   "cell_type": "code",
   "execution_count": null,
   "metadata": {
    "colab": {
     "base_uri": "https://localhost:8080/",
     "height": 170
    },
    "colab_type": "code",
    "executionInfo": {
     "elapsed": 1317,
     "status": "ok",
     "timestamp": 1595435355929,
     "user": {
      "displayName": "MANISH K C",
      "photoUrl": "https://lh3.googleusercontent.com/a-/AOh14GiIsRSBYK9Tz7-DVHI2lbsmwM3ouYPXomwNoeYgXw=s64",
      "userId": "06594214124721445123"
     },
     "user_tz": -330
    },
    "id": "SuCzaoASu_W2",
    "outputId": "fa1ffb51-b245-4a8d-d476-6129066103c3"
   },
   "outputs": [
    {
     "name": "stdout",
     "output_type": "stream",
     "text": [
      "% of men who survived 18.890814558058924\n",
      "% of women who survived 74.20382165605095\n",
      "**********\n",
      "% of passengers who survived in first class 62.96296296296296\n",
      "% of passengers who survived in first class 47.28260869565217\n",
      "% of passengers who survived in third class 24.236252545824847\n",
      "**********\n",
      "% of children who survived 53.98230088495575\n",
      "% of adults who survived 38.10316139767055\n"
     ]
    }
   ],
   "source": [
    "# For option 1: Check the percentage of male who survived and percentage of female who survived\n",
    "print('% of men who survived', 100*np.mean(titanic_data['Survived'][titanic_data['Sex'] == 'male']))       # % of male survived\n",
    "print('% of women who survived', 100*np.mean(titanic_data['Survived'][titanic_data['Sex'] == 'female']))   # % of female survived\n",
    "print('*'*10)\n",
    "\n",
    "# For option 2: Check the percentage of people survived in each class\n",
    "print('% of passengers who survived in first class', 100*np.mean(titanic_data['Survived'][titanic_data['Pclass'] == 1]))    # % of first class passengers survived\n",
    "print('% of passengers who survived in first class', 100*np.mean(titanic_data['Survived'][titanic_data['Pclass'] == 2]))  # % of second class passengers survived\n",
    "print('% of passengers who survived in third class', 100*np.mean(titanic_data['Survived'][titanic_data['Pclass'] == 3]))  # % of third class passengers survived \n",
    "print('*'*10)\n",
    "\n",
    "# For option 3: Check if percentage of passengers below age 18 survived survived more than other age category\n",
    "print('% of children who survived', 100*np.mean(titanic_data['Survived'][titanic_data['Age'] < 18])) # % of passengers below age 18 survived\n",
    "print('% of adults who survived', 100*np.mean(titanic_data['Survived'][titanic_data['Age'] >= 18]))  # % of passengers greater than or equal to age 18 survived"
   ]
  },
  {
   "cell_type": "markdown",
   "metadata": {
    "colab_type": "text",
    "id": "n1v_CSgmW56g"
   },
   "source": [
    "1. % of women survived is more than men\n",
    "2. % of 1st class passengers survived more than othe two classes. Hence first class passengers were given more priority\n",
    "3. % of passengers below age 18 survived more than other age"
   ]
  },
  {
   "cell_type": "markdown",
   "metadata": {
    "colab_type": "text",
    "id": "TPq8TbHuXYd-"
   },
   "source": [
    "**Question 5** \n",
    "\n",
    "Create a subset of the data, only taking observations for which the passsenger survived. Call this newly created dataset as survived_passengers. How many of the survived passengers had embarked from 'Southampton' i.e. 'S'?\n",
    "1. 217       \n",
    "2. 644\n",
    "3. 168\n",
    "4. 77\n",
    "\n",
    "Correct answer: 1"
   ]
  },
  {
   "cell_type": "code",
   "execution_count": null,
   "metadata": {
    "colab": {
     "base_uri": "https://localhost:8080/",
     "height": 86
    },
    "colab_type": "code",
    "executionInfo": {
     "elapsed": 1116,
     "status": "ok",
     "timestamp": 1592049443506,
     "user": {
      "displayName": "Gunnika Batra",
      "photoUrl": "https://lh3.googleusercontent.com/a-/AOh14GhD4lWZDz6I-lHZF4jEaJokQ16gtMHJ0zOIffDs07I=s64",
      "userId": "16381728115728630745"
     },
     "user_tz": -330
    },
    "id": "wG8n7RgaqPmp",
    "outputId": "b4548d4a-220d-4219-a689-246c8da90500"
   },
   "outputs": [
    {
     "data": {
      "text/plain": [
       "S    217\n",
       "C     93\n",
       "Q     30\n",
       "Name: Embarked, dtype: int64"
      ]
     },
     "execution_count": 13,
     "metadata": {
      "tags": []
     },
     "output_type": "execute_result"
    }
   ],
   "source": [
    "# First get the passengers who survived \n",
    "survived_passengers = titanic_data[titanic_data.Survived == 1]\n",
    "\n",
    "# count the passenger embarked from each port using value_counts()\n",
    "survived_passengers.Embarked.value_counts()"
   ]
  },
  {
   "cell_type": "markdown",
   "metadata": {
    "colab_type": "text",
    "id": "SP4y1bcwXyl4"
   },
   "source": [
    "**Question 6:** \n",
    "\n",
    "Which of the following feature plays an important role in the survival of the passengers?\n",
    "1. Name\n",
    "2. Ticket\n",
    "3. Age\n",
    "\n",
    "Correct answer: 3\n"
   ]
  },
  {
   "cell_type": "markdown",
   "metadata": {
    "colab_type": "text",
    "id": "UUIKY7G6X6dv"
   },
   "source": [
    "Answer : The answer to question 6 is intuition based. \n",
    "\n",
    "Not any people can be given priority to survive just on the basis of name. So option 1 is not correct\n",
    "\n",
    "Ticket is a randomly generated value while booking. This cannot be a factor for a person to be given priority to survive.\n",
    "\n",
    "We have already seen above that the people below age 18 has more number of survival than people age above 18. So age plays an important role in the survival of people."
   ]
  },
  {
   "cell_type": "markdown",
   "metadata": {
    "colab_type": "text",
    "id": "GKvG2bQfY2f2"
   },
   "source": [
    "**Question 7:** \n",
    "\n",
    "Five highest fares of the passengers:\n",
    "1. [512.3292, 512.3292, 512.3292, 263.0, 263.0]\n",
    "2. [510.3292, 512.3292, 512.3292, 263.0, 263.0]\n",
    "3. [512.3292, 512.3292, 512.3292, 263.0, 256.0]\n",
    "4. [512.3292, 520.3292, 512.3292, 263.0, 263.0]\n",
    "\n",
    "Correct answer: 1"
   ]
  },
  {
   "cell_type": "code",
   "execution_count": null,
   "metadata": {
    "colab": {
     "base_uri": "https://localhost:8080/",
     "height": 34
    },
    "colab_type": "code",
    "executionInfo": {
     "elapsed": 2307,
     "status": "ok",
     "timestamp": 1595435936433,
     "user": {
      "displayName": "MANISH K C",
      "photoUrl": "https://lh3.googleusercontent.com/a-/AOh14GiIsRSBYK9Tz7-DVHI2lbsmwM3ouYPXomwNoeYgXw=s64",
      "userId": "06594214124721445123"
     },
     "user_tz": -330
    },
    "id": "IT4E9LU-0MOn",
    "outputId": "3557bfaa-1cd9-4421-b1bc-9ee7e3976ca9"
   },
   "outputs": [
    {
     "data": {
      "text/plain": [
       "[512.3292, 512.3292, 512.3292, 263.0, 263.0]"
      ]
     },
     "execution_count": 9,
     "metadata": {
      "tags": []
     },
     "output_type": "execute_result"
    }
   ],
   "source": [
    "# sort the values in fare in descending order and get the first five values\n",
    "list(titanic_data.Fare.sort_values(ascending = False))[:5]"
   ]
  },
  {
   "cell_type": "markdown",
   "metadata": {
    "colab_type": "text",
    "id": "h1BARfwDZnQk"
   },
   "source": [
    "**Question 8:** \n",
    "\n",
    "Median age of the passenger is:\n",
    "1. 28.0\n",
    "2. 29.0\n",
    "3. 27.0\n",
    "4. 30.0\n",
    "\n",
    "Correct answer:1 "
   ]
  },
  {
   "cell_type": "code",
   "execution_count": null,
   "metadata": {
    "colab": {
     "base_uri": "https://localhost:8080/",
     "height": 34
    },
    "colab_type": "code",
    "executionInfo": {
     "elapsed": 1251,
     "status": "ok",
     "timestamp": 1592328924098,
     "user": {
      "displayName": "MANISH K C",
      "photoUrl": "https://lh3.googleusercontent.com/a-/AOh14GiIsRSBYK9Tz7-DVHI2lbsmwM3ouYPXomwNoeYgXw=s64",
      "userId": "06594214124721445123"
     },
     "user_tz": -330
    },
    "id": "0qZiTHyKMvwc",
    "outputId": "fc6f7ba8-0da0-4bd3-dd26-8b0a9fad8973"
   },
   "outputs": [
    {
     "data": {
      "text/plain": [
       "28.0"
      ]
     },
     "execution_count": 6,
     "metadata": {
      "tags": []
     },
     "output_type": "execute_result"
    }
   ],
   "source": [
    "# Method 1\n",
    "titanic_data.Age.median()"
   ]
  },
  {
   "cell_type": "code",
   "execution_count": null,
   "metadata": {
    "colab": {
     "base_uri": "https://localhost:8080/",
     "height": 34
    },
    "colab_type": "code",
    "executionInfo": {
     "elapsed": 996,
     "status": "ok",
     "timestamp": 1592328747723,
     "user": {
      "displayName": "MANISH K C",
      "photoUrl": "https://lh3.googleusercontent.com/a-/AOh14GiIsRSBYK9Tz7-DVHI2lbsmwM3ouYPXomwNoeYgXw=s64",
      "userId": "06594214124721445123"
     },
     "user_tz": -330
    },
    "id": "iY1LXwXeL2PR",
    "outputId": "39e3c383-f5b7-4b40-b734-836bde13e218"
   },
   "outputs": [
    {
     "data": {
      "text/plain": [
       "28.0"
      ]
     },
     "execution_count": 5,
     "metadata": {
      "tags": []
     },
     "output_type": "execute_result"
    }
   ],
   "source": [
    "# Method 2: If you have column with missing values and you want the median value, never use np.median() as it will give you 'nan'.\n",
    "# Always use np.nanmedian() this will give you correct median value\n",
    "np.nanmedian(titanic_data.Age)"
   ]
  },
  {
   "cell_type": "markdown",
   "metadata": {
    "colab_type": "text",
    "id": "2L9BNKcAZzbP"
   },
   "source": [
    "**Question 9:** \n",
    "\n",
    "Select the correct statement:\n",
    "1. There are 891 unique values in the Name column  \n",
    "2. There are 714 unique values in the Name column\n",
    "\n",
    "Correct answer: 1"
   ]
  },
  {
   "cell_type": "code",
   "execution_count": null,
   "metadata": {
    "colab": {
     "base_uri": "https://localhost:8080/",
     "height": 34
    },
    "colab_type": "code",
    "executionInfo": {
     "elapsed": 2573,
     "status": "ok",
     "timestamp": 1595436192636,
     "user": {
      "displayName": "MANISH K C",
      "photoUrl": "https://lh3.googleusercontent.com/a-/AOh14GiIsRSBYK9Tz7-DVHI2lbsmwM3ouYPXomwNoeYgXw=s64",
      "userId": "06594214124721445123"
     },
     "user_tz": -330
    },
    "id": "bd8djugY2a1Z",
    "outputId": "db4eabb6-1517-412c-c303-85b0c6f7eb3c"
   },
   "outputs": [
    {
     "data": {
      "text/plain": [
       "891"
      ]
     },
     "execution_count": 10,
     "metadata": {
      "tags": []
     },
     "output_type": "execute_result"
    }
   ],
   "source": [
    "# Get all the unique values in Name column using unique() method and then get the length of that unique values\n",
    "len(titanic_data.Name.unique())"
   ]
  },
  {
   "cell_type": "markdown",
   "metadata": {
    "colab_type": "text",
    "id": "KzofrerFaIm9"
   },
   "source": [
    "**Question 10:** \n",
    "\n",
    "Most of the passengers have -------- siblings/spouses.\n",
    "1. 5\n",
    "2. 1\n",
    "3. 0   \n",
    "4. 209\n",
    "5. 8\n",
    "\n",
    "Correct answer: 3"
   ]
  },
  {
   "cell_type": "code",
   "execution_count": null,
   "metadata": {
    "colab": {
     "base_uri": "https://localhost:8080/",
     "height": 153
    },
    "colab_type": "code",
    "executionInfo": {
     "elapsed": 1354,
     "status": "ok",
     "timestamp": 1595436282342,
     "user": {
      "displayName": "MANISH K C",
      "photoUrl": "https://lh3.googleusercontent.com/a-/AOh14GiIsRSBYK9Tz7-DVHI2lbsmwM3ouYPXomwNoeYgXw=s64",
      "userId": "06594214124721445123"
     },
     "user_tz": -330
    },
    "id": "i9DG4CJH2yMD",
    "outputId": "3785f05d-636c-4706-d85c-50d4e63dd254"
   },
   "outputs": [
    {
     "data": {
      "text/plain": [
       "0    608\n",
       "1    209\n",
       "2     28\n",
       "4     18\n",
       "3     16\n",
       "8      7\n",
       "5      5\n",
       "Name: SibSp, dtype: int64"
      ]
     },
     "execution_count": 11,
     "metadata": {
      "tags": []
     },
     "output_type": "execute_result"
    }
   ],
   "source": [
    "# use value_counts method on the column 'SibSp' as it helps you to get the number of occurrence of each value in a column.\n",
    "titanic_data.SibSp.value_counts()"
   ]
  }
 ],
 "metadata": {
  "colab": {
   "collapsed_sections": [],
   "name": "Assignment_2_Solution_B&AB.ipynb",
   "provenance": []
  },
  "kernelspec": {
   "display_name": "Python 3",
   "language": "python",
   "name": "python3"
  },
  "language_info": {
   "codemirror_mode": {
    "name": "ipython",
    "version": 3
   },
   "file_extension": ".py",
   "mimetype": "text/x-python",
   "name": "python",
   "nbconvert_exporter": "python",
   "pygments_lexer": "ipython3",
   "version": "3.7.3"
  }
 },
 "nbformat": 4,
 "nbformat_minor": 1
}
